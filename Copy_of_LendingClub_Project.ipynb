{
  "nbformat": 4,
  "nbformat_minor": 0,
  "metadata": {
    "colab": {
      "name": "Copy of LendingClub_Project.ipynb",
      "provenance": [],
      "collapsed_sections": [],
      "include_colab_link": true
    },
    "kernelspec": {
      "name": "python3",
      "display_name": "Python 3"
    }
  },
  "cells": [
    {
      "cell_type": "markdown",
      "metadata": {
        "id": "view-in-github",
        "colab_type": "text"
      },
      "source": [
        "<a href=\"https://colab.research.google.com/github/ddv246/DSBA-Project/blob/master/Copy_of_LendingClub_Project.ipynb\" target=\"_parent\"><img src=\"https://colab.research.google.com/assets/colab-badge.svg\" alt=\"Open In Colab\"/></a>"
      ]
    },
    {
      "cell_type": "markdown",
      "metadata": {
        "id": "RlN3YrxuKjIy",
        "colab_type": "text"
      },
      "source": [
        ""
      ]
    },
    {
      "cell_type": "code",
      "metadata": {
        "id": "4elDrmHa7Xuw",
        "colab_type": "code",
        "outputId": "e0feb004-beec-47bd-b7b1-62af2e54b1af",
        "colab": {
          "base_uri": "https://localhost:8080/",
          "height": 136
        }
      },
      "source": [
        "#If opening in colab run this cell\n",
        "!git clone https://github.com/ddv246/Lending-Club\n",
        "%cd Lending-Club"
      ],
      "execution_count": 200,
      "outputs": [
        {
          "output_type": "stream",
          "text": [
            "Cloning into 'Lending-Club'...\n",
            "remote: Enumerating objects: 12, done.\u001b[K\n",
            "remote: Counting objects:   8% (1/12)\u001b[K\rremote: Counting objects:  16% (2/12)\u001b[K\rremote: Counting objects:  25% (3/12)\u001b[K\rremote: Counting objects:  33% (4/12)\u001b[K\rremote: Counting objects:  41% (5/12)\u001b[K\rremote: Counting objects:  50% (6/12)\u001b[K\rremote: Counting objects:  58% (7/12)\u001b[K\rremote: Counting objects:  66% (8/12)\u001b[K\rremote: Counting objects:  75% (9/12)\u001b[K\rremote: Counting objects:  83% (10/12)\u001b[K\rremote: Counting objects:  91% (11/12)\u001b[K\rremote: Counting objects: 100% (12/12)\u001b[K\rremote: Counting objects: 100% (12/12), done.\u001b[K\n",
            "remote: Compressing objects:   9% (1/11)\u001b[K\rremote: Compressing objects:  18% (2/11)\u001b[K\rremote: Compressing objects:  27% (3/11)\u001b[K\rremote: Compressing objects:  36% (4/11)\u001b[K\rremote: Compressing objects:  45% (5/11)\u001b[K\rremote: Compressing objects:  54% (6/11)\u001b[K\rremote: Compressing objects:  63% (7/11)\u001b[K\rremote: Compressing objects:  72% (8/11)\u001b[K\rremote: Compressing objects:  81% (9/11)\u001b[K\rremote: Compressing objects:  90% (10/11)\u001b[K\rremote: Compressing objects: 100% (11/11)\u001b[K\rremote: Compressing objects: 100% (11/11), done.\u001b[K\n",
            "remote: Total 12 (delta 2), reused 2 (delta 0), pack-reused 0\u001b[K\n",
            "Unpacking objects: 100% (12/12), done.\n",
            "/content/Lending-Club/Lending-Club/Lending-Club/Lending-Club/Lending-Club\n"
          ],
          "name": "stdout"
        }
      ]
    },
    {
      "cell_type": "code",
      "metadata": {
        "id": "7TQX_rfrmhKB",
        "colab_type": "code",
        "colab": {}
      },
      "source": [
        "import pandas as pd\n",
        "import numpy as np\n",
        "import matplotlib.pyplot as plt\n",
        "import seaborn as sns\n",
        "sns.set_style('whitegrid')\n",
        "import warnings\n",
        "import gc\n",
        "warnings.simplefilter(action='ignore', category=FutureWarning)\n",
        "warnings.simplefilter(action='ignore', category=DeprecationWarning)\n",
        "%matplotlib inline"
      ],
      "execution_count": 0,
      "outputs": []
    },
    {
      "cell_type": "markdown",
      "metadata": {
        "id": "Ql6rvq-xn52K",
        "colab_type": "text"
      },
      "source": [
        "## **Loading the Data**"
      ]
    },
    {
      "cell_type": "code",
      "metadata": {
        "id": "3mnaX_TinlmR",
        "colab_type": "code",
        "colab": {}
      },
      "source": [
        "start_df = pd.read_csv('Loansample.csv', low_memory=False)"
      ],
      "execution_count": 0,
      "outputs": []
    },
    {
      "cell_type": "code",
      "metadata": {
        "id": "fAYxE-1cnu1_",
        "colab_type": "code",
        "outputId": "a2c8e54a-5d27-4fc9-c0b5-dfa764187b63",
        "colab": {
          "base_uri": "https://localhost:8080/",
          "height": 338
        }
      },
      "source": [
        "df = start_df.copy(deep=True)\n",
        "df.head()"
      ],
      "execution_count": 203,
      "outputs": [
        {
          "output_type": "execute_result",
          "data": {
            "text/html": [
              "<div>\n",
              "<style scoped>\n",
              "    .dataframe tbody tr th:only-of-type {\n",
              "        vertical-align: middle;\n",
              "    }\n",
              "\n",
              "    .dataframe tbody tr th {\n",
              "        vertical-align: top;\n",
              "    }\n",
              "\n",
              "    .dataframe thead th {\n",
              "        text-align: right;\n",
              "    }\n",
              "</style>\n",
              "<table border=\"1\" class=\"dataframe\">\n",
              "  <thead>\n",
              "    <tr style=\"text-align: right;\">\n",
              "      <th></th>\n",
              "      <th>id</th>\n",
              "      <th>member_id</th>\n",
              "      <th>loan_amnt</th>\n",
              "      <th>funded_amnt</th>\n",
              "      <th>funded_amnt_inv</th>\n",
              "      <th>term</th>\n",
              "      <th>int_rate</th>\n",
              "      <th>installment</th>\n",
              "      <th>grade</th>\n",
              "      <th>sub_grade</th>\n",
              "      <th>emp_title</th>\n",
              "      <th>emp_length</th>\n",
              "      <th>home_ownership</th>\n",
              "      <th>annual_inc</th>\n",
              "      <th>verification_status</th>\n",
              "      <th>issue_d</th>\n",
              "      <th>loan_status</th>\n",
              "      <th>pymnt_plan</th>\n",
              "      <th>url</th>\n",
              "      <th>desc</th>\n",
              "      <th>purpose</th>\n",
              "      <th>title</th>\n",
              "      <th>zip_code</th>\n",
              "      <th>addr_state</th>\n",
              "      <th>dti</th>\n",
              "      <th>delinq_2yrs</th>\n",
              "      <th>earliest_cr_line</th>\n",
              "      <th>inq_last_6mths</th>\n",
              "      <th>mths_since_last_delinq</th>\n",
              "      <th>mths_since_last_record</th>\n",
              "      <th>open_acc</th>\n",
              "      <th>pub_rec</th>\n",
              "      <th>revol_bal</th>\n",
              "      <th>revol_util</th>\n",
              "      <th>total_acc</th>\n",
              "      <th>initial_list_status</th>\n",
              "      <th>out_prncp</th>\n",
              "      <th>out_prncp_inv</th>\n",
              "      <th>total_pymnt</th>\n",
              "      <th>total_pymnt_inv</th>\n",
              "      <th>...</th>\n",
              "      <th>pub_rec_bankruptcies</th>\n",
              "      <th>tax_liens</th>\n",
              "      <th>tot_hi_cred_lim</th>\n",
              "      <th>total_bal_ex_mort</th>\n",
              "      <th>total_bc_limit</th>\n",
              "      <th>total_il_high_credit_limit</th>\n",
              "      <th>revol_bal_joint</th>\n",
              "      <th>sec_app_earliest_cr_line</th>\n",
              "      <th>sec_app_inq_last_6mths</th>\n",
              "      <th>sec_app_mort_acc</th>\n",
              "      <th>sec_app_open_acc</th>\n",
              "      <th>sec_app_revol_util</th>\n",
              "      <th>sec_app_open_act_il</th>\n",
              "      <th>sec_app_num_rev_accts</th>\n",
              "      <th>sec_app_chargeoff_within_12_mths</th>\n",
              "      <th>sec_app_collections_12_mths_ex_med</th>\n",
              "      <th>sec_app_mths_since_last_major_derog</th>\n",
              "      <th>hardship_flag</th>\n",
              "      <th>hardship_type</th>\n",
              "      <th>hardship_reason</th>\n",
              "      <th>hardship_status</th>\n",
              "      <th>deferral_term</th>\n",
              "      <th>hardship_amount</th>\n",
              "      <th>hardship_start_date</th>\n",
              "      <th>hardship_end_date</th>\n",
              "      <th>payment_plan_start_date</th>\n",
              "      <th>hardship_length</th>\n",
              "      <th>hardship_dpd</th>\n",
              "      <th>hardship_loan_status</th>\n",
              "      <th>orig_projected_additional_accrued_interest</th>\n",
              "      <th>hardship_payoff_balance_amount</th>\n",
              "      <th>hardship_last_payment_amount</th>\n",
              "      <th>disbursement_method</th>\n",
              "      <th>debt_settlement_flag</th>\n",
              "      <th>debt_settlement_flag_date</th>\n",
              "      <th>settlement_status</th>\n",
              "      <th>settlement_date</th>\n",
              "      <th>settlement_amount</th>\n",
              "      <th>settlement_percentage</th>\n",
              "      <th>settlement_term</th>\n",
              "    </tr>\n",
              "  </thead>\n",
              "  <tbody>\n",
              "    <tr>\n",
              "      <th>0</th>\n",
              "      <td>NaN</td>\n",
              "      <td>NaN</td>\n",
              "      <td>2500</td>\n",
              "      <td>2500</td>\n",
              "      <td>2500</td>\n",
              "      <td>36 months</td>\n",
              "      <td>13.56</td>\n",
              "      <td>84.92</td>\n",
              "      <td>C</td>\n",
              "      <td>C1</td>\n",
              "      <td>Chef</td>\n",
              "      <td>10+ years</td>\n",
              "      <td>RENT</td>\n",
              "      <td>55000.0</td>\n",
              "      <td>Not Verified</td>\n",
              "      <td>Dec-2018</td>\n",
              "      <td>Current</td>\n",
              "      <td>n</td>\n",
              "      <td>NaN</td>\n",
              "      <td>NaN</td>\n",
              "      <td>debt_consolidation</td>\n",
              "      <td>Debt consolidation</td>\n",
              "      <td>109xx</td>\n",
              "      <td>NY</td>\n",
              "      <td>18.24</td>\n",
              "      <td>0</td>\n",
              "      <td>Apr-2001</td>\n",
              "      <td>1</td>\n",
              "      <td>NaN</td>\n",
              "      <td>45.0</td>\n",
              "      <td>9</td>\n",
              "      <td>1</td>\n",
              "      <td>4341</td>\n",
              "      <td>10.3</td>\n",
              "      <td>34</td>\n",
              "      <td>w</td>\n",
              "      <td>2386.02</td>\n",
              "      <td>2386.02</td>\n",
              "      <td>167.02</td>\n",
              "      <td>167.02</td>\n",
              "      <td>...</td>\n",
              "      <td>1</td>\n",
              "      <td>0</td>\n",
              "      <td>60124</td>\n",
              "      <td>16901</td>\n",
              "      <td>36500</td>\n",
              "      <td>18124</td>\n",
              "      <td>NaN</td>\n",
              "      <td>NaN</td>\n",
              "      <td>NaN</td>\n",
              "      <td>NaN</td>\n",
              "      <td>NaN</td>\n",
              "      <td>NaN</td>\n",
              "      <td>NaN</td>\n",
              "      <td>NaN</td>\n",
              "      <td>NaN</td>\n",
              "      <td>NaN</td>\n",
              "      <td>NaN</td>\n",
              "      <td>N</td>\n",
              "      <td>NaN</td>\n",
              "      <td>NaN</td>\n",
              "      <td>NaN</td>\n",
              "      <td>NaN</td>\n",
              "      <td>NaN</td>\n",
              "      <td>NaN</td>\n",
              "      <td>NaN</td>\n",
              "      <td>NaN</td>\n",
              "      <td>NaN</td>\n",
              "      <td>NaN</td>\n",
              "      <td>NaN</td>\n",
              "      <td>NaN</td>\n",
              "      <td>NaN</td>\n",
              "      <td>NaN</td>\n",
              "      <td>Cash</td>\n",
              "      <td>N</td>\n",
              "      <td>NaN</td>\n",
              "      <td>NaN</td>\n",
              "      <td>NaN</td>\n",
              "      <td>NaN</td>\n",
              "      <td>NaN</td>\n",
              "      <td>NaN</td>\n",
              "    </tr>\n",
              "    <tr>\n",
              "      <th>1</th>\n",
              "      <td>NaN</td>\n",
              "      <td>NaN</td>\n",
              "      <td>30000</td>\n",
              "      <td>30000</td>\n",
              "      <td>30000</td>\n",
              "      <td>60 months</td>\n",
              "      <td>18.94</td>\n",
              "      <td>777.23</td>\n",
              "      <td>D</td>\n",
              "      <td>D2</td>\n",
              "      <td>Postmaster</td>\n",
              "      <td>10+ years</td>\n",
              "      <td>MORTGAGE</td>\n",
              "      <td>90000.0</td>\n",
              "      <td>Source Verified</td>\n",
              "      <td>Dec-2018</td>\n",
              "      <td>Current</td>\n",
              "      <td>n</td>\n",
              "      <td>NaN</td>\n",
              "      <td>NaN</td>\n",
              "      <td>debt_consolidation</td>\n",
              "      <td>Debt consolidation</td>\n",
              "      <td>713xx</td>\n",
              "      <td>LA</td>\n",
              "      <td>26.52</td>\n",
              "      <td>0</td>\n",
              "      <td>Jun-1987</td>\n",
              "      <td>0</td>\n",
              "      <td>71.0</td>\n",
              "      <td>75.0</td>\n",
              "      <td>13</td>\n",
              "      <td>1</td>\n",
              "      <td>12315</td>\n",
              "      <td>24.2</td>\n",
              "      <td>44</td>\n",
              "      <td>w</td>\n",
              "      <td>29387.75</td>\n",
              "      <td>29387.75</td>\n",
              "      <td>1507.11</td>\n",
              "      <td>1507.11</td>\n",
              "      <td>...</td>\n",
              "      <td>1</td>\n",
              "      <td>0</td>\n",
              "      <td>372872</td>\n",
              "      <td>99468</td>\n",
              "      <td>15000</td>\n",
              "      <td>94072</td>\n",
              "      <td>NaN</td>\n",
              "      <td>NaN</td>\n",
              "      <td>NaN</td>\n",
              "      <td>NaN</td>\n",
              "      <td>NaN</td>\n",
              "      <td>NaN</td>\n",
              "      <td>NaN</td>\n",
              "      <td>NaN</td>\n",
              "      <td>NaN</td>\n",
              "      <td>NaN</td>\n",
              "      <td>NaN</td>\n",
              "      <td>N</td>\n",
              "      <td>NaN</td>\n",
              "      <td>NaN</td>\n",
              "      <td>NaN</td>\n",
              "      <td>NaN</td>\n",
              "      <td>NaN</td>\n",
              "      <td>NaN</td>\n",
              "      <td>NaN</td>\n",
              "      <td>NaN</td>\n",
              "      <td>NaN</td>\n",
              "      <td>NaN</td>\n",
              "      <td>NaN</td>\n",
              "      <td>NaN</td>\n",
              "      <td>NaN</td>\n",
              "      <td>NaN</td>\n",
              "      <td>Cash</td>\n",
              "      <td>N</td>\n",
              "      <td>NaN</td>\n",
              "      <td>NaN</td>\n",
              "      <td>NaN</td>\n",
              "      <td>NaN</td>\n",
              "      <td>NaN</td>\n",
              "      <td>NaN</td>\n",
              "    </tr>\n",
              "    <tr>\n",
              "      <th>2</th>\n",
              "      <td>NaN</td>\n",
              "      <td>NaN</td>\n",
              "      <td>5000</td>\n",
              "      <td>5000</td>\n",
              "      <td>5000</td>\n",
              "      <td>36 months</td>\n",
              "      <td>17.97</td>\n",
              "      <td>180.69</td>\n",
              "      <td>D</td>\n",
              "      <td>D1</td>\n",
              "      <td>Administrative</td>\n",
              "      <td>6 years</td>\n",
              "      <td>MORTGAGE</td>\n",
              "      <td>59280.0</td>\n",
              "      <td>Source Verified</td>\n",
              "      <td>Dec-2018</td>\n",
              "      <td>Current</td>\n",
              "      <td>n</td>\n",
              "      <td>NaN</td>\n",
              "      <td>NaN</td>\n",
              "      <td>debt_consolidation</td>\n",
              "      <td>Debt consolidation</td>\n",
              "      <td>490xx</td>\n",
              "      <td>MI</td>\n",
              "      <td>10.51</td>\n",
              "      <td>0</td>\n",
              "      <td>Apr-2011</td>\n",
              "      <td>0</td>\n",
              "      <td>NaN</td>\n",
              "      <td>NaN</td>\n",
              "      <td>8</td>\n",
              "      <td>0</td>\n",
              "      <td>4599</td>\n",
              "      <td>19.1</td>\n",
              "      <td>13</td>\n",
              "      <td>w</td>\n",
              "      <td>4787.21</td>\n",
              "      <td>4787.21</td>\n",
              "      <td>353.89</td>\n",
              "      <td>353.89</td>\n",
              "      <td>...</td>\n",
              "      <td>0</td>\n",
              "      <td>0</td>\n",
              "      <td>136927</td>\n",
              "      <td>11749</td>\n",
              "      <td>13800</td>\n",
              "      <td>10000</td>\n",
              "      <td>NaN</td>\n",
              "      <td>NaN</td>\n",
              "      <td>NaN</td>\n",
              "      <td>NaN</td>\n",
              "      <td>NaN</td>\n",
              "      <td>NaN</td>\n",
              "      <td>NaN</td>\n",
              "      <td>NaN</td>\n",
              "      <td>NaN</td>\n",
              "      <td>NaN</td>\n",
              "      <td>NaN</td>\n",
              "      <td>N</td>\n",
              "      <td>NaN</td>\n",
              "      <td>NaN</td>\n",
              "      <td>NaN</td>\n",
              "      <td>NaN</td>\n",
              "      <td>NaN</td>\n",
              "      <td>NaN</td>\n",
              "      <td>NaN</td>\n",
              "      <td>NaN</td>\n",
              "      <td>NaN</td>\n",
              "      <td>NaN</td>\n",
              "      <td>NaN</td>\n",
              "      <td>NaN</td>\n",
              "      <td>NaN</td>\n",
              "      <td>NaN</td>\n",
              "      <td>Cash</td>\n",
              "      <td>N</td>\n",
              "      <td>NaN</td>\n",
              "      <td>NaN</td>\n",
              "      <td>NaN</td>\n",
              "      <td>NaN</td>\n",
              "      <td>NaN</td>\n",
              "      <td>NaN</td>\n",
              "    </tr>\n",
              "    <tr>\n",
              "      <th>3</th>\n",
              "      <td>NaN</td>\n",
              "      <td>NaN</td>\n",
              "      <td>4000</td>\n",
              "      <td>4000</td>\n",
              "      <td>4000</td>\n",
              "      <td>36 months</td>\n",
              "      <td>18.94</td>\n",
              "      <td>146.51</td>\n",
              "      <td>D</td>\n",
              "      <td>D2</td>\n",
              "      <td>IT Supervisor</td>\n",
              "      <td>10+ years</td>\n",
              "      <td>MORTGAGE</td>\n",
              "      <td>92000.0</td>\n",
              "      <td>Source Verified</td>\n",
              "      <td>Dec-2018</td>\n",
              "      <td>Current</td>\n",
              "      <td>n</td>\n",
              "      <td>NaN</td>\n",
              "      <td>NaN</td>\n",
              "      <td>debt_consolidation</td>\n",
              "      <td>Debt consolidation</td>\n",
              "      <td>985xx</td>\n",
              "      <td>WA</td>\n",
              "      <td>16.74</td>\n",
              "      <td>0</td>\n",
              "      <td>Feb-2006</td>\n",
              "      <td>0</td>\n",
              "      <td>NaN</td>\n",
              "      <td>NaN</td>\n",
              "      <td>10</td>\n",
              "      <td>0</td>\n",
              "      <td>5468</td>\n",
              "      <td>78.1</td>\n",
              "      <td>13</td>\n",
              "      <td>w</td>\n",
              "      <td>3831.93</td>\n",
              "      <td>3831.93</td>\n",
              "      <td>286.71</td>\n",
              "      <td>286.71</td>\n",
              "      <td>...</td>\n",
              "      <td>0</td>\n",
              "      <td>0</td>\n",
              "      <td>385183</td>\n",
              "      <td>36151</td>\n",
              "      <td>5000</td>\n",
              "      <td>44984</td>\n",
              "      <td>NaN</td>\n",
              "      <td>NaN</td>\n",
              "      <td>NaN</td>\n",
              "      <td>NaN</td>\n",
              "      <td>NaN</td>\n",
              "      <td>NaN</td>\n",
              "      <td>NaN</td>\n",
              "      <td>NaN</td>\n",
              "      <td>NaN</td>\n",
              "      <td>NaN</td>\n",
              "      <td>NaN</td>\n",
              "      <td>N</td>\n",
              "      <td>NaN</td>\n",
              "      <td>NaN</td>\n",
              "      <td>NaN</td>\n",
              "      <td>NaN</td>\n",
              "      <td>NaN</td>\n",
              "      <td>NaN</td>\n",
              "      <td>NaN</td>\n",
              "      <td>NaN</td>\n",
              "      <td>NaN</td>\n",
              "      <td>NaN</td>\n",
              "      <td>NaN</td>\n",
              "      <td>NaN</td>\n",
              "      <td>NaN</td>\n",
              "      <td>NaN</td>\n",
              "      <td>Cash</td>\n",
              "      <td>N</td>\n",
              "      <td>NaN</td>\n",
              "      <td>NaN</td>\n",
              "      <td>NaN</td>\n",
              "      <td>NaN</td>\n",
              "      <td>NaN</td>\n",
              "      <td>NaN</td>\n",
              "    </tr>\n",
              "    <tr>\n",
              "      <th>4</th>\n",
              "      <td>NaN</td>\n",
              "      <td>NaN</td>\n",
              "      <td>30000</td>\n",
              "      <td>30000</td>\n",
              "      <td>30000</td>\n",
              "      <td>60 months</td>\n",
              "      <td>16.14</td>\n",
              "      <td>731.78</td>\n",
              "      <td>C</td>\n",
              "      <td>C4</td>\n",
              "      <td>Mechanic</td>\n",
              "      <td>10+ years</td>\n",
              "      <td>MORTGAGE</td>\n",
              "      <td>57250.0</td>\n",
              "      <td>Not Verified</td>\n",
              "      <td>Dec-2018</td>\n",
              "      <td>Current</td>\n",
              "      <td>n</td>\n",
              "      <td>NaN</td>\n",
              "      <td>NaN</td>\n",
              "      <td>debt_consolidation</td>\n",
              "      <td>Debt consolidation</td>\n",
              "      <td>212xx</td>\n",
              "      <td>MD</td>\n",
              "      <td>26.35</td>\n",
              "      <td>0</td>\n",
              "      <td>Dec-2000</td>\n",
              "      <td>0</td>\n",
              "      <td>NaN</td>\n",
              "      <td>NaN</td>\n",
              "      <td>12</td>\n",
              "      <td>0</td>\n",
              "      <td>829</td>\n",
              "      <td>3.6</td>\n",
              "      <td>26</td>\n",
              "      <td>w</td>\n",
              "      <td>29339.02</td>\n",
              "      <td>29339.02</td>\n",
              "      <td>1423.21</td>\n",
              "      <td>1423.21</td>\n",
              "      <td>...</td>\n",
              "      <td>0</td>\n",
              "      <td>0</td>\n",
              "      <td>157548</td>\n",
              "      <td>29674</td>\n",
              "      <td>9300</td>\n",
              "      <td>32332</td>\n",
              "      <td>NaN</td>\n",
              "      <td>NaN</td>\n",
              "      <td>NaN</td>\n",
              "      <td>NaN</td>\n",
              "      <td>NaN</td>\n",
              "      <td>NaN</td>\n",
              "      <td>NaN</td>\n",
              "      <td>NaN</td>\n",
              "      <td>NaN</td>\n",
              "      <td>NaN</td>\n",
              "      <td>NaN</td>\n",
              "      <td>N</td>\n",
              "      <td>NaN</td>\n",
              "      <td>NaN</td>\n",
              "      <td>NaN</td>\n",
              "      <td>NaN</td>\n",
              "      <td>NaN</td>\n",
              "      <td>NaN</td>\n",
              "      <td>NaN</td>\n",
              "      <td>NaN</td>\n",
              "      <td>NaN</td>\n",
              "      <td>NaN</td>\n",
              "      <td>NaN</td>\n",
              "      <td>NaN</td>\n",
              "      <td>NaN</td>\n",
              "      <td>NaN</td>\n",
              "      <td>Cash</td>\n",
              "      <td>N</td>\n",
              "      <td>NaN</td>\n",
              "      <td>NaN</td>\n",
              "      <td>NaN</td>\n",
              "      <td>NaN</td>\n",
              "      <td>NaN</td>\n",
              "      <td>NaN</td>\n",
              "    </tr>\n",
              "  </tbody>\n",
              "</table>\n",
              "<p>5 rows × 145 columns</p>\n",
              "</div>"
            ],
            "text/plain": [
              "   id  member_id  ...  settlement_percentage  settlement_term\n",
              "0 NaN        NaN  ...                    NaN              NaN\n",
              "1 NaN        NaN  ...                    NaN              NaN\n",
              "2 NaN        NaN  ...                    NaN              NaN\n",
              "3 NaN        NaN  ...                    NaN              NaN\n",
              "4 NaN        NaN  ...                    NaN              NaN\n",
              "\n",
              "[5 rows x 145 columns]"
            ]
          },
          "metadata": {
            "tags": []
          },
          "execution_count": 203
        }
      ]
    },
    {
      "cell_type": "markdown",
      "metadata": {
        "id": "M-z0NgtmoGEP",
        "colab_type": "text"
      },
      "source": [
        "Checking Dimensions\n"
      ]
    },
    {
      "cell_type": "code",
      "metadata": {
        "id": "q06KmChZn0r9",
        "colab_type": "code",
        "outputId": "ff84e6dc-5ed9-48c9-e22e-a3b4bb0fa493",
        "colab": {
          "base_uri": "https://localhost:8080/",
          "height": 34
        }
      },
      "source": [
        "df.shape"
      ],
      "execution_count": 204,
      "outputs": [
        {
          "output_type": "execute_result",
          "data": {
            "text/plain": [
              "(99999, 145)"
            ]
          },
          "metadata": {
            "tags": []
          },
          "execution_count": 204
        }
      ]
    },
    {
      "cell_type": "markdown",
      "metadata": {
        "id": "go0dJleloNRJ",
        "colab_type": "text"
      },
      "source": [
        "Understanding columns in the Dataframe"
      ]
    },
    {
      "cell_type": "code",
      "metadata": {
        "id": "keFIyM4ioI29",
        "colab_type": "code",
        "outputId": "625088bc-87c3-4817-da81-6c0b60fd51a7",
        "colab": {
          "base_uri": "https://localhost:8080/",
          "height": 153
        }
      },
      "source": [
        "df.columns"
      ],
      "execution_count": 205,
      "outputs": [
        {
          "output_type": "execute_result",
          "data": {
            "text/plain": [
              "Index(['id', 'member_id', 'loan_amnt', 'funded_amnt', 'funded_amnt_inv',\n",
              "       'term', 'int_rate', 'installment', 'grade', 'sub_grade',\n",
              "       ...\n",
              "       'hardship_payoff_balance_amount', 'hardship_last_payment_amount',\n",
              "       'disbursement_method', 'debt_settlement_flag',\n",
              "       'debt_settlement_flag_date', 'settlement_status', 'settlement_date',\n",
              "       'settlement_amount', 'settlement_percentage', 'settlement_term'],\n",
              "      dtype='object', length=145)"
            ]
          },
          "metadata": {
            "tags": []
          },
          "execution_count": 205
        }
      ]
    },
    {
      "cell_type": "markdown",
      "metadata": {
        "id": "6OPHgUgmoYPO",
        "colab_type": "text"
      },
      "source": [
        "## **Understanding the Data**"
      ]
    },
    {
      "cell_type": "markdown",
      "metadata": {
        "id": "7LeG1YJZodtG",
        "colab_type": "text"
      },
      "source": [
        "Description of various columns in the dataset"
      ]
    },
    {
      "cell_type": "code",
      "metadata": {
        "id": "3G17B6vNoTyj",
        "colab_type": "code",
        "outputId": "465ad557-bcc1-436c-bf31-d2cb2f39f70a",
        "colab": {
          "base_uri": "https://localhost:8080/",
          "height": 1000
        }
      },
      "source": [
        "df_description = pd.read_excel('LCDataDictionary (1).xlsx').dropna()\n",
        "df_description.style.set_properties(subset=['Description'], **{'width': '1000px'})"
      ],
      "execution_count": 206,
      "outputs": [
        {
          "output_type": "execute_result",
          "data": {
            "text/html": [
              "<style  type=\"text/css\" >\n",
              "    #T_3ab49472_834f_11ea_a2f1_0242ac1c0002row0_col1 {\n",
              "            width:  1000px;\n",
              "        }    #T_3ab49472_834f_11ea_a2f1_0242ac1c0002row1_col1 {\n",
              "            width:  1000px;\n",
              "        }    #T_3ab49472_834f_11ea_a2f1_0242ac1c0002row2_col1 {\n",
              "            width:  1000px;\n",
              "        }    #T_3ab49472_834f_11ea_a2f1_0242ac1c0002row3_col1 {\n",
              "            width:  1000px;\n",
              "        }    #T_3ab49472_834f_11ea_a2f1_0242ac1c0002row4_col1 {\n",
              "            width:  1000px;\n",
              "        }    #T_3ab49472_834f_11ea_a2f1_0242ac1c0002row5_col1 {\n",
              "            width:  1000px;\n",
              "        }    #T_3ab49472_834f_11ea_a2f1_0242ac1c0002row6_col1 {\n",
              "            width:  1000px;\n",
              "        }    #T_3ab49472_834f_11ea_a2f1_0242ac1c0002row7_col1 {\n",
              "            width:  1000px;\n",
              "        }    #T_3ab49472_834f_11ea_a2f1_0242ac1c0002row8_col1 {\n",
              "            width:  1000px;\n",
              "        }    #T_3ab49472_834f_11ea_a2f1_0242ac1c0002row9_col1 {\n",
              "            width:  1000px;\n",
              "        }    #T_3ab49472_834f_11ea_a2f1_0242ac1c0002row10_col1 {\n",
              "            width:  1000px;\n",
              "        }    #T_3ab49472_834f_11ea_a2f1_0242ac1c0002row11_col1 {\n",
              "            width:  1000px;\n",
              "        }    #T_3ab49472_834f_11ea_a2f1_0242ac1c0002row12_col1 {\n",
              "            width:  1000px;\n",
              "        }    #T_3ab49472_834f_11ea_a2f1_0242ac1c0002row13_col1 {\n",
              "            width:  1000px;\n",
              "        }    #T_3ab49472_834f_11ea_a2f1_0242ac1c0002row14_col1 {\n",
              "            width:  1000px;\n",
              "        }    #T_3ab49472_834f_11ea_a2f1_0242ac1c0002row15_col1 {\n",
              "            width:  1000px;\n",
              "        }    #T_3ab49472_834f_11ea_a2f1_0242ac1c0002row16_col1 {\n",
              "            width:  1000px;\n",
              "        }    #T_3ab49472_834f_11ea_a2f1_0242ac1c0002row17_col1 {\n",
              "            width:  1000px;\n",
              "        }    #T_3ab49472_834f_11ea_a2f1_0242ac1c0002row18_col1 {\n",
              "            width:  1000px;\n",
              "        }    #T_3ab49472_834f_11ea_a2f1_0242ac1c0002row19_col1 {\n",
              "            width:  1000px;\n",
              "        }    #T_3ab49472_834f_11ea_a2f1_0242ac1c0002row20_col1 {\n",
              "            width:  1000px;\n",
              "        }    #T_3ab49472_834f_11ea_a2f1_0242ac1c0002row21_col1 {\n",
              "            width:  1000px;\n",
              "        }    #T_3ab49472_834f_11ea_a2f1_0242ac1c0002row22_col1 {\n",
              "            width:  1000px;\n",
              "        }    #T_3ab49472_834f_11ea_a2f1_0242ac1c0002row23_col1 {\n",
              "            width:  1000px;\n",
              "        }    #T_3ab49472_834f_11ea_a2f1_0242ac1c0002row24_col1 {\n",
              "            width:  1000px;\n",
              "        }    #T_3ab49472_834f_11ea_a2f1_0242ac1c0002row25_col1 {\n",
              "            width:  1000px;\n",
              "        }    #T_3ab49472_834f_11ea_a2f1_0242ac1c0002row26_col1 {\n",
              "            width:  1000px;\n",
              "        }    #T_3ab49472_834f_11ea_a2f1_0242ac1c0002row27_col1 {\n",
              "            width:  1000px;\n",
              "        }    #T_3ab49472_834f_11ea_a2f1_0242ac1c0002row28_col1 {\n",
              "            width:  1000px;\n",
              "        }    #T_3ab49472_834f_11ea_a2f1_0242ac1c0002row29_col1 {\n",
              "            width:  1000px;\n",
              "        }    #T_3ab49472_834f_11ea_a2f1_0242ac1c0002row30_col1 {\n",
              "            width:  1000px;\n",
              "        }    #T_3ab49472_834f_11ea_a2f1_0242ac1c0002row31_col1 {\n",
              "            width:  1000px;\n",
              "        }    #T_3ab49472_834f_11ea_a2f1_0242ac1c0002row32_col1 {\n",
              "            width:  1000px;\n",
              "        }    #T_3ab49472_834f_11ea_a2f1_0242ac1c0002row33_col1 {\n",
              "            width:  1000px;\n",
              "        }    #T_3ab49472_834f_11ea_a2f1_0242ac1c0002row34_col1 {\n",
              "            width:  1000px;\n",
              "        }    #T_3ab49472_834f_11ea_a2f1_0242ac1c0002row35_col1 {\n",
              "            width:  1000px;\n",
              "        }    #T_3ab49472_834f_11ea_a2f1_0242ac1c0002row36_col1 {\n",
              "            width:  1000px;\n",
              "        }    #T_3ab49472_834f_11ea_a2f1_0242ac1c0002row37_col1 {\n",
              "            width:  1000px;\n",
              "        }    #T_3ab49472_834f_11ea_a2f1_0242ac1c0002row38_col1 {\n",
              "            width:  1000px;\n",
              "        }    #T_3ab49472_834f_11ea_a2f1_0242ac1c0002row39_col1 {\n",
              "            width:  1000px;\n",
              "        }    #T_3ab49472_834f_11ea_a2f1_0242ac1c0002row40_col1 {\n",
              "            width:  1000px;\n",
              "        }    #T_3ab49472_834f_11ea_a2f1_0242ac1c0002row41_col1 {\n",
              "            width:  1000px;\n",
              "        }    #T_3ab49472_834f_11ea_a2f1_0242ac1c0002row42_col1 {\n",
              "            width:  1000px;\n",
              "        }    #T_3ab49472_834f_11ea_a2f1_0242ac1c0002row43_col1 {\n",
              "            width:  1000px;\n",
              "        }    #T_3ab49472_834f_11ea_a2f1_0242ac1c0002row44_col1 {\n",
              "            width:  1000px;\n",
              "        }    #T_3ab49472_834f_11ea_a2f1_0242ac1c0002row45_col1 {\n",
              "            width:  1000px;\n",
              "        }    #T_3ab49472_834f_11ea_a2f1_0242ac1c0002row46_col1 {\n",
              "            width:  1000px;\n",
              "        }    #T_3ab49472_834f_11ea_a2f1_0242ac1c0002row47_col1 {\n",
              "            width:  1000px;\n",
              "        }    #T_3ab49472_834f_11ea_a2f1_0242ac1c0002row48_col1 {\n",
              "            width:  1000px;\n",
              "        }    #T_3ab49472_834f_11ea_a2f1_0242ac1c0002row49_col1 {\n",
              "            width:  1000px;\n",
              "        }    #T_3ab49472_834f_11ea_a2f1_0242ac1c0002row50_col1 {\n",
              "            width:  1000px;\n",
              "        }    #T_3ab49472_834f_11ea_a2f1_0242ac1c0002row51_col1 {\n",
              "            width:  1000px;\n",
              "        }    #T_3ab49472_834f_11ea_a2f1_0242ac1c0002row52_col1 {\n",
              "            width:  1000px;\n",
              "        }    #T_3ab49472_834f_11ea_a2f1_0242ac1c0002row53_col1 {\n",
              "            width:  1000px;\n",
              "        }    #T_3ab49472_834f_11ea_a2f1_0242ac1c0002row54_col1 {\n",
              "            width:  1000px;\n",
              "        }    #T_3ab49472_834f_11ea_a2f1_0242ac1c0002row55_col1 {\n",
              "            width:  1000px;\n",
              "        }    #T_3ab49472_834f_11ea_a2f1_0242ac1c0002row56_col1 {\n",
              "            width:  1000px;\n",
              "        }    #T_3ab49472_834f_11ea_a2f1_0242ac1c0002row57_col1 {\n",
              "            width:  1000px;\n",
              "        }    #T_3ab49472_834f_11ea_a2f1_0242ac1c0002row58_col1 {\n",
              "            width:  1000px;\n",
              "        }    #T_3ab49472_834f_11ea_a2f1_0242ac1c0002row59_col1 {\n",
              "            width:  1000px;\n",
              "        }    #T_3ab49472_834f_11ea_a2f1_0242ac1c0002row60_col1 {\n",
              "            width:  1000px;\n",
              "        }    #T_3ab49472_834f_11ea_a2f1_0242ac1c0002row61_col1 {\n",
              "            width:  1000px;\n",
              "        }    #T_3ab49472_834f_11ea_a2f1_0242ac1c0002row62_col1 {\n",
              "            width:  1000px;\n",
              "        }    #T_3ab49472_834f_11ea_a2f1_0242ac1c0002row63_col1 {\n",
              "            width:  1000px;\n",
              "        }    #T_3ab49472_834f_11ea_a2f1_0242ac1c0002row64_col1 {\n",
              "            width:  1000px;\n",
              "        }    #T_3ab49472_834f_11ea_a2f1_0242ac1c0002row65_col1 {\n",
              "            width:  1000px;\n",
              "        }    #T_3ab49472_834f_11ea_a2f1_0242ac1c0002row66_col1 {\n",
              "            width:  1000px;\n",
              "        }    #T_3ab49472_834f_11ea_a2f1_0242ac1c0002row67_col1 {\n",
              "            width:  1000px;\n",
              "        }    #T_3ab49472_834f_11ea_a2f1_0242ac1c0002row68_col1 {\n",
              "            width:  1000px;\n",
              "        }    #T_3ab49472_834f_11ea_a2f1_0242ac1c0002row69_col1 {\n",
              "            width:  1000px;\n",
              "        }    #T_3ab49472_834f_11ea_a2f1_0242ac1c0002row70_col1 {\n",
              "            width:  1000px;\n",
              "        }    #T_3ab49472_834f_11ea_a2f1_0242ac1c0002row71_col1 {\n",
              "            width:  1000px;\n",
              "        }    #T_3ab49472_834f_11ea_a2f1_0242ac1c0002row72_col1 {\n",
              "            width:  1000px;\n",
              "        }    #T_3ab49472_834f_11ea_a2f1_0242ac1c0002row73_col1 {\n",
              "            width:  1000px;\n",
              "        }    #T_3ab49472_834f_11ea_a2f1_0242ac1c0002row74_col1 {\n",
              "            width:  1000px;\n",
              "        }    #T_3ab49472_834f_11ea_a2f1_0242ac1c0002row75_col1 {\n",
              "            width:  1000px;\n",
              "        }    #T_3ab49472_834f_11ea_a2f1_0242ac1c0002row76_col1 {\n",
              "            width:  1000px;\n",
              "        }    #T_3ab49472_834f_11ea_a2f1_0242ac1c0002row77_col1 {\n",
              "            width:  1000px;\n",
              "        }    #T_3ab49472_834f_11ea_a2f1_0242ac1c0002row78_col1 {\n",
              "            width:  1000px;\n",
              "        }    #T_3ab49472_834f_11ea_a2f1_0242ac1c0002row79_col1 {\n",
              "            width:  1000px;\n",
              "        }    #T_3ab49472_834f_11ea_a2f1_0242ac1c0002row80_col1 {\n",
              "            width:  1000px;\n",
              "        }    #T_3ab49472_834f_11ea_a2f1_0242ac1c0002row81_col1 {\n",
              "            width:  1000px;\n",
              "        }    #T_3ab49472_834f_11ea_a2f1_0242ac1c0002row82_col1 {\n",
              "            width:  1000px;\n",
              "        }    #T_3ab49472_834f_11ea_a2f1_0242ac1c0002row83_col1 {\n",
              "            width:  1000px;\n",
              "        }    #T_3ab49472_834f_11ea_a2f1_0242ac1c0002row84_col1 {\n",
              "            width:  1000px;\n",
              "        }    #T_3ab49472_834f_11ea_a2f1_0242ac1c0002row85_col1 {\n",
              "            width:  1000px;\n",
              "        }    #T_3ab49472_834f_11ea_a2f1_0242ac1c0002row86_col1 {\n",
              "            width:  1000px;\n",
              "        }    #T_3ab49472_834f_11ea_a2f1_0242ac1c0002row87_col1 {\n",
              "            width:  1000px;\n",
              "        }    #T_3ab49472_834f_11ea_a2f1_0242ac1c0002row88_col1 {\n",
              "            width:  1000px;\n",
              "        }    #T_3ab49472_834f_11ea_a2f1_0242ac1c0002row89_col1 {\n",
              "            width:  1000px;\n",
              "        }    #T_3ab49472_834f_11ea_a2f1_0242ac1c0002row90_col1 {\n",
              "            width:  1000px;\n",
              "        }    #T_3ab49472_834f_11ea_a2f1_0242ac1c0002row91_col1 {\n",
              "            width:  1000px;\n",
              "        }    #T_3ab49472_834f_11ea_a2f1_0242ac1c0002row92_col1 {\n",
              "            width:  1000px;\n",
              "        }    #T_3ab49472_834f_11ea_a2f1_0242ac1c0002row93_col1 {\n",
              "            width:  1000px;\n",
              "        }    #T_3ab49472_834f_11ea_a2f1_0242ac1c0002row94_col1 {\n",
              "            width:  1000px;\n",
              "        }    #T_3ab49472_834f_11ea_a2f1_0242ac1c0002row95_col1 {\n",
              "            width:  1000px;\n",
              "        }    #T_3ab49472_834f_11ea_a2f1_0242ac1c0002row96_col1 {\n",
              "            width:  1000px;\n",
              "        }    #T_3ab49472_834f_11ea_a2f1_0242ac1c0002row97_col1 {\n",
              "            width:  1000px;\n",
              "        }    #T_3ab49472_834f_11ea_a2f1_0242ac1c0002row98_col1 {\n",
              "            width:  1000px;\n",
              "        }    #T_3ab49472_834f_11ea_a2f1_0242ac1c0002row99_col1 {\n",
              "            width:  1000px;\n",
              "        }    #T_3ab49472_834f_11ea_a2f1_0242ac1c0002row100_col1 {\n",
              "            width:  1000px;\n",
              "        }    #T_3ab49472_834f_11ea_a2f1_0242ac1c0002row101_col1 {\n",
              "            width:  1000px;\n",
              "        }    #T_3ab49472_834f_11ea_a2f1_0242ac1c0002row102_col1 {\n",
              "            width:  1000px;\n",
              "        }    #T_3ab49472_834f_11ea_a2f1_0242ac1c0002row103_col1 {\n",
              "            width:  1000px;\n",
              "        }    #T_3ab49472_834f_11ea_a2f1_0242ac1c0002row104_col1 {\n",
              "            width:  1000px;\n",
              "        }    #T_3ab49472_834f_11ea_a2f1_0242ac1c0002row105_col1 {\n",
              "            width:  1000px;\n",
              "        }    #T_3ab49472_834f_11ea_a2f1_0242ac1c0002row106_col1 {\n",
              "            width:  1000px;\n",
              "        }    #T_3ab49472_834f_11ea_a2f1_0242ac1c0002row107_col1 {\n",
              "            width:  1000px;\n",
              "        }    #T_3ab49472_834f_11ea_a2f1_0242ac1c0002row108_col1 {\n",
              "            width:  1000px;\n",
              "        }    #T_3ab49472_834f_11ea_a2f1_0242ac1c0002row109_col1 {\n",
              "            width:  1000px;\n",
              "        }    #T_3ab49472_834f_11ea_a2f1_0242ac1c0002row110_col1 {\n",
              "            width:  1000px;\n",
              "        }    #T_3ab49472_834f_11ea_a2f1_0242ac1c0002row111_col1 {\n",
              "            width:  1000px;\n",
              "        }    #T_3ab49472_834f_11ea_a2f1_0242ac1c0002row112_col1 {\n",
              "            width:  1000px;\n",
              "        }    #T_3ab49472_834f_11ea_a2f1_0242ac1c0002row113_col1 {\n",
              "            width:  1000px;\n",
              "        }    #T_3ab49472_834f_11ea_a2f1_0242ac1c0002row114_col1 {\n",
              "            width:  1000px;\n",
              "        }    #T_3ab49472_834f_11ea_a2f1_0242ac1c0002row115_col1 {\n",
              "            width:  1000px;\n",
              "        }    #T_3ab49472_834f_11ea_a2f1_0242ac1c0002row116_col1 {\n",
              "            width:  1000px;\n",
              "        }    #T_3ab49472_834f_11ea_a2f1_0242ac1c0002row117_col1 {\n",
              "            width:  1000px;\n",
              "        }    #T_3ab49472_834f_11ea_a2f1_0242ac1c0002row118_col1 {\n",
              "            width:  1000px;\n",
              "        }    #T_3ab49472_834f_11ea_a2f1_0242ac1c0002row119_col1 {\n",
              "            width:  1000px;\n",
              "        }    #T_3ab49472_834f_11ea_a2f1_0242ac1c0002row120_col1 {\n",
              "            width:  1000px;\n",
              "        }    #T_3ab49472_834f_11ea_a2f1_0242ac1c0002row121_col1 {\n",
              "            width:  1000px;\n",
              "        }    #T_3ab49472_834f_11ea_a2f1_0242ac1c0002row122_col1 {\n",
              "            width:  1000px;\n",
              "        }    #T_3ab49472_834f_11ea_a2f1_0242ac1c0002row123_col1 {\n",
              "            width:  1000px;\n",
              "        }    #T_3ab49472_834f_11ea_a2f1_0242ac1c0002row124_col1 {\n",
              "            width:  1000px;\n",
              "        }    #T_3ab49472_834f_11ea_a2f1_0242ac1c0002row125_col1 {\n",
              "            width:  1000px;\n",
              "        }    #T_3ab49472_834f_11ea_a2f1_0242ac1c0002row126_col1 {\n",
              "            width:  1000px;\n",
              "        }    #T_3ab49472_834f_11ea_a2f1_0242ac1c0002row127_col1 {\n",
              "            width:  1000px;\n",
              "        }    #T_3ab49472_834f_11ea_a2f1_0242ac1c0002row128_col1 {\n",
              "            width:  1000px;\n",
              "        }    #T_3ab49472_834f_11ea_a2f1_0242ac1c0002row129_col1 {\n",
              "            width:  1000px;\n",
              "        }    #T_3ab49472_834f_11ea_a2f1_0242ac1c0002row130_col1 {\n",
              "            width:  1000px;\n",
              "        }    #T_3ab49472_834f_11ea_a2f1_0242ac1c0002row131_col1 {\n",
              "            width:  1000px;\n",
              "        }    #T_3ab49472_834f_11ea_a2f1_0242ac1c0002row132_col1 {\n",
              "            width:  1000px;\n",
              "        }    #T_3ab49472_834f_11ea_a2f1_0242ac1c0002row133_col1 {\n",
              "            width:  1000px;\n",
              "        }    #T_3ab49472_834f_11ea_a2f1_0242ac1c0002row134_col1 {\n",
              "            width:  1000px;\n",
              "        }    #T_3ab49472_834f_11ea_a2f1_0242ac1c0002row135_col1 {\n",
              "            width:  1000px;\n",
              "        }    #T_3ab49472_834f_11ea_a2f1_0242ac1c0002row136_col1 {\n",
              "            width:  1000px;\n",
              "        }    #T_3ab49472_834f_11ea_a2f1_0242ac1c0002row137_col1 {\n",
              "            width:  1000px;\n",
              "        }    #T_3ab49472_834f_11ea_a2f1_0242ac1c0002row138_col1 {\n",
              "            width:  1000px;\n",
              "        }    #T_3ab49472_834f_11ea_a2f1_0242ac1c0002row139_col1 {\n",
              "            width:  1000px;\n",
              "        }    #T_3ab49472_834f_11ea_a2f1_0242ac1c0002row140_col1 {\n",
              "            width:  1000px;\n",
              "        }    #T_3ab49472_834f_11ea_a2f1_0242ac1c0002row141_col1 {\n",
              "            width:  1000px;\n",
              "        }    #T_3ab49472_834f_11ea_a2f1_0242ac1c0002row142_col1 {\n",
              "            width:  1000px;\n",
              "        }    #T_3ab49472_834f_11ea_a2f1_0242ac1c0002row143_col1 {\n",
              "            width:  1000px;\n",
              "        }    #T_3ab49472_834f_11ea_a2f1_0242ac1c0002row144_col1 {\n",
              "            width:  1000px;\n",
              "        }    #T_3ab49472_834f_11ea_a2f1_0242ac1c0002row145_col1 {\n",
              "            width:  1000px;\n",
              "        }    #T_3ab49472_834f_11ea_a2f1_0242ac1c0002row146_col1 {\n",
              "            width:  1000px;\n",
              "        }    #T_3ab49472_834f_11ea_a2f1_0242ac1c0002row147_col1 {\n",
              "            width:  1000px;\n",
              "        }    #T_3ab49472_834f_11ea_a2f1_0242ac1c0002row148_col1 {\n",
              "            width:  1000px;\n",
              "        }    #T_3ab49472_834f_11ea_a2f1_0242ac1c0002row149_col1 {\n",
              "            width:  1000px;\n",
              "        }    #T_3ab49472_834f_11ea_a2f1_0242ac1c0002row150_col1 {\n",
              "            width:  1000px;\n",
              "        }</style><table id=\"T_3ab49472_834f_11ea_a2f1_0242ac1c0002\" ><thead>    <tr>        <th class=\"blank level0\" ></th>        <th class=\"col_heading level0 col0\" >LoanStatNew</th>        <th class=\"col_heading level0 col1\" >Description</th>    </tr></thead><tbody>\n",
              "                <tr>\n",
              "                        <th id=\"T_3ab49472_834f_11ea_a2f1_0242ac1c0002level0_row0\" class=\"row_heading level0 row0\" >0</th>\n",
              "                        <td id=\"T_3ab49472_834f_11ea_a2f1_0242ac1c0002row0_col0\" class=\"data row0 col0\" >acc_now_delinq</td>\n",
              "                        <td id=\"T_3ab49472_834f_11ea_a2f1_0242ac1c0002row0_col1\" class=\"data row0 col1\" >The number of accounts on which the borrower is now delinquent.</td>\n",
              "            </tr>\n",
              "            <tr>\n",
              "                        <th id=\"T_3ab49472_834f_11ea_a2f1_0242ac1c0002level0_row1\" class=\"row_heading level0 row1\" >1</th>\n",
              "                        <td id=\"T_3ab49472_834f_11ea_a2f1_0242ac1c0002row1_col0\" class=\"data row1 col0\" >acc_open_past_24mths</td>\n",
              "                        <td id=\"T_3ab49472_834f_11ea_a2f1_0242ac1c0002row1_col1\" class=\"data row1 col1\" >Number of trades opened in past 24 months.</td>\n",
              "            </tr>\n",
              "            <tr>\n",
              "                        <th id=\"T_3ab49472_834f_11ea_a2f1_0242ac1c0002level0_row2\" class=\"row_heading level0 row2\" >2</th>\n",
              "                        <td id=\"T_3ab49472_834f_11ea_a2f1_0242ac1c0002row2_col0\" class=\"data row2 col0\" >addr_state</td>\n",
              "                        <td id=\"T_3ab49472_834f_11ea_a2f1_0242ac1c0002row2_col1\" class=\"data row2 col1\" >The state provided by the borrower in the loan application</td>\n",
              "            </tr>\n",
              "            <tr>\n",
              "                        <th id=\"T_3ab49472_834f_11ea_a2f1_0242ac1c0002level0_row3\" class=\"row_heading level0 row3\" >3</th>\n",
              "                        <td id=\"T_3ab49472_834f_11ea_a2f1_0242ac1c0002row3_col0\" class=\"data row3 col0\" >all_util</td>\n",
              "                        <td id=\"T_3ab49472_834f_11ea_a2f1_0242ac1c0002row3_col1\" class=\"data row3 col1\" >Balance to credit limit on all trades</td>\n",
              "            </tr>\n",
              "            <tr>\n",
              "                        <th id=\"T_3ab49472_834f_11ea_a2f1_0242ac1c0002level0_row4\" class=\"row_heading level0 row4\" >4</th>\n",
              "                        <td id=\"T_3ab49472_834f_11ea_a2f1_0242ac1c0002row4_col0\" class=\"data row4 col0\" >annual_inc</td>\n",
              "                        <td id=\"T_3ab49472_834f_11ea_a2f1_0242ac1c0002row4_col1\" class=\"data row4 col1\" >The self-reported annual income provided by the borrower during registration.</td>\n",
              "            </tr>\n",
              "            <tr>\n",
              "                        <th id=\"T_3ab49472_834f_11ea_a2f1_0242ac1c0002level0_row5\" class=\"row_heading level0 row5\" >5</th>\n",
              "                        <td id=\"T_3ab49472_834f_11ea_a2f1_0242ac1c0002row5_col0\" class=\"data row5 col0\" >annual_inc_joint</td>\n",
              "                        <td id=\"T_3ab49472_834f_11ea_a2f1_0242ac1c0002row5_col1\" class=\"data row5 col1\" >The combined self-reported annual income provided by the co-borrowers during registration</td>\n",
              "            </tr>\n",
              "            <tr>\n",
              "                        <th id=\"T_3ab49472_834f_11ea_a2f1_0242ac1c0002level0_row6\" class=\"row_heading level0 row6\" >6</th>\n",
              "                        <td id=\"T_3ab49472_834f_11ea_a2f1_0242ac1c0002row6_col0\" class=\"data row6 col0\" >application_type</td>\n",
              "                        <td id=\"T_3ab49472_834f_11ea_a2f1_0242ac1c0002row6_col1\" class=\"data row6 col1\" >Indicates whether the loan is an individual application or a joint application with two co-borrowers</td>\n",
              "            </tr>\n",
              "            <tr>\n",
              "                        <th id=\"T_3ab49472_834f_11ea_a2f1_0242ac1c0002level0_row7\" class=\"row_heading level0 row7\" >7</th>\n",
              "                        <td id=\"T_3ab49472_834f_11ea_a2f1_0242ac1c0002row7_col0\" class=\"data row7 col0\" >avg_cur_bal</td>\n",
              "                        <td id=\"T_3ab49472_834f_11ea_a2f1_0242ac1c0002row7_col1\" class=\"data row7 col1\" >Average current balance of all accounts</td>\n",
              "            </tr>\n",
              "            <tr>\n",
              "                        <th id=\"T_3ab49472_834f_11ea_a2f1_0242ac1c0002level0_row8\" class=\"row_heading level0 row8\" >8</th>\n",
              "                        <td id=\"T_3ab49472_834f_11ea_a2f1_0242ac1c0002row8_col0\" class=\"data row8 col0\" >bc_open_to_buy</td>\n",
              "                        <td id=\"T_3ab49472_834f_11ea_a2f1_0242ac1c0002row8_col1\" class=\"data row8 col1\" >Total open to buy on revolving bankcards.</td>\n",
              "            </tr>\n",
              "            <tr>\n",
              "                        <th id=\"T_3ab49472_834f_11ea_a2f1_0242ac1c0002level0_row9\" class=\"row_heading level0 row9\" >9</th>\n",
              "                        <td id=\"T_3ab49472_834f_11ea_a2f1_0242ac1c0002row9_col0\" class=\"data row9 col0\" >bc_util</td>\n",
              "                        <td id=\"T_3ab49472_834f_11ea_a2f1_0242ac1c0002row9_col1\" class=\"data row9 col1\" >Ratio of total current balance to high credit/credit limit for all bankcard accounts.</td>\n",
              "            </tr>\n",
              "            <tr>\n",
              "                        <th id=\"T_3ab49472_834f_11ea_a2f1_0242ac1c0002level0_row10\" class=\"row_heading level0 row10\" >10</th>\n",
              "                        <td id=\"T_3ab49472_834f_11ea_a2f1_0242ac1c0002row10_col0\" class=\"data row10 col0\" >chargeoff_within_12_mths</td>\n",
              "                        <td id=\"T_3ab49472_834f_11ea_a2f1_0242ac1c0002row10_col1\" class=\"data row10 col1\" >Number of charge-offs within 12 months</td>\n",
              "            </tr>\n",
              "            <tr>\n",
              "                        <th id=\"T_3ab49472_834f_11ea_a2f1_0242ac1c0002level0_row11\" class=\"row_heading level0 row11\" >11</th>\n",
              "                        <td id=\"T_3ab49472_834f_11ea_a2f1_0242ac1c0002row11_col0\" class=\"data row11 col0\" >collection_recovery_fee</td>\n",
              "                        <td id=\"T_3ab49472_834f_11ea_a2f1_0242ac1c0002row11_col1\" class=\"data row11 col1\" >post charge off collection fee</td>\n",
              "            </tr>\n",
              "            <tr>\n",
              "                        <th id=\"T_3ab49472_834f_11ea_a2f1_0242ac1c0002level0_row12\" class=\"row_heading level0 row12\" >12</th>\n",
              "                        <td id=\"T_3ab49472_834f_11ea_a2f1_0242ac1c0002row12_col0\" class=\"data row12 col0\" >collections_12_mths_ex_med</td>\n",
              "                        <td id=\"T_3ab49472_834f_11ea_a2f1_0242ac1c0002row12_col1\" class=\"data row12 col1\" >Number of collections in 12 months excluding medical collections</td>\n",
              "            </tr>\n",
              "            <tr>\n",
              "                        <th id=\"T_3ab49472_834f_11ea_a2f1_0242ac1c0002level0_row13\" class=\"row_heading level0 row13\" >13</th>\n",
              "                        <td id=\"T_3ab49472_834f_11ea_a2f1_0242ac1c0002row13_col0\" class=\"data row13 col0\" >delinq_2yrs</td>\n",
              "                        <td id=\"T_3ab49472_834f_11ea_a2f1_0242ac1c0002row13_col1\" class=\"data row13 col1\" >The number of 30+ days past-due incidences of delinquency in the borrower's credit file for the past 2 years</td>\n",
              "            </tr>\n",
              "            <tr>\n",
              "                        <th id=\"T_3ab49472_834f_11ea_a2f1_0242ac1c0002level0_row14\" class=\"row_heading level0 row14\" >14</th>\n",
              "                        <td id=\"T_3ab49472_834f_11ea_a2f1_0242ac1c0002row14_col0\" class=\"data row14 col0\" >delinq_amnt</td>\n",
              "                        <td id=\"T_3ab49472_834f_11ea_a2f1_0242ac1c0002row14_col1\" class=\"data row14 col1\" >The past-due amount owed for the accounts on which the borrower is now delinquent.</td>\n",
              "            </tr>\n",
              "            <tr>\n",
              "                        <th id=\"T_3ab49472_834f_11ea_a2f1_0242ac1c0002level0_row15\" class=\"row_heading level0 row15\" >15</th>\n",
              "                        <td id=\"T_3ab49472_834f_11ea_a2f1_0242ac1c0002row15_col0\" class=\"data row15 col0\" >desc</td>\n",
              "                        <td id=\"T_3ab49472_834f_11ea_a2f1_0242ac1c0002row15_col1\" class=\"data row15 col1\" >Loan description provided by the borrower</td>\n",
              "            </tr>\n",
              "            <tr>\n",
              "                        <th id=\"T_3ab49472_834f_11ea_a2f1_0242ac1c0002level0_row16\" class=\"row_heading level0 row16\" >16</th>\n",
              "                        <td id=\"T_3ab49472_834f_11ea_a2f1_0242ac1c0002row16_col0\" class=\"data row16 col0\" >dti</td>\n",
              "                        <td id=\"T_3ab49472_834f_11ea_a2f1_0242ac1c0002row16_col1\" class=\"data row16 col1\" >A ratio calculated using the borrower’s total monthly debt payments on the total debt obligations, excluding mortgage and the requested LC loan, divided by the borrower’s self-reported monthly income.</td>\n",
              "            </tr>\n",
              "            <tr>\n",
              "                        <th id=\"T_3ab49472_834f_11ea_a2f1_0242ac1c0002level0_row17\" class=\"row_heading level0 row17\" >17</th>\n",
              "                        <td id=\"T_3ab49472_834f_11ea_a2f1_0242ac1c0002row17_col0\" class=\"data row17 col0\" >dti_joint</td>\n",
              "                        <td id=\"T_3ab49472_834f_11ea_a2f1_0242ac1c0002row17_col1\" class=\"data row17 col1\" >A ratio calculated using the co-borrowers' total monthly payments on the total debt obligations, excluding mortgages and the requested LC loan, divided by the co-borrowers' combined self-reported monthly income</td>\n",
              "            </tr>\n",
              "            <tr>\n",
              "                        <th id=\"T_3ab49472_834f_11ea_a2f1_0242ac1c0002level0_row18\" class=\"row_heading level0 row18\" >18</th>\n",
              "                        <td id=\"T_3ab49472_834f_11ea_a2f1_0242ac1c0002row18_col0\" class=\"data row18 col0\" >earliest_cr_line</td>\n",
              "                        <td id=\"T_3ab49472_834f_11ea_a2f1_0242ac1c0002row18_col1\" class=\"data row18 col1\" >The month the borrower's earliest reported credit line was opened</td>\n",
              "            </tr>\n",
              "            <tr>\n",
              "                        <th id=\"T_3ab49472_834f_11ea_a2f1_0242ac1c0002level0_row19\" class=\"row_heading level0 row19\" >19</th>\n",
              "                        <td id=\"T_3ab49472_834f_11ea_a2f1_0242ac1c0002row19_col0\" class=\"data row19 col0\" >emp_length</td>\n",
              "                        <td id=\"T_3ab49472_834f_11ea_a2f1_0242ac1c0002row19_col1\" class=\"data row19 col1\" >Employment length in years. Possible values are between 0 and 10 where 0 means less than one year and 10 means ten or more years. </td>\n",
              "            </tr>\n",
              "            <tr>\n",
              "                        <th id=\"T_3ab49472_834f_11ea_a2f1_0242ac1c0002level0_row20\" class=\"row_heading level0 row20\" >20</th>\n",
              "                        <td id=\"T_3ab49472_834f_11ea_a2f1_0242ac1c0002row20_col0\" class=\"data row20 col0\" >emp_title</td>\n",
              "                        <td id=\"T_3ab49472_834f_11ea_a2f1_0242ac1c0002row20_col1\" class=\"data row20 col1\" >The job title supplied by the Borrower when applying for the loan.*</td>\n",
              "            </tr>\n",
              "            <tr>\n",
              "                        <th id=\"T_3ab49472_834f_11ea_a2f1_0242ac1c0002level0_row21\" class=\"row_heading level0 row21\" >21</th>\n",
              "                        <td id=\"T_3ab49472_834f_11ea_a2f1_0242ac1c0002row21_col0\" class=\"data row21 col0\" >fico_range_high</td>\n",
              "                        <td id=\"T_3ab49472_834f_11ea_a2f1_0242ac1c0002row21_col1\" class=\"data row21 col1\" >The upper boundary range the borrower’s FICO at loan origination belongs to.</td>\n",
              "            </tr>\n",
              "            <tr>\n",
              "                        <th id=\"T_3ab49472_834f_11ea_a2f1_0242ac1c0002level0_row22\" class=\"row_heading level0 row22\" >22</th>\n",
              "                        <td id=\"T_3ab49472_834f_11ea_a2f1_0242ac1c0002row22_col0\" class=\"data row22 col0\" >fico_range_low</td>\n",
              "                        <td id=\"T_3ab49472_834f_11ea_a2f1_0242ac1c0002row22_col1\" class=\"data row22 col1\" >The lower boundary range the borrower’s FICO at loan origination belongs to.</td>\n",
              "            </tr>\n",
              "            <tr>\n",
              "                        <th id=\"T_3ab49472_834f_11ea_a2f1_0242ac1c0002level0_row23\" class=\"row_heading level0 row23\" >23</th>\n",
              "                        <td id=\"T_3ab49472_834f_11ea_a2f1_0242ac1c0002row23_col0\" class=\"data row23 col0\" >funded_amnt</td>\n",
              "                        <td id=\"T_3ab49472_834f_11ea_a2f1_0242ac1c0002row23_col1\" class=\"data row23 col1\" >The total amount committed to that loan at that point in time.</td>\n",
              "            </tr>\n",
              "            <tr>\n",
              "                        <th id=\"T_3ab49472_834f_11ea_a2f1_0242ac1c0002level0_row24\" class=\"row_heading level0 row24\" >24</th>\n",
              "                        <td id=\"T_3ab49472_834f_11ea_a2f1_0242ac1c0002row24_col0\" class=\"data row24 col0\" >funded_amnt_inv</td>\n",
              "                        <td id=\"T_3ab49472_834f_11ea_a2f1_0242ac1c0002row24_col1\" class=\"data row24 col1\" >The total amount committed by investors for that loan at that point in time.</td>\n",
              "            </tr>\n",
              "            <tr>\n",
              "                        <th id=\"T_3ab49472_834f_11ea_a2f1_0242ac1c0002level0_row25\" class=\"row_heading level0 row25\" >25</th>\n",
              "                        <td id=\"T_3ab49472_834f_11ea_a2f1_0242ac1c0002row25_col0\" class=\"data row25 col0\" >grade</td>\n",
              "                        <td id=\"T_3ab49472_834f_11ea_a2f1_0242ac1c0002row25_col1\" class=\"data row25 col1\" >LC assigned loan grade</td>\n",
              "            </tr>\n",
              "            <tr>\n",
              "                        <th id=\"T_3ab49472_834f_11ea_a2f1_0242ac1c0002level0_row26\" class=\"row_heading level0 row26\" >26</th>\n",
              "                        <td id=\"T_3ab49472_834f_11ea_a2f1_0242ac1c0002row26_col0\" class=\"data row26 col0\" >home_ownership</td>\n",
              "                        <td id=\"T_3ab49472_834f_11ea_a2f1_0242ac1c0002row26_col1\" class=\"data row26 col1\" >The home ownership status provided by the borrower during registration or obtained from the credit report. Our values are: RENT, OWN, MORTGAGE, OTHER</td>\n",
              "            </tr>\n",
              "            <tr>\n",
              "                        <th id=\"T_3ab49472_834f_11ea_a2f1_0242ac1c0002level0_row27\" class=\"row_heading level0 row27\" >27</th>\n",
              "                        <td id=\"T_3ab49472_834f_11ea_a2f1_0242ac1c0002row27_col0\" class=\"data row27 col0\" >id</td>\n",
              "                        <td id=\"T_3ab49472_834f_11ea_a2f1_0242ac1c0002row27_col1\" class=\"data row27 col1\" >A unique LC assigned ID for the loan listing.</td>\n",
              "            </tr>\n",
              "            <tr>\n",
              "                        <th id=\"T_3ab49472_834f_11ea_a2f1_0242ac1c0002level0_row28\" class=\"row_heading level0 row28\" >28</th>\n",
              "                        <td id=\"T_3ab49472_834f_11ea_a2f1_0242ac1c0002row28_col0\" class=\"data row28 col0\" >il_util</td>\n",
              "                        <td id=\"T_3ab49472_834f_11ea_a2f1_0242ac1c0002row28_col1\" class=\"data row28 col1\" >Ratio of total current balance to high credit/credit limit on all install acct</td>\n",
              "            </tr>\n",
              "            <tr>\n",
              "                        <th id=\"T_3ab49472_834f_11ea_a2f1_0242ac1c0002level0_row29\" class=\"row_heading level0 row29\" >29</th>\n",
              "                        <td id=\"T_3ab49472_834f_11ea_a2f1_0242ac1c0002row29_col0\" class=\"data row29 col0\" >initial_list_status</td>\n",
              "                        <td id=\"T_3ab49472_834f_11ea_a2f1_0242ac1c0002row29_col1\" class=\"data row29 col1\" >The initial listing status of the loan. Possible values are – W, F</td>\n",
              "            </tr>\n",
              "            <tr>\n",
              "                        <th id=\"T_3ab49472_834f_11ea_a2f1_0242ac1c0002level0_row30\" class=\"row_heading level0 row30\" >30</th>\n",
              "                        <td id=\"T_3ab49472_834f_11ea_a2f1_0242ac1c0002row30_col0\" class=\"data row30 col0\" >inq_fi</td>\n",
              "                        <td id=\"T_3ab49472_834f_11ea_a2f1_0242ac1c0002row30_col1\" class=\"data row30 col1\" >Number of personal finance inquiries</td>\n",
              "            </tr>\n",
              "            <tr>\n",
              "                        <th id=\"T_3ab49472_834f_11ea_a2f1_0242ac1c0002level0_row31\" class=\"row_heading level0 row31\" >31</th>\n",
              "                        <td id=\"T_3ab49472_834f_11ea_a2f1_0242ac1c0002row31_col0\" class=\"data row31 col0\" >inq_last_12m</td>\n",
              "                        <td id=\"T_3ab49472_834f_11ea_a2f1_0242ac1c0002row31_col1\" class=\"data row31 col1\" >Number of credit inquiries in past 12 months</td>\n",
              "            </tr>\n",
              "            <tr>\n",
              "                        <th id=\"T_3ab49472_834f_11ea_a2f1_0242ac1c0002level0_row32\" class=\"row_heading level0 row32\" >32</th>\n",
              "                        <td id=\"T_3ab49472_834f_11ea_a2f1_0242ac1c0002row32_col0\" class=\"data row32 col0\" >inq_last_6mths</td>\n",
              "                        <td id=\"T_3ab49472_834f_11ea_a2f1_0242ac1c0002row32_col1\" class=\"data row32 col1\" >The number of inquiries in past 6 months (excluding auto and mortgage inquiries)</td>\n",
              "            </tr>\n",
              "            <tr>\n",
              "                        <th id=\"T_3ab49472_834f_11ea_a2f1_0242ac1c0002level0_row33\" class=\"row_heading level0 row33\" >33</th>\n",
              "                        <td id=\"T_3ab49472_834f_11ea_a2f1_0242ac1c0002row33_col0\" class=\"data row33 col0\" >installment</td>\n",
              "                        <td id=\"T_3ab49472_834f_11ea_a2f1_0242ac1c0002row33_col1\" class=\"data row33 col1\" >The monthly payment owed by the borrower if the loan originates.</td>\n",
              "            </tr>\n",
              "            <tr>\n",
              "                        <th id=\"T_3ab49472_834f_11ea_a2f1_0242ac1c0002level0_row34\" class=\"row_heading level0 row34\" >34</th>\n",
              "                        <td id=\"T_3ab49472_834f_11ea_a2f1_0242ac1c0002row34_col0\" class=\"data row34 col0\" >int_rate</td>\n",
              "                        <td id=\"T_3ab49472_834f_11ea_a2f1_0242ac1c0002row34_col1\" class=\"data row34 col1\" >Interest Rate on the loan</td>\n",
              "            </tr>\n",
              "            <tr>\n",
              "                        <th id=\"T_3ab49472_834f_11ea_a2f1_0242ac1c0002level0_row35\" class=\"row_heading level0 row35\" >35</th>\n",
              "                        <td id=\"T_3ab49472_834f_11ea_a2f1_0242ac1c0002row35_col0\" class=\"data row35 col0\" >issue_d</td>\n",
              "                        <td id=\"T_3ab49472_834f_11ea_a2f1_0242ac1c0002row35_col1\" class=\"data row35 col1\" >The month which the loan was funded</td>\n",
              "            </tr>\n",
              "            <tr>\n",
              "                        <th id=\"T_3ab49472_834f_11ea_a2f1_0242ac1c0002level0_row36\" class=\"row_heading level0 row36\" >36</th>\n",
              "                        <td id=\"T_3ab49472_834f_11ea_a2f1_0242ac1c0002row36_col0\" class=\"data row36 col0\" >last_credit_pull_d</td>\n",
              "                        <td id=\"T_3ab49472_834f_11ea_a2f1_0242ac1c0002row36_col1\" class=\"data row36 col1\" >The most recent month LC pulled credit for this loan</td>\n",
              "            </tr>\n",
              "            <tr>\n",
              "                        <th id=\"T_3ab49472_834f_11ea_a2f1_0242ac1c0002level0_row37\" class=\"row_heading level0 row37\" >37</th>\n",
              "                        <td id=\"T_3ab49472_834f_11ea_a2f1_0242ac1c0002row37_col0\" class=\"data row37 col0\" >last_fico_range_high</td>\n",
              "                        <td id=\"T_3ab49472_834f_11ea_a2f1_0242ac1c0002row37_col1\" class=\"data row37 col1\" >The upper boundary range the borrower’s last FICO pulled belongs to.</td>\n",
              "            </tr>\n",
              "            <tr>\n",
              "                        <th id=\"T_3ab49472_834f_11ea_a2f1_0242ac1c0002level0_row38\" class=\"row_heading level0 row38\" >38</th>\n",
              "                        <td id=\"T_3ab49472_834f_11ea_a2f1_0242ac1c0002row38_col0\" class=\"data row38 col0\" >last_fico_range_low</td>\n",
              "                        <td id=\"T_3ab49472_834f_11ea_a2f1_0242ac1c0002row38_col1\" class=\"data row38 col1\" >The lower boundary range the borrower’s last FICO pulled belongs to.</td>\n",
              "            </tr>\n",
              "            <tr>\n",
              "                        <th id=\"T_3ab49472_834f_11ea_a2f1_0242ac1c0002level0_row39\" class=\"row_heading level0 row39\" >39</th>\n",
              "                        <td id=\"T_3ab49472_834f_11ea_a2f1_0242ac1c0002row39_col0\" class=\"data row39 col0\" >last_pymnt_amnt</td>\n",
              "                        <td id=\"T_3ab49472_834f_11ea_a2f1_0242ac1c0002row39_col1\" class=\"data row39 col1\" >Last total payment amount received</td>\n",
              "            </tr>\n",
              "            <tr>\n",
              "                        <th id=\"T_3ab49472_834f_11ea_a2f1_0242ac1c0002level0_row40\" class=\"row_heading level0 row40\" >40</th>\n",
              "                        <td id=\"T_3ab49472_834f_11ea_a2f1_0242ac1c0002row40_col0\" class=\"data row40 col0\" >last_pymnt_d</td>\n",
              "                        <td id=\"T_3ab49472_834f_11ea_a2f1_0242ac1c0002row40_col1\" class=\"data row40 col1\" >Last month payment was received</td>\n",
              "            </tr>\n",
              "            <tr>\n",
              "                        <th id=\"T_3ab49472_834f_11ea_a2f1_0242ac1c0002level0_row41\" class=\"row_heading level0 row41\" >41</th>\n",
              "                        <td id=\"T_3ab49472_834f_11ea_a2f1_0242ac1c0002row41_col0\" class=\"data row41 col0\" >loan_amnt</td>\n",
              "                        <td id=\"T_3ab49472_834f_11ea_a2f1_0242ac1c0002row41_col1\" class=\"data row41 col1\" >The listed amount of the loan applied for by the borrower. If at some point in time, the credit department reduces the loan amount, then it will be reflected in this value.</td>\n",
              "            </tr>\n",
              "            <tr>\n",
              "                        <th id=\"T_3ab49472_834f_11ea_a2f1_0242ac1c0002level0_row42\" class=\"row_heading level0 row42\" >42</th>\n",
              "                        <td id=\"T_3ab49472_834f_11ea_a2f1_0242ac1c0002row42_col0\" class=\"data row42 col0\" >loan_status</td>\n",
              "                        <td id=\"T_3ab49472_834f_11ea_a2f1_0242ac1c0002row42_col1\" class=\"data row42 col1\" >Current status of the loan</td>\n",
              "            </tr>\n",
              "            <tr>\n",
              "                        <th id=\"T_3ab49472_834f_11ea_a2f1_0242ac1c0002level0_row43\" class=\"row_heading level0 row43\" >43</th>\n",
              "                        <td id=\"T_3ab49472_834f_11ea_a2f1_0242ac1c0002row43_col0\" class=\"data row43 col0\" >max_bal_bc</td>\n",
              "                        <td id=\"T_3ab49472_834f_11ea_a2f1_0242ac1c0002row43_col1\" class=\"data row43 col1\" >Maximum current balance owed on all revolving accounts</td>\n",
              "            </tr>\n",
              "            <tr>\n",
              "                        <th id=\"T_3ab49472_834f_11ea_a2f1_0242ac1c0002level0_row44\" class=\"row_heading level0 row44\" >44</th>\n",
              "                        <td id=\"T_3ab49472_834f_11ea_a2f1_0242ac1c0002row44_col0\" class=\"data row44 col0\" >member_id</td>\n",
              "                        <td id=\"T_3ab49472_834f_11ea_a2f1_0242ac1c0002row44_col1\" class=\"data row44 col1\" >A unique LC assigned Id for the borrower member.</td>\n",
              "            </tr>\n",
              "            <tr>\n",
              "                        <th id=\"T_3ab49472_834f_11ea_a2f1_0242ac1c0002level0_row45\" class=\"row_heading level0 row45\" >45</th>\n",
              "                        <td id=\"T_3ab49472_834f_11ea_a2f1_0242ac1c0002row45_col0\" class=\"data row45 col0\" >mo_sin_old_il_acct</td>\n",
              "                        <td id=\"T_3ab49472_834f_11ea_a2f1_0242ac1c0002row45_col1\" class=\"data row45 col1\" >Months since oldest bank installment account opened</td>\n",
              "            </tr>\n",
              "            <tr>\n",
              "                        <th id=\"T_3ab49472_834f_11ea_a2f1_0242ac1c0002level0_row46\" class=\"row_heading level0 row46\" >46</th>\n",
              "                        <td id=\"T_3ab49472_834f_11ea_a2f1_0242ac1c0002row46_col0\" class=\"data row46 col0\" >mo_sin_old_rev_tl_op</td>\n",
              "                        <td id=\"T_3ab49472_834f_11ea_a2f1_0242ac1c0002row46_col1\" class=\"data row46 col1\" >Months since oldest revolving account opened</td>\n",
              "            </tr>\n",
              "            <tr>\n",
              "                        <th id=\"T_3ab49472_834f_11ea_a2f1_0242ac1c0002level0_row47\" class=\"row_heading level0 row47\" >47</th>\n",
              "                        <td id=\"T_3ab49472_834f_11ea_a2f1_0242ac1c0002row47_col0\" class=\"data row47 col0\" >mo_sin_rcnt_rev_tl_op</td>\n",
              "                        <td id=\"T_3ab49472_834f_11ea_a2f1_0242ac1c0002row47_col1\" class=\"data row47 col1\" >Months since most recent revolving account opened</td>\n",
              "            </tr>\n",
              "            <tr>\n",
              "                        <th id=\"T_3ab49472_834f_11ea_a2f1_0242ac1c0002level0_row48\" class=\"row_heading level0 row48\" >48</th>\n",
              "                        <td id=\"T_3ab49472_834f_11ea_a2f1_0242ac1c0002row48_col0\" class=\"data row48 col0\" >mo_sin_rcnt_tl</td>\n",
              "                        <td id=\"T_3ab49472_834f_11ea_a2f1_0242ac1c0002row48_col1\" class=\"data row48 col1\" >Months since most recent account opened</td>\n",
              "            </tr>\n",
              "            <tr>\n",
              "                        <th id=\"T_3ab49472_834f_11ea_a2f1_0242ac1c0002level0_row49\" class=\"row_heading level0 row49\" >49</th>\n",
              "                        <td id=\"T_3ab49472_834f_11ea_a2f1_0242ac1c0002row49_col0\" class=\"data row49 col0\" >mort_acc</td>\n",
              "                        <td id=\"T_3ab49472_834f_11ea_a2f1_0242ac1c0002row49_col1\" class=\"data row49 col1\" >Number of mortgage accounts.</td>\n",
              "            </tr>\n",
              "            <tr>\n",
              "                        <th id=\"T_3ab49472_834f_11ea_a2f1_0242ac1c0002level0_row50\" class=\"row_heading level0 row50\" >50</th>\n",
              "                        <td id=\"T_3ab49472_834f_11ea_a2f1_0242ac1c0002row50_col0\" class=\"data row50 col0\" >mths_since_last_delinq</td>\n",
              "                        <td id=\"T_3ab49472_834f_11ea_a2f1_0242ac1c0002row50_col1\" class=\"data row50 col1\" >The number of months since the borrower's last delinquency.</td>\n",
              "            </tr>\n",
              "            <tr>\n",
              "                        <th id=\"T_3ab49472_834f_11ea_a2f1_0242ac1c0002level0_row51\" class=\"row_heading level0 row51\" >51</th>\n",
              "                        <td id=\"T_3ab49472_834f_11ea_a2f1_0242ac1c0002row51_col0\" class=\"data row51 col0\" >mths_since_last_major_derog</td>\n",
              "                        <td id=\"T_3ab49472_834f_11ea_a2f1_0242ac1c0002row51_col1\" class=\"data row51 col1\" >Months since most recent 90-day or worse rating</td>\n",
              "            </tr>\n",
              "            <tr>\n",
              "                        <th id=\"T_3ab49472_834f_11ea_a2f1_0242ac1c0002level0_row52\" class=\"row_heading level0 row52\" >52</th>\n",
              "                        <td id=\"T_3ab49472_834f_11ea_a2f1_0242ac1c0002row52_col0\" class=\"data row52 col0\" >mths_since_last_record</td>\n",
              "                        <td id=\"T_3ab49472_834f_11ea_a2f1_0242ac1c0002row52_col1\" class=\"data row52 col1\" >The number of months since the last public record.</td>\n",
              "            </tr>\n",
              "            <tr>\n",
              "                        <th id=\"T_3ab49472_834f_11ea_a2f1_0242ac1c0002level0_row53\" class=\"row_heading level0 row53\" >53</th>\n",
              "                        <td id=\"T_3ab49472_834f_11ea_a2f1_0242ac1c0002row53_col0\" class=\"data row53 col0\" >mths_since_rcnt_il</td>\n",
              "                        <td id=\"T_3ab49472_834f_11ea_a2f1_0242ac1c0002row53_col1\" class=\"data row53 col1\" >Months since most recent installment accounts opened</td>\n",
              "            </tr>\n",
              "            <tr>\n",
              "                        <th id=\"T_3ab49472_834f_11ea_a2f1_0242ac1c0002level0_row54\" class=\"row_heading level0 row54\" >54</th>\n",
              "                        <td id=\"T_3ab49472_834f_11ea_a2f1_0242ac1c0002row54_col0\" class=\"data row54 col0\" >mths_since_recent_bc</td>\n",
              "                        <td id=\"T_3ab49472_834f_11ea_a2f1_0242ac1c0002row54_col1\" class=\"data row54 col1\" >Months since most recent bankcard account opened.</td>\n",
              "            </tr>\n",
              "            <tr>\n",
              "                        <th id=\"T_3ab49472_834f_11ea_a2f1_0242ac1c0002level0_row55\" class=\"row_heading level0 row55\" >55</th>\n",
              "                        <td id=\"T_3ab49472_834f_11ea_a2f1_0242ac1c0002row55_col0\" class=\"data row55 col0\" >mths_since_recent_bc_dlq</td>\n",
              "                        <td id=\"T_3ab49472_834f_11ea_a2f1_0242ac1c0002row55_col1\" class=\"data row55 col1\" >Months since most recent bankcard delinquency</td>\n",
              "            </tr>\n",
              "            <tr>\n",
              "                        <th id=\"T_3ab49472_834f_11ea_a2f1_0242ac1c0002level0_row56\" class=\"row_heading level0 row56\" >56</th>\n",
              "                        <td id=\"T_3ab49472_834f_11ea_a2f1_0242ac1c0002row56_col0\" class=\"data row56 col0\" >mths_since_recent_inq</td>\n",
              "                        <td id=\"T_3ab49472_834f_11ea_a2f1_0242ac1c0002row56_col1\" class=\"data row56 col1\" >Months since most recent inquiry.</td>\n",
              "            </tr>\n",
              "            <tr>\n",
              "                        <th id=\"T_3ab49472_834f_11ea_a2f1_0242ac1c0002level0_row57\" class=\"row_heading level0 row57\" >57</th>\n",
              "                        <td id=\"T_3ab49472_834f_11ea_a2f1_0242ac1c0002row57_col0\" class=\"data row57 col0\" >mths_since_recent_revol_delinq</td>\n",
              "                        <td id=\"T_3ab49472_834f_11ea_a2f1_0242ac1c0002row57_col1\" class=\"data row57 col1\" >Months since most recent revolving delinquency.</td>\n",
              "            </tr>\n",
              "            <tr>\n",
              "                        <th id=\"T_3ab49472_834f_11ea_a2f1_0242ac1c0002level0_row58\" class=\"row_heading level0 row58\" >58</th>\n",
              "                        <td id=\"T_3ab49472_834f_11ea_a2f1_0242ac1c0002row58_col0\" class=\"data row58 col0\" >next_pymnt_d</td>\n",
              "                        <td id=\"T_3ab49472_834f_11ea_a2f1_0242ac1c0002row58_col1\" class=\"data row58 col1\" >Next scheduled payment date</td>\n",
              "            </tr>\n",
              "            <tr>\n",
              "                        <th id=\"T_3ab49472_834f_11ea_a2f1_0242ac1c0002level0_row59\" class=\"row_heading level0 row59\" >59</th>\n",
              "                        <td id=\"T_3ab49472_834f_11ea_a2f1_0242ac1c0002row59_col0\" class=\"data row59 col0\" >num_accts_ever_120_pd</td>\n",
              "                        <td id=\"T_3ab49472_834f_11ea_a2f1_0242ac1c0002row59_col1\" class=\"data row59 col1\" >Number of accounts ever 120 or more days past due</td>\n",
              "            </tr>\n",
              "            <tr>\n",
              "                        <th id=\"T_3ab49472_834f_11ea_a2f1_0242ac1c0002level0_row60\" class=\"row_heading level0 row60\" >60</th>\n",
              "                        <td id=\"T_3ab49472_834f_11ea_a2f1_0242ac1c0002row60_col0\" class=\"data row60 col0\" >num_actv_bc_tl</td>\n",
              "                        <td id=\"T_3ab49472_834f_11ea_a2f1_0242ac1c0002row60_col1\" class=\"data row60 col1\" >Number of currently active bankcard accounts</td>\n",
              "            </tr>\n",
              "            <tr>\n",
              "                        <th id=\"T_3ab49472_834f_11ea_a2f1_0242ac1c0002level0_row61\" class=\"row_heading level0 row61\" >61</th>\n",
              "                        <td id=\"T_3ab49472_834f_11ea_a2f1_0242ac1c0002row61_col0\" class=\"data row61 col0\" >num_actv_rev_tl</td>\n",
              "                        <td id=\"T_3ab49472_834f_11ea_a2f1_0242ac1c0002row61_col1\" class=\"data row61 col1\" >Number of currently active revolving trades</td>\n",
              "            </tr>\n",
              "            <tr>\n",
              "                        <th id=\"T_3ab49472_834f_11ea_a2f1_0242ac1c0002level0_row62\" class=\"row_heading level0 row62\" >62</th>\n",
              "                        <td id=\"T_3ab49472_834f_11ea_a2f1_0242ac1c0002row62_col0\" class=\"data row62 col0\" >num_bc_sats</td>\n",
              "                        <td id=\"T_3ab49472_834f_11ea_a2f1_0242ac1c0002row62_col1\" class=\"data row62 col1\" >Number of satisfactory bankcard accounts</td>\n",
              "            </tr>\n",
              "            <tr>\n",
              "                        <th id=\"T_3ab49472_834f_11ea_a2f1_0242ac1c0002level0_row63\" class=\"row_heading level0 row63\" >63</th>\n",
              "                        <td id=\"T_3ab49472_834f_11ea_a2f1_0242ac1c0002row63_col0\" class=\"data row63 col0\" >num_bc_tl</td>\n",
              "                        <td id=\"T_3ab49472_834f_11ea_a2f1_0242ac1c0002row63_col1\" class=\"data row63 col1\" >Number of bankcard accounts</td>\n",
              "            </tr>\n",
              "            <tr>\n",
              "                        <th id=\"T_3ab49472_834f_11ea_a2f1_0242ac1c0002level0_row64\" class=\"row_heading level0 row64\" >64</th>\n",
              "                        <td id=\"T_3ab49472_834f_11ea_a2f1_0242ac1c0002row64_col0\" class=\"data row64 col0\" >num_il_tl</td>\n",
              "                        <td id=\"T_3ab49472_834f_11ea_a2f1_0242ac1c0002row64_col1\" class=\"data row64 col1\" >Number of installment accounts</td>\n",
              "            </tr>\n",
              "            <tr>\n",
              "                        <th id=\"T_3ab49472_834f_11ea_a2f1_0242ac1c0002level0_row65\" class=\"row_heading level0 row65\" >65</th>\n",
              "                        <td id=\"T_3ab49472_834f_11ea_a2f1_0242ac1c0002row65_col0\" class=\"data row65 col0\" >num_op_rev_tl</td>\n",
              "                        <td id=\"T_3ab49472_834f_11ea_a2f1_0242ac1c0002row65_col1\" class=\"data row65 col1\" >Number of open revolving accounts</td>\n",
              "            </tr>\n",
              "            <tr>\n",
              "                        <th id=\"T_3ab49472_834f_11ea_a2f1_0242ac1c0002level0_row66\" class=\"row_heading level0 row66\" >66</th>\n",
              "                        <td id=\"T_3ab49472_834f_11ea_a2f1_0242ac1c0002row66_col0\" class=\"data row66 col0\" >num_rev_accts</td>\n",
              "                        <td id=\"T_3ab49472_834f_11ea_a2f1_0242ac1c0002row66_col1\" class=\"data row66 col1\" >Number of revolving accounts</td>\n",
              "            </tr>\n",
              "            <tr>\n",
              "                        <th id=\"T_3ab49472_834f_11ea_a2f1_0242ac1c0002level0_row67\" class=\"row_heading level0 row67\" >67</th>\n",
              "                        <td id=\"T_3ab49472_834f_11ea_a2f1_0242ac1c0002row67_col0\" class=\"data row67 col0\" >num_rev_tl_bal_gt_0</td>\n",
              "                        <td id=\"T_3ab49472_834f_11ea_a2f1_0242ac1c0002row67_col1\" class=\"data row67 col1\" >Number of revolving trades with balance >0</td>\n",
              "            </tr>\n",
              "            <tr>\n",
              "                        <th id=\"T_3ab49472_834f_11ea_a2f1_0242ac1c0002level0_row68\" class=\"row_heading level0 row68\" >68</th>\n",
              "                        <td id=\"T_3ab49472_834f_11ea_a2f1_0242ac1c0002row68_col0\" class=\"data row68 col0\" >num_sats</td>\n",
              "                        <td id=\"T_3ab49472_834f_11ea_a2f1_0242ac1c0002row68_col1\" class=\"data row68 col1\" >Number of satisfactory accounts</td>\n",
              "            </tr>\n",
              "            <tr>\n",
              "                        <th id=\"T_3ab49472_834f_11ea_a2f1_0242ac1c0002level0_row69\" class=\"row_heading level0 row69\" >69</th>\n",
              "                        <td id=\"T_3ab49472_834f_11ea_a2f1_0242ac1c0002row69_col0\" class=\"data row69 col0\" >num_tl_120dpd_2m</td>\n",
              "                        <td id=\"T_3ab49472_834f_11ea_a2f1_0242ac1c0002row69_col1\" class=\"data row69 col1\" >Number of accounts currently 120 days past due (updated in past 2 months)</td>\n",
              "            </tr>\n",
              "            <tr>\n",
              "                        <th id=\"T_3ab49472_834f_11ea_a2f1_0242ac1c0002level0_row70\" class=\"row_heading level0 row70\" >70</th>\n",
              "                        <td id=\"T_3ab49472_834f_11ea_a2f1_0242ac1c0002row70_col0\" class=\"data row70 col0\" >num_tl_30dpd</td>\n",
              "                        <td id=\"T_3ab49472_834f_11ea_a2f1_0242ac1c0002row70_col1\" class=\"data row70 col1\" >Number of accounts currently 30 days past due (updated in past 2 months)</td>\n",
              "            </tr>\n",
              "            <tr>\n",
              "                        <th id=\"T_3ab49472_834f_11ea_a2f1_0242ac1c0002level0_row71\" class=\"row_heading level0 row71\" >71</th>\n",
              "                        <td id=\"T_3ab49472_834f_11ea_a2f1_0242ac1c0002row71_col0\" class=\"data row71 col0\" >num_tl_90g_dpd_24m</td>\n",
              "                        <td id=\"T_3ab49472_834f_11ea_a2f1_0242ac1c0002row71_col1\" class=\"data row71 col1\" >Number of accounts 90 or more days past due in last 24 months</td>\n",
              "            </tr>\n",
              "            <tr>\n",
              "                        <th id=\"T_3ab49472_834f_11ea_a2f1_0242ac1c0002level0_row72\" class=\"row_heading level0 row72\" >72</th>\n",
              "                        <td id=\"T_3ab49472_834f_11ea_a2f1_0242ac1c0002row72_col0\" class=\"data row72 col0\" >num_tl_op_past_12m</td>\n",
              "                        <td id=\"T_3ab49472_834f_11ea_a2f1_0242ac1c0002row72_col1\" class=\"data row72 col1\" >Number of accounts opened in past 12 months</td>\n",
              "            </tr>\n",
              "            <tr>\n",
              "                        <th id=\"T_3ab49472_834f_11ea_a2f1_0242ac1c0002level0_row73\" class=\"row_heading level0 row73\" >73</th>\n",
              "                        <td id=\"T_3ab49472_834f_11ea_a2f1_0242ac1c0002row73_col0\" class=\"data row73 col0\" >open_acc</td>\n",
              "                        <td id=\"T_3ab49472_834f_11ea_a2f1_0242ac1c0002row73_col1\" class=\"data row73 col1\" >The number of open credit lines in the borrower's credit file.</td>\n",
              "            </tr>\n",
              "            <tr>\n",
              "                        <th id=\"T_3ab49472_834f_11ea_a2f1_0242ac1c0002level0_row74\" class=\"row_heading level0 row74\" >74</th>\n",
              "                        <td id=\"T_3ab49472_834f_11ea_a2f1_0242ac1c0002row74_col0\" class=\"data row74 col0\" >open_acc_6m</td>\n",
              "                        <td id=\"T_3ab49472_834f_11ea_a2f1_0242ac1c0002row74_col1\" class=\"data row74 col1\" >Number of open trades in last 6 months</td>\n",
              "            </tr>\n",
              "            <tr>\n",
              "                        <th id=\"T_3ab49472_834f_11ea_a2f1_0242ac1c0002level0_row75\" class=\"row_heading level0 row75\" >75</th>\n",
              "                        <td id=\"T_3ab49472_834f_11ea_a2f1_0242ac1c0002row75_col0\" class=\"data row75 col0\" >open_il_12m</td>\n",
              "                        <td id=\"T_3ab49472_834f_11ea_a2f1_0242ac1c0002row75_col1\" class=\"data row75 col1\" >Number of installment accounts opened in past 12 months</td>\n",
              "            </tr>\n",
              "            <tr>\n",
              "                        <th id=\"T_3ab49472_834f_11ea_a2f1_0242ac1c0002level0_row76\" class=\"row_heading level0 row76\" >76</th>\n",
              "                        <td id=\"T_3ab49472_834f_11ea_a2f1_0242ac1c0002row76_col0\" class=\"data row76 col0\" >open_il_24m</td>\n",
              "                        <td id=\"T_3ab49472_834f_11ea_a2f1_0242ac1c0002row76_col1\" class=\"data row76 col1\" >Number of installment accounts opened in past 24 months</td>\n",
              "            </tr>\n",
              "            <tr>\n",
              "                        <th id=\"T_3ab49472_834f_11ea_a2f1_0242ac1c0002level0_row77\" class=\"row_heading level0 row77\" >77</th>\n",
              "                        <td id=\"T_3ab49472_834f_11ea_a2f1_0242ac1c0002row77_col0\" class=\"data row77 col0\" >open_act_il</td>\n",
              "                        <td id=\"T_3ab49472_834f_11ea_a2f1_0242ac1c0002row77_col1\" class=\"data row77 col1\" >Number of currently active installment trades</td>\n",
              "            </tr>\n",
              "            <tr>\n",
              "                        <th id=\"T_3ab49472_834f_11ea_a2f1_0242ac1c0002level0_row78\" class=\"row_heading level0 row78\" >78</th>\n",
              "                        <td id=\"T_3ab49472_834f_11ea_a2f1_0242ac1c0002row78_col0\" class=\"data row78 col0\" >open_rv_12m</td>\n",
              "                        <td id=\"T_3ab49472_834f_11ea_a2f1_0242ac1c0002row78_col1\" class=\"data row78 col1\" >Number of revolving trades opened in past 12 months</td>\n",
              "            </tr>\n",
              "            <tr>\n",
              "                        <th id=\"T_3ab49472_834f_11ea_a2f1_0242ac1c0002level0_row79\" class=\"row_heading level0 row79\" >79</th>\n",
              "                        <td id=\"T_3ab49472_834f_11ea_a2f1_0242ac1c0002row79_col0\" class=\"data row79 col0\" >open_rv_24m</td>\n",
              "                        <td id=\"T_3ab49472_834f_11ea_a2f1_0242ac1c0002row79_col1\" class=\"data row79 col1\" >Number of revolving trades opened in past 24 months</td>\n",
              "            </tr>\n",
              "            <tr>\n",
              "                        <th id=\"T_3ab49472_834f_11ea_a2f1_0242ac1c0002level0_row80\" class=\"row_heading level0 row80\" >80</th>\n",
              "                        <td id=\"T_3ab49472_834f_11ea_a2f1_0242ac1c0002row80_col0\" class=\"data row80 col0\" >out_prncp</td>\n",
              "                        <td id=\"T_3ab49472_834f_11ea_a2f1_0242ac1c0002row80_col1\" class=\"data row80 col1\" >Remaining outstanding principal for total amount funded</td>\n",
              "            </tr>\n",
              "            <tr>\n",
              "                        <th id=\"T_3ab49472_834f_11ea_a2f1_0242ac1c0002level0_row81\" class=\"row_heading level0 row81\" >81</th>\n",
              "                        <td id=\"T_3ab49472_834f_11ea_a2f1_0242ac1c0002row81_col0\" class=\"data row81 col0\" >out_prncp_inv</td>\n",
              "                        <td id=\"T_3ab49472_834f_11ea_a2f1_0242ac1c0002row81_col1\" class=\"data row81 col1\" >Remaining outstanding principal for portion of total amount funded by investors</td>\n",
              "            </tr>\n",
              "            <tr>\n",
              "                        <th id=\"T_3ab49472_834f_11ea_a2f1_0242ac1c0002level0_row82\" class=\"row_heading level0 row82\" >82</th>\n",
              "                        <td id=\"T_3ab49472_834f_11ea_a2f1_0242ac1c0002row82_col0\" class=\"data row82 col0\" >pct_tl_nvr_dlq</td>\n",
              "                        <td id=\"T_3ab49472_834f_11ea_a2f1_0242ac1c0002row82_col1\" class=\"data row82 col1\" >Percent of trades never delinquent</td>\n",
              "            </tr>\n",
              "            <tr>\n",
              "                        <th id=\"T_3ab49472_834f_11ea_a2f1_0242ac1c0002level0_row83\" class=\"row_heading level0 row83\" >83</th>\n",
              "                        <td id=\"T_3ab49472_834f_11ea_a2f1_0242ac1c0002row83_col0\" class=\"data row83 col0\" >percent_bc_gt_75</td>\n",
              "                        <td id=\"T_3ab49472_834f_11ea_a2f1_0242ac1c0002row83_col1\" class=\"data row83 col1\" >Percentage of all bankcard accounts > 75% of limit.</td>\n",
              "            </tr>\n",
              "            <tr>\n",
              "                        <th id=\"T_3ab49472_834f_11ea_a2f1_0242ac1c0002level0_row84\" class=\"row_heading level0 row84\" >84</th>\n",
              "                        <td id=\"T_3ab49472_834f_11ea_a2f1_0242ac1c0002row84_col0\" class=\"data row84 col0\" >policy_code</td>\n",
              "                        <td id=\"T_3ab49472_834f_11ea_a2f1_0242ac1c0002row84_col1\" class=\"data row84 col1\" >publicly available policy_code=1\n",
              "new products not publicly available policy_code=2</td>\n",
              "            </tr>\n",
              "            <tr>\n",
              "                        <th id=\"T_3ab49472_834f_11ea_a2f1_0242ac1c0002level0_row85\" class=\"row_heading level0 row85\" >85</th>\n",
              "                        <td id=\"T_3ab49472_834f_11ea_a2f1_0242ac1c0002row85_col0\" class=\"data row85 col0\" >pub_rec</td>\n",
              "                        <td id=\"T_3ab49472_834f_11ea_a2f1_0242ac1c0002row85_col1\" class=\"data row85 col1\" >Number of derogatory public records</td>\n",
              "            </tr>\n",
              "            <tr>\n",
              "                        <th id=\"T_3ab49472_834f_11ea_a2f1_0242ac1c0002level0_row86\" class=\"row_heading level0 row86\" >86</th>\n",
              "                        <td id=\"T_3ab49472_834f_11ea_a2f1_0242ac1c0002row86_col0\" class=\"data row86 col0\" >pub_rec_bankruptcies</td>\n",
              "                        <td id=\"T_3ab49472_834f_11ea_a2f1_0242ac1c0002row86_col1\" class=\"data row86 col1\" >Number of public record bankruptcies</td>\n",
              "            </tr>\n",
              "            <tr>\n",
              "                        <th id=\"T_3ab49472_834f_11ea_a2f1_0242ac1c0002level0_row87\" class=\"row_heading level0 row87\" >87</th>\n",
              "                        <td id=\"T_3ab49472_834f_11ea_a2f1_0242ac1c0002row87_col0\" class=\"data row87 col0\" >purpose</td>\n",
              "                        <td id=\"T_3ab49472_834f_11ea_a2f1_0242ac1c0002row87_col1\" class=\"data row87 col1\" >A category provided by the borrower for the loan request. </td>\n",
              "            </tr>\n",
              "            <tr>\n",
              "                        <th id=\"T_3ab49472_834f_11ea_a2f1_0242ac1c0002level0_row88\" class=\"row_heading level0 row88\" >88</th>\n",
              "                        <td id=\"T_3ab49472_834f_11ea_a2f1_0242ac1c0002row88_col0\" class=\"data row88 col0\" >pymnt_plan</td>\n",
              "                        <td id=\"T_3ab49472_834f_11ea_a2f1_0242ac1c0002row88_col1\" class=\"data row88 col1\" >Indicates if a payment plan has been put in place for the loan</td>\n",
              "            </tr>\n",
              "            <tr>\n",
              "                        <th id=\"T_3ab49472_834f_11ea_a2f1_0242ac1c0002level0_row89\" class=\"row_heading level0 row89\" >89</th>\n",
              "                        <td id=\"T_3ab49472_834f_11ea_a2f1_0242ac1c0002row89_col0\" class=\"data row89 col0\" >recoveries</td>\n",
              "                        <td id=\"T_3ab49472_834f_11ea_a2f1_0242ac1c0002row89_col1\" class=\"data row89 col1\" >post charge off gross recovery</td>\n",
              "            </tr>\n",
              "            <tr>\n",
              "                        <th id=\"T_3ab49472_834f_11ea_a2f1_0242ac1c0002level0_row90\" class=\"row_heading level0 row90\" >90</th>\n",
              "                        <td id=\"T_3ab49472_834f_11ea_a2f1_0242ac1c0002row90_col0\" class=\"data row90 col0\" >revol_bal</td>\n",
              "                        <td id=\"T_3ab49472_834f_11ea_a2f1_0242ac1c0002row90_col1\" class=\"data row90 col1\" >Total credit revolving balance</td>\n",
              "            </tr>\n",
              "            <tr>\n",
              "                        <th id=\"T_3ab49472_834f_11ea_a2f1_0242ac1c0002level0_row91\" class=\"row_heading level0 row91\" >91</th>\n",
              "                        <td id=\"T_3ab49472_834f_11ea_a2f1_0242ac1c0002row91_col0\" class=\"data row91 col0\" >revol_util</td>\n",
              "                        <td id=\"T_3ab49472_834f_11ea_a2f1_0242ac1c0002row91_col1\" class=\"data row91 col1\" >Revolving line utilization rate, or the amount of credit the borrower is using relative to all available revolving credit.</td>\n",
              "            </tr>\n",
              "            <tr>\n",
              "                        <th id=\"T_3ab49472_834f_11ea_a2f1_0242ac1c0002level0_row92\" class=\"row_heading level0 row92\" >92</th>\n",
              "                        <td id=\"T_3ab49472_834f_11ea_a2f1_0242ac1c0002row92_col0\" class=\"data row92 col0\" >sub_grade</td>\n",
              "                        <td id=\"T_3ab49472_834f_11ea_a2f1_0242ac1c0002row92_col1\" class=\"data row92 col1\" >LC assigned loan subgrade</td>\n",
              "            </tr>\n",
              "            <tr>\n",
              "                        <th id=\"T_3ab49472_834f_11ea_a2f1_0242ac1c0002level0_row93\" class=\"row_heading level0 row93\" >93</th>\n",
              "                        <td id=\"T_3ab49472_834f_11ea_a2f1_0242ac1c0002row93_col0\" class=\"data row93 col0\" >tax_liens</td>\n",
              "                        <td id=\"T_3ab49472_834f_11ea_a2f1_0242ac1c0002row93_col1\" class=\"data row93 col1\" >Number of tax liens</td>\n",
              "            </tr>\n",
              "            <tr>\n",
              "                        <th id=\"T_3ab49472_834f_11ea_a2f1_0242ac1c0002level0_row94\" class=\"row_heading level0 row94\" >94</th>\n",
              "                        <td id=\"T_3ab49472_834f_11ea_a2f1_0242ac1c0002row94_col0\" class=\"data row94 col0\" >term</td>\n",
              "                        <td id=\"T_3ab49472_834f_11ea_a2f1_0242ac1c0002row94_col1\" class=\"data row94 col1\" >The number of payments on the loan. Values are in months and can be either 36 or 60.</td>\n",
              "            </tr>\n",
              "            <tr>\n",
              "                        <th id=\"T_3ab49472_834f_11ea_a2f1_0242ac1c0002level0_row95\" class=\"row_heading level0 row95\" >95</th>\n",
              "                        <td id=\"T_3ab49472_834f_11ea_a2f1_0242ac1c0002row95_col0\" class=\"data row95 col0\" >title</td>\n",
              "                        <td id=\"T_3ab49472_834f_11ea_a2f1_0242ac1c0002row95_col1\" class=\"data row95 col1\" >The loan title provided by the borrower</td>\n",
              "            </tr>\n",
              "            <tr>\n",
              "                        <th id=\"T_3ab49472_834f_11ea_a2f1_0242ac1c0002level0_row96\" class=\"row_heading level0 row96\" >96</th>\n",
              "                        <td id=\"T_3ab49472_834f_11ea_a2f1_0242ac1c0002row96_col0\" class=\"data row96 col0\" >tot_coll_amt</td>\n",
              "                        <td id=\"T_3ab49472_834f_11ea_a2f1_0242ac1c0002row96_col1\" class=\"data row96 col1\" >Total collection amounts ever owed</td>\n",
              "            </tr>\n",
              "            <tr>\n",
              "                        <th id=\"T_3ab49472_834f_11ea_a2f1_0242ac1c0002level0_row97\" class=\"row_heading level0 row97\" >97</th>\n",
              "                        <td id=\"T_3ab49472_834f_11ea_a2f1_0242ac1c0002row97_col0\" class=\"data row97 col0\" >tot_cur_bal</td>\n",
              "                        <td id=\"T_3ab49472_834f_11ea_a2f1_0242ac1c0002row97_col1\" class=\"data row97 col1\" >Total current balance of all accounts</td>\n",
              "            </tr>\n",
              "            <tr>\n",
              "                        <th id=\"T_3ab49472_834f_11ea_a2f1_0242ac1c0002level0_row98\" class=\"row_heading level0 row98\" >98</th>\n",
              "                        <td id=\"T_3ab49472_834f_11ea_a2f1_0242ac1c0002row98_col0\" class=\"data row98 col0\" >tot_hi_cred_lim</td>\n",
              "                        <td id=\"T_3ab49472_834f_11ea_a2f1_0242ac1c0002row98_col1\" class=\"data row98 col1\" >Total high credit/credit limit</td>\n",
              "            </tr>\n",
              "            <tr>\n",
              "                        <th id=\"T_3ab49472_834f_11ea_a2f1_0242ac1c0002level0_row99\" class=\"row_heading level0 row99\" >99</th>\n",
              "                        <td id=\"T_3ab49472_834f_11ea_a2f1_0242ac1c0002row99_col0\" class=\"data row99 col0\" >total_acc</td>\n",
              "                        <td id=\"T_3ab49472_834f_11ea_a2f1_0242ac1c0002row99_col1\" class=\"data row99 col1\" >The total number of credit lines currently in the borrower's credit file</td>\n",
              "            </tr>\n",
              "            <tr>\n",
              "                        <th id=\"T_3ab49472_834f_11ea_a2f1_0242ac1c0002level0_row100\" class=\"row_heading level0 row100\" >100</th>\n",
              "                        <td id=\"T_3ab49472_834f_11ea_a2f1_0242ac1c0002row100_col0\" class=\"data row100 col0\" >total_bal_ex_mort</td>\n",
              "                        <td id=\"T_3ab49472_834f_11ea_a2f1_0242ac1c0002row100_col1\" class=\"data row100 col1\" >Total credit balance excluding mortgage</td>\n",
              "            </tr>\n",
              "            <tr>\n",
              "                        <th id=\"T_3ab49472_834f_11ea_a2f1_0242ac1c0002level0_row101\" class=\"row_heading level0 row101\" >101</th>\n",
              "                        <td id=\"T_3ab49472_834f_11ea_a2f1_0242ac1c0002row101_col0\" class=\"data row101 col0\" >total_bal_il</td>\n",
              "                        <td id=\"T_3ab49472_834f_11ea_a2f1_0242ac1c0002row101_col1\" class=\"data row101 col1\" >Total current balance of all installment accounts</td>\n",
              "            </tr>\n",
              "            <tr>\n",
              "                        <th id=\"T_3ab49472_834f_11ea_a2f1_0242ac1c0002level0_row102\" class=\"row_heading level0 row102\" >102</th>\n",
              "                        <td id=\"T_3ab49472_834f_11ea_a2f1_0242ac1c0002row102_col0\" class=\"data row102 col0\" >total_bc_limit</td>\n",
              "                        <td id=\"T_3ab49472_834f_11ea_a2f1_0242ac1c0002row102_col1\" class=\"data row102 col1\" >Total bankcard high credit/credit limit</td>\n",
              "            </tr>\n",
              "            <tr>\n",
              "                        <th id=\"T_3ab49472_834f_11ea_a2f1_0242ac1c0002level0_row103\" class=\"row_heading level0 row103\" >103</th>\n",
              "                        <td id=\"T_3ab49472_834f_11ea_a2f1_0242ac1c0002row103_col0\" class=\"data row103 col0\" >total_cu_tl</td>\n",
              "                        <td id=\"T_3ab49472_834f_11ea_a2f1_0242ac1c0002row103_col1\" class=\"data row103 col1\" >Number of finance trades</td>\n",
              "            </tr>\n",
              "            <tr>\n",
              "                        <th id=\"T_3ab49472_834f_11ea_a2f1_0242ac1c0002level0_row104\" class=\"row_heading level0 row104\" >104</th>\n",
              "                        <td id=\"T_3ab49472_834f_11ea_a2f1_0242ac1c0002row104_col0\" class=\"data row104 col0\" >total_il_high_credit_limit</td>\n",
              "                        <td id=\"T_3ab49472_834f_11ea_a2f1_0242ac1c0002row104_col1\" class=\"data row104 col1\" >Total installment high credit/credit limit</td>\n",
              "            </tr>\n",
              "            <tr>\n",
              "                        <th id=\"T_3ab49472_834f_11ea_a2f1_0242ac1c0002level0_row105\" class=\"row_heading level0 row105\" >105</th>\n",
              "                        <td id=\"T_3ab49472_834f_11ea_a2f1_0242ac1c0002row105_col0\" class=\"data row105 col0\" >total_pymnt</td>\n",
              "                        <td id=\"T_3ab49472_834f_11ea_a2f1_0242ac1c0002row105_col1\" class=\"data row105 col1\" >Payments received to date for total amount funded</td>\n",
              "            </tr>\n",
              "            <tr>\n",
              "                        <th id=\"T_3ab49472_834f_11ea_a2f1_0242ac1c0002level0_row106\" class=\"row_heading level0 row106\" >106</th>\n",
              "                        <td id=\"T_3ab49472_834f_11ea_a2f1_0242ac1c0002row106_col0\" class=\"data row106 col0\" >total_pymnt_inv</td>\n",
              "                        <td id=\"T_3ab49472_834f_11ea_a2f1_0242ac1c0002row106_col1\" class=\"data row106 col1\" >Payments received to date for portion of total amount funded by investors</td>\n",
              "            </tr>\n",
              "            <tr>\n",
              "                        <th id=\"T_3ab49472_834f_11ea_a2f1_0242ac1c0002level0_row107\" class=\"row_heading level0 row107\" >107</th>\n",
              "                        <td id=\"T_3ab49472_834f_11ea_a2f1_0242ac1c0002row107_col0\" class=\"data row107 col0\" >total_rec_int</td>\n",
              "                        <td id=\"T_3ab49472_834f_11ea_a2f1_0242ac1c0002row107_col1\" class=\"data row107 col1\" >Interest received to date</td>\n",
              "            </tr>\n",
              "            <tr>\n",
              "                        <th id=\"T_3ab49472_834f_11ea_a2f1_0242ac1c0002level0_row108\" class=\"row_heading level0 row108\" >108</th>\n",
              "                        <td id=\"T_3ab49472_834f_11ea_a2f1_0242ac1c0002row108_col0\" class=\"data row108 col0\" >total_rec_late_fee</td>\n",
              "                        <td id=\"T_3ab49472_834f_11ea_a2f1_0242ac1c0002row108_col1\" class=\"data row108 col1\" >Late fees received to date</td>\n",
              "            </tr>\n",
              "            <tr>\n",
              "                        <th id=\"T_3ab49472_834f_11ea_a2f1_0242ac1c0002level0_row109\" class=\"row_heading level0 row109\" >109</th>\n",
              "                        <td id=\"T_3ab49472_834f_11ea_a2f1_0242ac1c0002row109_col0\" class=\"data row109 col0\" >total_rec_prncp</td>\n",
              "                        <td id=\"T_3ab49472_834f_11ea_a2f1_0242ac1c0002row109_col1\" class=\"data row109 col1\" >Principal received to date</td>\n",
              "            </tr>\n",
              "            <tr>\n",
              "                        <th id=\"T_3ab49472_834f_11ea_a2f1_0242ac1c0002level0_row110\" class=\"row_heading level0 row110\" >110</th>\n",
              "                        <td id=\"T_3ab49472_834f_11ea_a2f1_0242ac1c0002row110_col0\" class=\"data row110 col0\" >total_rev_hi_lim  </td>\n",
              "                        <td id=\"T_3ab49472_834f_11ea_a2f1_0242ac1c0002row110_col1\" class=\"data row110 col1\" >Total revolving high credit/credit limit</td>\n",
              "            </tr>\n",
              "            <tr>\n",
              "                        <th id=\"T_3ab49472_834f_11ea_a2f1_0242ac1c0002level0_row111\" class=\"row_heading level0 row111\" >111</th>\n",
              "                        <td id=\"T_3ab49472_834f_11ea_a2f1_0242ac1c0002row111_col0\" class=\"data row111 col0\" >url</td>\n",
              "                        <td id=\"T_3ab49472_834f_11ea_a2f1_0242ac1c0002row111_col1\" class=\"data row111 col1\" >URL for the LC page with listing data.</td>\n",
              "            </tr>\n",
              "            <tr>\n",
              "                        <th id=\"T_3ab49472_834f_11ea_a2f1_0242ac1c0002level0_row112\" class=\"row_heading level0 row112\" >112</th>\n",
              "                        <td id=\"T_3ab49472_834f_11ea_a2f1_0242ac1c0002row112_col0\" class=\"data row112 col0\" >verification_status</td>\n",
              "                        <td id=\"T_3ab49472_834f_11ea_a2f1_0242ac1c0002row112_col1\" class=\"data row112 col1\" >Indicates if income was verified by LC, not verified, or if the income source was verified</td>\n",
              "            </tr>\n",
              "            <tr>\n",
              "                        <th id=\"T_3ab49472_834f_11ea_a2f1_0242ac1c0002level0_row113\" class=\"row_heading level0 row113\" >113</th>\n",
              "                        <td id=\"T_3ab49472_834f_11ea_a2f1_0242ac1c0002row113_col0\" class=\"data row113 col0\" >verified_status_joint</td>\n",
              "                        <td id=\"T_3ab49472_834f_11ea_a2f1_0242ac1c0002row113_col1\" class=\"data row113 col1\" >Indicates if the co-borrowers' joint income was verified by LC, not verified, or if the income source was verified</td>\n",
              "            </tr>\n",
              "            <tr>\n",
              "                        <th id=\"T_3ab49472_834f_11ea_a2f1_0242ac1c0002level0_row114\" class=\"row_heading level0 row114\" >114</th>\n",
              "                        <td id=\"T_3ab49472_834f_11ea_a2f1_0242ac1c0002row114_col0\" class=\"data row114 col0\" >zip_code</td>\n",
              "                        <td id=\"T_3ab49472_834f_11ea_a2f1_0242ac1c0002row114_col1\" class=\"data row114 col1\" >The first 3 numbers of the zip code provided by the borrower in the loan application.</td>\n",
              "            </tr>\n",
              "            <tr>\n",
              "                        <th id=\"T_3ab49472_834f_11ea_a2f1_0242ac1c0002level0_row115\" class=\"row_heading level0 row115\" >115</th>\n",
              "                        <td id=\"T_3ab49472_834f_11ea_a2f1_0242ac1c0002row115_col0\" class=\"data row115 col0\" >revol_bal_joint </td>\n",
              "                        <td id=\"T_3ab49472_834f_11ea_a2f1_0242ac1c0002row115_col1\" class=\"data row115 col1\" > Sum of revolving credit balance of the co-borrowers, net of duplicate balances</td>\n",
              "            </tr>\n",
              "            <tr>\n",
              "                        <th id=\"T_3ab49472_834f_11ea_a2f1_0242ac1c0002level0_row116\" class=\"row_heading level0 row116\" >116</th>\n",
              "                        <td id=\"T_3ab49472_834f_11ea_a2f1_0242ac1c0002row116_col0\" class=\"data row116 col0\" >sec_app_fico_range_low </td>\n",
              "                        <td id=\"T_3ab49472_834f_11ea_a2f1_0242ac1c0002row116_col1\" class=\"data row116 col1\" > FICO range (high) for the secondary applicant</td>\n",
              "            </tr>\n",
              "            <tr>\n",
              "                        <th id=\"T_3ab49472_834f_11ea_a2f1_0242ac1c0002level0_row117\" class=\"row_heading level0 row117\" >117</th>\n",
              "                        <td id=\"T_3ab49472_834f_11ea_a2f1_0242ac1c0002row117_col0\" class=\"data row117 col0\" >sec_app_fico_range_high </td>\n",
              "                        <td id=\"T_3ab49472_834f_11ea_a2f1_0242ac1c0002row117_col1\" class=\"data row117 col1\" > FICO range (low) for the secondary applicant</td>\n",
              "            </tr>\n",
              "            <tr>\n",
              "                        <th id=\"T_3ab49472_834f_11ea_a2f1_0242ac1c0002level0_row118\" class=\"row_heading level0 row118\" >118</th>\n",
              "                        <td id=\"T_3ab49472_834f_11ea_a2f1_0242ac1c0002row118_col0\" class=\"data row118 col0\" >sec_app_earliest_cr_line </td>\n",
              "                        <td id=\"T_3ab49472_834f_11ea_a2f1_0242ac1c0002row118_col1\" class=\"data row118 col1\" > Earliest credit line at time of application for the secondary applicant</td>\n",
              "            </tr>\n",
              "            <tr>\n",
              "                        <th id=\"T_3ab49472_834f_11ea_a2f1_0242ac1c0002level0_row119\" class=\"row_heading level0 row119\" >119</th>\n",
              "                        <td id=\"T_3ab49472_834f_11ea_a2f1_0242ac1c0002row119_col0\" class=\"data row119 col0\" >sec_app_inq_last_6mths </td>\n",
              "                        <td id=\"T_3ab49472_834f_11ea_a2f1_0242ac1c0002row119_col1\" class=\"data row119 col1\" > Credit inquiries in the last 6 months at time of application for the secondary applicant</td>\n",
              "            </tr>\n",
              "            <tr>\n",
              "                        <th id=\"T_3ab49472_834f_11ea_a2f1_0242ac1c0002level0_row120\" class=\"row_heading level0 row120\" >120</th>\n",
              "                        <td id=\"T_3ab49472_834f_11ea_a2f1_0242ac1c0002row120_col0\" class=\"data row120 col0\" >sec_app_mort_acc </td>\n",
              "                        <td id=\"T_3ab49472_834f_11ea_a2f1_0242ac1c0002row120_col1\" class=\"data row120 col1\" > Number of mortgage accounts at time of application for the secondary applicant</td>\n",
              "            </tr>\n",
              "            <tr>\n",
              "                        <th id=\"T_3ab49472_834f_11ea_a2f1_0242ac1c0002level0_row121\" class=\"row_heading level0 row121\" >121</th>\n",
              "                        <td id=\"T_3ab49472_834f_11ea_a2f1_0242ac1c0002row121_col0\" class=\"data row121 col0\" >sec_app_open_acc </td>\n",
              "                        <td id=\"T_3ab49472_834f_11ea_a2f1_0242ac1c0002row121_col1\" class=\"data row121 col1\" > Number of open trades at time of application for the secondary applicant</td>\n",
              "            </tr>\n",
              "            <tr>\n",
              "                        <th id=\"T_3ab49472_834f_11ea_a2f1_0242ac1c0002level0_row122\" class=\"row_heading level0 row122\" >122</th>\n",
              "                        <td id=\"T_3ab49472_834f_11ea_a2f1_0242ac1c0002row122_col0\" class=\"data row122 col0\" >sec_app_revol_util </td>\n",
              "                        <td id=\"T_3ab49472_834f_11ea_a2f1_0242ac1c0002row122_col1\" class=\"data row122 col1\" > Ratio of total current balance to high credit/credit limit for all revolving accounts</td>\n",
              "            </tr>\n",
              "            <tr>\n",
              "                        <th id=\"T_3ab49472_834f_11ea_a2f1_0242ac1c0002level0_row123\" class=\"row_heading level0 row123\" >123</th>\n",
              "                        <td id=\"T_3ab49472_834f_11ea_a2f1_0242ac1c0002row123_col0\" class=\"data row123 col0\" >sec_app_open_act_il</td>\n",
              "                        <td id=\"T_3ab49472_834f_11ea_a2f1_0242ac1c0002row123_col1\" class=\"data row123 col1\" > Number of currently active installment trades at time of application for the secondary applicant</td>\n",
              "            </tr>\n",
              "            <tr>\n",
              "                        <th id=\"T_3ab49472_834f_11ea_a2f1_0242ac1c0002level0_row124\" class=\"row_heading level0 row124\" >124</th>\n",
              "                        <td id=\"T_3ab49472_834f_11ea_a2f1_0242ac1c0002row124_col0\" class=\"data row124 col0\" >sec_app_num_rev_accts </td>\n",
              "                        <td id=\"T_3ab49472_834f_11ea_a2f1_0242ac1c0002row124_col1\" class=\"data row124 col1\" > Number of revolving accounts at time of application for the secondary applicant</td>\n",
              "            </tr>\n",
              "            <tr>\n",
              "                        <th id=\"T_3ab49472_834f_11ea_a2f1_0242ac1c0002level0_row125\" class=\"row_heading level0 row125\" >125</th>\n",
              "                        <td id=\"T_3ab49472_834f_11ea_a2f1_0242ac1c0002row125_col0\" class=\"data row125 col0\" >sec_app_chargeoff_within_12_mths </td>\n",
              "                        <td id=\"T_3ab49472_834f_11ea_a2f1_0242ac1c0002row125_col1\" class=\"data row125 col1\" > Number of charge-offs within last 12 months at time of application for the secondary applicant</td>\n",
              "            </tr>\n",
              "            <tr>\n",
              "                        <th id=\"T_3ab49472_834f_11ea_a2f1_0242ac1c0002level0_row126\" class=\"row_heading level0 row126\" >126</th>\n",
              "                        <td id=\"T_3ab49472_834f_11ea_a2f1_0242ac1c0002row126_col0\" class=\"data row126 col0\" >sec_app_collections_12_mths_ex_med </td>\n",
              "                        <td id=\"T_3ab49472_834f_11ea_a2f1_0242ac1c0002row126_col1\" class=\"data row126 col1\" > Number of collections within last 12 months excluding medical collections at time of application for the secondary applicant</td>\n",
              "            </tr>\n",
              "            <tr>\n",
              "                        <th id=\"T_3ab49472_834f_11ea_a2f1_0242ac1c0002level0_row127\" class=\"row_heading level0 row127\" >127</th>\n",
              "                        <td id=\"T_3ab49472_834f_11ea_a2f1_0242ac1c0002row127_col0\" class=\"data row127 col0\" >sec_app_mths_since_last_major_derog </td>\n",
              "                        <td id=\"T_3ab49472_834f_11ea_a2f1_0242ac1c0002row127_col1\" class=\"data row127 col1\" > Months since most recent 90-day or worse rating at time of application for the secondary applicant</td>\n",
              "            </tr>\n",
              "            <tr>\n",
              "                        <th id=\"T_3ab49472_834f_11ea_a2f1_0242ac1c0002level0_row128\" class=\"row_heading level0 row128\" >128</th>\n",
              "                        <td id=\"T_3ab49472_834f_11ea_a2f1_0242ac1c0002row128_col0\" class=\"data row128 col0\" >hardship_flag</td>\n",
              "                        <td id=\"T_3ab49472_834f_11ea_a2f1_0242ac1c0002row128_col1\" class=\"data row128 col1\" >Flags whether or not the borrower is on a hardship plan</td>\n",
              "            </tr>\n",
              "            <tr>\n",
              "                        <th id=\"T_3ab49472_834f_11ea_a2f1_0242ac1c0002level0_row129\" class=\"row_heading level0 row129\" >129</th>\n",
              "                        <td id=\"T_3ab49472_834f_11ea_a2f1_0242ac1c0002row129_col0\" class=\"data row129 col0\" >hardship_type</td>\n",
              "                        <td id=\"T_3ab49472_834f_11ea_a2f1_0242ac1c0002row129_col1\" class=\"data row129 col1\" >Describes the hardship plan offering</td>\n",
              "            </tr>\n",
              "            <tr>\n",
              "                        <th id=\"T_3ab49472_834f_11ea_a2f1_0242ac1c0002level0_row130\" class=\"row_heading level0 row130\" >130</th>\n",
              "                        <td id=\"T_3ab49472_834f_11ea_a2f1_0242ac1c0002row130_col0\" class=\"data row130 col0\" >hardship_reason</td>\n",
              "                        <td id=\"T_3ab49472_834f_11ea_a2f1_0242ac1c0002row130_col1\" class=\"data row130 col1\" >Describes the reason the hardship plan was offered</td>\n",
              "            </tr>\n",
              "            <tr>\n",
              "                        <th id=\"T_3ab49472_834f_11ea_a2f1_0242ac1c0002level0_row131\" class=\"row_heading level0 row131\" >131</th>\n",
              "                        <td id=\"T_3ab49472_834f_11ea_a2f1_0242ac1c0002row131_col0\" class=\"data row131 col0\" >hardship_status</td>\n",
              "                        <td id=\"T_3ab49472_834f_11ea_a2f1_0242ac1c0002row131_col1\" class=\"data row131 col1\" >Describes if the hardship plan is active, pending, canceled, completed, or broken</td>\n",
              "            </tr>\n",
              "            <tr>\n",
              "                        <th id=\"T_3ab49472_834f_11ea_a2f1_0242ac1c0002level0_row132\" class=\"row_heading level0 row132\" >132</th>\n",
              "                        <td id=\"T_3ab49472_834f_11ea_a2f1_0242ac1c0002row132_col0\" class=\"data row132 col0\" >deferral_term</td>\n",
              "                        <td id=\"T_3ab49472_834f_11ea_a2f1_0242ac1c0002row132_col1\" class=\"data row132 col1\" >Amount of months that the borrower is expected to pay less than the contractual monthly payment amount due to a hardship plan</td>\n",
              "            </tr>\n",
              "            <tr>\n",
              "                        <th id=\"T_3ab49472_834f_11ea_a2f1_0242ac1c0002level0_row133\" class=\"row_heading level0 row133\" >133</th>\n",
              "                        <td id=\"T_3ab49472_834f_11ea_a2f1_0242ac1c0002row133_col0\" class=\"data row133 col0\" >hardship_amount</td>\n",
              "                        <td id=\"T_3ab49472_834f_11ea_a2f1_0242ac1c0002row133_col1\" class=\"data row133 col1\" >The interest payment that the borrower has committed to make each month while they are on a hardship plan</td>\n",
              "            </tr>\n",
              "            <tr>\n",
              "                        <th id=\"T_3ab49472_834f_11ea_a2f1_0242ac1c0002level0_row134\" class=\"row_heading level0 row134\" >134</th>\n",
              "                        <td id=\"T_3ab49472_834f_11ea_a2f1_0242ac1c0002row134_col0\" class=\"data row134 col0\" >hardship_start_date</td>\n",
              "                        <td id=\"T_3ab49472_834f_11ea_a2f1_0242ac1c0002row134_col1\" class=\"data row134 col1\" >The start date of the hardship plan period</td>\n",
              "            </tr>\n",
              "            <tr>\n",
              "                        <th id=\"T_3ab49472_834f_11ea_a2f1_0242ac1c0002level0_row135\" class=\"row_heading level0 row135\" >135</th>\n",
              "                        <td id=\"T_3ab49472_834f_11ea_a2f1_0242ac1c0002row135_col0\" class=\"data row135 col0\" >hardship_end_date</td>\n",
              "                        <td id=\"T_3ab49472_834f_11ea_a2f1_0242ac1c0002row135_col1\" class=\"data row135 col1\" >The end date of the hardship plan period</td>\n",
              "            </tr>\n",
              "            <tr>\n",
              "                        <th id=\"T_3ab49472_834f_11ea_a2f1_0242ac1c0002level0_row136\" class=\"row_heading level0 row136\" >136</th>\n",
              "                        <td id=\"T_3ab49472_834f_11ea_a2f1_0242ac1c0002row136_col0\" class=\"data row136 col0\" >payment_plan_start_date</td>\n",
              "                        <td id=\"T_3ab49472_834f_11ea_a2f1_0242ac1c0002row136_col1\" class=\"data row136 col1\" >The day the first hardship plan payment is due. For example, if a borrower has a hardship plan period of 3 months, the start date is the start of the three-month period in which the borrower is allowed to make interest-only payments.</td>\n",
              "            </tr>\n",
              "            <tr>\n",
              "                        <th id=\"T_3ab49472_834f_11ea_a2f1_0242ac1c0002level0_row137\" class=\"row_heading level0 row137\" >137</th>\n",
              "                        <td id=\"T_3ab49472_834f_11ea_a2f1_0242ac1c0002row137_col0\" class=\"data row137 col0\" >hardship_length</td>\n",
              "                        <td id=\"T_3ab49472_834f_11ea_a2f1_0242ac1c0002row137_col1\" class=\"data row137 col1\" >The number of months the borrower will make smaller payments than normally obligated due to a hardship plan</td>\n",
              "            </tr>\n",
              "            <tr>\n",
              "                        <th id=\"T_3ab49472_834f_11ea_a2f1_0242ac1c0002level0_row138\" class=\"row_heading level0 row138\" >138</th>\n",
              "                        <td id=\"T_3ab49472_834f_11ea_a2f1_0242ac1c0002row138_col0\" class=\"data row138 col0\" >hardship_dpd</td>\n",
              "                        <td id=\"T_3ab49472_834f_11ea_a2f1_0242ac1c0002row138_col1\" class=\"data row138 col1\" >Account days past due as of the hardship plan start date</td>\n",
              "            </tr>\n",
              "            <tr>\n",
              "                        <th id=\"T_3ab49472_834f_11ea_a2f1_0242ac1c0002level0_row139\" class=\"row_heading level0 row139\" >139</th>\n",
              "                        <td id=\"T_3ab49472_834f_11ea_a2f1_0242ac1c0002row139_col0\" class=\"data row139 col0\" >hardship_loan_status</td>\n",
              "                        <td id=\"T_3ab49472_834f_11ea_a2f1_0242ac1c0002row139_col1\" class=\"data row139 col1\" >Loan Status as of the hardship plan start date</td>\n",
              "            </tr>\n",
              "            <tr>\n",
              "                        <th id=\"T_3ab49472_834f_11ea_a2f1_0242ac1c0002level0_row140\" class=\"row_heading level0 row140\" >140</th>\n",
              "                        <td id=\"T_3ab49472_834f_11ea_a2f1_0242ac1c0002row140_col0\" class=\"data row140 col0\" >orig_projected_additional_accrued_interest</td>\n",
              "                        <td id=\"T_3ab49472_834f_11ea_a2f1_0242ac1c0002row140_col1\" class=\"data row140 col1\" >The original projected additional interest amount that will accrue for the given hardship payment plan as of the Hardship Start Date. This field will be null if the borrower has broken their hardship payment plan.</td>\n",
              "            </tr>\n",
              "            <tr>\n",
              "                        <th id=\"T_3ab49472_834f_11ea_a2f1_0242ac1c0002level0_row141\" class=\"row_heading level0 row141\" >141</th>\n",
              "                        <td id=\"T_3ab49472_834f_11ea_a2f1_0242ac1c0002row141_col0\" class=\"data row141 col0\" >hardship_payoff_balance_amount</td>\n",
              "                        <td id=\"T_3ab49472_834f_11ea_a2f1_0242ac1c0002row141_col1\" class=\"data row141 col1\" >The payoff balance amount as of the hardship plan start date</td>\n",
              "            </tr>\n",
              "            <tr>\n",
              "                        <th id=\"T_3ab49472_834f_11ea_a2f1_0242ac1c0002level0_row142\" class=\"row_heading level0 row142\" >142</th>\n",
              "                        <td id=\"T_3ab49472_834f_11ea_a2f1_0242ac1c0002row142_col0\" class=\"data row142 col0\" >hardship_last_payment_amount</td>\n",
              "                        <td id=\"T_3ab49472_834f_11ea_a2f1_0242ac1c0002row142_col1\" class=\"data row142 col1\" >The last payment amount as of the hardship plan start date</td>\n",
              "            </tr>\n",
              "            <tr>\n",
              "                        <th id=\"T_3ab49472_834f_11ea_a2f1_0242ac1c0002level0_row143\" class=\"row_heading level0 row143\" >143</th>\n",
              "                        <td id=\"T_3ab49472_834f_11ea_a2f1_0242ac1c0002row143_col0\" class=\"data row143 col0\" >disbursement_method</td>\n",
              "                        <td id=\"T_3ab49472_834f_11ea_a2f1_0242ac1c0002row143_col1\" class=\"data row143 col1\" >The method by which the borrower receives their loan. Possible values are: CASH, DIRECT_PAY</td>\n",
              "            </tr>\n",
              "            <tr>\n",
              "                        <th id=\"T_3ab49472_834f_11ea_a2f1_0242ac1c0002level0_row144\" class=\"row_heading level0 row144\" >144</th>\n",
              "                        <td id=\"T_3ab49472_834f_11ea_a2f1_0242ac1c0002row144_col0\" class=\"data row144 col0\" >debt_settlement_flag</td>\n",
              "                        <td id=\"T_3ab49472_834f_11ea_a2f1_0242ac1c0002row144_col1\" class=\"data row144 col1\" >Flags whether or not the borrower, who has charged-off, is working with a debt-settlement company.</td>\n",
              "            </tr>\n",
              "            <tr>\n",
              "                        <th id=\"T_3ab49472_834f_11ea_a2f1_0242ac1c0002level0_row145\" class=\"row_heading level0 row145\" >145</th>\n",
              "                        <td id=\"T_3ab49472_834f_11ea_a2f1_0242ac1c0002row145_col0\" class=\"data row145 col0\" >debt_settlement_flag_date</td>\n",
              "                        <td id=\"T_3ab49472_834f_11ea_a2f1_0242ac1c0002row145_col1\" class=\"data row145 col1\" >The most recent date that the Debt_Settlement_Flag has been set  </td>\n",
              "            </tr>\n",
              "            <tr>\n",
              "                        <th id=\"T_3ab49472_834f_11ea_a2f1_0242ac1c0002level0_row146\" class=\"row_heading level0 row146\" >146</th>\n",
              "                        <td id=\"T_3ab49472_834f_11ea_a2f1_0242ac1c0002row146_col0\" class=\"data row146 col0\" >settlement_status</td>\n",
              "                        <td id=\"T_3ab49472_834f_11ea_a2f1_0242ac1c0002row146_col1\" class=\"data row146 col1\" >The status of the borrower’s settlement plan. Possible values are: COMPLETE, ACTIVE, BROKEN, CANCELLED, DENIED, DRAFT</td>\n",
              "            </tr>\n",
              "            <tr>\n",
              "                        <th id=\"T_3ab49472_834f_11ea_a2f1_0242ac1c0002level0_row147\" class=\"row_heading level0 row147\" >147</th>\n",
              "                        <td id=\"T_3ab49472_834f_11ea_a2f1_0242ac1c0002row147_col0\" class=\"data row147 col0\" >settlement_date</td>\n",
              "                        <td id=\"T_3ab49472_834f_11ea_a2f1_0242ac1c0002row147_col1\" class=\"data row147 col1\" >The date that the borrower agrees to the settlement plan</td>\n",
              "            </tr>\n",
              "            <tr>\n",
              "                        <th id=\"T_3ab49472_834f_11ea_a2f1_0242ac1c0002level0_row148\" class=\"row_heading level0 row148\" >148</th>\n",
              "                        <td id=\"T_3ab49472_834f_11ea_a2f1_0242ac1c0002row148_col0\" class=\"data row148 col0\" >settlement_amount</td>\n",
              "                        <td id=\"T_3ab49472_834f_11ea_a2f1_0242ac1c0002row148_col1\" class=\"data row148 col1\" >The loan amount that the borrower has agreed to settle for</td>\n",
              "            </tr>\n",
              "            <tr>\n",
              "                        <th id=\"T_3ab49472_834f_11ea_a2f1_0242ac1c0002level0_row149\" class=\"row_heading level0 row149\" >149</th>\n",
              "                        <td id=\"T_3ab49472_834f_11ea_a2f1_0242ac1c0002row149_col0\" class=\"data row149 col0\" >settlement_percentage</td>\n",
              "                        <td id=\"T_3ab49472_834f_11ea_a2f1_0242ac1c0002row149_col1\" class=\"data row149 col1\" >The settlement amount as a percentage of the payoff balance amount on the loan</td>\n",
              "            </tr>\n",
              "            <tr>\n",
              "                        <th id=\"T_3ab49472_834f_11ea_a2f1_0242ac1c0002level0_row150\" class=\"row_heading level0 row150\" >150</th>\n",
              "                        <td id=\"T_3ab49472_834f_11ea_a2f1_0242ac1c0002row150_col0\" class=\"data row150 col0\" >settlement_term</td>\n",
              "                        <td id=\"T_3ab49472_834f_11ea_a2f1_0242ac1c0002row150_col1\" class=\"data row150 col1\" >The number of months that the borrower will be on the settlement plan</td>\n",
              "            </tr>\n",
              "    </tbody></table>"
            ],
            "text/plain": [
              "<pandas.io.formats.style.Styler at 0x7ffa71e6bfd0>"
            ]
          },
          "metadata": {
            "tags": []
          },
          "execution_count": 206
        }
      ]
    },
    {
      "cell_type": "markdown",
      "metadata": {
        "id": "aWyWzEpohR8f",
        "colab_type": "text"
      },
      "source": [
        "## **Data Cleaning**"
      ]
    },
    {
      "cell_type": "markdown",
      "metadata": {
        "id": "J3MzGba-kZSh",
        "colab_type": "text"
      },
      "source": [
        "#### **1. Parsing loan_status**"
      ]
    },
    {
      "cell_type": "code",
      "metadata": {
        "id": "EZ15tG0FjTk2",
        "colab_type": "code",
        "outputId": "0f31af8b-f8e7-4e1c-edc2-7de3fb17e5dd",
        "colab": {
          "base_uri": "https://localhost:8080/",
          "height": 136
        }
      },
      "source": [
        "df['loan_status'].value_counts()"
      ],
      "execution_count": 207,
      "outputs": [
        {
          "output_type": "execute_result",
          "data": {
            "text/plain": [
              "Current               96792\n",
              "Fully Paid             2431\n",
              "Late (31-120 days)      318\n",
              "In Grace Period         316\n",
              "Late (16-30 days)       123\n",
              "Charged Off              19\n",
              "Name: loan_status, dtype: int64"
            ]
          },
          "metadata": {
            "tags": []
          },
          "execution_count": 207
        }
      ]
    },
    {
      "cell_type": "code",
      "metadata": {
        "id": "peqiBiHceBHf",
        "colab_type": "code",
        "colab": {
          "base_uri": "https://localhost:8080/",
          "height": 338
        },
        "outputId": "85586078-2091-4dab-8a4e-e15300104328"
      },
      "source": [
        "df.head()"
      ],
      "execution_count": 208,
      "outputs": [
        {
          "output_type": "execute_result",
          "data": {
            "text/html": [
              "<div>\n",
              "<style scoped>\n",
              "    .dataframe tbody tr th:only-of-type {\n",
              "        vertical-align: middle;\n",
              "    }\n",
              "\n",
              "    .dataframe tbody tr th {\n",
              "        vertical-align: top;\n",
              "    }\n",
              "\n",
              "    .dataframe thead th {\n",
              "        text-align: right;\n",
              "    }\n",
              "</style>\n",
              "<table border=\"1\" class=\"dataframe\">\n",
              "  <thead>\n",
              "    <tr style=\"text-align: right;\">\n",
              "      <th></th>\n",
              "      <th>id</th>\n",
              "      <th>member_id</th>\n",
              "      <th>loan_amnt</th>\n",
              "      <th>funded_amnt</th>\n",
              "      <th>funded_amnt_inv</th>\n",
              "      <th>term</th>\n",
              "      <th>int_rate</th>\n",
              "      <th>installment</th>\n",
              "      <th>grade</th>\n",
              "      <th>sub_grade</th>\n",
              "      <th>emp_title</th>\n",
              "      <th>emp_length</th>\n",
              "      <th>home_ownership</th>\n",
              "      <th>annual_inc</th>\n",
              "      <th>verification_status</th>\n",
              "      <th>issue_d</th>\n",
              "      <th>loan_status</th>\n",
              "      <th>pymnt_plan</th>\n",
              "      <th>url</th>\n",
              "      <th>desc</th>\n",
              "      <th>purpose</th>\n",
              "      <th>title</th>\n",
              "      <th>zip_code</th>\n",
              "      <th>addr_state</th>\n",
              "      <th>dti</th>\n",
              "      <th>delinq_2yrs</th>\n",
              "      <th>earliest_cr_line</th>\n",
              "      <th>inq_last_6mths</th>\n",
              "      <th>mths_since_last_delinq</th>\n",
              "      <th>mths_since_last_record</th>\n",
              "      <th>open_acc</th>\n",
              "      <th>pub_rec</th>\n",
              "      <th>revol_bal</th>\n",
              "      <th>revol_util</th>\n",
              "      <th>total_acc</th>\n",
              "      <th>initial_list_status</th>\n",
              "      <th>out_prncp</th>\n",
              "      <th>out_prncp_inv</th>\n",
              "      <th>total_pymnt</th>\n",
              "      <th>total_pymnt_inv</th>\n",
              "      <th>...</th>\n",
              "      <th>pub_rec_bankruptcies</th>\n",
              "      <th>tax_liens</th>\n",
              "      <th>tot_hi_cred_lim</th>\n",
              "      <th>total_bal_ex_mort</th>\n",
              "      <th>total_bc_limit</th>\n",
              "      <th>total_il_high_credit_limit</th>\n",
              "      <th>revol_bal_joint</th>\n",
              "      <th>sec_app_earliest_cr_line</th>\n",
              "      <th>sec_app_inq_last_6mths</th>\n",
              "      <th>sec_app_mort_acc</th>\n",
              "      <th>sec_app_open_acc</th>\n",
              "      <th>sec_app_revol_util</th>\n",
              "      <th>sec_app_open_act_il</th>\n",
              "      <th>sec_app_num_rev_accts</th>\n",
              "      <th>sec_app_chargeoff_within_12_mths</th>\n",
              "      <th>sec_app_collections_12_mths_ex_med</th>\n",
              "      <th>sec_app_mths_since_last_major_derog</th>\n",
              "      <th>hardship_flag</th>\n",
              "      <th>hardship_type</th>\n",
              "      <th>hardship_reason</th>\n",
              "      <th>hardship_status</th>\n",
              "      <th>deferral_term</th>\n",
              "      <th>hardship_amount</th>\n",
              "      <th>hardship_start_date</th>\n",
              "      <th>hardship_end_date</th>\n",
              "      <th>payment_plan_start_date</th>\n",
              "      <th>hardship_length</th>\n",
              "      <th>hardship_dpd</th>\n",
              "      <th>hardship_loan_status</th>\n",
              "      <th>orig_projected_additional_accrued_interest</th>\n",
              "      <th>hardship_payoff_balance_amount</th>\n",
              "      <th>hardship_last_payment_amount</th>\n",
              "      <th>disbursement_method</th>\n",
              "      <th>debt_settlement_flag</th>\n",
              "      <th>debt_settlement_flag_date</th>\n",
              "      <th>settlement_status</th>\n",
              "      <th>settlement_date</th>\n",
              "      <th>settlement_amount</th>\n",
              "      <th>settlement_percentage</th>\n",
              "      <th>settlement_term</th>\n",
              "    </tr>\n",
              "  </thead>\n",
              "  <tbody>\n",
              "    <tr>\n",
              "      <th>0</th>\n",
              "      <td>NaN</td>\n",
              "      <td>NaN</td>\n",
              "      <td>2500</td>\n",
              "      <td>2500</td>\n",
              "      <td>2500</td>\n",
              "      <td>36 months</td>\n",
              "      <td>13.56</td>\n",
              "      <td>84.92</td>\n",
              "      <td>C</td>\n",
              "      <td>C1</td>\n",
              "      <td>Chef</td>\n",
              "      <td>10+ years</td>\n",
              "      <td>RENT</td>\n",
              "      <td>55000.0</td>\n",
              "      <td>Not Verified</td>\n",
              "      <td>Dec-2018</td>\n",
              "      <td>Current</td>\n",
              "      <td>n</td>\n",
              "      <td>NaN</td>\n",
              "      <td>NaN</td>\n",
              "      <td>debt_consolidation</td>\n",
              "      <td>Debt consolidation</td>\n",
              "      <td>109xx</td>\n",
              "      <td>NY</td>\n",
              "      <td>18.24</td>\n",
              "      <td>0</td>\n",
              "      <td>Apr-2001</td>\n",
              "      <td>1</td>\n",
              "      <td>NaN</td>\n",
              "      <td>45.0</td>\n",
              "      <td>9</td>\n",
              "      <td>1</td>\n",
              "      <td>4341</td>\n",
              "      <td>10.3</td>\n",
              "      <td>34</td>\n",
              "      <td>w</td>\n",
              "      <td>2386.02</td>\n",
              "      <td>2386.02</td>\n",
              "      <td>167.02</td>\n",
              "      <td>167.02</td>\n",
              "      <td>...</td>\n",
              "      <td>1</td>\n",
              "      <td>0</td>\n",
              "      <td>60124</td>\n",
              "      <td>16901</td>\n",
              "      <td>36500</td>\n",
              "      <td>18124</td>\n",
              "      <td>NaN</td>\n",
              "      <td>NaN</td>\n",
              "      <td>NaN</td>\n",
              "      <td>NaN</td>\n",
              "      <td>NaN</td>\n",
              "      <td>NaN</td>\n",
              "      <td>NaN</td>\n",
              "      <td>NaN</td>\n",
              "      <td>NaN</td>\n",
              "      <td>NaN</td>\n",
              "      <td>NaN</td>\n",
              "      <td>N</td>\n",
              "      <td>NaN</td>\n",
              "      <td>NaN</td>\n",
              "      <td>NaN</td>\n",
              "      <td>NaN</td>\n",
              "      <td>NaN</td>\n",
              "      <td>NaN</td>\n",
              "      <td>NaN</td>\n",
              "      <td>NaN</td>\n",
              "      <td>NaN</td>\n",
              "      <td>NaN</td>\n",
              "      <td>NaN</td>\n",
              "      <td>NaN</td>\n",
              "      <td>NaN</td>\n",
              "      <td>NaN</td>\n",
              "      <td>Cash</td>\n",
              "      <td>N</td>\n",
              "      <td>NaN</td>\n",
              "      <td>NaN</td>\n",
              "      <td>NaN</td>\n",
              "      <td>NaN</td>\n",
              "      <td>NaN</td>\n",
              "      <td>NaN</td>\n",
              "    </tr>\n",
              "    <tr>\n",
              "      <th>1</th>\n",
              "      <td>NaN</td>\n",
              "      <td>NaN</td>\n",
              "      <td>30000</td>\n",
              "      <td>30000</td>\n",
              "      <td>30000</td>\n",
              "      <td>60 months</td>\n",
              "      <td>18.94</td>\n",
              "      <td>777.23</td>\n",
              "      <td>D</td>\n",
              "      <td>D2</td>\n",
              "      <td>Postmaster</td>\n",
              "      <td>10+ years</td>\n",
              "      <td>MORTGAGE</td>\n",
              "      <td>90000.0</td>\n",
              "      <td>Source Verified</td>\n",
              "      <td>Dec-2018</td>\n",
              "      <td>Current</td>\n",
              "      <td>n</td>\n",
              "      <td>NaN</td>\n",
              "      <td>NaN</td>\n",
              "      <td>debt_consolidation</td>\n",
              "      <td>Debt consolidation</td>\n",
              "      <td>713xx</td>\n",
              "      <td>LA</td>\n",
              "      <td>26.52</td>\n",
              "      <td>0</td>\n",
              "      <td>Jun-1987</td>\n",
              "      <td>0</td>\n",
              "      <td>71.0</td>\n",
              "      <td>75.0</td>\n",
              "      <td>13</td>\n",
              "      <td>1</td>\n",
              "      <td>12315</td>\n",
              "      <td>24.2</td>\n",
              "      <td>44</td>\n",
              "      <td>w</td>\n",
              "      <td>29387.75</td>\n",
              "      <td>29387.75</td>\n",
              "      <td>1507.11</td>\n",
              "      <td>1507.11</td>\n",
              "      <td>...</td>\n",
              "      <td>1</td>\n",
              "      <td>0</td>\n",
              "      <td>372872</td>\n",
              "      <td>99468</td>\n",
              "      <td>15000</td>\n",
              "      <td>94072</td>\n",
              "      <td>NaN</td>\n",
              "      <td>NaN</td>\n",
              "      <td>NaN</td>\n",
              "      <td>NaN</td>\n",
              "      <td>NaN</td>\n",
              "      <td>NaN</td>\n",
              "      <td>NaN</td>\n",
              "      <td>NaN</td>\n",
              "      <td>NaN</td>\n",
              "      <td>NaN</td>\n",
              "      <td>NaN</td>\n",
              "      <td>N</td>\n",
              "      <td>NaN</td>\n",
              "      <td>NaN</td>\n",
              "      <td>NaN</td>\n",
              "      <td>NaN</td>\n",
              "      <td>NaN</td>\n",
              "      <td>NaN</td>\n",
              "      <td>NaN</td>\n",
              "      <td>NaN</td>\n",
              "      <td>NaN</td>\n",
              "      <td>NaN</td>\n",
              "      <td>NaN</td>\n",
              "      <td>NaN</td>\n",
              "      <td>NaN</td>\n",
              "      <td>NaN</td>\n",
              "      <td>Cash</td>\n",
              "      <td>N</td>\n",
              "      <td>NaN</td>\n",
              "      <td>NaN</td>\n",
              "      <td>NaN</td>\n",
              "      <td>NaN</td>\n",
              "      <td>NaN</td>\n",
              "      <td>NaN</td>\n",
              "    </tr>\n",
              "    <tr>\n",
              "      <th>2</th>\n",
              "      <td>NaN</td>\n",
              "      <td>NaN</td>\n",
              "      <td>5000</td>\n",
              "      <td>5000</td>\n",
              "      <td>5000</td>\n",
              "      <td>36 months</td>\n",
              "      <td>17.97</td>\n",
              "      <td>180.69</td>\n",
              "      <td>D</td>\n",
              "      <td>D1</td>\n",
              "      <td>Administrative</td>\n",
              "      <td>6 years</td>\n",
              "      <td>MORTGAGE</td>\n",
              "      <td>59280.0</td>\n",
              "      <td>Source Verified</td>\n",
              "      <td>Dec-2018</td>\n",
              "      <td>Current</td>\n",
              "      <td>n</td>\n",
              "      <td>NaN</td>\n",
              "      <td>NaN</td>\n",
              "      <td>debt_consolidation</td>\n",
              "      <td>Debt consolidation</td>\n",
              "      <td>490xx</td>\n",
              "      <td>MI</td>\n",
              "      <td>10.51</td>\n",
              "      <td>0</td>\n",
              "      <td>Apr-2011</td>\n",
              "      <td>0</td>\n",
              "      <td>NaN</td>\n",
              "      <td>NaN</td>\n",
              "      <td>8</td>\n",
              "      <td>0</td>\n",
              "      <td>4599</td>\n",
              "      <td>19.1</td>\n",
              "      <td>13</td>\n",
              "      <td>w</td>\n",
              "      <td>4787.21</td>\n",
              "      <td>4787.21</td>\n",
              "      <td>353.89</td>\n",
              "      <td>353.89</td>\n",
              "      <td>...</td>\n",
              "      <td>0</td>\n",
              "      <td>0</td>\n",
              "      <td>136927</td>\n",
              "      <td>11749</td>\n",
              "      <td>13800</td>\n",
              "      <td>10000</td>\n",
              "      <td>NaN</td>\n",
              "      <td>NaN</td>\n",
              "      <td>NaN</td>\n",
              "      <td>NaN</td>\n",
              "      <td>NaN</td>\n",
              "      <td>NaN</td>\n",
              "      <td>NaN</td>\n",
              "      <td>NaN</td>\n",
              "      <td>NaN</td>\n",
              "      <td>NaN</td>\n",
              "      <td>NaN</td>\n",
              "      <td>N</td>\n",
              "      <td>NaN</td>\n",
              "      <td>NaN</td>\n",
              "      <td>NaN</td>\n",
              "      <td>NaN</td>\n",
              "      <td>NaN</td>\n",
              "      <td>NaN</td>\n",
              "      <td>NaN</td>\n",
              "      <td>NaN</td>\n",
              "      <td>NaN</td>\n",
              "      <td>NaN</td>\n",
              "      <td>NaN</td>\n",
              "      <td>NaN</td>\n",
              "      <td>NaN</td>\n",
              "      <td>NaN</td>\n",
              "      <td>Cash</td>\n",
              "      <td>N</td>\n",
              "      <td>NaN</td>\n",
              "      <td>NaN</td>\n",
              "      <td>NaN</td>\n",
              "      <td>NaN</td>\n",
              "      <td>NaN</td>\n",
              "      <td>NaN</td>\n",
              "    </tr>\n",
              "    <tr>\n",
              "      <th>3</th>\n",
              "      <td>NaN</td>\n",
              "      <td>NaN</td>\n",
              "      <td>4000</td>\n",
              "      <td>4000</td>\n",
              "      <td>4000</td>\n",
              "      <td>36 months</td>\n",
              "      <td>18.94</td>\n",
              "      <td>146.51</td>\n",
              "      <td>D</td>\n",
              "      <td>D2</td>\n",
              "      <td>IT Supervisor</td>\n",
              "      <td>10+ years</td>\n",
              "      <td>MORTGAGE</td>\n",
              "      <td>92000.0</td>\n",
              "      <td>Source Verified</td>\n",
              "      <td>Dec-2018</td>\n",
              "      <td>Current</td>\n",
              "      <td>n</td>\n",
              "      <td>NaN</td>\n",
              "      <td>NaN</td>\n",
              "      <td>debt_consolidation</td>\n",
              "      <td>Debt consolidation</td>\n",
              "      <td>985xx</td>\n",
              "      <td>WA</td>\n",
              "      <td>16.74</td>\n",
              "      <td>0</td>\n",
              "      <td>Feb-2006</td>\n",
              "      <td>0</td>\n",
              "      <td>NaN</td>\n",
              "      <td>NaN</td>\n",
              "      <td>10</td>\n",
              "      <td>0</td>\n",
              "      <td>5468</td>\n",
              "      <td>78.1</td>\n",
              "      <td>13</td>\n",
              "      <td>w</td>\n",
              "      <td>3831.93</td>\n",
              "      <td>3831.93</td>\n",
              "      <td>286.71</td>\n",
              "      <td>286.71</td>\n",
              "      <td>...</td>\n",
              "      <td>0</td>\n",
              "      <td>0</td>\n",
              "      <td>385183</td>\n",
              "      <td>36151</td>\n",
              "      <td>5000</td>\n",
              "      <td>44984</td>\n",
              "      <td>NaN</td>\n",
              "      <td>NaN</td>\n",
              "      <td>NaN</td>\n",
              "      <td>NaN</td>\n",
              "      <td>NaN</td>\n",
              "      <td>NaN</td>\n",
              "      <td>NaN</td>\n",
              "      <td>NaN</td>\n",
              "      <td>NaN</td>\n",
              "      <td>NaN</td>\n",
              "      <td>NaN</td>\n",
              "      <td>N</td>\n",
              "      <td>NaN</td>\n",
              "      <td>NaN</td>\n",
              "      <td>NaN</td>\n",
              "      <td>NaN</td>\n",
              "      <td>NaN</td>\n",
              "      <td>NaN</td>\n",
              "      <td>NaN</td>\n",
              "      <td>NaN</td>\n",
              "      <td>NaN</td>\n",
              "      <td>NaN</td>\n",
              "      <td>NaN</td>\n",
              "      <td>NaN</td>\n",
              "      <td>NaN</td>\n",
              "      <td>NaN</td>\n",
              "      <td>Cash</td>\n",
              "      <td>N</td>\n",
              "      <td>NaN</td>\n",
              "      <td>NaN</td>\n",
              "      <td>NaN</td>\n",
              "      <td>NaN</td>\n",
              "      <td>NaN</td>\n",
              "      <td>NaN</td>\n",
              "    </tr>\n",
              "    <tr>\n",
              "      <th>4</th>\n",
              "      <td>NaN</td>\n",
              "      <td>NaN</td>\n",
              "      <td>30000</td>\n",
              "      <td>30000</td>\n",
              "      <td>30000</td>\n",
              "      <td>60 months</td>\n",
              "      <td>16.14</td>\n",
              "      <td>731.78</td>\n",
              "      <td>C</td>\n",
              "      <td>C4</td>\n",
              "      <td>Mechanic</td>\n",
              "      <td>10+ years</td>\n",
              "      <td>MORTGAGE</td>\n",
              "      <td>57250.0</td>\n",
              "      <td>Not Verified</td>\n",
              "      <td>Dec-2018</td>\n",
              "      <td>Current</td>\n",
              "      <td>n</td>\n",
              "      <td>NaN</td>\n",
              "      <td>NaN</td>\n",
              "      <td>debt_consolidation</td>\n",
              "      <td>Debt consolidation</td>\n",
              "      <td>212xx</td>\n",
              "      <td>MD</td>\n",
              "      <td>26.35</td>\n",
              "      <td>0</td>\n",
              "      <td>Dec-2000</td>\n",
              "      <td>0</td>\n",
              "      <td>NaN</td>\n",
              "      <td>NaN</td>\n",
              "      <td>12</td>\n",
              "      <td>0</td>\n",
              "      <td>829</td>\n",
              "      <td>3.6</td>\n",
              "      <td>26</td>\n",
              "      <td>w</td>\n",
              "      <td>29339.02</td>\n",
              "      <td>29339.02</td>\n",
              "      <td>1423.21</td>\n",
              "      <td>1423.21</td>\n",
              "      <td>...</td>\n",
              "      <td>0</td>\n",
              "      <td>0</td>\n",
              "      <td>157548</td>\n",
              "      <td>29674</td>\n",
              "      <td>9300</td>\n",
              "      <td>32332</td>\n",
              "      <td>NaN</td>\n",
              "      <td>NaN</td>\n",
              "      <td>NaN</td>\n",
              "      <td>NaN</td>\n",
              "      <td>NaN</td>\n",
              "      <td>NaN</td>\n",
              "      <td>NaN</td>\n",
              "      <td>NaN</td>\n",
              "      <td>NaN</td>\n",
              "      <td>NaN</td>\n",
              "      <td>NaN</td>\n",
              "      <td>N</td>\n",
              "      <td>NaN</td>\n",
              "      <td>NaN</td>\n",
              "      <td>NaN</td>\n",
              "      <td>NaN</td>\n",
              "      <td>NaN</td>\n",
              "      <td>NaN</td>\n",
              "      <td>NaN</td>\n",
              "      <td>NaN</td>\n",
              "      <td>NaN</td>\n",
              "      <td>NaN</td>\n",
              "      <td>NaN</td>\n",
              "      <td>NaN</td>\n",
              "      <td>NaN</td>\n",
              "      <td>NaN</td>\n",
              "      <td>Cash</td>\n",
              "      <td>N</td>\n",
              "      <td>NaN</td>\n",
              "      <td>NaN</td>\n",
              "      <td>NaN</td>\n",
              "      <td>NaN</td>\n",
              "      <td>NaN</td>\n",
              "      <td>NaN</td>\n",
              "    </tr>\n",
              "  </tbody>\n",
              "</table>\n",
              "<p>5 rows × 145 columns</p>\n",
              "</div>"
            ],
            "text/plain": [
              "   id  member_id  ...  settlement_percentage  settlement_term\n",
              "0 NaN        NaN  ...                    NaN              NaN\n",
              "1 NaN        NaN  ...                    NaN              NaN\n",
              "2 NaN        NaN  ...                    NaN              NaN\n",
              "3 NaN        NaN  ...                    NaN              NaN\n",
              "4 NaN        NaN  ...                    NaN              NaN\n",
              "\n",
              "[5 rows x 145 columns]"
            ]
          },
          "metadata": {
            "tags": []
          },
          "execution_count": 208
        }
      ]
    },
    {
      "cell_type": "markdown",
      "metadata": {
        "id": "J0VecF2vs2c0",
        "colab_type": "text"
      },
      "source": [
        "#### **3.Removing the columns having more than 90% missing values**"
      ]
    },
    {
      "cell_type": "code",
      "metadata": {
        "id": "pkUC13MBsvgC",
        "colab_type": "code",
        "outputId": "32039df2-b762-4451-ce92-b151e11eb1a1",
        "colab": {
          "base_uri": "https://localhost:8080/",
          "height": 884
        }
      },
      "source": [
        "# summarising number of missing values in each column\n",
        "df.isnull().sum().sort_values().tail(50)"
      ],
      "execution_count": 209,
      "outputs": [
        {
          "output_type": "execute_result",
          "data": {
            "text/plain": [
              "num_tl_120dpd_2m                               2486\n",
              "mo_sin_old_il_acct                             3448\n",
              "mths_since_rcnt_il                             3448\n",
              "emp_length                                     9226\n",
              "mths_since_recent_inq                         12233\n",
              "il_util                                       15652\n",
              "emp_title                                     16527\n",
              "mths_since_last_delinq                        56068\n",
              "mths_since_recent_revol_delinq                71167\n",
              "mths_since_last_major_derog                   77123\n",
              "mths_since_recent_bc_dlq                      80194\n",
              "sec_app_collections_12_mths_ex_med            87078\n",
              "sec_app_chargeoff_within_12_mths              87078\n",
              "sec_app_num_rev_accts                         87078\n",
              "sec_app_open_act_il                           87078\n",
              "sec_app_mort_acc                              87078\n",
              "sec_app_inq_last_6mths                        87078\n",
              "sec_app_open_acc                              87078\n",
              "revol_bal_joint                               87078\n",
              "sec_app_earliest_cr_line                      87078\n",
              "annual_inc_joint                              87078\n",
              "dti_joint                                     87078\n",
              "sec_app_revol_util                            87281\n",
              "mths_since_last_record                        87898\n",
              "verification_status_joint                     88539\n",
              "sec_app_mths_since_last_major_derog           95993\n",
              "settlement_status                             99998\n",
              "settlement_date                               99998\n",
              "debt_settlement_flag_date                     99998\n",
              "settlement_amount                             99998\n",
              "hardship_last_payment_amount                  99998\n",
              "hardship_payoff_balance_amount                99998\n",
              "orig_projected_additional_accrued_interest    99998\n",
              "hardship_loan_status                          99998\n",
              "hardship_dpd                                  99998\n",
              "hardship_length                               99998\n",
              "settlement_term                               99998\n",
              "hardship_end_date                             99998\n",
              "hardship_start_date                           99998\n",
              "hardship_amount                               99998\n",
              "deferral_term                                 99998\n",
              "hardship_status                               99998\n",
              "hardship_reason                               99998\n",
              "hardship_type                                 99998\n",
              "settlement_percentage                         99998\n",
              "payment_plan_start_date                       99998\n",
              "desc                                          99999\n",
              "url                                           99999\n",
              "member_id                                     99999\n",
              "id                                            99999\n",
              "dtype: int64"
            ]
          },
          "metadata": {
            "tags": []
          },
          "execution_count": 209
        }
      ]
    },
    {
      "cell_type": "code",
      "metadata": {
        "id": "40eyIj4mtR8b",
        "colab_type": "code",
        "outputId": "0e72ea60-11f2-4144-bf19-474151143d81",
        "colab": {
          "base_uri": "https://localhost:8080/",
          "height": 714
        }
      },
      "source": [
        "# percentage of missing values in each column\n",
        "perc=round(df.isnull().sum()/len(df.index), 2)*100\n",
        "perc=perc.sort_values().tail(40)\n",
        "perc"
      ],
      "execution_count": 210,
      "outputs": [
        {
          "output_type": "execute_result",
          "data": {
            "text/plain": [
              "mths_since_recent_bc_dlq                       80.0\n",
              "sec_app_collections_12_mths_ex_med             87.0\n",
              "sec_app_chargeoff_within_12_mths               87.0\n",
              "sec_app_num_rev_accts                          87.0\n",
              "sec_app_open_act_il                            87.0\n",
              "sec_app_revol_util                             87.0\n",
              "sec_app_mort_acc                               87.0\n",
              "sec_app_inq_last_6mths                         87.0\n",
              "sec_app_open_acc                               87.0\n",
              "revol_bal_joint                                87.0\n",
              "annual_inc_joint                               87.0\n",
              "dti_joint                                      87.0\n",
              "sec_app_earliest_cr_line                       87.0\n",
              "mths_since_last_record                         88.0\n",
              "verification_status_joint                      89.0\n",
              "sec_app_mths_since_last_major_derog            96.0\n",
              "hardship_loan_status                          100.0\n",
              "orig_projected_additional_accrued_interest    100.0\n",
              "hardship_payoff_balance_amount                100.0\n",
              "hardship_last_payment_amount                  100.0\n",
              "settlement_date                               100.0\n",
              "debt_settlement_flag_date                     100.0\n",
              "hardship_dpd                                  100.0\n",
              "settlement_status                             100.0\n",
              "settlement_amount                             100.0\n",
              "hardship_length                               100.0\n",
              "id                                            100.0\n",
              "hardship_end_date                             100.0\n",
              "hardship_start_date                           100.0\n",
              "hardship_amount                               100.0\n",
              "deferral_term                                 100.0\n",
              "hardship_status                               100.0\n",
              "hardship_reason                               100.0\n",
              "hardship_type                                 100.0\n",
              "settlement_percentage                         100.0\n",
              "desc                                          100.0\n",
              "url                                           100.0\n",
              "member_id                                     100.0\n",
              "payment_plan_start_date                       100.0\n",
              "settlement_term                               100.0\n",
              "dtype: float64"
            ]
          },
          "metadata": {
            "tags": []
          },
          "execution_count": 210
        }
      ]
    },
    {
      "cell_type": "markdown",
      "metadata": {
        "id": "IFNfkyL3vgEV",
        "colab_type": "text"
      },
      "source": [
        "We see that many columns have 100% missing values, some have 65%, 33% etc. First, let's get rid of the columns having 100% missing values."
      ]
    },
    {
      "cell_type": "code",
      "metadata": {
        "id": "6BpvMc57kqt_",
        "colab_type": "code",
        "outputId": "0f69b9d8-7c2e-44d0-c00d-0dfac02594fc",
        "colab": {
          "base_uri": "https://localhost:8080/",
          "height": 170
        }
      },
      "source": [
        "missing_columns = df.columns[100*(df.isnull().sum()/len(df.index)) > 90]\n",
        "print(missing_columns)"
      ],
      "execution_count": 211,
      "outputs": [
        {
          "output_type": "stream",
          "text": [
            "Index(['id', 'member_id', 'url', 'desc', 'sec_app_mths_since_last_major_derog',\n",
            "       'hardship_type', 'hardship_reason', 'hardship_status', 'deferral_term',\n",
            "       'hardship_amount', 'hardship_start_date', 'hardship_end_date',\n",
            "       'payment_plan_start_date', 'hardship_length', 'hardship_dpd',\n",
            "       'hardship_loan_status', 'orig_projected_additional_accrued_interest',\n",
            "       'hardship_payoff_balance_amount', 'hardship_last_payment_amount',\n",
            "       'debt_settlement_flag_date', 'settlement_status', 'settlement_date',\n",
            "       'settlement_amount', 'settlement_percentage', 'settlement_term'],\n",
            "      dtype='object')\n"
          ],
          "name": "stdout"
        }
      ]
    },
    {
      "cell_type": "code",
      "metadata": {
        "id": "8xtOtm4xsdmG",
        "colab_type": "code",
        "outputId": "39999714-ba43-4b92-fde6-17b01b649dfc",
        "colab": {
          "base_uri": "https://localhost:8080/",
          "height": 34
        }
      },
      "source": [
        "df = df.drop(missing_columns, axis=1)\n",
        "print(df.shape)"
      ],
      "execution_count": 212,
      "outputs": [
        {
          "output_type": "stream",
          "text": [
            "(99999, 120)\n"
          ],
          "name": "stdout"
        }
      ]
    },
    {
      "cell_type": "markdown",
      "metadata": {
        "id": "47MbIldSwt-4",
        "colab_type": "text"
      },
      "source": [
        "Summarise number of missing values again"
      ]
    },
    {
      "cell_type": "code",
      "metadata": {
        "id": "j18JCvMTuSUD",
        "colab_type": "code",
        "outputId": "e7e87628-de68-421c-a9a8-12995551c5ab",
        "colab": {
          "base_uri": "https://localhost:8080/",
          "height": 374
        }
      },
      "source": [
        "100*(df.isnull().sum()/len(df.index)).tail(20)"
      ],
      "execution_count": 213,
      "outputs": [
        {
          "output_type": "execute_result",
          "data": {
            "text/plain": [
              "percent_bc_gt_75                       1.310013\n",
              "pub_rec_bankruptcies                   0.000000\n",
              "tax_liens                              0.000000\n",
              "tot_hi_cred_lim                        0.000000\n",
              "total_bal_ex_mort                      0.000000\n",
              "total_bc_limit                         0.000000\n",
              "total_il_high_credit_limit             0.000000\n",
              "revol_bal_joint                       87.078871\n",
              "sec_app_earliest_cr_line              87.078871\n",
              "sec_app_inq_last_6mths                87.078871\n",
              "sec_app_mort_acc                      87.078871\n",
              "sec_app_open_acc                      87.078871\n",
              "sec_app_revol_util                    87.281873\n",
              "sec_app_open_act_il                   87.078871\n",
              "sec_app_num_rev_accts                 87.078871\n",
              "sec_app_chargeoff_within_12_mths      87.078871\n",
              "sec_app_collections_12_mths_ex_med    87.078871\n",
              "hardship_flag                          0.000000\n",
              "disbursement_method                    0.000000\n",
              "debt_settlement_flag                   0.000000\n",
              "dtype: float64"
            ]
          },
          "metadata": {
            "tags": []
          },
          "execution_count": 213
        }
      ]
    },
    {
      "cell_type": "markdown",
      "metadata": {
        "id": "OoQcOLkWw0xt",
        "colab_type": "text"
      },
      "source": [
        "We see that there are still many columns with 87 percent of missing values. Removing columns with more than 70 % of null values as well."
      ]
    },
    {
      "cell_type": "code",
      "metadata": {
        "id": "neTNzdQgvrEO",
        "colab_type": "code",
        "outputId": "308660f7-3572-4367-ed25-f19e1e6d096e",
        "colab": {
          "base_uri": "https://localhost:8080/",
          "height": 170
        }
      },
      "source": [
        "missing_columns1 = df.columns[100*(df.isnull().sum()/len(df.index)) > 70]\n",
        "print(missing_columns1)"
      ],
      "execution_count": 214,
      "outputs": [
        {
          "output_type": "stream",
          "text": [
            "Index(['mths_since_last_record', 'mths_since_last_major_derog',\n",
            "       'annual_inc_joint', 'dti_joint', 'verification_status_joint',\n",
            "       'mths_since_recent_bc_dlq', 'mths_since_recent_revol_delinq',\n",
            "       'revol_bal_joint', 'sec_app_earliest_cr_line', 'sec_app_inq_last_6mths',\n",
            "       'sec_app_mort_acc', 'sec_app_open_acc', 'sec_app_revol_util',\n",
            "       'sec_app_open_act_il', 'sec_app_num_rev_accts',\n",
            "       'sec_app_chargeoff_within_12_mths',\n",
            "       'sec_app_collections_12_mths_ex_med'],\n",
            "      dtype='object')\n"
          ],
          "name": "stdout"
        }
      ]
    },
    {
      "cell_type": "code",
      "metadata": {
        "id": "SaD1WFl-vyLu",
        "colab_type": "code",
        "outputId": "7f493a99-8567-4f3e-f1d6-8cf924ad53ac",
        "colab": {
          "base_uri": "https://localhost:8080/",
          "height": 34
        }
      },
      "source": [
        "df = df.drop(missing_columns1, axis=1)\n",
        "print(df.shape)"
      ],
      "execution_count": 215,
      "outputs": [
        {
          "output_type": "stream",
          "text": [
            "(99999, 103)\n"
          ],
          "name": "stdout"
        }
      ]
    },
    {
      "cell_type": "code",
      "metadata": {
        "id": "3ajWDNmRwr_d",
        "colab_type": "code",
        "outputId": "f24a2922-6d08-4be7-9f2b-a604e2191e77",
        "colab": {
          "base_uri": "https://localhost:8080/",
          "height": 714
        }
      },
      "source": [
        "sum=100*(df.isnull().sum()/len(df.index))\n",
        "sum.sort_values().tail(40)"
      ],
      "execution_count": 216,
      "outputs": [
        {
          "output_type": "execute_result",
          "data": {
            "text/plain": [
              "int_rate                    0.000000\n",
              "term                        0.000000\n",
              "funded_amnt_inv             0.000000\n",
              "funded_amnt                 0.000000\n",
              "verification_status         0.000000\n",
              "pub_rec                     0.000000\n",
              "inq_last_6mths              0.000000\n",
              "total_rec_prncp             0.000000\n",
              "last_pymnt_amnt             0.000000\n",
              "collection_recovery_fee     0.000000\n",
              "recoveries                  0.000000\n",
              "total_rec_late_fee          0.000000\n",
              "total_rec_int               0.000000\n",
              "revol_bal                   0.000000\n",
              "total_pymnt_inv             0.000000\n",
              "total_pymnt                 0.000000\n",
              "out_prncp_inv               0.000000\n",
              "out_prncp                   0.000000\n",
              "debt_settlement_flag        0.000000\n",
              "total_acc                   0.000000\n",
              "initial_list_status         0.000000\n",
              "last_credit_pull_d          0.001000\n",
              "avg_cur_bal                 0.009000\n",
              "all_util                    0.030000\n",
              "revol_util                  0.121001\n",
              "last_pymnt_d                0.127001\n",
              "dti                         0.182002\n",
              "mths_since_recent_bc        1.225012\n",
              "bc_open_to_buy              1.309013\n",
              "percent_bc_gt_75            1.310013\n",
              "bc_util                     1.357014\n",
              "next_pymnt_d                2.450025\n",
              "num_tl_120dpd_2m            2.486025\n",
              "mths_since_rcnt_il          3.448034\n",
              "mo_sin_old_il_acct          3.448034\n",
              "emp_length                  9.226092\n",
              "mths_since_recent_inq      12.233122\n",
              "il_util                    15.652157\n",
              "emp_title                  16.527165\n",
              "mths_since_last_delinq     56.068561\n",
              "dtype: float64"
            ]
          },
          "metadata": {
            "tags": []
          },
          "execution_count": 216
        }
      ]
    },
    {
      "cell_type": "markdown",
      "metadata": {
        "id": "JPHkUp_AyiyQ",
        "colab_type": "text"
      },
      "source": [
        "The data looks clean by and large. Let's also check whether all columns are in the correct format."
      ]
    },
    {
      "cell_type": "code",
      "metadata": {
        "id": "UuokIUrhxHsn",
        "colab_type": "code",
        "outputId": "53bf1677-7b16-471a-fd5a-87d18e9b672d",
        "colab": {
          "base_uri": "https://localhost:8080/",
          "height": 102
        }
      },
      "source": [
        "df.info()"
      ],
      "execution_count": 217,
      "outputs": [
        {
          "output_type": "stream",
          "text": [
            "<class 'pandas.core.frame.DataFrame'>\n",
            "RangeIndex: 99999 entries, 0 to 99998\n",
            "Columns: 103 entries, loan_amnt to debt_settlement_flag\n",
            "dtypes: float64(28), int64(52), object(23)\n",
            "memory usage: 78.6+ MB\n"
          ],
          "name": "stdout"
        }
      ]
    },
    {
      "cell_type": "markdown",
      "metadata": {
        "id": "-84EfjbyyzCr",
        "colab_type": "text"
      },
      "source": [
        "## **Exploratory Data Analysis and Data Pre-processing**"
      ]
    },
    {
      "cell_type": "markdown",
      "metadata": {
        "id": "FmN1zHYc2Fnx",
        "colab_type": "text"
      },
      "source": [
        "We'll inspect each feature individually, and do the following:\n",
        "\n",
        "1.Drop the feature if it is not useful for predicting the loan status.\n",
        "\n",
        "2.View summary statistics and visualize the data, plotting against the loan status.\n",
        "\n",
        "3.Modify the feature to make it useful for modeling, if necessary.\n",
        "\n",
        "We define a function for plotting a variable and comparing with the loan status:"
      ]
    },
    {
      "cell_type": "code",
      "metadata": {
        "id": "fN3yBibWzELg",
        "colab_type": "code",
        "colab": {}
      },
      "source": [
        "def plot_var(col_name, full_name, continuous):\n",
        "    \"\"\"\n",
        "    Visualize a variable with and without faceting on the loan status.\n",
        "    - col_name is the variable name in the dataframe\n",
        "    - full_name is the full variable name\n",
        "    - continuous is True if the variable is continuous, False otherwise\n",
        "    \"\"\"\n",
        "    f, (ax1, ax2) = plt.subplots(nrows=1, ncols=2, figsize=(12,3), dpi=90)\n",
        "    \n",
        "    # Plot without loan status\n",
        "    if continuous:\n",
        "        sns.distplot(df.loc[df[col_name].notnull(), col_name], kde=False, ax=ax1)\n",
        "    else:\n",
        "        sns.countplot(df[col_name], order=sorted(df[col_name].unique()), color='#5975A4', saturation=1, ax=ax1)\n",
        "    ax1.set_xlabel(full_name)\n",
        "    ax1.set_ylabel('Count')\n",
        "    ax1.set_title(full_name)\n",
        "\n",
        "    # Plot with loan status\n",
        "    if continuous:\n",
        "        sns.boxplot(x=col_name, y='loan_status', data=df, ax=ax2)\n",
        "        ax2.set_ylabel('')\n",
        "        ax2.set_title(full_name + ' by Loan Status')\n",
        "    else:\n",
        "        charge_off_rates = df.groupby(col_name)['loan_status'].value_counts(normalize=True).loc[:,'Charged Off']\n",
        "        sns.barplot(x=charge_off_rates.index, y=charge_off_rates.values, color='#5975A4', saturation=1, ax=ax2)\n",
        "        ax2.set_ylabel('Fraction of Loans Charged-off')\n",
        "        ax2.set_title('Charge-off Rate by ' + full_name)\n",
        "    ax2.set_xlabel(full_name)\n",
        "    \n",
        "    plt.tight_layout()"
      ],
      "execution_count": 0,
      "outputs": []
    },
    {
      "cell_type": "code",
      "metadata": {
        "id": "w1FwtKvW2uu3",
        "colab_type": "code",
        "outputId": "345ebbcb-cb90-4719-eb01-4b329384b2bf",
        "colab": {
          "base_uri": "https://localhost:8080/",
          "height": 54
        }
      },
      "source": [
        "print(list(df.columns))"
      ],
      "execution_count": 219,
      "outputs": [
        {
          "output_type": "stream",
          "text": [
            "['loan_amnt', 'funded_amnt', 'funded_amnt_inv', 'term', 'int_rate', 'installment', 'grade', 'sub_grade', 'emp_title', 'emp_length', 'home_ownership', 'annual_inc', 'verification_status', 'issue_d', 'loan_status', 'pymnt_plan', 'purpose', 'title', 'zip_code', 'addr_state', 'dti', 'delinq_2yrs', 'earliest_cr_line', 'inq_last_6mths', 'mths_since_last_delinq', 'open_acc', 'pub_rec', 'revol_bal', 'revol_util', 'total_acc', 'initial_list_status', 'out_prncp', 'out_prncp_inv', 'total_pymnt', 'total_pymnt_inv', 'total_rec_prncp', 'total_rec_int', 'total_rec_late_fee', 'recoveries', 'collection_recovery_fee', 'last_pymnt_d', 'last_pymnt_amnt', 'next_pymnt_d', 'last_credit_pull_d', 'collections_12_mths_ex_med', 'policy_code', 'application_type', 'acc_now_delinq', 'tot_coll_amt', 'tot_cur_bal', 'open_acc_6m', 'open_act_il', 'open_il_12m', 'open_il_24m', 'mths_since_rcnt_il', 'total_bal_il', 'il_util', 'open_rv_12m', 'open_rv_24m', 'max_bal_bc', 'all_util', 'total_rev_hi_lim', 'inq_fi', 'total_cu_tl', 'inq_last_12m', 'acc_open_past_24mths', 'avg_cur_bal', 'bc_open_to_buy', 'bc_util', 'chargeoff_within_12_mths', 'delinq_amnt', 'mo_sin_old_il_acct', 'mo_sin_old_rev_tl_op', 'mo_sin_rcnt_rev_tl_op', 'mo_sin_rcnt_tl', 'mort_acc', 'mths_since_recent_bc', 'mths_since_recent_inq', 'num_accts_ever_120_pd', 'num_actv_bc_tl', 'num_actv_rev_tl', 'num_bc_sats', 'num_bc_tl', 'num_il_tl', 'num_op_rev_tl', 'num_rev_accts', 'num_rev_tl_bal_gt_0', 'num_sats', 'num_tl_120dpd_2m', 'num_tl_30dpd', 'num_tl_90g_dpd_24m', 'num_tl_op_past_12m', 'pct_tl_nvr_dlq', 'percent_bc_gt_75', 'pub_rec_bankruptcies', 'tax_liens', 'tot_hi_cred_lim', 'total_bal_ex_mort', 'total_bc_limit', 'total_il_high_credit_limit', 'hardship_flag', 'disbursement_method', 'debt_settlement_flag']\n"
          ],
          "name": "stdout"
        }
      ]
    },
    {
      "cell_type": "markdown",
      "metadata": {
        "id": "UJugQzxv8Yba",
        "colab_type": "text"
      },
      "source": [
        "## **1.Loan Status**\n",
        "\n",
        "#### Data Dictionary: Current status of the loan"
      ]
    },
    {
      "cell_type": "code",
      "metadata": {
        "id": "MDH4mOWM8XLL",
        "colab_type": "code",
        "outputId": "a752df0d-2ebd-4fd9-b98c-86e626b92790",
        "colab": {
          "base_uri": "https://localhost:8080/",
          "height": 136
        }
      },
      "source": [
        "df['loan_status'] = df['loan_status'].astype('category')\n",
        "df['loan_status'].value_counts()"
      ],
      "execution_count": 220,
      "outputs": [
        {
          "output_type": "execute_result",
          "data": {
            "text/plain": [
              "Current               96792\n",
              "Fully Paid             2431\n",
              "Late (31-120 days)      318\n",
              "In Grace Period         316\n",
              "Late (16-30 days)       123\n",
              "Charged Off              19\n",
              "Name: loan_status, dtype: int64"
            ]
          },
          "metadata": {
            "tags": []
          },
          "execution_count": 220
        }
      ]
    },
    {
      "cell_type": "code",
      "metadata": {
        "id": "CWICkcEW8mZd",
        "colab_type": "code",
        "outputId": "b9716f07-4191-42fc-b3d4-11b284a06021",
        "colab": {
          "base_uri": "https://localhost:8080/",
          "height": 298
        }
      },
      "source": [
        "sns.countplot(df['loan_status'],)"
      ],
      "execution_count": 221,
      "outputs": [
        {
          "output_type": "execute_result",
          "data": {
            "text/plain": [
              "<matplotlib.axes._subplots.AxesSubplot at 0x7ffa71e56c88>"
            ]
          },
          "metadata": {
            "tags": []
          },
          "execution_count": 221
        },
        {
          "output_type": "display_data",
          "data": {
            "image/png": "[encoded data removed]",
            "text/plain": [
              "<Figure size 432x288 with 1 Axes>"
            ]
          },
          "metadata": {
            "tags": [],
            "needs_background": "light"
          }
        }
      ]
    },
    {
      "cell_type": "markdown",
      "metadata": {
        "id": "EGfZ2sOl8zzl",
        "colab_type": "text"
      },
      "source": [
        "**Description:** We can see that most of the data are of \"current\" loan status."
      ]
    },
    {
      "cell_type": "markdown",
      "metadata": {
        "id": "jdyAxPPt9Lgp",
        "colab_type": "text"
      },
      "source": [
        "Below is the statistics of Loan Status.\n",
        "Converting Loan status to 0 if fully paid and 1 if otherwise"
      ]
    },
    {
      "cell_type": "code",
      "metadata": {
        "id": "jvGEWrHP8oXJ",
        "colab_type": "code",
        "outputId": "72da4499-10cf-4a34-e15c-c116e40c3fae",
        "colab": {
          "base_uri": "https://localhost:8080/",
          "height": 68
        }
      },
      "source": [
        "# filtering only fully paid or charged-off\n",
        "df = df[df['loan_status'] != 'Current']\n",
        "df['loan_status'] = df['loan_status'].apply(lambda x: 0 if x=='Fully Paid' else 1)\n",
        "\n",
        "# converting loan_status to integer type\n",
        "df['loan_status'] = df['loan_status'].apply(lambda x: pd.to_numeric(x))\n",
        "\n",
        "# summarising the values\n",
        "df['loan_status'].value_counts()"
      ],
      "execution_count": 222,
      "outputs": [
        {
          "output_type": "execute_result",
          "data": {
            "text/plain": [
              "0    2431\n",
              "1     776\n",
              "Name: loan_status, dtype: int64"
            ]
          },
          "metadata": {
            "tags": []
          },
          "execution_count": 222
        }
      ]
    },
    {
      "cell_type": "markdown",
      "metadata": {
        "id": "9OF04RNyOW6z",
        "colab_type": "text"
      },
      "source": [
        "Lets first look at overall default rate"
      ]
    },
    {
      "cell_type": "code",
      "metadata": {
        "id": "IhNT9q7UATf2",
        "colab_type": "code",
        "outputId": "82175ca9-828a-4a71-f92b-d736d5ed4c39",
        "colab": {
          "base_uri": "https://localhost:8080/",
          "height": 34
        }
      },
      "source": [
        "round(np.mean(df['loan_status']), 2)"
      ],
      "execution_count": 223,
      "outputs": [
        {
          "output_type": "execute_result",
          "data": {
            "text/plain": [
              "0.24"
            ]
          },
          "metadata": {
            "tags": []
          },
          "execution_count": 223
        }
      ]
    },
    {
      "cell_type": "markdown",
      "metadata": {
        "id": "6uSuXAV8AvYL",
        "colab_type": "text"
      },
      "source": [
        "**Description:** Overall default rate is 24%. Visualizing average default rate across categories."
      ]
    },
    {
      "cell_type": "code",
      "metadata": {
        "id": "hR7_PcQUAtbc",
        "colab_type": "code",
        "outputId": "c6769e77-4313-4b4f-9094-c7c5eb40188b",
        "colab": {
          "base_uri": "https://localhost:8080/",
          "height": 279
        }
      },
      "source": [
        "sns.barplot(x='grade', y='loan_status', data=df)\n",
        "plt.show()"
      ],
      "execution_count": 224,
      "outputs": [
        {
          "output_type": "display_data",
          "data": {
            "image/png": "[encoded data removed]",
            "text/plain": [
              "<Figure size 432x288 with 1 Axes>"
            ]
          },
          "metadata": {
            "tags": [],
            "needs_background": "light"
          }
        }
      ]
    },
    {
      "cell_type": "markdown",
      "metadata": {
        "id": "sBVIXgtyPb8F",
        "colab_type": "text"
      },
      "source": [
        "Determining the percentage of loan that is fully paid/ charged off"
      ]
    },
    {
      "cell_type": "code",
      "metadata": {
        "id": "jkl33ZPFOjGx",
        "colab_type": "code",
        "colab": {
          "base_uri": "https://localhost:8080/",
          "height": 68
        },
        "outputId": "0be71e75-b036-4989-a871-a6916693a8b1"
      },
      "source": [
        "df['loan_status'].value_counts(normalize=True, dropna=False)"
      ],
      "execution_count": 226,
      "outputs": [
        {
          "output_type": "execute_result",
          "data": {
            "text/plain": [
              "0    0.758029\n",
              "1    0.241971\n",
              "Name: loan_status, dtype: float64"
            ]
          },
          "metadata": {
            "tags": []
          },
          "execution_count": 226
        }
      ]
    },
    {
      "cell_type": "markdown",
      "metadata": {
        "id": "KVMOnMmHOlVe",
        "colab_type": "text"
      },
      "source": [
        "**Description:** About 75% of the remaining loans have been fully paid and 24% have charged off, so we have a somewhat unbalanced classification problem."
      ]
    },
    {
      "cell_type": "markdown",
      "metadata": {
        "id": "zEQS_kjs22lc",
        "colab_type": "text"
      },
      "source": [
        "## **2.Loan Amount**\n",
        "\n",
        "#### Data Dictionary: The listed amount of the loan applied for by the borrower. If at some point in time, the credit department reduces the loan amount, then it will be reflected in this value."
      ]
    },
    {
      "cell_type": "code",
      "metadata": {
        "id": "86e_Vs7z2yWb",
        "colab_type": "code",
        "outputId": "213397bc-0bc0-49af-b67f-3e3e4b2a6adc",
        "colab": {
          "base_uri": "https://localhost:8080/",
          "height": 170
        }
      },
      "source": [
        "df['loan_amnt'].describe()"
      ],
      "execution_count": 227,
      "outputs": [
        {
          "output_type": "execute_result",
          "data": {
            "text/plain": [
              "count     3207.000000\n",
              "mean     14589.179919\n",
              "std      10242.113589\n",
              "min       1000.000000\n",
              "25%       6000.000000\n",
              "50%      12000.000000\n",
              "75%      20000.000000\n",
              "max      40000.000000\n",
              "Name: loan_amnt, dtype: float64"
            ]
          },
          "metadata": {
            "tags": []
          },
          "execution_count": 227
        }
      ]
    },
    {
      "cell_type": "markdown",
      "metadata": {
        "id": "F7iIrvj-3X1m",
        "colab_type": "text"
      },
      "source": [
        "**Description:** Loan amount ranges from 40000 to 1000 with a mean of 15934"
      ]
    },
    {
      "cell_type": "code",
      "metadata": {
        "id": "-zOsfwbC6c06",
        "colab_type": "code",
        "outputId": "af527570-d3f3-4d5c-bbe4-a885c6ecddc6",
        "colab": {
          "base_uri": "https://localhost:8080/",
          "height": 308
        }
      },
      "source": [
        "sns.distplot(df['loan_amnt'])"
      ],
      "execution_count": 228,
      "outputs": [
        {
          "output_type": "execute_result",
          "data": {
            "text/plain": [
              "<matplotlib.axes._subplots.AxesSubplot at 0x7ffa718bedd8>"
            ]
          },
          "metadata": {
            "tags": []
          },
          "execution_count": 228
        },
        {
          "output_type": "display_data",
          "data": {
            "image/png": "[encoded data removed]",
            "text/plain": [
              "<Figure size 432x288 with 1 Axes>"
            ]
          },
          "metadata": {
            "tags": [],
            "needs_background": "light"
          }
        }
      ]
    },
    {
      "cell_type": "markdown",
      "metadata": {
        "id": "kev2Tnxk4Hr5",
        "colab_type": "text"
      },
      "source": [
        "**Description:** Comparing the summary statistics of loan status"
      ]
    },
    {
      "cell_type": "code",
      "metadata": {
        "id": "rCxXnH2_3ARx",
        "colab_type": "code",
        "outputId": "1d71f27a-60e2-4135-fd3d-dd264882a2dd",
        "colab": {
          "base_uri": "https://localhost:8080/",
          "height": 142
        }
      },
      "source": [
        "df.groupby('loan_status')['loan_amnt'].describe()"
      ],
      "execution_count": 229,
      "outputs": [
        {
          "output_type": "execute_result",
          "data": {
            "text/html": [
              "<div>\n",
              "<style scoped>\n",
              "    .dataframe tbody tr th:only-of-type {\n",
              "        vertical-align: middle;\n",
              "    }\n",
              "\n",
              "    .dataframe tbody tr th {\n",
              "        vertical-align: top;\n",
              "    }\n",
              "\n",
              "    .dataframe thead th {\n",
              "        text-align: right;\n",
              "    }\n",
              "</style>\n",
              "<table border=\"1\" class=\"dataframe\">\n",
              "  <thead>\n",
              "    <tr style=\"text-align: right;\">\n",
              "      <th></th>\n",
              "      <th>count</th>\n",
              "      <th>mean</th>\n",
              "      <th>std</th>\n",
              "      <th>min</th>\n",
              "      <th>25%</th>\n",
              "      <th>50%</th>\n",
              "      <th>75%</th>\n",
              "      <th>max</th>\n",
              "    </tr>\n",
              "    <tr>\n",
              "      <th>loan_status</th>\n",
              "      <th></th>\n",
              "      <th></th>\n",
              "      <th></th>\n",
              "      <th></th>\n",
              "      <th></th>\n",
              "      <th></th>\n",
              "      <th></th>\n",
              "      <th></th>\n",
              "    </tr>\n",
              "  </thead>\n",
              "  <tbody>\n",
              "    <tr>\n",
              "      <th>0</th>\n",
              "      <td>2431.0</td>\n",
              "      <td>14110.777458</td>\n",
              "      <td>10220.675812</td>\n",
              "      <td>1000.0</td>\n",
              "      <td>6000.0</td>\n",
              "      <td>11000.0</td>\n",
              "      <td>20000.0</td>\n",
              "      <td>40000.0</td>\n",
              "    </tr>\n",
              "    <tr>\n",
              "      <th>1</th>\n",
              "      <td>776.0</td>\n",
              "      <td>16087.886598</td>\n",
              "      <td>10170.780722</td>\n",
              "      <td>1000.0</td>\n",
              "      <td>8000.0</td>\n",
              "      <td>14200.0</td>\n",
              "      <td>24000.0</td>\n",
              "      <td>40000.0</td>\n",
              "    </tr>\n",
              "  </tbody>\n",
              "</table>\n",
              "</div>"
            ],
            "text/plain": [
              "              count          mean           std  ...      50%      75%      max\n",
              "loan_status                                      ...                           \n",
              "0            2431.0  14110.777458  10220.675812  ...  11000.0  20000.0  40000.0\n",
              "1             776.0  16087.886598  10170.780722  ...  14200.0  24000.0  40000.0\n",
              "\n",
              "[2 rows x 8 columns]"
            ]
          },
          "metadata": {
            "tags": []
          },
          "execution_count": 229
        }
      ]
    },
    {
      "cell_type": "markdown",
      "metadata": {
        "id": "mTDwSkS7gQnE",
        "colab_type": "text"
      },
      "source": [
        "### **Analysing how the default rate varies across continuous variables.**"
      ]
    },
    {
      "cell_type": "markdown",
      "metadata": {
        "id": "0I2lL-XxJa8f",
        "colab_type": "text"
      },
      "source": [
        "The easiest way to analyse how default rates vary across continous variables is to bin the variables into discrete categories.\n",
        "\n",
        "Let's bin the loan amount variable into small, medium, high, very high."
      ]
    },
    {
      "cell_type": "code",
      "metadata": {
        "id": "JJb6zxh9JXRS",
        "colab_type": "code",
        "colab": {}
      },
      "source": [
        "def loan_amount(n):\n",
        "    if n < 5000:\n",
        "        return 'low'\n",
        "    elif n >=5000 and n < 15000:\n",
        "        return 'medium'\n",
        "    elif n >= 15000 and n < 25000:\n",
        "        return 'high'\n",
        "    else:\n",
        "        return 'very high'\n",
        "        \n",
        "df['loan_amnt'] = df['loan_amnt'].apply(lambda x: loan_amount(x))"
      ],
      "execution_count": 0,
      "outputs": []
    },
    {
      "cell_type": "code",
      "metadata": {
        "id": "ABlQLwbVJh_S",
        "colab_type": "code",
        "colab": {
          "base_uri": "https://localhost:8080/",
          "height": 102
        },
        "outputId": "c0bff407-641d-42c1-881e-4be581df064d"
      },
      "source": [
        "df['loan_amnt'].value_counts()"
      ],
      "execution_count": 231,
      "outputs": [
        {
          "output_type": "execute_result",
          "data": {
            "text/plain": [
              "medium       1292\n",
              "high          785\n",
              "very high     605\n",
              "low           525\n",
              "Name: loan_amnt, dtype: int64"
            ]
          },
          "metadata": {
            "tags": []
          },
          "execution_count": 231
        }
      ]
    },
    {
      "cell_type": "code",
      "metadata": {
        "id": "3YRjQ82CJl6h",
        "colab_type": "code",
        "colab": {
          "base_uri": "https://localhost:8080/",
          "height": 282
        },
        "outputId": "6ae6dc3d-cdb8-42d6-b8db-700b73b8eac2"
      },
      "source": [
        "plot_cat('loan_amnt')"
      ],
      "execution_count": 232,
      "outputs": [
        {
          "output_type": "display_data",
          "data": {
            "image/png": "[encoded data removed]",
            "text/plain": [
              "<Figure size 432x288 with 1 Axes>"
            ]
          },
          "metadata": {
            "tags": [],
            "needs_background": "light"
          }
        }
      ]
    },
    {
      "cell_type": "markdown",
      "metadata": {
        "id": "SZMLmz1G5F7v",
        "colab_type": "text"
      },
      "source": [
        "## **3.Interest Rate**\n",
        "\n",
        "#### Data Dictionary: \"Interest Rate on the loan.\""
      ]
    },
    {
      "cell_type": "code",
      "metadata": {
        "id": "ZiTrLfWn4x1k",
        "colab_type": "code",
        "outputId": "d40cf82c-e411-4f50-f35c-35c7bb759d43",
        "colab": {
          "base_uri": "https://localhost:8080/",
          "height": 170
        }
      },
      "source": [
        "df['int_rate'].describe()"
      ],
      "execution_count": 233,
      "outputs": [
        {
          "output_type": "execute_result",
          "data": {
            "text/plain": [
              "count    3207.000000\n",
              "mean       14.589136\n",
              "std         5.536465\n",
              "min         6.110000\n",
              "25%        10.470000\n",
              "50%        13.560000\n",
              "75%        17.970000\n",
              "max        30.940000\n",
              "Name: int_rate, dtype: float64"
            ]
          },
          "metadata": {
            "tags": []
          },
          "execution_count": 233
        }
      ]
    },
    {
      "cell_type": "markdown",
      "metadata": {
        "id": "4F1ah9se5abO",
        "colab_type": "text"
      },
      "source": [
        "**Description:**Interest rate ranges from a maximum of 30.99% to a minimum of 6%."
      ]
    },
    {
      "cell_type": "code",
      "metadata": {
        "id": "3ypYLwNs5ZW1",
        "colab_type": "code",
        "outputId": "ae721fa2-f99c-4848-9d20-f228df9f8417",
        "colab": {
          "base_uri": "https://localhost:8080/",
          "height": 297
        }
      },
      "source": [
        "sns.distplot(df['int_rate'])"
      ],
      "execution_count": 234,
      "outputs": [
        {
          "output_type": "execute_result",
          "data": {
            "text/plain": [
              "<matplotlib.axes._subplots.AxesSubplot at 0x7ffa6fe99828>"
            ]
          },
          "metadata": {
            "tags": []
          },
          "execution_count": 234
        },
        {
          "output_type": "display_data",
          "data": {
            "image/png": "[encoded data removed]",
            "text/plain": [
              "<Figure size 432x288 with 1 Axes>"
            ]
          },
          "metadata": {
            "tags": [],
            "needs_background": "light"
          }
        }
      ]
    },
    {
      "cell_type": "markdown",
      "metadata": {
        "id": "2H5_StIE6UPZ",
        "colab_type": "text"
      },
      "source": [
        "Comparing the summary statistics of Interest Rate"
      ]
    },
    {
      "cell_type": "code",
      "metadata": {
        "id": "XeA2TE-X5nKC",
        "colab_type": "code",
        "outputId": "7297f063-aa39-488a-bfd0-115b4e057daf",
        "colab": {
          "base_uri": "https://localhost:8080/",
          "height": 142
        }
      },
      "source": [
        "df.groupby('loan_status')['int_rate'].describe()"
      ],
      "execution_count": 235,
      "outputs": [
        {
          "output_type": "execute_result",
          "data": {
            "text/html": [
              "<div>\n",
              "<style scoped>\n",
              "    .dataframe tbody tr th:only-of-type {\n",
              "        vertical-align: middle;\n",
              "    }\n",
              "\n",
              "    .dataframe tbody tr th {\n",
              "        vertical-align: top;\n",
              "    }\n",
              "\n",
              "    .dataframe thead th {\n",
              "        text-align: right;\n",
              "    }\n",
              "</style>\n",
              "<table border=\"1\" class=\"dataframe\">\n",
              "  <thead>\n",
              "    <tr style=\"text-align: right;\">\n",
              "      <th></th>\n",
              "      <th>count</th>\n",
              "      <th>mean</th>\n",
              "      <th>std</th>\n",
              "      <th>min</th>\n",
              "      <th>25%</th>\n",
              "      <th>50%</th>\n",
              "      <th>75%</th>\n",
              "      <th>max</th>\n",
              "    </tr>\n",
              "    <tr>\n",
              "      <th>loan_status</th>\n",
              "      <th></th>\n",
              "      <th></th>\n",
              "      <th></th>\n",
              "      <th></th>\n",
              "      <th></th>\n",
              "      <th></th>\n",
              "      <th></th>\n",
              "      <th></th>\n",
              "    </tr>\n",
              "  </thead>\n",
              "  <tbody>\n",
              "    <tr>\n",
              "      <th>0</th>\n",
              "      <td>2431.0</td>\n",
              "      <td>14.038013</td>\n",
              "      <td>5.452463</td>\n",
              "      <td>6.11</td>\n",
              "      <td>10.33</td>\n",
              "      <td>12.98</td>\n",
              "      <td>17.97</td>\n",
              "      <td>30.94</td>\n",
              "    </tr>\n",
              "    <tr>\n",
              "      <th>1</th>\n",
              "      <td>776.0</td>\n",
              "      <td>16.315657</td>\n",
              "      <td>5.445079</td>\n",
              "      <td>6.11</td>\n",
              "      <td>11.80</td>\n",
              "      <td>16.14</td>\n",
              "      <td>19.92</td>\n",
              "      <td>30.94</td>\n",
              "    </tr>\n",
              "  </tbody>\n",
              "</table>\n",
              "</div>"
            ],
            "text/plain": [
              "              count       mean       std   min    25%    50%    75%    max\n",
              "loan_status                                                               \n",
              "0            2431.0  14.038013  5.452463  6.11  10.33  12.98  17.97  30.94\n",
              "1             776.0  16.315657  5.445079  6.11  11.80  16.14  19.92  30.94"
            ]
          },
          "metadata": {
            "tags": []
          },
          "execution_count": 235
        }
      ]
    },
    {
      "cell_type": "markdown",
      "metadata": {
        "id": "mt486NL1SEej",
        "colab_type": "text"
      },
      "source": [
        "Lets also convert interest rate to low, medium, high"
      ]
    },
    {
      "cell_type": "code",
      "metadata": {
        "id": "F7ui4beFB4Or",
        "colab_type": "code",
        "colab": {}
      },
      "source": [
        "def int_rate(n):\n",
        "    if n <= 10:\n",
        "        return 'low'\n",
        "    elif n > 10 and n <=15:\n",
        "        return 'medium'\n",
        "    else:\n",
        "        return 'high'\n",
        "    \n",
        "    \n",
        "df['int_rate'] = df['int_rate'].apply(lambda x: int_rate(x))"
      ],
      "execution_count": 0,
      "outputs": []
    },
    {
      "cell_type": "markdown",
      "metadata": {
        "id": "9ixUYRHoKWNK",
        "colab_type": "text"
      },
      "source": [
        "#### **Comparing default rates across interest rates**"
      ]
    },
    {
      "cell_type": "code",
      "metadata": {
        "id": "zayCWlIEDJQV",
        "colab_type": "code",
        "colab": {
          "base_uri": "https://localhost:8080/",
          "height": 280
        },
        "outputId": "58918fe1-e861-4890-d593-827ae4c128a0"
      },
      "source": [
        "plot_cat('int_rate')"
      ],
      "execution_count": 272,
      "outputs": [
        {
          "output_type": "display_data",
          "data": {
            "image/png": "[encoded data removed]",
            "text/plain": [
              "<Figure size 432x288 with 1 Axes>"
            ]
          },
          "metadata": {
            "tags": [],
            "needs_background": "light"
          }
        }
      ]
    },
    {
      "cell_type": "markdown",
      "metadata": {
        "id": "FIbh9p58Cw6K",
        "colab_type": "text"
      },
      "source": [
        "## **4.Grade and Subgrade**"
      ]
    },
    {
      "cell_type": "code",
      "metadata": {
        "id": "0QESbb7kBMnC",
        "colab_type": "code",
        "colab": {}
      },
      "source": [
        "grade_vis = df['grade'].value_counts()"
      ],
      "execution_count": 0,
      "outputs": []
    },
    {
      "cell_type": "markdown",
      "metadata": {
        "id": "IESL6SP1ZLsn",
        "colab_type": "text"
      },
      "source": [
        "Plotting the values"
      ]
    },
    {
      "cell_type": "code",
      "metadata": {
        "id": "bMklOvt5W44c",
        "colab_type": "code",
        "colab": {
          "base_uri": "https://localhost:8080/",
          "height": 381
        },
        "outputId": "2296320f-c562-4e37-e9a7-2430555e199b"
      },
      "source": [
        "plt.figure(figsize=(10,5))\n",
        "sns.barplot(y=grade_vis.index, x=grade_vis)\n",
        "plt.title('Loan Grades for LendingClub', fontsize=25)\n",
        "plt.ylabel('Loan Grade', fontsize=15)\n",
        "plt.xlabel('Count', fontsize=15)"
      ],
      "execution_count": 239,
      "outputs": [
        {
          "output_type": "execute_result",
          "data": {
            "text/plain": [
              "Text(0.5, 0, 'Count')"
            ]
          },
          "metadata": {
            "tags": []
          },
          "execution_count": 239
        },
        {
          "output_type": "display_data",
          "data": {
            "image/png": "[encoded data removed]",
            "text/plain": [
              "<Figure size 720x360 with 1 Axes>"
            ]
          },
          "metadata": {
            "tags": [],
            "needs_background": "light"
          }
        }
      ]
    },
    {
      "cell_type": "code",
      "metadata": {
        "id": "75LSYpJmBAzr",
        "colab_type": "code",
        "outputId": "c150c4ec-47fe-4a92-a646-63adacfd568f",
        "colab": {
          "base_uri": "https://localhost:8080/",
          "height": 34
        }
      },
      "source": [
        "print(sorted(df['grade'].unique()))"
      ],
      "execution_count": 240,
      "outputs": [
        {
          "output_type": "stream",
          "text": [
            "['A', 'B', 'C', 'D', 'E', 'F', 'G']\n"
          ],
          "name": "stdout"
        }
      ]
    },
    {
      "cell_type": "code",
      "metadata": {
        "id": "c5-izvdKVKI_",
        "colab_type": "code",
        "colab": {
          "base_uri": "https://localhost:8080/",
          "height": 54
        },
        "outputId": "62230c19-bed0-4960-8144-b4770a0b8b33"
      },
      "source": [
        "print(sorted(df['sub_grade'].unique()))"
      ],
      "execution_count": 241,
      "outputs": [
        {
          "output_type": "stream",
          "text": [
            "['A1', 'A2', 'A3', 'A4', 'A5', 'B1', 'B2', 'B3', 'B4', 'B5', 'C1', 'C2', 'C3', 'C4', 'C5', 'D1', 'D2', 'D3', 'D4', 'D5', 'E1', 'E2', 'E3', 'E4', 'E5', 'F1', 'F2', 'F3', 'F4', 'F5', 'G1', 'G2', 'G4']\n"
          ],
          "name": "stdout"
        }
      ]
    },
    {
      "cell_type": "markdown",
      "metadata": {
        "id": "2QRWg9TnBUDB",
        "colab_type": "text"
      },
      "source": [
        "**Description:** The grade is implied by subgrade."
      ]
    },
    {
      "cell_type": "markdown",
      "metadata": {
        "id": "bnNfU4OsZyxP",
        "colab_type": "text"
      },
      "source": [
        "#### **Comparing default rates across sub grade**"
      ]
    },
    {
      "cell_type": "code",
      "metadata": {
        "id": "RmSIGq5BBQAt",
        "colab_type": "code",
        "outputId": "801d568d-4386-47bd-f90a-a6548163c178",
        "colab": {
          "base_uri": "https://localhost:8080/",
          "height": 389
        }
      },
      "source": [
        "# sub-grade: \n",
        "plt.figure(figsize=(16, 6))\n",
        "plot_cat('sub_grade')"
      ],
      "execution_count": 242,
      "outputs": [
        {
          "output_type": "display_data",
          "data": {
            "image/png": "[encoded data removed]",
            "text/plain": [
              "<Figure size 1152x432 with 1 Axes>"
            ]
          },
          "metadata": {
            "tags": [],
            "needs_background": "light"
          }
        }
      ]
    },
    {
      "cell_type": "markdown",
      "metadata": {
        "id": "AYenoPqNCptx",
        "colab_type": "text"
      },
      "source": [
        "**Description:** A1 is better than A2 better than A3 and so on"
      ]
    },
    {
      "cell_type": "markdown",
      "metadata": {
        "id": "t7OsYNbUaEs_",
        "colab_type": "text"
      },
      "source": [
        "#### Compaing installment values with Loan Grade"
      ]
    },
    {
      "cell_type": "code",
      "metadata": {
        "id": "I3aabuT4ZW2F",
        "colab_type": "code",
        "colab": {
          "base_uri": "https://localhost:8080/",
          "height": 373
        },
        "outputId": "9b772084-25a0-4d99-b576-9d2cca8a7ced"
      },
      "source": [
        "plt.figure(figsize=(10,5))\n",
        "sns.boxplot(x=\"installment\", y=\"grade\", data=df, palette=\"husl\")\n",
        "plt.title('Box Plot of Installment value vs. Loan Grade', fontsize=25)\n",
        "plt.xlabel('Installment', fontsize=15)\n",
        "plt.ylabel('Loan Grade', fontsize=15)\n",
        "plt.xticks(fontsize=20)\n",
        "plt.yticks(fontsize=20)\n",
        "plt.show()"
      ],
      "execution_count": 256,
      "outputs": [
        {
          "output_type": "display_data",
          "data": {
            "image/png": "[encoded data removed]",
            "text/plain": [
              "<Figure size 720x360 with 1 Axes>"
            ]
          },
          "metadata": {
            "tags": [],
            "needs_background": "light"
          }
        }
      ]
    },
    {
      "cell_type": "markdown",
      "metadata": {
        "id": "edFJgpu5CD7O",
        "colab_type": "text"
      },
      "source": [
        "## **5.Purpose**\n",
        "\n",
        "Why are people requesting Loan?\n"
      ]
    },
    {
      "cell_type": "markdown",
      "metadata": {
        "id": "2vjGOHAmgg-A",
        "colab_type": "text"
      },
      "source": [
        "We will segment the loan applications across the purpose of the loan. Purpose of the Loan seems to be affecting many other variables - the type of applicant, interest rate, income, and finally the default rate."
      ]
    },
    {
      "cell_type": "code",
      "metadata": {
        "id": "slECTgWzc5ZT",
        "colab_type": "code",
        "colab": {
          "base_uri": "https://localhost:8080/",
          "height": 451
        },
        "outputId": "8cb7d687-c907-495f-b587-5f75ed08aa46"
      },
      "source": [
        "# lets first look at the number of loans for each type (purpose) of the loan\n",
        "# most loans are debt consolidation (to repay otehr debts), then credit card, major purchase etc.\n",
        "plt.figure(figsize=(16, 6))\n",
        "plt.xticks(rotation=40)\n",
        "sns.countplot(x='purpose', data=df)\n",
        "plt.show()"
      ],
      "execution_count": 263,
      "outputs": [
        {
          "output_type": "display_data",
          "data": {
            "image/png": "[encoded data removed]",
            "text/plain": [
              "<Figure size 1152x432 with 1 Axes>"
            ]
          },
          "metadata": {
            "tags": [],
            "needs_background": "light"
          }
        }
      ]
    },
    {
      "cell_type": "markdown",
      "metadata": {
        "id": "gtbxmZcng4SB",
        "colab_type": "text"
      },
      "source": [
        "From the above graph we can see that most loans are for debt consolidation, followed by credit card loans and so on\n",
        "\n",
        "Let's analyse the top 3 types of loans based on purpose: consolidation, credit card, home improvement."
      ]
    },
    {
      "cell_type": "code",
      "metadata": {
        "id": "inrvfgjwg0Aj",
        "colab_type": "code",
        "colab": {
          "base_uri": "https://localhost:8080/",
          "height": 85
        },
        "outputId": "0d42c46a-183d-48d9-e24a-24c89588c857"
      },
      "source": [
        "main_purposes = [\"credit_card\",\"debt_consolidation\",\"home_improvement\"]\n",
        "df = df[df['purpose'].isin(main_purposes)]\n",
        "df['purpose'].value_counts()"
      ],
      "execution_count": 264,
      "outputs": [
        {
          "output_type": "execute_result",
          "data": {
            "text/plain": [
              "debt_consolidation    1646\n",
              "credit_card            655\n",
              "home_improvement       244\n",
              "Name: purpose, dtype: int64"
            ]
          },
          "metadata": {
            "tags": []
          },
          "execution_count": 264
        }
      ]
    },
    {
      "cell_type": "code",
      "metadata": {
        "id": "KHJuF1RkhOF3",
        "colab_type": "code",
        "colab": {
          "base_uri": "https://localhost:8080/",
          "height": 329
        },
        "outputId": "2dc1e68a-d58c-4662-d9ee-71b36ba9505f"
      },
      "source": [
        "sns.countplot(x=df['purpose'])\n",
        "plt.xticks(rotation=30)\n",
        "plt.show()"
      ],
      "execution_count": 265,
      "outputs": [
        {
          "output_type": "display_data",
          "data": {
            "image/png": "[encoded data removed]",
            "text/plain": [
              "<Figure size 432x288 with 1 Axes>"
            ]
          },
          "metadata": {
            "tags": [],
            "needs_background": "light"
          }
        }
      ]
    },
    {
      "cell_type": "markdown",
      "metadata": {
        "id": "I1dwoZN_kd2s",
        "colab_type": "text"
      },
      "source": [
        "#### **Comparing default rates with purpose**"
      ]
    },
    {
      "cell_type": "code",
      "metadata": {
        "id": "JjWSeU3VkkJT",
        "colab_type": "code",
        "colab": {
          "base_uri": "https://localhost:8080/",
          "height": 451
        },
        "outputId": "2d047ba6-f3b9-4667-9eda-471cf01e406d"
      },
      "source": [
        "plt.figure(figsize=(16, 6))\n",
        "plt.xticks(rotation=40) \n",
        "plot_cat('purpose')"
      ],
      "execution_count": 273,
      "outputs": [
        {
          "output_type": "display_data",
          "data": {
            "image/png": "[encoded data removed]",
            "text/plain": [
              "<Figure size 1152x432 with 1 Axes>"
            ]
          },
          "metadata": {
            "tags": [],
            "needs_background": "light"
          }
        }
      ]
    },
    {
      "cell_type": "markdown",
      "metadata": {
        "id": "akdKkIAP6hzA",
        "colab_type": "text"
      },
      "source": [
        "## **6.Installment**"
      ]
    },
    {
      "cell_type": "code",
      "metadata": {
        "id": "IVeBKMCH6nDo",
        "colab_type": "code",
        "outputId": "511ea9ba-1b10-4e9b-c1d5-8d22e4cabe2f",
        "colab": {
          "base_uri": "https://localhost:8080/",
          "height": 170
        }
      },
      "source": [
        "df['installment'].describe()"
      ],
      "execution_count": 244,
      "outputs": [
        {
          "output_type": "execute_result",
          "data": {
            "text/plain": [
              "count    3207.000000\n",
              "mean      438.004085\n",
              "std       297.434126\n",
              "min        30.640000\n",
              "25%       212.945000\n",
              "50%       356.080000\n",
              "75%       605.340000\n",
              "max      1433.960000\n",
              "Name: installment, dtype: float64"
            ]
          },
          "metadata": {
            "tags": []
          },
          "execution_count": 244
        }
      ]
    },
    {
      "cell_type": "markdown",
      "metadata": {
        "id": "XibpU_YS6q1O",
        "colab_type": "text"
      },
      "source": [
        "Installment amount ranges from a maximum of 1618 to minimum of 30.64. "
      ]
    },
    {
      "cell_type": "code",
      "metadata": {
        "id": "q-43Yu7F6pCw",
        "colab_type": "code",
        "outputId": "9b1065ef-5cf1-413c-cc14-090a6e58d662",
        "colab": {
          "base_uri": "https://localhost:8080/",
          "height": 296
        }
      },
      "source": [
        "sns.distplot(df['installment'])"
      ],
      "execution_count": 266,
      "outputs": [
        {
          "output_type": "execute_result",
          "data": {
            "text/plain": [
              "<matplotlib.axes._subplots.AxesSubplot at 0x7ffa6f8dceb8>"
            ]
          },
          "metadata": {
            "tags": []
          },
          "execution_count": 266
        },
        {
          "output_type": "display_data",
          "data": {
            "image/png": "[encoded data removed]",
            "text/plain": [
              "<Figure size 432x288 with 1 Axes>"
            ]
          },
          "metadata": {
            "tags": [],
            "needs_background": "light"
          }
        }
      ]
    },
    {
      "cell_type": "code",
      "metadata": {
        "id": "BpJKji2v7LxE",
        "colab_type": "code",
        "outputId": "821690f8-a96f-4f3e-9b17-7d70feaf4e25",
        "colab": {
          "base_uri": "https://localhost:8080/",
          "height": 142
        }
      },
      "source": [
        "df.groupby('loan_status')['installment'].describe()"
      ],
      "execution_count": 246,
      "outputs": [
        {
          "output_type": "execute_result",
          "data": {
            "text/html": [
              "<div>\n",
              "<style scoped>\n",
              "    .dataframe tbody tr th:only-of-type {\n",
              "        vertical-align: middle;\n",
              "    }\n",
              "\n",
              "    .dataframe tbody tr th {\n",
              "        vertical-align: top;\n",
              "    }\n",
              "\n",
              "    .dataframe thead th {\n",
              "        text-align: right;\n",
              "    }\n",
              "</style>\n",
              "<table border=\"1\" class=\"dataframe\">\n",
              "  <thead>\n",
              "    <tr style=\"text-align: right;\">\n",
              "      <th></th>\n",
              "      <th>count</th>\n",
              "      <th>mean</th>\n",
              "      <th>std</th>\n",
              "      <th>min</th>\n",
              "      <th>25%</th>\n",
              "      <th>50%</th>\n",
              "      <th>75%</th>\n",
              "      <th>max</th>\n",
              "    </tr>\n",
              "    <tr>\n",
              "      <th>loan_status</th>\n",
              "      <th></th>\n",
              "      <th></th>\n",
              "      <th></th>\n",
              "      <th></th>\n",
              "      <th></th>\n",
              "      <th></th>\n",
              "      <th></th>\n",
              "      <th></th>\n",
              "    </tr>\n",
              "  </thead>\n",
              "  <tbody>\n",
              "    <tr>\n",
              "      <th>0</th>\n",
              "      <td>2431.0</td>\n",
              "      <td>418.980518</td>\n",
              "      <td>290.827344</td>\n",
              "      <td>30.64</td>\n",
              "      <td>196.125</td>\n",
              "      <td>339.650</td>\n",
              "      <td>578.485</td>\n",
              "      <td>1358.58</td>\n",
              "    </tr>\n",
              "    <tr>\n",
              "      <th>1</th>\n",
              "      <td>776.0</td>\n",
              "      <td>497.599820</td>\n",
              "      <td>309.961123</td>\n",
              "      <td>33.00</td>\n",
              "      <td>264.855</td>\n",
              "      <td>408.425</td>\n",
              "      <td>679.290</td>\n",
              "      <td>1433.96</td>\n",
              "    </tr>\n",
              "  </tbody>\n",
              "</table>\n",
              "</div>"
            ],
            "text/plain": [
              "              count        mean         std  ...      50%      75%      max\n",
              "loan_status                                  ...                           \n",
              "0            2431.0  418.980518  290.827344  ...  339.650  578.485  1358.58\n",
              "1             776.0  497.599820  309.961123  ...  408.425  679.290  1433.96\n",
              "\n",
              "[2 rows x 8 columns]"
            ]
          },
          "metadata": {
            "tags": []
          },
          "execution_count": 246
        }
      ]
    },
    {
      "cell_type": "markdown",
      "metadata": {
        "id": "PmQONtOgjBk2",
        "colab_type": "text"
      },
      "source": [
        "#### **Comparing Default rates across Installments** "
      ]
    },
    {
      "cell_type": "code",
      "metadata": {
        "id": "ZgjAD2XGi-O7",
        "colab_type": "code",
        "colab": {}
      },
      "source": [
        "def installment(n):\n",
        "    if n <= 200:\n",
        "        return 'low'\n",
        "    elif n > 200 and n <=400:\n",
        "        return 'medium'\n",
        "    elif n > 400 and n <=600:\n",
        "        return 'high'\n",
        "    else:\n",
        "        return 'very high'\n",
        "    \n",
        "df['installment'] = df['installment'].apply(lambda x: installment(x))"
      ],
      "execution_count": 0,
      "outputs": []
    },
    {
      "cell_type": "code",
      "metadata": {
        "id": "GPH0iNhcjGZV",
        "colab_type": "code",
        "colab": {
          "base_uri": "https://localhost:8080/",
          "height": 279
        },
        "outputId": "c4b61b99-b4c2-428f-feb4-fe555499312a"
      },
      "source": [
        "def plot_cat(cat_var):\n",
        "    sns.barplot(x=cat_var, y='loan_status', data=df)\n",
        "    plt.show()\n",
        "    \n",
        "plot_cat('installment')"
      ],
      "execution_count": 268,
      "outputs": [
        {
          "output_type": "display_data",
          "data": {
            "image/png": "[encoded data removed]",
            "text/plain": [
              "<Figure size 432x288 with 1 Axes>"
            ]
          },
          "metadata": {
            "tags": [],
            "needs_background": "light"
          }
        }
      ]
    },
    {
      "cell_type": "markdown",
      "metadata": {
        "id": "R5ebCIEFCHp6",
        "colab_type": "text"
      },
      "source": [
        "## **Verification Status**"
      ]
    },
    {
      "cell_type": "code",
      "metadata": {
        "id": "A4lmZRjJBjga",
        "colab_type": "code",
        "outputId": "732b074e-bf4f-460d-f58d-f49926e5f6a1",
        "colab": {
          "base_uri": "https://localhost:8080/",
          "height": 280
        }
      },
      "source": [
        "# verification_status: \n",
        "plot_cat('verification_status')"
      ],
      "execution_count": 248,
      "outputs": [
        {
          "output_type": "display_data",
          "data": {
            "image/png": "[encoded data removed]",
            "text/plain": [
              "<Figure size 432x288 with 1 Axes>"
            ]
          },
          "metadata": {
            "tags": [],
            "needs_background": "light"
          }
        }
      ]
    },
    {
      "cell_type": "markdown",
      "metadata": {
        "id": "z_173XghB1uq",
        "colab_type": "text"
      },
      "source": [
        "**Description:**Surprisingly, verified loans default more than not verified"
      ]
    },
    {
      "cell_type": "markdown",
      "metadata": {
        "id": "YWfH1Awqft-E",
        "colab_type": "text"
      },
      "source": [
        "### **Distribution of loans across Years**"
      ]
    },
    {
      "cell_type": "code",
      "metadata": {
        "id": "puUK4Ti4eet6",
        "colab_type": "code",
        "colab": {
          "base_uri": "https://localhost:8080/",
          "height": 119
        },
        "outputId": "04f2961b-cf04-486a-f878-62202c451f09"
      },
      "source": [
        "df['issue_d'].head()"
      ],
      "execution_count": 249,
      "outputs": [
        {
          "output_type": "execute_result",
          "data": {
            "text/plain": [
              "100    Dec-2018\n",
              "152    Dec-2018\n",
              "170    Dec-2018\n",
              "186    Dec-2018\n",
              "215    Dec-2018\n",
              "Name: issue_d, dtype: object"
            ]
          },
          "metadata": {
            "tags": []
          },
          "execution_count": 249
        }
      ]
    },
    {
      "cell_type": "code",
      "metadata": {
        "id": "FPXxrXbgfXFW",
        "colab_type": "code",
        "colab": {}
      },
      "source": [
        "# extracting month and year from issue_date\n",
        "df['month'] = df['issue_d'].apply(lambda x: x.month)\n",
        "df['year'] = df['issue_d'].apply(lambda x: x.year)"
      ],
      "execution_count": 0,
      "outputs": []
    },
    {
      "cell_type": "code",
      "metadata": {
        "id": "DA8exHKyfcRW",
        "colab_type": "code",
        "colab": {
          "base_uri": "https://localhost:8080/",
          "height": 68
        },
        "outputId": "f0d4b91e-75c2-4a31-d571-156d62314d50"
      },
      "source": [
        "# let's first observe the number of loans granted across years\n",
        "df.groupby('year').year.count()"
      ],
      "execution_count": 260,
      "outputs": [
        {
          "output_type": "execute_result",
          "data": {
            "text/plain": [
              "year\n",
              "2018    3207\n",
              "Name: year, dtype: int64"
            ]
          },
          "metadata": {
            "tags": []
          },
          "execution_count": 260
        }
      ]
    },
    {
      "cell_type": "code",
      "metadata": {
        "id": "qJAc7hwmfhZv",
        "colab_type": "code",
        "colab": {
          "base_uri": "https://localhost:8080/",
          "height": 102
        },
        "outputId": "8d76bc17-63fe-40a3-9dbc-dda0af6a0a52"
      },
      "source": [
        "# number of loans across months\n",
        "df.groupby('month').month.count()"
      ],
      "execution_count": 261,
      "outputs": [
        {
          "output_type": "execute_result",
          "data": {
            "text/plain": [
              "month\n",
              "10     684\n",
              "11    1476\n",
              "12    1047\n",
              "Name: month, dtype: int64"
            ]
          },
          "metadata": {
            "tags": []
          },
          "execution_count": 261
        }
      ]
    },
    {
      "cell_type": "code",
      "metadata": {
        "id": "2dWxC7WmhYhu",
        "colab_type": "code",
        "colab": {}
      },
      "source": [
        ""
      ],
      "execution_count": 0,
      "outputs": []
    }
  ]
}
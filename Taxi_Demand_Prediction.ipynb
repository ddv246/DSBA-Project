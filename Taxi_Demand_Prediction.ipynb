{
  "nbformat": 4,
  "nbformat_minor": 0,
  "metadata": {
    "colab": {
      "name": "Taxi_Demand_Prediction.ipynb",
      "provenance": [],
      "collapsed_sections": [],
      "include_colab_link": true
    },
    "kernelspec": {
      "display_name": "Python 3",
      "language": "python",
      "name": "python3"
    },
    "language_info": {
      "codemirror_mode": {
        "name": "ipython",
        "version": 3
      },
      "file_extension": ".py",
      "mimetype": "text/x-python",
      "name": "python",
      "nbconvert_exporter": "python",
      "pygments_lexer": "ipython3",
      "version": "3.7.5"
    }
  },
  "cells": [
    {
      "cell_type": "markdown",
      "metadata": {
        "id": "view-in-github",
        "colab_type": "text"
      },
      "source": [
        "<a href=\"https://colab.research.google.com/github/ddv246/DSBA-Project/blob/master/Taxi_Demand_Prediction.ipynb\" target=\"_parent\"><img src=\"https://colab.research.google.com/assets/colab-badge.svg\" alt=\"Open In Colab\"/></a>"
      ]
    },
    {
      "cell_type": "markdown",
      "metadata": {
        "id": "MDB9DBZvYRgU",
        "colab_type": "text"
      },
      "source": [
        "# **Predicting New York City Yellow Taxi Demand**"
      ]
    },
    {
      "cell_type": "markdown",
      "metadata": {
        "id": "1DQEo20nYl6y",
        "colab_type": "text"
      },
      "source": [
        "## **Business Problem:**\n",
        "\n",
        "---\n",
        "In the New York city, people use taxi at a much higher frequency than most places. Instead\n",
        "of booking customers by phone ahead of time, there is still a majority of New York taxi\n",
        "drivers that pick up passengers on street. However, as per recent studies, Taxi patronage\n",
        "has considerably declined since 2011 due to competition from\n",
        "rideshare\n",
        "services like Uber,\n",
        "Lyft etc. The ability to predict taxi ridership could present valuable insights to such taxi\n",
        "dispatchers that would in turn help them in making important decisions that could revive\n",
        "their profit margin - such as how to position cabs where they are most needed, how many\n",
        "taxis to dispatch, and how ridership varies over time. Our project focuses on **predicting the\n",
        "number of taxi pickups** given a one-hour time window and a location within New York City.\n"
      ]
    },
    {
      "cell_type": "markdown",
      "metadata": {
        "id": "xPsAu50eZGG9",
        "colab_type": "text"
      },
      "source": [
        "# **Use Case Scenario:**\n",
        "\n",
        "---\n",
        "\n",
        "For any given location in New York City, our goal is to predict the number of pickups in that\n",
        "given location at particular time interval. Some location require more taxis at a particular\n",
        "time than other locations due to their proximity to offices, schools, hospitals etc. With the\n",
        "competition that the Yellow Taxi drivers are facing due to the advent of apps like Uber and\n",
        "Lyft, we propose a solution that will help them predict the taxi demand in a particular area.\n",
        "The prediction result can be transferred to the taxi drivers via Mobile app’s, and they can\n",
        "subsequently move to the locations where the predicted pickups are higher and so they can\n",
        "profit more than they normally would.\n"
      ]
    },
    {
      "cell_type": "markdown",
      "metadata": {
        "id": "lCvuBrn7ZQTX",
        "colab_type": "text"
      },
      "source": [
        "# **Data Information:**\n",
        "\n",
        "---\n",
        "\n",
        "**Source of Data:** https://www1.nyc.gov/site/tlc/about/tlc-trip-record-data.page \n",
        "\n",
        "Here, we have used October 2015 data.\n",
        "\n",
        "**Information on Taxi:**\n",
        "\n",
        "**Yellow Taxi: Yellow Medallion Taxicabs**\n",
        "\n",
        "Trips made by New York City’s iconic yellow taxis have been recorded and provided to the TLC\n",
        "since 2009. Yellow taxis are traditionally hailed by signaling to a driver who is on duty and seeking\n",
        "a passenger (street hail). The pickups are not pre-arranged.\n",
        "Yellow taxis are the only vehicles permitted to respond to a street hail from a passenger in all five\n",
        "boroughs. \n"
      ]
    },
    {
      "cell_type": "code",
      "metadata": {
        "id": "ipPWxPBGop0L",
        "colab_type": "code",
        "outputId": "6ea82d5c-3984-4bca-afbd-c5f770a0431b",
        "colab": {
          "base_uri": "https://localhost:8080/",
          "height": 136
        }
      },
      "source": [
        "#If opening in colab run this cell\n",
        "!git clone https://github.com/ddv246/DSBA-Project\n",
        "%cd DSBA-Project/YellowTaxi"
      ],
      "execution_count": 0,
      "outputs": [
        {
          "output_type": "stream",
          "text": [
            "Cloning into 'DSBA-Project'...\n",
            "remote: Enumerating objects: 64, done.\u001b[K\n",
            "remote: Counting objects: 100% (64/64), done.\u001b[K\n",
            "remote: Compressing objects: 100% (56/56), done.\u001b[K\n",
            "remote: Total 64 (delta 30), reused 23 (delta 5), pack-reused 0\u001b[K\n",
            "Unpacking objects: 100% (64/64), done.\n",
            "/content/DSBA-Project/YellowTaxi/DSBA-Project/YellowTaxi\n"
          ],
          "name": "stdout"
        }
      ]
    },
    {
      "cell_type": "code",
      "metadata": {
        "colab_type": "code",
        "id": "uKDWLePlgXFY",
        "colab": {}
      },
      "source": [
        "\n",
        "import dask.dataframe as dd\n",
        "import pandas as pd\n",
        "import matplotlib.pyplot as plt\n",
        "import numpy as np\n",
        "import folium\n",
        "\n",
        "import datetime\n",
        "import time\n",
        "import seaborn as sns\n",
        "import os\n",
        "import math\n",
        "import xgboost as xgb\n",
        "import matplotlib\n",
        "matplotlib.use('nbagg')\n",
        "#from sklearn.grid_search import GridSearchCV\n",
        "from sklearn.metrics import mean_absolute_error\n",
        "from sklearn.metrics import mean_squared_error\n",
        "from sklearn.preprocessing import StandardScaler\n",
        "from sklearn.ensemble import RandomForestRegressor\n",
        "from sklearn.linear_model import SGDRegressor\n",
        "from sklearn.cluster import MiniBatchKMeans, KMeans\n",
        "import warnings\n",
        "warnings.simplefilter('ignore')\n",
        "\n",
        "%matplotlib inline\n"
      ],
      "execution_count": 0,
      "outputs": []
    },
    {
      "cell_type": "code",
      "metadata": {
        "colab_type": "code",
        "id": "MpNJetfVjgWS",
        "colab": {}
      },
      "source": [
        "#import glob\n",
        "\n",
        "\n",
        "#all_files1 = []\n",
        "#for name in glob.glob('YellowTaxi/*'):\n",
        " #   all_files1.append(name)\n",
        "\n",
        "#li = []\n",
        "\n",
        "\n",
        "#for filename in all_files1:\n",
        " #   df = pd.read_csv(filename, index_col=None, header=0)\n",
        "  #  li.append(df)\n",
        "\n",
        "#frame = pd.concat(li, axis=0, ignore_index=True)\n",
        "\n"
      ],
      "execution_count": 0,
      "outputs": []
    },
    {
      "cell_type": "code",
      "metadata": {
        "id": "fSarKRKDLpYR",
        "colab_type": "code",
        "outputId": "d8ed19c4-7e5a-4c00-c584-58d87d9dad90",
        "colab": {
          "base_uri": "https://localhost:8080/",
          "height": 439
        }
      },
      "source": [
        "df=pd.read_csv(\"2015_sample.csv\")\n",
        "df"
      ],
      "execution_count": 0,
      "outputs": [
        {
          "output_type": "execute_result",
          "data": {
            "text/html": [
              "<div>\n",
              "<style scoped>\n",
              "    .dataframe tbody tr th:only-of-type {\n",
              "        vertical-align: middle;\n",
              "    }\n",
              "\n",
              "    .dataframe tbody tr th {\n",
              "        vertical-align: top;\n",
              "    }\n",
              "\n",
              "    .dataframe thead th {\n",
              "        text-align: right;\n",
              "    }\n",
              "</style>\n",
              "<table border=\"1\" class=\"dataframe\">\n",
              "  <thead>\n",
              "    <tr style=\"text-align: right;\">\n",
              "      <th></th>\n",
              "      <th>VendorID</th>\n",
              "      <th>tpep_pickup_datetime</th>\n",
              "      <th>tpep_dropoff_datetime</th>\n",
              "      <th>passenger_count</th>\n",
              "      <th>trip_distance</th>\n",
              "      <th>pickup_longitude</th>\n",
              "      <th>pickup_latitude</th>\n",
              "      <th>RatecodeID</th>\n",
              "      <th>store_and_fwd_flag</th>\n",
              "      <th>dropoff_longitude</th>\n",
              "      <th>dropoff_latitude</th>\n",
              "      <th>payment_type</th>\n",
              "      <th>fare_amount</th>\n",
              "      <th>extra</th>\n",
              "      <th>mta_tax</th>\n",
              "      <th>tip_amount</th>\n",
              "      <th>tolls_amount</th>\n",
              "      <th>improvement_surcharge</th>\n",
              "      <th>total_amount</th>\n",
              "    </tr>\n",
              "  </thead>\n",
              "  <tbody>\n",
              "    <tr>\n",
              "      <th>0</th>\n",
              "      <td>1</td>\n",
              "      <td>2015-10-01 00:00:00</td>\n",
              "      <td>2015-10-01 00:05:48</td>\n",
              "      <td>1</td>\n",
              "      <td>1.10</td>\n",
              "      <td>-73.935516</td>\n",
              "      <td>40.761238</td>\n",
              "      <td>1</td>\n",
              "      <td>N</td>\n",
              "      <td>-73.944351</td>\n",
              "      <td>40.754578</td>\n",
              "      <td>2</td>\n",
              "      <td>6.00</td>\n",
              "      <td>0.5</td>\n",
              "      <td>0.5</td>\n",
              "      <td>0.00</td>\n",
              "      <td>0.0</td>\n",
              "      <td>0.3</td>\n",
              "      <td>7.30</td>\n",
              "    </tr>\n",
              "    <tr>\n",
              "      <th>1</th>\n",
              "      <td>2</td>\n",
              "      <td>2015-10-01 00:00:00</td>\n",
              "      <td>2015-10-01 00:00:00</td>\n",
              "      <td>1</td>\n",
              "      <td>7.68</td>\n",
              "      <td>-73.989937</td>\n",
              "      <td>40.743439</td>\n",
              "      <td>1</td>\n",
              "      <td>N</td>\n",
              "      <td>-73.986687</td>\n",
              "      <td>40.689129</td>\n",
              "      <td>2</td>\n",
              "      <td>27.50</td>\n",
              "      <td>0.0</td>\n",
              "      <td>0.5</td>\n",
              "      <td>0.00</td>\n",
              "      <td>0.0</td>\n",
              "      <td>0.3</td>\n",
              "      <td>28.30</td>\n",
              "    </tr>\n",
              "    <tr>\n",
              "      <th>2</th>\n",
              "      <td>2</td>\n",
              "      <td>2015-10-01 00:00:00</td>\n",
              "      <td>2015-10-01 00:00:00</td>\n",
              "      <td>2</td>\n",
              "      <td>2.53</td>\n",
              "      <td>-73.987328</td>\n",
              "      <td>40.720020</td>\n",
              "      <td>1</td>\n",
              "      <td>N</td>\n",
              "      <td>-73.999084</td>\n",
              "      <td>40.744381</td>\n",
              "      <td>1</td>\n",
              "      <td>12.50</td>\n",
              "      <td>0.0</td>\n",
              "      <td>0.5</td>\n",
              "      <td>2.00</td>\n",
              "      <td>0.0</td>\n",
              "      <td>0.3</td>\n",
              "      <td>15.30</td>\n",
              "    </tr>\n",
              "    <tr>\n",
              "      <th>3</th>\n",
              "      <td>2</td>\n",
              "      <td>2015-10-01 00:00:00</td>\n",
              "      <td>2015-10-01 00:00:00</td>\n",
              "      <td>0</td>\n",
              "      <td>1.20</td>\n",
              "      <td>-73.953758</td>\n",
              "      <td>40.743385</td>\n",
              "      <td>5</td>\n",
              "      <td>N</td>\n",
              "      <td>-73.930008</td>\n",
              "      <td>40.736622</td>\n",
              "      <td>2</td>\n",
              "      <td>25.26</td>\n",
              "      <td>0.0</td>\n",
              "      <td>0.5</td>\n",
              "      <td>0.00</td>\n",
              "      <td>0.0</td>\n",
              "      <td>0.3</td>\n",
              "      <td>26.06</td>\n",
              "    </tr>\n",
              "    <tr>\n",
              "      <th>4</th>\n",
              "      <td>1</td>\n",
              "      <td>2015-10-01 00:00:01</td>\n",
              "      <td>2015-10-01 00:16:19</td>\n",
              "      <td>1</td>\n",
              "      <td>3.80</td>\n",
              "      <td>-73.984016</td>\n",
              "      <td>40.755222</td>\n",
              "      <td>1</td>\n",
              "      <td>N</td>\n",
              "      <td>-73.959869</td>\n",
              "      <td>40.801323</td>\n",
              "      <td>1</td>\n",
              "      <td>15.50</td>\n",
              "      <td>0.5</td>\n",
              "      <td>0.5</td>\n",
              "      <td>3.00</td>\n",
              "      <td>0.0</td>\n",
              "      <td>0.3</td>\n",
              "      <td>19.80</td>\n",
              "    </tr>\n",
              "    <tr>\n",
              "      <th>...</th>\n",
              "      <td>...</td>\n",
              "      <td>...</td>\n",
              "      <td>...</td>\n",
              "      <td>...</td>\n",
              "      <td>...</td>\n",
              "      <td>...</td>\n",
              "      <td>...</td>\n",
              "      <td>...</td>\n",
              "      <td>...</td>\n",
              "      <td>...</td>\n",
              "      <td>...</td>\n",
              "      <td>...</td>\n",
              "      <td>...</td>\n",
              "      <td>...</td>\n",
              "      <td>...</td>\n",
              "      <td>...</td>\n",
              "      <td>...</td>\n",
              "      <td>...</td>\n",
              "      <td>...</td>\n",
              "    </tr>\n",
              "    <tr>\n",
              "      <th>99994</th>\n",
              "      <td>2</td>\n",
              "      <td>2015-10-01 09:33:05</td>\n",
              "      <td>2015-10-01 09:55:19</td>\n",
              "      <td>1</td>\n",
              "      <td>5.00</td>\n",
              "      <td>-73.960625</td>\n",
              "      <td>40.761410</td>\n",
              "      <td>1</td>\n",
              "      <td>N</td>\n",
              "      <td>-74.002640</td>\n",
              "      <td>40.728294</td>\n",
              "      <td>1</td>\n",
              "      <td>20.50</td>\n",
              "      <td>0.0</td>\n",
              "      <td>0.5</td>\n",
              "      <td>4.26</td>\n",
              "      <td>0.0</td>\n",
              "      <td>0.3</td>\n",
              "      <td>25.56</td>\n",
              "    </tr>\n",
              "    <tr>\n",
              "      <th>99995</th>\n",
              "      <td>1</td>\n",
              "      <td>2015-10-01 09:33:06</td>\n",
              "      <td>2015-10-01 09:46:03</td>\n",
              "      <td>1</td>\n",
              "      <td>1.00</td>\n",
              "      <td>-74.008865</td>\n",
              "      <td>40.715946</td>\n",
              "      <td>1</td>\n",
              "      <td>N</td>\n",
              "      <td>-73.997917</td>\n",
              "      <td>40.720467</td>\n",
              "      <td>1</td>\n",
              "      <td>9.00</td>\n",
              "      <td>0.0</td>\n",
              "      <td>0.5</td>\n",
              "      <td>2.90</td>\n",
              "      <td>0.0</td>\n",
              "      <td>0.3</td>\n",
              "      <td>12.70</td>\n",
              "    </tr>\n",
              "    <tr>\n",
              "      <th>99996</th>\n",
              "      <td>1</td>\n",
              "      <td>2015-10-01 09:33:06</td>\n",
              "      <td>2015-10-01 09:57:39</td>\n",
              "      <td>1</td>\n",
              "      <td>2.60</td>\n",
              "      <td>-73.981049</td>\n",
              "      <td>40.729874</td>\n",
              "      <td>1</td>\n",
              "      <td>N</td>\n",
              "      <td>-73.991631</td>\n",
              "      <td>40.754829</td>\n",
              "      <td>1</td>\n",
              "      <td>16.00</td>\n",
              "      <td>0.0</td>\n",
              "      <td>0.5</td>\n",
              "      <td>3.36</td>\n",
              "      <td>0.0</td>\n",
              "      <td>0.3</td>\n",
              "      <td>20.16</td>\n",
              "    </tr>\n",
              "    <tr>\n",
              "      <th>99997</th>\n",
              "      <td>2</td>\n",
              "      <td>2015-10-01 09:33:06</td>\n",
              "      <td>2015-10-01 09:52:57</td>\n",
              "      <td>5</td>\n",
              "      <td>0.99</td>\n",
              "      <td>-73.975304</td>\n",
              "      <td>40.759300</td>\n",
              "      <td>1</td>\n",
              "      <td>N</td>\n",
              "      <td>-73.964859</td>\n",
              "      <td>40.769749</td>\n",
              "      <td>1</td>\n",
              "      <td>13.00</td>\n",
              "      <td>0.0</td>\n",
              "      <td>0.5</td>\n",
              "      <td>2.76</td>\n",
              "      <td>0.0</td>\n",
              "      <td>0.3</td>\n",
              "      <td>16.56</td>\n",
              "    </tr>\n",
              "    <tr>\n",
              "      <th>99998</th>\n",
              "      <td>1</td>\n",
              "      <td>2015-10-01 09:33:07</td>\n",
              "      <td>2015-10-01 09:43:19</td>\n",
              "      <td>2</td>\n",
              "      <td>0.90</td>\n",
              "      <td>-73.999954</td>\n",
              "      <td>40.720490</td>\n",
              "      <td>1</td>\n",
              "      <td>N</td>\n",
              "      <td>-74.009132</td>\n",
              "      <td>40.710724</td>\n",
              "      <td>2</td>\n",
              "      <td>8.00</td>\n",
              "      <td>0.0</td>\n",
              "      <td>0.5</td>\n",
              "      <td>0.00</td>\n",
              "      <td>0.0</td>\n",
              "      <td>0.3</td>\n",
              "      <td>8.80</td>\n",
              "    </tr>\n",
              "  </tbody>\n",
              "</table>\n",
              "<p>99999 rows × 19 columns</p>\n",
              "</div>"
            ],
            "text/plain": [
              "       VendorID tpep_pickup_datetime  ... improvement_surcharge  total_amount\n",
              "0             1  2015-10-01 00:00:00  ...                   0.3          7.30\n",
              "1             2  2015-10-01 00:00:00  ...                   0.3         28.30\n",
              "2             2  2015-10-01 00:00:00  ...                   0.3         15.30\n",
              "3             2  2015-10-01 00:00:00  ...                   0.3         26.06\n",
              "4             1  2015-10-01 00:00:01  ...                   0.3         19.80\n",
              "...         ...                  ...  ...                   ...           ...\n",
              "99994         2  2015-10-01 09:33:05  ...                   0.3         25.56\n",
              "99995         1  2015-10-01 09:33:06  ...                   0.3         12.70\n",
              "99996         1  2015-10-01 09:33:06  ...                   0.3         20.16\n",
              "99997         2  2015-10-01 09:33:06  ...                   0.3         16.56\n",
              "99998         1  2015-10-01 09:33:07  ...                   0.3          8.80\n",
              "\n",
              "[99999 rows x 19 columns]"
            ]
          },
          "metadata": {
            "tags": []
          },
          "execution_count": 37
        }
      ]
    },
    {
      "cell_type": "code",
      "metadata": {
        "id": "dbpZjK3WLpYT",
        "colab_type": "code",
        "outputId": "cc52d7dc-6e44-4fcf-faaf-4b0c95ac3bcb",
        "colab": {
          "base_uri": "https://localhost:8080/",
          "height": 459
        }
      },
      "source": [
        "df.info()"
      ],
      "execution_count": 0,
      "outputs": [
        {
          "output_type": "stream",
          "text": [
            "<class 'pandas.core.frame.DataFrame'>\n",
            "RangeIndex: 99999 entries, 0 to 99998\n",
            "Data columns (total 19 columns):\n",
            " #   Column                 Non-Null Count  Dtype  \n",
            "---  ------                 --------------  -----  \n",
            " 0   VendorID               99999 non-null  int64  \n",
            " 1   tpep_pickup_datetime   99999 non-null  object \n",
            " 2   tpep_dropoff_datetime  99999 non-null  object \n",
            " 3   passenger_count        99999 non-null  int64  \n",
            " 4   trip_distance          99999 non-null  float64\n",
            " 5   pickup_longitude       99999 non-null  float64\n",
            " 6   pickup_latitude        99999 non-null  float64\n",
            " 7   RatecodeID             99999 non-null  int64  \n",
            " 8   store_and_fwd_flag     99999 non-null  object \n",
            " 9   dropoff_longitude      99999 non-null  float64\n",
            " 10  dropoff_latitude       99999 non-null  float64\n",
            " 11  payment_type           99999 non-null  int64  \n",
            " 12  fare_amount            99999 non-null  float64\n",
            " 13  extra                  99999 non-null  float64\n",
            " 14  mta_tax                99999 non-null  float64\n",
            " 15  tip_amount             99999 non-null  float64\n",
            " 16  tolls_amount           99999 non-null  float64\n",
            " 17  improvement_surcharge  99999 non-null  float64\n",
            " 18  total_amount           99999 non-null  float64\n",
            "dtypes: float64(12), int64(4), object(3)\n",
            "memory usage: 14.5+ MB\n"
          ],
          "name": "stdout"
        }
      ]
    },
    {
      "cell_type": "markdown",
      "metadata": {
        "id": "3B_INU69Wbte",
        "colab_type": "text"
      },
      "source": [
        "# **Problem Formualtion**\n",
        "\n",
        "---\n",
        "\n"
      ]
    },
    {
      "cell_type": "markdown",
      "metadata": {
        "id": "wcteqHA2WghX",
        "colab_type": "text"
      },
      "source": [
        "Given a region and a 10 min interval, we have to predict pickups.\n",
        "\n",
        "\n",
        "*  How to break up the NYC into regions?\n",
        "*  Every region of NYC has to be broken up into 10 min interval.\n",
        "\n",
        "We already know, about the pickup at time ‘t’, we will predict the pickup at time ‘t+1’ in the same region.\n",
        "\n"
      ]
    },
    {
      "cell_type": "markdown",
      "metadata": {
        "id": "iiyzjCznauqe",
        "colab_type": "text"
      },
      "source": [
        "# **Features in Dataset:** \n",
        "\n",
        "---\n",
        "Field Name | \tDescription\n",
        "--- | ---\n",
        "**VendorID** | A code indicating the TPEP provider that provided the record. \n",
        "             | 1= Creative Mobile Technologies, LLC; 2= VeriFone Inc\n",
        "**tpep_pickup_datetime** | The date and time when the meter was engaged. \n",
        "**tpep_dropoff_datetime**| The date and time when the meter was disengaged. \n",
        "**Passenger_count** | The number of passengers in the vehicle. This is a driver-entered value\n",
        "**Trip_distance**  | The elapsed trip distance in miles reported by the taximeter.\n",
        "**PULocationID** | TLC Taxi Zone in which the taximeter was engaged\n",
        "**DOLocationID** | TLC Taxi Zone in which the taximeter was disengaged\n",
        "**RateCodeID** | The final rate code in effect at the end of the trip.\n",
        "**Store_and_fwd_flag** | This flag indicates whether the trip record was held in  vehicle memory before sending to the vendor,\n",
        "| because the vehicle did not have a connection to the server.\n",
        "**Payment_type** | A numeric code signifying how the passenger paid for the trip. \n",
        "**Fare_amount** | The time-and-distance fare calculated by the meter.\n",
        "**Extra** | Miscellaneous extras and surcharges. Currently, this only includes\n",
        "      |the $0.50  and  $1 rush hour and overnight charges. \n",
        "**Improvement_surcharge** |$0.30 improvement surcharge assessed trips at the flag drop. The improvement surcharge began being levied in 2015.\n",
        "**Tip_amount** |Tip amount – This field is automatically populated for credit card tips.Cash tips are not included.\n",
        "**Tolls_amount** |Total amount of all tolls paid in trip.\n",
        "**Total_amount** |The total amount charged to passengers. Does not include cash tips.\n",
        "**MTA_Tax** | 50 cent MTA tax that is automatically triggered based on the metered rate in use.\n",
        "\n",
        "\n"
      ]
    },
    {
      "cell_type": "markdown",
      "metadata": {
        "id": "h6_UnE_mO2vV",
        "colab_type": "text"
      },
      "source": [
        "## **DATA CLEANING**\n",
        "As a process of Data Cleaning and univariate analysis of the data, all errorneous and outlier points will be removed. Some of them listed below,\n",
        "\n",
        "\n",
        "\n",
        "1.   **Checking Uniqueness of Vendor_ID.**\n",
        "2.   **Checking if drop off time is earlier than pick up time.**\n",
        "\n",
        "1.   **Checking if passenger_count is less than 0.**\n",
        "2.   **Checking if Trip distance is less than 0.1 miles.**\n",
        "\n",
        "1.   **Checking if Payment type is invalid.**\n",
        "2.   **Checking if Latitute and Longtitude fall within NYC.**\n",
        "\n",
        "\n",
        "\n",
        "\n",
        "\n"
      ]
    },
    {
      "cell_type": "code",
      "metadata": {
        "id": "qE3cE-GK2wW_",
        "colab_type": "code",
        "outputId": "a6d2baf4-2b65-43fa-d78d-7fea26ecaa2c",
        "colab": {
          "base_uri": "https://localhost:8080/",
          "height": 357
        }
      },
      "source": [
        "df.isnull().sum()\n"
      ],
      "execution_count": 0,
      "outputs": [
        {
          "output_type": "execute_result",
          "data": {
            "text/plain": [
              "VendorID                 0\n",
              "tpep_pickup_datetime     0\n",
              "tpep_dropoff_datetime    0\n",
              "passenger_count          0\n",
              "trip_distance            0\n",
              "pickup_longitude         0\n",
              "pickup_latitude          0\n",
              "RatecodeID               0\n",
              "store_and_fwd_flag       0\n",
              "dropoff_longitude        0\n",
              "dropoff_latitude         0\n",
              "payment_type             0\n",
              "fare_amount              0\n",
              "extra                    0\n",
              "mta_tax                  0\n",
              "tip_amount               0\n",
              "tolls_amount             0\n",
              "improvement_surcharge    0\n",
              "total_amount             0\n",
              "dtype: int64"
            ]
          },
          "metadata": {
            "tags": []
          },
          "execution_count": 39
        }
      ]
    },
    {
      "cell_type": "markdown",
      "metadata": {
        "id": "UK_lol6Ff7Ud",
        "colab_type": "text"
      },
      "source": [
        "#### **Dropping NA**"
      ]
    },
    {
      "cell_type": "code",
      "metadata": {
        "id": "raHZ3q4KLpYW",
        "colab_type": "code",
        "colab": {}
      },
      "source": [
        "df=df.dropna()\n"
      ],
      "execution_count": 0,
      "outputs": []
    },
    {
      "cell_type": "markdown",
      "metadata": {
        "id": "2ZnswHOTgBRf",
        "colab_type": "text"
      },
      "source": [
        "#### **Deleting unnecessary columns**"
      ]
    },
    {
      "cell_type": "code",
      "metadata": {
        "id": "rURFevEq5Wmk",
        "colab_type": "code",
        "colab": {}
      },
      "source": [
        "del df['RatecodeID']"
      ],
      "execution_count": 0,
      "outputs": []
    },
    {
      "cell_type": "code",
      "metadata": {
        "id": "-dQWRbj3LpYY",
        "colab_type": "code",
        "colab": {}
      },
      "source": [
        "del df ['store_and_fwd_flag']"
      ],
      "execution_count": 0,
      "outputs": []
    },
    {
      "cell_type": "code",
      "metadata": {
        "id": "0VSgpNwRLpYd",
        "colab_type": "code",
        "colab": {}
      },
      "source": [
        "df.drop(df[df.trip_distance ==0.00].index, inplace=True)"
      ],
      "execution_count": 0,
      "outputs": []
    },
    {
      "cell_type": "code",
      "metadata": {
        "id": "cdmdoNTzLpYf",
        "colab_type": "code",
        "outputId": "17b54891-b36b-48e1-fee0-d90b7eb23085",
        "colab": {
          "base_uri": "https://localhost:8080/",
          "height": 439
        }
      },
      "source": [
        "df"
      ],
      "execution_count": 0,
      "outputs": [
        {
          "output_type": "execute_result",
          "data": {
            "text/html": [
              "<div>\n",
              "<style scoped>\n",
              "    .dataframe tbody tr th:only-of-type {\n",
              "        vertical-align: middle;\n",
              "    }\n",
              "\n",
              "    .dataframe tbody tr th {\n",
              "        vertical-align: top;\n",
              "    }\n",
              "\n",
              "    .dataframe thead th {\n",
              "        text-align: right;\n",
              "    }\n",
              "</style>\n",
              "<table border=\"1\" class=\"dataframe\">\n",
              "  <thead>\n",
              "    <tr style=\"text-align: right;\">\n",
              "      <th></th>\n",
              "      <th>VendorID</th>\n",
              "      <th>tpep_pickup_datetime</th>\n",
              "      <th>tpep_dropoff_datetime</th>\n",
              "      <th>passenger_count</th>\n",
              "      <th>trip_distance</th>\n",
              "      <th>pickup_longitude</th>\n",
              "      <th>pickup_latitude</th>\n",
              "      <th>dropoff_longitude</th>\n",
              "      <th>dropoff_latitude</th>\n",
              "      <th>payment_type</th>\n",
              "      <th>fare_amount</th>\n",
              "      <th>extra</th>\n",
              "      <th>mta_tax</th>\n",
              "      <th>tip_amount</th>\n",
              "      <th>tolls_amount</th>\n",
              "      <th>improvement_surcharge</th>\n",
              "      <th>total_amount</th>\n",
              "    </tr>\n",
              "  </thead>\n",
              "  <tbody>\n",
              "    <tr>\n",
              "      <th>0</th>\n",
              "      <td>1</td>\n",
              "      <td>2015-10-01 00:00:00</td>\n",
              "      <td>2015-10-01 00:05:48</td>\n",
              "      <td>1</td>\n",
              "      <td>1.10</td>\n",
              "      <td>-73.935516</td>\n",
              "      <td>40.761238</td>\n",
              "      <td>-73.944351</td>\n",
              "      <td>40.754578</td>\n",
              "      <td>2</td>\n",
              "      <td>6.00</td>\n",
              "      <td>0.5</td>\n",
              "      <td>0.5</td>\n",
              "      <td>0.00</td>\n",
              "      <td>0.0</td>\n",
              "      <td>0.3</td>\n",
              "      <td>7.30</td>\n",
              "    </tr>\n",
              "    <tr>\n",
              "      <th>1</th>\n",
              "      <td>2</td>\n",
              "      <td>2015-10-01 00:00:00</td>\n",
              "      <td>2015-10-01 00:00:00</td>\n",
              "      <td>1</td>\n",
              "      <td>7.68</td>\n",
              "      <td>-73.989937</td>\n",
              "      <td>40.743439</td>\n",
              "      <td>-73.986687</td>\n",
              "      <td>40.689129</td>\n",
              "      <td>2</td>\n",
              "      <td>27.50</td>\n",
              "      <td>0.0</td>\n",
              "      <td>0.5</td>\n",
              "      <td>0.00</td>\n",
              "      <td>0.0</td>\n",
              "      <td>0.3</td>\n",
              "      <td>28.30</td>\n",
              "    </tr>\n",
              "    <tr>\n",
              "      <th>2</th>\n",
              "      <td>2</td>\n",
              "      <td>2015-10-01 00:00:00</td>\n",
              "      <td>2015-10-01 00:00:00</td>\n",
              "      <td>2</td>\n",
              "      <td>2.53</td>\n",
              "      <td>-73.987328</td>\n",
              "      <td>40.720020</td>\n",
              "      <td>-73.999084</td>\n",
              "      <td>40.744381</td>\n",
              "      <td>1</td>\n",
              "      <td>12.50</td>\n",
              "      <td>0.0</td>\n",
              "      <td>0.5</td>\n",
              "      <td>2.00</td>\n",
              "      <td>0.0</td>\n",
              "      <td>0.3</td>\n",
              "      <td>15.30</td>\n",
              "    </tr>\n",
              "    <tr>\n",
              "      <th>3</th>\n",
              "      <td>2</td>\n",
              "      <td>2015-10-01 00:00:00</td>\n",
              "      <td>2015-10-01 00:00:00</td>\n",
              "      <td>0</td>\n",
              "      <td>1.20</td>\n",
              "      <td>-73.953758</td>\n",
              "      <td>40.743385</td>\n",
              "      <td>-73.930008</td>\n",
              "      <td>40.736622</td>\n",
              "      <td>2</td>\n",
              "      <td>25.26</td>\n",
              "      <td>0.0</td>\n",
              "      <td>0.5</td>\n",
              "      <td>0.00</td>\n",
              "      <td>0.0</td>\n",
              "      <td>0.3</td>\n",
              "      <td>26.06</td>\n",
              "    </tr>\n",
              "    <tr>\n",
              "      <th>4</th>\n",
              "      <td>1</td>\n",
              "      <td>2015-10-01 00:00:01</td>\n",
              "      <td>2015-10-01 00:16:19</td>\n",
              "      <td>1</td>\n",
              "      <td>3.80</td>\n",
              "      <td>-73.984016</td>\n",
              "      <td>40.755222</td>\n",
              "      <td>-73.959869</td>\n",
              "      <td>40.801323</td>\n",
              "      <td>1</td>\n",
              "      <td>15.50</td>\n",
              "      <td>0.5</td>\n",
              "      <td>0.5</td>\n",
              "      <td>3.00</td>\n",
              "      <td>0.0</td>\n",
              "      <td>0.3</td>\n",
              "      <td>19.80</td>\n",
              "    </tr>\n",
              "    <tr>\n",
              "      <th>...</th>\n",
              "      <td>...</td>\n",
              "      <td>...</td>\n",
              "      <td>...</td>\n",
              "      <td>...</td>\n",
              "      <td>...</td>\n",
              "      <td>...</td>\n",
              "      <td>...</td>\n",
              "      <td>...</td>\n",
              "      <td>...</td>\n",
              "      <td>...</td>\n",
              "      <td>...</td>\n",
              "      <td>...</td>\n",
              "      <td>...</td>\n",
              "      <td>...</td>\n",
              "      <td>...</td>\n",
              "      <td>...</td>\n",
              "      <td>...</td>\n",
              "    </tr>\n",
              "    <tr>\n",
              "      <th>99994</th>\n",
              "      <td>2</td>\n",
              "      <td>2015-10-01 09:33:05</td>\n",
              "      <td>2015-10-01 09:55:19</td>\n",
              "      <td>1</td>\n",
              "      <td>5.00</td>\n",
              "      <td>-73.960625</td>\n",
              "      <td>40.761410</td>\n",
              "      <td>-74.002640</td>\n",
              "      <td>40.728294</td>\n",
              "      <td>1</td>\n",
              "      <td>20.50</td>\n",
              "      <td>0.0</td>\n",
              "      <td>0.5</td>\n",
              "      <td>4.26</td>\n",
              "      <td>0.0</td>\n",
              "      <td>0.3</td>\n",
              "      <td>25.56</td>\n",
              "    </tr>\n",
              "    <tr>\n",
              "      <th>99995</th>\n",
              "      <td>1</td>\n",
              "      <td>2015-10-01 09:33:06</td>\n",
              "      <td>2015-10-01 09:46:03</td>\n",
              "      <td>1</td>\n",
              "      <td>1.00</td>\n",
              "      <td>-74.008865</td>\n",
              "      <td>40.715946</td>\n",
              "      <td>-73.997917</td>\n",
              "      <td>40.720467</td>\n",
              "      <td>1</td>\n",
              "      <td>9.00</td>\n",
              "      <td>0.0</td>\n",
              "      <td>0.5</td>\n",
              "      <td>2.90</td>\n",
              "      <td>0.0</td>\n",
              "      <td>0.3</td>\n",
              "      <td>12.70</td>\n",
              "    </tr>\n",
              "    <tr>\n",
              "      <th>99996</th>\n",
              "      <td>1</td>\n",
              "      <td>2015-10-01 09:33:06</td>\n",
              "      <td>2015-10-01 09:57:39</td>\n",
              "      <td>1</td>\n",
              "      <td>2.60</td>\n",
              "      <td>-73.981049</td>\n",
              "      <td>40.729874</td>\n",
              "      <td>-73.991631</td>\n",
              "      <td>40.754829</td>\n",
              "      <td>1</td>\n",
              "      <td>16.00</td>\n",
              "      <td>0.0</td>\n",
              "      <td>0.5</td>\n",
              "      <td>3.36</td>\n",
              "      <td>0.0</td>\n",
              "      <td>0.3</td>\n",
              "      <td>20.16</td>\n",
              "    </tr>\n",
              "    <tr>\n",
              "      <th>99997</th>\n",
              "      <td>2</td>\n",
              "      <td>2015-10-01 09:33:06</td>\n",
              "      <td>2015-10-01 09:52:57</td>\n",
              "      <td>5</td>\n",
              "      <td>0.99</td>\n",
              "      <td>-73.975304</td>\n",
              "      <td>40.759300</td>\n",
              "      <td>-73.964859</td>\n",
              "      <td>40.769749</td>\n",
              "      <td>1</td>\n",
              "      <td>13.00</td>\n",
              "      <td>0.0</td>\n",
              "      <td>0.5</td>\n",
              "      <td>2.76</td>\n",
              "      <td>0.0</td>\n",
              "      <td>0.3</td>\n",
              "      <td>16.56</td>\n",
              "    </tr>\n",
              "    <tr>\n",
              "      <th>99998</th>\n",
              "      <td>1</td>\n",
              "      <td>2015-10-01 09:33:07</td>\n",
              "      <td>2015-10-01 09:43:19</td>\n",
              "      <td>2</td>\n",
              "      <td>0.90</td>\n",
              "      <td>-73.999954</td>\n",
              "      <td>40.720490</td>\n",
              "      <td>-74.009132</td>\n",
              "      <td>40.710724</td>\n",
              "      <td>2</td>\n",
              "      <td>8.00</td>\n",
              "      <td>0.0</td>\n",
              "      <td>0.5</td>\n",
              "      <td>0.00</td>\n",
              "      <td>0.0</td>\n",
              "      <td>0.3</td>\n",
              "      <td>8.80</td>\n",
              "    </tr>\n",
              "  </tbody>\n",
              "</table>\n",
              "<p>99174 rows × 17 columns</p>\n",
              "</div>"
            ],
            "text/plain": [
              "       VendorID tpep_pickup_datetime  ... improvement_surcharge  total_amount\n",
              "0             1  2015-10-01 00:00:00  ...                   0.3          7.30\n",
              "1             2  2015-10-01 00:00:00  ...                   0.3         28.30\n",
              "2             2  2015-10-01 00:00:00  ...                   0.3         15.30\n",
              "3             2  2015-10-01 00:00:00  ...                   0.3         26.06\n",
              "4             1  2015-10-01 00:00:01  ...                   0.3         19.80\n",
              "...         ...                  ...  ...                   ...           ...\n",
              "99994         2  2015-10-01 09:33:05  ...                   0.3         25.56\n",
              "99995         1  2015-10-01 09:33:06  ...                   0.3         12.70\n",
              "99996         1  2015-10-01 09:33:06  ...                   0.3         20.16\n",
              "99997         2  2015-10-01 09:33:06  ...                   0.3         16.56\n",
              "99998         1  2015-10-01 09:33:07  ...                   0.3          8.80\n",
              "\n",
              "[99174 rows x 17 columns]"
            ]
          },
          "metadata": {
            "tags": []
          },
          "execution_count": 44
        }
      ]
    },
    {
      "cell_type": "markdown",
      "metadata": {
        "id": "-knQd2IK3fZv",
        "colab_type": "text"
      },
      "source": [
        "### **1. Checking uniqueness of ID**"
      ]
    },
    {
      "cell_type": "code",
      "metadata": {
        "id": "tWHnkd4r3azW",
        "colab_type": "code",
        "outputId": "555ee270-c450-40c5-da15-72c061c41ecc",
        "colab": {
          "base_uri": "https://localhost:8080/",
          "height": 68
        }
      },
      "source": [
        "print(\"Number of ids in the train dataset: \", len(df[\"VendorID\"]))\n",
        "print(\"Number of unique ids in the train dataset: \", len(pd.unique(df[\"VendorID\"])), \"\\n\")"
      ],
      "execution_count": 0,
      "outputs": [
        {
          "output_type": "stream",
          "text": [
            "Number of ids in the train dataset:  99174\n",
            "Number of unique ids in the train dataset:  2 \n",
            "\n"
          ],
          "name": "stdout"
        }
      ]
    },
    {
      "cell_type": "markdown",
      "metadata": {
        "id": "vmsL4St84erc",
        "colab_type": "text"
      },
      "source": [
        "**OBSERVATION:**\n",
        "\n",
        "Vendor_ID takes on only two values , 1 or 2. If the hypothesis is right and the values in the Vendor_ID column represent the data from two different taxi companies. "
      ]
    },
    {
      "cell_type": "markdown",
      "metadata": {
        "id": "PlF7tuqX5pkV",
        "colab_type": "text"
      },
      "source": [
        "### **2.Checking if drop off time is earlier than pick up time**"
      ]
    },
    {
      "cell_type": "code",
      "metadata": {
        "id": "I0Bn37Ll5yl3",
        "colab_type": "code",
        "outputId": "2b76b47a-87ae-44f3-8f58-8428a8dc99f2",
        "colab": {
          "base_uri": "https://localhost:8080/",
          "height": 170
        }
      },
      "source": [
        "df[\"tpep_pickup_datetime\"] = pd.to_datetime(df[\"tpep_pickup_datetime\"])\n",
        "df[\"tpep_dropoff_datetime\"] = pd.to_datetime(df[\"tpep_dropoff_datetime\"])\n",
        "(df[\"tpep_dropoff_datetime\"] - df[\"tpep_pickup_datetime\"]).describe()"
      ],
      "execution_count": 0,
      "outputs": [
        {
          "output_type": "execute_result",
          "data": {
            "text/plain": [
              "count                     99174\n",
              "mean     0 days 00:15:18.138715\n",
              "std      0 days 00:47:51.121904\n",
              "min           -1 days +23:58:44\n",
              "25%             0 days 00:06:21\n",
              "50%             0 days 00:10:43\n",
              "75%             0 days 00:17:34\n",
              "max             0 days 23:59:17\n",
              "dtype: object"
            ]
          },
          "metadata": {
            "tags": []
          },
          "execution_count": 46
        }
      ]
    },
    {
      "cell_type": "markdown",
      "metadata": {
        "id": "aiRUCFBPDBik",
        "colab_type": "text"
      },
      "source": [
        "#### **Removing rows where dropoff time is earlier than pickup time**"
      ]
    },
    {
      "cell_type": "code",
      "metadata": {
        "id": "LMs0kEEM68S2",
        "colab_type": "code",
        "outputId": "0f47ed16-f571-42b4-f580-c23777d91507",
        "colab": {
          "base_uri": "https://localhost:8080/",
          "height": 439
        }
      },
      "source": [
        "import numpy as np\n",
        "\n",
        "df=df[(df[\"tpep_dropoff_datetime\"] - df[\"tpep_pickup_datetime\"]) /np.timedelta64(1, 'D') > 0.0]\n",
        "df"
      ],
      "execution_count": 0,
      "outputs": [
        {
          "output_type": "execute_result",
          "data": {
            "text/html": [
              "<div>\n",
              "<style scoped>\n",
              "    .dataframe tbody tr th:only-of-type {\n",
              "        vertical-align: middle;\n",
              "    }\n",
              "\n",
              "    .dataframe tbody tr th {\n",
              "        vertical-align: top;\n",
              "    }\n",
              "\n",
              "    .dataframe thead th {\n",
              "        text-align: right;\n",
              "    }\n",
              "</style>\n",
              "<table border=\"1\" class=\"dataframe\">\n",
              "  <thead>\n",
              "    <tr style=\"text-align: right;\">\n",
              "      <th></th>\n",
              "      <th>VendorID</th>\n",
              "      <th>tpep_pickup_datetime</th>\n",
              "      <th>tpep_dropoff_datetime</th>\n",
              "      <th>passenger_count</th>\n",
              "      <th>trip_distance</th>\n",
              "      <th>pickup_longitude</th>\n",
              "      <th>pickup_latitude</th>\n",
              "      <th>dropoff_longitude</th>\n",
              "      <th>dropoff_latitude</th>\n",
              "      <th>payment_type</th>\n",
              "      <th>fare_amount</th>\n",
              "      <th>extra</th>\n",
              "      <th>mta_tax</th>\n",
              "      <th>tip_amount</th>\n",
              "      <th>tolls_amount</th>\n",
              "      <th>improvement_surcharge</th>\n",
              "      <th>total_amount</th>\n",
              "    </tr>\n",
              "  </thead>\n",
              "  <tbody>\n",
              "    <tr>\n",
              "      <th>0</th>\n",
              "      <td>1</td>\n",
              "      <td>2015-10-01 00:00:00</td>\n",
              "      <td>2015-10-01 00:05:48</td>\n",
              "      <td>1</td>\n",
              "      <td>1.10</td>\n",
              "      <td>-73.935516</td>\n",
              "      <td>40.761238</td>\n",
              "      <td>-73.944351</td>\n",
              "      <td>40.754578</td>\n",
              "      <td>2</td>\n",
              "      <td>6.0</td>\n",
              "      <td>0.5</td>\n",
              "      <td>0.5</td>\n",
              "      <td>0.00</td>\n",
              "      <td>0.0</td>\n",
              "      <td>0.3</td>\n",
              "      <td>7.30</td>\n",
              "    </tr>\n",
              "    <tr>\n",
              "      <th>4</th>\n",
              "      <td>1</td>\n",
              "      <td>2015-10-01 00:00:01</td>\n",
              "      <td>2015-10-01 00:16:19</td>\n",
              "      <td>1</td>\n",
              "      <td>3.80</td>\n",
              "      <td>-73.984016</td>\n",
              "      <td>40.755222</td>\n",
              "      <td>-73.959869</td>\n",
              "      <td>40.801323</td>\n",
              "      <td>1</td>\n",
              "      <td>15.5</td>\n",
              "      <td>0.5</td>\n",
              "      <td>0.5</td>\n",
              "      <td>3.00</td>\n",
              "      <td>0.0</td>\n",
              "      <td>0.3</td>\n",
              "      <td>19.80</td>\n",
              "    </tr>\n",
              "    <tr>\n",
              "      <th>5</th>\n",
              "      <td>1</td>\n",
              "      <td>2015-10-01 00:00:01</td>\n",
              "      <td>2015-10-01 00:13:41</td>\n",
              "      <td>1</td>\n",
              "      <td>3.10</td>\n",
              "      <td>-73.975296</td>\n",
              "      <td>40.751396</td>\n",
              "      <td>-73.970924</td>\n",
              "      <td>40.785984</td>\n",
              "      <td>1</td>\n",
              "      <td>12.5</td>\n",
              "      <td>0.5</td>\n",
              "      <td>0.5</td>\n",
              "      <td>1.00</td>\n",
              "      <td>0.0</td>\n",
              "      <td>0.3</td>\n",
              "      <td>14.80</td>\n",
              "    </tr>\n",
              "    <tr>\n",
              "      <th>6</th>\n",
              "      <td>1</td>\n",
              "      <td>2015-10-01 00:00:01</td>\n",
              "      <td>2015-10-01 00:21:23</td>\n",
              "      <td>1</td>\n",
              "      <td>4.50</td>\n",
              "      <td>-73.997078</td>\n",
              "      <td>40.722290</td>\n",
              "      <td>-73.960472</td>\n",
              "      <td>40.761517</td>\n",
              "      <td>2</td>\n",
              "      <td>16.5</td>\n",
              "      <td>0.5</td>\n",
              "      <td>0.5</td>\n",
              "      <td>0.00</td>\n",
              "      <td>0.0</td>\n",
              "      <td>0.3</td>\n",
              "      <td>17.80</td>\n",
              "    </tr>\n",
              "    <tr>\n",
              "      <th>7</th>\n",
              "      <td>2</td>\n",
              "      <td>2015-10-01 00:00:01</td>\n",
              "      <td>2015-10-01 00:05:50</td>\n",
              "      <td>1</td>\n",
              "      <td>0.84</td>\n",
              "      <td>-73.998711</td>\n",
              "      <td>40.734756</td>\n",
              "      <td>-74.003082</td>\n",
              "      <td>40.742546</td>\n",
              "      <td>1</td>\n",
              "      <td>6.0</td>\n",
              "      <td>0.5</td>\n",
              "      <td>0.5</td>\n",
              "      <td>0.70</td>\n",
              "      <td>0.0</td>\n",
              "      <td>0.3</td>\n",
              "      <td>8.00</td>\n",
              "    </tr>\n",
              "    <tr>\n",
              "      <th>...</th>\n",
              "      <td>...</td>\n",
              "      <td>...</td>\n",
              "      <td>...</td>\n",
              "      <td>...</td>\n",
              "      <td>...</td>\n",
              "      <td>...</td>\n",
              "      <td>...</td>\n",
              "      <td>...</td>\n",
              "      <td>...</td>\n",
              "      <td>...</td>\n",
              "      <td>...</td>\n",
              "      <td>...</td>\n",
              "      <td>...</td>\n",
              "      <td>...</td>\n",
              "      <td>...</td>\n",
              "      <td>...</td>\n",
              "      <td>...</td>\n",
              "    </tr>\n",
              "    <tr>\n",
              "      <th>99994</th>\n",
              "      <td>2</td>\n",
              "      <td>2015-10-01 09:33:05</td>\n",
              "      <td>2015-10-01 09:55:19</td>\n",
              "      <td>1</td>\n",
              "      <td>5.00</td>\n",
              "      <td>-73.960625</td>\n",
              "      <td>40.761410</td>\n",
              "      <td>-74.002640</td>\n",
              "      <td>40.728294</td>\n",
              "      <td>1</td>\n",
              "      <td>20.5</td>\n",
              "      <td>0.0</td>\n",
              "      <td>0.5</td>\n",
              "      <td>4.26</td>\n",
              "      <td>0.0</td>\n",
              "      <td>0.3</td>\n",
              "      <td>25.56</td>\n",
              "    </tr>\n",
              "    <tr>\n",
              "      <th>99995</th>\n",
              "      <td>1</td>\n",
              "      <td>2015-10-01 09:33:06</td>\n",
              "      <td>2015-10-01 09:46:03</td>\n",
              "      <td>1</td>\n",
              "      <td>1.00</td>\n",
              "      <td>-74.008865</td>\n",
              "      <td>40.715946</td>\n",
              "      <td>-73.997917</td>\n",
              "      <td>40.720467</td>\n",
              "      <td>1</td>\n",
              "      <td>9.0</td>\n",
              "      <td>0.0</td>\n",
              "      <td>0.5</td>\n",
              "      <td>2.90</td>\n",
              "      <td>0.0</td>\n",
              "      <td>0.3</td>\n",
              "      <td>12.70</td>\n",
              "    </tr>\n",
              "    <tr>\n",
              "      <th>99996</th>\n",
              "      <td>1</td>\n",
              "      <td>2015-10-01 09:33:06</td>\n",
              "      <td>2015-10-01 09:57:39</td>\n",
              "      <td>1</td>\n",
              "      <td>2.60</td>\n",
              "      <td>-73.981049</td>\n",
              "      <td>40.729874</td>\n",
              "      <td>-73.991631</td>\n",
              "      <td>40.754829</td>\n",
              "      <td>1</td>\n",
              "      <td>16.0</td>\n",
              "      <td>0.0</td>\n",
              "      <td>0.5</td>\n",
              "      <td>3.36</td>\n",
              "      <td>0.0</td>\n",
              "      <td>0.3</td>\n",
              "      <td>20.16</td>\n",
              "    </tr>\n",
              "    <tr>\n",
              "      <th>99997</th>\n",
              "      <td>2</td>\n",
              "      <td>2015-10-01 09:33:06</td>\n",
              "      <td>2015-10-01 09:52:57</td>\n",
              "      <td>5</td>\n",
              "      <td>0.99</td>\n",
              "      <td>-73.975304</td>\n",
              "      <td>40.759300</td>\n",
              "      <td>-73.964859</td>\n",
              "      <td>40.769749</td>\n",
              "      <td>1</td>\n",
              "      <td>13.0</td>\n",
              "      <td>0.0</td>\n",
              "      <td>0.5</td>\n",
              "      <td>2.76</td>\n",
              "      <td>0.0</td>\n",
              "      <td>0.3</td>\n",
              "      <td>16.56</td>\n",
              "    </tr>\n",
              "    <tr>\n",
              "      <th>99998</th>\n",
              "      <td>1</td>\n",
              "      <td>2015-10-01 09:33:07</td>\n",
              "      <td>2015-10-01 09:43:19</td>\n",
              "      <td>2</td>\n",
              "      <td>0.90</td>\n",
              "      <td>-73.999954</td>\n",
              "      <td>40.720490</td>\n",
              "      <td>-74.009132</td>\n",
              "      <td>40.710724</td>\n",
              "      <td>2</td>\n",
              "      <td>8.0</td>\n",
              "      <td>0.0</td>\n",
              "      <td>0.5</td>\n",
              "      <td>0.00</td>\n",
              "      <td>0.0</td>\n",
              "      <td>0.3</td>\n",
              "      <td>8.80</td>\n",
              "    </tr>\n",
              "  </tbody>\n",
              "</table>\n",
              "<p>99161 rows × 17 columns</p>\n",
              "</div>"
            ],
            "text/plain": [
              "       VendorID tpep_pickup_datetime  ... improvement_surcharge  total_amount\n",
              "0             1  2015-10-01 00:00:00  ...                   0.3          7.30\n",
              "4             1  2015-10-01 00:00:01  ...                   0.3         19.80\n",
              "5             1  2015-10-01 00:00:01  ...                   0.3         14.80\n",
              "6             1  2015-10-01 00:00:01  ...                   0.3         17.80\n",
              "7             2  2015-10-01 00:00:01  ...                   0.3          8.00\n",
              "...         ...                  ...  ...                   ...           ...\n",
              "99994         2  2015-10-01 09:33:05  ...                   0.3         25.56\n",
              "99995         1  2015-10-01 09:33:06  ...                   0.3         12.70\n",
              "99996         1  2015-10-01 09:33:06  ...                   0.3         20.16\n",
              "99997         2  2015-10-01 09:33:06  ...                   0.3         16.56\n",
              "99998         1  2015-10-01 09:33:07  ...                   0.3          8.80\n",
              "\n",
              "[99161 rows x 17 columns]"
            ]
          },
          "metadata": {
            "tags": []
          },
          "execution_count": 47
        }
      ]
    },
    {
      "cell_type": "markdown",
      "metadata": {
        "id": "yt3NEDwcDnrN",
        "colab_type": "text"
      },
      "source": [
        "### **3.Checking if passenger_count is less than 0**"
      ]
    },
    {
      "cell_type": "code",
      "metadata": {
        "id": "XqaLatyhBOc9",
        "colab_type": "code",
        "outputId": "cf5bdcbd-43b5-4569-cffc-6df5282c2db8",
        "colab": {
          "base_uri": "https://localhost:8080/",
          "height": 170
        }
      },
      "source": [
        "df.passenger_count.describe()"
      ],
      "execution_count": 0,
      "outputs": [
        {
          "output_type": "execute_result",
          "data": {
            "text/plain": [
              "count    99161.000000\n",
              "mean         1.613195\n",
              "std          1.321662\n",
              "min          0.000000\n",
              "25%          1.000000\n",
              "50%          1.000000\n",
              "75%          1.000000\n",
              "max          6.000000\n",
              "Name: passenger_count, dtype: float64"
            ]
          },
          "metadata": {
            "tags": []
          },
          "execution_count": 48
        }
      ]
    },
    {
      "cell_type": "code",
      "metadata": {
        "id": "iSNiKtyPEGnV",
        "colab_type": "code",
        "outputId": "6691731a-421b-471a-b2da-2ac532442428",
        "colab": {
          "base_uri": "https://localhost:8080/",
          "height": 170
        }
      },
      "source": [
        "df=df[df.passenger_count >= 1]\n",
        "df.passenger_count.describe()"
      ],
      "execution_count": 0,
      "outputs": [
        {
          "output_type": "execute_result",
          "data": {
            "text/plain": [
              "count    99160.000000\n",
              "mean         1.613211\n",
              "std          1.321659\n",
              "min          1.000000\n",
              "25%          1.000000\n",
              "50%          1.000000\n",
              "75%          1.000000\n",
              "max          6.000000\n",
              "Name: passenger_count, dtype: float64"
            ]
          },
          "metadata": {
            "tags": []
          },
          "execution_count": 49
        }
      ]
    },
    {
      "cell_type": "markdown",
      "metadata": {
        "id": "pGzg3oVKEI6Y",
        "colab_type": "text"
      },
      "source": [
        "#### **OBSERVATION:**\n",
        "A trip cannot happen without passenger, therefore, removing rows with passenger_count < 1"
      ]
    },
    {
      "cell_type": "markdown",
      "metadata": {
        "id": "h3ANHIDRFnYH",
        "colab_type": "text"
      },
      "source": [
        "### **4. Checking if Trip distance is less than 0.1 miles.**"
      ]
    },
    {
      "cell_type": "code",
      "metadata": {
        "id": "H8NWDLRHFdiF",
        "colab_type": "code",
        "outputId": "2b129589-9f29-40f4-eace-6ca1c6d25056",
        "colab": {
          "base_uri": "https://localhost:8080/",
          "height": 170
        }
      },
      "source": [
        "df.trip_distance.describe()"
      ],
      "execution_count": 0,
      "outputs": [
        {
          "output_type": "execute_result",
          "data": {
            "text/plain": [
              "count    99160.000000\n",
              "mean         3.098804\n",
              "std          3.825100\n",
              "min          0.010000\n",
              "25%          1.020000\n",
              "50%          1.800000\n",
              "75%          3.410000\n",
              "max        225.800000\n",
              "Name: trip_distance, dtype: float64"
            ]
          },
          "metadata": {
            "tags": []
          },
          "execution_count": 50
        }
      ]
    },
    {
      "cell_type": "code",
      "metadata": {
        "id": "y4tadzkMFlGo",
        "colab_type": "code",
        "outputId": "2c5d2570-4bc4-48ba-c70e-d1ea7493c364",
        "colab": {
          "base_uri": "https://localhost:8080/",
          "height": 439
        }
      },
      "source": [
        "df[df.trip_distance==0.1]"
      ],
      "execution_count": 0,
      "outputs": [
        {
          "output_type": "execute_result",
          "data": {
            "text/html": [
              "<div>\n",
              "<style scoped>\n",
              "    .dataframe tbody tr th:only-of-type {\n",
              "        vertical-align: middle;\n",
              "    }\n",
              "\n",
              "    .dataframe tbody tr th {\n",
              "        vertical-align: top;\n",
              "    }\n",
              "\n",
              "    .dataframe thead th {\n",
              "        text-align: right;\n",
              "    }\n",
              "</style>\n",
              "<table border=\"1\" class=\"dataframe\">\n",
              "  <thead>\n",
              "    <tr style=\"text-align: right;\">\n",
              "      <th></th>\n",
              "      <th>VendorID</th>\n",
              "      <th>tpep_pickup_datetime</th>\n",
              "      <th>tpep_dropoff_datetime</th>\n",
              "      <th>passenger_count</th>\n",
              "      <th>trip_distance</th>\n",
              "      <th>pickup_longitude</th>\n",
              "      <th>pickup_latitude</th>\n",
              "      <th>dropoff_longitude</th>\n",
              "      <th>dropoff_latitude</th>\n",
              "      <th>payment_type</th>\n",
              "      <th>fare_amount</th>\n",
              "      <th>extra</th>\n",
              "      <th>mta_tax</th>\n",
              "      <th>tip_amount</th>\n",
              "      <th>tolls_amount</th>\n",
              "      <th>improvement_surcharge</th>\n",
              "      <th>total_amount</th>\n",
              "    </tr>\n",
              "  </thead>\n",
              "  <tbody>\n",
              "    <tr>\n",
              "      <th>912</th>\n",
              "      <td>1</td>\n",
              "      <td>2015-10-14 10:25:52</td>\n",
              "      <td>2015-10-14 10:33:07</td>\n",
              "      <td>1</td>\n",
              "      <td>0.1</td>\n",
              "      <td>-73.979515</td>\n",
              "      <td>40.743816</td>\n",
              "      <td>-73.977898</td>\n",
              "      <td>40.746399</td>\n",
              "      <td>1</td>\n",
              "      <td>6.0</td>\n",
              "      <td>0.0</td>\n",
              "      <td>0.5</td>\n",
              "      <td>0.00</td>\n",
              "      <td>0.00</td>\n",
              "      <td>0.3</td>\n",
              "      <td>6.80</td>\n",
              "    </tr>\n",
              "    <tr>\n",
              "      <th>1358</th>\n",
              "      <td>1</td>\n",
              "      <td>2015-10-14 10:27:19</td>\n",
              "      <td>2015-10-14 10:31:45</td>\n",
              "      <td>1</td>\n",
              "      <td>0.1</td>\n",
              "      <td>-73.976395</td>\n",
              "      <td>40.752182</td>\n",
              "      <td>-73.976395</td>\n",
              "      <td>40.752182</td>\n",
              "      <td>1</td>\n",
              "      <td>4.5</td>\n",
              "      <td>0.0</td>\n",
              "      <td>0.5</td>\n",
              "      <td>1.32</td>\n",
              "      <td>0.00</td>\n",
              "      <td>0.3</td>\n",
              "      <td>6.62</td>\n",
              "    </tr>\n",
              "    <tr>\n",
              "      <th>1684</th>\n",
              "      <td>1</td>\n",
              "      <td>2015-10-14 10:28:24</td>\n",
              "      <td>2015-10-14 10:29:10</td>\n",
              "      <td>1</td>\n",
              "      <td>0.1</td>\n",
              "      <td>-73.976013</td>\n",
              "      <td>40.791401</td>\n",
              "      <td>-73.975189</td>\n",
              "      <td>40.790958</td>\n",
              "      <td>2</td>\n",
              "      <td>2.5</td>\n",
              "      <td>0.0</td>\n",
              "      <td>0.5</td>\n",
              "      <td>0.00</td>\n",
              "      <td>0.00</td>\n",
              "      <td>0.3</td>\n",
              "      <td>3.30</td>\n",
              "    </tr>\n",
              "    <tr>\n",
              "      <th>1985</th>\n",
              "      <td>1</td>\n",
              "      <td>2015-10-14 10:29:27</td>\n",
              "      <td>2015-10-14 11:06:22</td>\n",
              "      <td>1</td>\n",
              "      <td>0.1</td>\n",
              "      <td>-73.888039</td>\n",
              "      <td>40.767563</td>\n",
              "      <td>-73.973091</td>\n",
              "      <td>40.757507</td>\n",
              "      <td>2</td>\n",
              "      <td>2.5</td>\n",
              "      <td>0.0</td>\n",
              "      <td>0.5</td>\n",
              "      <td>0.00</td>\n",
              "      <td>5.54</td>\n",
              "      <td>0.3</td>\n",
              "      <td>8.84</td>\n",
              "    </tr>\n",
              "    <tr>\n",
              "      <th>2434</th>\n",
              "      <td>1</td>\n",
              "      <td>2015-10-14 10:30:54</td>\n",
              "      <td>2015-10-14 10:32:25</td>\n",
              "      <td>4</td>\n",
              "      <td>0.1</td>\n",
              "      <td>-73.978043</td>\n",
              "      <td>40.752914</td>\n",
              "      <td>-73.977478</td>\n",
              "      <td>40.751820</td>\n",
              "      <td>1</td>\n",
              "      <td>3.0</td>\n",
              "      <td>0.0</td>\n",
              "      <td>0.5</td>\n",
              "      <td>0.75</td>\n",
              "      <td>0.00</td>\n",
              "      <td>0.3</td>\n",
              "      <td>4.55</td>\n",
              "    </tr>\n",
              "    <tr>\n",
              "      <th>...</th>\n",
              "      <td>...</td>\n",
              "      <td>...</td>\n",
              "      <td>...</td>\n",
              "      <td>...</td>\n",
              "      <td>...</td>\n",
              "      <td>...</td>\n",
              "      <td>...</td>\n",
              "      <td>...</td>\n",
              "      <td>...</td>\n",
              "      <td>...</td>\n",
              "      <td>...</td>\n",
              "      <td>...</td>\n",
              "      <td>...</td>\n",
              "      <td>...</td>\n",
              "      <td>...</td>\n",
              "      <td>...</td>\n",
              "      <td>...</td>\n",
              "    </tr>\n",
              "    <tr>\n",
              "      <th>95590</th>\n",
              "      <td>1</td>\n",
              "      <td>2015-10-01 09:19:49</td>\n",
              "      <td>2015-10-01 09:25:31</td>\n",
              "      <td>1</td>\n",
              "      <td>0.1</td>\n",
              "      <td>-73.951530</td>\n",
              "      <td>40.791168</td>\n",
              "      <td>-73.953491</td>\n",
              "      <td>40.791164</td>\n",
              "      <td>2</td>\n",
              "      <td>5.0</td>\n",
              "      <td>0.0</td>\n",
              "      <td>0.5</td>\n",
              "      <td>0.00</td>\n",
              "      <td>0.00</td>\n",
              "      <td>0.3</td>\n",
              "      <td>5.80</td>\n",
              "    </tr>\n",
              "    <tr>\n",
              "      <th>96738</th>\n",
              "      <td>2</td>\n",
              "      <td>2015-10-01 09:23:11</td>\n",
              "      <td>2015-10-01 09:23:58</td>\n",
              "      <td>1</td>\n",
              "      <td>0.1</td>\n",
              "      <td>-74.004303</td>\n",
              "      <td>40.707561</td>\n",
              "      <td>-74.002876</td>\n",
              "      <td>40.708431</td>\n",
              "      <td>2</td>\n",
              "      <td>2.5</td>\n",
              "      <td>0.0</td>\n",
              "      <td>0.5</td>\n",
              "      <td>0.00</td>\n",
              "      <td>0.00</td>\n",
              "      <td>0.3</td>\n",
              "      <td>3.30</td>\n",
              "    </tr>\n",
              "    <tr>\n",
              "      <th>97043</th>\n",
              "      <td>1</td>\n",
              "      <td>2015-10-01 09:24:01</td>\n",
              "      <td>2015-10-01 09:25:13</td>\n",
              "      <td>1</td>\n",
              "      <td>0.1</td>\n",
              "      <td>-73.976715</td>\n",
              "      <td>40.759525</td>\n",
              "      <td>-73.977608</td>\n",
              "      <td>40.758144</td>\n",
              "      <td>2</td>\n",
              "      <td>3.0</td>\n",
              "      <td>0.0</td>\n",
              "      <td>0.5</td>\n",
              "      <td>0.00</td>\n",
              "      <td>0.00</td>\n",
              "      <td>0.3</td>\n",
              "      <td>3.80</td>\n",
              "    </tr>\n",
              "    <tr>\n",
              "      <th>97280</th>\n",
              "      <td>1</td>\n",
              "      <td>2015-10-01 09:24:44</td>\n",
              "      <td>2015-10-01 09:28:56</td>\n",
              "      <td>1</td>\n",
              "      <td>0.1</td>\n",
              "      <td>-73.977715</td>\n",
              "      <td>40.764503</td>\n",
              "      <td>-73.974709</td>\n",
              "      <td>40.763504</td>\n",
              "      <td>1</td>\n",
              "      <td>4.5</td>\n",
              "      <td>0.0</td>\n",
              "      <td>0.5</td>\n",
              "      <td>1.05</td>\n",
              "      <td>0.00</td>\n",
              "      <td>0.3</td>\n",
              "      <td>6.35</td>\n",
              "    </tr>\n",
              "    <tr>\n",
              "      <th>97537</th>\n",
              "      <td>1</td>\n",
              "      <td>2015-10-01 09:25:33</td>\n",
              "      <td>2015-10-01 09:26:15</td>\n",
              "      <td>1</td>\n",
              "      <td>0.1</td>\n",
              "      <td>0.000000</td>\n",
              "      <td>0.000000</td>\n",
              "      <td>0.000000</td>\n",
              "      <td>0.000000</td>\n",
              "      <td>2</td>\n",
              "      <td>2.5</td>\n",
              "      <td>0.0</td>\n",
              "      <td>0.5</td>\n",
              "      <td>0.00</td>\n",
              "      <td>0.00</td>\n",
              "      <td>0.3</td>\n",
              "      <td>3.30</td>\n",
              "    </tr>\n",
              "  </tbody>\n",
              "</table>\n",
              "<p>121 rows × 17 columns</p>\n",
              "</div>"
            ],
            "text/plain": [
              "       VendorID tpep_pickup_datetime  ... improvement_surcharge  total_amount\n",
              "912           1  2015-10-14 10:25:52  ...                   0.3          6.80\n",
              "1358          1  2015-10-14 10:27:19  ...                   0.3          6.62\n",
              "1684          1  2015-10-14 10:28:24  ...                   0.3          3.30\n",
              "1985          1  2015-10-14 10:29:27  ...                   0.3          8.84\n",
              "2434          1  2015-10-14 10:30:54  ...                   0.3          4.55\n",
              "...         ...                  ...  ...                   ...           ...\n",
              "95590         1  2015-10-01 09:19:49  ...                   0.3          5.80\n",
              "96738         2  2015-10-01 09:23:11  ...                   0.3          3.30\n",
              "97043         1  2015-10-01 09:24:01  ...                   0.3          3.80\n",
              "97280         1  2015-10-01 09:24:44  ...                   0.3          6.35\n",
              "97537         1  2015-10-01 09:25:33  ...                   0.3          3.30\n",
              "\n",
              "[121 rows x 17 columns]"
            ]
          },
          "metadata": {
            "tags": []
          },
          "execution_count": 51
        }
      ]
    },
    {
      "cell_type": "code",
      "metadata": {
        "id": "GA6Ob3TLF5l9",
        "colab_type": "code",
        "outputId": "53cff1f1-b3b3-4d7b-d83f-d1e4ff5c029a",
        "colab": {
          "base_uri": "https://localhost:8080/",
          "height": 170
        }
      },
      "source": [
        "df=df[df.trip_distance >= 0.1]\n",
        "df.trip_distance.describe()"
      ],
      "execution_count": 0,
      "outputs": [
        {
          "output_type": "execute_result",
          "data": {
            "text/plain": [
              "count    99021.000000\n",
              "mean         3.103100\n",
              "std          3.826064\n",
              "min          0.100000\n",
              "25%          1.030000\n",
              "50%          1.800000\n",
              "75%          3.420000\n",
              "max        225.800000\n",
              "Name: trip_distance, dtype: float64"
            ]
          },
          "metadata": {
            "tags": []
          },
          "execution_count": 52
        }
      ]
    },
    {
      "cell_type": "markdown",
      "metadata": {
        "id": "qF7epCxHKCLB",
        "colab_type": "text"
      },
      "source": [
        "**OBSERVATION:**\n",
        "Trip distance cannot be less than 0.1 miles ( 0.1 miles as considering a passenger might hops in to a taxi but hops off due to traffic). Thus removing all such rows "
      ]
    },
    {
      "cell_type": "markdown",
      "metadata": {
        "id": "lVjw7mPBKspP",
        "colab_type": "text"
      },
      "source": [
        "### **5.Checking if Payment type is invalid.**"
      ]
    },
    {
      "cell_type": "code",
      "metadata": {
        "id": "pc1zAD5KKYRy",
        "colab_type": "code",
        "outputId": "c9814164-7aa3-4d42-d8d3-ca6e69645237",
        "colab": {
          "base_uri": "https://localhost:8080/",
          "height": 170
        }
      },
      "source": [
        "df.payment_type.describe()"
      ],
      "execution_count": 0,
      "outputs": [
        {
          "output_type": "execute_result",
          "data": {
            "text/plain": [
              "count    99021.000000\n",
              "mean         1.328163\n",
              "std          0.481902\n",
              "min          1.000000\n",
              "25%          1.000000\n",
              "50%          1.000000\n",
              "75%          2.000000\n",
              "max          4.000000\n",
              "Name: payment_type, dtype: float64"
            ]
          },
          "metadata": {
            "tags": []
          },
          "execution_count": 53
        }
      ]
    },
    {
      "cell_type": "markdown",
      "metadata": {
        "id": "R8Z9sFBpKnTb",
        "colab_type": "text"
      },
      "source": [
        "**Description:**\n",
        "\n",
        "Payment types: \n",
        "\n",
        "A numeric code signifying how the passenger paid for the trip.\n",
        "\n",
        "1= Credit card\n",
        "\n",
        "2= Cash\n",
        "\n",
        "3= No charge\n",
        "\n",
        "4= Dispute"
      ]
    },
    {
      "cell_type": "code",
      "metadata": {
        "id": "iCeSqFa9QIwg",
        "colab_type": "code",
        "colab": {}
      },
      "source": [
        ""
      ],
      "execution_count": 0,
      "outputs": []
    },
    {
      "cell_type": "markdown",
      "metadata": {
        "id": "vam2_kyTLIpx",
        "colab_type": "text"
      },
      "source": [
        "### **6. Checking if Latitute and Longtitude fall within NYC** "
      ]
    },
    {
      "cell_type": "markdown",
      "metadata": {
        "id": "Lwhud3vDQFFX",
        "colab_type": "text"
      },
      "source": [
        "### **PICKUP:**\n",
        "\n"
      ]
    },
    {
      "cell_type": "code",
      "metadata": {
        "id": "7U5WFtGEL0kB",
        "colab_type": "code",
        "outputId": "2d90addb-9fa8-4d39-d18d-1d05afdaa752",
        "colab": {
          "base_uri": "https://localhost:8080/",
          "height": 439
        }
      },
      "source": [
        "#detecting the pickups latitude and longitudes which are outside NYC.\n",
        "out_nyc=df[((df.pickup_latitude <= 40.5774) | (df.pickup_longitude <= -74.15) | (df.pickup_latitude >= 40.9176) | (df.pickup_longitude >= -73.7004))]\n",
        "out_nyc"
      ],
      "execution_count": 0,
      "outputs": [
        {
          "output_type": "execute_result",
          "data": {
            "text/html": [
              "<div>\n",
              "<style scoped>\n",
              "    .dataframe tbody tr th:only-of-type {\n",
              "        vertical-align: middle;\n",
              "    }\n",
              "\n",
              "    .dataframe tbody tr th {\n",
              "        vertical-align: top;\n",
              "    }\n",
              "\n",
              "    .dataframe thead th {\n",
              "        text-align: right;\n",
              "    }\n",
              "</style>\n",
              "<table border=\"1\" class=\"dataframe\">\n",
              "  <thead>\n",
              "    <tr style=\"text-align: right;\">\n",
              "      <th></th>\n",
              "      <th>VendorID</th>\n",
              "      <th>tpep_pickup_datetime</th>\n",
              "      <th>tpep_dropoff_datetime</th>\n",
              "      <th>passenger_count</th>\n",
              "      <th>trip_distance</th>\n",
              "      <th>pickup_longitude</th>\n",
              "      <th>pickup_latitude</th>\n",
              "      <th>dropoff_longitude</th>\n",
              "      <th>dropoff_latitude</th>\n",
              "      <th>payment_type</th>\n",
              "      <th>fare_amount</th>\n",
              "      <th>extra</th>\n",
              "      <th>mta_tax</th>\n",
              "      <th>tip_amount</th>\n",
              "      <th>tolls_amount</th>\n",
              "      <th>improvement_surcharge</th>\n",
              "      <th>total_amount</th>\n",
              "    </tr>\n",
              "  </thead>\n",
              "  <tbody>\n",
              "    <tr>\n",
              "      <th>15</th>\n",
              "      <td>1</td>\n",
              "      <td>2015-10-01 00:00:03</td>\n",
              "      <td>2015-10-01 00:03:57</td>\n",
              "      <td>1</td>\n",
              "      <td>0.60</td>\n",
              "      <td>0.0</td>\n",
              "      <td>0.0</td>\n",
              "      <td>0.0</td>\n",
              "      <td>0.0</td>\n",
              "      <td>1</td>\n",
              "      <td>4.5</td>\n",
              "      <td>0.5</td>\n",
              "      <td>0.5</td>\n",
              "      <td>1.16</td>\n",
              "      <td>0.0</td>\n",
              "      <td>0.3</td>\n",
              "      <td>6.96</td>\n",
              "    </tr>\n",
              "    <tr>\n",
              "      <th>185</th>\n",
              "      <td>2</td>\n",
              "      <td>2015-10-14 10:23:18</td>\n",
              "      <td>2015-10-14 10:32:23</td>\n",
              "      <td>1</td>\n",
              "      <td>1.33</td>\n",
              "      <td>0.0</td>\n",
              "      <td>0.0</td>\n",
              "      <td>0.0</td>\n",
              "      <td>0.0</td>\n",
              "      <td>1</td>\n",
              "      <td>8.0</td>\n",
              "      <td>0.0</td>\n",
              "      <td>0.5</td>\n",
              "      <td>1.76</td>\n",
              "      <td>0.0</td>\n",
              "      <td>0.3</td>\n",
              "      <td>10.56</td>\n",
              "    </tr>\n",
              "    <tr>\n",
              "      <th>265</th>\n",
              "      <td>1</td>\n",
              "      <td>2015-10-14 10:23:36</td>\n",
              "      <td>2015-10-14 10:32:39</td>\n",
              "      <td>1</td>\n",
              "      <td>0.90</td>\n",
              "      <td>0.0</td>\n",
              "      <td>0.0</td>\n",
              "      <td>0.0</td>\n",
              "      <td>0.0</td>\n",
              "      <td>1</td>\n",
              "      <td>7.0</td>\n",
              "      <td>0.0</td>\n",
              "      <td>0.5</td>\n",
              "      <td>1.55</td>\n",
              "      <td>0.0</td>\n",
              "      <td>0.3</td>\n",
              "      <td>9.35</td>\n",
              "    </tr>\n",
              "    <tr>\n",
              "      <th>358</th>\n",
              "      <td>2</td>\n",
              "      <td>2015-10-14 10:23:56</td>\n",
              "      <td>2015-10-14 10:39:58</td>\n",
              "      <td>1</td>\n",
              "      <td>2.66</td>\n",
              "      <td>0.0</td>\n",
              "      <td>0.0</td>\n",
              "      <td>0.0</td>\n",
              "      <td>0.0</td>\n",
              "      <td>2</td>\n",
              "      <td>12.5</td>\n",
              "      <td>0.0</td>\n",
              "      <td>0.5</td>\n",
              "      <td>0.00</td>\n",
              "      <td>0.0</td>\n",
              "      <td>0.3</td>\n",
              "      <td>13.30</td>\n",
              "    </tr>\n",
              "    <tr>\n",
              "      <th>456</th>\n",
              "      <td>2</td>\n",
              "      <td>2015-10-14 10:24:18</td>\n",
              "      <td>2015-10-14 10:26:49</td>\n",
              "      <td>1</td>\n",
              "      <td>0.18</td>\n",
              "      <td>0.0</td>\n",
              "      <td>0.0</td>\n",
              "      <td>0.0</td>\n",
              "      <td>0.0</td>\n",
              "      <td>2</td>\n",
              "      <td>3.5</td>\n",
              "      <td>0.0</td>\n",
              "      <td>0.5</td>\n",
              "      <td>0.00</td>\n",
              "      <td>0.0</td>\n",
              "      <td>0.3</td>\n",
              "      <td>4.30</td>\n",
              "    </tr>\n",
              "    <tr>\n",
              "      <th>...</th>\n",
              "      <td>...</td>\n",
              "      <td>...</td>\n",
              "      <td>...</td>\n",
              "      <td>...</td>\n",
              "      <td>...</td>\n",
              "      <td>...</td>\n",
              "      <td>...</td>\n",
              "      <td>...</td>\n",
              "      <td>...</td>\n",
              "      <td>...</td>\n",
              "      <td>...</td>\n",
              "      <td>...</td>\n",
              "      <td>...</td>\n",
              "      <td>...</td>\n",
              "      <td>...</td>\n",
              "      <td>...</td>\n",
              "      <td>...</td>\n",
              "    </tr>\n",
              "    <tr>\n",
              "      <th>99707</th>\n",
              "      <td>1</td>\n",
              "      <td>2015-10-01 09:32:16</td>\n",
              "      <td>2015-10-01 09:43:02</td>\n",
              "      <td>1</td>\n",
              "      <td>2.00</td>\n",
              "      <td>0.0</td>\n",
              "      <td>0.0</td>\n",
              "      <td>0.0</td>\n",
              "      <td>0.0</td>\n",
              "      <td>1</td>\n",
              "      <td>9.5</td>\n",
              "      <td>0.0</td>\n",
              "      <td>0.5</td>\n",
              "      <td>2.05</td>\n",
              "      <td>0.0</td>\n",
              "      <td>0.3</td>\n",
              "      <td>12.35</td>\n",
              "    </tr>\n",
              "    <tr>\n",
              "      <th>99713</th>\n",
              "      <td>2</td>\n",
              "      <td>2015-10-01 09:32:16</td>\n",
              "      <td>2015-10-01 09:41:48</td>\n",
              "      <td>1</td>\n",
              "      <td>0.88</td>\n",
              "      <td>0.0</td>\n",
              "      <td>0.0</td>\n",
              "      <td>0.0</td>\n",
              "      <td>0.0</td>\n",
              "      <td>2</td>\n",
              "      <td>8.0</td>\n",
              "      <td>0.0</td>\n",
              "      <td>0.5</td>\n",
              "      <td>0.00</td>\n",
              "      <td>0.0</td>\n",
              "      <td>0.3</td>\n",
              "      <td>8.80</td>\n",
              "    </tr>\n",
              "    <tr>\n",
              "      <th>99715</th>\n",
              "      <td>2</td>\n",
              "      <td>2015-10-01 09:32:16</td>\n",
              "      <td>2015-10-01 09:47:31</td>\n",
              "      <td>1</td>\n",
              "      <td>1.60</td>\n",
              "      <td>0.0</td>\n",
              "      <td>0.0</td>\n",
              "      <td>0.0</td>\n",
              "      <td>0.0</td>\n",
              "      <td>1</td>\n",
              "      <td>11.0</td>\n",
              "      <td>0.0</td>\n",
              "      <td>0.5</td>\n",
              "      <td>2.95</td>\n",
              "      <td>0.0</td>\n",
              "      <td>0.3</td>\n",
              "      <td>14.75</td>\n",
              "    </tr>\n",
              "    <tr>\n",
              "      <th>99799</th>\n",
              "      <td>2</td>\n",
              "      <td>2015-10-01 09:32:29</td>\n",
              "      <td>2015-10-01 09:46:00</td>\n",
              "      <td>1</td>\n",
              "      <td>0.91</td>\n",
              "      <td>0.0</td>\n",
              "      <td>0.0</td>\n",
              "      <td>0.0</td>\n",
              "      <td>0.0</td>\n",
              "      <td>2</td>\n",
              "      <td>9.0</td>\n",
              "      <td>0.0</td>\n",
              "      <td>0.5</td>\n",
              "      <td>0.00</td>\n",
              "      <td>0.0</td>\n",
              "      <td>0.3</td>\n",
              "      <td>9.80</td>\n",
              "    </tr>\n",
              "    <tr>\n",
              "      <th>99875</th>\n",
              "      <td>1</td>\n",
              "      <td>2015-10-01 09:32:45</td>\n",
              "      <td>2015-10-01 09:35:52</td>\n",
              "      <td>1</td>\n",
              "      <td>0.50</td>\n",
              "      <td>0.0</td>\n",
              "      <td>0.0</td>\n",
              "      <td>0.0</td>\n",
              "      <td>0.0</td>\n",
              "      <td>1</td>\n",
              "      <td>4.0</td>\n",
              "      <td>0.0</td>\n",
              "      <td>0.5</td>\n",
              "      <td>1.40</td>\n",
              "      <td>0.0</td>\n",
              "      <td>0.3</td>\n",
              "      <td>6.20</td>\n",
              "    </tr>\n",
              "  </tbody>\n",
              "</table>\n",
              "<p>1177 rows × 17 columns</p>\n",
              "</div>"
            ],
            "text/plain": [
              "       VendorID tpep_pickup_datetime  ... improvement_surcharge  total_amount\n",
              "15            1  2015-10-01 00:00:03  ...                   0.3          6.96\n",
              "185           2  2015-10-14 10:23:18  ...                   0.3         10.56\n",
              "265           1  2015-10-14 10:23:36  ...                   0.3          9.35\n",
              "358           2  2015-10-14 10:23:56  ...                   0.3         13.30\n",
              "456           2  2015-10-14 10:24:18  ...                   0.3          4.30\n",
              "...         ...                  ...  ...                   ...           ...\n",
              "99707         1  2015-10-01 09:32:16  ...                   0.3         12.35\n",
              "99713         2  2015-10-01 09:32:16  ...                   0.3          8.80\n",
              "99715         2  2015-10-01 09:32:16  ...                   0.3         14.75\n",
              "99799         2  2015-10-01 09:32:29  ...                   0.3          9.80\n",
              "99875         1  2015-10-01 09:32:45  ...                   0.3          6.20\n",
              "\n",
              "[1177 rows x 17 columns]"
            ]
          },
          "metadata": {
            "tags": []
          },
          "execution_count": 54
        }
      ]
    },
    {
      "cell_type": "markdown",
      "metadata": {
        "id": "YjAQEigy0ILx",
        "colab_type": "text"
      },
      "source": [
        "#### **The Pickup Map - Before Cleaning:**"
      ]
    },
    {
      "cell_type": "code",
      "metadata": {
        "id": "lmmj2wrnMImM",
        "colab_type": "code",
        "outputId": "9963fbd9-a8f6-4783-8257-a80e5ce51f5e",
        "colab": {
          "base_uri": "https://localhost:8080/",
          "height": 808
        }
      },
      "source": [
        "m = folium.Map(location = [40.5774, -73.7004], tiles = \"Stamen Toner\")\n",
        "\n",
        "outside_pickups = out_nyc.head(25000)\n",
        "\n",
        "for i,j in outside_pickups.iterrows():\n",
        "    if j[\"pickup_latitude\"] != 0:\n",
        "        folium.Marker([j[\"pickup_latitude\"], j[\"pickup_longitude\"]]).add_to(m)\n",
        "m"
      ],
      "execution_count": 0,
      "outputs": [
        {
          "output_type": "execute_result",
          "data": {
            "text/html": [
              "<div style=\"width:100%;\"><div style=\"position:relative;width:100%;height:0;padding-bottom:60%;\"><iframe src=\"about:blank\" style=\"position:absolute;width:100%;height:100%;left:0;top:0;border:none !important;\" data-html=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 onload=\"this.contentDocument.open();this.contentDocument.write(atob(this.getAttribute('data-html')));this.contentDocument.close();\" allowfullscreen webkitallowfullscreen mozallowfullscreen></iframe></div></div>"
            ],
            "text/plain": [
              "<folium.folium.Map at 0x7eff2236e0f0>"
            ]
          },
          "metadata": {
            "tags": []
          },
          "execution_count": 55
        }
      ]
    },
    {
      "cell_type": "markdown",
      "metadata": {
        "id": "HNVDohzT0rC6",
        "colab_type": "text"
      },
      "source": [
        "### **The Pickup Map - After Cleaning:**"
      ]
    },
    {
      "cell_type": "code",
      "metadata": {
        "id": "L3BmMjjfQh4j",
        "colab_type": "code",
        "colab": {}
      },
      "source": [
        "df = df[(((df.pickup_latitude >= 40.5774) & (df.pickup_latitude <= 40.9176)) & ((df.pickup_longitude >= -74.15) & (df.pickup_longitude <= -73.7004)))]\n",
        "\n",
        "\n"
      ],
      "execution_count": 0,
      "outputs": []
    },
    {
      "cell_type": "code",
      "metadata": {
        "id": "YvKPlDr9RWYo",
        "colab_type": "code",
        "outputId": "a7c55377-7559-4290-fafa-f342a86cc63b",
        "colab": {
          "base_uri": "https://localhost:8080/",
          "height": 808
        }
      },
      "source": [
        "\n",
        "m = folium.Map(location = [40.9176, -73.7004], tiles = \"Stamen Toner\")\n",
        "\n",
        "pickups_within_NYC = df.sample(n = 500)\n",
        "\n",
        "for i,j in pickups_within_NYC.iterrows():\n",
        "    folium.Marker([j[\"pickup_latitude\"], j[\"pickup_longitude\"]]).add_to(m)\n",
        "m"
      ],
      "execution_count": 0,
      "outputs": [
        {
          "output_type": "execute_result",
          "data": {
            "text/html": [
              "<div style=\"width:100%;\"><div style=\"position:relative;width:100%;height:0;padding-bottom:60%;\"><iframe src=\"about:blank\" style=\"position:absolute;width:100%;height:100%;left:0;top:0;border:none !important;\" data-html=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 onload=\"this.contentDocument.open();this.contentDocument.write(atob(this.getAttribute('data-html')));this.contentDocument.close();\" allowfullscreen webkitallowfullscreen mozallowfullscreen></iframe></div></div>"
            ],
            "text/plain": [
              "<folium.folium.Map at 0x7eff223657b8>"
            ]
          },
          "metadata": {
            "tags": []
          },
          "execution_count": 57
        }
      ]
    },
    {
      "cell_type": "markdown",
      "metadata": {
        "id": "byUHtwLZ1Vgo",
        "colab_type": "text"
      },
      "source": [
        "**OBSERVATION:** \n",
        "\n",
        "Now we can see that all the  pick ups are concentrated in and around NYC."
      ]
    },
    {
      "cell_type": "markdown",
      "metadata": {
        "id": "YFoL1aAqQLDL",
        "colab_type": "text"
      },
      "source": [
        "### **DROPOFF:**"
      ]
    },
    {
      "cell_type": "code",
      "metadata": {
        "id": "WD28Z38GQO1M",
        "colab_type": "code",
        "outputId": "73336d59-46a0-4f2a-dd3e-0703549b8e25",
        "colab": {
          "base_uri": "https://localhost:8080/",
          "height": 439
        }
      },
      "source": [
        "out_nyc = df[((df.dropoff_latitude <= 40.5774) | (df.dropoff_longitude <= -74.15) | (df.dropoff_latitude >= 40.9176) | (df.dropoff_longitude >= -73.7004))]\n",
        "out_nyc\n",
        "\n"
      ],
      "execution_count": 0,
      "outputs": [
        {
          "output_type": "execute_result",
          "data": {
            "text/html": [
              "<div>\n",
              "<style scoped>\n",
              "    .dataframe tbody tr th:only-of-type {\n",
              "        vertical-align: middle;\n",
              "    }\n",
              "\n",
              "    .dataframe tbody tr th {\n",
              "        vertical-align: top;\n",
              "    }\n",
              "\n",
              "    .dataframe thead th {\n",
              "        text-align: right;\n",
              "    }\n",
              "</style>\n",
              "<table border=\"1\" class=\"dataframe\">\n",
              "  <thead>\n",
              "    <tr style=\"text-align: right;\">\n",
              "      <th></th>\n",
              "      <th>VendorID</th>\n",
              "      <th>tpep_pickup_datetime</th>\n",
              "      <th>tpep_dropoff_datetime</th>\n",
              "      <th>passenger_count</th>\n",
              "      <th>trip_distance</th>\n",
              "      <th>pickup_longitude</th>\n",
              "      <th>pickup_latitude</th>\n",
              "      <th>dropoff_longitude</th>\n",
              "      <th>dropoff_latitude</th>\n",
              "      <th>payment_type</th>\n",
              "      <th>fare_amount</th>\n",
              "      <th>extra</th>\n",
              "      <th>mta_tax</th>\n",
              "      <th>tip_amount</th>\n",
              "      <th>tolls_amount</th>\n",
              "      <th>improvement_surcharge</th>\n",
              "      <th>total_amount</th>\n",
              "    </tr>\n",
              "  </thead>\n",
              "  <tbody>\n",
              "    <tr>\n",
              "      <th>472</th>\n",
              "      <td>1</td>\n",
              "      <td>2015-10-14 10:24:23</td>\n",
              "      <td>2015-10-14 10:55:25</td>\n",
              "      <td>2</td>\n",
              "      <td>17.00</td>\n",
              "      <td>-73.980553</td>\n",
              "      <td>40.765854</td>\n",
              "      <td>-74.182304</td>\n",
              "      <td>40.687759</td>\n",
              "      <td>1</td>\n",
              "      <td>65.5</td>\n",
              "      <td>0.0</td>\n",
              "      <td>0.0</td>\n",
              "      <td>16.00</td>\n",
              "      <td>14.25</td>\n",
              "      <td>0.3</td>\n",
              "      <td>96.05</td>\n",
              "    </tr>\n",
              "    <tr>\n",
              "      <th>524</th>\n",
              "      <td>2</td>\n",
              "      <td>2015-10-14 10:24:33</td>\n",
              "      <td>2015-10-14 11:05:26</td>\n",
              "      <td>2</td>\n",
              "      <td>18.10</td>\n",
              "      <td>-73.989029</td>\n",
              "      <td>40.736687</td>\n",
              "      <td>-74.183281</td>\n",
              "      <td>40.688072</td>\n",
              "      <td>1</td>\n",
              "      <td>72.5</td>\n",
              "      <td>0.0</td>\n",
              "      <td>0.0</td>\n",
              "      <td>17.53</td>\n",
              "      <td>14.85</td>\n",
              "      <td>0.3</td>\n",
              "      <td>105.18</td>\n",
              "    </tr>\n",
              "    <tr>\n",
              "      <th>628</th>\n",
              "      <td>2</td>\n",
              "      <td>2015-10-14 10:24:55</td>\n",
              "      <td>2015-10-14 11:05:54</td>\n",
              "      <td>1</td>\n",
              "      <td>25.30</td>\n",
              "      <td>-73.875664</td>\n",
              "      <td>40.773701</td>\n",
              "      <td>-73.767532</td>\n",
              "      <td>41.032471</td>\n",
              "      <td>1</td>\n",
              "      <td>98.5</td>\n",
              "      <td>0.0</td>\n",
              "      <td>0.5</td>\n",
              "      <td>10.00</td>\n",
              "      <td>5.54</td>\n",
              "      <td>0.3</td>\n",
              "      <td>114.84</td>\n",
              "    </tr>\n",
              "    <tr>\n",
              "      <th>1316</th>\n",
              "      <td>2</td>\n",
              "      <td>2015-10-14 10:27:11</td>\n",
              "      <td>2015-10-14 11:02:21</td>\n",
              "      <td>3</td>\n",
              "      <td>16.59</td>\n",
              "      <td>-73.984032</td>\n",
              "      <td>40.757648</td>\n",
              "      <td>-74.183510</td>\n",
              "      <td>40.688187</td>\n",
              "      <td>1</td>\n",
              "      <td>66.5</td>\n",
              "      <td>0.0</td>\n",
              "      <td>0.0</td>\n",
              "      <td>16.82</td>\n",
              "      <td>17.29</td>\n",
              "      <td>0.3</td>\n",
              "      <td>100.91</td>\n",
              "    </tr>\n",
              "    <tr>\n",
              "      <th>1825</th>\n",
              "      <td>1</td>\n",
              "      <td>2015-10-14 10:28:54</td>\n",
              "      <td>2015-10-14 10:58:57</td>\n",
              "      <td>1</td>\n",
              "      <td>8.70</td>\n",
              "      <td>-73.963593</td>\n",
              "      <td>40.774342</td>\n",
              "      <td>0.000000</td>\n",
              "      <td>0.000000</td>\n",
              "      <td>1</td>\n",
              "      <td>31.0</td>\n",
              "      <td>0.0</td>\n",
              "      <td>0.5</td>\n",
              "      <td>3.00</td>\n",
              "      <td>0.00</td>\n",
              "      <td>0.3</td>\n",
              "      <td>34.80</td>\n",
              "    </tr>\n",
              "    <tr>\n",
              "      <th>...</th>\n",
              "      <td>...</td>\n",
              "      <td>...</td>\n",
              "      <td>...</td>\n",
              "      <td>...</td>\n",
              "      <td>...</td>\n",
              "      <td>...</td>\n",
              "      <td>...</td>\n",
              "      <td>...</td>\n",
              "      <td>...</td>\n",
              "      <td>...</td>\n",
              "      <td>...</td>\n",
              "      <td>...</td>\n",
              "      <td>...</td>\n",
              "      <td>...</td>\n",
              "      <td>...</td>\n",
              "      <td>...</td>\n",
              "      <td>...</td>\n",
              "    </tr>\n",
              "    <tr>\n",
              "      <th>97324</th>\n",
              "      <td>2</td>\n",
              "      <td>2015-10-01 09:24:52</td>\n",
              "      <td>2015-10-01 09:49:36</td>\n",
              "      <td>6</td>\n",
              "      <td>14.92</td>\n",
              "      <td>-74.005737</td>\n",
              "      <td>40.725399</td>\n",
              "      <td>-74.177017</td>\n",
              "      <td>40.691490</td>\n",
              "      <td>2</td>\n",
              "      <td>58.0</td>\n",
              "      <td>0.0</td>\n",
              "      <td>0.0</td>\n",
              "      <td>0.00</td>\n",
              "      <td>14.00</td>\n",
              "      <td>0.3</td>\n",
              "      <td>72.30</td>\n",
              "    </tr>\n",
              "    <tr>\n",
              "      <th>98586</th>\n",
              "      <td>2</td>\n",
              "      <td>2015-10-01 09:28:47</td>\n",
              "      <td>2015-10-01 10:04:02</td>\n",
              "      <td>1</td>\n",
              "      <td>16.28</td>\n",
              "      <td>-73.988815</td>\n",
              "      <td>40.744560</td>\n",
              "      <td>-74.177689</td>\n",
              "      <td>40.690327</td>\n",
              "      <td>2</td>\n",
              "      <td>65.0</td>\n",
              "      <td>0.0</td>\n",
              "      <td>0.0</td>\n",
              "      <td>0.00</td>\n",
              "      <td>19.00</td>\n",
              "      <td>0.3</td>\n",
              "      <td>84.30</td>\n",
              "    </tr>\n",
              "    <tr>\n",
              "      <th>98814</th>\n",
              "      <td>1</td>\n",
              "      <td>2015-10-01 09:29:30</td>\n",
              "      <td>2015-10-01 09:50:56</td>\n",
              "      <td>1</td>\n",
              "      <td>1.40</td>\n",
              "      <td>-73.986900</td>\n",
              "      <td>40.736492</td>\n",
              "      <td>0.000000</td>\n",
              "      <td>0.000000</td>\n",
              "      <td>1</td>\n",
              "      <td>13.5</td>\n",
              "      <td>0.0</td>\n",
              "      <td>0.5</td>\n",
              "      <td>2.85</td>\n",
              "      <td>0.00</td>\n",
              "      <td>0.3</td>\n",
              "      <td>17.15</td>\n",
              "    </tr>\n",
              "    <tr>\n",
              "      <th>99692</th>\n",
              "      <td>1</td>\n",
              "      <td>2015-10-01 09:32:13</td>\n",
              "      <td>2015-10-01 10:20:32</td>\n",
              "      <td>1</td>\n",
              "      <td>3.60</td>\n",
              "      <td>-73.969872</td>\n",
              "      <td>40.799454</td>\n",
              "      <td>0.000000</td>\n",
              "      <td>0.000000</td>\n",
              "      <td>1</td>\n",
              "      <td>28.0</td>\n",
              "      <td>0.0</td>\n",
              "      <td>0.5</td>\n",
              "      <td>10.00</td>\n",
              "      <td>0.00</td>\n",
              "      <td>0.3</td>\n",
              "      <td>38.80</td>\n",
              "    </tr>\n",
              "    <tr>\n",
              "      <th>99811</th>\n",
              "      <td>2</td>\n",
              "      <td>2015-10-01 09:32:31</td>\n",
              "      <td>2015-10-01 10:09:55</td>\n",
              "      <td>1</td>\n",
              "      <td>22.88</td>\n",
              "      <td>-73.977470</td>\n",
              "      <td>40.671810</td>\n",
              "      <td>-74.177193</td>\n",
              "      <td>40.694828</td>\n",
              "      <td>1</td>\n",
              "      <td>79.0</td>\n",
              "      <td>0.0</td>\n",
              "      <td>0.0</td>\n",
              "      <td>15.00</td>\n",
              "      <td>22.83</td>\n",
              "      <td>0.3</td>\n",
              "      <td>117.13</td>\n",
              "    </tr>\n",
              "  </tbody>\n",
              "</table>\n",
              "<p>363 rows × 17 columns</p>\n",
              "</div>"
            ],
            "text/plain": [
              "       VendorID tpep_pickup_datetime  ... improvement_surcharge  total_amount\n",
              "472           1  2015-10-14 10:24:23  ...                   0.3         96.05\n",
              "524           2  2015-10-14 10:24:33  ...                   0.3        105.18\n",
              "628           2  2015-10-14 10:24:55  ...                   0.3        114.84\n",
              "1316          2  2015-10-14 10:27:11  ...                   0.3        100.91\n",
              "1825          1  2015-10-14 10:28:54  ...                   0.3         34.80\n",
              "...         ...                  ...  ...                   ...           ...\n",
              "97324         2  2015-10-01 09:24:52  ...                   0.3         72.30\n",
              "98586         2  2015-10-01 09:28:47  ...                   0.3         84.30\n",
              "98814         1  2015-10-01 09:29:30  ...                   0.3         17.15\n",
              "99692         1  2015-10-01 09:32:13  ...                   0.3         38.80\n",
              "99811         2  2015-10-01 09:32:31  ...                   0.3        117.13\n",
              "\n",
              "[363 rows x 17 columns]"
            ]
          },
          "metadata": {
            "tags": []
          },
          "execution_count": 58
        }
      ]
    },
    {
      "cell_type": "markdown",
      "metadata": {
        "id": "nnHwfYWY0WzA",
        "colab_type": "text"
      },
      "source": [
        "#### **The Dropoff Map - Before cleaning:**"
      ]
    },
    {
      "cell_type": "code",
      "metadata": {
        "id": "2zehAiSxQbHV",
        "colab_type": "code",
        "outputId": "10aa9576-8256-412e-8f63-54f27b1dd113",
        "colab": {
          "base_uri": "https://localhost:8080/",
          "height": 808
        }
      },
      "source": [
        "m = folium.Map(location = [40.5774, -73.7004], tiles = \"Stamen Toner\")\n",
        "\n",
        "outside_dropoff = out_nyc.head(25000)\n",
        "\n",
        "for i,j in outside_dropoff.iterrows():\n",
        "    if j[\"dropoff_latitude\"] != 0:\n",
        "        folium.Marker([j[\"dropoff_latitude\"], j[\"dropoff_longitude\"]]).add_to(m)\n",
        "m"
      ],
      "execution_count": 0,
      "outputs": [
        {
          "output_type": "execute_result",
          "data": {
            "text/html": [
              "<div style=\"width:100%;\"><div style=\"position:relative;width:100%;height:0;padding-bottom:60%;\"><iframe src=\"about:blank\" style=\"position:absolute;width:100%;height:100%;left:0;top:0;border:none !important;\" data-html=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 onload=\"this.contentDocument.open();this.contentDocument.write(atob(this.getAttribute('data-html')));this.contentDocument.close();\" allowfullscreen webkitallowfullscreen mozallowfullscreen></iframe></div></div>"
            ],
            "text/plain": [
              "<folium.folium.Map at 0x7eff22168e48>"
            ]
          },
          "metadata": {
            "tags": []
          },
          "execution_count": 59
        }
      ]
    },
    {
      "cell_type": "markdown",
      "metadata": {
        "id": "AVZk_fHeNP0U",
        "colab_type": "text"
      },
      "source": [
        "**OBSERVATION:**\n",
        "\n",
        "As you can see in the above map, there are many erroneous data points. Some of which are in other state or outside of NYC.  All these erroneous data points are removed. "
      ]
    },
    {
      "cell_type": "code",
      "metadata": {
        "id": "53rmygiPRaTI",
        "colab_type": "code",
        "colab": {}
      },
      "source": [
        "df = df[(((df.dropoff_latitude >= 40.5774) & (df.dropoff_latitude <= 40.9176)) & ((df.dropoff_longitude >= -74.15) & (df.dropoff_longitude <= -73.7004)))]\n"
      ],
      "execution_count": 0,
      "outputs": []
    },
    {
      "cell_type": "markdown",
      "metadata": {
        "id": "Ab3-eR1_0xnm",
        "colab_type": "text"
      },
      "source": [
        "### **The Dropoff Map - After Cleaning:**"
      ]
    },
    {
      "cell_type": "code",
      "metadata": {
        "id": "IPm2Te18RrYs",
        "colab_type": "code",
        "outputId": "f6db2d89-59d0-4b4a-f460-2ff3fa6e5af8",
        "colab": {
          "base_uri": "https://localhost:8080/",
          "height": 808
        }
      },
      "source": [
        "\n",
        "m = folium.Map(location = [40.9176, -73.7004], tiles = \"Stamen Toner\")\n",
        "\n",
        "dropoff_within_NYC = df.sample(n = 500)\n",
        "\n",
        "for i,j in dropoff_within_NYC.iterrows():\n",
        "    folium.Marker([j[\"dropoff_latitude\"], j[\"dropoff_longitude\"]]).add_to(m)\n",
        "m"
      ],
      "execution_count": 0,
      "outputs": [
        {
          "output_type": "execute_result",
          "data": {
            "text/html": [
              "<div style=\"width:100%;\"><div style=\"position:relative;width:100%;height:0;padding-bottom:60%;\"><iframe src=\"about:blank\" style=\"position:absolute;width:100%;height:100%;left:0;top:0;border:none !important;\" data-html=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 onload=\"this.contentDocument.open();this.contentDocument.write(atob(this.getAttribute('data-html')));this.contentDocument.close();\" allowfullscreen webkitallowfullscreen mozallowfullscreen></iframe></div></div>"
            ],
            "text/plain": [
              "<folium.folium.Map at 0x7eff22168fd0>"
            ]
          },
          "metadata": {
            "tags": []
          },
          "execution_count": 61
        }
      ]
    },
    {
      "cell_type": "markdown",
      "metadata": {
        "id": "retPBFKBR0_1",
        "colab_type": "text"
      },
      "source": [
        "**OBSERVATION:** \n",
        "\n",
        "Now we can see that all the drop offs are concentrated in and around NYC."
      ]
    },
    {
      "cell_type": "markdown",
      "metadata": {
        "id": "xMjUhTfkXPCf",
        "colab_type": "text"
      },
      "source": [
        "## **Trip Duration**\n",
        "\n",
        "Trip Duration = Drop-off time — pickup time"
      ]
    },
    {
      "cell_type": "code",
      "metadata": {
        "id": "3WuN1-VcX3z5",
        "colab_type": "code",
        "outputId": "16d35679-13f0-4bd6-9e64-1fc11760f62e",
        "colab": {
          "base_uri": "https://localhost:8080/",
          "height": 224
        }
      },
      "source": [
        "df.head()"
      ],
      "execution_count": 0,
      "outputs": [
        {
          "output_type": "execute_result",
          "data": {
            "text/html": [
              "<div>\n",
              "<style scoped>\n",
              "    .dataframe tbody tr th:only-of-type {\n",
              "        vertical-align: middle;\n",
              "    }\n",
              "\n",
              "    .dataframe tbody tr th {\n",
              "        vertical-align: top;\n",
              "    }\n",
              "\n",
              "    .dataframe thead th {\n",
              "        text-align: right;\n",
              "    }\n",
              "</style>\n",
              "<table border=\"1\" class=\"dataframe\">\n",
              "  <thead>\n",
              "    <tr style=\"text-align: right;\">\n",
              "      <th></th>\n",
              "      <th>VendorID</th>\n",
              "      <th>tpep_pickup_datetime</th>\n",
              "      <th>tpep_dropoff_datetime</th>\n",
              "      <th>passenger_count</th>\n",
              "      <th>trip_distance</th>\n",
              "      <th>pickup_longitude</th>\n",
              "      <th>pickup_latitude</th>\n",
              "      <th>dropoff_longitude</th>\n",
              "      <th>dropoff_latitude</th>\n",
              "      <th>payment_type</th>\n",
              "      <th>fare_amount</th>\n",
              "      <th>extra</th>\n",
              "      <th>mta_tax</th>\n",
              "      <th>tip_amount</th>\n",
              "      <th>tolls_amount</th>\n",
              "      <th>improvement_surcharge</th>\n",
              "      <th>total_amount</th>\n",
              "    </tr>\n",
              "  </thead>\n",
              "  <tbody>\n",
              "    <tr>\n",
              "      <th>0</th>\n",
              "      <td>1</td>\n",
              "      <td>2015-10-01 00:00:00</td>\n",
              "      <td>2015-10-01 00:05:48</td>\n",
              "      <td>1</td>\n",
              "      <td>1.10</td>\n",
              "      <td>-73.935516</td>\n",
              "      <td>40.761238</td>\n",
              "      <td>-73.944351</td>\n",
              "      <td>40.754578</td>\n",
              "      <td>2</td>\n",
              "      <td>6.0</td>\n",
              "      <td>0.5</td>\n",
              "      <td>0.5</td>\n",
              "      <td>0.0</td>\n",
              "      <td>0.0</td>\n",
              "      <td>0.3</td>\n",
              "      <td>7.3</td>\n",
              "    </tr>\n",
              "    <tr>\n",
              "      <th>4</th>\n",
              "      <td>1</td>\n",
              "      <td>2015-10-01 00:00:01</td>\n",
              "      <td>2015-10-01 00:16:19</td>\n",
              "      <td>1</td>\n",
              "      <td>3.80</td>\n",
              "      <td>-73.984016</td>\n",
              "      <td>40.755222</td>\n",
              "      <td>-73.959869</td>\n",
              "      <td>40.801323</td>\n",
              "      <td>1</td>\n",
              "      <td>15.5</td>\n",
              "      <td>0.5</td>\n",
              "      <td>0.5</td>\n",
              "      <td>3.0</td>\n",
              "      <td>0.0</td>\n",
              "      <td>0.3</td>\n",
              "      <td>19.8</td>\n",
              "    </tr>\n",
              "    <tr>\n",
              "      <th>5</th>\n",
              "      <td>1</td>\n",
              "      <td>2015-10-01 00:00:01</td>\n",
              "      <td>2015-10-01 00:13:41</td>\n",
              "      <td>1</td>\n",
              "      <td>3.10</td>\n",
              "      <td>-73.975296</td>\n",
              "      <td>40.751396</td>\n",
              "      <td>-73.970924</td>\n",
              "      <td>40.785984</td>\n",
              "      <td>1</td>\n",
              "      <td>12.5</td>\n",
              "      <td>0.5</td>\n",
              "      <td>0.5</td>\n",
              "      <td>1.0</td>\n",
              "      <td>0.0</td>\n",
              "      <td>0.3</td>\n",
              "      <td>14.8</td>\n",
              "    </tr>\n",
              "    <tr>\n",
              "      <th>6</th>\n",
              "      <td>1</td>\n",
              "      <td>2015-10-01 00:00:01</td>\n",
              "      <td>2015-10-01 00:21:23</td>\n",
              "      <td>1</td>\n",
              "      <td>4.50</td>\n",
              "      <td>-73.997078</td>\n",
              "      <td>40.722290</td>\n",
              "      <td>-73.960472</td>\n",
              "      <td>40.761517</td>\n",
              "      <td>2</td>\n",
              "      <td>16.5</td>\n",
              "      <td>0.5</td>\n",
              "      <td>0.5</td>\n",
              "      <td>0.0</td>\n",
              "      <td>0.0</td>\n",
              "      <td>0.3</td>\n",
              "      <td>17.8</td>\n",
              "    </tr>\n",
              "    <tr>\n",
              "      <th>7</th>\n",
              "      <td>2</td>\n",
              "      <td>2015-10-01 00:00:01</td>\n",
              "      <td>2015-10-01 00:05:50</td>\n",
              "      <td>1</td>\n",
              "      <td>0.84</td>\n",
              "      <td>-73.998711</td>\n",
              "      <td>40.734756</td>\n",
              "      <td>-74.003082</td>\n",
              "      <td>40.742546</td>\n",
              "      <td>1</td>\n",
              "      <td>6.0</td>\n",
              "      <td>0.5</td>\n",
              "      <td>0.5</td>\n",
              "      <td>0.7</td>\n",
              "      <td>0.0</td>\n",
              "      <td>0.3</td>\n",
              "      <td>8.0</td>\n",
              "    </tr>\n",
              "  </tbody>\n",
              "</table>\n",
              "</div>"
            ],
            "text/plain": [
              "   VendorID tpep_pickup_datetime  ... improvement_surcharge  total_amount\n",
              "0         1  2015-10-01 00:00:00  ...                   0.3           7.3\n",
              "4         1  2015-10-01 00:00:01  ...                   0.3          19.8\n",
              "5         1  2015-10-01 00:00:01  ...                   0.3          14.8\n",
              "6         1  2015-10-01 00:00:01  ...                   0.3          17.8\n",
              "7         2  2015-10-01 00:00:01  ...                   0.3           8.0\n",
              "\n",
              "[5 rows x 17 columns]"
            ]
          },
          "metadata": {
            "tags": []
          },
          "execution_count": 62
        }
      ]
    },
    {
      "cell_type": "code",
      "metadata": {
        "id": "TIhEVAazepWS",
        "colab_type": "code",
        "colab": {}
      },
      "source": [
        "df['tpep_pickup_datetime'] = df['tpep_pickup_datetime'].astype(str)\n",
        "df['tpep_dropoff_datetime'] = df['tpep_dropoff_datetime'].astype(str)"
      ],
      "execution_count": 0,
      "outputs": []
    },
    {
      "cell_type": "code",
      "metadata": {
        "id": "9ppFfg7gfAz2",
        "colab_type": "code",
        "outputId": "b478cc9e-5e85-469b-df9f-17fe1124ec7f",
        "colab": {
          "base_uri": "https://localhost:8080/",
          "height": 323
        }
      },
      "source": [
        "df.dtypes"
      ],
      "execution_count": 0,
      "outputs": [
        {
          "output_type": "execute_result",
          "data": {
            "text/plain": [
              "VendorID                   int64\n",
              "tpep_pickup_datetime      object\n",
              "tpep_dropoff_datetime     object\n",
              "passenger_count            int64\n",
              "trip_distance            float64\n",
              "pickup_longitude         float64\n",
              "pickup_latitude          float64\n",
              "dropoff_longitude        float64\n",
              "dropoff_latitude         float64\n",
              "payment_type               int64\n",
              "fare_amount              float64\n",
              "extra                    float64\n",
              "mta_tax                  float64\n",
              "tip_amount               float64\n",
              "tolls_amount             float64\n",
              "improvement_surcharge    float64\n",
              "total_amount             float64\n",
              "dtype: object"
            ]
          },
          "metadata": {
            "tags": []
          },
          "execution_count": 64
        }
      ]
    },
    {
      "cell_type": "markdown",
      "metadata": {
        "id": "so4usnfDXwQ2",
        "colab_type": "text"
      },
      "source": [
        "The time format is in datetime format. Converting it to a structured unix time"
      ]
    },
    {
      "cell_type": "code",
      "metadata": {
        "id": "WR-OLtU4XjRm",
        "colab_type": "code",
        "colab": {}
      },
      "source": [
        "def convert_to_unix(s):\n",
        "    return time.mktime(datetime.datetime.strptime(s, \"%Y-%m-%d %H:%M:%S\").timetuple())"
      ],
      "execution_count": 0,
      "outputs": []
    },
    {
      "cell_type": "markdown",
      "metadata": {
        "id": "Tc4s5udJalVo",
        "colab_type": "text"
      },
      "source": [
        "Unix time is a system for describing a point in time. It is the number of seconds that have elapsed since the Unix epoch, that is the time 00:00:00 UTC on 1 January 1970.\n",
        "We have made this project in New York(EDT) which is 4 hours behing GMT Time. Thus the function returns unix time stam from the reference of local time, and so have subtracted 14400 seconds inorder to make it equal to GMT."
      ]
    },
    {
      "cell_type": "code",
      "metadata": {
        "id": "-syPFlIhY_KR",
        "colab_type": "code",
        "colab": {}
      },
      "source": [
        "from tqdm import tqdm\n",
        "def return_with_trip_times(month):\n",
        "    duration = month[['tpep_pickup_datetime','tpep_dropoff_datetime']]\n",
        "    #pickups and dropoffs to unix time\n",
        "    duration_pickup = [convert_to_unix(x) for x in tqdm(duration['tpep_pickup_datetime'].values)]\n",
        "    duration_drop = [convert_to_unix(x) for x in tqdm(duration['tpep_dropoff_datetime'].values)]\n",
        "    #calculate duration of trips\n",
        "    durations = (np.array(duration_drop) - np.array(duration_pickup))/float(60)\n",
        "\n",
        "    #append durations of trips and speed in miles/hr to a new dataframe\n",
        "    new_frame = month[['passenger_count','trip_distance','pickup_longitude','pickup_latitude','dropoff_longitude','dropoff_latitude','total_amount']]\n",
        "    \n",
        "    new_frame['trip_duration'] = durations\n",
        "    new_frame['pickup_times'] = duration_pickup\n",
        "    new_frame['speed'] = 60*(new_frame['trip_distance']/new_frame['trip_duration']) \n",
        "    \n",
        "    return new_frame\n"
      ],
      "execution_count": 0,
      "outputs": []
    },
    {
      "cell_type": "code",
      "metadata": {
        "id": "X9Xnu-lDcGyJ",
        "colab_type": "code",
        "outputId": "7f49d206-d202-4d0c-be0f-807022d0ed89",
        "colab": {
          "base_uri": "https://localhost:8080/",
          "height": 51
        }
      },
      "source": [
        "new_df = return_with_trip_times(df)"
      ],
      "execution_count": 0,
      "outputs": [
        {
          "output_type": "stream",
          "text": [
            "100%|██████████| 97481/97481 [00:01<00:00, 59403.64it/s]\n",
            "100%|██████████| 97481/97481 [00:01<00:00, 58964.85it/s]\n"
          ],
          "name": "stderr"
        }
      ]
    },
    {
      "cell_type": "markdown",
      "metadata": {
        "id": "osqE_9GNjdMl",
        "colab_type": "text"
      },
      "source": [
        "According to NYC Taxi and Limousine Commission regulations, the maximum allowed trip duration in a 24hrs interval is 12 hrs "
      ]
    },
    {
      "cell_type": "code",
      "metadata": {
        "id": "_XVBdPE7hfS8",
        "colab_type": "code",
        "outputId": "226fbc36-e86b-414b-d0ff-d92454393117",
        "colab": {
          "base_uri": "https://localhost:8080/",
          "height": 252
        }
      },
      "source": [
        "sns.boxplot(y=\"trip_duration\", data =new_df)\n",
        "plt.show()"
      ],
      "execution_count": 0,
      "outputs": [
        {
          "output_type": "display_data",
          "data": {
            "image/png": "[encoded data removed]",
            "text/plain": [
              "<Figure size 432x288 with 1 Axes>"
            ]
          },
          "metadata": {
            "tags": [],
            "needs_background": "light"
          }
        }
      ]
    },
    {
      "cell_type": "markdown",
      "metadata": {
        "id": "Eum2ElGodJ6Z",
        "colab_type": "text"
      },
      "source": [
        "From the plot we can see there are are outliers as the plot is skewed. Let us calculate the percentile values ( 0 to 100) to identify those outliers and remvoe them\n"
      ]
    },
    {
      "cell_type": "code",
      "metadata": {
        "id": "73iCu2LQhz34",
        "colab_type": "code",
        "colab": {}
      },
      "source": [
        "percentile_tripDuration = new_df.trip_duration.quantile(np.round(np.arange(0.00, 1.01, 0.01), 2))\n"
      ],
      "execution_count": 0,
      "outputs": []
    },
    {
      "cell_type": "code",
      "metadata": {
        "id": "6HZ-e_R3d0II",
        "colab_type": "code",
        "outputId": "bd384e64-327d-4355-beec-51be98eb92cb",
        "colab": {
          "base_uri": "https://localhost:8080/",
          "height": 204
        }
      },
      "source": [
        "qValues = np.round(np.arange(0.00, 1.01, 0.1), 2)\n",
        "for i in qValues:\n",
        "    print(\"{}th percentile value of Trip Duration is {}min\".format((int(i*100)), percentile_tripDuration[i]))"
      ],
      "execution_count": 0,
      "outputs": [
        {
          "output_type": "stream",
          "text": [
            "0th percentile value of Trip Duration is 0.03333333333333333min\n",
            "10th percentile value of Trip Duration is 3.933333333333333min\n",
            "20th percentile value of Trip Duration is 5.566666666666666min\n",
            "30th percentile value of Trip Duration is 7.133333333333334min\n",
            "40th percentile value of Trip Duration is 8.8min\n",
            "50th percentile value of Trip Duration is 10.683333333333334min\n",
            "60th percentile value of Trip Duration is 12.9min\n",
            "70th percentile value of Trip Duration is 15.683333333333334min\n",
            "80th percentile value of Trip Duration is 19.6min\n",
            "90th percentile value of Trip Duration is 26.383333333333333min\n",
            "100th percentile value of Trip Duration is 1439.2833333333333min\n"
          ],
          "name": "stdout"
        }
      ]
    },
    {
      "cell_type": "markdown",
      "metadata": {
        "id": "cT9QaQq5eaLS",
        "colab_type": "text"
      },
      "source": [
        "We see that there is a huge difference between 90th percentile and the 100th percentile. Lets find the percentile values between 90th and 100th (90,91,92,... ,100)"
      ]
    },
    {
      "cell_type": "code",
      "metadata": {
        "id": "TRQxpjl2ei40",
        "colab_type": "code",
        "outputId": "3272b8aa-b387-4412-aeb3-723a03fd43c9",
        "colab": {
          "base_uri": "https://localhost:8080/",
          "height": 204
        }
      },
      "source": [
        "for i in range(90,100):\n",
        "    var =new_df[\"trip_duration\"].values\n",
        "    var = np.sort(var,axis = None)\n",
        "    print(\"{} percentile value is {}\".format(i,var[int(len(var)*(float(i)/100))]))\n",
        "print (\"100 percentile value is \",var[-1])"
      ],
      "execution_count": 0,
      "outputs": [
        {
          "output_type": "stream",
          "text": [
            "90 percentile value is 26.383333333333333\n",
            "91 percentile value is 27.466666666666665\n",
            "92 percentile value is 28.583333333333332\n",
            "93 percentile value is 29.916666666666668\n",
            "94 percentile value is 31.55\n",
            "95 percentile value is 33.55\n",
            "96 percentile value is 36.43333333333333\n",
            "97 percentile value is 40.53333333333333\n",
            "98 percentile value is 47.78333333333333\n",
            "99 percentile value is 60.78333333333333\n",
            "100 percentile value is  1439.2833333333333\n"
          ],
          "name": "stdout"
        }
      ]
    },
    {
      "cell_type": "markdown",
      "metadata": {
        "id": "-NFlXeuxerKf",
        "colab_type": "text"
      },
      "source": [
        "We see that the value of 100th percentile is 1439.28, which is bizzare for trip duration. According to NYC Taxi and Limousine Commission regulations, the maximum allowed trip duration in a 24hrs interval is 12 hrs. Therefore, removing all outliers that are greater than 720 minutes and less than 1 minute."
      ]
    },
    {
      "cell_type": "code",
      "metadata": {
        "id": "L7N6Uefie2mX",
        "colab_type": "code",
        "colab": {}
      },
      "source": [
        "new_df = new_df[(new_df.trip_duration>1) & (new_df.trip_duration<720)]"
      ],
      "execution_count": 0,
      "outputs": []
    },
    {
      "cell_type": "markdown",
      "metadata": {
        "id": "LmiLB7hZganQ",
        "colab_type": "text"
      },
      "source": [
        "Plotting after the removal of outliers"
      ]
    },
    {
      "cell_type": "code",
      "metadata": {
        "id": "Xub_Kj84fFMQ",
        "colab_type": "code",
        "outputId": "9e80b9fb-12dd-4e59-ed77-2e66b558d304",
        "colab": {
          "base_uri": "https://localhost:8080/",
          "height": 361
        }
      },
      "source": [
        "plt.figure(figsize = (10,6))\n",
        "sns.boxplot(\"trip_duration\", data = new_df, orient = \"v\")\n",
        "plt.ylim(ymin = 1, ymax = 750)\n",
        "plt.tick_params(labelsize = 20)\n",
        "plt.ylabel(\"Trip Duration(minutes)\", fontsize = 20)\n",
        "plt.show()"
      ],
      "execution_count": 0,
      "outputs": [
        {
          "output_type": "display_data",
          "data": {
            "image/png": "[encoded data removed]",
            "text/plain": [
              "<Figure size 720x432 with 1 Axes>"
            ]
          },
          "metadata": {
            "tags": [],
            "needs_background": "light"
          }
        }
      ]
    },
    {
      "cell_type": "code",
      "metadata": {
        "id": "B9EAaHxrfHw_",
        "colab_type": "code",
        "outputId": "30381652-f46f-4f25-fea2-4105900d20b2",
        "colab": {
          "base_uri": "https://localhost:8080/",
          "height": 536
        }
      },
      "source": [
        "#pdf of trip-times after removing the outliers\n",
        "plt.figure(figsize = (12,8))\n",
        "sns.kdeplot(new_df[\"trip_duration\"].values, shade = True, cumulative = False)\n",
        "plt.tick_params(labelsize = 20)\n",
        "plt.xlabel(\"Trip Duration\", fontsize = 20)\n",
        "plt.title(\"PDF of Trip Duration\", fontsize = 20)\n",
        "plt.show()"
      ],
      "execution_count": 0,
      "outputs": [
        {
          "output_type": "display_data",
          "data": {
            "image/png": "[encoded data removed]",
            "text/plain": [
              "<Figure size 864x576 with 1 Axes>"
            ]
          },
          "metadata": {
            "tags": [],
            "needs_background": "light"
          }
        }
      ]
    },
    {
      "cell_type": "markdown",
      "metadata": {
        "id": "YYd48tFLg9_a",
        "colab_type": "text"
      },
      "source": [
        " The above plot shows that almost all of the trip durations are approximately less than 100. There are little to no trips with trip durations above 100. \n",
        "\n",
        "We have removed all the points where trip duration is more than 12 hrs, removing all the erroneous and outlier points."
      ]
    },
    {
      "cell_type": "markdown",
      "metadata": {
        "id": "vE5XpiVJhRJ8",
        "colab_type": "text"
      },
      "source": [
        "#**Speed**\n",
        "\n",
        "**Speed= Trip Distance / Trip Duration**\n",
        "\n",
        "\n",
        "Checking for any outliers in the data after trip duration outliers removed"
      ]
    },
    {
      "cell_type": "code",
      "metadata": {
        "id": "yXiS2FbPgra0",
        "colab_type": "code",
        "outputId": "8b11177c-4325-4aba-c434-1ba3155b3764",
        "colab": {
          "base_uri": "https://localhost:8080/",
          "height": 252
        }
      },
      "source": [
        "new_df['Speed'] = 60*(new_df['trip_distance']/new_df['trip_duration'])\n",
        "sns.boxplot(y=\"Speed\", data =new_df)\n",
        "plt.show()"
      ],
      "execution_count": 0,
      "outputs": [
        {
          "output_type": "display_data",
          "data": {
            "image/png": "[encoded data removed]",
            "text/plain": [
              "<Figure size 432x288 with 1 Axes>"
            ]
          },
          "metadata": {
            "tags": [],
            "needs_background": "light"
          }
        }
      ]
    },
    {
      "cell_type": "markdown",
      "metadata": {
        "id": "WHmtWDTQj7um",
        "colab_type": "text"
      },
      "source": [
        "Just as we did for trip duration, we calcualte percentile values from 0 to 100 to remove errorneous points.\n"
      ]
    },
    {
      "cell_type": "code",
      "metadata": {
        "id": "mw2vb0F3jvFA",
        "colab_type": "code",
        "colab": {}
      },
      "source": [
        "percentile_speed = new_df.speed.quantile(np.round(np.arange(0.00, 1.01, 0.01), 2))"
      ],
      "execution_count": 0,
      "outputs": []
    },
    {
      "cell_type": "markdown",
      "metadata": {
        "id": "1-qkP43BnzZm",
        "colab_type": "text"
      },
      "source": [
        "calculating speed values at each percntile 0,10,20,30,40,50,60,70,80,90,100 "
      ]
    },
    {
      "cell_type": "code",
      "metadata": {
        "id": "wDE--YevkJbj",
        "colab_type": "code",
        "outputId": "6303f039-d799-4fe0-d4d6-1fda92354ee5",
        "colab": {
          "base_uri": "https://localhost:8080/",
          "height": 204
        }
      },
      "source": [
        "qValues = np.round(np.arange(0.00, 1.01, 0.1), 4)\n",
        "for i in qValues:\n",
        "    print(\"{}th percentile value of speed is {}miles/hr\".format(int(i*100), percentile_speed[i]))"
      ],
      "execution_count": 0,
      "outputs": [
        {
          "output_type": "stream",
          "text": [
            "0th percentile value of speed is 0.064034151547492miles/hr\n",
            "10th percentile value of speed is 5.578069129916568miles/hr\n",
            "20th percentile value of speed is 7.199999999999999miles/hr\n",
            "30th percentile value of speed is 8.645669291338583miles/hr\n",
            "40th percentile value of speed is 10.074626865671641miles/hr\n",
            "50th percentile value of speed is 11.55452032490043miles/hr\n",
            "60th percentile value of speed is 13.15887998559467miles/hr\n",
            "70th percentile value of speed is 15.046543922096534miles/hr\n",
            "80th percentile value of speed is 17.40459797427748miles/hr\n",
            "90th percentile value of speed is 21.4468085106383miles/hr\n",
            "100th percentile value of speed is 714.2857142857143miles/hr\n"
          ],
          "name": "stdout"
        }
      ]
    },
    {
      "cell_type": "markdown",
      "metadata": {
        "id": "2KQOX0G_n6vS",
        "colab_type": "text"
      },
      "source": [
        "\n",
        "From the above, we can see that there is a huge difference between 90th percentile and 100th percentile. Now Calculating speed values at each percntile 90,91,92,93,94,95,96,97,98,99,100"
      ]
    },
    {
      "cell_type": "code",
      "metadata": {
        "id": "pW7P7Oy7kQqv",
        "colab_type": "code",
        "outputId": "3e883f65-d29f-4fda-d681-5b406d38e28a",
        "colab": {
          "base_uri": "https://localhost:8080/",
          "height": 187
        }
      },
      "source": [
        "qValues = np.round(np.arange(0.91, 1.01, 0.01), 3)\n",
        "for i in qValues:\n",
        "    print(\"{} percentile value of speed is {}miles/hr\".format(int(i*100), percentile_speed[i]))"
      ],
      "execution_count": 0,
      "outputs": [
        {
          "output_type": "stream",
          "text": [
            "91 percentile value of speed is 22.098232381150957miles/hr\n",
            "92 percentile value of speed is 22.878545891714733miles/hr\n",
            "93 percentile value of speed is 23.773584905660375miles/hr\n",
            "94 percentile value of speed is 24.82758620689655miles/hr\n",
            "95 percentile value of speed is 26.129050856564234miles/hr\n",
            "96 percentile value of speed is 27.65859791589766miles/hr\n",
            "97 percentile value of speed is 29.629745460286195miles/hr\n",
            "98 percentile value of speed is 32.330161812297746miles/hr\n",
            "99 percentile value of speed is 36.77539626110759miles/hr\n",
            "100 percentile value of speed is 714.2857142857143miles/hr\n"
          ],
          "name": "stdout"
        }
      ]
    },
    {
      "cell_type": "markdown",
      "metadata": {
        "id": "AMh1yv-OoICe",
        "colab_type": "text"
      },
      "source": [
        "Now again we see a huge difference in percentile between 99th and 100th. Calculating speed values at each percntile 99.0,99.1,99.2,99.3,99.4,99.5,99.6,99.7,99.8,99.9,100. "
      ]
    },
    {
      "cell_type": "code",
      "metadata": {
        "id": "G8be0heNkYA0",
        "colab_type": "code",
        "outputId": "80265ecd-8a7e-4ba9-8d52-c3153067bf9d",
        "colab": {
          "base_uri": "https://localhost:8080/",
          "height": 204
        }
      },
      "source": [
        "for i in np.arange(0.0, 1.0, 0.1):\n",
        "    var =new_df[\"Speed\"].values\n",
        "    var = np.sort(var,axis = None)\n",
        "    print(\"{} percentile value is {}\".format(99+i,var[int(len(var)*(float(99+i)/100))]))\n",
        "print(\"100 percentile value is \",var[-1])"
      ],
      "execution_count": 0,
      "outputs": [
        {
          "output_type": "stream",
          "text": [
            "99.0 percentile value is 36.78865979381443\n",
            "99.1 percentile value is 37.3035143769968\n",
            "99.2 percentile value is 37.95978420794507\n",
            "99.3 percentile value is 38.75704225352113\n",
            "99.4 percentile value is 39.38775510204082\n",
            "99.5 percentile value is 40.20779220779221\n",
            "99.6 percentile value is 41.06024096385542\n",
            "99.7 percentile value is 42.2680412371134\n",
            "99.8 percentile value is 43.8\n",
            "99.9 percentile value is 45.98258539852646\n",
            "100 percentile value is  714.2857142857143\n"
          ],
          "name": "stdout"
        }
      ]
    },
    {
      "cell_type": "markdown",
      "metadata": {
        "id": "_M1yMIlypLWD",
        "colab_type": "text"
      },
      "source": [
        "Now we see that the 100th percentile value of a speed is 714 Million miles/hr which is unusual. Furthermore, 99.9th percentile value of speed is 45 miles/hr. So, we are removing all the data points where speed is greater than 45 miles/hr."
      ]
    },
    {
      "cell_type": "code",
      "metadata": {
        "id": "ySNjnDKskau0",
        "colab_type": "code",
        "colab": {}
      },
      "source": [
        "new_df = new_df[(new_df.speed>0) & (new_df.speed<45.31)]"
      ],
      "execution_count": 0,
      "outputs": []
    },
    {
      "cell_type": "markdown",
      "metadata": {
        "id": "QVoPNKMFp0Ta",
        "colab_type": "text"
      },
      "source": [
        "Plotting again after removing erroneous points"
      ]
    },
    {
      "cell_type": "code",
      "metadata": {
        "id": "eRtUt7XopyyO",
        "colab_type": "code",
        "outputId": "98ccb951-87a7-4e95-da91-acda9a385f8d",
        "colab": {
          "base_uri": "https://localhost:8080/",
          "height": 361
        }
      },
      "source": [
        "fig = plt.figure(figsize = (10,6))\n",
        "ax = sns.boxplot(\"speed\", data = new_df, orient = \"v\")\n",
        "\n",
        "plt.tick_params(labelsize = 20)\n",
        "plt.ylabel(\"Speed(Miles/hr)\", fontsize = 20)\n",
        "plt.show()"
      ],
      "execution_count": 0,
      "outputs": [
        {
          "output_type": "display_data",
          "data": {
            "image/png": "[encoded data removed]",
            "text/plain": [
              "<Figure size 720x432 with 1 Axes>"
            ]
          },
          "metadata": {
            "tags": [],
            "needs_background": "light"
          }
        }
      ]
    },
    {
      "cell_type": "markdown",
      "metadata": {
        "id": "N5g0whaRqAao",
        "colab_type": "text"
      },
      "source": [
        "Average Speed of cabs in New-York"
      ]
    },
    {
      "cell_type": "code",
      "metadata": {
        "id": "bMbhg_dtp_EH",
        "colab_type": "code",
        "outputId": "e5fb9540-1feb-428a-f64a-803fa6ff0443",
        "colab": {
          "base_uri": "https://localhost:8080/",
          "height": 34
        }
      },
      "source": [
        "Average_speed=sum(new_df[\"Speed\"]) / float(len(new_df[\"Speed\"]))\n",
        "print(\"Average Speed of Taxis around NYC = \"+str(Average_speed))"
      ],
      "execution_count": 0,
      "outputs": [
        {
          "output_type": "stream",
          "text": [
            "Average Speed of Taxis around NYC = 12.811521264080907\n"
          ],
          "name": "stdout"
        }
      ]
    },
    {
      "cell_type": "code",
      "metadata": {
        "id": "RjH4JilHqKGV",
        "colab_type": "code",
        "outputId": "3022acab-03d8-4c13-9c1e-6339f84d603f",
        "colab": {
          "base_uri": "https://localhost:8080/",
          "height": 34
        }
      },
      "source": [
        "print(\"Speed of Taxis around NYC per 10 minutes = \"+str(Average_speed/6)+\" per 10 minutes.\")"
      ],
      "execution_count": 0,
      "outputs": [
        {
          "output_type": "stream",
          "text": [
            "Speed of Taxis around NYC per 10 minutes = 2.1352535440134846 per 10 minutes.\n"
          ],
          "name": "stdout"
        }
      ]
    },
    {
      "cell_type": "markdown",
      "metadata": {
        "id": "TFhlF9bqa9Jz",
        "colab_type": "text"
      },
      "source": [
        "**The avg speed in Newyork speed is 12.81miles/hr, so a cab driver can travel 2 miles per 10min on avg**"
      ]
    },
    {
      "cell_type": "markdown",
      "metadata": {
        "id": "IB8ykgYfbA1F",
        "colab_type": "text"
      },
      "source": [
        "#**Trip Distance**\n",
        "\n",
        "Plotting a boxplot to see if there are any outliers in Trip Distance"
      ]
    },
    {
      "cell_type": "code",
      "metadata": {
        "id": "_BtYFj22qUeI",
        "colab_type": "code",
        "outputId": "4189f3f0-12aa-4d6d-9749-70cf2be90bbf",
        "colab": {
          "base_uri": "https://localhost:8080/",
          "height": 252
        }
      },
      "source": [
        "sns.boxplot(y=\"trip_distance\", data =new_df)\n",
        "plt.show()"
      ],
      "execution_count": 0,
      "outputs": [
        {
          "output_type": "display_data",
          "data": {
            "image/png": "[encoded data removed]",
            "text/plain": [
              "<Figure size 432x288 with 1 Axes>"
            ]
          },
          "metadata": {
            "tags": [],
            "needs_background": "light"
          }
        }
      ]
    },
    {
      "cell_type": "markdown",
      "metadata": {
        "id": "-EkQOzkWgQgj",
        "colab_type": "text"
      },
      "source": [
        "Just as we did for trip duration and Speed, we calcualte percentile values \n",
        "from 0 to 100 to remove errorneous points."
      ]
    },
    {
      "cell_type": "code",
      "metadata": {
        "id": "tlLw3U8Hdb6R",
        "colab_type": "code",
        "colab": {}
      },
      "source": [
        "percentile_tripDistance = new_df.trip_distance.quantile(np.round(np.arange(0.00, 1.01, 0.01), 2))"
      ],
      "execution_count": 0,
      "outputs": []
    },
    {
      "cell_type": "markdown",
      "metadata": {
        "id": "7dcx04iNgcih",
        "colab_type": "text"
      },
      "source": [
        "calculating Trip distance at each percntile 0,10,20,30,40,50,60,70,80,90,100"
      ]
    },
    {
      "cell_type": "code",
      "metadata": {
        "id": "_C6U6TcrfrH4",
        "colab_type": "code",
        "outputId": "d6969e5e-7b72-459d-a58e-83721abe2bbe",
        "colab": {
          "base_uri": "https://localhost:8080/",
          "height": 204
        }
      },
      "source": [
        "qValues = np.round(np.arange(0.00, 1.01, 0.1), 2)\n",
        "for i in qValues:\n",
        "    print(\"{}th percentile value of trip distance is {}miles\".format(int(i*100), percentile_tripDistance[i]))"
      ],
      "execution_count": 0,
      "outputs": [
        {
          "output_type": "stream",
          "text": [
            "0th percentile value of trip distance is 0.1miles\n",
            "10th percentile value of trip distance is 0.7miles\n",
            "20th percentile value of trip distance is 0.9miles\n",
            "30th percentile value of trip distance is 1.17miles\n",
            "40th percentile value of trip distance is 1.43miles\n",
            "50th percentile value of trip distance is 1.8miles\n",
            "60th percentile value of trip distance is 2.21miles\n",
            "70th percentile value of trip distance is 2.9miles\n",
            "80th percentile value of trip distance is 4.1miles\n",
            "90th percentile value of trip distance is 6.9miles\n",
            "100th percentile value of trip distance is 73.2miles\n"
          ],
          "name": "stdout"
        }
      ]
    },
    {
      "cell_type": "markdown",
      "metadata": {
        "id": "aLklfHFMgYQt",
        "colab_type": "text"
      },
      "source": [
        "There is a huge difference between 90th percentile and 100th percentile here as well. Let calculate trip distance values at each percntile 90,91,92,93,94,95,96,97,98,99,100"
      ]
    },
    {
      "cell_type": "code",
      "metadata": {
        "id": "P9_vIID7f0fr",
        "colab_type": "code",
        "outputId": "34fd8228-d6ae-493d-e89e-c89dfd1a9ecf",
        "colab": {
          "base_uri": "https://localhost:8080/",
          "height": 187
        }
      },
      "source": [
        "qValues = np.round(np.arange(0.91, 1.01, 0.01), 3)\n",
        "for i in qValues:\n",
        "    print(\"{} percentile value of trip distance is {}miles\".format(int(i*100), percentile_tripDistance[i]))"
      ],
      "execution_count": 0,
      "outputs": [
        {
          "output_type": "stream",
          "text": [
            "91 percentile value of trip distance is 7.44miles\n",
            "92 percentile value of trip distance is 8.09miles\n",
            "93 percentile value of trip distance is 8.8miles\n",
            "94 percentile value of trip distance is 9.5miles\n",
            "95 percentile value of trip distance is 10.37miles\n",
            "96 percentile value of trip distance is 11.3miles\n",
            "97 percentile value of trip distance is 12.9miles\n",
            "98 percentile value of trip distance is 16.63miles\n",
            "99 percentile value of trip distance is 18.4miles\n",
            "100 percentile value of trip distance is 73.2miles\n"
          ],
          "name": "stdout"
        }
      ]
    },
    {
      "cell_type": "markdown",
      "metadata": {
        "id": "nU30gzB1gv21",
        "colab_type": "text"
      },
      "source": [
        "Now again we see a huge difference in percentile between 99th and 100th. Calculating trip distance values at each percntile 99.0,99.1,99.2,99.3,99.4,99.5,99.6,99.7,99.8,99.9,100. "
      ]
    },
    {
      "cell_type": "code",
      "metadata": {
        "id": "SHZst-sHf4Sn",
        "colab_type": "code",
        "outputId": "e9247392-623d-44b1-d446-a13f42208908",
        "colab": {
          "base_uri": "https://localhost:8080/",
          "height": 204
        }
      },
      "source": [
        "for i in np.arange(0.0, 1.0, 0.1):\n",
        "    var =new_df[\"trip_distance\"].values\n",
        "    var = np.sort(var,axis = None)\n",
        "    print(\"{} percentile value is {} miles\".format(99+i,var[int(len(var)*(float(99+i)/100))]))\n",
        "print(\"100 percentile value is \",var[-1])"
      ],
      "execution_count": 0,
      "outputs": [
        {
          "output_type": "stream",
          "text": [
            "99.0 percentile value is 18.4 miles\n",
            "99.1 percentile value is 18.62 miles\n",
            "99.2 percentile value is 18.86 miles\n",
            "99.3 percentile value is 19.1 miles\n",
            "99.4 percentile value is 19.41 miles\n",
            "99.5 percentile value is 19.79 miles\n",
            "99.6 percentile value is 20.3 miles\n",
            "99.7 percentile value is 20.77 miles\n",
            "99.8 percentile value is 21.35 miles\n",
            "99.9 percentile value is 22.5 miles\n",
            "100 percentile value is  73.2\n"
          ],
          "name": "stdout"
        }
      ]
    },
    {
      "cell_type": "markdown",
      "metadata": {
        "id": "yn0KrvGVg8PZ",
        "colab_type": "text"
      },
      "source": [
        "Here, 99.9th percentile of trip distance is 22.5 miles, however, 100th percentile value is 73.2 miles, which is quite high. So, we are removing all the data points where trip distance is greater than 23miles."
      ]
    },
    {
      "cell_type": "code",
      "metadata": {
        "id": "WycD1THRf9yf",
        "colab_type": "code",
        "colab": {}
      },
      "source": [
        "new_df = new_df[(new_df.trip_distance>0) & (new_df.trip_distance<23)]"
      ],
      "execution_count": 0,
      "outputs": []
    },
    {
      "cell_type": "markdown",
      "metadata": {
        "id": "S-yWXQM8hMAT",
        "colab_type": "text"
      },
      "source": [
        "Plotting Trip Distance after removing all outliers"
      ]
    },
    {
      "cell_type": "code",
      "metadata": {
        "id": "HHRPBtoahJft",
        "colab_type": "code",
        "outputId": "d9dd3e09-edcc-4b0a-84a8-e75012aa0ac1",
        "colab": {
          "base_uri": "https://localhost:8080/",
          "height": 361
        }
      },
      "source": [
        "fig = plt.figure(figsize = (10,6))\n",
        "ax = sns.boxplot(\"trip_distance\", data = new_df, orient = \"v\")\n",
        "\n",
        "plt.tick_params(labelsize = 20)\n",
        "plt.ylabel(\"Trip Distance(Miles)\", fontsize = 20)\n",
        "plt.show()"
      ],
      "execution_count": 0,
      "outputs": [
        {
          "output_type": "display_data",
          "data": {
            "image/png": "[encoded data removed]",
            "text/plain": [
              "<Figure size 720x432 with 1 Axes>"
            ]
          },
          "metadata": {
            "tags": [],
            "needs_background": "light"
          }
        }
      ]
    },
    {
      "cell_type": "markdown",
      "metadata": {
        "id": "JTGEshmahmB4",
        "colab_type": "text"
      },
      "source": [
        "#**Total Fare**"
      ]
    },
    {
      "cell_type": "markdown",
      "metadata": {
        "id": "kLwm3j_GhvyR",
        "colab_type": "text"
      },
      "source": [
        "Plotting Total Fare, to see if there are any outliers"
      ]
    },
    {
      "cell_type": "code",
      "metadata": {
        "id": "xdmhQjcLhPOO",
        "colab_type": "code",
        "outputId": "c51630ca-5393-4e41-e164-de10f7c7a8e7",
        "colab": {
          "base_uri": "https://localhost:8080/",
          "height": 252
        }
      },
      "source": [
        "sns.boxplot(y=\"total_amount\", data =new_df)\n",
        "plt.show()"
      ],
      "execution_count": 0,
      "outputs": [
        {
          "output_type": "display_data",
          "data": {
            "image/png": "[encoded data removed]",
            "text/plain": [
              "<Figure size 432x288 with 1 Axes>"
            ]
          },
          "metadata": {
            "tags": [],
            "needs_background": "light"
          }
        }
      ]
    },
    {
      "cell_type": "markdown",
      "metadata": {
        "id": "dYAGwcG138-B",
        "colab_type": "text"
      },
      "source": [
        "Just as we did for trip duration and Speed, we calcualte percentile values \n",
        "from 0 to 100  for total fare to remove errorneous points."
      ]
    },
    {
      "cell_type": "code",
      "metadata": {
        "id": "7ur6_ilSh30e",
        "colab_type": "code",
        "colab": {}
      },
      "source": [
        "percentile_totalAmount = new_df.total_amount.quantile(np.round(np.arange(0.00, 1.01, 0.01), 2))"
      ],
      "execution_count": 0,
      "outputs": []
    },
    {
      "cell_type": "code",
      "metadata": {
        "id": "RusPIjPP2z4G",
        "colab_type": "code",
        "outputId": "adabb960-8bf7-40c0-ea87-a1b1b20415e0",
        "colab": {
          "base_uri": "https://localhost:8080/",
          "height": 204
        }
      },
      "source": [
        "qValues = np.round(np.arange(0.00, 1.01, 0.1), 2)\n",
        "for i in qValues:\n",
        "    print(\"{}th percentile value of trip fare is {}\".format(int(i*100), percentile_totalAmount[i]))"
      ],
      "execution_count": 0,
      "outputs": [
        {
          "output_type": "stream",
          "text": [
            "0th percentile value of trip fare is -8.3\n",
            "10th percentile value of trip fare is 6.62\n",
            "20th percentile value of trip fare is 7.800000000000001\n",
            "30th percentile value of trip fare is 8.84\n",
            "40th percentile value of trip fare is 10.3\n",
            "50th percentile value of trip fare is 11.8\n",
            "60th percentile value of trip fare is 13.560000000000002\n",
            "70th percentile value of trip fare is 16.05\n",
            "80th percentile value of trip fare is 20.16\n",
            "90th percentile value of trip fare is 28.8\n",
            "100th percentile value of trip fare is 145.31\n"
          ],
          "name": "stdout"
        }
      ]
    },
    {
      "cell_type": "code",
      "metadata": {
        "id": "W5rL6jEF248V",
        "colab_type": "code",
        "outputId": "e959209b-0e62-4b17-a0e9-097aa354ab79",
        "colab": {
          "base_uri": "https://localhost:8080/",
          "height": 187
        }
      },
      "source": [
        " qValues = np.round(np.arange(0.91, 1.01, 0.01), 3)\n",
        "for i in qValues:\n",
        "    print(\"{} percentile value of trip fare is {}\".format(int(i*100), percentile_totalAmount[i]))"
      ],
      "execution_count": 0,
      "outputs": [
        {
          "output_type": "stream",
          "text": [
            "91 percentile value of trip fare is 30.36\n",
            "92 percentile value of trip fare is 32.76\n",
            "93 percentile value of trip fare is 35.3\n",
            "94 percentile value of trip fare is 38.5\n",
            "95 percentile value of trip fare is 42.34\n",
            "96 percentile value of trip fare is 47.23759999999995\n",
            "97 percentile value of trip fare is 53.5\n",
            "98 percentile value of trip fare is 59.33839999999968\n",
            "99 percentile value of trip fare is 68.64\n",
            "100 percentile value of trip fare is 145.31\n"
          ],
          "name": "stdout"
        }
      ]
    },
    {
      "cell_type": "code",
      "metadata": {
        "id": "4fIt5que3CMx",
        "colab_type": "code",
        "outputId": "c99ab27a-5677-4ed4-9447-ec6180e8aa04",
        "colab": {
          "base_uri": "https://localhost:8080/",
          "height": 187
        }
      },
      "source": [
        "quantile_totalAmount = new_df.total_amount.quantile(np.round(np.arange(0.991, 1.001, 0.001), 3))\n",
        "qValues = np.round(np.arange(0.991, 1.001, 0.001), 3)\n",
        "for i in qValues:\n",
        "    print(\"{} percentile value of trip fare is {}\".format((i*100), quantile_totalAmount[i]))"
      ],
      "execution_count": 0,
      "outputs": [
        {
          "output_type": "stream",
          "text": [
            "99.1 percentile value of trip fare is 69.99\n",
            "99.2 percentile value of trip fare is 69.99\n",
            "99.3 percentile value of trip fare is 70.0\n",
            "99.4 percentile value of trip fare is 70.01\n",
            "99.5 percentile value of trip fare is 70.01\n",
            "99.6 percentile value of trip fare is 70.01\n",
            "99.7 percentile value of trip fare is 72.3458799999999\n",
            "99.8 percentile value of trip fare is 72.92\n",
            "99.9 percentile value of trip fare is 75.84\n",
            "100.0 percentile value of trip fare is 145.31\n"
          ],
          "name": "stdout"
        }
      ]
    },
    {
      "cell_type": "markdown",
      "metadata": {
        "id": "iqXux6Mg4Ip4",
        "colab_type": "text"
      },
      "source": [
        " As even the 99.9th percentile value doesnt look like an outlier, as there is not much difference between the 99.8th percentile and 99.9th percentile, let's do some more graphical analyis.\n",
        " \n",
        " Plot the fare amount only for the last two highest values"
      ]
    },
    {
      "cell_type": "code",
      "metadata": {
        "id": "H_Swc_154WfK",
        "colab_type": "code",
        "outputId": "56c9cb41-e127-4a29-e70f-57bea1919ef0",
        "colab": {
          "base_uri": "https://localhost:8080/",
          "height": 265
        }
      },
      "source": [
        "plt.plot(var[:-2])\n",
        "plt.show()"
      ],
      "execution_count": 0,
      "outputs": [
        {
          "output_type": "display_data",
          "data": {
            "image/png": "[encoded data removed]",
            "text/plain": [
              "<Figure size 432x288 with 1 Axes>"
            ]
          },
          "metadata": {
            "tags": [],
            "needs_background": "light"
          }
        }
      ]
    },
    {
      "cell_type": "markdown",
      "metadata": {
        "id": "RohQZxq34e-z",
        "colab_type": "text"
      },
      "source": [
        "Plotting last three total fare values"
      ]
    },
    {
      "cell_type": "code",
      "metadata": {
        "id": "fm1Aas1g4mNK",
        "colab_type": "code",
        "outputId": "c7d5ad6c-0556-46c0-90f5-455275ae9ec9",
        "colab": {
          "base_uri": "https://localhost:8080/",
          "height": 265
        }
      },
      "source": [
        "plt.plot(var[-3:])\n",
        "plt.show()"
      ],
      "execution_count": 0,
      "outputs": [
        {
          "output_type": "display_data",
          "data": {
            "image/png": "[encoded data removed]",
            "text/plain": [
              "<Figure size 432x288 with 1 Axes>"
            ]
          },
          "metadata": {
            "tags": [],
            "needs_background": "light"
          }
        }
      ]
    },
    {
      "cell_type": "markdown",
      "metadata": {
        "id": "OLJXZDV84pCp",
        "colab_type": "text"
      },
      "source": [
        "We can see that there is a very sharp increase in fare values at the second last value. Lets plot last 50 values excluding last two values"
      ]
    },
    {
      "cell_type": "code",
      "metadata": {
        "id": "cgxL0Ua64yo9",
        "colab_type": "code",
        "outputId": "4782d408-1ef9-40ff-8dbc-d55790e55309",
        "colab": {
          "base_uri": "https://localhost:8080/",
          "height": 265
        }
      },
      "source": [
        "plt.plot(var[-50:-2])\n",
        "plt.show()"
      ],
      "execution_count": 0,
      "outputs": [
        {
          "output_type": "display_data",
          "data": {
            "image/png": "[encoded data removed]",
            "text/plain": [
              "<Figure size 432x288 with 1 Axes>"
            ]
          },
          "metadata": {
            "tags": [],
            "needs_background": "light"
          }
        }
      ]
    },
    {
      "cell_type": "markdown",
      "metadata": {
        "id": "sta5mMql45YI",
        "colab_type": "text"
      },
      "source": [
        "We dont see any drastic changes in this previous graph. Thus, removing all outliers that are above the 99th percentile values"
      ]
    },
    {
      "cell_type": "code",
      "metadata": {
        "id": "NEYOsa8t3E8R",
        "colab_type": "code",
        "colab": {}
      },
      "source": [
        "new_df = new_df[(new_df.total_amount>0) & (new_df.total_amount<75.8)]"
      ],
      "execution_count": 0,
      "outputs": []
    },
    {
      "cell_type": "code",
      "metadata": {
        "id": "PUqYJDyW3rTG",
        "colab_type": "code",
        "outputId": "f0b5afa3-ff6f-450b-c39b-39faa2263fa1",
        "colab": {
          "base_uri": "https://localhost:8080/",
          "height": 361
        }
      },
      "source": [
        "fig = plt.figure(figsize = (10,6))\n",
        "ax = sns.boxplot(\"total_amount\", data = new_df, orient = \"v\")\n",
        "\n",
        "plt.tick_params(labelsize = 20)\n",
        "plt.ylabel(\"Trip Fare\", fontsize = 20)\n",
        "plt.show()"
      ],
      "execution_count": 0,
      "outputs": [
        {
          "output_type": "display_data",
          "data": {
            "image/png": "[encoded data removed]",
            "text/plain": [
              "<Figure size 720x432 with 1 Axes>"
            ]
          },
          "metadata": {
            "tags": [],
            "needs_background": "light"
          }
        }
      ]
    },
    {
      "cell_type": "code",
      "metadata": {
        "id": "is34zphd3xdm",
        "colab_type": "code",
        "colab": {}
      },
      "source": [
        ""
      ],
      "execution_count": 0,
      "outputs": []
    }
  ]
}
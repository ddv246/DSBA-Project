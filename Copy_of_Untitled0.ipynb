{
  "nbformat": 4,
  "nbformat_minor": 0,
  "metadata": {
    "colab": {
      "name": "Copy of Untitled0.ipynb",
      "provenance": [],
      "collapsed_sections": [],
      "include_colab_link": true
    },
    "kernelspec": {
      "display_name": "Python 3",
      "language": "python",
      "name": "python3"
    },
    "language_info": {
      "codemirror_mode": {
        "name": "ipython",
        "version": 3
      },
      "file_extension": ".py",
      "mimetype": "text/x-python",
      "name": "python",
      "nbconvert_exporter": "python",
      "pygments_lexer": "ipython3",
      "version": "3.7.5"
    }
  },
  "cells": [
    {
      "cell_type": "markdown",
      "metadata": {
        "id": "view-in-github",
        "colab_type": "text"
      },
      "source": [
        "<a href=\"https://colab.research.google.com/github/ddv246/DSBA-Project/blob/master/Copy_of_Untitled0.ipynb\" target=\"_parent\"><img src=\"https://colab.research.google.com/assets/colab-badge.svg\" alt=\"Open In Colab\"/></a>"
      ]
    },
    {
      "cell_type": "markdown",
      "metadata": {
        "id": "MDB9DBZvYRgU",
        "colab_type": "text"
      },
      "source": [
        "# **Predicting New York City Yellow Taxi Demand**"
      ]
    },
    {
      "cell_type": "markdown",
      "metadata": {
        "id": "1DQEo20nYl6y",
        "colab_type": "text"
      },
      "source": [
        "## **Business Problem:**\n",
        "\n",
        "---\n",
        "In the New York city, people use taxi at a much higher frequency than most places. Instead\n",
        "of booking customers by phone ahead of time, there is still a majority of New York taxi\n",
        "drivers that pick up passengers on street. However, as per recent studies, Taxi patronage\n",
        "has considerably declined since 2011 due to competition from\n",
        "rideshare\n",
        "services like Uber,\n",
        "Lyft etc. The ability to predict taxi ridership could present valuable insights to such taxi\n",
        "dispatchers that would in turn help them in making important decisions that could revive\n",
        "their profit margin - such as how to position cabs where they are most needed, how many\n",
        "taxis to dispatch, and how ridership varies over time. Our project focuses on **predicting the\n",
        "number of taxi pickups** given a one-hour time window and a location within New York City.\n"
      ]
    },
    {
      "cell_type": "markdown",
      "metadata": {
        "id": "xPsAu50eZGG9",
        "colab_type": "text"
      },
      "source": [
        "# **Use Case Scenario:**\n",
        "\n",
        "---\n",
        "\n",
        "For any given location in New York City, our goal is to predict the number of pickups in that\n",
        "given location at particular time interval. Some location require more taxis at a particular\n",
        "time than other locations due to their proximity to offices, schools, hospitals etc. With the\n",
        "competition that the Yellow Taxi drivers are facing due to the advent of apps like Uber and\n",
        "Lyft, we propose a solution that will help them predict the taxi demand in a particular area.\n",
        "The prediction result can be transferred to the taxi drivers via Mobile app’s, and they can\n",
        "subsequently move to the locations where the predicted pickups are higher and so they can\n",
        "profit more than they normally would.\n"
      ]
    },
    {
      "cell_type": "markdown",
      "metadata": {
        "id": "lCvuBrn7ZQTX",
        "colab_type": "text"
      },
      "source": [
        "# **Data Information:**\n",
        "\n",
        "---\n",
        "\n",
        "**Source of Data:** https://www1.nyc.gov/site/tlc/about/tlc-trip-record-data.page \n",
        "\n",
        "Here, we have used October 2015 data.\n",
        "\n",
        "**Information on Taxi:**\n",
        "\n",
        "**Yellow Taxi: Yellow Medallion Taxicabs**\n",
        "\n",
        "Trips made by New York City’s iconic yellow taxis have been recorded and provided to the TLC\n",
        "since 2009. Yellow taxis are traditionally hailed by signaling to a driver who is on duty and seeking\n",
        "a passenger (street hail). The pickups are not pre-arranged.\n",
        "Yellow taxis are the only vehicles permitted to respond to a street hail from a passenger in all five\n",
        "boroughs. \n"
      ]
    },
    {
      "cell_type": "code",
      "metadata": {
        "id": "ipPWxPBGop0L",
        "colab_type": "code",
        "outputId": "380c72a0-a352-4581-d336-06d4c5be7ee0",
        "colab": {
          "base_uri": "https://localhost:8080/",
          "height": 136
        }
      },
      "source": [
        "#If opening in colab run this cell\n",
        "!git clone https://github.com/ddv246/DSBA-Project\n",
        "%cd DSBA-Project/YellowTaxi"
      ],
      "execution_count": 46,
      "outputs": [
        {
          "output_type": "stream",
          "text": [
            "Cloning into 'DSBA-Project'...\n",
            "remote: Enumerating objects: 61, done.\u001b[K\n",
            "remote: Counting objects: 100% (61/61), done.\u001b[K\n",
            "remote: Compressing objects: 100% (53/53), done.\u001b[K\n",
            "remote: Total 61 (delta 28), reused 23 (delta 5), pack-reused 0\u001b[K\n",
            "Unpacking objects: 100% (61/61), done.\n",
            "/content/DSBA-Project/YellowTaxi/DSBA-Project/YellowTaxi\n"
          ],
          "name": "stdout"
        }
      ]
    },
    {
      "cell_type": "code",
      "metadata": {
        "colab_type": "code",
        "id": "uKDWLePlgXFY",
        "colab": {}
      },
      "source": [
        "\n",
        "import dask.dataframe as dd\n",
        "import pandas as pd\n",
        "import matplotlib.pyplot as plt\n",
        "import numpy as np\n",
        "import folium\n",
        "\n",
        "import datetime\n",
        "import time\n",
        "import seaborn as sns\n",
        "import os\n",
        "import math\n",
        "import xgboost as xgb\n",
        "import matplotlib\n",
        "matplotlib.use('nbagg')\n",
        "#from sklearn.grid_search import GridSearchCV\n",
        "from sklearn.metrics import mean_absolute_error\n",
        "from sklearn.metrics import mean_squared_error\n",
        "from sklearn.preprocessing import StandardScaler\n",
        "from sklearn.ensemble import RandomForestRegressor\n",
        "from sklearn.linear_model import SGDRegressor\n",
        "from sklearn.cluster import MiniBatchKMeans, KMeans\n",
        "import warnings\n",
        "warnings.simplefilter('ignore')\n",
        "\n",
        "%matplotlib inline\n"
      ],
      "execution_count": 0,
      "outputs": []
    },
    {
      "cell_type": "code",
      "metadata": {
        "colab_type": "code",
        "id": "MpNJetfVjgWS",
        "colab": {}
      },
      "source": [
        "#import glob\n",
        "\n",
        "\n",
        "#all_files1 = []\n",
        "#for name in glob.glob('YellowTaxi/*'):\n",
        " #   all_files1.append(name)\n",
        "\n",
        "#li = []\n",
        "\n",
        "\n",
        "#for filename in all_files1:\n",
        " #   df = pd.read_csv(filename, index_col=None, header=0)\n",
        "  #  li.append(df)\n",
        "\n",
        "#frame = pd.concat(li, axis=0, ignore_index=True)\n",
        "\n"
      ],
      "execution_count": 0,
      "outputs": []
    },
    {
      "cell_type": "code",
      "metadata": {
        "id": "fSarKRKDLpYR",
        "colab_type": "code",
        "outputId": "b2691027-1927-4bce-d7ae-26a6b5abc79a",
        "colab": {
          "base_uri": "https://localhost:8080/",
          "height": 439
        }
      },
      "source": [
        "df=pd.read_csv(\"2015_sample.csv\")\n",
        "df"
      ],
      "execution_count": 48,
      "outputs": [
        {
          "output_type": "execute_result",
          "data": {
            "text/html": [
              "<div>\n",
              "<style scoped>\n",
              "    .dataframe tbody tr th:only-of-type {\n",
              "        vertical-align: middle;\n",
              "    }\n",
              "\n",
              "    .dataframe tbody tr th {\n",
              "        vertical-align: top;\n",
              "    }\n",
              "\n",
              "    .dataframe thead th {\n",
              "        text-align: right;\n",
              "    }\n",
              "</style>\n",
              "<table border=\"1\" class=\"dataframe\">\n",
              "  <thead>\n",
              "    <tr style=\"text-align: right;\">\n",
              "      <th></th>\n",
              "      <th>VendorID</th>\n",
              "      <th>tpep_pickup_datetime</th>\n",
              "      <th>tpep_dropoff_datetime</th>\n",
              "      <th>passenger_count</th>\n",
              "      <th>trip_distance</th>\n",
              "      <th>pickup_longitude</th>\n",
              "      <th>pickup_latitude</th>\n",
              "      <th>RatecodeID</th>\n",
              "      <th>store_and_fwd_flag</th>\n",
              "      <th>dropoff_longitude</th>\n",
              "      <th>dropoff_latitude</th>\n",
              "      <th>payment_type</th>\n",
              "      <th>fare_amount</th>\n",
              "      <th>extra</th>\n",
              "      <th>mta_tax</th>\n",
              "      <th>tip_amount</th>\n",
              "      <th>tolls_amount</th>\n",
              "      <th>improvement_surcharge</th>\n",
              "      <th>total_amount</th>\n",
              "    </tr>\n",
              "  </thead>\n",
              "  <tbody>\n",
              "    <tr>\n",
              "      <th>0</th>\n",
              "      <td>1</td>\n",
              "      <td>2015-10-01 00:00:00</td>\n",
              "      <td>2015-10-01 00:05:48</td>\n",
              "      <td>1</td>\n",
              "      <td>1.10</td>\n",
              "      <td>-73.935516</td>\n",
              "      <td>40.761238</td>\n",
              "      <td>1</td>\n",
              "      <td>N</td>\n",
              "      <td>-73.944351</td>\n",
              "      <td>40.754578</td>\n",
              "      <td>2</td>\n",
              "      <td>6.00</td>\n",
              "      <td>0.5</td>\n",
              "      <td>0.5</td>\n",
              "      <td>0.00</td>\n",
              "      <td>0.0</td>\n",
              "      <td>0.3</td>\n",
              "      <td>7.30</td>\n",
              "    </tr>\n",
              "    <tr>\n",
              "      <th>1</th>\n",
              "      <td>2</td>\n",
              "      <td>2015-10-01 00:00:00</td>\n",
              "      <td>2015-10-01 00:00:00</td>\n",
              "      <td>1</td>\n",
              "      <td>7.68</td>\n",
              "      <td>-73.989937</td>\n",
              "      <td>40.743439</td>\n",
              "      <td>1</td>\n",
              "      <td>N</td>\n",
              "      <td>-73.986687</td>\n",
              "      <td>40.689129</td>\n",
              "      <td>2</td>\n",
              "      <td>27.50</td>\n",
              "      <td>0.0</td>\n",
              "      <td>0.5</td>\n",
              "      <td>0.00</td>\n",
              "      <td>0.0</td>\n",
              "      <td>0.3</td>\n",
              "      <td>28.30</td>\n",
              "    </tr>\n",
              "    <tr>\n",
              "      <th>2</th>\n",
              "      <td>2</td>\n",
              "      <td>2015-10-01 00:00:00</td>\n",
              "      <td>2015-10-01 00:00:00</td>\n",
              "      <td>2</td>\n",
              "      <td>2.53</td>\n",
              "      <td>-73.987328</td>\n",
              "      <td>40.720020</td>\n",
              "      <td>1</td>\n",
              "      <td>N</td>\n",
              "      <td>-73.999084</td>\n",
              "      <td>40.744381</td>\n",
              "      <td>1</td>\n",
              "      <td>12.50</td>\n",
              "      <td>0.0</td>\n",
              "      <td>0.5</td>\n",
              "      <td>2.00</td>\n",
              "      <td>0.0</td>\n",
              "      <td>0.3</td>\n",
              "      <td>15.30</td>\n",
              "    </tr>\n",
              "    <tr>\n",
              "      <th>3</th>\n",
              "      <td>2</td>\n",
              "      <td>2015-10-01 00:00:00</td>\n",
              "      <td>2015-10-01 00:00:00</td>\n",
              "      <td>0</td>\n",
              "      <td>1.20</td>\n",
              "      <td>-73.953758</td>\n",
              "      <td>40.743385</td>\n",
              "      <td>5</td>\n",
              "      <td>N</td>\n",
              "      <td>-73.930008</td>\n",
              "      <td>40.736622</td>\n",
              "      <td>2</td>\n",
              "      <td>25.26</td>\n",
              "      <td>0.0</td>\n",
              "      <td>0.5</td>\n",
              "      <td>0.00</td>\n",
              "      <td>0.0</td>\n",
              "      <td>0.3</td>\n",
              "      <td>26.06</td>\n",
              "    </tr>\n",
              "    <tr>\n",
              "      <th>4</th>\n",
              "      <td>1</td>\n",
              "      <td>2015-10-01 00:00:01</td>\n",
              "      <td>2015-10-01 00:16:19</td>\n",
              "      <td>1</td>\n",
              "      <td>3.80</td>\n",
              "      <td>-73.984016</td>\n",
              "      <td>40.755222</td>\n",
              "      <td>1</td>\n",
              "      <td>N</td>\n",
              "      <td>-73.959869</td>\n",
              "      <td>40.801323</td>\n",
              "      <td>1</td>\n",
              "      <td>15.50</td>\n",
              "      <td>0.5</td>\n",
              "      <td>0.5</td>\n",
              "      <td>3.00</td>\n",
              "      <td>0.0</td>\n",
              "      <td>0.3</td>\n",
              "      <td>19.80</td>\n",
              "    </tr>\n",
              "    <tr>\n",
              "      <th>...</th>\n",
              "      <td>...</td>\n",
              "      <td>...</td>\n",
              "      <td>...</td>\n",
              "      <td>...</td>\n",
              "      <td>...</td>\n",
              "      <td>...</td>\n",
              "      <td>...</td>\n",
              "      <td>...</td>\n",
              "      <td>...</td>\n",
              "      <td>...</td>\n",
              "      <td>...</td>\n",
              "      <td>...</td>\n",
              "      <td>...</td>\n",
              "      <td>...</td>\n",
              "      <td>...</td>\n",
              "      <td>...</td>\n",
              "      <td>...</td>\n",
              "      <td>...</td>\n",
              "      <td>...</td>\n",
              "    </tr>\n",
              "    <tr>\n",
              "      <th>99994</th>\n",
              "      <td>2</td>\n",
              "      <td>2015-10-01 09:33:05</td>\n",
              "      <td>2015-10-01 09:55:19</td>\n",
              "      <td>1</td>\n",
              "      <td>5.00</td>\n",
              "      <td>-73.960625</td>\n",
              "      <td>40.761410</td>\n",
              "      <td>1</td>\n",
              "      <td>N</td>\n",
              "      <td>-74.002640</td>\n",
              "      <td>40.728294</td>\n",
              "      <td>1</td>\n",
              "      <td>20.50</td>\n",
              "      <td>0.0</td>\n",
              "      <td>0.5</td>\n",
              "      <td>4.26</td>\n",
              "      <td>0.0</td>\n",
              "      <td>0.3</td>\n",
              "      <td>25.56</td>\n",
              "    </tr>\n",
              "    <tr>\n",
              "      <th>99995</th>\n",
              "      <td>1</td>\n",
              "      <td>2015-10-01 09:33:06</td>\n",
              "      <td>2015-10-01 09:46:03</td>\n",
              "      <td>1</td>\n",
              "      <td>1.00</td>\n",
              "      <td>-74.008865</td>\n",
              "      <td>40.715946</td>\n",
              "      <td>1</td>\n",
              "      <td>N</td>\n",
              "      <td>-73.997917</td>\n",
              "      <td>40.720467</td>\n",
              "      <td>1</td>\n",
              "      <td>9.00</td>\n",
              "      <td>0.0</td>\n",
              "      <td>0.5</td>\n",
              "      <td>2.90</td>\n",
              "      <td>0.0</td>\n",
              "      <td>0.3</td>\n",
              "      <td>12.70</td>\n",
              "    </tr>\n",
              "    <tr>\n",
              "      <th>99996</th>\n",
              "      <td>1</td>\n",
              "      <td>2015-10-01 09:33:06</td>\n",
              "      <td>2015-10-01 09:57:39</td>\n",
              "      <td>1</td>\n",
              "      <td>2.60</td>\n",
              "      <td>-73.981049</td>\n",
              "      <td>40.729874</td>\n",
              "      <td>1</td>\n",
              "      <td>N</td>\n",
              "      <td>-73.991631</td>\n",
              "      <td>40.754829</td>\n",
              "      <td>1</td>\n",
              "      <td>16.00</td>\n",
              "      <td>0.0</td>\n",
              "      <td>0.5</td>\n",
              "      <td>3.36</td>\n",
              "      <td>0.0</td>\n",
              "      <td>0.3</td>\n",
              "      <td>20.16</td>\n",
              "    </tr>\n",
              "    <tr>\n",
              "      <th>99997</th>\n",
              "      <td>2</td>\n",
              "      <td>2015-10-01 09:33:06</td>\n",
              "      <td>2015-10-01 09:52:57</td>\n",
              "      <td>5</td>\n",
              "      <td>0.99</td>\n",
              "      <td>-73.975304</td>\n",
              "      <td>40.759300</td>\n",
              "      <td>1</td>\n",
              "      <td>N</td>\n",
              "      <td>-73.964859</td>\n",
              "      <td>40.769749</td>\n",
              "      <td>1</td>\n",
              "      <td>13.00</td>\n",
              "      <td>0.0</td>\n",
              "      <td>0.5</td>\n",
              "      <td>2.76</td>\n",
              "      <td>0.0</td>\n",
              "      <td>0.3</td>\n",
              "      <td>16.56</td>\n",
              "    </tr>\n",
              "    <tr>\n",
              "      <th>99998</th>\n",
              "      <td>1</td>\n",
              "      <td>2015-10-01 09:33:07</td>\n",
              "      <td>2015-10-01 09:43:19</td>\n",
              "      <td>2</td>\n",
              "      <td>0.90</td>\n",
              "      <td>-73.999954</td>\n",
              "      <td>40.720490</td>\n",
              "      <td>1</td>\n",
              "      <td>N</td>\n",
              "      <td>-74.009132</td>\n",
              "      <td>40.710724</td>\n",
              "      <td>2</td>\n",
              "      <td>8.00</td>\n",
              "      <td>0.0</td>\n",
              "      <td>0.5</td>\n",
              "      <td>0.00</td>\n",
              "      <td>0.0</td>\n",
              "      <td>0.3</td>\n",
              "      <td>8.80</td>\n",
              "    </tr>\n",
              "  </tbody>\n",
              "</table>\n",
              "<p>99999 rows × 19 columns</p>\n",
              "</div>"
            ],
            "text/plain": [
              "       VendorID tpep_pickup_datetime  ... improvement_surcharge  total_amount\n",
              "0             1  2015-10-01 00:00:00  ...                   0.3          7.30\n",
              "1             2  2015-10-01 00:00:00  ...                   0.3         28.30\n",
              "2             2  2015-10-01 00:00:00  ...                   0.3         15.30\n",
              "3             2  2015-10-01 00:00:00  ...                   0.3         26.06\n",
              "4             1  2015-10-01 00:00:01  ...                   0.3         19.80\n",
              "...         ...                  ...  ...                   ...           ...\n",
              "99994         2  2015-10-01 09:33:05  ...                   0.3         25.56\n",
              "99995         1  2015-10-01 09:33:06  ...                   0.3         12.70\n",
              "99996         1  2015-10-01 09:33:06  ...                   0.3         20.16\n",
              "99997         2  2015-10-01 09:33:06  ...                   0.3         16.56\n",
              "99998         1  2015-10-01 09:33:07  ...                   0.3          8.80\n",
              "\n",
              "[99999 rows x 19 columns]"
            ]
          },
          "metadata": {
            "tags": []
          },
          "execution_count": 48
        }
      ]
    },
    {
      "cell_type": "code",
      "metadata": {
        "id": "dbpZjK3WLpYT",
        "colab_type": "code",
        "outputId": "7450569c-4149-4721-bdc9-707a07f39d51",
        "colab": {
          "base_uri": "https://localhost:8080/",
          "height": 459
        }
      },
      "source": [
        "df.info()"
      ],
      "execution_count": 49,
      "outputs": [
        {
          "output_type": "stream",
          "text": [
            "<class 'pandas.core.frame.DataFrame'>\n",
            "RangeIndex: 99999 entries, 0 to 99998\n",
            "Data columns (total 19 columns):\n",
            " #   Column                 Non-Null Count  Dtype  \n",
            "---  ------                 --------------  -----  \n",
            " 0   VendorID               99999 non-null  int64  \n",
            " 1   tpep_pickup_datetime   99999 non-null  object \n",
            " 2   tpep_dropoff_datetime  99999 non-null  object \n",
            " 3   passenger_count        99999 non-null  int64  \n",
            " 4   trip_distance          99999 non-null  float64\n",
            " 5   pickup_longitude       99999 non-null  float64\n",
            " 6   pickup_latitude        99999 non-null  float64\n",
            " 7   RatecodeID             99999 non-null  int64  \n",
            " 8   store_and_fwd_flag     99999 non-null  object \n",
            " 9   dropoff_longitude      99999 non-null  float64\n",
            " 10  dropoff_latitude       99999 non-null  float64\n",
            " 11  payment_type           99999 non-null  int64  \n",
            " 12  fare_amount            99999 non-null  float64\n",
            " 13  extra                  99999 non-null  float64\n",
            " 14  mta_tax                99999 non-null  float64\n",
            " 15  tip_amount             99999 non-null  float64\n",
            " 16  tolls_amount           99999 non-null  float64\n",
            " 17  improvement_surcharge  99999 non-null  float64\n",
            " 18  total_amount           99999 non-null  float64\n",
            "dtypes: float64(12), int64(4), object(3)\n",
            "memory usage: 14.5+ MB\n"
          ],
          "name": "stdout"
        }
      ]
    },
    {
      "cell_type": "markdown",
      "metadata": {
        "id": "3B_INU69Wbte",
        "colab_type": "text"
      },
      "source": [
        "# **Problem Formualtion**\n",
        "\n",
        "---\n",
        "\n"
      ]
    },
    {
      "cell_type": "markdown",
      "metadata": {
        "id": "wcteqHA2WghX",
        "colab_type": "text"
      },
      "source": [
        "Given a region and a 10 min interval, we have to predict pickups.\n",
        "\n",
        "\n",
        "*  How to break up the NYC into regions?\n",
        "*  Every region of NYC has to be broken up into 10 min interval.\n",
        "\n",
        "We already know, about the pickup at time ‘t’, we will predict the pickup at time ‘t+1’ in the same region.\n",
        "\n"
      ]
    },
    {
      "cell_type": "markdown",
      "metadata": {
        "id": "iiyzjCznauqe",
        "colab_type": "text"
      },
      "source": [
        "# **Features in Dataset:** \n",
        "\n",
        "---\n",
        "Field Name | \tDescription\n",
        "--- | ---\n",
        "**VendorID** | A code indicating the TPEP provider that provided the record. \n",
        "             | 1= Creative Mobile Technologies, LLC; 2= VeriFone Inc\n",
        "**tpep_pickup_datetime** | The date and time when the meter was engaged. \n",
        "**tpep_dropoff_datetime**| The date and time when the meter was disengaged. \n",
        "**Passenger_count** | The number of passengers in the vehicle. This is a driver-entered value\n",
        "**Trip_distance**  | The elapsed trip distance in miles reported by the taximeter.\n",
        "**PULocationID** | TLC Taxi Zone in which the taximeter was engaged\n",
        "**DOLocationID** | TLC Taxi Zone in which the taximeter was disengaged\n",
        "**RateCodeID** | The final rate code in effect at the end of the trip.\n",
        "**Store_and_fwd_flag** | This flag indicates whether the trip record was held in  vehicle memory before sending to the vendor,\n",
        "| because the vehicle did not have a connection to the server.\n",
        "**Payment_type** | A numeric code signifying how the passenger paid for the trip. \n",
        "**Fare_amount** | The time-and-distance fare calculated by the meter.\n",
        "**Extra** | Miscellaneous extras and surcharges. Currently, this only includes\n",
        "      |the $0.50  and  $1 rush hour and overnight charges. \n",
        "**Improvement_surcharge** |$0.30 improvement surcharge assessed trips at the flag drop. The improvement surcharge began being levied in 2015.\n",
        "**Tip_amount** |Tip amount – This field is automatically populated for credit card tips.Cash tips are not included.\n",
        "**Tolls_amount** |Total amount of all tolls paid in trip.\n",
        "**Total_amount** |The total amount charged to passengers. Does not include cash tips.\n",
        "**MTA_Tax** | 50 cent MTA tax that is automatically triggered based on the metered rate in use.\n",
        "\n",
        "\n"
      ]
    },
    {
      "cell_type": "markdown",
      "metadata": {
        "id": "h6_UnE_mO2vV",
        "colab_type": "text"
      },
      "source": [
        "## **DATA CLEANING**\n",
        "As a process of Data Cleaning and univariate analysis of the data, all errorneous and outlier points will be removed. Some of them listed below,\n",
        "\n",
        "\n",
        "\n",
        "1.   **Checking Uniqueness of Vendor_ID.**\n",
        "2.   **Checking if drop off time is earlier than pick up time.**\n",
        "\n",
        "1.   **Checking if passenger_count is less than 0.**\n",
        "2.   **Checking if Trip distance is less than 0.1 miles.**\n",
        "\n",
        "1.   **Checking if Payment type is invalid.**\n",
        "2.   **Checking if Latitute and Longtitude fall within NYC.**\n",
        "\n",
        "\n",
        "\n",
        "\n",
        "\n"
      ]
    },
    {
      "cell_type": "code",
      "metadata": {
        "id": "qE3cE-GK2wW_",
        "colab_type": "code",
        "outputId": "57075b3f-764f-4ddd-b61e-49eb2aeda362",
        "colab": {
          "base_uri": "https://localhost:8080/",
          "height": 357
        }
      },
      "source": [
        "df.isnull().sum()\n"
      ],
      "execution_count": 50,
      "outputs": [
        {
          "output_type": "execute_result",
          "data": {
            "text/plain": [
              "VendorID                 0\n",
              "tpep_pickup_datetime     0\n",
              "tpep_dropoff_datetime    0\n",
              "passenger_count          0\n",
              "trip_distance            0\n",
              "pickup_longitude         0\n",
              "pickup_latitude          0\n",
              "RatecodeID               0\n",
              "store_and_fwd_flag       0\n",
              "dropoff_longitude        0\n",
              "dropoff_latitude         0\n",
              "payment_type             0\n",
              "fare_amount              0\n",
              "extra                    0\n",
              "mta_tax                  0\n",
              "tip_amount               0\n",
              "tolls_amount             0\n",
              "improvement_surcharge    0\n",
              "total_amount             0\n",
              "dtype: int64"
            ]
          },
          "metadata": {
            "tags": []
          },
          "execution_count": 50
        }
      ]
    },
    {
      "cell_type": "markdown",
      "metadata": {
        "id": "UK_lol6Ff7Ud",
        "colab_type": "text"
      },
      "source": [
        "#### **Dropping NA**"
      ]
    },
    {
      "cell_type": "code",
      "metadata": {
        "id": "raHZ3q4KLpYW",
        "colab_type": "code",
        "colab": {}
      },
      "source": [
        "df=df.dropna()\n"
      ],
      "execution_count": 0,
      "outputs": []
    },
    {
      "cell_type": "markdown",
      "metadata": {
        "id": "2ZnswHOTgBRf",
        "colab_type": "text"
      },
      "source": [
        "#### **Deleting unnecessary columns**"
      ]
    },
    {
      "cell_type": "code",
      "metadata": {
        "id": "rURFevEq5Wmk",
        "colab_type": "code",
        "colab": {}
      },
      "source": [
        "del df['RatecodeID']"
      ],
      "execution_count": 0,
      "outputs": []
    },
    {
      "cell_type": "code",
      "metadata": {
        "id": "-dQWRbj3LpYY",
        "colab_type": "code",
        "colab": {}
      },
      "source": [
        "del df ['store_and_fwd_flag']"
      ],
      "execution_count": 0,
      "outputs": []
    },
    {
      "cell_type": "code",
      "metadata": {
        "id": "0VSgpNwRLpYd",
        "colab_type": "code",
        "colab": {}
      },
      "source": [
        "df.drop(df[df.trip_distance ==0.00].index, inplace=True)"
      ],
      "execution_count": 0,
      "outputs": []
    },
    {
      "cell_type": "code",
      "metadata": {
        "id": "cdmdoNTzLpYf",
        "colab_type": "code",
        "outputId": "0263d922-1731-459b-c36a-79fb07194be3",
        "colab": {
          "base_uri": "https://localhost:8080/",
          "height": 439
        }
      },
      "source": [
        "df"
      ],
      "execution_count": 55,
      "outputs": [
        {
          "output_type": "execute_result",
          "data": {
            "text/html": [
              "<div>\n",
              "<style scoped>\n",
              "    .dataframe tbody tr th:only-of-type {\n",
              "        vertical-align: middle;\n",
              "    }\n",
              "\n",
              "    .dataframe tbody tr th {\n",
              "        vertical-align: top;\n",
              "    }\n",
              "\n",
              "    .dataframe thead th {\n",
              "        text-align: right;\n",
              "    }\n",
              "</style>\n",
              "<table border=\"1\" class=\"dataframe\">\n",
              "  <thead>\n",
              "    <tr style=\"text-align: right;\">\n",
              "      <th></th>\n",
              "      <th>VendorID</th>\n",
              "      <th>tpep_pickup_datetime</th>\n",
              "      <th>tpep_dropoff_datetime</th>\n",
              "      <th>passenger_count</th>\n",
              "      <th>trip_distance</th>\n",
              "      <th>pickup_longitude</th>\n",
              "      <th>pickup_latitude</th>\n",
              "      <th>dropoff_longitude</th>\n",
              "      <th>dropoff_latitude</th>\n",
              "      <th>payment_type</th>\n",
              "      <th>fare_amount</th>\n",
              "      <th>extra</th>\n",
              "      <th>mta_tax</th>\n",
              "      <th>tip_amount</th>\n",
              "      <th>tolls_amount</th>\n",
              "      <th>improvement_surcharge</th>\n",
              "      <th>total_amount</th>\n",
              "    </tr>\n",
              "  </thead>\n",
              "  <tbody>\n",
              "    <tr>\n",
              "      <th>0</th>\n",
              "      <td>1</td>\n",
              "      <td>2015-10-01 00:00:00</td>\n",
              "      <td>2015-10-01 00:05:48</td>\n",
              "      <td>1</td>\n",
              "      <td>1.10</td>\n",
              "      <td>-73.935516</td>\n",
              "      <td>40.761238</td>\n",
              "      <td>-73.944351</td>\n",
              "      <td>40.754578</td>\n",
              "      <td>2</td>\n",
              "      <td>6.00</td>\n",
              "      <td>0.5</td>\n",
              "      <td>0.5</td>\n",
              "      <td>0.00</td>\n",
              "      <td>0.0</td>\n",
              "      <td>0.3</td>\n",
              "      <td>7.30</td>\n",
              "    </tr>\n",
              "    <tr>\n",
              "      <th>1</th>\n",
              "      <td>2</td>\n",
              "      <td>2015-10-01 00:00:00</td>\n",
              "      <td>2015-10-01 00:00:00</td>\n",
              "      <td>1</td>\n",
              "      <td>7.68</td>\n",
              "      <td>-73.989937</td>\n",
              "      <td>40.743439</td>\n",
              "      <td>-73.986687</td>\n",
              "      <td>40.689129</td>\n",
              "      <td>2</td>\n",
              "      <td>27.50</td>\n",
              "      <td>0.0</td>\n",
              "      <td>0.5</td>\n",
              "      <td>0.00</td>\n",
              "      <td>0.0</td>\n",
              "      <td>0.3</td>\n",
              "      <td>28.30</td>\n",
              "    </tr>\n",
              "    <tr>\n",
              "      <th>2</th>\n",
              "      <td>2</td>\n",
              "      <td>2015-10-01 00:00:00</td>\n",
              "      <td>2015-10-01 00:00:00</td>\n",
              "      <td>2</td>\n",
              "      <td>2.53</td>\n",
              "      <td>-73.987328</td>\n",
              "      <td>40.720020</td>\n",
              "      <td>-73.999084</td>\n",
              "      <td>40.744381</td>\n",
              "      <td>1</td>\n",
              "      <td>12.50</td>\n",
              "      <td>0.0</td>\n",
              "      <td>0.5</td>\n",
              "      <td>2.00</td>\n",
              "      <td>0.0</td>\n",
              "      <td>0.3</td>\n",
              "      <td>15.30</td>\n",
              "    </tr>\n",
              "    <tr>\n",
              "      <th>3</th>\n",
              "      <td>2</td>\n",
              "      <td>2015-10-01 00:00:00</td>\n",
              "      <td>2015-10-01 00:00:00</td>\n",
              "      <td>0</td>\n",
              "      <td>1.20</td>\n",
              "      <td>-73.953758</td>\n",
              "      <td>40.743385</td>\n",
              "      <td>-73.930008</td>\n",
              "      <td>40.736622</td>\n",
              "      <td>2</td>\n",
              "      <td>25.26</td>\n",
              "      <td>0.0</td>\n",
              "      <td>0.5</td>\n",
              "      <td>0.00</td>\n",
              "      <td>0.0</td>\n",
              "      <td>0.3</td>\n",
              "      <td>26.06</td>\n",
              "    </tr>\n",
              "    <tr>\n",
              "      <th>4</th>\n",
              "      <td>1</td>\n",
              "      <td>2015-10-01 00:00:01</td>\n",
              "      <td>2015-10-01 00:16:19</td>\n",
              "      <td>1</td>\n",
              "      <td>3.80</td>\n",
              "      <td>-73.984016</td>\n",
              "      <td>40.755222</td>\n",
              "      <td>-73.959869</td>\n",
              "      <td>40.801323</td>\n",
              "      <td>1</td>\n",
              "      <td>15.50</td>\n",
              "      <td>0.5</td>\n",
              "      <td>0.5</td>\n",
              "      <td>3.00</td>\n",
              "      <td>0.0</td>\n",
              "      <td>0.3</td>\n",
              "      <td>19.80</td>\n",
              "    </tr>\n",
              "    <tr>\n",
              "      <th>...</th>\n",
              "      <td>...</td>\n",
              "      <td>...</td>\n",
              "      <td>...</td>\n",
              "      <td>...</td>\n",
              "      <td>...</td>\n",
              "      <td>...</td>\n",
              "      <td>...</td>\n",
              "      <td>...</td>\n",
              "      <td>...</td>\n",
              "      <td>...</td>\n",
              "      <td>...</td>\n",
              "      <td>...</td>\n",
              "      <td>...</td>\n",
              "      <td>...</td>\n",
              "      <td>...</td>\n",
              "      <td>...</td>\n",
              "      <td>...</td>\n",
              "    </tr>\n",
              "    <tr>\n",
              "      <th>99994</th>\n",
              "      <td>2</td>\n",
              "      <td>2015-10-01 09:33:05</td>\n",
              "      <td>2015-10-01 09:55:19</td>\n",
              "      <td>1</td>\n",
              "      <td>5.00</td>\n",
              "      <td>-73.960625</td>\n",
              "      <td>40.761410</td>\n",
              "      <td>-74.002640</td>\n",
              "      <td>40.728294</td>\n",
              "      <td>1</td>\n",
              "      <td>20.50</td>\n",
              "      <td>0.0</td>\n",
              "      <td>0.5</td>\n",
              "      <td>4.26</td>\n",
              "      <td>0.0</td>\n",
              "      <td>0.3</td>\n",
              "      <td>25.56</td>\n",
              "    </tr>\n",
              "    <tr>\n",
              "      <th>99995</th>\n",
              "      <td>1</td>\n",
              "      <td>2015-10-01 09:33:06</td>\n",
              "      <td>2015-10-01 09:46:03</td>\n",
              "      <td>1</td>\n",
              "      <td>1.00</td>\n",
              "      <td>-74.008865</td>\n",
              "      <td>40.715946</td>\n",
              "      <td>-73.997917</td>\n",
              "      <td>40.720467</td>\n",
              "      <td>1</td>\n",
              "      <td>9.00</td>\n",
              "      <td>0.0</td>\n",
              "      <td>0.5</td>\n",
              "      <td>2.90</td>\n",
              "      <td>0.0</td>\n",
              "      <td>0.3</td>\n",
              "      <td>12.70</td>\n",
              "    </tr>\n",
              "    <tr>\n",
              "      <th>99996</th>\n",
              "      <td>1</td>\n",
              "      <td>2015-10-01 09:33:06</td>\n",
              "      <td>2015-10-01 09:57:39</td>\n",
              "      <td>1</td>\n",
              "      <td>2.60</td>\n",
              "      <td>-73.981049</td>\n",
              "      <td>40.729874</td>\n",
              "      <td>-73.991631</td>\n",
              "      <td>40.754829</td>\n",
              "      <td>1</td>\n",
              "      <td>16.00</td>\n",
              "      <td>0.0</td>\n",
              "      <td>0.5</td>\n",
              "      <td>3.36</td>\n",
              "      <td>0.0</td>\n",
              "      <td>0.3</td>\n",
              "      <td>20.16</td>\n",
              "    </tr>\n",
              "    <tr>\n",
              "      <th>99997</th>\n",
              "      <td>2</td>\n",
              "      <td>2015-10-01 09:33:06</td>\n",
              "      <td>2015-10-01 09:52:57</td>\n",
              "      <td>5</td>\n",
              "      <td>0.99</td>\n",
              "      <td>-73.975304</td>\n",
              "      <td>40.759300</td>\n",
              "      <td>-73.964859</td>\n",
              "      <td>40.769749</td>\n",
              "      <td>1</td>\n",
              "      <td>13.00</td>\n",
              "      <td>0.0</td>\n",
              "      <td>0.5</td>\n",
              "      <td>2.76</td>\n",
              "      <td>0.0</td>\n",
              "      <td>0.3</td>\n",
              "      <td>16.56</td>\n",
              "    </tr>\n",
              "    <tr>\n",
              "      <th>99998</th>\n",
              "      <td>1</td>\n",
              "      <td>2015-10-01 09:33:07</td>\n",
              "      <td>2015-10-01 09:43:19</td>\n",
              "      <td>2</td>\n",
              "      <td>0.90</td>\n",
              "      <td>-73.999954</td>\n",
              "      <td>40.720490</td>\n",
              "      <td>-74.009132</td>\n",
              "      <td>40.710724</td>\n",
              "      <td>2</td>\n",
              "      <td>8.00</td>\n",
              "      <td>0.0</td>\n",
              "      <td>0.5</td>\n",
              "      <td>0.00</td>\n",
              "      <td>0.0</td>\n",
              "      <td>0.3</td>\n",
              "      <td>8.80</td>\n",
              "    </tr>\n",
              "  </tbody>\n",
              "</table>\n",
              "<p>99174 rows × 17 columns</p>\n",
              "</div>"
            ],
            "text/plain": [
              "       VendorID tpep_pickup_datetime  ... improvement_surcharge  total_amount\n",
              "0             1  2015-10-01 00:00:00  ...                   0.3          7.30\n",
              "1             2  2015-10-01 00:00:00  ...                   0.3         28.30\n",
              "2             2  2015-10-01 00:00:00  ...                   0.3         15.30\n",
              "3             2  2015-10-01 00:00:00  ...                   0.3         26.06\n",
              "4             1  2015-10-01 00:00:01  ...                   0.3         19.80\n",
              "...         ...                  ...  ...                   ...           ...\n",
              "99994         2  2015-10-01 09:33:05  ...                   0.3         25.56\n",
              "99995         1  2015-10-01 09:33:06  ...                   0.3         12.70\n",
              "99996         1  2015-10-01 09:33:06  ...                   0.3         20.16\n",
              "99997         2  2015-10-01 09:33:06  ...                   0.3         16.56\n",
              "99998         1  2015-10-01 09:33:07  ...                   0.3          8.80\n",
              "\n",
              "[99174 rows x 17 columns]"
            ]
          },
          "metadata": {
            "tags": []
          },
          "execution_count": 55
        }
      ]
    },
    {
      "cell_type": "markdown",
      "metadata": {
        "id": "-knQd2IK3fZv",
        "colab_type": "text"
      },
      "source": [
        "### **1. Checking uniqueness of ID**"
      ]
    },
    {
      "cell_type": "code",
      "metadata": {
        "id": "tWHnkd4r3azW",
        "colab_type": "code",
        "outputId": "e53efff5-ad58-4e90-a717-3ced4200d5e9",
        "colab": {
          "base_uri": "https://localhost:8080/",
          "height": 68
        }
      },
      "source": [
        "print(\"Number of ids in the train dataset: \", len(df[\"VendorID\"]))\n",
        "print(\"Number of unique ids in the train dataset: \", len(pd.unique(df[\"VendorID\"])), \"\\n\")"
      ],
      "execution_count": 56,
      "outputs": [
        {
          "output_type": "stream",
          "text": [
            "Number of ids in the train dataset:  99174\n",
            "Number of unique ids in the train dataset:  2 \n",
            "\n"
          ],
          "name": "stdout"
        }
      ]
    },
    {
      "cell_type": "markdown",
      "metadata": {
        "id": "vmsL4St84erc",
        "colab_type": "text"
      },
      "source": [
        "**OBSERVATION:**\n",
        "\n",
        "Vendor_ID takes on only two values , 1 or 2. If the hypothesis is right and the values in the Vendor_ID column represent the data from two different taxi companies. "
      ]
    },
    {
      "cell_type": "markdown",
      "metadata": {
        "id": "PlF7tuqX5pkV",
        "colab_type": "text"
      },
      "source": [
        "### **2.Checking if drop off time is earlier than pick up time**"
      ]
    },
    {
      "cell_type": "code",
      "metadata": {
        "id": "I0Bn37Ll5yl3",
        "colab_type": "code",
        "outputId": "6e71ea73-3188-421d-8620-f5a7a71b2268",
        "colab": {
          "base_uri": "https://localhost:8080/",
          "height": 170
        }
      },
      "source": [
        "df[\"tpep_pickup_datetime\"] = pd.to_datetime(df[\"tpep_pickup_datetime\"])\n",
        "df[\"tpep_dropoff_datetime\"] = pd.to_datetime(df[\"tpep_dropoff_datetime\"])\n",
        "(df[\"tpep_dropoff_datetime\"] - df[\"tpep_pickup_datetime\"]).describe()"
      ],
      "execution_count": 57,
      "outputs": [
        {
          "output_type": "execute_result",
          "data": {
            "text/plain": [
              "count                     99174\n",
              "mean     0 days 00:15:18.138715\n",
              "std      0 days 00:47:51.121904\n",
              "min           -1 days +23:58:44\n",
              "25%             0 days 00:06:21\n",
              "50%             0 days 00:10:43\n",
              "75%             0 days 00:17:34\n",
              "max             0 days 23:59:17\n",
              "dtype: object"
            ]
          },
          "metadata": {
            "tags": []
          },
          "execution_count": 57
        }
      ]
    },
    {
      "cell_type": "markdown",
      "metadata": {
        "id": "aiRUCFBPDBik",
        "colab_type": "text"
      },
      "source": [
        "#### **Removing rows where dropoff time is earlier than pickup time**"
      ]
    },
    {
      "cell_type": "code",
      "metadata": {
        "id": "LMs0kEEM68S2",
        "colab_type": "code",
        "outputId": "c35dad0d-1258-46d6-a426-1b5b0263db7a",
        "colab": {
          "base_uri": "https://localhost:8080/",
          "height": 439
        }
      },
      "source": [
        "import numpy as np\n",
        "\n",
        "df=df[(df[\"tpep_dropoff_datetime\"] - df[\"tpep_pickup_datetime\"]) /np.timedelta64(1, 'D') > 0.0]\n",
        "df"
      ],
      "execution_count": 58,
      "outputs": [
        {
          "output_type": "execute_result",
          "data": {
            "text/html": [
              "<div>\n",
              "<style scoped>\n",
              "    .dataframe tbody tr th:only-of-type {\n",
              "        vertical-align: middle;\n",
              "    }\n",
              "\n",
              "    .dataframe tbody tr th {\n",
              "        vertical-align: top;\n",
              "    }\n",
              "\n",
              "    .dataframe thead th {\n",
              "        text-align: right;\n",
              "    }\n",
              "</style>\n",
              "<table border=\"1\" class=\"dataframe\">\n",
              "  <thead>\n",
              "    <tr style=\"text-align: right;\">\n",
              "      <th></th>\n",
              "      <th>VendorID</th>\n",
              "      <th>tpep_pickup_datetime</th>\n",
              "      <th>tpep_dropoff_datetime</th>\n",
              "      <th>passenger_count</th>\n",
              "      <th>trip_distance</th>\n",
              "      <th>pickup_longitude</th>\n",
              "      <th>pickup_latitude</th>\n",
              "      <th>dropoff_longitude</th>\n",
              "      <th>dropoff_latitude</th>\n",
              "      <th>payment_type</th>\n",
              "      <th>fare_amount</th>\n",
              "      <th>extra</th>\n",
              "      <th>mta_tax</th>\n",
              "      <th>tip_amount</th>\n",
              "      <th>tolls_amount</th>\n",
              "      <th>improvement_surcharge</th>\n",
              "      <th>total_amount</th>\n",
              "    </tr>\n",
              "  </thead>\n",
              "  <tbody>\n",
              "    <tr>\n",
              "      <th>0</th>\n",
              "      <td>1</td>\n",
              "      <td>2015-10-01 00:00:00</td>\n",
              "      <td>2015-10-01 00:05:48</td>\n",
              "      <td>1</td>\n",
              "      <td>1.10</td>\n",
              "      <td>-73.935516</td>\n",
              "      <td>40.761238</td>\n",
              "      <td>-73.944351</td>\n",
              "      <td>40.754578</td>\n",
              "      <td>2</td>\n",
              "      <td>6.0</td>\n",
              "      <td>0.5</td>\n",
              "      <td>0.5</td>\n",
              "      <td>0.00</td>\n",
              "      <td>0.0</td>\n",
              "      <td>0.3</td>\n",
              "      <td>7.30</td>\n",
              "    </tr>\n",
              "    <tr>\n",
              "      <th>4</th>\n",
              "      <td>1</td>\n",
              "      <td>2015-10-01 00:00:01</td>\n",
              "      <td>2015-10-01 00:16:19</td>\n",
              "      <td>1</td>\n",
              "      <td>3.80</td>\n",
              "      <td>-73.984016</td>\n",
              "      <td>40.755222</td>\n",
              "      <td>-73.959869</td>\n",
              "      <td>40.801323</td>\n",
              "      <td>1</td>\n",
              "      <td>15.5</td>\n",
              "      <td>0.5</td>\n",
              "      <td>0.5</td>\n",
              "      <td>3.00</td>\n",
              "      <td>0.0</td>\n",
              "      <td>0.3</td>\n",
              "      <td>19.80</td>\n",
              "    </tr>\n",
              "    <tr>\n",
              "      <th>5</th>\n",
              "      <td>1</td>\n",
              "      <td>2015-10-01 00:00:01</td>\n",
              "      <td>2015-10-01 00:13:41</td>\n",
              "      <td>1</td>\n",
              "      <td>3.10</td>\n",
              "      <td>-73.975296</td>\n",
              "      <td>40.751396</td>\n",
              "      <td>-73.970924</td>\n",
              "      <td>40.785984</td>\n",
              "      <td>1</td>\n",
              "      <td>12.5</td>\n",
              "      <td>0.5</td>\n",
              "      <td>0.5</td>\n",
              "      <td>1.00</td>\n",
              "      <td>0.0</td>\n",
              "      <td>0.3</td>\n",
              "      <td>14.80</td>\n",
              "    </tr>\n",
              "    <tr>\n",
              "      <th>6</th>\n",
              "      <td>1</td>\n",
              "      <td>2015-10-01 00:00:01</td>\n",
              "      <td>2015-10-01 00:21:23</td>\n",
              "      <td>1</td>\n",
              "      <td>4.50</td>\n",
              "      <td>-73.997078</td>\n",
              "      <td>40.722290</td>\n",
              "      <td>-73.960472</td>\n",
              "      <td>40.761517</td>\n",
              "      <td>2</td>\n",
              "      <td>16.5</td>\n",
              "      <td>0.5</td>\n",
              "      <td>0.5</td>\n",
              "      <td>0.00</td>\n",
              "      <td>0.0</td>\n",
              "      <td>0.3</td>\n",
              "      <td>17.80</td>\n",
              "    </tr>\n",
              "    <tr>\n",
              "      <th>7</th>\n",
              "      <td>2</td>\n",
              "      <td>2015-10-01 00:00:01</td>\n",
              "      <td>2015-10-01 00:05:50</td>\n",
              "      <td>1</td>\n",
              "      <td>0.84</td>\n",
              "      <td>-73.998711</td>\n",
              "      <td>40.734756</td>\n",
              "      <td>-74.003082</td>\n",
              "      <td>40.742546</td>\n",
              "      <td>1</td>\n",
              "      <td>6.0</td>\n",
              "      <td>0.5</td>\n",
              "      <td>0.5</td>\n",
              "      <td>0.70</td>\n",
              "      <td>0.0</td>\n",
              "      <td>0.3</td>\n",
              "      <td>8.00</td>\n",
              "    </tr>\n",
              "    <tr>\n",
              "      <th>...</th>\n",
              "      <td>...</td>\n",
              "      <td>...</td>\n",
              "      <td>...</td>\n",
              "      <td>...</td>\n",
              "      <td>...</td>\n",
              "      <td>...</td>\n",
              "      <td>...</td>\n",
              "      <td>...</td>\n",
              "      <td>...</td>\n",
              "      <td>...</td>\n",
              "      <td>...</td>\n",
              "      <td>...</td>\n",
              "      <td>...</td>\n",
              "      <td>...</td>\n",
              "      <td>...</td>\n",
              "      <td>...</td>\n",
              "      <td>...</td>\n",
              "    </tr>\n",
              "    <tr>\n",
              "      <th>99994</th>\n",
              "      <td>2</td>\n",
              "      <td>2015-10-01 09:33:05</td>\n",
              "      <td>2015-10-01 09:55:19</td>\n",
              "      <td>1</td>\n",
              "      <td>5.00</td>\n",
              "      <td>-73.960625</td>\n",
              "      <td>40.761410</td>\n",
              "      <td>-74.002640</td>\n",
              "      <td>40.728294</td>\n",
              "      <td>1</td>\n",
              "      <td>20.5</td>\n",
              "      <td>0.0</td>\n",
              "      <td>0.5</td>\n",
              "      <td>4.26</td>\n",
              "      <td>0.0</td>\n",
              "      <td>0.3</td>\n",
              "      <td>25.56</td>\n",
              "    </tr>\n",
              "    <tr>\n",
              "      <th>99995</th>\n",
              "      <td>1</td>\n",
              "      <td>2015-10-01 09:33:06</td>\n",
              "      <td>2015-10-01 09:46:03</td>\n",
              "      <td>1</td>\n",
              "      <td>1.00</td>\n",
              "      <td>-74.008865</td>\n",
              "      <td>40.715946</td>\n",
              "      <td>-73.997917</td>\n",
              "      <td>40.720467</td>\n",
              "      <td>1</td>\n",
              "      <td>9.0</td>\n",
              "      <td>0.0</td>\n",
              "      <td>0.5</td>\n",
              "      <td>2.90</td>\n",
              "      <td>0.0</td>\n",
              "      <td>0.3</td>\n",
              "      <td>12.70</td>\n",
              "    </tr>\n",
              "    <tr>\n",
              "      <th>99996</th>\n",
              "      <td>1</td>\n",
              "      <td>2015-10-01 09:33:06</td>\n",
              "      <td>2015-10-01 09:57:39</td>\n",
              "      <td>1</td>\n",
              "      <td>2.60</td>\n",
              "      <td>-73.981049</td>\n",
              "      <td>40.729874</td>\n",
              "      <td>-73.991631</td>\n",
              "      <td>40.754829</td>\n",
              "      <td>1</td>\n",
              "      <td>16.0</td>\n",
              "      <td>0.0</td>\n",
              "      <td>0.5</td>\n",
              "      <td>3.36</td>\n",
              "      <td>0.0</td>\n",
              "      <td>0.3</td>\n",
              "      <td>20.16</td>\n",
              "    </tr>\n",
              "    <tr>\n",
              "      <th>99997</th>\n",
              "      <td>2</td>\n",
              "      <td>2015-10-01 09:33:06</td>\n",
              "      <td>2015-10-01 09:52:57</td>\n",
              "      <td>5</td>\n",
              "      <td>0.99</td>\n",
              "      <td>-73.975304</td>\n",
              "      <td>40.759300</td>\n",
              "      <td>-73.964859</td>\n",
              "      <td>40.769749</td>\n",
              "      <td>1</td>\n",
              "      <td>13.0</td>\n",
              "      <td>0.0</td>\n",
              "      <td>0.5</td>\n",
              "      <td>2.76</td>\n",
              "      <td>0.0</td>\n",
              "      <td>0.3</td>\n",
              "      <td>16.56</td>\n",
              "    </tr>\n",
              "    <tr>\n",
              "      <th>99998</th>\n",
              "      <td>1</td>\n",
              "      <td>2015-10-01 09:33:07</td>\n",
              "      <td>2015-10-01 09:43:19</td>\n",
              "      <td>2</td>\n",
              "      <td>0.90</td>\n",
              "      <td>-73.999954</td>\n",
              "      <td>40.720490</td>\n",
              "      <td>-74.009132</td>\n",
              "      <td>40.710724</td>\n",
              "      <td>2</td>\n",
              "      <td>8.0</td>\n",
              "      <td>0.0</td>\n",
              "      <td>0.5</td>\n",
              "      <td>0.00</td>\n",
              "      <td>0.0</td>\n",
              "      <td>0.3</td>\n",
              "      <td>8.80</td>\n",
              "    </tr>\n",
              "  </tbody>\n",
              "</table>\n",
              "<p>99161 rows × 17 columns</p>\n",
              "</div>"
            ],
            "text/plain": [
              "       VendorID tpep_pickup_datetime  ... improvement_surcharge  total_amount\n",
              "0             1  2015-10-01 00:00:00  ...                   0.3          7.30\n",
              "4             1  2015-10-01 00:00:01  ...                   0.3         19.80\n",
              "5             1  2015-10-01 00:00:01  ...                   0.3         14.80\n",
              "6             1  2015-10-01 00:00:01  ...                   0.3         17.80\n",
              "7             2  2015-10-01 00:00:01  ...                   0.3          8.00\n",
              "...         ...                  ...  ...                   ...           ...\n",
              "99994         2  2015-10-01 09:33:05  ...                   0.3         25.56\n",
              "99995         1  2015-10-01 09:33:06  ...                   0.3         12.70\n",
              "99996         1  2015-10-01 09:33:06  ...                   0.3         20.16\n",
              "99997         2  2015-10-01 09:33:06  ...                   0.3         16.56\n",
              "99998         1  2015-10-01 09:33:07  ...                   0.3          8.80\n",
              "\n",
              "[99161 rows x 17 columns]"
            ]
          },
          "metadata": {
            "tags": []
          },
          "execution_count": 58
        }
      ]
    },
    {
      "cell_type": "markdown",
      "metadata": {
        "id": "yt3NEDwcDnrN",
        "colab_type": "text"
      },
      "source": [
        "### **3.Checking if passenger_count is less than 0**"
      ]
    },
    {
      "cell_type": "code",
      "metadata": {
        "id": "XqaLatyhBOc9",
        "colab_type": "code",
        "outputId": "4f74f047-14ff-4019-84dc-5f5d5eab57e8",
        "colab": {
          "base_uri": "https://localhost:8080/",
          "height": 170
        }
      },
      "source": [
        "df.passenger_count.describe()"
      ],
      "execution_count": 59,
      "outputs": [
        {
          "output_type": "execute_result",
          "data": {
            "text/plain": [
              "count    99161.000000\n",
              "mean         1.613195\n",
              "std          1.321662\n",
              "min          0.000000\n",
              "25%          1.000000\n",
              "50%          1.000000\n",
              "75%          1.000000\n",
              "max          6.000000\n",
              "Name: passenger_count, dtype: float64"
            ]
          },
          "metadata": {
            "tags": []
          },
          "execution_count": 59
        }
      ]
    },
    {
      "cell_type": "code",
      "metadata": {
        "id": "iSNiKtyPEGnV",
        "colab_type": "code",
        "outputId": "0694f6f2-bfdf-4f52-f82d-862f960c31c1",
        "colab": {
          "base_uri": "https://localhost:8080/",
          "height": 170
        }
      },
      "source": [
        "df=df[df.passenger_count >= 1]\n",
        "df.passenger_count.describe()"
      ],
      "execution_count": 60,
      "outputs": [
        {
          "output_type": "execute_result",
          "data": {
            "text/plain": [
              "count    99160.000000\n",
              "mean         1.613211\n",
              "std          1.321659\n",
              "min          1.000000\n",
              "25%          1.000000\n",
              "50%          1.000000\n",
              "75%          1.000000\n",
              "max          6.000000\n",
              "Name: passenger_count, dtype: float64"
            ]
          },
          "metadata": {
            "tags": []
          },
          "execution_count": 60
        }
      ]
    },
    {
      "cell_type": "markdown",
      "metadata": {
        "id": "pGzg3oVKEI6Y",
        "colab_type": "text"
      },
      "source": [
        "#### **OBSERVATION:**\n",
        "A trip cannot happen without passenger, therefore, removing rows with passenger_count < 1"
      ]
    },
    {
      "cell_type": "markdown",
      "metadata": {
        "id": "h3ANHIDRFnYH",
        "colab_type": "text"
      },
      "source": [
        "### **4. Checking if Trip distance is less than 0.1 miles.**"
      ]
    },
    {
      "cell_type": "code",
      "metadata": {
        "id": "H8NWDLRHFdiF",
        "colab_type": "code",
        "outputId": "bd43d29d-cd76-4e88-c39f-88ef1c6689f6",
        "colab": {
          "base_uri": "https://localhost:8080/",
          "height": 170
        }
      },
      "source": [
        "df.trip_distance.describe()"
      ],
      "execution_count": 61,
      "outputs": [
        {
          "output_type": "execute_result",
          "data": {
            "text/plain": [
              "count    99160.000000\n",
              "mean         3.098804\n",
              "std          3.825100\n",
              "min          0.010000\n",
              "25%          1.020000\n",
              "50%          1.800000\n",
              "75%          3.410000\n",
              "max        225.800000\n",
              "Name: trip_distance, dtype: float64"
            ]
          },
          "metadata": {
            "tags": []
          },
          "execution_count": 61
        }
      ]
    },
    {
      "cell_type": "code",
      "metadata": {
        "id": "y4tadzkMFlGo",
        "colab_type": "code",
        "outputId": "8d17b09c-c122-4dc8-9500-b7b91698f1e7",
        "colab": {
          "base_uri": "https://localhost:8080/",
          "height": 439
        }
      },
      "source": [
        "df[df.trip_distance==0.1]"
      ],
      "execution_count": 62,
      "outputs": [
        {
          "output_type": "execute_result",
          "data": {
            "text/html": [
              "<div>\n",
              "<style scoped>\n",
              "    .dataframe tbody tr th:only-of-type {\n",
              "        vertical-align: middle;\n",
              "    }\n",
              "\n",
              "    .dataframe tbody tr th {\n",
              "        vertical-align: top;\n",
              "    }\n",
              "\n",
              "    .dataframe thead th {\n",
              "        text-align: right;\n",
              "    }\n",
              "</style>\n",
              "<table border=\"1\" class=\"dataframe\">\n",
              "  <thead>\n",
              "    <tr style=\"text-align: right;\">\n",
              "      <th></th>\n",
              "      <th>VendorID</th>\n",
              "      <th>tpep_pickup_datetime</th>\n",
              "      <th>tpep_dropoff_datetime</th>\n",
              "      <th>passenger_count</th>\n",
              "      <th>trip_distance</th>\n",
              "      <th>pickup_longitude</th>\n",
              "      <th>pickup_latitude</th>\n",
              "      <th>dropoff_longitude</th>\n",
              "      <th>dropoff_latitude</th>\n",
              "      <th>payment_type</th>\n",
              "      <th>fare_amount</th>\n",
              "      <th>extra</th>\n",
              "      <th>mta_tax</th>\n",
              "      <th>tip_amount</th>\n",
              "      <th>tolls_amount</th>\n",
              "      <th>improvement_surcharge</th>\n",
              "      <th>total_amount</th>\n",
              "    </tr>\n",
              "  </thead>\n",
              "  <tbody>\n",
              "    <tr>\n",
              "      <th>912</th>\n",
              "      <td>1</td>\n",
              "      <td>2015-10-14 10:25:52</td>\n",
              "      <td>2015-10-14 10:33:07</td>\n",
              "      <td>1</td>\n",
              "      <td>0.1</td>\n",
              "      <td>-73.979515</td>\n",
              "      <td>40.743816</td>\n",
              "      <td>-73.977898</td>\n",
              "      <td>40.746399</td>\n",
              "      <td>1</td>\n",
              "      <td>6.0</td>\n",
              "      <td>0.0</td>\n",
              "      <td>0.5</td>\n",
              "      <td>0.00</td>\n",
              "      <td>0.00</td>\n",
              "      <td>0.3</td>\n",
              "      <td>6.80</td>\n",
              "    </tr>\n",
              "    <tr>\n",
              "      <th>1358</th>\n",
              "      <td>1</td>\n",
              "      <td>2015-10-14 10:27:19</td>\n",
              "      <td>2015-10-14 10:31:45</td>\n",
              "      <td>1</td>\n",
              "      <td>0.1</td>\n",
              "      <td>-73.976395</td>\n",
              "      <td>40.752182</td>\n",
              "      <td>-73.976395</td>\n",
              "      <td>40.752182</td>\n",
              "      <td>1</td>\n",
              "      <td>4.5</td>\n",
              "      <td>0.0</td>\n",
              "      <td>0.5</td>\n",
              "      <td>1.32</td>\n",
              "      <td>0.00</td>\n",
              "      <td>0.3</td>\n",
              "      <td>6.62</td>\n",
              "    </tr>\n",
              "    <tr>\n",
              "      <th>1684</th>\n",
              "      <td>1</td>\n",
              "      <td>2015-10-14 10:28:24</td>\n",
              "      <td>2015-10-14 10:29:10</td>\n",
              "      <td>1</td>\n",
              "      <td>0.1</td>\n",
              "      <td>-73.976013</td>\n",
              "      <td>40.791401</td>\n",
              "      <td>-73.975189</td>\n",
              "      <td>40.790958</td>\n",
              "      <td>2</td>\n",
              "      <td>2.5</td>\n",
              "      <td>0.0</td>\n",
              "      <td>0.5</td>\n",
              "      <td>0.00</td>\n",
              "      <td>0.00</td>\n",
              "      <td>0.3</td>\n",
              "      <td>3.30</td>\n",
              "    </tr>\n",
              "    <tr>\n",
              "      <th>1985</th>\n",
              "      <td>1</td>\n",
              "      <td>2015-10-14 10:29:27</td>\n",
              "      <td>2015-10-14 11:06:22</td>\n",
              "      <td>1</td>\n",
              "      <td>0.1</td>\n",
              "      <td>-73.888039</td>\n",
              "      <td>40.767563</td>\n",
              "      <td>-73.973091</td>\n",
              "      <td>40.757507</td>\n",
              "      <td>2</td>\n",
              "      <td>2.5</td>\n",
              "      <td>0.0</td>\n",
              "      <td>0.5</td>\n",
              "      <td>0.00</td>\n",
              "      <td>5.54</td>\n",
              "      <td>0.3</td>\n",
              "      <td>8.84</td>\n",
              "    </tr>\n",
              "    <tr>\n",
              "      <th>2434</th>\n",
              "      <td>1</td>\n",
              "      <td>2015-10-14 10:30:54</td>\n",
              "      <td>2015-10-14 10:32:25</td>\n",
              "      <td>4</td>\n",
              "      <td>0.1</td>\n",
              "      <td>-73.978043</td>\n",
              "      <td>40.752914</td>\n",
              "      <td>-73.977478</td>\n",
              "      <td>40.751820</td>\n",
              "      <td>1</td>\n",
              "      <td>3.0</td>\n",
              "      <td>0.0</td>\n",
              "      <td>0.5</td>\n",
              "      <td>0.75</td>\n",
              "      <td>0.00</td>\n",
              "      <td>0.3</td>\n",
              "      <td>4.55</td>\n",
              "    </tr>\n",
              "    <tr>\n",
              "      <th>...</th>\n",
              "      <td>...</td>\n",
              "      <td>...</td>\n",
              "      <td>...</td>\n",
              "      <td>...</td>\n",
              "      <td>...</td>\n",
              "      <td>...</td>\n",
              "      <td>...</td>\n",
              "      <td>...</td>\n",
              "      <td>...</td>\n",
              "      <td>...</td>\n",
              "      <td>...</td>\n",
              "      <td>...</td>\n",
              "      <td>...</td>\n",
              "      <td>...</td>\n",
              "      <td>...</td>\n",
              "      <td>...</td>\n",
              "      <td>...</td>\n",
              "    </tr>\n",
              "    <tr>\n",
              "      <th>95590</th>\n",
              "      <td>1</td>\n",
              "      <td>2015-10-01 09:19:49</td>\n",
              "      <td>2015-10-01 09:25:31</td>\n",
              "      <td>1</td>\n",
              "      <td>0.1</td>\n",
              "      <td>-73.951530</td>\n",
              "      <td>40.791168</td>\n",
              "      <td>-73.953491</td>\n",
              "      <td>40.791164</td>\n",
              "      <td>2</td>\n",
              "      <td>5.0</td>\n",
              "      <td>0.0</td>\n",
              "      <td>0.5</td>\n",
              "      <td>0.00</td>\n",
              "      <td>0.00</td>\n",
              "      <td>0.3</td>\n",
              "      <td>5.80</td>\n",
              "    </tr>\n",
              "    <tr>\n",
              "      <th>96738</th>\n",
              "      <td>2</td>\n",
              "      <td>2015-10-01 09:23:11</td>\n",
              "      <td>2015-10-01 09:23:58</td>\n",
              "      <td>1</td>\n",
              "      <td>0.1</td>\n",
              "      <td>-74.004303</td>\n",
              "      <td>40.707561</td>\n",
              "      <td>-74.002876</td>\n",
              "      <td>40.708431</td>\n",
              "      <td>2</td>\n",
              "      <td>2.5</td>\n",
              "      <td>0.0</td>\n",
              "      <td>0.5</td>\n",
              "      <td>0.00</td>\n",
              "      <td>0.00</td>\n",
              "      <td>0.3</td>\n",
              "      <td>3.30</td>\n",
              "    </tr>\n",
              "    <tr>\n",
              "      <th>97043</th>\n",
              "      <td>1</td>\n",
              "      <td>2015-10-01 09:24:01</td>\n",
              "      <td>2015-10-01 09:25:13</td>\n",
              "      <td>1</td>\n",
              "      <td>0.1</td>\n",
              "      <td>-73.976715</td>\n",
              "      <td>40.759525</td>\n",
              "      <td>-73.977608</td>\n",
              "      <td>40.758144</td>\n",
              "      <td>2</td>\n",
              "      <td>3.0</td>\n",
              "      <td>0.0</td>\n",
              "      <td>0.5</td>\n",
              "      <td>0.00</td>\n",
              "      <td>0.00</td>\n",
              "      <td>0.3</td>\n",
              "      <td>3.80</td>\n",
              "    </tr>\n",
              "    <tr>\n",
              "      <th>97280</th>\n",
              "      <td>1</td>\n",
              "      <td>2015-10-01 09:24:44</td>\n",
              "      <td>2015-10-01 09:28:56</td>\n",
              "      <td>1</td>\n",
              "      <td>0.1</td>\n",
              "      <td>-73.977715</td>\n",
              "      <td>40.764503</td>\n",
              "      <td>-73.974709</td>\n",
              "      <td>40.763504</td>\n",
              "      <td>1</td>\n",
              "      <td>4.5</td>\n",
              "      <td>0.0</td>\n",
              "      <td>0.5</td>\n",
              "      <td>1.05</td>\n",
              "      <td>0.00</td>\n",
              "      <td>0.3</td>\n",
              "      <td>6.35</td>\n",
              "    </tr>\n",
              "    <tr>\n",
              "      <th>97537</th>\n",
              "      <td>1</td>\n",
              "      <td>2015-10-01 09:25:33</td>\n",
              "      <td>2015-10-01 09:26:15</td>\n",
              "      <td>1</td>\n",
              "      <td>0.1</td>\n",
              "      <td>0.000000</td>\n",
              "      <td>0.000000</td>\n",
              "      <td>0.000000</td>\n",
              "      <td>0.000000</td>\n",
              "      <td>2</td>\n",
              "      <td>2.5</td>\n",
              "      <td>0.0</td>\n",
              "      <td>0.5</td>\n",
              "      <td>0.00</td>\n",
              "      <td>0.00</td>\n",
              "      <td>0.3</td>\n",
              "      <td>3.30</td>\n",
              "    </tr>\n",
              "  </tbody>\n",
              "</table>\n",
              "<p>121 rows × 17 columns</p>\n",
              "</div>"
            ],
            "text/plain": [
              "       VendorID tpep_pickup_datetime  ... improvement_surcharge  total_amount\n",
              "912           1  2015-10-14 10:25:52  ...                   0.3          6.80\n",
              "1358          1  2015-10-14 10:27:19  ...                   0.3          6.62\n",
              "1684          1  2015-10-14 10:28:24  ...                   0.3          3.30\n",
              "1985          1  2015-10-14 10:29:27  ...                   0.3          8.84\n",
              "2434          1  2015-10-14 10:30:54  ...                   0.3          4.55\n",
              "...         ...                  ...  ...                   ...           ...\n",
              "95590         1  2015-10-01 09:19:49  ...                   0.3          5.80\n",
              "96738         2  2015-10-01 09:23:11  ...                   0.3          3.30\n",
              "97043         1  2015-10-01 09:24:01  ...                   0.3          3.80\n",
              "97280         1  2015-10-01 09:24:44  ...                   0.3          6.35\n",
              "97537         1  2015-10-01 09:25:33  ...                   0.3          3.30\n",
              "\n",
              "[121 rows x 17 columns]"
            ]
          },
          "metadata": {
            "tags": []
          },
          "execution_count": 62
        }
      ]
    },
    {
      "cell_type": "code",
      "metadata": {
        "id": "GA6Ob3TLF5l9",
        "colab_type": "code",
        "outputId": "72956968-ba38-44e9-d82e-fd3764ca2d46",
        "colab": {
          "base_uri": "https://localhost:8080/",
          "height": 170
        }
      },
      "source": [
        "df=df[df.trip_distance >= 0.1]\n",
        "df.trip_distance.describe()"
      ],
      "execution_count": 63,
      "outputs": [
        {
          "output_type": "execute_result",
          "data": {
            "text/plain": [
              "count    99021.000000\n",
              "mean         3.103100\n",
              "std          3.826064\n",
              "min          0.100000\n",
              "25%          1.030000\n",
              "50%          1.800000\n",
              "75%          3.420000\n",
              "max        225.800000\n",
              "Name: trip_distance, dtype: float64"
            ]
          },
          "metadata": {
            "tags": []
          },
          "execution_count": 63
        }
      ]
    },
    {
      "cell_type": "markdown",
      "metadata": {
        "id": "qF7epCxHKCLB",
        "colab_type": "text"
      },
      "source": [
        "**OBSERVATION:**\n",
        "Trip distance cannot be less than 0.1 miles ( 0.1 miles as considering a passenger might hops in to a taxi but hops off due to traffic). Thus removing all such rows "
      ]
    },
    {
      "cell_type": "markdown",
      "metadata": {
        "id": "lVjw7mPBKspP",
        "colab_type": "text"
      },
      "source": [
        "### **5.Checking if Payment type is invalid.**"
      ]
    },
    {
      "cell_type": "code",
      "metadata": {
        "id": "pc1zAD5KKYRy",
        "colab_type": "code",
        "outputId": "5900d397-c34a-4200-ea63-84d4020122e0",
        "colab": {
          "base_uri": "https://localhost:8080/",
          "height": 170
        }
      },
      "source": [
        "df.payment_type.describe()"
      ],
      "execution_count": 64,
      "outputs": [
        {
          "output_type": "execute_result",
          "data": {
            "text/plain": [
              "count    99021.000000\n",
              "mean         1.328163\n",
              "std          0.481902\n",
              "min          1.000000\n",
              "25%          1.000000\n",
              "50%          1.000000\n",
              "75%          2.000000\n",
              "max          4.000000\n",
              "Name: payment_type, dtype: float64"
            ]
          },
          "metadata": {
            "tags": []
          },
          "execution_count": 64
        }
      ]
    },
    {
      "cell_type": "markdown",
      "metadata": {
        "id": "R8Z9sFBpKnTb",
        "colab_type": "text"
      },
      "source": [
        "**Description:**\n",
        "\n",
        "Payment types: \n",
        "\n",
        "A numeric code signifying how the passenger paid for the trip.\n",
        "\n",
        "1= Credit card\n",
        "\n",
        "2= Cash\n",
        "\n",
        "3= No charge\n",
        "\n",
        "4= Dispute"
      ]
    },
    {
      "cell_type": "code",
      "metadata": {
        "id": "iCeSqFa9QIwg",
        "colab_type": "code",
        "colab": {}
      },
      "source": [
        ""
      ],
      "execution_count": 0,
      "outputs": []
    },
    {
      "cell_type": "markdown",
      "metadata": {
        "id": "vam2_kyTLIpx",
        "colab_type": "text"
      },
      "source": [
        "### **6. Checking if Latitute and Longtitude fall within NYC** "
      ]
    },
    {
      "cell_type": "markdown",
      "metadata": {
        "id": "Lwhud3vDQFFX",
        "colab_type": "text"
      },
      "source": [
        "### **PICKUP:**\n",
        "\n"
      ]
    },
    {
      "cell_type": "code",
      "metadata": {
        "id": "7U5WFtGEL0kB",
        "colab_type": "code",
        "outputId": "a19467cd-347e-4f67-9728-b27d5bfbc78a",
        "colab": {
          "base_uri": "https://localhost:8080/",
          "height": 439
        }
      },
      "source": [
        "#detecting the pickups latitude and longitudes which are outside NYC.\n",
        "out_nyc=df[((df.pickup_latitude <= 40.5774) | (df.pickup_longitude <= -74.15) | (df.pickup_latitude >= 40.9176) | (df.pickup_longitude >= -73.7004))]\n",
        "out_nyc"
      ],
      "execution_count": 65,
      "outputs": [
        {
          "output_type": "execute_result",
          "data": {
            "text/html": [
              "<div>\n",
              "<style scoped>\n",
              "    .dataframe tbody tr th:only-of-type {\n",
              "        vertical-align: middle;\n",
              "    }\n",
              "\n",
              "    .dataframe tbody tr th {\n",
              "        vertical-align: top;\n",
              "    }\n",
              "\n",
              "    .dataframe thead th {\n",
              "        text-align: right;\n",
              "    }\n",
              "</style>\n",
              "<table border=\"1\" class=\"dataframe\">\n",
              "  <thead>\n",
              "    <tr style=\"text-align: right;\">\n",
              "      <th></th>\n",
              "      <th>VendorID</th>\n",
              "      <th>tpep_pickup_datetime</th>\n",
              "      <th>tpep_dropoff_datetime</th>\n",
              "      <th>passenger_count</th>\n",
              "      <th>trip_distance</th>\n",
              "      <th>pickup_longitude</th>\n",
              "      <th>pickup_latitude</th>\n",
              "      <th>dropoff_longitude</th>\n",
              "      <th>dropoff_latitude</th>\n",
              "      <th>payment_type</th>\n",
              "      <th>fare_amount</th>\n",
              "      <th>extra</th>\n",
              "      <th>mta_tax</th>\n",
              "      <th>tip_amount</th>\n",
              "      <th>tolls_amount</th>\n",
              "      <th>improvement_surcharge</th>\n",
              "      <th>total_amount</th>\n",
              "    </tr>\n",
              "  </thead>\n",
              "  <tbody>\n",
              "    <tr>\n",
              "      <th>15</th>\n",
              "      <td>1</td>\n",
              "      <td>2015-10-01 00:00:03</td>\n",
              "      <td>2015-10-01 00:03:57</td>\n",
              "      <td>1</td>\n",
              "      <td>0.60</td>\n",
              "      <td>0.0</td>\n",
              "      <td>0.0</td>\n",
              "      <td>0.0</td>\n",
              "      <td>0.0</td>\n",
              "      <td>1</td>\n",
              "      <td>4.5</td>\n",
              "      <td>0.5</td>\n",
              "      <td>0.5</td>\n",
              "      <td>1.16</td>\n",
              "      <td>0.0</td>\n",
              "      <td>0.3</td>\n",
              "      <td>6.96</td>\n",
              "    </tr>\n",
              "    <tr>\n",
              "      <th>185</th>\n",
              "      <td>2</td>\n",
              "      <td>2015-10-14 10:23:18</td>\n",
              "      <td>2015-10-14 10:32:23</td>\n",
              "      <td>1</td>\n",
              "      <td>1.33</td>\n",
              "      <td>0.0</td>\n",
              "      <td>0.0</td>\n",
              "      <td>0.0</td>\n",
              "      <td>0.0</td>\n",
              "      <td>1</td>\n",
              "      <td>8.0</td>\n",
              "      <td>0.0</td>\n",
              "      <td>0.5</td>\n",
              "      <td>1.76</td>\n",
              "      <td>0.0</td>\n",
              "      <td>0.3</td>\n",
              "      <td>10.56</td>\n",
              "    </tr>\n",
              "    <tr>\n",
              "      <th>265</th>\n",
              "      <td>1</td>\n",
              "      <td>2015-10-14 10:23:36</td>\n",
              "      <td>2015-10-14 10:32:39</td>\n",
              "      <td>1</td>\n",
              "      <td>0.90</td>\n",
              "      <td>0.0</td>\n",
              "      <td>0.0</td>\n",
              "      <td>0.0</td>\n",
              "      <td>0.0</td>\n",
              "      <td>1</td>\n",
              "      <td>7.0</td>\n",
              "      <td>0.0</td>\n",
              "      <td>0.5</td>\n",
              "      <td>1.55</td>\n",
              "      <td>0.0</td>\n",
              "      <td>0.3</td>\n",
              "      <td>9.35</td>\n",
              "    </tr>\n",
              "    <tr>\n",
              "      <th>358</th>\n",
              "      <td>2</td>\n",
              "      <td>2015-10-14 10:23:56</td>\n",
              "      <td>2015-10-14 10:39:58</td>\n",
              "      <td>1</td>\n",
              "      <td>2.66</td>\n",
              "      <td>0.0</td>\n",
              "      <td>0.0</td>\n",
              "      <td>0.0</td>\n",
              "      <td>0.0</td>\n",
              "      <td>2</td>\n",
              "      <td>12.5</td>\n",
              "      <td>0.0</td>\n",
              "      <td>0.5</td>\n",
              "      <td>0.00</td>\n",
              "      <td>0.0</td>\n",
              "      <td>0.3</td>\n",
              "      <td>13.30</td>\n",
              "    </tr>\n",
              "    <tr>\n",
              "      <th>456</th>\n",
              "      <td>2</td>\n",
              "      <td>2015-10-14 10:24:18</td>\n",
              "      <td>2015-10-14 10:26:49</td>\n",
              "      <td>1</td>\n",
              "      <td>0.18</td>\n",
              "      <td>0.0</td>\n",
              "      <td>0.0</td>\n",
              "      <td>0.0</td>\n",
              "      <td>0.0</td>\n",
              "      <td>2</td>\n",
              "      <td>3.5</td>\n",
              "      <td>0.0</td>\n",
              "      <td>0.5</td>\n",
              "      <td>0.00</td>\n",
              "      <td>0.0</td>\n",
              "      <td>0.3</td>\n",
              "      <td>4.30</td>\n",
              "    </tr>\n",
              "    <tr>\n",
              "      <th>...</th>\n",
              "      <td>...</td>\n",
              "      <td>...</td>\n",
              "      <td>...</td>\n",
              "      <td>...</td>\n",
              "      <td>...</td>\n",
              "      <td>...</td>\n",
              "      <td>...</td>\n",
              "      <td>...</td>\n",
              "      <td>...</td>\n",
              "      <td>...</td>\n",
              "      <td>...</td>\n",
              "      <td>...</td>\n",
              "      <td>...</td>\n",
              "      <td>...</td>\n",
              "      <td>...</td>\n",
              "      <td>...</td>\n",
              "      <td>...</td>\n",
              "    </tr>\n",
              "    <tr>\n",
              "      <th>99707</th>\n",
              "      <td>1</td>\n",
              "      <td>2015-10-01 09:32:16</td>\n",
              "      <td>2015-10-01 09:43:02</td>\n",
              "      <td>1</td>\n",
              "      <td>2.00</td>\n",
              "      <td>0.0</td>\n",
              "      <td>0.0</td>\n",
              "      <td>0.0</td>\n",
              "      <td>0.0</td>\n",
              "      <td>1</td>\n",
              "      <td>9.5</td>\n",
              "      <td>0.0</td>\n",
              "      <td>0.5</td>\n",
              "      <td>2.05</td>\n",
              "      <td>0.0</td>\n",
              "      <td>0.3</td>\n",
              "      <td>12.35</td>\n",
              "    </tr>\n",
              "    <tr>\n",
              "      <th>99713</th>\n",
              "      <td>2</td>\n",
              "      <td>2015-10-01 09:32:16</td>\n",
              "      <td>2015-10-01 09:41:48</td>\n",
              "      <td>1</td>\n",
              "      <td>0.88</td>\n",
              "      <td>0.0</td>\n",
              "      <td>0.0</td>\n",
              "      <td>0.0</td>\n",
              "      <td>0.0</td>\n",
              "      <td>2</td>\n",
              "      <td>8.0</td>\n",
              "      <td>0.0</td>\n",
              "      <td>0.5</td>\n",
              "      <td>0.00</td>\n",
              "      <td>0.0</td>\n",
              "      <td>0.3</td>\n",
              "      <td>8.80</td>\n",
              "    </tr>\n",
              "    <tr>\n",
              "      <th>99715</th>\n",
              "      <td>2</td>\n",
              "      <td>2015-10-01 09:32:16</td>\n",
              "      <td>2015-10-01 09:47:31</td>\n",
              "      <td>1</td>\n",
              "      <td>1.60</td>\n",
              "      <td>0.0</td>\n",
              "      <td>0.0</td>\n",
              "      <td>0.0</td>\n",
              "      <td>0.0</td>\n",
              "      <td>1</td>\n",
              "      <td>11.0</td>\n",
              "      <td>0.0</td>\n",
              "      <td>0.5</td>\n",
              "      <td>2.95</td>\n",
              "      <td>0.0</td>\n",
              "      <td>0.3</td>\n",
              "      <td>14.75</td>\n",
              "    </tr>\n",
              "    <tr>\n",
              "      <th>99799</th>\n",
              "      <td>2</td>\n",
              "      <td>2015-10-01 09:32:29</td>\n",
              "      <td>2015-10-01 09:46:00</td>\n",
              "      <td>1</td>\n",
              "      <td>0.91</td>\n",
              "      <td>0.0</td>\n",
              "      <td>0.0</td>\n",
              "      <td>0.0</td>\n",
              "      <td>0.0</td>\n",
              "      <td>2</td>\n",
              "      <td>9.0</td>\n",
              "      <td>0.0</td>\n",
              "      <td>0.5</td>\n",
              "      <td>0.00</td>\n",
              "      <td>0.0</td>\n",
              "      <td>0.3</td>\n",
              "      <td>9.80</td>\n",
              "    </tr>\n",
              "    <tr>\n",
              "      <th>99875</th>\n",
              "      <td>1</td>\n",
              "      <td>2015-10-01 09:32:45</td>\n",
              "      <td>2015-10-01 09:35:52</td>\n",
              "      <td>1</td>\n",
              "      <td>0.50</td>\n",
              "      <td>0.0</td>\n",
              "      <td>0.0</td>\n",
              "      <td>0.0</td>\n",
              "      <td>0.0</td>\n",
              "      <td>1</td>\n",
              "      <td>4.0</td>\n",
              "      <td>0.0</td>\n",
              "      <td>0.5</td>\n",
              "      <td>1.40</td>\n",
              "      <td>0.0</td>\n",
              "      <td>0.3</td>\n",
              "      <td>6.20</td>\n",
              "    </tr>\n",
              "  </tbody>\n",
              "</table>\n",
              "<p>1177 rows × 17 columns</p>\n",
              "</div>"
            ],
            "text/plain": [
              "       VendorID tpep_pickup_datetime  ... improvement_surcharge  total_amount\n",
              "15            1  2015-10-01 00:00:03  ...                   0.3          6.96\n",
              "185           2  2015-10-14 10:23:18  ...                   0.3         10.56\n",
              "265           1  2015-10-14 10:23:36  ...                   0.3          9.35\n",
              "358           2  2015-10-14 10:23:56  ...                   0.3         13.30\n",
              "456           2  2015-10-14 10:24:18  ...                   0.3          4.30\n",
              "...         ...                  ...  ...                   ...           ...\n",
              "99707         1  2015-10-01 09:32:16  ...                   0.3         12.35\n",
              "99713         2  2015-10-01 09:32:16  ...                   0.3          8.80\n",
              "99715         2  2015-10-01 09:32:16  ...                   0.3         14.75\n",
              "99799         2  2015-10-01 09:32:29  ...                   0.3          9.80\n",
              "99875         1  2015-10-01 09:32:45  ...                   0.3          6.20\n",
              "\n",
              "[1177 rows x 17 columns]"
            ]
          },
          "metadata": {
            "tags": []
          },
          "execution_count": 65
        }
      ]
    },
    {
      "cell_type": "markdown",
      "metadata": {
        "id": "YjAQEigy0ILx",
        "colab_type": "text"
      },
      "source": [
        "#### **The Pickup Map - Before Cleaning:**"
      ]
    },
    {
      "cell_type": "code",
      "metadata": {
        "id": "lmmj2wrnMImM",
        "colab_type": "code",
        "outputId": "c782b314-6d88-4c7d-82c7-c35dc103f34b",
        "colab": {
          "base_uri": "https://localhost:8080/",
          "height": 808
        }
      },
      "source": [
        "m = folium.Map(location = [40.5774, -73.7004], tiles = \"Stamen Toner\")\n",
        "\n",
        "outside_pickups = out_nyc.head(25000)\n",
        "\n",
        "for i,j in outside_pickups.iterrows():\n",
        "    if j[\"pickup_latitude\"] != 0:\n",
        "        folium.Marker([j[\"pickup_latitude\"], j[\"pickup_longitude\"]]).add_to(m)\n",
        "m"
      ],
      "execution_count": 66,
      "outputs": [
        {
          "output_type": "execute_result",
          "data": {
            "text/html": [
              "<div style=\"width:100%;\"><div style=\"position:relative;width:100%;height:0;padding-bottom:60%;\"><iframe src=\"about:blank\" style=\"position:absolute;width:100%;height:100%;left:0;top:0;border:none !important;\" data-html=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 onload=\"this.contentDocument.open();this.contentDocument.write(atob(this.getAttribute('data-html')));this.contentDocument.close();\" allowfullscreen webkitallowfullscreen mozallowfullscreen></iframe></div></div>"
            ],
            "text/plain": [
              "<folium.folium.Map at 0x7f1e917affd0>"
            ]
          },
          "metadata": {
            "tags": []
          },
          "execution_count": 66
        }
      ]
    },
    {
      "cell_type": "markdown",
      "metadata": {
        "id": "HNVDohzT0rC6",
        "colab_type": "text"
      },
      "source": [
        "### **The Pickup Map - After Cleaning:**"
      ]
    },
    {
      "cell_type": "code",
      "metadata": {
        "id": "L3BmMjjfQh4j",
        "colab_type": "code",
        "colab": {}
      },
      "source": [
        "df = df[(((df.pickup_latitude >= 40.5774) & (df.pickup_latitude <= 40.9176)) & ((df.pickup_longitude >= -74.15) & (df.pickup_longitude <= -73.7004)))]\n",
        "\n",
        "\n"
      ],
      "execution_count": 0,
      "outputs": []
    },
    {
      "cell_type": "code",
      "metadata": {
        "id": "YvKPlDr9RWYo",
        "colab_type": "code",
        "outputId": "4a5d1121-7117-4af3-b6aa-11294b8cfe4f",
        "colab": {
          "base_uri": "https://localhost:8080/",
          "height": 808
        }
      },
      "source": [
        "\n",
        "m = folium.Map(location = [40.9176, -73.7004], tiles = \"Stamen Toner\")\n",
        "\n",
        "pickups_within_NYC = df.sample(n = 500)\n",
        "\n",
        "for i,j in pickups_within_NYC.iterrows():\n",
        "    folium.Marker([j[\"pickup_latitude\"], j[\"pickup_longitude\"]]).add_to(m)\n",
        "m"
      ],
      "execution_count": 68,
      "outputs": [
        {
          "output_type": "execute_result",
          "data": {
            "text/html": [
              "<div style=\"width:100%;\"><div style=\"position:relative;width:100%;height:0;padding-bottom:60%;\"><iframe src=\"about:blank\" style=\"position:absolute;width:100%;height:100%;left:0;top:0;border:none !important;\" data-html=PCFET0NUWVBFIGh0bWw+CjxoZWFkPiAgICAKICAgIDxtZXRhIGh0dHAtZXF1aXY9ImNvbnRlbnQtdHlwZSIgY29udGVudD0idGV4dC9odG1sOyBjaGFyc2V0PVVURi04IiAvPgogICAgPHNjcmlwdD5MX1BSRUZFUl9DQU5WQVM9ZmFsc2U7IExfTk9fVE9VQ0g9ZmFsc2U7IExfRElTQUJMRV8zRD1mYWxzZTs8L3NjcmlwdD4KICAgIDxzY3JpcHQgc3JjPSJodHRwczovL2Nkbi5qc2RlbGl2ci5uZXQvbnBtL2xlYWZsZXRAMS40LjAvZGlzdC9sZWFmbGV0LmpzIj48L3NjcmlwdD4KICAgIDxzY3JpcHQgc3JjPSJodHRwczovL2NvZGUuanF1ZXJ5LmNvbS9qcXVlcnktMS4xMi40Lm1pbi5qcyI+PC9zY3JpcHQ+CiAgICA8c2NyaXB0IHNyYz0iaHR0cHM6Ly9tYXhjZG4uYm9vdHN0cmFwY2RuLmNvbS9ib290c3RyYXAvMy4yLjAvanMvYm9vdHN0cmFwLm1pbi5qcyI+PC9zY3JpcHQ+CiAgICA8c2NyaXB0IHNyYz0iaHR0cHM6Ly9jZG5qcy5jbG91ZGZsYXJlLmNvbS9hamF4L2xpYnMvTGVhZmxldC5hd2Vzb21lLW1hcmtlcnMvMi4wLjIvbGVhZmxldC5hd2Vzb21lLW1hcmtlcnMuanMiPjwvc2NyaXB0PgogICAgPGxpbmsgcmVsPSJzdHlsZXNoZWV0IiBocmVmPSJodHRwczovL2Nkbi5qc2RlbGl2ci5uZXQvbnBtL2xlYWZsZXRAMS40LjAvZGlzdC9sZWFmbGV0LmNzcyIvPgogICAgPGxpbmsgcmVsPSJzdHlsZXNoZWV0IiBocmVmPSJodHRwczovL21heGNkbi5ib290c3RyYXBjZG4uY29tL2Jvb3RzdHJhcC8zLjIuMC9jc3MvYm9vdHN0cmFwLm1pbi5jc3MiLz4KICAgIDxsaW5rIHJlbD0ic3R5bGVzaGVldCIgaHJlZj0iaHR0cHM6Ly9tYXhjZG4uYm9vdHN0cmFwY2RuLmNvbS9ib290c3RyYXAvMy4yLjAvY3NzL2Jvb3RzdHJhcC10aGVtZS5taW4uY3NzIi8+CiAgICA8bGluayByZWw9InN0eWxlc2hlZXQiIGhyZWY9Imh0dHBzOi8vbWF4Y2RuLmJvb3RzdHJhcGNkbi5jb20vZm9udC1hd2Vzb21lLzQuNi4zL2Nzcy9mb250LWF3ZXNvbWUubWluLmNzcyIvPgogICAgPGxpbmsgcmVsPSJzdHlsZXNoZWV0IiBocmVmPSJodHRwczovL2NkbmpzLmNsb3VkZmxhcmUuY29tL2FqYXgvbGlicy9MZWFmbGV0LmF3ZXNvbWUtbWFya2Vycy8yLjAuMi9sZWFmbGV0LmF3ZXNvbWUtbWFya2Vycy5jc3MiLz4KICAgIDxsaW5rIHJlbD0ic3R5bGVzaGVldCIgaHJlZj0iaHR0cHM6Ly9yYXdjZG4uZ2l0aGFjay5jb20vcHl0aG9uLXZpc3VhbGl6YXRpb24vZm9saXVtL21hc3Rlci9mb2xpdW0vdGVtcGxhdGVzL2xlYWZsZXQuYXdlc29tZS5yb3RhdGUuY3NzIi8+CiAgICA8c3R5bGU+aHRtbCwgYm9keSB7d2lkdGg6IDEwMCU7aGVpZ2h0OiAxMDAlO21hcmdpbjogMDtwYWRkaW5nOiAwO308L3N0eWxlPgogICAgPHN0eWxlPiNtYXAge3Bvc2l0aW9uOmFic29sdXRlO3RvcDowO2JvdHRvbTowO3JpZ2h0OjA7bGVmdDowO308L3N0eWxlPgogICAgCiAgICA8bWV0YSBuYW1lPSJ2aWV3cG9ydCIgY29udGVudD0id2lkdGg9ZGV2aWNlLXdpZHRoLAogICAgICAgIGluaXRpYWwtc2NhbGU9MS4wLCBtYXhpbXVtLXNjYWxlPTEuMCwgdXNlci1zY2FsYWJsZT1ubyIgLz4KICAgIDxzdHlsZT4jbWFwXzI1NzJjYTMxMzA3MTQ5MzNhMGI1MzdkYWQ3YThmZmMxIHsKICAgICAgICBwb3NpdGlvbjogcmVsYXRpdmU7CiAgICAgICAgd2lkdGg6IDEwMC4wJTsKICAgICAgICBoZWlnaHQ6IDEwMC4wJTsKICAgICAgICBsZWZ0OiAwLjAlOwogICAgICAgIHRvcDogMC4wJTsKICAgICAgICB9CiAgICA8L3N0eWxlPgo8L2hlYWQ+Cjxib2R5PiAgICAKICAgIAogICAgPGRpdiBjbGFzcz0iZm9saXVtLW1hcCIgaWQ9Im1hcF8yNTcyY2EzMTMwNzE0OTMzYTBiNTM3ZGFkN2E4ZmZjMSIgPjwvZGl2Pgo8L2JvZHk+CjxzY3JpcHQ+ICAgIAogICAgCiAgICAKICAgICAgICB2YXIgYm91bmRzID0gbnVsbDsKICAgIAoKICAgIHZhciBtYXBfMjU3MmNhMzEzMDcxNDkzM2EwYjUzN2RhZDdhOGZmYzEgPSBMLm1hcCgKICAgICAgICAnbWFwXzI1NzJjYTMxMzA3MTQ5MzNhMGI1MzdkYWQ3YThmZmMxJywgewogICAgICAgIGNlbnRlcjogWzQwLjkxNzYsIC03My43MDA0XSwKICAgICAgICB6b29tOiAxMCwKICAgICAgICBtYXhCb3VuZHM6IGJvdW5kcywKICAgICAgICBsYXllcnM6IFtdLAogICAgICAgIHdvcmxkQ29weUp1bXA6IGZhbHNlLAogICAgICAgIGNyczogTC5DUlMuRVBTRzM4NTcsCiAgICAgICAgem9vbUNvbnRyb2w6IHRydWUsCiAgICAgICAgfSk7CgoKICAgIAogICAgdmFyIHRpbGVfbGF5ZXJfYzhmZTQzZDU0ZTAxNDg5Yzg3NzMxNjJiYjM1M2JlZjIgPSBMLnRpbGVMYXllcigKICAgICAgICAnaHR0cHM6Ly9zdGFtZW4tdGlsZXMte3N9LmEuc3NsLmZhc3RseS5uZXQvdG9uZXIve3p9L3t4fS97eX0ucG5nJywKICAgICAgICB7CiAgICAgICAgImF0dHJpYnV0aW9uIjogbnVsbCwKICAgICAgICAiZGV0ZWN0UmV0aW5hIjogZmFsc2UsCiAgICAgICAgIm1heE5hdGl2ZVpvb20iOiAxOCwKICAgICAgICAibWF4Wm9vbSI6IDE4LAogICAgICAgICJtaW5ab29tIjogMCwKICAgICAgICAibm9XcmFwIjogZmFsc2UsCiAgICAgICAgIm9wYWNpdHkiOiAxLAogICAgICAgICJzdWJkb21haW5zIjogImFiYyIsCiAgICAgICAgInRtcyI6IGZhbHNlCn0pLmFkZFRvKG1hcF8yNTcyY2EzMTMwNzE0OTMzYTBiNTM3ZGFkN2E4ZmZjMSk7CiAgICAKICAgICAgICB2YXIgbWFya2VyXzk3MjVjZjBlZDk0ODQyNWZhNjlmMGQ2ZjdlNjg2OTBhID0gTC5tYXJrZXIoCiAgICAgICAgICAgIFs0MC43MzE3Mjc2MDAwOTc2NTYsIC03My45ODIyNjkyODcxMDkzOF0sCiAgICAgICAgICAgIHsKICAgICAgICAgICAgICAgIGljb246IG5ldyBMLkljb24uRGVmYXVsdCgpLAogICAgICAgICAgICAgICAgfQogICAgICAgICAgICApLmFkZFRvKG1hcF8yNTcyY2EzMTMwNzE0OTMzYTBiNTM3ZGFkN2E4ZmZjMSk7CiAgICAgICAgCiAgICAKICAgICAgICB2YXIgbWFya2VyXzFmMDI1NDU4NzU5NTQ4MDBiMzRjMWQyNzQ0YzEzN2QwID0gTC5tYXJrZXIoCiAgICAgICAgICAgIFs0MC43NDkxMTExNzU1MzcxMSwgLTczLjk4MTg4MDE4Nzk4ODNdLAogICAgICAgICAgICB7CiAgICAgICAgICAgICAgICBpY29uOiBuZXcgTC5JY29uLkRlZmF1bHQoKSwKICAgICAgICAgICAgICAgIH0KICAgICAgICAgICAgKS5hZGRUbyhtYXBfMjU3MmNhMzEzMDcxNDkzM2EwYjUzN2RhZDdhOGZmYzEpOwogICAgICAgIAogICAgCiAgICAgICAgdmFyIG1hcmtlcl84N2UzOWNlYjc1ZDY0MmIxYjFlNTQ5M2Q4YTM1MGEwOCA9IEwubWFya2VyKAogICAgICAgICAgICBbNDAuNzc1OTcwNDU4OTg0Mzc1LCAtNzMuOTYwNDg3MzY1NzIyNjZdLAogICAgICAgICAgICB7CiAgICAgICAgICAgICAgICBpY29uOiBuZXcgTC5JY29uLkRlZmF1bHQoKSwKICAgICAgICAgICAgICAgIH0KICAgICAgICAgICAgKS5hZGRUbyhtYXBfMjU3MmNhMzEzMDcxNDkzM2EwYjUzN2RhZDdhOGZmYzEpOwogICAgICAgIAogICAgCiAgICAgICAgdmFyIG1hcmtlcl84NGNjNmRhMDJmODM0Y2RmYjdhNTQzYTQ4YjU2MjA4OSA9IEwubWFya2VyKAogICAgICAgICAgICBbNDAuNzQ0MTU5Njk4NDg2MzMsIC03My45Nzg0ODUxMDc0MjE4OF0sCiAgICAgICAgICAgIHsKICAgICAgICAgICAgICAgIGljb246IG5ldyBMLkljb24uRGVmYXVsdCgpLAogICAgICAgICAgICAgICAgfQogICAgICAgICAgICApLmFkZFRvKG1hcF8yNTcyY2EzMTMwNzE0OTMzYTBiNTM3ZGFkN2E4ZmZjMSk7CiAgICAgICAgCiAgICAKICAgICAgICB2YXIgbWFya2VyXzQyYTMwNWMyMmMxNjRmYTBiY2RmZTAyNjYzNzMzMTMxID0gTC5tYXJrZXIoCiAgICAgICAgICAgIFs0MC43ODE4MDMxMzExMDM1MiwgLTczLjk1NDAwMjM4MDM3MTFdLAogICAgICAgICAgICB7CiAgICAgICAgICAgICAgICBpY29uOiBuZXcgTC5JY29uLkRlZmF1bHQoKSwKICAgICAgICAgICAgICAgIH0KICAgICAgICAgICAgKS5hZGRUbyhtYXBfMjU3MmNhMzEzMDcxNDkzM2EwYjUzN2RhZDdhOGZmYzEpOwogICAgICAgIAogICAgCiAgICAgICAgdmFyIG1hcmtlcl80Yzk1NmY4MTZiNTU0ZTg1OWMzNmNlY2M5OTI4Nzk5ZSA9IEwubWFya2VyKAogICAgICAgICAgICBbNDAuNzcyODUzODUxMzE4MzYsIC03My45NTg0MzUwNTg1OTM3NV0sCiAgICAgICAgICAgIHsKICAgICAgICAgICAgICAgIGljb246IG5ldyBMLkljb24uRGVmYXVsdCgpLAogICAgICAgICAgICAgICAgfQogICAgICAgICAgICApLmFkZFRvKG1hcF8yNTcyY2EzMTMwNzE0OTMzYTBiNTM3ZGFkN2E4ZmZjMSk7CiAgICAgICAgCiAgICAKICAgICAgICB2YXIgbWFya2VyXzIyZmNiOGQzN2RjMzRhNDBhNjNhODAyNWE2YTRlMjdiID0gTC5tYXJrZXIoCiAgICAgICAgICAgIFs0MC43NTA1NDE2ODcwMTE3MiwgLTczLjk4OTkyOTE5OTIxODc1XSwKICAgICAgICAgICAgewogICAgICAgICAgICAgICAgaWNvbjogbmV3IEwuSWNvbi5EZWZhdWx0KCksCiAgICAgICAgICAgICAgICB9CiAgICAgICAgICAgICkuYWRkVG8obWFwXzI1NzJjYTMxMzA3MTQ5MzNhMGI1MzdkYWQ3YThmZmMxKTsKICAgICAgICAKICAgIAogICAgICAgIHZhciBtYXJrZXJfZjgxZTg2ODliNDk2NGJiOThjY2U4OGQ3ZDJiNDExOGUgPSBMLm1hcmtlcigKICAgICAgICAgICAgWzQwLjc0MzgwMTExNjk0MzM2LCAtNzMuOTg1NzEwMTQ0MDQyOThdLAogICAgICAgICAgICB7CiAgICAgICAgICAgICAgICBpY29uOiBuZXcgTC5JY29uLkRlZmF1bHQoKSwKICAgICAgICAgICAgICAgIH0KICAgICAgICAgICAgKS5hZGRUbyhtYXBfMjU3MmNhMzEzMDcxNDkzM2EwYjUzN2RhZDdhOGZmYzEpOwogICAgICAgIAogICAgCiAgICAgICAgdmFyIG1hcmtlcl80YTVlMGIxMzVhNGU0NjBkODE0OTFhNjYxMjk1MmVmNCA9IEwubWFya2VyKAogICAgICAgICAgICBbNDAuNzMxNTEzOTc3MDUwNzgsIC03My45ODI0NzUyODA3NjE3M10sCiAgICAgICAgICAgIHsKICAgICAgICAgICAgICAgIGljb246IG5ldyBMLkljb24uRGVmYXVsdCgpLAogICAgICAgICAgICAgICAgfQogICAgICAgICAgICApLmFkZFRvKG1hcF8yNTcyY2EzMTMwNzE0OTMzYTBiNTM3ZGFkN2E4ZmZjMSk7CiAgICAgICAgCiAgICAKICAgICAgICB2YXIgbWFya2VyX2U3MDc0YjI1ZjdmOTQ0MmRiN2JkYjNmNWJiNWI2YTFkID0gTC5tYXJrZXIoCiAgICAgICAgICAgIFs0MC43NzQ4MTg0MjA0MTAxNTYsIC03My45NjEwMjE0MjMzMzk4NF0sCiAgICAgICAgICAgIHsKICAgICAgICAgICAgICAgIGljb246IG5ldyBMLkljb24uRGVmYXVsdCgpLAogICAgICAgICAgICAgICAgfQogICAgICAgICAgICApLmFkZFRvKG1hcF8yNTcyY2EzMTMwNzE0OTMzYTBiNTM3ZGFkN2E4ZmZjMSk7CiAgICAgICAgCiAgICAKICAgICAgICB2YXIgbWFya2VyXzRiMjRkYjY2MzM3NjQ5YTM5YjNlMDljMWJkNjIxNGU1ID0gTC5tYXJrZXIoCiAgICAgICAgICAgIFs0MC42NDY4MzkxNDE4NDU2OTYsIC03My43OTAwNjk1ODAwNzgxMV0sCiAgICAgICAgICAgIHsKICAgICAgICAgICAgICAgIGljb246IG5ldyBMLkljb24uRGVmYXVsdCgpLAogICAgICAgICAgICAgICAgfQogICAgICAgICAgICApLmFkZFRvKG1hcF8yNTcyY2EzMTMwNzE0OTMzYTBiNTM3ZGFkN2E4ZmZjMSk7CiAgICAgICAgCiAgICAKICAgICAgICB2YXIgbWFya2VyX2QxOTVmYWQzNDZmYjRmZmI4Y2Y2MTU4YTNkNjY3MDY0ID0gTC5tYXJrZXIoCiAgICAgICAgICAgIFs0MC43MzQ4Nzg1NDAwMzkwNTUsIC03My45Nzk4OTY1NDU0MTAxNF0sCiAgICAgICAgICAgIHsKICAgICAgICAgICAgICAgIGljb246IG5ldyBMLkljb24uRGVmYXVsdCgpLAogICAgICAgICAgICAgICAgfQogICAgICAgICAgICApLmFkZFRvKG1hcF8yNTcyY2EzMTMwNzE0OTMzYTBiNTM3ZGFkN2E4ZmZjMSk7CiAgICAgICAgCiAgICAKICAgICAgICB2YXIgbWFya2VyXzQ4NmFlZmZhNWQ5NDQ2MTg4MWNkODIwMmMwYTBlZDdlID0gTC5tYXJrZXIoCiAgICAgICAgICAgIFs0MC43ODc5MjU3MjAyMTQ4NSwgLTczLjk1NzE5OTA5NjY3OTY5XSwKICAgICAgICAgICAgewogICAgICAgICAgICAgICAgaWNvbjogbmV3IEwuSWNvbi5EZWZhdWx0KCksCiAgICAgICAgICAgICAgICB9CiAgICAgICAgICAgICkuYWRkVG8obWFwXzI1NzJjYTMxMzA3MTQ5MzNhMGI1MzdkYWQ3YThmZmMxKTsKICAgICAgICAKICAgIAogICAgICAgIHZhciBtYXJrZXJfNjkxYTMxNWYwZWM3NGM0MmI0OGQzZWE5NmQ4YjE4NGYgPSBMLm1hcmtlcigKICAgICAgICAgICAgWzQwLjc0NDg3Njg2MTU3MjI2NiwgLTczLjk4NzEwNjMyMzI0MjE5XSwKICAgICAgICAgICAgewogICAgICAgICAgICAgICAgaWNvbjogbmV3IEwuSWNvbi5EZWZhdWx0KCksCiAgICAgICAgICAgICAgICB9CiAgICAgICAgICAgICkuYWRkVG8obWFwXzI1NzJjYTMxMzA3MTQ5MzNhMGI1MzdkYWQ3YThmZmMxKTsKICAgICAgICAKICAgIAogICAgICAgIHZhciBtYXJrZXJfMDdhOTFmZDg2MTg5NDBjZjllNjg5NmQ3NDU2NzY0MDcgPSBMLm1hcmtlcigKICAgICAgICAgICAgWzQwLjcxMDU2MzY1OTY2Nzk3LCAtNzQuMDA0NjUzOTMwNjY0MDZdLAogICAgICAgICAgICB7CiAgICAgICAgICAgICAgICBpY29uOiBuZXcgTC5JY29uLkRlZmF1bHQoKSwKICAgICAgICAgICAgICAgIH0KICAgICAgICAgICAgKS5hZGRUbyhtYXBfMjU3MmNhMzEzMDcxNDkzM2EwYjUzN2RhZDdhOGZmYzEpOwogICAgICAgIAogICAgCiAgICAgICAgdmFyIG1hcmtlcl85ZDY3ZjkyNWRiNDE0MDMwYmZlNTYyNTViODY1ZTBkYSA9IEwubWFya2VyKAogICAgICAgICAgICBbNDAuNzg5NzgzNDc3NzgzMiwgLTczLjk2OTgwMjg1NjQ0NTMxXSwKICAgICAgICAgICAgewogICAgICAgICAgICAgICAgaWNvbjogbmV3IEwuSWNvbi5EZWZhdWx0KCksCiAgICAgICAgICAgICAgICB9CiAgICAgICAgICAgICkuYWRkVG8obWFwXzI1NzJjYTMxMzA3MTQ5MzNhMGI1MzdkYWQ3YThmZmMxKTsKICAgICAgICAKICAgIAogICAgICAgIHZhciBtYXJrZXJfZGMyZWNlOGU2YzBjNGNlZjlhZjVhNGY1NjVhNTE1ZGYgPSBMLm1hcmtlcigKICAgICAgICAgICAgWzQwLjczOTg5ODY4MTY0MDYzLCAtNzMuOTkwOTI4NjQ5OTAyMzRdLAogICAgICAgICAgICB7CiAgICAgICAgICAgICAgICBpY29uOiBuZXcgTC5JY29uLkRlZmF1bHQoKSwKICAgICAgICAgICAgICAgIH0KICAgICAgICAgICAgKS5hZGRUbyhtYXBfMjU3MmNhMzEzMDcxNDkzM2EwYjUzN2RhZDdhOGZmYzEpOwogICAgICAgIAogICAgCiAgICAgICAgdmFyIG1hcmtlcl8zYjlhZjFkMzRjMDQ0NjYzYjBmNTRlNGMyOTRmMzAyZSA9IEwubWFya2VyKAogICAgICAgICAgICBbNDAuNzcwOTczMjA1NTY2NDA2LCAtNzMuOTU5Njc4NjQ5OTAyMzRdLAogICAgICAgICAgICB7CiAgICAgICAgICAgICAgICBpY29uOiBuZXcgTC5JY29uLkRlZmF1bHQoKSwKICAgICAgICAgICAgICAgIH0KICAgICAgICAgICAgKS5hZGRUbyhtYXBfMjU3MmNhMzEzMDcxNDkzM2EwYjUzN2RhZDdhOGZmYzEpOwogICAgICAgIAogICAgCiAgICAgICAgdmFyIG1hcmtlcl80MDhmNDNkZTEyOWU0Yjk4YTFhZjdmZDA1NGQxNWIxNCA9IEwubWFya2VyKAogICAgICAgICAgICBbNDAuNzQ1OTEwNjQ0NTMxMjUsIC03My45Nzk3NTkyMTYzMDg2XSwKICAgICAgICAgICAgewogICAgICAgICAgICAgICAgaWNvbjogbmV3IEwuSWNvbi5EZWZhdWx0KCksCiAgICAgICAgICAgICAgICB9CiAgICAgICAgICAgICkuYWRkVG8obWFwXzI1NzJjYTMxMzA3MTQ5MzNhMGI1MzdkYWQ3YThmZmMxKTsKICAgICAgICAKICAgIAogICAgICAgIHZhciBtYXJrZXJfNzM1OGIyMzMxMTAxNGFiMDkzNTI0NzFmYzFlMWNhYTQgPSBMLm1hcmtlcigKICAgICAgICAgICAgWzQwLjc3MTM2NjExOTM4NDc3LCAtNzMuOTgxOTY0MTExMzI4MTJdLAogICAgICAgICAgICB7CiAgICAgICAgICAgICAgICBpY29uOiBuZXcgTC5JY29uLkRlZmF1bHQoKSwKICAgICAgICAgICAgICAgIH0KICAgICAgICAgICAgKS5hZGRUbyhtYXBfMjU3MmNhMzEzMDcxNDkzM2EwYjUzN2RhZDdhOGZmYzEpOwogICAgICAgIAogICAgCiAgICAgICAgdmFyIG1hcmtlcl9mNGM2NGFmNTk2Yjk0OGZlYjExM2I0OWVjNDVlYmZiYiA9IEwubWFya2VyKAogICAgICAgICAgICBbNDAuNzM1OTI3NTgxNzg3MTEsIC03My45OTc5ODU4Mzk4NDM3NV0sCiAgICAgICAgICAgIHsKICAgICAgICAgICAgICAgIGljb246IG5ldyBMLkljb24uRGVmYXVsdCgpLAogICAgICAgICAgICAgICAgfQogICAgICAgICAgICApLmFkZFRvKG1hcF8yNTcyY2EzMTMwNzE0OTMzYTBiNTM3ZGFkN2E4ZmZjMSk7CiAgICAgICAgCiAgICAKICAgICAgICB2YXIgbWFya2VyXzg1YTM5NjUwM2Y4NzRmMDJhMmI1YWJlMWQyZmQ5ZThjID0gTC5tYXJrZXIoCiAgICAgICAgICAgIFs0MC43NjE3NjgzNDEwNjQ0NSwgLTczLjk3NDc3NzIyMTY3OTY5XSwKICAgICAgICAgICAgewogICAgICAgICAgICAgICAgaWNvbjogbmV3IEwuSWNvbi5EZWZhdWx0KCksCiAgICAgICAgICAgICAgICB9CiAgICAgICAgICAgICkuYWRkVG8obWFwXzI1NzJjYTMxMzA3MTQ5MzNhMGI1MzdkYWQ3YThmZmMxKTsKICAgICAgICAKICAgIAogICAgICAgIHZhciBtYXJrZXJfYTYzN2U3ZjRkOTI3NDVmNDk3Y2M3NWE1OTc5OTkxMTIgPSBMLm1hcmtlcigKICAgICAgICAgICAgWzQwLjc0NjA1MTc4ODMzMDA4LCAtNzMuOTcxODU1MTYzNTc0MjJdLAogICAgICAgICAgICB7CiAgICAgICAgICAgICAgICBpY29uOiBuZXcgTC5JY29uLkRlZmF1bHQoKSwKICAgICAgICAgICAgICAgIH0KICAgICAgICAgICAgKS5hZGRUbyhtYXBfMjU3MmNhMzEzMDcxNDkzM2EwYjUzN2RhZDdhOGZmYzEpOwogICAgICAgIAogICAgCiAgICAgICAgdmFyIG1hcmtlcl9hYjA3ZWQ4NmVlZWE0ZGNhYjFkYjZhOWY2MGFiY2ZiOSA9IEwubWFya2VyKAogICAgICAgICAgICBbNDAuNzc2Mzc4NjMxNTkxOCwgLTczLjk1NzgzOTk2NTgyMDNdLAogICAgICAgICAgICB7CiAgICAgICAgICAgICAgICBpY29uOiBuZXcgTC5JY29uLkRlZmF1bHQoKSwKICAgICAgICAgICAgICAgIH0KICAgICAgICAgICAgKS5hZGRUbyhtYXBfMjU3MmNhMzEzMDcxNDkzM2EwYjUzN2RhZDdhOGZmYzEpOwogICAgICAgIAogICAgCiAgICAgICAgdmFyIG1hcmtlcl9jNzZjOGM2Y2UzNGI0ZGE1YTJlMjIzODk0ZDUyNDkwYyA9IEwubWFya2VyKAogICAgICAgICAgICBbNDAuNzk0MzE5MTUyODMyMDMsIC03My45NDQ5ODQ0MzYwMzUxNl0sCiAgICAgICAgICAgIHsKICAgICAgICAgICAgICAgIGljb246IG5ldyBMLkljb24uRGVmYXVsdCgpLAogICAgICAgICAgICAgICAgfQogICAgICAgICAgICApLmFkZFRvKG1hcF8yNTcyY2EzMTMwNzE0OTMzYTBiNTM3ZGFkN2E4ZmZjMSk7CiAgICAgICAgCiAgICAKICAgICAgICB2YXIgbWFya2VyXzJlMzg4YTNmZDJhYTQ2NGZiYzViYzliZWI2Nzc2OThkID0gTC5tYXJrZXIoCiAgICAgICAgICAgIFs0MC43MzgxMzYyOTE1MDM5MDYsIC03NC4wMDk2NTg4MTM0NzY1Nl0sCiAgICAgICAgICAgIHsKICAgICAgICAgICAgICAgIGljb246IG5ldyBMLkljb24uRGVmYXVsdCgpLAogICAgICAgICAgICAgICAgfQogICAgICAgICAgICApLmFkZFRvKG1hcF8yNTcyY2EzMTMwNzE0OTMzYTBiNTM3ZGFkN2E4ZmZjMSk7CiAgICAgICAgCiAgICAKICAgICAgICB2YXIgbWFya2VyXzZkOGQ2MWE3N2FhZjRkYjVhNzJlYTk5Mjg2ZjBkOGZiID0gTC5tYXJrZXIoCiAgICAgICAgICAgIFs0MC43Mjk1MzQxNDkxNjk5MiwgLTczLjk5MTg1MTgwNjY0MDYyXSwKICAgICAgICAgICAgewogICAgICAgICAgICAgICAgaWNvbjogbmV3IEwuSWNvbi5EZWZhdWx0KCksCiAgICAgICAgICAgICAgICB9CiAgICAgICAgICAgICkuYWRkVG8obWFwXzI1NzJjYTMxMzA3MTQ5MzNhMGI1MzdkYWQ3YThmZmMxKTsKICAgICAgICAKICAgIAogICAgICAgIHZhciBtYXJrZXJfYzllZDA1YWMxZGQ1NGZiNzgzMDU3ZTdlZjUwYjUyZWIgPSBMLm1hcmtlcigKICAgICAgICAgICAgWzQwLjc1Njc5Nzc5MDUyNzM0NCwgLTczLjk5MDAwNTQ5MzE2NDA2XSwKICAgICAgICAgICAgewogICAgICAgICAgICAgICAgaWNvbjogbmV3IEwuSWNvbi5EZWZhdWx0KCksCiAgICAgICAgICAgICAgICB9CiAgICAgICAgICAgICkuYWRkVG8obWFwXzI1NzJjYTMxMzA3MTQ5MzNhMGI1MzdkYWQ3YThmZmMxKTsKICAgICAgICAKICAgIAogICAgICAgIHZhciBtYXJrZXJfMTNmODZkMzM0ODg5NGQ1NGExMTA2NWRlNTIwYjA1NzMgPSBMLm1hcmtlcigKICAgICAgICAgICAgWzQwLjcyODM4OTczOTk5MDI0LCAtNzQuMDAyNTg2MzY0NzQ2MV0sCiAgICAgICAgICAgIHsKICAgICAgICAgICAgICAgIGljb246IG5ldyBMLkljb24uRGVmYXVsdCgpLAogICAgICAgICAgICAgICAgfQogICAgICAgICAgICApLmFkZFRvKG1hcF8yNTcyY2EzMTMwNzE0OTMzYTBiNTM3ZGFkN2E4ZmZjMSk7CiAgICAgICAgCiAgICAKICAgICAgICB2YXIgbWFya2VyXzIxMWE4Mjg4ZmQxMzRmMzhhN2NlZjQ4OGZjYjE3NDdjID0gTC5tYXJrZXIoCiAgICAgICAgICAgIFs0MC43MzA1NzkzNzYyMjA3LCAtNzMuOTg5MDgyMzM2NDI1NzhdLAogICAgICAgICAgICB7CiAgICAgICAgICAgICAgICBpY29uOiBuZXcgTC5JY29uLkRlZmF1bHQoKSwKICAgICAgICAgICAgICAgIH0KICAgICAgICAgICAgKS5hZGRUbyhtYXBfMjU3MmNhMzEzMDcxNDkzM2EwYjUzN2RhZDdhOGZmYzEpOwogICAgICAgIAogICAgCiAgICAgICAgdmFyIG1hcmtlcl8xMzY5ZDFiZDM5YTg0MjZhYjExMjQyNWVmN2M2MDM2ZiA9IEwubWFya2VyKAogICAgICAgICAgICBbNDAuNzU2MjE0MTQxODQ1Njk2LCAtNzMuOTcyOTQ2MTY2OTkyMTldLAogICAgICAgICAgICB7CiAgICAgICAgICAgICAgICBpY29uOiBuZXcgTC5JY29uLkRlZmF1bHQoKSwKICAgICAgICAgICAgICAgIH0KICAgICAgICAgICAgKS5hZGRUbyhtYXBfMjU3MmNhMzEzMDcxNDkzM2EwYjUzN2RhZDdhOGZmYzEpOwogICAgICAgIAogICAgCiAgICAgICAgdmFyIG1hcmtlcl9kOWRhNDVhNjM4NDU0ODY0YTNkNDBjMTVlMzYwZmEyOCA9IEwubWFya2VyKAogICAgICAgICAgICBbNDAuNzg0NzcwOTY1NTc2MTcsIC03My45NDgzNzk1MTY2MDE1Nl0sCiAgICAgICAgICAgIHsKICAgICAgICAgICAgICAgIGljb246IG5ldyBMLkljb24uRGVmYXVsdCgpLAogICAgICAgICAgICAgICAgfQogICAgICAgICAgICApLmFkZFRvKG1hcF8yNTcyY2EzMTMwNzE0OTMzYTBiNTM3ZGFkN2E4ZmZjMSk7CiAgICAgICAgCiAgICAKICAgICAgICB2YXIgbWFya2VyXzFhNzY1NmU2NjRjZjRjNWFiZjcxZWE3MTIxM2ZiMGU5ID0gTC5tYXJrZXIoCiAgICAgICAgICAgIFs0MC43Mzk4MDcxMjg5MDYyNSwgLTczLjk5MDg4Mjg3MzUzNTE2XSwKICAgICAgICAgICAgewogICAgICAgICAgICAgICAgaWNvbjogbmV3IEwuSWNvbi5EZWZhdWx0KCksCiAgICAgICAgICAgICAgICB9CiAgICAgICAgICAgICkuYWRkVG8obWFwXzI1NzJjYTMxMzA3MTQ5MzNhMGI1MzdkYWQ3YThmZmMxKTsKICAgICAgICAKICAgIAogICAgICAgIHZhciBtYXJrZXJfNjk2ZDNmMjU5MjMxNGJkYTgyNjc0ZjMwNTI2YTMzYTggPSBMLm1hcmtlcigKICAgICAgICAgICAgWzQwLjc0NjMxNTAwMjQ0MTQwNiwgLTczLjk5MDk2Njc5Njg3NV0sCiAgICAgICAgICAgIHsKICAgICAgICAgICAgICAgIGljb246IG5ldyBMLkljb24uRGVmYXVsdCgpLAogICAgICAgICAgICAgICAgfQogICAgICAgICAgICApLmFkZFRvKG1hcF8yNTcyY2EzMTMwNzE0OTMzYTBiNTM3ZGFkN2E4ZmZjMSk7CiAgICAgICAgCiAgICAKICAgICAgICB2YXIgbWFya2VyXzU5NDAzZjc4ZjM1NTQ2MjhhOTYwMGQ5NTkyYjg4MDc0ID0gTC5tYXJrZXIoCiAgICAgICAgICAgIFs0MC43MzE3NzcxOTExNjIxLCAtNzQuMDAwOTM4NDE1NTI3MzRdLAogICAgICAgICAgICB7CiAgICAgICAgICAgICAgICBpY29uOiBuZXcgTC5JY29uLkRlZmF1bHQoKSwKICAgICAgICAgICAgICAgIH0KICAgICAgICAgICAgKS5hZGRUbyhtYXBfMjU3MmNhMzEzMDcxNDkzM2EwYjUzN2RhZDdhOGZmYzEpOwogICAgICAgIAogICAgCiAgICAgICAgdmFyIG1hcmtlcl9hMzkwOTRkMGE2ODA0NWE0ODFlMmI3MjA1YzQ2NTlmNiA9IEwubWFya2VyKAogICAgICAgICAgICBbNDAuNzczNDk0NzIwNDU4OTgsIC03My45NTUzOTg1NTk1NzAzXSwKICAgICAgICAgICAgewogICAgICAgICAgICAgICAgaWNvbjogbmV3IEwuSWNvbi5EZWZhdWx0KCksCiAgICAgICAgICAgICAgICB9CiAgICAgICAgICAgICkuYWRkVG8obWFwXzI1NzJjYTMxMzA3MTQ5MzNhMGI1MzdkYWQ3YThmZmMxKTsKICAgICAgICAKICAgIAogICAgICAgIHZhciBtYXJrZXJfZWEwYjUzNjA1ZWMzNDZlY2EwNmE0NWRiODY2ZmM3MzAgPSBMLm1hcmtlcigKICAgICAgICAgICAgWzQwLjczMTM2MTM4OTE2MDE1NiwgLTczLjk4ODQxMDk0OTcwNzAyXSwKICAgICAgICAgICAgewogICAgICAgICAgICAgICAgaWNvbjogbmV3IEwuSWNvbi5EZWZhdWx0KCksCiAgICAgICAgICAgICAgICB9CiAgICAgICAgICAgICkuYWRkVG8obWFwXzI1NzJjYTMxMzA3MTQ5MzNhMGI1MzdkYWQ3YThmZmMxKTsKICAgICAgICAKICAgIAogICAgICAgIHZhciBtYXJrZXJfNGQwZDA5NGRlY2ZkNDA5MGIyY2IyNTk3MzRjYjM4NWQgPSBMLm1hcmtlcigKICAgICAgICAgICAgWzQwLjc2MTU5NjY3OTY4NzUsIC03My45NjYwNzIwODI1MTk1NV0sCiAgICAgICAgICAgIHsKICAgICAgICAgICAgICAgIGljb246IG5ldyBMLkljb24uRGVmYXVsdCgpLAogICAgICAgICAgICAgICAgfQogICAgICAgICAgICApLmFkZFRvKG1hcF8yNTcyY2EzMTMwNzE0OTMzYTBiNTM3ZGFkN2E4ZmZjMSk7CiAgICAgICAgCiAgICAKICAgICAgICB2YXIgbWFya2VyXzU0ZmNlNmEwY2FjMzRmYzJhMWI1MDViYWQ0YzgxYjYzID0gTC5tYXJrZXIoCiAgICAgICAgICAgIFs0MC43NTM4NTI4NDQyMzgyOCwgLTczLjk3MjM1MTA3NDIxODc1XSwKICAgICAgICAgICAgewogICAgICAgICAgICAgICAgaWNvbjogbmV3IEwuSWNvbi5EZWZhdWx0KCksCiAgICAgICAgICAgICAgICB9CiAgICAgICAgICAgICkuYWRkVG8obWFwXzI1NzJjYTMxMzA3MTQ5MzNhMGI1MzdkYWQ3YThmZmMxKTsKICAgICAgICAKICAgIAogICAgICAgIHZhciBtYXJrZXJfMmMwYWIyNzNlOGQxNDE3M2I1NjIyMGIzY2I3OTVhNjIgPSBMLm1hcmtlcigKICAgICAgICAgICAgWzQwLjcxNTYwNjY4OTQ1MzEzLCAtNzQuMDA5MTc4MTYxNjIxMV0sCiAgICAgICAgICAgIHsKICAgICAgICAgICAgICAgIGljb246IG5ldyBMLkljb24uRGVmYXVsdCgpLAogICAgICAgICAgICAgICAgfQogICAgICAgICAgICApLmFkZFRvKG1hcF8yNTcyY2EzMTMwNzE0OTMzYTBiNTM3ZGFkN2E4ZmZjMSk7CiAgICAgICAgCiAgICAKICAgICAgICB2YXIgbWFya2VyXzU5NTlmMTU3YTU3ODRiZWRiNTY5NTM3MzliNDJjYWExID0gTC5tYXJrZXIoCiAgICAgICAgICAgIFs0MC43MDEzMDE1NzQ3MDcwMywgLTczLjk4OTcwMDMxNzM4MjgxXSwKICAgICAgICAgICAgewogICAgICAgICAgICAgICAgaWNvbjogbmV3IEwuSWNvbi5EZWZhdWx0KCksCiAgICAgICAgICAgICAgICB9CiAgICAgICAgICAgICkuYWRkVG8obWFwXzI1NzJjYTMxMzA3MTQ5MzNhMGI1MzdkYWQ3YThmZmMxKTsKICAgICAgICAKICAgIAogICAgICAgIHZhciBtYXJrZXJfZGEwODg3ZjcyZDEzNDYxMTlkYWUyZDVkNzQ3OGJmMDAgPSBMLm1hcmtlcigKICAgICAgICAgICAgWzQwLjY0NTEzMDE1NzQ3MDcsIC03My43NzY3MTgxMzk2NDg0NV0sCiAgICAgICAgICAgIHsKICAgICAgICAgICAgICAgIGljb246IG5ldyBMLkljb24uRGVmYXVsdCgpLAogICAgICAgICAgICAgICAgfQogICAgICAgICAgICApLmFkZFRvKG1hcF8yNTcyY2EzMTMwNzE0OTMzYTBiNTM3ZGFkN2E4ZmZjMSk7CiAgICAgICAgCiAgICAKICAgICAgICB2YXIgbWFya2VyX2IwNWI3NmU3ZWI3YTRlNDE4MjM4M2ZkY2UyZTBiM2Y0ID0gTC5tYXJrZXIoCiAgICAgICAgICAgIFs0MC43NjM1NDIxNzUyOTI5NywgLTczLjk4MTQzNzY4MzEwNTQ3XSwKICAgICAgICAgICAgewogICAgICAgICAgICAgICAgaWNvbjogbmV3IEwuSWNvbi5EZWZhdWx0KCksCiAgICAgICAgICAgICAgICB9CiAgICAgICAgICAgICkuYWRkVG8obWFwXzI1NzJjYTMxMzA3MTQ5MzNhMGI1MzdkYWQ3YThmZmMxKTsKICAgICAgICAKICAgIAogICAgICAgIHZhciBtYXJrZXJfY2YyOWFiYjY4NGFiNDZjNDg1NGQ3ODgxMWY1YWExNjggPSBMLm1hcmtlcigKICAgICAgICAgICAgWzQwLjc2NzIxOTU0MzQ1NzAzLCAtNzMuOTU0MzIyODE0OTQxNF0sCiAgICAgICAgICAgIHsKICAgICAgICAgICAgICAgIGljb246IG5ldyBMLkljb24uRGVmYXVsdCgpLAogICAgICAgICAgICAgICAgfQogICAgICAgICAgICApLmFkZFRvKG1hcF8yNTcyY2EzMTMwNzE0OTMzYTBiNTM3ZGFkN2E4ZmZjMSk7CiAgICAgICAgCiAgICAKICAgICAgICB2YXIgbWFya2VyXzYyOTQ2NmY1NGMxZDRkMDVhYmNlYTI3ZWQ2NDYzZjI4ID0gTC5tYXJrZXIoCiAgICAgICAgICAgIFs0MC43NjE0OTM2ODI4NjEzMywgLTczLjk2MDYwMTgwNjY0MDYyXSwKICAgICAgICAgICAgewogICAgICAgICAgICAgICAgaWNvbjogbmV3IEwuSWNvbi5EZWZhdWx0KCksCiAgICAgICAgICAgICAgICB9CiAgICAgICAgICAgICkuYWRkVG8obWFwXzI1NzJjYTMxMzA3MTQ5MzNhMGI1MzdkYWQ3YThmZmMxKTsKICAgICAgICAKICAgIAogICAgICAgIHZhciBtYXJrZXJfMDM1ZWIwMmRmMDdjNDIzOTk3MzRhMmMyMDEwZjhjZTMgPSBMLm1hcmtlcigKICAgICAgICAgICAgWzQwLjc3MTAxMTM1MjUzOTA1NSwgLTczLjk1MDY5MTIyMzE0NDUzXSwKICAgICAgICAgICAgewogICAgICAgICAgICAgICAgaWNvbjogbmV3IEwuSWNvbi5EZWZhdWx0KCksCiAgICAgICAgICAgICAgICB9CiAgICAgICAgICAgICkuYWRkVG8obWFwXzI1NzJjYTMxMzA3MTQ5MzNhMGI1MzdkYWQ3YThmZmMxKTsKICAgICAgICAKICAgIAogICAgICAgIHZhciBtYXJrZXJfMWEzNzRlMDZmNTY0NDI4YzgxMTc0MDcxNDg2NDZmMDEgPSBMLm1hcmtlcigKICAgICAgICAgICAgWzQwLjc0NzQ0NDE1MjgzMjAzLCAtNzMuOTkzMzU0Nzk3MzYzMjhdLAogICAgICAgICAgICB7CiAgICAgICAgICAgICAgICBpY29uOiBuZXcgTC5JY29uLkRlZmF1bHQoKSwKICAgICAgICAgICAgICAgIH0KICAgICAgICAgICAgKS5hZGRUbyhtYXBfMjU3MmNhMzEzMDcxNDkzM2EwYjUzN2RhZDdhOGZmYzEpOwogICAgICAgIAogICAgCiAgICAgICAgdmFyIG1hcmtlcl8wMzdjYjhkZWE2YjQ0YTY1Yjg4Y2Y5MDZhNzgyNmYwOSA9IEwubWFya2VyKAogICAgICAgICAgICBbNDAuNzcyMTU5NTc2NDE2MDE2LCAtNzMuOTQ5OTIwNjU0Mjk2ODZdLAogICAgICAgICAgICB7CiAgICAgICAgICAgICAgICBpY29uOiBuZXcgTC5JY29uLkRlZmF1bHQoKSwKICAgICAgICAgICAgICAgIH0KICAgICAgICAgICAgKS5hZGRUbyhtYXBfMjU3MmNhMzEzMDcxNDkzM2EwYjUzN2RhZDdhOGZmYzEpOwogICAgICAgIAogICAgCiAgICAgICAgdmFyIG1hcmtlcl8xMGFhM2IyNTBjNWI0YzQzYjFlZTcyNzc3YmUyMDVkMSA9IEwubWFya2VyKAogICAgICAgICAgICBbNDAuNzQ4NTkyMzc2NzA4OTgsIC03My45NzgzMDIwMDE5NTMxMl0sCiAgICAgICAgICAgIHsKICAgICAgICAgICAgICAgIGljb246IG5ldyBMLkljb24uRGVmYXVsdCgpLAogICAgICAgICAgICAgICAgfQogICAgICAgICAgICApLmFkZFRvKG1hcF8yNTcyY2EzMTMwNzE0OTMzYTBiNTM3ZGFkN2E4ZmZjMSk7CiAgICAgICAgCiAgICAKICAgICAgICB2YXIgbWFya2VyX2E5ZTQzNWNlM2QzZjQ2NmRiMTI5MGZkMjU1NmU1OTg1ID0gTC5tYXJrZXIoCiAgICAgICAgICAgIFs0MC43MjUzNDk0MjYyNjk1MywgLTczLjk5MDE1MDQ1MTY2MDE0XSwKICAgICAgICAgICAgewogICAgICAgICAgICAgICAgaWNvbjogbmV3IEwuSWNvbi5EZWZhdWx0KCksCiAgICAgICAgICAgICAgICB9CiAgICAgICAgICAgICkuYWRkVG8obWFwXzI1NzJjYTMxMzA3MTQ5MzNhMGI1MzdkYWQ3YThmZmMxKTsKICAgICAgICAKICAgIAogICAgICAgIHZhciBtYXJrZXJfNzIwMmNhN2M1Mjk1NDJiYWIzZWIwZmUzNjE2ZTUxODIgPSBMLm1hcmtlcigKICAgICAgICAgICAgWzQwLjc0Mzk0OTg5MDEzNjcyLCAtNzQuMDA2NjYwNDYxNDI1NzhdLAogICAgICAgICAgICB7CiAgICAgICAgICAgICAgICBpY29uOiBuZXcgTC5JY29uLkRlZmF1bHQoKSwKICAgICAgICAgICAgICAgIH0KICAgICAgICAgICAgKS5hZGRUbyhtYXBfMjU3MmNhMzEzMDcxNDkzM2EwYjUzN2RhZDdhOGZmYzEpOwogICAgICAgIAogICAgCiAgICAgICAgdmFyIG1hcmtlcl85MmU1YjRhNmQ4YzE0ODRkOWNiNzM0ZDcwZTBjZmEwZSA9IEwubWFya2VyKAogICAgICAgICAgICBbNDAuNzY2NzgwODUzMjcxNDksIC03My45NTM5MzM3MTU4MjAzXSwKICAgICAgICAgICAgewogICAgICAgICAgICAgICAgaWNvbjogbmV3IEwuSWNvbi5EZWZhdWx0KCksCiAgICAgICAgICAgICAgICB9CiAgICAgICAgICAgICkuYWRkVG8obWFwXzI1NzJjYTMxMzA3MTQ5MzNhMGI1MzdkYWQ3YThmZmMxKTsKICAgICAgICAKICAgIAogICAgICAgIHZhciBtYXJrZXJfMTE3ZmMyMDJhMDEwNGFkZmJmNWFlY2M0OTI3MmJlYjIgPSBMLm1hcmtlcigKICAgICAgICAgICAgWzQwLjc4MzcyMTkyMzgyODEzLCAtNzMuOTc3OTY2MzA4NTkzNzVdLAogICAgICAgICAgICB7CiAgICAgICAgICAgICAgICBpY29uOiBuZXcgTC5JY29uLkRlZmF1bHQoKSwKICAgICAgICAgICAgICAgIH0KICAgICAgICAgICAgKS5hZGRUbyhtYXBfMjU3MmNhMzEzMDcxNDkzM2EwYjUzN2RhZDdhOGZmYzEpOwogICAgICAgIAogICAgCiAgICAgICAgdmFyIG1hcmtlcl9jZWEyODdhZDM3Y2Q0MjJlOTYwNmNhMWE0YThmZjI5YyA9IEwubWFya2VyKAogICAgICAgICAgICBbNDAuNzYyMTg0MTQzMDY2NDA2LCAtNzMuOTY0MzkzNjE1NzIyNjZdLAogICAgICAgICAgICB7CiAgICAgICAgICAgICAgICBpY29uOiBuZXcgTC5JY29uLkRlZmF1bHQoKSwKICAgICAgICAgICAgICAgIH0KICAgICAgICAgICAgKS5hZGRUbyhtYXBfMjU3MmNhMzEzMDcxNDkzM2EwYjUzN2RhZDdhOGZmYzEpOwogICAgICAgIAogICAgCiAgICAgICAgdmFyIG1hcmtlcl9jOWJhNDA0MTdmM2Y0YTA5OGE0ODk4MTg3NmY0MjY1NSA9IEwubWFya2VyKAogICAgICAgICAgICBbNDAuNzQzMzg1MzE0OTQxNDA2LCAtNzMuOTgxOTE4MzM0OTYwOTRdLAogICAgICAgICAgICB7CiAgICAgICAgICAgICAgICBpY29uOiBuZXcgTC5JY29uLkRlZmF1bHQoKSwKICAgICAgICAgICAgICAgIH0KICAgICAgICAgICAgKS5hZGRUbyhtYXBfMjU3MmNhMzEzMDcxNDkzM2EwYjUzN2RhZDdhOGZmYzEpOwogICAgICAgIAogICAgCiAgICAgICAgdmFyIG1hcmtlcl81MjUwN2I0N2Y5Zjc0OTMzYjlmMTVhYjE4OTgxNzc2NSA9IEwubWFya2VyKAogICAgICAgICAgICBbNDAuNzY2NzMxMjYyMjA3MDMsIC03My45NTM4NDk3OTI0ODA0OF0sCiAgICAgICAgICAgIHsKICAgICAgICAgICAgICAgIGljb246IG5ldyBMLkljb24uRGVmYXVsdCgpLAogICAgICAgICAgICAgICAgfQogICAgICAgICAgICApLmFkZFRvKG1hcF8yNTcyY2EzMTMwNzE0OTMzYTBiNTM3ZGFkN2E4ZmZjMSk7CiAgICAgICAgCiAgICAKICAgICAgICB2YXIgbWFya2VyX2Q5MjM5MjAwZDhiZDQ3NzQ5NWM3OWNiOTNkNzE1MTIxID0gTC5tYXJrZXIoCiAgICAgICAgICAgIFs0MC43NTA2NjM3NTczMjQyMiwgLTczLjk5MDg2NzYxNDc0NjFdLAogICAgICAgICAgICB7CiAgICAgICAgICAgICAgICBpY29uOiBuZXcgTC5JY29uLkRlZmF1bHQoKSwKICAgICAgICAgICAgICAgIH0KICAgICAgICAgICAgKS5hZGRUbyhtYXBfMjU3MmNhMzEzMDcxNDkzM2EwYjUzN2RhZDdhOGZmYzEpOwogICAgICAgIAogICAgCiAgICAgICAgdmFyIG1hcmtlcl8yMTNmYTg2YTY3MzY0YWVkOTdlNTVjZmIzZTRhY2Y1MCA9IEwubWFya2VyKAogICAgICAgICAgICBbNDAuNzU1MjI5OTQ5OTUxMTcsIC03My45NzM1NzE3NzczNDM3NV0sCiAgICAgICAgICAgIHsKICAgICAgICAgICAgICAgIGljb246IG5ldyBMLkljb24uRGVmYXVsdCgpLAogICAgICAgICAgICAgICAgfQogICAgICAgICAgICApLmFkZFRvKG1hcF8yNTcyY2EzMTMwNzE0OTMzYTBiNTM3ZGFkN2E4ZmZjMSk7CiAgICAgICAgCiAgICAKICAgICAgICB2YXIgbWFya2VyXzFmMzI5NzI4YmFhOTRlOTNiZWViMWE3NGRjMDkzZmQyID0gTC5tYXJrZXIoCiAgICAgICAgICAgIFs0MC43Nzk0MjY1NzQ3MDcwMywgLTczLjk4NDgwMjI0NjA5Mzc1XSwKICAgICAgICAgICAgewogICAgICAgICAgICAgICAgaWNvbjogbmV3IEwuSWNvbi5EZWZhdWx0KCksCiAgICAgICAgICAgICAgICB9CiAgICAgICAgICAgICkuYWRkVG8obWFwXzI1NzJjYTMxMzA3MTQ5MzNhMGI1MzdkYWQ3YThmZmMxKTsKICAgICAgICAKICAgIAogICAgICAgIHZhciBtYXJrZXJfZTk1YjBiMTExMTg3NDY4Yzk3Y2UzOTU3NWVjYzhmZDIgPSBMLm1hcmtlcigKICAgICAgICAgICAgWzQwLjc2OTc5NDQ2NDExMTMzLCAtNzMuOTUxNjQ0ODk3NDYwOTRdLAogICAgICAgICAgICB7CiAgICAgICAgICAgICAgICBpY29uOiBuZXcgTC5JY29uLkRlZmF1bHQoKSwKICAgICAgICAgICAgICAgIH0KICAgICAgICAgICAgKS5hZGRUbyhtYXBfMjU3MmNhMzEzMDcxNDkzM2EwYjUzN2RhZDdhOGZmYzEpOwogICAgICAgIAogICAgCiAgICAgICAgdmFyIG1hcmtlcl81MmM1N2U3ZDA0MjM0YmI0OTc0MGRhN2QzODA2YWYwNCA9IEwubWFya2VyKAogICAgICAgICAgICBbNDAuNzgwODk5MDQ3ODUxNTYsIC03My45NzY0MjUxNzA4OTg0NF0sCiAgICAgICAgICAgIHsKICAgICAgICAgICAgICAgIGljb246IG5ldyBMLkljb24uRGVmYXVsdCgpLAogICAgICAgICAgICAgICAgfQogICAgICAgICAgICApLmFkZFRvKG1hcF8yNTcyY2EzMTMwNzE0OTMzYTBiNTM3ZGFkN2E4ZmZjMSk7CiAgICAgICAgCiAgICAKICAgICAgICB2YXIgbWFya2VyX2VkZjQ2ZTFkZmI1ODQ4MmU4YjE0ZDdkYmFlZDU5NjAzID0gTC5tYXJrZXIoCiAgICAgICAgICAgIFs0MC43Nzk2MDk2ODAxNzU3NzQsIC03My45NTU2Mjc0NDE0MDYyNV0sCiAgICAgICAgICAgIHsKICAgICAgICAgICAgICAgIGljb246IG5ldyBMLkljb24uRGVmYXVsdCgpLAogICAgICAgICAgICAgICAgfQogICAgICAgICAgICApLmFkZFRvKG1hcF8yNTcyY2EzMTMwNzE0OTMzYTBiNTM3ZGFkN2E4ZmZjMSk7CiAgICAgICAgCiAgICAKICAgICAgICB2YXIgbWFya2VyX2RlNmQxNjI2MzAyNzQxY2M5ZmM2M2Q0MTIwZDNhODM4ID0gTC5tYXJrZXIoCiAgICAgICAgICAgIFs0MC43MzcwNzk2MjAzNjEzMywgLTczLjk3ODQ4NTEwNzQyMTg4XSwKICAgICAgICAgICAgewogICAgICAgICAgICAgICAgaWNvbjogbmV3IEwuSWNvbi5EZWZhdWx0KCksCiAgICAgICAgICAgICAgICB9CiAgICAgICAgICAgICkuYWRkVG8obWFwXzI1NzJjYTMxMzA3MTQ5MzNhMGI1MzdkYWQ3YThmZmMxKTsKICAgICAgICAKICAgIAogICAgICAgIHZhciBtYXJrZXJfYTljYzZlNDYyZDFiNDcwYmJjYWZlNTlmMzM4NmE0ZjcgPSBMLm1hcmtlcigKICAgICAgICAgICAgWzQwLjc1ODQ2MDk5ODUzNTE1NiwgLTczLjk2ODIzODgzMDU2NjRdLAogICAgICAgICAgICB7CiAgICAgICAgICAgICAgICBpY29uOiBuZXcgTC5JY29uLkRlZmF1bHQoKSwKICAgICAgICAgICAgICAgIH0KICAgICAgICAgICAgKS5hZGRUbyhtYXBfMjU3MmNhMzEzMDcxNDkzM2EwYjUzN2RhZDdhOGZmYzEpOwogICAgICAgIAogICAgCiAgICAgICAgdmFyIG1hcmtlcl9kYTFkMGJhYTNmMjQ0ZDAyYjYxYWMxNWIwNzgxMDAxMCA9IEwubWFya2VyKAogICAgICAgICAgICBbNDAuNzIwMzc1MDYxMDM1MTU2LCAtNzMuOTk5NjI2MTU5NjY3OThdLAogICAgICAgICAgICB7CiAgICAgICAgICAgICAgICBpY29uOiBuZXcgTC5JY29uLkRlZmF1bHQoKSwKICAgICAgICAgICAgICAgIH0KICAgICAgICAgICAgKS5hZGRUbyhtYXBfMjU3MmNhMzEzMDcxNDkzM2EwYjUzN2RhZDdhOGZmYzEpOwogICAgICAgIAogICAgCiAgICAgICAgdmFyIG1hcmtlcl8yZmNlOWNhYjMyZDY0OGQyYTFiYTFlNWUwNTIwNGQ5MCA9IEwubWFya2VyKAogICAgICAgICAgICBbNDAuNzMzNjM4NzYzNDI3NzMsIC03NC4wMDYyNDA4NDQ3MjY1Nl0sCiAgICAgICAgICAgIHsKICAgICAgICAgICAgICAgIGljb246IG5ldyBMLkljb24uRGVmYXVsdCgpLAogICAgICAgICAgICAgICAgfQogICAgICAgICAgICApLmFkZFRvKG1hcF8yNTcyY2EzMTMwNzE0OTMzYTBiNTM3ZGFkN2E4ZmZjMSk7CiAgICAgICAgCiAgICAKICAgICAgICB2YXIgbWFya2VyXzJhYTYzOWVkNzVjMDRmODY4MDA3YmYzYTllZjY5MDQ0ID0gTC5tYXJrZXIoCiAgICAgICAgICAgIFs0MC43NDcwMzIxNjU1MjczNDQsIC03My45OTcxMzEzNDc2NTYyNV0sCiAgICAgICAgICAgIHsKICAgICAgICAgICAgICAgIGljb246IG5ldyBMLkljb24uRGVmYXVsdCgpLAogICAgICAgICAgICAgICAgfQogICAgICAgICAgICApLmFkZFRvKG1hcF8yNTcyY2EzMTMwNzE0OTMzYTBiNTM3ZGFkN2E4ZmZjMSk7CiAgICAgICAgCiAgICAKICAgICAgICB2YXIgbWFya2VyXzQ4MGU4MDA2OWU4NjRlOTQ4Njk4YTEzMmJmMTQ4NDVjID0gTC5tYXJrZXIoCiAgICAgICAgICAgIFs0MC43NTQ4MzMyMjE0MzU1NSwgLTczLjk3Mzc0NzI1MzQxNzk3XSwKICAgICAgICAgICAgewogICAgICAgICAgICAgICAgaWNvbjogbmV3IEwuSWNvbi5EZWZhdWx0KCksCiAgICAgICAgICAgICAgICB9CiAgICAgICAgICAgICkuYWRkVG8obWFwXzI1NzJjYTMxMzA3MTQ5MzNhMGI1MzdkYWQ3YThmZmMxKTsKICAgICAgICAKICAgIAogICAgICAgIHZhciBtYXJrZXJfYmY2Yzk3Mzc1N2MxNDY4MGIzMzllYTlmMTFiYWZjMjAgPSBMLm1hcmtlcigKICAgICAgICAgICAgWzQwLjc2Njk1NjMyOTM0NTY5NiwgLTczLjk4MjgxMDk3NDEyMTFdLAogICAgICAgICAgICB7CiAgICAgICAgICAgICAgICBpY29uOiBuZXcgTC5JY29uLkRlZmF1bHQoKSwKICAgICAgICAgICAgICAgIH0KICAgICAgICAgICAgKS5hZGRUbyhtYXBfMjU3MmNhMzEzMDcxNDkzM2EwYjUzN2RhZDdhOGZmYzEpOwogICAgICAgIAogICAgCiAgICAgICAgdmFyIG1hcmtlcl9hODA2N2Q4ZmIwY2Q0MjYwODhiMjMwNjRiNzQzODE4ZSA9IEwubWFya2VyKAogICAgICAgICAgICBbNDAuNzYxMzEwNTc3MzkyNTgsIC03My45NjM1NjIwMTE3MTg3NV0sCiAgICAgICAgICAgIHsKICAgICAgICAgICAgICAgIGljb246IG5ldyBMLkljb24uRGVmYXVsdCgpLAogICAgICAgICAgICAgICAgfQogICAgICAgICAgICApLmFkZFRvKG1hcF8yNTcyY2EzMTMwNzE0OTMzYTBiNTM3ZGFkN2E4ZmZjMSk7CiAgICAgICAgCiAgICAKICAgICAgICB2YXIgbWFya2VyX2Q1ZTIzNjJhNjQ3NzQwMWVhYjgxMWY2YTg0OGY2ZDk2ID0gTC5tYXJrZXIoCiAgICAgICAgICAgIFs0MC43Njc4MTA4MjE1MzMyLCAtNzMuOTAxNzQ4NjU3MjI2NTZdLAogICAgICAgICAgICB7CiAgICAgICAgICAgICAgICBpY29uOiBuZXcgTC5JY29uLkRlZmF1bHQoKSwKICAgICAgICAgICAgICAgIH0KICAgICAgICAgICAgKS5hZGRUbyhtYXBfMjU3MmNhMzEzMDcxNDkzM2EwYjUzN2RhZDdhOGZmYzEpOwogICAgICAgIAogICAgCiAgICAgICAgdmFyIG1hcmtlcl81YzI0ZjM5YjI5ZmM0YmZjYmM5ZjU4ZjU4OTUxMmE5OSA9IEwubWFya2VyKAogICAgICAgICAgICBbNDAuNzMxNTEwMTYyMzUzNTIsIC03My45ODg3Njk1MzEyNV0sCiAgICAgICAgICAgIHsKICAgICAgICAgICAgICAgIGljb246IG5ldyBMLkljb24uRGVmYXVsdCgpLAogICAgICAgICAgICAgICAgfQogICAgICAgICAgICApLmFkZFRvKG1hcF8yNTcyY2EzMTMwNzE0OTMzYTBiNTM3ZGFkN2E4ZmZjMSk7CiAgICAgICAgCiAgICAKICAgICAgICB2YXIgbWFya2VyXzVhM2QzOTNkMDQ1ZDQ2ZWRhMDY4NWQxNTA3NjkwZDgyID0gTC5tYXJrZXIoCiAgICAgICAgICAgIFs0MC43NDU2MzIxNzE2MzA4NSwgLTczLjk5MTI0MTQ1NTA3ODExXSwKICAgICAgICAgICAgewogICAgICAgICAgICAgICAgaWNvbjogbmV3IEwuSWNvbi5EZWZhdWx0KCksCiAgICAgICAgICAgICAgICB9CiAgICAgICAgICAgICkuYWRkVG8obWFwXzI1NzJjYTMxMzA3MTQ5MzNhMGI1MzdkYWQ3YThmZmMxKTsKICAgICAgICAKICAgIAogICAgICAgIHZhciBtYXJrZXJfNjMyNmZkYWJlODYzNDhkYWJhOWQyMzg5MmI4OGE4NzYgPSBMLm1hcmtlcigKICAgICAgICAgICAgWzQwLjc2ODIxMTM2NDc0NjA5NCwgLTczLjk1NTY4MDg0NzE2Nzk4XSwKICAgICAgICAgICAgewogICAgICAgICAgICAgICAgaWNvbjogbmV3IEwuSWNvbi5EZWZhdWx0KCksCiAgICAgICAgICAgICAgICB9CiAgICAgICAgICAgICkuYWRkVG8obWFwXzI1NzJjYTMxMzA3MTQ5MzNhMGI1MzdkYWQ3YThmZmMxKTsKICAgICAgICAKICAgIAogICAgICAgIHZhciBtYXJrZXJfYjRlNmU3Yzc2ZjA5NGMxZTg4NjBiMzRkNWMwZDdmZGMgPSBMLm1hcmtlcigKICAgICAgICAgICAgWzQwLjcwNDgxODcyNTU4NTk0LCAtNzQuMDA3ODgxMTY0NTUwNzhdLAogICAgICAgICAgICB7CiAgICAgICAgICAgICAgICBpY29uOiBuZXcgTC5JY29uLkRlZmF1bHQoKSwKICAgICAgICAgICAgICAgIH0KICAgICAgICAgICAgKS5hZGRUbyhtYXBfMjU3MmNhMzEzMDcxNDkzM2EwYjUzN2RhZDdhOGZmYzEpOwogICAgICAgIAogICAgCiAgICAgICAgdmFyIG1hcmtlcl81OWJjYjkxYjY3NDg0NjZkYjZiNDQyYmY2MDg5MWIzYyA9IEwubWFya2VyKAogICAgICAgICAgICBbNDAuNzkyMTYwMDM0MTc5NjksIC03My45NjgxMzIwMTkwNDI5OF0sCiAgICAgICAgICAgIHsKICAgICAgICAgICAgICAgIGljb246IG5ldyBMLkljb24uRGVmYXVsdCgpLAogICAgICAgICAgICAgICAgfQogICAgICAgICAgICApLmFkZFRvKG1hcF8yNTcyY2EzMTMwNzE0OTMzYTBiNTM3ZGFkN2E4ZmZjMSk7CiAgICAgICAgCiAgICAKICAgICAgICB2YXIgbWFya2VyXzk1NWM1Y2FmYzNkNDRlMGJhMDA3YjA2NTg5Y2IzZGJiID0gTC5tYXJrZXIoCiAgICAgICAgICAgIFs0MC43MjI1ODM3NzA3NTE5NSwgLTczLjk4NjEzNzM5MDEzNjcyXSwKICAgICAgICAgICAgewogICAgICAgICAgICAgICAgaWNvbjogbmV3IEwuSWNvbi5EZWZhdWx0KCksCiAgICAgICAgICAgICAgICB9CiAgICAgICAgICAgICkuYWRkVG8obWFwXzI1NzJjYTMxMzA3MTQ5MzNhMGI1MzdkYWQ3YThmZmMxKTsKICAgICAgICAKICAgIAogICAgICAgIHZhciBtYXJrZXJfMDIzNDkyZDZjODlkNGI4OGE0NTVkZmVjY2U3NDdlZjIgPSBMLm1hcmtlcigKICAgICAgICAgICAgWzQwLjc5ODkwODIzMzY0MjU4LCAtNzMuOTcwNjU3MzQ4NjMyODFdLAogICAgICAgICAgICB7CiAgICAgICAgICAgICAgICBpY29uOiBuZXcgTC5JY29uLkRlZmF1bHQoKSwKICAgICAgICAgICAgICAgIH0KICAgICAgICAgICAgKS5hZGRUbyhtYXBfMjU3MmNhMzEzMDcxNDkzM2EwYjUzN2RhZDdhOGZmYzEpOwogICAgICAgIAogICAgCiAgICAgICAgdmFyIG1hcmtlcl9lZjQ5ODhiZGI3YWU0OTg0OWVjZTVlZDNkMzk3YTE1YyA9IEwubWFya2VyKAogICAgICAgICAgICBbNDAuNzY1OTQxNjE5ODczMDUsIC03My45NTQzMjI4MTQ5NDE0XSwKICAgICAgICAgICAgewogICAgICAgICAgICAgICAgaWNvbjogbmV3IEwuSWNvbi5EZWZhdWx0KCksCiAgICAgICAgICAgICAgICB9CiAgICAgICAgICAgICkuYWRkVG8obWFwXzI1NzJjYTMxMzA3MTQ5MzNhMGI1MzdkYWQ3YThmZmMxKTsKICAgICAgICAKICAgIAogICAgICAgIHZhciBtYXJrZXJfMTVmZDM3NDNhNjIwNGZiYTgxNDRmYWYzNzdmZjk1MjYgPSBMLm1hcmtlcigKICAgICAgICAgICAgWzQwLjgxNzE1MDExNTk2NjgsIC03My45NTM1ODI3NjM2NzE4OF0sCiAgICAgICAgICAgIHsKICAgICAgICAgICAgICAgIGljb246IG5ldyBMLkljb24uRGVmYXVsdCgpLAogICAgICAgICAgICAgICAgfQogICAgICAgICAgICApLmFkZFRvKG1hcF8yNTcyY2EzMTMwNzE0OTMzYTBiNTM3ZGFkN2E4ZmZjMSk7CiAgICAgICAgCiAgICAKICAgICAgICB2YXIgbWFya2VyXzFmZGFlNGJhMTUyMzQzZjM4Y2U3OTYwMmY5OTRhMjQxID0gTC5tYXJrZXIoCiAgICAgICAgICAgIFs0MC43NTEzOTYxNzkxOTkyMiwgLTczLjk5MDU5Mjk1NjU0Mjk4XSwKICAgICAgICAgICAgewogICAgICAgICAgICAgICAgaWNvbjogbmV3IEwuSWNvbi5EZWZhdWx0KCksCiAgICAgICAgICAgICAgICB9CiAgICAgICAgICAgICkuYWRkVG8obWFwXzI1NzJjYTMxMzA3MTQ5MzNhMGI1MzdkYWQ3YThmZmMxKTsKICAgICAgICAKICAgIAogICAgICAgIHZhciBtYXJrZXJfNmY2MzUyNjExYzdmNDhjNzhjZTY5ZmUzMjgyNTEzM2EgPSBMLm1hcmtlcigKICAgICAgICAgICAgWzQwLjc1NjI3MTM2MjMwNDY5LCAtNzMuOTcwMDYyMjU1ODU5MzhdLAogICAgICAgICAgICB7CiAgICAgICAgICAgICAgICBpY29uOiBuZXcgTC5JY29uLkRlZmF1bHQoKSwKICAgICAgICAgICAgICAgIH0KICAgICAgICAgICAgKS5hZGRUbyhtYXBfMjU3MmNhMzEzMDcxNDkzM2EwYjUzN2RhZDdhOGZmYzEpOwogICAgICAgIAogICAgCiAgICAgICAgdmFyIG1hcmtlcl9hZWRiMDRkN2JjM2Q0OWM5YjlkOTA1MWZmNmRkMWQwYSA9IEwubWFya2VyKAogICAgICAgICAgICBbNDAuNzU1MzM2NzYxNDc0NjEsIC03My45NzEzNTE2MjM1MzUxNl0sCiAgICAgICAgICAgIHsKICAgICAgICAgICAgICAgIGljb246IG5ldyBMLkljb24uRGVmYXVsdCgpLAogICAgICAgICAgICAgICAgfQogICAgICAgICAgICApLmFkZFRvKG1hcF8yNTcyY2EzMTMwNzE0OTMzYTBiNTM3ZGFkN2E4ZmZjMSk7CiAgICAgICAgCiAgICAKICAgICAgICB2YXIgbWFya2VyX2ZjNjMyMzM3Yzc1NDRmZDE5NjI4YzkzZjUyMTI1ZWM4ID0gTC5tYXJrZXIoCiAgICAgICAgICAgIFs0MC43NDE4MjEyODkwNjI1LCAtNzQuMDAzOTk3ODAyNzM0MzhdLAogICAgICAgICAgICB7CiAgICAgICAgICAgICAgICBpY29uOiBuZXcgTC5JY29uLkRlZmF1bHQoKSwKICAgICAgICAgICAgICAgIH0KICAgICAgICAgICAgKS5hZGRUbyhtYXBfMjU3MmNhMzEzMDcxNDkzM2EwYjUzN2RhZDdhOGZmYzEpOwogICAgICAgIAogICAgCiAgICAgICAgdmFyIG1hcmtlcl81ZTNkOGI0YTgxNWQ0YTNjOTk4MzY1M2ZhMzJkNmQ4YyA9IEwubWFya2VyKAogICAgICAgICAgICBbNDAuNzIzNzg5MjE1MDg3ODksIC03NC4wMDA2MjU2MTAzNTE1NV0sCiAgICAgICAgICAgIHsKICAgICAgICAgICAgICAgIGljb246IG5ldyBMLkljb24uRGVmYXVsdCgpLAogICAgICAgICAgICAgICAgfQogICAgICAgICAgICApLmFkZFRvKG1hcF8yNTcyY2EzMTMwNzE0OTMzYTBiNTM3ZGFkN2E4ZmZjMSk7CiAgICAgICAgCiAgICAKICAgICAgICB2YXIgbWFya2VyXzBkNmFiOGIyOGEwYzQwZDI5M2JiOWQ0OTU1ZjllNWFiID0gTC5tYXJrZXIoCiAgICAgICAgICAgIFs0MC43NzgyNjY5MDY3MzgyOCwgLTczLjk4MjIzMTE0MDEzNjcyXSwKICAgICAgICAgICAgewogICAgICAgICAgICAgICAgaWNvbjogbmV3IEwuSWNvbi5EZWZhdWx0KCksCiAgICAgICAgICAgICAgICB9CiAgICAgICAgICAgICkuYWRkVG8obWFwXzI1NzJjYTMxMzA3MTQ5MzNhMGI1MzdkYWQ3YThmZmMxKTsKICAgICAgICAKICAgIAogICAgICAgIHZhciBtYXJrZXJfNDg4ZTI4MzE4OGFhNDA3YjlkOGRmZmJmYTJjMDA1NGYgPSBMLm1hcmtlcigKICAgICAgICAgICAgWzQwLjcxMzc4MzI2NDE2MDE1NiwgLTc0LjAxMDIyMzM4ODY3MTg4XSwKICAgICAgICAgICAgewogICAgICAgICAgICAgICAgaWNvbjogbmV3IEwuSWNvbi5EZWZhdWx0KCksCiAgICAgICAgICAgICAgICB9CiAgICAgICAgICAgICkuYWRkVG8obWFwXzI1NzJjYTMxMzA3MTQ5MzNhMGI1MzdkYWQ3YThmZmMxKTsKICAgICAgICAKICAgIAogICAgICAgIHZhciBtYXJrZXJfMWI1NWJkYWI0NzdmNGY3MjljNzE4MGVkMzg0Y2Q3ODggPSBMLm1hcmtlcigKICAgICAgICAgICAgWzQwLjcyNTIxNTkxMTg2NTIzLCAtNzMuOTg0MTg0MjY1MTM2NzJdLAogICAgICAgICAgICB7CiAgICAgICAgICAgICAgICBpY29uOiBuZXcgTC5JY29uLkRlZmF1bHQoKSwKICAgICAgICAgICAgICAgIH0KICAgICAgICAgICAgKS5hZGRUbyhtYXBfMjU3MmNhMzEzMDcxNDkzM2EwYjUzN2RhZDdhOGZmYzEpOwogICAgICAgIAogICAgCiAgICAgICAgdmFyIG1hcmtlcl84ZTdjMGMxYjZhNjA0NmUyOGEyMDUyYTk4MzgwMzU3MiA9IEwubWFya2VyKAogICAgICAgICAgICBbNDAuNzgxMzI2MjkzOTQ1MzEsIC03My45NTIyOTMzOTU5OTYxXSwKICAgICAgICAgICAgewogICAgICAgICAgICAgICAgaWNvbjogbmV3IEwuSWNvbi5EZWZhdWx0KCksCiAgICAgICAgICAgICAgICB9CiAgICAgICAgICAgICkuYWRkVG8obWFwXzI1NzJjYTMxMzA3MTQ5MzNhMGI1MzdkYWQ3YThmZmMxKTsKICAgICAgICAKICAgIAogICAgICAgIHZhciBtYXJrZXJfYmE0ZGU5YzQzNjJlNDQ5NWE5MTFhNzZiZjM1YzMxOWQgPSBMLm1hcmtlcigKICAgICAgICAgICAgWzQwLjczMTc4NDgyMDU1NjY0LCAtNzQuMDAwOTc2NTYyNV0sCiAgICAgICAgICAgIHsKICAgICAgICAgICAgICAgIGljb246IG5ldyBMLkljb24uRGVmYXVsdCgpLAogICAgICAgICAgICAgICAgfQogICAgICAgICAgICApLmFkZFRvKG1hcF8yNTcyY2EzMTMwNzE0OTMzYTBiNTM3ZGFkN2E4ZmZjMSk7CiAgICAgICAgCiAgICAKICAgICAgICB2YXIgbWFya2VyX2U0ODIwYTAzMTEyYTQ5YThhNmM4MzYyNDJjNDQzN2UxID0gTC5tYXJrZXIoCiAgICAgICAgICAgIFs0MC43MjIwODQwNDU0MTAxNTYsIC03My45NDA4NzIxOTIzODI4MV0sCiAgICAgICAgICAgIHsKICAgICAgICAgICAgICAgIGljb246IG5ldyBMLkljb24uRGVmYXVsdCgpLAogICAgICAgICAgICAgICAgfQogICAgICAgICAgICApLmFkZFRvKG1hcF8yNTcyY2EzMTMwNzE0OTMzYTBiNTM3ZGFkN2E4ZmZjMSk7CiAgICAgICAgCiAgICAKICAgICAgICB2YXIgbWFya2VyX2JkMWEwMzU0Njk3ZjRlMDc5OTAxMzgzYTAyMzQ4YjUwID0gTC5tYXJrZXIoCiAgICAgICAgICAgIFs0MC43NDE1Njk1MTkwNDI5NywgLTczLjk4MTI3NzQ2NTgyMDNdLAogICAgICAgICAgICB7CiAgICAgICAgICAgICAgICBpY29uOiBuZXcgTC5JY29uLkRlZmF1bHQoKSwKICAgICAgICAgICAgICAgIH0KICAgICAgICAgICAgKS5hZGRUbyhtYXBfMjU3MmNhMzEzMDcxNDkzM2EwYjUzN2RhZDdhOGZmYzEpOwogICAgICAgIAogICAgCiAgICAgICAgdmFyIG1hcmtlcl83NDU4ODllYmRmYjU0NjAyYWRjZTBhYmQwMTM4MTA1MyA9IEwubWFya2VyKAogICAgICAgICAgICBbNDAuNzQ4NDI4MzQ0NzI2NTYsIC03My45NzMyNjY2MDE1NjI1XSwKICAgICAgICAgICAgewogICAgICAgICAgICAgICAgaWNvbjogbmV3IEwuSWNvbi5EZWZhdWx0KCksCiAgICAgICAgICAgICAgICB9CiAgICAgICAgICAgICkuYWRkVG8obWFwXzI1NzJjYTMxMzA3MTQ5MzNhMGI1MzdkYWQ3YThmZmMxKTsKICAgICAgICAKICAgIAogICAgICAgIHZhciBtYXJrZXJfMmRlNmMyNjFlZGFjNDBiMGI2MjgwNWVmMmI4MjlhNWEgPSBMLm1hcmtlcigKICAgICAgICAgICAgWzQwLjc1MzQ5MDQ0Nzk5ODA1LCAtNzMuOTgxMDI1Njk1ODAwNzhdLAogICAgICAgICAgICB7CiAgICAgICAgICAgICAgICBpY29uOiBuZXcgTC5JY29uLkRlZmF1bHQoKSwKICAgICAgICAgICAgICAgIH0KICAgICAgICAgICAgKS5hZGRUbyhtYXBfMjU3MmNhMzEzMDcxNDkzM2EwYjUzN2RhZDdhOGZmYzEpOwogICAgICAgIAogICAgCiAgICAgICAgdmFyIG1hcmtlcl9hNGQ3NGYzZjQxNmU0YWM1ODI4N2QzYzI5YjZhOTI0YiA9IEwubWFya2VyKAogICAgICAgICAgICBbNDAuNzUxMTgyNTU2MTUyMzQsIC03My45NzUzOTUyMDI2MzY3Ml0sCiAgICAgICAgICAgIHsKICAgICAgICAgICAgICAgIGljb246IG5ldyBMLkljb24uRGVmYXVsdCgpLAogICAgICAgICAgICAgICAgfQogICAgICAgICAgICApLmFkZFRvKG1hcF8yNTcyY2EzMTMwNzE0OTMzYTBiNTM3ZGFkN2E4ZmZjMSk7CiAgICAgICAgCiAgICAKICAgICAgICB2YXIgbWFya2VyX2ViODFhMGJhN2ZiZjQ3NDQ5NGVlZDQyOTk1Y2JhODA2ID0gTC5tYXJrZXIoCiAgICAgICAgICAgIFs0MC43OTQ0MDY4OTA4NjkxMywgLTczLjk2NjQ2MTE4MTY0MDYyXSwKICAgICAgICAgICAgewogICAgICAgICAgICAgICAgaWNvbjogbmV3IEwuSWNvbi5EZWZhdWx0KCksCiAgICAgICAgICAgICAgICB9CiAgICAgICAgICAgICkuYWRkVG8obWFwXzI1NzJjYTMxMzA3MTQ5MzNhMGI1MzdkYWQ3YThmZmMxKTsKICAgICAgICAKICAgIAogICAgICAgIHZhciBtYXJrZXJfY2M1NDk4YzI3YjNhNDkyZWFiZWVkZTVhYTQzM2MxZjcgPSBMLm1hcmtlcigKICAgICAgICAgICAgWzQwLjc2ODIxODk5NDE0MDYzLCAtNzMuOTU1NjI3NDQxNDA2MjVdLAogICAgICAgICAgICB7CiAgICAgICAgICAgICAgICBpY29uOiBuZXcgTC5JY29uLkRlZmF1bHQoKSwKICAgICAgICAgICAgICAgIH0KICAgICAgICAgICAgKS5hZGRUbyhtYXBfMjU3MmNhMzEzMDcxNDkzM2EwYjUzN2RhZDdhOGZmYzEpOwogICAgICAgIAogICAgCiAgICAgICAgdmFyIG1hcmtlcl9iNzJhZDU3ZjViZTc0NWM4OGVlYzk2NGZhMzJiYmM1NyA9IEwubWFya2VyKAogICAgICAgICAgICBbNDAuNzY0MTQ4NzEyMTU4MiwgLTczLjk4NjUwMzYwMTA3NDIyXSwKICAgICAgICAgICAgewogICAgICAgICAgICAgICAgaWNvbjogbmV3IEwuSWNvbi5EZWZhdWx0KCksCiAgICAgICAgICAgICAgICB9CiAgICAgICAgICAgICkuYWRkVG8obWFwXzI1NzJjYTMxMzA3MTQ5MzNhMGI1MzdkYWQ3YThmZmMxKTsKICAgICAgICAKICAgIAogICAgICAgIHZhciBtYXJrZXJfZWExNTEwNTNkN2Q1NDBjMzg1OGI5ZTZjZjMzNzU3MjMgPSBMLm1hcmtlcigKICAgICAgICAgICAgWzQwLjc1NzI3ODQ0MjM4MjgxLCAtNzMuOTk3MTQ2NjA2NDQ1MzFdLAogICAgICAgICAgICB7CiAgICAgICAgICAgICAgICBpY29uOiBuZXcgTC5JY29uLkRlZmF1bHQoKSwKICAgICAgICAgICAgICAgIH0KICAgICAgICAgICAgKS5hZGRUbyhtYXBfMjU3MmNhMzEzMDcxNDkzM2EwYjUzN2RhZDdhOGZmYzEpOwogICAgICAgIAogICAgCiAgICAgICAgdmFyIG1hcmtlcl84MmY1ODA2YzE4Zjc0Mjg0OTcwZDc0ZTE4NDNiMmFmMiA9IEwubWFya2VyKAogICAgICAgICAgICBbNDAuNzM2NDg4MzQyMjg1MTU2LCAtNzMuOTg4ODAwMDQ4ODI4MTJdLAogICAgICAgICAgICB7CiAgICAgICAgICAgICAgICBpY29uOiBuZXcgTC5JY29uLkRlZmF1bHQoKSwKICAgICAgICAgICAgICAgIH0KICAgICAgICAgICAgKS5hZGRUbyhtYXBfMjU3MmNhMzEzMDcxNDkzM2EwYjUzN2RhZDdhOGZmYzEpOwogICAgICAgIAogICAgCiAgICAgICAgdmFyIG1hcmtlcl9jYWQzMmFhNDg2NjA0NmE0YjUyZTJjOTYxMDE1Y2QxYyA9IEwubWFya2VyKAogICAgICAgICAgICBbNDAuNzMyOTUyMTE3OTE5OTIsIC03My45ODYyNjcwODk4NDM3NV0sCiAgICAgICAgICAgIHsKICAgICAgICAgICAgICAgIGljb246IG5ldyBMLkljb24uRGVmYXVsdCgpLAogICAgICAgICAgICAgICAgfQogICAgICAgICAgICApLmFkZFRvKG1hcF8yNTcyY2EzMTMwNzE0OTMzYTBiNTM3ZGFkN2E4ZmZjMSk7CiAgICAgICAgCiAgICAKICAgICAgICB2YXIgbWFya2VyXzM0ODQyODkwMjI2ZDQ0ZmI4ZjU4YTU1MTkwZjhkM2U1ID0gTC5tYXJrZXIoCiAgICAgICAgICAgIFs0MC43NjEzOTA2ODYwMzUxNTYsIC03My45Nzg5NTgxMjk4ODI4MV0sCiAgICAgICAgICAgIHsKICAgICAgICAgICAgICAgIGljb246IG5ldyBMLkljb24uRGVmYXVsdCgpLAogICAgICAgICAgICAgICAgfQogICAgICAgICAgICApLmFkZFRvKG1hcF8yNTcyY2EzMTMwNzE0OTMzYTBiNTM3ZGFkN2E4ZmZjMSk7CiAgICAgICAgCiAgICAKICAgICAgICB2YXIgbWFya2VyXzE3ZWIwYTRmZWQzYjQwYWI4ZDA1NGU5MTM2ODNjYTliID0gTC5tYXJrZXIoCiAgICAgICAgICAgIFs0MC42NDUyNjM2NzE4NzUsIC03My43NzY3NzkxNzQ4MDQ2N10sCiAgICAgICAgICAgIHsKICAgICAgICAgICAgICAgIGljb246IG5ldyBMLkljb24uRGVmYXVsdCgpLAogICAgICAgICAgICAgICAgfQogICAgICAgICAgICApLmFkZFRvKG1hcF8yNTcyY2EzMTMwNzE0OTMzYTBiNTM3ZGFkN2E4ZmZjMSk7CiAgICAgICAgCiAgICAKICAgICAgICB2YXIgbWFya2VyXzdiMTA4YTcwMjE3YTRjOWRiMjNiM2UyNDNlMWZiZTc3ID0gTC5tYXJrZXIoCiAgICAgICAgICAgIFs0MC43MzM1MzU3NjY2MDE1NiwgLTc0LjAwNjMyNDc2ODA2NjRdLAogICAgICAgICAgICB7CiAgICAgICAgICAgICAgICBpY29uOiBuZXcgTC5JY29uLkRlZmF1bHQoKSwKICAgICAgICAgICAgICAgIH0KICAgICAgICAgICAgKS5hZGRUbyhtYXBfMjU3MmNhMzEzMDcxNDkzM2EwYjUzN2RhZDdhOGZmYzEpOwogICAgICAgIAogICAgCiAgICAgICAgdmFyIG1hcmtlcl82OGZjMjIzNjA3YmI0MTI5YTMzYTcyOTU4MTFiNDE5ZiA9IEwubWFya2VyKAogICAgICAgICAgICBbNDAuNzUzMzY0NTYyOTg4MjgsIC03My45ODEyNjIyMDcwMzEyNV0sCiAgICAgICAgICAgIHsKICAgICAgICAgICAgICAgIGljb246IG5ldyBMLkljb24uRGVmYXVsdCgpLAogICAgICAgICAgICAgICAgfQogICAgICAgICAgICApLmFkZFRvKG1hcF8yNTcyY2EzMTMwNzE0OTMzYTBiNTM3ZGFkN2E4ZmZjMSk7CiAgICAgICAgCiAgICAKICAgICAgICB2YXIgbWFya2VyX2M0MzQ0MmQ5YzM5NDQ0NDZiYjE1MGJkYzRhNjg5NWM4ID0gTC5tYXJrZXIoCiAgICAgICAgICAgIFs0MC43Mjc3MjU5ODI2NjYwMTYsIC03NC4wMDE1NTYzOTY0ODQzOF0sCiAgICAgICAgICAgIHsKICAgICAgICAgICAgICAgIGljb246IG5ldyBMLkljb24uRGVmYXVsdCgpLAogICAgICAgICAgICAgICAgfQogICAgICAgICAgICApLmFkZFRvKG1hcF8yNTcyY2EzMTMwNzE0OTMzYTBiNTM3ZGFkN2E4ZmZjMSk7CiAgICAgICAgCiAgICAKICAgICAgICB2YXIgbWFya2VyX2M4M2FmYWY3ZmEyYTRlYWJhMTgwY2JmOTk3ZjI0YWU0ID0gTC5tYXJrZXIoCiAgICAgICAgICAgIFs0MC43MTgxMjQzODk2NDg0NCwgLTc0LjAxNDkwNzgzNjkxNDA2XSwKICAgICAgICAgICAgewogICAgICAgICAgICAgICAgaWNvbjogbmV3IEwuSWNvbi5EZWZhdWx0KCksCiAgICAgICAgICAgICAgICB9CiAgICAgICAgICAgICkuYWRkVG8obWFwXzI1NzJjYTMxMzA3MTQ5MzNhMGI1MzdkYWQ3YThmZmMxKTsKICAgICAgICAKICAgIAogICAgICAgIHZhciBtYXJrZXJfZjU2NjgzYjQ1ODdlNDgzOTg5NmQ5MmVmYWRhMTFiMDQgPSBMLm1hcmtlcigKICAgICAgICAgICAgWzQwLjc0MzkwMDI5OTA3MjI2NiwgLTczLjk3NTgzMDA3ODEyNV0sCiAgICAgICAgICAgIHsKICAgICAgICAgICAgICAgIGljb246IG5ldyBMLkljb24uRGVmYXVsdCgpLAogICAgICAgICAgICAgICAgfQogICAgICAgICAgICApLmFkZFRvKG1hcF8yNTcyY2EzMTMwNzE0OTMzYTBiNTM3ZGFkN2E4ZmZjMSk7CiAgICAgICAgCiAgICAKICAgICAgICB2YXIgbWFya2VyXzAyYWRiOTBiMDc2MzQzZTNhZTQzMTA1MDRkNTQyNzVhID0gTC5tYXJrZXIoCiAgICAgICAgICAgIFs0MC42NDY5OTU1NDQ0MzM2LCAtNzMuNzkwMTk5Mjc5Nzg1MTZdLAogICAgICAgICAgICB7CiAgICAgICAgICAgICAgICBpY29uOiBuZXcgTC5JY29uLkRlZmF1bHQoKSwKICAgICAgICAgICAgICAgIH0KICAgICAgICAgICAgKS5hZGRUbyhtYXBfMjU3MmNhMzEzMDcxNDkzM2EwYjUzN2RhZDdhOGZmYzEpOwogICAgICAgIAogICAgCiAgICAgICAgdmFyIG1hcmtlcl84YzRhNWY4NzkzOWU0ZDZlYWM5NzA5NjIxZWNkNjg4MyA9IEwubWFya2VyKAogICAgICAgICAgICBbNDAuNzc1MDk2ODkzMzEwNTUsIC03My45NzY3NjA4NjQyNTc4MV0sCiAgICAgICAgICAgIHsKICAgICAgICAgICAgICAgIGljb246IG5ldyBMLkljb24uRGVmYXVsdCgpLAogICAgICAgICAgICAgICAgfQogICAgICAgICAgICApLmFkZFRvKG1hcF8yNTcyY2EzMTMwNzE0OTMzYTBiNTM3ZGFkN2E4ZmZjMSk7CiAgICAgICAgCiAgICAKICAgICAgICB2YXIgbWFya2VyXzg5Y2E4NDhkNmQ1YTQ4ZTBhMTEwZjJiNzYzOGEwMGRhID0gTC5tYXJrZXIoCiAgICAgICAgICAgIFs0MC43MTE5NDA3NjUzODA4NSwgLTc0LjAxMDM1MzA4ODM3ODldLAogICAgICAgICAgICB7CiAgICAgICAgICAgICAgICBpY29uOiBuZXcgTC5JY29uLkRlZmF1bHQoKSwKICAgICAgICAgICAgICAgIH0KICAgICAgICAgICAgKS5hZGRUbyhtYXBfMjU3MmNhMzEzMDcxNDkzM2EwYjUzN2RhZDdhOGZmYzEpOwogICAgICAgIAogICAgCiAgICAgICAgdmFyIG1hcmtlcl9jNmJkYmE5OGExMzM0ZmM5OThiYjM2ZGJkYWZmMmFiNCA9IEwubWFya2VyKAogICAgICAgICAgICBbNDAuNjgyMTg2MTI2NzA4OTgsIC03My45OTgxNjEzMTU5MTc5N10sCiAgICAgICAgICAgIHsKICAgICAgICAgICAgICAgIGljb246IG5ldyBMLkljb24uRGVmYXVsdCgpLAogICAgICAgICAgICAgICAgfQogICAgICAgICAgICApLmFkZFRvKG1hcF8yNTcyY2EzMTMwNzE0OTMzYTBiNTM3ZGFkN2E4ZmZjMSk7CiAgICAgICAgCiAgICAKICAgICAgICB2YXIgbWFya2VyX2VlZDU5MGFmMmQ2OTRmMDBhNjQ5ZjhkMzhjMDBhY2RjID0gTC5tYXJrZXIoCiAgICAgICAgICAgIFs0MC44MzI1NTAwNDg4MjgxMywgLTczLjk0NjEzNjQ3NDYwOTM4XSwKICAgICAgICAgICAgewogICAgICAgICAgICAgICAgaWNvbjogbmV3IEwuSWNvbi5EZWZhdWx0KCksCiAgICAgICAgICAgICAgICB9CiAgICAgICAgICAgICkuYWRkVG8obWFwXzI1NzJjYTMxMzA3MTQ5MzNhMGI1MzdkYWQ3YThmZmMxKTsKICAgICAgICAKICAgIAogICAgICAgIHZhciBtYXJrZXJfZWQ4NDM1MGUyMWJkNGJhYWFlZWU1YmRjZmE1YWRiZGEgPSBMLm1hcmtlcigKICAgICAgICAgICAgWzQwLjczMjAyMTMzMTc4NzExLCAtNzMuOTk1ODcyNDk3NTU4Nl0sCiAgICAgICAgICAgIHsKICAgICAgICAgICAgICAgIGljb246IG5ldyBMLkljb24uRGVmYXVsdCgpLAogICAgICAgICAgICAgICAgfQogICAgICAgICAgICApLmFkZFRvKG1hcF8yNTcyY2EzMTMwNzE0OTMzYTBiNTM3ZGFkN2E4ZmZjMSk7CiAgICAgICAgCiAgICAKICAgICAgICB2YXIgbWFya2VyXzBmZmQwMTlkNjZjMDRlMjM5NzgxMmNlNDQ5YjlhNmM5ID0gTC5tYXJrZXIoCiAgICAgICAgICAgIFs0MC43NTgzMDQ1OTU5NDcyNywgLTczLjk3MDYyNjgzMTA1NDY5XSwKICAgICAgICAgICAgewogICAgICAgICAgICAgICAgaWNvbjogbmV3IEwuSWNvbi5EZWZhdWx0KCksCiAgICAgICAgICAgICAgICB9CiAgICAgICAgICAgICkuYWRkVG8obWFwXzI1NzJjYTMxMzA3MTQ5MzNhMGI1MzdkYWQ3YThmZmMxKTsKICAgICAgICAKICAgIAogICAgICAgIHZhciBtYXJrZXJfYjMzZjNlYjIwNjc1NDExYWEzNjU3YWYzOWYxYjRlZDkgPSBMLm1hcmtlcigKICAgICAgICAgICAgWzQwLjc4ODQyOTI2MDI1MzkwNiwgLTczLjk0NzEyODI5NTg5ODQ0XSwKICAgICAgICAgICAgewogICAgICAgICAgICAgICAgaWNvbjogbmV3IEwuSWNvbi5EZWZhdWx0KCksCiAgICAgICAgICAgICAgICB9CiAgICAgICAgICAgICkuYWRkVG8obWFwXzI1NzJjYTMxMzA3MTQ5MzNhMGI1MzdkYWQ3YThmZmMxKTsKICAgICAgICAKICAgIAogICAgICAgIHZhciBtYXJrZXJfN2Q1Yjk2MmE3MDllNDE3YjhmNzFmNGNlYjJlMzViNGIgPSBMLm1hcmtlcigKICAgICAgICAgICAgWzQwLjc2MDA4NjA1OTU3MDMxLCAtNzMuOTY5NzI2NTYyNV0sCiAgICAgICAgICAgIHsKICAgICAgICAgICAgICAgIGljb246IG5ldyBMLkljb24uRGVmYXVsdCgpLAogICAgICAgICAgICAgICAgfQogICAgICAgICAgICApLmFkZFRvKG1hcF8yNTcyY2EzMTMwNzE0OTMzYTBiNTM3ZGFkN2E4ZmZjMSk7CiAgICAgICAgCiAgICAKICAgICAgICB2YXIgbWFya2VyX2EyM2QyNmFmZDdmMDRlODk4ZjExOTY1OWJlYzczMjVlID0gTC5tYXJrZXIoCiAgICAgICAgICAgIFs0MC43NTU3MjIwNDU4OTg0NCwgLTczLjk3NTE2NjMyMDgwMDc4XSwKICAgICAgICAgICAgewogICAgICAgICAgICAgICAgaWNvbjogbmV3IEwuSWNvbi5EZWZhdWx0KCksCiAgICAgICAgICAgICAgICB9CiAgICAgICAgICAgICkuYWRkVG8obWFwXzI1NzJjYTMxMzA3MTQ5MzNhMGI1MzdkYWQ3YThmZmMxKTsKICAgICAgICAKICAgIAogICAgICAgIHZhciBtYXJrZXJfMjA4OWU0MWI0YzljNDgxMTk2ZjM4Y2Q2ZjY0NmM1YjAgPSBMLm1hcmtlcigKICAgICAgICAgICAgWzQwLjc3MTA4NzY0NjQ4NDM3NSwgLTczLjg2NTk1MTUzODA4NTk1XSwKICAgICAgICAgICAgewogICAgICAgICAgICAgICAgaWNvbjogbmV3IEwuSWNvbi5EZWZhdWx0KCksCiAgICAgICAgICAgICAgICB9CiAgICAgICAgICAgICkuYWRkVG8obWFwXzI1NzJjYTMxMzA3MTQ5MzNhMGI1MzdkYWQ3YThmZmMxKTsKICAgICAgICAKICAgIAogICAgICAgIHZhciBtYXJrZXJfZjMxNjJiNzk0ZmZkNGNhZWIxMTk1MzRlZTFkMzYxNzggPSBMLm1hcmtlcigKICAgICAgICAgICAgWzQwLjc3NDQ1NjAyNDE2OTkyLCAtNzMuOTc3MjQxNTE2MTEzMjhdLAogICAgICAgICAgICB7CiAgICAgICAgICAgICAgICBpY29uOiBuZXcgTC5JY29uLkRlZmF1bHQoKSwKICAgICAgICAgICAgICAgIH0KICAgICAgICAgICAgKS5hZGRUbyhtYXBfMjU3MmNhMzEzMDcxNDkzM2EwYjUzN2RhZDdhOGZmYzEpOwogICAgICAgIAogICAgCiAgICAgICAgdmFyIG1hcmtlcl9hM2RjYjFhMzg5NTI0ODhiOWM2YzRmM2JiNjVlNmVjYSA9IEwubWFya2VyKAogICAgICAgICAgICBbNDAuNzYxMDkzMTM5NjQ4NDQsIC03My45ODY4NjIxODI2MTcxOV0sCiAgICAgICAgICAgIHsKICAgICAgICAgICAgICAgIGljb246IG5ldyBMLkljb24uRGVmYXVsdCgpLAogICAgICAgICAgICAgICAgfQogICAgICAgICAgICApLmFkZFRvKG1hcF8yNTcyY2EzMTMwNzE0OTMzYTBiNTM3ZGFkN2E4ZmZjMSk7CiAgICAgICAgCiAgICAKICAgICAgICB2YXIgbWFya2VyXzQ2NDZhNjI4Mjc3YzRiZDk5N2UxMDQ5M2M0OWE0M2U2ID0gTC5tYXJrZXIoCiAgICAgICAgICAgIFs0MC43ODI3OTExMzc2OTUzMSwgLTczLjk1MTA2NTA2MzQ3NjU2XSwKICAgICAgICAgICAgewogICAgICAgICAgICAgICAgaWNvbjogbmV3IEwuSWNvbi5EZWZhdWx0KCksCiAgICAgICAgICAgICAgICB9CiAgICAgICAgICAgICkuYWRkVG8obWFwXzI1NzJjYTMxMzA3MTQ5MzNhMGI1MzdkYWQ3YThmZmMxKTsKICAgICAgICAKICAgIAogICAgICAgIHZhciBtYXJrZXJfZGJmNzJkZmMxNTQxNGFkM2IwYmY5YjU4NDZlNTc2NWYgPSBMLm1hcmtlcigKICAgICAgICAgICAgWzQwLjc3MjMwODM0OTYwOTM3NSwgLTczLjk2NjgzNTAyMTk3MjY2XSwKICAgICAgICAgICAgewogICAgICAgICAgICAgICAgaWNvbjogbmV3IEwuSWNvbi5EZWZhdWx0KCksCiAgICAgICAgICAgICAgICB9CiAgICAgICAgICAgICkuYWRkVG8obWFwXzI1NzJjYTMxMzA3MTQ5MzNhMGI1MzdkYWQ3YThmZmMxKTsKICAgICAgICAKICAgIAogICAgICAgIHZhciBtYXJrZXJfM2FkMzkzMzRhNjhkNGZiZWJlZTMyMjlkNDc3MmU1Y2QgPSBMLm1hcmtlcigKICAgICAgICAgICAgWzQwLjcyNTA0NDI1MDQ4ODI4LCAtNzMuOTk0NzEyODI5NTg5ODRdLAogICAgICAgICAgICB7CiAgICAgICAgICAgICAgICBpY29uOiBuZXcgTC5JY29uLkRlZmF1bHQoKSwKICAgICAgICAgICAgICAgIH0KICAgICAgICAgICAgKS5hZGRUbyhtYXBfMjU3MmNhMzEzMDcxNDkzM2EwYjUzN2RhZDdhOGZmYzEpOwogICAgICAgIAogICAgCiAgICAgICAgdmFyIG1hcmtlcl9hNGE0N2FhYjA1NmM0NmM4ODBmMDQ2MDU1NDE3NmZkZiA9IEwubWFya2VyKAogICAgICAgICAgICBbNDAuNzQ0NzI0MjczNjgxNjQsIC03My45ODA4NzMxMDc5MTAxNF0sCiAgICAgICAgICAgIHsKICAgICAgICAgICAgICAgIGljb246IG5ldyBMLkljb24uRGVmYXVsdCgpLAogICAgICAgICAgICAgICAgfQogICAgICAgICAgICApLmFkZFRvKG1hcF8yNTcyY2EzMTMwNzE0OTMzYTBiNTM3ZGFkN2E4ZmZjMSk7CiAgICAgICAgCiAgICAKICAgICAgICB2YXIgbWFya2VyXzNlODU0OTUzY2EwNjQ1NzFhNzdlY2FhYWVmNGZjYjQ1ID0gTC5tYXJrZXIoCiAgICAgICAgICAgIFs0MC43Mzk4NTY3MTk5NzA3LCAtNzQuMDA2ODI4MzA4MTA1NDddLAogICAgICAgICAgICB7CiAgICAgICAgICAgICAgICBpY29uOiBuZXcgTC5JY29uLkRlZmF1bHQoKSwKICAgICAgICAgICAgICAgIH0KICAgICAgICAgICAgKS5hZGRUbyhtYXBfMjU3MmNhMzEzMDcxNDkzM2EwYjUzN2RhZDdhOGZmYzEpOwogICAgICAgIAogICAgCiAgICAgICAgdmFyIG1hcmtlcl8xOTgzNDlhODE0MjI0YTQ4YTFkYjhjNGFkNjZlZDUzYiA9IEwubWFya2VyKAogICAgICAgICAgICBbNDAuNzIxNDkyNzY3MzMzOTg0LCAtNzMuOTg4NjA5MzEzOTY0ODNdLAogICAgICAgICAgICB7CiAgICAgICAgICAgICAgICBpY29uOiBuZXcgTC5JY29uLkRlZmF1bHQoKSwKICAgICAgICAgICAgICAgIH0KICAgICAgICAgICAgKS5hZGRUbyhtYXBfMjU3MmNhMzEzMDcxNDkzM2EwYjUzN2RhZDdhOGZmYzEpOwogICAgICAgIAogICAgCiAgICAgICAgdmFyIG1hcmtlcl9iY2ZlZDk0OWZlOWU0NDVlYjg5NmM3NjRmZTgwMDk0MSA9IEwubWFya2VyKAogICAgICAgICAgICBbNDAuNzMyMzAzNjE5Mzg0NzcsIC03My45OTQ0NDU4MDA3ODEyNV0sCiAgICAgICAgICAgIHsKICAgICAgICAgICAgICAgIGljb246IG5ldyBMLkljb24uRGVmYXVsdCgpLAogICAgICAgICAgICAgICAgfQogICAgICAgICAgICApLmFkZFRvKG1hcF8yNTcyY2EzMTMwNzE0OTMzYTBiNTM3ZGFkN2E4ZmZjMSk7CiAgICAgICAgCiAgICAKICAgICAgICB2YXIgbWFya2VyX2JmMDliOWZlMzRjYzQ0YzE5ZjA0NWRkNzVhNjUwOWNlID0gTC5tYXJrZXIoCiAgICAgICAgICAgIFs0MC43NDIwMjM0NjgwMTc1OCwgLTc0LjAwMDc3MDU2ODg0NzY2XSwKICAgICAgICAgICAgewogICAgICAgICAgICAgICAgaWNvbjogbmV3IEwuSWNvbi5EZWZhdWx0KCksCiAgICAgICAgICAgICAgICB9CiAgICAgICAgICAgICkuYWRkVG8obWFwXzI1NzJjYTMxMzA3MTQ5MzNhMGI1MzdkYWQ3YThmZmMxKTsKICAgICAgICAKICAgIAogICAgICAgIHZhciBtYXJrZXJfOGE4NmM5NjU1N2Y0NGIxMmFiOGM2YTQ0OTc5YWQ1NDkgPSBMLm1hcmtlcigKICAgICAgICAgICAgWzQwLjc2Nzc1NzQxNTc3MTQ5LCAtNzMuOTYyMzU2NTY3MzgyODFdLAogICAgICAgICAgICB7CiAgICAgICAgICAgICAgICBpY29uOiBuZXcgTC5JY29uLkRlZmF1bHQoKSwKICAgICAgICAgICAgICAgIH0KICAgICAgICAgICAgKS5hZGRUbyhtYXBfMjU3MmNhMzEzMDcxNDkzM2EwYjUzN2RhZDdhOGZmYzEpOwogICAgICAgIAogICAgCiAgICAgICAgdmFyIG1hcmtlcl9mMDQ4MTA4MWQxZWE0NWJmODRjZTNiYjY3MzUyNWMwOCA9IEwubWFya2VyKAogICAgICAgICAgICBbNDAuNzUxOTM3ODY2MjEwOTQsIC03NC4wMDQyNTcyMDIxNDg0NV0sCiAgICAgICAgICAgIHsKICAgICAgICAgICAgICAgIGljb246IG5ldyBMLkljb24uRGVmYXVsdCgpLAogICAgICAgICAgICAgICAgfQogICAgICAgICAgICApLmFkZFRvKG1hcF8yNTcyY2EzMTMwNzE0OTMzYTBiNTM3ZGFkN2E4ZmZjMSk7CiAgICAgICAgCiAgICAKICAgICAgICB2YXIgbWFya2VyX2UzMjhkNWQ0NzkwNzRmM2I4Yzg2YTY5NTZhMmFmOGFmID0gTC5tYXJrZXIoCiAgICAgICAgICAgIFs0MC43NDQ3MjgwODgzNzg5MDYsIC03My45OTcyMDc2NDE2MDE1Nl0sCiAgICAgICAgICAgIHsKICAgICAgICAgICAgICAgIGljb246IG5ldyBMLkljb24uRGVmYXVsdCgpLAogICAgICAgICAgICAgICAgfQogICAgICAgICAgICApLmFkZFRvKG1hcF8yNTcyY2EzMTMwNzE0OTMzYTBiNTM3ZGFkN2E4ZmZjMSk7CiAgICAgICAgCiAgICAKICAgICAgICB2YXIgbWFya2VyXzFiNzkyODBkMjIwYzQzNmI4OGUxZmJhNTc0ZGY1MGI1ID0gTC5tYXJrZXIoCiAgICAgICAgICAgIFs0MC43OTg0MzEzOTY0ODQzNzUsIC03My45NjkyMDc3NjM2NzE4OF0sCiAgICAgICAgICAgIHsKICAgICAgICAgICAgICAgIGljb246IG5ldyBMLkljb24uRGVmYXVsdCgpLAogICAgICAgICAgICAgICAgfQogICAgICAgICAgICApLmFkZFRvKG1hcF8yNTcyY2EzMTMwNzE0OTMzYTBiNTM3ZGFkN2E4ZmZjMSk7CiAgICAgICAgCiAgICAKICAgICAgICB2YXIgbWFya2VyX2EyODI3M2ZmN2E4YTQyZTA5ODYzYWQ3ZmRkMGE4OTI2ID0gTC5tYXJrZXIoCiAgICAgICAgICAgIFs0MC43ODE3NzY0MjgyMjI2NTYsIC03My45NTE5MjcxODUwNTg2XSwKICAgICAgICAgICAgewogICAgICAgICAgICAgICAgaWNvbjogbmV3IEwuSWNvbi5EZWZhdWx0KCksCiAgICAgICAgICAgICAgICB9CiAgICAgICAgICAgICkuYWRkVG8obWFwXzI1NzJjYTMxMzA3MTQ5MzNhMGI1MzdkYWQ3YThmZmMxKTsKICAgICAgICAKICAgIAogICAgICAgIHZhciBtYXJrZXJfZWFkYjQ4OThhNDhhNGIwNWFhZjdmMjMzZjYxZjI1ZWQgPSBMLm1hcmtlcigKICAgICAgICAgICAgWzQwLjczNjkzODQ3NjU2MjUsIC03My45ODQ0NTEyOTM5NDUzMV0sCiAgICAgICAgICAgIHsKICAgICAgICAgICAgICAgIGljb246IG5ldyBMLkljb24uRGVmYXVsdCgpLAogICAgICAgICAgICAgICAgfQogICAgICAgICAgICApLmFkZFRvKG1hcF8yNTcyY2EzMTMwNzE0OTMzYTBiNTM3ZGFkN2E4ZmZjMSk7CiAgICAgICAgCiAgICAKICAgICAgICB2YXIgbWFya2VyX2RjMjE5YWE5ZjNiYTQ0YmE5YmUzZGUxYjVhZTNlZDc1ID0gTC5tYXJrZXIoCiAgICAgICAgICAgIFs0MC43OTkxODY3MDY1NDI5NywgLTczLjk3MDI1Mjk5MDcyMjY2XSwKICAgICAgICAgICAgewogICAgICAgICAgICAgICAgaWNvbjogbmV3IEwuSWNvbi5EZWZhdWx0KCksCiAgICAgICAgICAgICAgICB9CiAgICAgICAgICAgICkuYWRkVG8obWFwXzI1NzJjYTMxMzA3MTQ5MzNhMGI1MzdkYWQ3YThmZmMxKTsKICAgICAgICAKICAgIAogICAgICAgIHZhciBtYXJrZXJfOWUxMjZlMjFmMDg2NGQyZWI3NTgwNzI5NWM3MDBlN2UgPSBMLm1hcmtlcigKICAgICAgICAgICAgWzQwLjc1MjMzMDc4MDAyOTMsIC03My45Nzc3ODMyMDMxMjVdLAogICAgICAgICAgICB7CiAgICAgICAgICAgICAgICBpY29uOiBuZXcgTC5JY29uLkRlZmF1bHQoKSwKICAgICAgICAgICAgICAgIH0KICAgICAgICAgICAgKS5hZGRUbyhtYXBfMjU3MmNhMzEzMDcxNDkzM2EwYjUzN2RhZDdhOGZmYzEpOwogICAgICAgIAogICAgCiAgICAgICAgdmFyIG1hcmtlcl8wOTRiZGZiMDAyNzk0YThjOTFlYTU4MmU1MjIyNGU1ZCA9IEwubWFya2VyKAogICAgICAgICAgICBbNDAuNzUwMDM4MTQ2OTcyNjU2LCAtNzQuMDAyNTg2MzY0NzQ2MV0sCiAgICAgICAgICAgIHsKICAgICAgICAgICAgICAgIGljb246IG5ldyBMLkljb24uRGVmYXVsdCgpLAogICAgICAgICAgICAgICAgfQogICAgICAgICAgICApLmFkZFRvKG1hcF8yNTcyY2EzMTMwNzE0OTMzYTBiNTM3ZGFkN2E4ZmZjMSk7CiAgICAgICAgCiAgICAKICAgICAgICB2YXIgbWFya2VyXzQwMDI1NGEyOWE3ODRiMjRhZDU2NjE5ZjQzOWE5Mjc5ID0gTC5tYXJrZXIoCiAgICAgICAgICAgIFs0MC42ODYwODQ3NDczMTQ0NSwgLTczLjk5MDkyODY0OTkwMjM0XSwKICAgICAgICAgICAgewogICAgICAgICAgICAgICAgaWNvbjogbmV3IEwuSWNvbi5EZWZhdWx0KCksCiAgICAgICAgICAgICAgICB9CiAgICAgICAgICAgICkuYWRkVG8obWFwXzI1NzJjYTMxMzA3MTQ5MzNhMGI1MzdkYWQ3YThmZmMxKTsKICAgICAgICAKICAgIAogICAgICAgIHZhciBtYXJrZXJfZWNhNDllM2Y2NzllNDkwYzk5Yzg3MzYxYTliNDRjZmIgPSBMLm1hcmtlcigKICAgICAgICAgICAgWzQwLjc1NzU2ODM1OTM3NSwgLTczLjk2NzQyMjQ4NTM1MTU1XSwKICAgICAgICAgICAgewogICAgICAgICAgICAgICAgaWNvbjogbmV3IEwuSWNvbi5EZWZhdWx0KCksCiAgICAgICAgICAgICAgICB9CiAgICAgICAgICAgICkuYWRkVG8obWFwXzI1NzJjYTMxMzA3MTQ5MzNhMGI1MzdkYWQ3YThmZmMxKTsKICAgICAgICAKICAgIAogICAgICAgIHZhciBtYXJrZXJfNzFkZDgyZWU4YTUxNGZkYTliMzY2MTBhYjE4ODI0MDIgPSBMLm1hcmtlcigKICAgICAgICAgICAgWzQwLjc1OTIzNTM4MjA4MDA4LCAtNzMuOTk1OTEwNjQ0NTMxMjVdLAogICAgICAgICAgICB7CiAgICAgICAgICAgICAgICBpY29uOiBuZXcgTC5JY29uLkRlZmF1bHQoKSwKICAgICAgICAgICAgICAgIH0KICAgICAgICAgICAgKS5hZGRUbyhtYXBfMjU3MmNhMzEzMDcxNDkzM2EwYjUzN2RhZDdhOGZmYzEpOwogICAgICAgIAogICAgCiAgICAgICAgdmFyIG1hcmtlcl80MGZmOWRkYTAwYWQ0ODMyODdmMGE0NTQ5Y2I3NjYyMiA9IEwubWFya2VyKAogICAgICAgICAgICBbNDAuNzM1NDA4NzgyOTU4OTgsIC03My45OTgyNTI4Njg2NTIzNF0sCiAgICAgICAgICAgIHsKICAgICAgICAgICAgICAgIGljb246IG5ldyBMLkljb24uRGVmYXVsdCgpLAogICAgICAgICAgICAgICAgfQogICAgICAgICAgICApLmFkZFRvKG1hcF8yNTcyY2EzMTMwNzE0OTMzYTBiNTM3ZGFkN2E4ZmZjMSk7CiAgICAgICAgCiAgICAKICAgICAgICB2YXIgbWFya2VyXzNiOGQwMGQ4ZmYzNDRjNjg4NjM4ZTNkMTFiZWMzYTc4ID0gTC5tYXJrZXIoCiAgICAgICAgICAgIFs0MC43MzkzMzQxMDY0NDUzMSwgLTczLjk5OTE5MTI4NDE3OTY5XSwKICAgICAgICAgICAgewogICAgICAgICAgICAgICAgaWNvbjogbmV3IEwuSWNvbi5EZWZhdWx0KCksCiAgICAgICAgICAgICAgICB9CiAgICAgICAgICAgICkuYWRkVG8obWFwXzI1NzJjYTMxMzA3MTQ5MzNhMGI1MzdkYWQ3YThmZmMxKTsKICAgICAgICAKICAgIAogICAgICAgIHZhciBtYXJrZXJfMzJhYWU1OTNmMjc0NGJkN2E1NDIzOWFmZmI5ZjEzZTggPSBMLm1hcmtlcigKICAgICAgICAgICAgWzQwLjc3NTE1MDI5OTA3MjI2NiwgLTczLjk4MDM2MTkzODQ3NjU2XSwKICAgICAgICAgICAgewogICAgICAgICAgICAgICAgaWNvbjogbmV3IEwuSWNvbi5EZWZhdWx0KCksCiAgICAgICAgICAgICAgICB9CiAgICAgICAgICAgICkuYWRkVG8obWFwXzI1NzJjYTMxMzA3MTQ5MzNhMGI1MzdkYWQ3YThmZmMxKTsKICAgICAgICAKICAgIAogICAgICAgIHZhciBtYXJrZXJfMTI1NmY1NjRjYTNlNGU5YzgyZTNjMjZkYjBiOGFmMGIgPSBMLm1hcmtlcigKICAgICAgICAgICAgWzQwLjc3Mzc4MDgyMjc1MzkwNiwgLTczLjk4MTk3MTc0MDcyMjY2XSwKICAgICAgICAgICAgewogICAgICAgICAgICAgICAgaWNvbjogbmV3IEwuSWNvbi5EZWZhdWx0KCksCiAgICAgICAgICAgICAgICB9CiAgICAgICAgICAgICkuYWRkVG8obWFwXzI1NzJjYTMxMzA3MTQ5MzNhMGI1MzdkYWQ3YThmZmMxKTsKICAgICAgICAKICAgIAogICAgICAgIHZhciBtYXJrZXJfZGRmYzFiNmI0YmUxNDA0ODgxNzA0YzhhZGQ4NTEzYmYgPSBMLm1hcmtlcigKICAgICAgICAgICAgWzQwLjc1NDI5OTE2MzgxODM2LCAtNzMuOTc4ODc0MjA2NTQyOThdLAogICAgICAgICAgICB7CiAgICAgICAgICAgICAgICBpY29uOiBuZXcgTC5JY29uLkRlZmF1bHQoKSwKICAgICAgICAgICAgICAgIH0KICAgICAgICAgICAgKS5hZGRUbyhtYXBfMjU3MmNhMzEzMDcxNDkzM2EwYjUzN2RhZDdhOGZmYzEpOwogICAgICAgIAogICAgCiAgICAgICAgdmFyIG1hcmtlcl8yMjY1YjRlNzI2YzU0NDMyOTFjMWUyYzA2Nzk2NGFmMyA9IEwubWFya2VyKAogICAgICAgICAgICBbNDAuODAxODAzNTg4ODY3MTksIC03My45NjA5ODMyNzYzNjcyXSwKICAgICAgICAgICAgewogICAgICAgICAgICAgICAgaWNvbjogbmV3IEwuSWNvbi5EZWZhdWx0KCksCiAgICAgICAgICAgICAgICB9CiAgICAgICAgICAgICkuYWRkVG8obWFwXzI1NzJjYTMxMzA3MTQ5MzNhMGI1MzdkYWQ3YThmZmMxKTsKICAgICAgICAKICAgIAogICAgICAgIHZhciBtYXJrZXJfYWZkNmJlOTY3ZDMwNGM2ODkyM2M2MjgwYjk3MGUxNzkgPSBMLm1hcmtlcigKICAgICAgICAgICAgWzQwLjc2MTkxMzI5OTU2MDU1LCAtNzMuOTkwMjE5MTE2MjEwOTRdLAogICAgICAgICAgICB7CiAgICAgICAgICAgICAgICBpY29uOiBuZXcgTC5JY29uLkRlZmF1bHQoKSwKICAgICAgICAgICAgICAgIH0KICAgICAgICAgICAgKS5hZGRUbyhtYXBfMjU3MmNhMzEzMDcxNDkzM2EwYjUzN2RhZDdhOGZmYzEpOwogICAgICAgIAogICAgCiAgICAgICAgdmFyIG1hcmtlcl84YTQxMTcyMTM3Mzc0ZWIyOTE3ZWQ0MDIwYzczNGU4OCA9IEwubWFya2VyKAogICAgICAgICAgICBbNDAuNzQ1MjIwMTg0MzI2MTcsIC03My45OTUxNjI5NjM4NjcyXSwKICAgICAgICAgICAgewogICAgICAgICAgICAgICAgaWNvbjogbmV3IEwuSWNvbi5EZWZhdWx0KCksCiAgICAgICAgICAgICAgICB9CiAgICAgICAgICAgICkuYWRkVG8obWFwXzI1NzJjYTMxMzA3MTQ5MzNhMGI1MzdkYWQ3YThmZmMxKTsKICAgICAgICAKICAgIAogICAgICAgIHZhciBtYXJrZXJfZTA2MzhiNjk0OWE4NDlmMDlmOGJkMzZkZmE4NjE3YzYgPSBMLm1hcmtlcigKICAgICAgICAgICAgWzQwLjc0MjgzNTk5ODUzNTE1NiwgLTc0LjAwMzcwMDI1NjM0NzY2XSwKICAgICAgICAgICAgewogICAgICAgICAgICAgICAgaWNvbjogbmV3IEwuSWNvbi5EZWZhdWx0KCksCiAgICAgICAgICAgICAgICB9CiAgICAgICAgICAgICkuYWRkVG8obWFwXzI1NzJjYTMxMzA3MTQ5MzNhMGI1MzdkYWQ3YThmZmMxKTsKICAgICAgICAKICAgIAogICAgICAgIHZhciBtYXJrZXJfYWY5Yjc5MTNhMTljNGFkZGE5ZDFjZWVjMjQ4MzNhYmUgPSBMLm1hcmtlcigKICAgICAgICAgICAgWzQwLjc2ODUwNTA5NjQzNTU1LCAtNzMuOTU4NjEwNTM0NjY3OThdLAogICAgICAgICAgICB7CiAgICAgICAgICAgICAgICBpY29uOiBuZXcgTC5JY29uLkRlZmF1bHQoKSwKICAgICAgICAgICAgICAgIH0KICAgICAgICAgICAgKS5hZGRUbyhtYXBfMjU3MmNhMzEzMDcxNDkzM2EwYjUzN2RhZDdhOGZmYzEpOwogICAgICAgIAogICAgCiAgICAgICAgdmFyIG1hcmtlcl8zYmVkYTA0MzE2MGQ0MWE1YTQ1YzZjZDUwZGY2MWI5OSA9IEwubWFya2VyKAogICAgICAgICAgICBbNDAuNzI1MTY2MzIwODAwNzgsIC03My45ODEyMDg4MDEyNjk1NV0sCiAgICAgICAgICAgIHsKICAgICAgICAgICAgICAgIGljb246IG5ldyBMLkljb24uRGVmYXVsdCgpLAogICAgICAgICAgICAgICAgfQogICAgICAgICAgICApLmFkZFRvKG1hcF8yNTcyY2EzMTMwNzE0OTMzYTBiNTM3ZGFkN2E4ZmZjMSk7CiAgICAgICAgCiAgICAKICAgICAgICB2YXIgbWFya2VyX2IwZjA0NjU3ZTBmYzRkMDY4YTVmZmEzNDRiNDA2ODc1ID0gTC5tYXJrZXIoCiAgICAgICAgICAgIFs0MC44MDkxOTI2NTc0NzA3LCAtNzMuOTQ0NTM0MzAxNzU3ODFdLAogICAgICAgICAgICB7CiAgICAgICAgICAgICAgICBpY29uOiBuZXcgTC5JY29uLkRlZmF1bHQoKSwKICAgICAgICAgICAgICAgIH0KICAgICAgICAgICAgKS5hZGRUbyhtYXBfMjU3MmNhMzEzMDcxNDkzM2EwYjUzN2RhZDdhOGZmYzEpOwogICAgICAgIAogICAgCiAgICAgICAgdmFyIG1hcmtlcl81MzAyZWQyODUzYzQ0MTUxOTJhZmQ2YzMwM2ZlZmFhZCA9IEwubWFya2VyKAogICAgICAgICAgICBbNDAuODAyMDQzOTE0Nzk0OTIsIC03My45NjExODE2NDA2MjVdLAogICAgICAgICAgICB7CiAgICAgICAgICAgICAgICBpY29uOiBuZXcgTC5JY29uLkRlZmF1bHQoKSwKICAgICAgICAgICAgICAgIH0KICAgICAgICAgICAgKS5hZGRUbyhtYXBfMjU3MmNhMzEzMDcxNDkzM2EwYjUzN2RhZDdhOGZmYzEpOwogICAgICAgIAogICAgCiAgICAgICAgdmFyIG1hcmtlcl80YjNlMTQ2YzRmODE0MDEzYTAyMDU3Mjk1MmNjOWFiZCA9IEwubWFya2VyKAogICAgICAgICAgICBbNDAuNzYwNzM0NTU4MTA1NDcsIC03My45NzgzMDIwMDE5NTMxMl0sCiAgICAgICAgICAgIHsKICAgICAgICAgICAgICAgIGljb246IG5ldyBMLkljb24uRGVmYXVsdCgpLAogICAgICAgICAgICAgICAgfQogICAgICAgICAgICApLmFkZFRvKG1hcF8yNTcyY2EzMTMwNzE0OTMzYTBiNTM3ZGFkN2E4ZmZjMSk7CiAgICAgICAgCiAgICAKICAgICAgICB2YXIgbWFya2VyX2QwYjZmM2IxNGI2NzRiZGM4MTU2Y2FkNGU3OTZhY2VjID0gTC5tYXJrZXIoCiAgICAgICAgICAgIFs0MC43NDkwODA2NTc5NTg5OCwgLTczLjk3OTMwOTA4MjAzMTI1XSwKICAgICAgICAgICAgewogICAgICAgICAgICAgICAgaWNvbjogbmV3IEwuSWNvbi5EZWZhdWx0KCksCiAgICAgICAgICAgICAgICB9CiAgICAgICAgICAgICkuYWRkVG8obWFwXzI1NzJjYTMxMzA3MTQ5MzNhMGI1MzdkYWQ3YThmZmMxKTsKICAgICAgICAKICAgIAogICAgICAgIHZhciBtYXJrZXJfYWY0YzVjNDk0ZjIxNDlmMzlmNDFmNzBjYmM5ODZlMjUgPSBMLm1hcmtlcigKICAgICAgICAgICAgWzQwLjcyNzUzMTQzMzEwNTQ3LCAtNzQuMDAzMTIwNDIyMzYzMjhdLAogICAgICAgICAgICB7CiAgICAgICAgICAgICAgICBpY29uOiBuZXcgTC5JY29uLkRlZmF1bHQoKSwKICAgICAgICAgICAgICAgIH0KICAgICAgICAgICAgKS5hZGRUbyhtYXBfMjU3MmNhMzEzMDcxNDkzM2EwYjUzN2RhZDdhOGZmYzEpOwogICAgICAgIAogICAgCiAgICAgICAgdmFyIG1hcmtlcl8xZGQzMWU1NTMwMTE0NzA4YWZmM2MzMmQyYmQ1M2RkYyA9IEwubWFya2VyKAogICAgICAgICAgICBbNDAuNjY2Nzc4NTY0NDUzMTMsIC03My45ODEyNjIyMDcwMzEyNV0sCiAgICAgICAgICAgIHsKICAgICAgICAgICAgICAgIGljb246IG5ldyBMLkljb24uRGVmYXVsdCgpLAogICAgICAgICAgICAgICAgfQogICAgICAgICAgICApLmFkZFRvKG1hcF8yNTcyY2EzMTMwNzE0OTMzYTBiNTM3ZGFkN2E4ZmZjMSk7CiAgICAgICAgCiAgICAKICAgICAgICB2YXIgbWFya2VyXzk2MDk3YWFhMWMxNDQ1ZmJhZjM3MmIwYWE5Yzc2Y2Y2ID0gTC5tYXJrZXIoCiAgICAgICAgICAgIFs0MC43Njk0NjY0MDAxNDY0OCwgLTczLjk4NDY5NTQzNDU3MDNdLAogICAgICAgICAgICB7CiAgICAgICAgICAgICAgICBpY29uOiBuZXcgTC5JY29uLkRlZmF1bHQoKSwKICAgICAgICAgICAgICAgIH0KICAgICAgICAgICAgKS5hZGRUbyhtYXBfMjU3MmNhMzEzMDcxNDkzM2EwYjUzN2RhZDdhOGZmYzEpOwogICAgICAgIAogICAgCiAgICAgICAgdmFyIG1hcmtlcl81OGExOTA4YmRiOGQ0ZDdmOWMwZjc2ODA5MDBiMmQ2YyA9IEwubWFya2VyKAogICAgICAgICAgICBbNDAuNzQ2OTI1MzU0MDAzOTA2LCAtNzMuOTgxOTEwNzA1NTY2NF0sCiAgICAgICAgICAgIHsKICAgICAgICAgICAgICAgIGljb246IG5ldyBMLkljb24uRGVmYXVsdCgpLAogICAgICAgICAgICAgICAgfQogICAgICAgICAgICApLmFkZFRvKG1hcF8yNTcyY2EzMTMwNzE0OTMzYTBiNTM3ZGFkN2E4ZmZjMSk7CiAgICAgICAgCiAgICAKICAgICAgICB2YXIgbWFya2VyXzBhOTRiNTRmZDZlZjQwNjJhYzBkM2IxMzMxMTg5ZWRkID0gTC5tYXJrZXIoCiAgICAgICAgICAgIFs0MC43MjY5MDk2Mzc0NTExNywgLTczLjk4NTc2MzU0OTgwNDY3XSwKICAgICAgICAgICAgewogICAgICAgICAgICAgICAgaWNvbjogbmV3IEwuSWNvbi5EZWZhdWx0KCksCiAgICAgICAgICAgICAgICB9CiAgICAgICAgICAgICkuYWRkVG8obWFwXzI1NzJjYTMxMzA3MTQ5MzNhMGI1MzdkYWQ3YThmZmMxKTsKICAgICAgICAKICAgIAogICAgICAgIHZhciBtYXJrZXJfYmMzZTU4MTMyZDQxNGYxYTkzYTg5MDI5YTZjNzBmOGMgPSBMLm1hcmtlcigKICAgICAgICAgICAgWzQwLjc1NDU2NjE5MjYyNjk1LCAtNzMuOTkxNjYxMDcxNzc3MzRdLAogICAgICAgICAgICB7CiAgICAgICAgICAgICAgICBpY29uOiBuZXcgTC5JY29uLkRlZmF1bHQoKSwKICAgICAgICAgICAgICAgIH0KICAgICAgICAgICAgKS5hZGRUbyhtYXBfMjU3MmNhMzEzMDcxNDkzM2EwYjUzN2RhZDdhOGZmYzEpOwogICAgICAgIAogICAgCiAgICAgICAgdmFyIG1hcmtlcl8wYjJhY2ZmYjM3MDU0YzBlODQ3OGMxZDVmNjk0MDQ2YyA9IEwubWFya2VyKAogICAgICAgICAgICBbNDAuNzI3NDE2OTkyMTg3NSwgLTc0LjAwMzIzNDg2MzI4MTI1XSwKICAgICAgICAgICAgewogICAgICAgICAgICAgICAgaWNvbjogbmV3IEwuSWNvbi5EZWZhdWx0KCksCiAgICAgICAgICAgICAgICB9CiAgICAgICAgICAgICkuYWRkVG8obWFwXzI1NzJjYTMxMzA3MTQ5MzNhMGI1MzdkYWQ3YThmZmMxKTsKICAgICAgICAKICAgIAogICAgICAgIHZhciBtYXJrZXJfMTM0N2JkOTQ4Nzk5NDdhMmE5NjI4MjQxOTJiOWQyY2IgPSBMLm1hcmtlcigKICAgICAgICAgICAgWzQwLjc2MDQ1OTg5OTkwMjM0LCAtNzMuOTY0NDMxNzYyNjk1MzFdLAogICAgICAgICAgICB7CiAgICAgICAgICAgICAgICBpY29uOiBuZXcgTC5JY29uLkRlZmF1bHQoKSwKICAgICAgICAgICAgICAgIH0KICAgICAgICAgICAgKS5hZGRUbyhtYXBfMjU3MmNhMzEzMDcxNDkzM2EwYjUzN2RhZDdhOGZmYzEpOwogICAgICAgIAogICAgCiAgICAgICAgdmFyIG1hcmtlcl9jYWFiODgyYTVlNjg0ZWVhYThhY2NiYjlhZDAxY2RjNSA9IEwubWFya2VyKAogICAgICAgICAgICBbNDAuNzM1MjI1Njc3NDkwMjQsIC03My45OTAxNTA0NTE2NjAxNF0sCiAgICAgICAgICAgIHsKICAgICAgICAgICAgICAgIGljb246IG5ldyBMLkljb24uRGVmYXVsdCgpLAogICAgICAgICAgICAgICAgfQogICAgICAgICAgICApLmFkZFRvKG1hcF8yNTcyY2EzMTMwNzE0OTMzYTBiNTM3ZGFkN2E4ZmZjMSk7CiAgICAgICAgCiAgICAKICAgICAgICB2YXIgbWFya2VyXzgzN2U1MzRjODg1MTQ0YmE5ZTBkMDljNWM1ZjY0MmZmID0gTC5tYXJrZXIoCiAgICAgICAgICAgIFs0MC43Mzg1OTAyNDA0Nzg1MiwgLTczLjk4NTMyODY3NDMxNjRdLAogICAgICAgICAgICB7CiAgICAgICAgICAgICAgICBpY29uOiBuZXcgTC5JY29uLkRlZmF1bHQoKSwKICAgICAgICAgICAgICAgIH0KICAgICAgICAgICAgKS5hZGRUbyhtYXBfMjU3MmNhMzEzMDcxNDkzM2EwYjUzN2RhZDdhOGZmYzEpOwogICAgICAgIAogICAgCiAgICAgICAgdmFyIG1hcmtlcl9kNzZiZDZiZThmOWY0MGZlOGNiNjZmNDA2N2E2MTU2NCA9IEwubWFya2VyKAogICAgICAgICAgICBbNDAuNzQ1MzY1MTQyODIyMjY2LCAtNzMuOTk0ODczMDQ2ODc1XSwKICAgICAgICAgICAgewogICAgICAgICAgICAgICAgaWNvbjogbmV3IEwuSWNvbi5EZWZhdWx0KCksCiAgICAgICAgICAgICAgICB9CiAgICAgICAgICAgICkuYWRkVG8obWFwXzI1NzJjYTMxMzA3MTQ5MzNhMGI1MzdkYWQ3YThmZmMxKTsKICAgICAgICAKICAgIAogICAgICAgIHZhciBtYXJrZXJfNmJjMGI1MWYyMzUwNDg3YWIxOTI3NDhmMDE0NjE0YjMgPSBMLm1hcmtlcigKICAgICAgICAgICAgWzQwLjc5MTQ0NjY4NTc5MTAxNiwgLTczLjk1MjU0NTE2NjAxNTYyXSwKICAgICAgICAgICAgewogICAgICAgICAgICAgICAgaWNvbjogbmV3IEwuSWNvbi5EZWZhdWx0KCksCiAgICAgICAgICAgICAgICB9CiAgICAgICAgICAgICkuYWRkVG8obWFwXzI1NzJjYTMxMzA3MTQ5MzNhMGI1MzdkYWQ3YThmZmMxKTsKICAgICAgICAKICAgIAogICAgICAgIHZhciBtYXJrZXJfZjM4NDJhODNmMzY4NGYxN2I5MjA5NjY5YzdjYTI3ZDggPSBMLm1hcmtlcigKICAgICAgICAgICAgWzQwLjcyNTM4NzU3MzI0MjE5LCAtNzQuMDAzMzAzNTI3ODMyMDNdLAogICAgICAgICAgICB7CiAgICAgICAgICAgICAgICBpY29uOiBuZXcgTC5JY29uLkRlZmF1bHQoKSwKICAgICAgICAgICAgICAgIH0KICAgICAgICAgICAgKS5hZGRUbyhtYXBfMjU3MmNhMzEzMDcxNDkzM2EwYjUzN2RhZDdhOGZmYzEpOwogICAgICAgIAogICAgCiAgICAgICAgdmFyIG1hcmtlcl84MDJkN2UzODhjNTM0Yjc3OTNkNmI0MWVmNDVlY2JiOCA9IEwubWFya2VyKAogICAgICAgICAgICBbNDAuNzQxMDkyNjgxODg0NzcsIC03NC4wMDgyMDE1OTkxMjExXSwKICAgICAgICAgICAgewogICAgICAgICAgICAgICAgaWNvbjogbmV3IEwuSWNvbi5EZWZhdWx0KCksCiAgICAgICAgICAgICAgICB9CiAgICAgICAgICAgICkuYWRkVG8obWFwXzI1NzJjYTMxMzA3MTQ5MzNhMGI1MzdkYWQ3YThmZmMxKTsKICAgICAgICAKICAgIAogICAgICAgIHZhciBtYXJrZXJfZGFlMmM0ZjZiNWY5NDUzMGE2NTUxY2YxNzUyMmEwZTMgPSBMLm1hcmtlcigKICAgICAgICAgICAgWzQwLjc1NTEwMDI1MDI0NDE1LCAtNzMuOTY1Mjc4NjI1NDg4M10sCiAgICAgICAgICAgIHsKICAgICAgICAgICAgICAgIGljb246IG5ldyBMLkljb24uRGVmYXVsdCgpLAogICAgICAgICAgICAgICAgfQogICAgICAgICAgICApLmFkZFRvKG1hcF8yNTcyY2EzMTMwNzE0OTMzYTBiNTM3ZGFkN2E4ZmZjMSk7CiAgICAgICAgCiAgICAKICAgICAgICB2YXIgbWFya2VyXzQ1ZTA0MjA5MTMxMzQwOGRiN2EyN2UzYjFiOGU4ZTdhID0gTC5tYXJrZXIoCiAgICAgICAgICAgIFs0MC43ODExNjk4OTEzNTc0MiwgLTczLjk4MTM2OTAxODU1NDY5XSwKICAgICAgICAgICAgewogICAgICAgICAgICAgICAgaWNvbjogbmV3IEwuSWNvbi5EZWZhdWx0KCksCiAgICAgICAgICAgICAgICB9CiAgICAgICAgICAgICkuYWRkVG8obWFwXzI1NzJjYTMxMzA3MTQ5MzNhMGI1MzdkYWQ3YThmZmMxKTsKICAgICAgICAKICAgIAogICAgICAgIHZhciBtYXJrZXJfZWFmMjc4OTY5OWU3NDhiNDkzYWVhM2E0ZjM1ZjA2ZTkgPSBMLm1hcmtlcigKICAgICAgICAgICAgWzQwLjc2MTQ1NTUzNTg4ODY3LCAtNzMuOTc0NjYyNzgwNzYxNzNdLAogICAgICAgICAgICB7CiAgICAgICAgICAgICAgICBpY29uOiBuZXcgTC5JY29uLkRlZmF1bHQoKSwKICAgICAgICAgICAgICAgIH0KICAgICAgICAgICAgKS5hZGRUbyhtYXBfMjU3MmNhMzEzMDcxNDkzM2EwYjUzN2RhZDdhOGZmYzEpOwogICAgICAgIAogICAgCiAgICAgICAgdmFyIG1hcmtlcl9jMzAwNGE4ZWNlNGY0NWVmOWIyOTUzZjBhZTk4OTkyOSA9IEwubWFya2VyKAogICAgICAgICAgICBbNDAuNzYxODI5Mzc2MjIwNywgLTczLjk3OTAzNDQyMzgyODEyXSwKICAgICAgICAgICAgewogICAgICAgICAgICAgICAgaWNvbjogbmV3IEwuSWNvbi5EZWZhdWx0KCksCiAgICAgICAgICAgICAgICB9CiAgICAgICAgICAgICkuYWRkVG8obWFwXzI1NzJjYTMxMzA3MTQ5MzNhMGI1MzdkYWQ3YThmZmMxKTsKICAgICAgICAKICAgIAogICAgICAgIHZhciBtYXJrZXJfODBmYWFjNTZkOWU3NDRiYjk4YzVkNDkzNzE5MWI4ZDYgPSBMLm1hcmtlcigKICAgICAgICAgICAgWzQwLjc2Nzg3NTY3MTM4NjcyLCAtNzMuOTYxODY4Mjg2MTMyODFdLAogICAgICAgICAgICB7CiAgICAgICAgICAgICAgICBpY29uOiBuZXcgTC5JY29uLkRlZmF1bHQoKSwKICAgICAgICAgICAgICAgIH0KICAgICAgICAgICAgKS5hZGRUbyhtYXBfMjU3MmNhMzEzMDcxNDkzM2EwYjUzN2RhZDdhOGZmYzEpOwogICAgICAgIAogICAgCiAgICAgICAgdmFyIG1hcmtlcl9jZmI2YmRmZjRjOWU0MTI4OTI3MDE5YzMxNDA3MmNjMyA9IEwubWFya2VyKAogICAgICAgICAgICBbNDAuODI5NzgwNTc4NjEzMjgsIC03My45NDgxODg3ODE3MzgyN10sCiAgICAgICAgICAgIHsKICAgICAgICAgICAgICAgIGljb246IG5ldyBMLkljb24uRGVmYXVsdCgpLAogICAgICAgICAgICAgICAgfQogICAgICAgICAgICApLmFkZFRvKG1hcF8yNTcyY2EzMTMwNzE0OTMzYTBiNTM3ZGFkN2E4ZmZjMSk7CiAgICAgICAgCiAgICAKICAgICAgICB2YXIgbWFya2VyXzNkMDhhMGM5YmU4ZjQ5YjE4ZGM5ODI1M2EyNTBiYmFkID0gTC5tYXJrZXIoCiAgICAgICAgICAgIFs0MC43NzE5MjMwNjUxODU1NSwgLTczLjk2NTY1MjQ2NTgyMDNdLAogICAgICAgICAgICB7CiAgICAgICAgICAgICAgICBpY29uOiBuZXcgTC5JY29uLkRlZmF1bHQoKSwKICAgICAgICAgICAgICAgIH0KICAgICAgICAgICAgKS5hZGRUbyhtYXBfMjU3MmNhMzEzMDcxNDkzM2EwYjUzN2RhZDdhOGZmYzEpOwogICAgICAgIAogICAgCiAgICAgICAgdmFyIG1hcmtlcl83OWRiYzQyMWRiOGY0MGVhYTk4ODdmZDQ1MzU1ZTExZSA9IEwubWFya2VyKAogICAgICAgICAgICBbNDAuNzQ1MTkzNDgxNDQ1MzEsIC03My45ODI2MTI2MDk4NjMyOF0sCiAgICAgICAgICAgIHsKICAgICAgICAgICAgICAgIGljb246IG5ldyBMLkljb24uRGVmYXVsdCgpLAogICAgICAgICAgICAgICAgfQogICAgICAgICAgICApLmFkZFRvKG1hcF8yNTcyY2EzMTMwNzE0OTMzYTBiNTM3ZGFkN2E4ZmZjMSk7CiAgICAgICAgCiAgICAKICAgICAgICB2YXIgbWFya2VyXzUwZWY0YmEzZTBkODQ0YmM4MmFiNzJlYzMwMjhkMDA2ID0gTC5tYXJrZXIoCiAgICAgICAgICAgIFs0MC43MzYzMDkwNTE1MTM2NywgLTczLjk5MjA0MjU0MTUwMzldLAogICAgICAgICAgICB7CiAgICAgICAgICAgICAgICBpY29uOiBuZXcgTC5JY29uLkRlZmF1bHQoKSwKICAgICAgICAgICAgICAgIH0KICAgICAgICAgICAgKS5hZGRUbyhtYXBfMjU3MmNhMzEzMDcxNDkzM2EwYjUzN2RhZDdhOGZmYzEpOwogICAgICAgIAogICAgCiAgICAgICAgdmFyIG1hcmtlcl8wM2Q1Y2I0ZGM1OTU0ODkzOGEwYjg4N2I3NTU0ODA0ZSA9IEwubWFya2VyKAogICAgICAgICAgICBbNDAuNzY0MjEzNTYyMDExNzIsIC03My45ODA2OTc2MzE4MzU5NF0sCiAgICAgICAgICAgIHsKICAgICAgICAgICAgICAgIGljb246IG5ldyBMLkljb24uRGVmYXVsdCgpLAogICAgICAgICAgICAgICAgfQogICAgICAgICAgICApLmFkZFRvKG1hcF8yNTcyY2EzMTMwNzE0OTMzYTBiNTM3ZGFkN2E4ZmZjMSk7CiAgICAgICAgCiAgICAKICAgICAgICB2YXIgbWFya2VyX2VmMzBkZDgzMzBjYjQ5NTQ5MTQ1MGE3MThhOWI5MmRkID0gTC5tYXJrZXIoCiAgICAgICAgICAgIFs0MC43NTYxNDkyOTE5OTIxOSwgLTczLjk5MDI3MjUyMTk3MjY2XSwKICAgICAgICAgICAgewogICAgICAgICAgICAgICAgaWNvbjogbmV3IEwuSWNvbi5EZWZhdWx0KCksCiAgICAgICAgICAgICAgICB9CiAgICAgICAgICAgICkuYWRkVG8obWFwXzI1NzJjYTMxMzA3MTQ5MzNhMGI1MzdkYWQ3YThmZmMxKTsKICAgICAgICAKICAgIAogICAgICAgIHZhciBtYXJrZXJfMjkwNmJhNWE1NTJhNGZlMzk4MTUxOTQzNzBkN2YwZWUgPSBMLm1hcmtlcigKICAgICAgICAgICAgWzQwLjc4MTEyNzkyOTY4NzUsIC03My45NDYyMjAzOTc5NDkyM10sCiAgICAgICAgICAgIHsKICAgICAgICAgICAgICAgIGljb246IG5ldyBMLkljb24uRGVmYXVsdCgpLAogICAgICAgICAgICAgICAgfQogICAgICAgICAgICApLmFkZFRvKG1hcF8yNTcyY2EzMTMwNzE0OTMzYTBiNTM3ZGFkN2E4ZmZjMSk7CiAgICAgICAgCiAgICAKICAgICAgICB2YXIgbWFya2VyX2Y1YjNmMTI1MTg0ZjRlNjU5Y2M0YTEwMjljM2ViMjFkID0gTC5tYXJrZXIoCiAgICAgICAgICAgIFs0MC43NjQyMDk3NDczMTQ0NSwgLTczLjk4ODU0MDY0OTQxNDA2XSwKICAgICAgICAgICAgewogICAgICAgICAgICAgICAgaWNvbjogbmV3IEwuSWNvbi5EZWZhdWx0KCksCiAgICAgICAgICAgICAgICB9CiAgICAgICAgICAgICkuYWRkVG8obWFwXzI1NzJjYTMxMzA3MTQ5MzNhMGI1MzdkYWQ3YThmZmMxKTsKICAgICAgICAKICAgIAogICAgICAgIHZhciBtYXJrZXJfNWE0NDhlOWRmOGVjNGViNzk5YWVlYTNjODRhZjFkMmYgPSBMLm1hcmtlcigKICAgICAgICAgICAgWzQwLjc2NTE1OTYwNjkzMzYsIC03My45NjM3OTA4OTM1NTQ2OV0sCiAgICAgICAgICAgIHsKICAgICAgICAgICAgICAgIGljb246IG5ldyBMLkljb24uRGVmYXVsdCgpLAogICAgICAgICAgICAgICAgfQogICAgICAgICAgICApLmFkZFRvKG1hcF8yNTcyY2EzMTMwNzE0OTMzYTBiNTM3ZGFkN2E4ZmZjMSk7CiAgICAgICAgCiAgICAKICAgICAgICB2YXIgbWFya2VyX2VhNjI3ZTVkOThlNTQ1NGZhOTQyOTM1MjBhNmVjNDMwID0gTC5tYXJrZXIoCiAgICAgICAgICAgIFs0MC43NTExNjcyOTczNjMyOCwgLTczLjk5NDA1NjcwMTY2MDE0XSwKICAgICAgICAgICAgewogICAgICAgICAgICAgICAgaWNvbjogbmV3IEwuSWNvbi5EZWZhdWx0KCksCiAgICAgICAgICAgICAgICB9CiAgICAgICAgICAgICkuYWRkVG8obWFwXzI1NzJjYTMxMzA3MTQ5MzNhMGI1MzdkYWQ3YThmZmMxKTsKICAgICAgICAKICAgIAogICAgICAgIHZhciBtYXJrZXJfOTJjZjAxY2FjNzYzNDJmN2JkMWE5ZWFiMWE1Y2M2ZTAgPSBMLm1hcmtlcigKICAgICAgICAgICAgWzQwLjc0NzYxOTYyODkwNjI1LCAtNzMuOTgzNDgyMzYwODM5ODRdLAogICAgICAgICAgICB7CiAgICAgICAgICAgICAgICBpY29uOiBuZXcgTC5JY29uLkRlZmF1bHQoKSwKICAgICAgICAgICAgICAgIH0KICAgICAgICAgICAgKS5hZGRUbyhtYXBfMjU3MmNhMzEzMDcxNDkzM2EwYjUzN2RhZDdhOGZmYzEpOwogICAgICAgIAogICAgCiAgICAgICAgdmFyIG1hcmtlcl8xMGViY2Y3OWNlMWU0NTIyYmVmYWU3MWZhOTY1MjAzNSA9IEwubWFya2VyKAogICAgICAgICAgICBbNDAuNzcwNDg0OTI0MzE2NDA2LCAtNzMuOTYwMjI3OTY2MzA4Nl0sCiAgICAgICAgICAgIHsKICAgICAgICAgICAgICAgIGljb246IG5ldyBMLkljb24uRGVmYXVsdCgpLAogICAgICAgICAgICAgICAgfQogICAgICAgICAgICApLmFkZFRvKG1hcF8yNTcyY2EzMTMwNzE0OTMzYTBiNTM3ZGFkN2E4ZmZjMSk7CiAgICAgICAgCiAgICAKICAgICAgICB2YXIgbWFya2VyX2Q3YzlhYmIyYTFjODQ3MzZiNDk2ZWFkMTRiNmU3OGJlID0gTC5tYXJrZXIoCiAgICAgICAgICAgIFs0MC43NTYwNDYyOTUxNjYwMTYsIC03My45ODcwNjA1NDY4NzVdLAogICAgICAgICAgICB7CiAgICAgICAgICAgICAgICBpY29uOiBuZXcgTC5JY29uLkRlZmF1bHQoKSwKICAgICAgICAgICAgICAgIH0KICAgICAgICAgICAgKS5hZGRUbyhtYXBfMjU3MmNhMzEzMDcxNDkzM2EwYjUzN2RhZDdhOGZmYzEpOwogICAgICAgIAogICAgCiAgICAgICAgdmFyIG1hcmtlcl9hZGY5OTE3MDBjOGY0MjRiOTg0MDgxOWM3MDk3MWY3OCA9IEwubWFya2VyKAogICAgICAgICAgICBbNDAuNzQzODczNTk2MTkxNDA2LCAtNzMuOTgzNzcyMjc3ODMyMDNdLAogICAgICAgICAgICB7CiAgICAgICAgICAgICAgICBpY29uOiBuZXcgTC5JY29uLkRlZmF1bHQoKSwKICAgICAgICAgICAgICAgIH0KICAgICAgICAgICAgKS5hZGRUbyhtYXBfMjU3MmNhMzEzMDcxNDkzM2EwYjUzN2RhZDdhOGZmYzEpOwogICAgICAgIAogICAgCiAgICAgICAgdmFyIG1hcmtlcl9hMWJhMTBiNTJmNjM0NzZjOWRjZDdmNTNlNzM5OGIzOCA9IEwubWFya2VyKAogICAgICAgICAgICBbNDAuNzcxNjg2NTUzOTU1MDgsIC03My45NjUzNjI1NDg4MjgxMl0sCiAgICAgICAgICAgIHsKICAgICAgICAgICAgICAgIGljb246IG5ldyBMLkljb24uRGVmYXVsdCgpLAogICAgICAgICAgICAgICAgfQogICAgICAgICAgICApLmFkZFRvKG1hcF8yNTcyY2EzMTMwNzE0OTMzYTBiNTM3ZGFkN2E4ZmZjMSk7CiAgICAgICAgCiAgICAKICAgICAgICB2YXIgbWFya2VyX2IzMGFmMWU1ZWUwMjRhMGE5M2FmNDA0MmZkZDM0OTEzID0gTC5tYXJrZXIoCiAgICAgICAgICAgIFs0MC43NTczMDUxNDUyNjM2NywgLTczLjk4NTc3ODgwODU5Mzc1XSwKICAgICAgICAgICAgewogICAgICAgICAgICAgICAgaWNvbjogbmV3IEwuSWNvbi5EZWZhdWx0KCksCiAgICAgICAgICAgICAgICB9CiAgICAgICAgICAgICkuYWRkVG8obWFwXzI1NzJjYTMxMzA3MTQ5MzNhMGI1MzdkYWQ3YThmZmMxKTsKICAgICAgICAKICAgIAogICAgICAgIHZhciBtYXJrZXJfMTY3YjhlYmQ4ZGIwNDU0NWI2YzVlMjgzYTczZWYzYTkgPSBMLm1hcmtlcigKICAgICAgICAgICAgWzQwLjc0NzY2NTQwNTI3MzQ0LCAtNzMuOTg4NzIzNzU0ODgyODFdLAogICAgICAgICAgICB7CiAgICAgICAgICAgICAgICBpY29uOiBuZXcgTC5JY29uLkRlZmF1bHQoKSwKICAgICAgICAgICAgICAgIH0KICAgICAgICAgICAgKS5hZGRUbyhtYXBfMjU3MmNhMzEzMDcxNDkzM2EwYjUzN2RhZDdhOGZmYzEpOwogICAgICAgIAogICAgCiAgICAgICAgdmFyIG1hcmtlcl81YWMwMTM1ODZlOTk0MjI0YmI3N2UxYzQ3NWJhZjU2YyA9IEwubWFya2VyKAogICAgICAgICAgICBbNDAuNzIxOTg4Njc3OTc4NTIsIC03NC4wMDQzMTgyMzczMDQ2N10sCiAgICAgICAgICAgIHsKICAgICAgICAgICAgICAgIGljb246IG5ldyBMLkljb24uRGVmYXVsdCgpLAogICAgICAgICAgICAgICAgfQogICAgICAgICAgICApLmFkZFRvKG1hcF8yNTcyY2EzMTMwNzE0OTMzYTBiNTM3ZGFkN2E4ZmZjMSk7CiAgICAgICAgCiAgICAKICAgICAgICB2YXIgbWFya2VyXzU0OGI4NzUxYTU1NTQ5YTViNWFhNjVjYzU1YjEzYTEwID0gTC5tYXJrZXIoCiAgICAgICAgICAgIFs0MC43NjkzNTE5NTkyMjg1MiwgLTczLjk4NDg1NTY1MTg1NTQ3XSwKICAgICAgICAgICAgewogICAgICAgICAgICAgICAgaWNvbjogbmV3IEwuSWNvbi5EZWZhdWx0KCksCiAgICAgICAgICAgICAgICB9CiAgICAgICAgICAgICkuYWRkVG8obWFwXzI1NzJjYTMxMzA3MTQ5MzNhMGI1MzdkYWQ3YThmZmMxKTsKICAgICAgICAKICAgIAogICAgICAgIHZhciBtYXJrZXJfODNmOTY4ZWM2ZDYzNGYzYzhkMjc4MzE5MjE0ZDk1MGUgPSBMLm1hcmtlcigKICAgICAgICAgICAgWzQwLjY0MjkwMjM3NDI2NzU4LCAtNzMuNzg5MDkzMDE3NTc4MTFdLAogICAgICAgICAgICB7CiAgICAgICAgICAgICAgICBpY29uOiBuZXcgTC5JY29uLkRlZmF1bHQoKSwKICAgICAgICAgICAgICAgIH0KICAgICAgICAgICAgKS5hZGRUbyhtYXBfMjU3MmNhMzEzMDcxNDkzM2EwYjUzN2RhZDdhOGZmYzEpOwogICAgICAgIAogICAgCiAgICAgICAgdmFyIG1hcmtlcl8yOTIwMDJlMDFjMWQ0NzVjYjMxMDg3Y2EzZGI2MzliMiA9IEwubWFya2VyKAogICAgICAgICAgICBbNDAuNzUzMzUzMTE4ODk2NDgsIC03My45NjYzOTI1MTcwODk4NF0sCiAgICAgICAgICAgIHsKICAgICAgICAgICAgICAgIGljb246IG5ldyBMLkljb24uRGVmYXVsdCgpLAogICAgICAgICAgICAgICAgfQogICAgICAgICAgICApLmFkZFRvKG1hcF8yNTcyY2EzMTMwNzE0OTMzYTBiNTM3ZGFkN2E4ZmZjMSk7CiAgICAgICAgCiAgICAKICAgICAgICB2YXIgbWFya2VyXzkyNjNlZTAyNTM2YTRkMTc4MzZmNGI3ZTA3MjIzYWQ5ID0gTC5tYXJrZXIoCiAgICAgICAgICAgIFs0MC43NjE5NjY3MDUzMjIyNjYsIC03My45NTc2NDE2MDE1NjI1XSwKICAgICAgICAgICAgewogICAgICAgICAgICAgICAgaWNvbjogbmV3IEwuSWNvbi5EZWZhdWx0KCksCiAgICAgICAgICAgICAgICB9CiAgICAgICAgICAgICkuYWRkVG8obWFwXzI1NzJjYTMxMzA3MTQ5MzNhMGI1MzdkYWQ3YThmZmMxKTsKICAgICAgICAKICAgIAogICAgICAgIHZhciBtYXJrZXJfN2M1MTI2NzU5NWJiNGNjZjhhZGNkYWNiZTViNDRkODUgPSBMLm1hcmtlcigKICAgICAgICAgICAgWzQwLjc3MTkzMDY5NDU4MDA4LCAtNzMuOTU1OTg2MDIyOTQ5MjNdLAogICAgICAgICAgICB7CiAgICAgICAgICAgICAgICBpY29uOiBuZXcgTC5JY29uLkRlZmF1bHQoKSwKICAgICAgICAgICAgICAgIH0KICAgICAgICAgICAgKS5hZGRUbyhtYXBfMjU3MmNhMzEzMDcxNDkzM2EwYjUzN2RhZDdhOGZmYzEpOwogICAgICAgIAogICAgCiAgICAgICAgdmFyIG1hcmtlcl8yZTE1NTZhNDk2Yzc0NGY3ODI5MWU5N2FkNmNhZDcwZCA9IEwubWFya2VyKAogICAgICAgICAgICBbNDAuNzM5NTg5NjkxMTYyMSwgLTczLjk4NDYyNjc3MDAxOTU1XSwKICAgICAgICAgICAgewogICAgICAgICAgICAgICAgaWNvbjogbmV3IEwuSWNvbi5EZWZhdWx0KCksCiAgICAgICAgICAgICAgICB9CiAgICAgICAgICAgICkuYWRkVG8obWFwXzI1NzJjYTMxMzA3MTQ5MzNhMGI1MzdkYWQ3YThmZmMxKTsKICAgICAgICAKICAgIAogICAgICAgIHZhciBtYXJrZXJfZjBhMGQ3NGQ5MmRhNGEwM2E2MDIzOTA3MzY0YjE2ZjEgPSBMLm1hcmtlcigKICAgICAgICAgICAgWzQwLjc1NjExMTE0NTAxOTUzLCAtNzMuOTcyODYyMjQzNjUyMzRdLAogICAgICAgICAgICB7CiAgICAgICAgICAgICAgICBpY29uOiBuZXcgTC5JY29uLkRlZmF1bHQoKSwKICAgICAgICAgICAgICAgIH0KICAgICAgICAgICAgKS5hZGRUbyhtYXBfMjU3MmNhMzEzMDcxNDkzM2EwYjUzN2RhZDdhOGZmYzEpOwogICAgICAgIAogICAgCiAgICAgICAgdmFyIG1hcmtlcl82NzI4NTA3Yjc5NGY0MjFiOGM2NjA4NWY0MmZlZmI0NyA9IEwubWFya2VyKAogICAgICAgICAgICBbNDAuNzc2NDM5NjY2NzQ4MDUsIC03My45NjIyNDk3NTU4NTkzOF0sCiAgICAgICAgICAgIHsKICAgICAgICAgICAgICAgIGljb246IG5ldyBMLkljb24uRGVmYXVsdCgpLAogICAgICAgICAgICAgICAgfQogICAgICAgICAgICApLmFkZFRvKG1hcF8yNTcyY2EzMTMwNzE0OTMzYTBiNTM3ZGFkN2E4ZmZjMSk7CiAgICAgICAgCiAgICAKICAgICAgICB2YXIgbWFya2VyX2YwNTBhNDA2ZWJlMjRlNTg4NTA2ODljMTVkYzlmMjEyID0gTC5tYXJrZXIoCiAgICAgICAgICAgIFs0MC43ODQwMTk0NzAyMTQ4NSwgLTczLjk1MDM0NzkwMDM5MDYyXSwKICAgICAgICAgICAgewogICAgICAgICAgICAgICAgaWNvbjogbmV3IEwuSWNvbi5EZWZhdWx0KCksCiAgICAgICAgICAgICAgICB9CiAgICAgICAgICAgICkuYWRkVG8obWFwXzI1NzJjYTMxMzA3MTQ5MzNhMGI1MzdkYWQ3YThmZmMxKTsKICAgICAgICAKICAgIAogICAgICAgIHZhciBtYXJrZXJfNGNkM2MwNmEwYjFjNDMwZmEzNmQzNTVkNTRmNTIwNmYgPSBMLm1hcmtlcigKICAgICAgICAgICAgWzQwLjc3ODkxMTU5MDU3NjE3LCAtNzMuOTQ3ODY4MzQ3MTY3OThdLAogICAgICAgICAgICB7CiAgICAgICAgICAgICAgICBpY29uOiBuZXcgTC5JY29uLkRlZmF1bHQoKSwKICAgICAgICAgICAgICAgIH0KICAgICAgICAgICAgKS5hZGRUbyhtYXBfMjU3MmNhMzEzMDcxNDkzM2EwYjUzN2RhZDdhOGZmYzEpOwogICAgICAgIAogICAgCiAgICAgICAgdmFyIG1hcmtlcl9kNjRlYTI1ZmRjZWY0ZDRiOTEyOTAyZWM3NDgwZWRjZSA9IEwubWFya2VyKAogICAgICAgICAgICBbNDAuNzcxMjMyNjA0OTgwNDcsIC03My44NjYwMjAyMDI2MzY3Ml0sCiAgICAgICAgICAgIHsKICAgICAgICAgICAgICAgIGljb246IG5ldyBMLkljb24uRGVmYXVsdCgpLAogICAgICAgICAgICAgICAgfQogICAgICAgICAgICApLmFkZFRvKG1hcF8yNTcyY2EzMTMwNzE0OTMzYTBiNTM3ZGFkN2E4ZmZjMSk7CiAgICAgICAgCiAgICAKICAgICAgICB2YXIgbWFya2VyXzY0NTNjZDgyNzlmZjRlN2FiYzQ1NWI1NDdjYzJlNDZjID0gTC5tYXJrZXIoCiAgICAgICAgICAgIFs0MC43NDE2NjQ4ODY0NzQ2MSwgLTc0LjAwNDE4ODUzNzU5NzY2XSwKICAgICAgICAgICAgewogICAgICAgICAgICAgICAgaWNvbjogbmV3IEwuSWNvbi5EZWZhdWx0KCksCiAgICAgICAgICAgICAgICB9CiAgICAgICAgICAgICkuYWRkVG8obWFwXzI1NzJjYTMxMzA3MTQ5MzNhMGI1MzdkYWQ3YThmZmMxKTsKICAgICAgICAKICAgIAogICAgICAgIHZhciBtYXJrZXJfNjdmZjE5ZmViYmU2NDhmMzg0MjNmNDkxOTk2MTM5NjIgPSBMLm1hcmtlcigKICAgICAgICAgICAgWzQwLjc5MDc3NTI5OTA3MjI2NiwgLTczLjk0MjE2OTE4OTQ1MzEyXSwKICAgICAgICAgICAgewogICAgICAgICAgICAgICAgaWNvbjogbmV3IEwuSWNvbi5EZWZhdWx0KCksCiAgICAgICAgICAgICAgICB9CiAgICAgICAgICAgICkuYWRkVG8obWFwXzI1NzJjYTMxMzA3MTQ5MzNhMGI1MzdkYWQ3YThmZmMxKTsKICAgICAgICAKICAgIAogICAgICAgIHZhciBtYXJrZXJfMTNjMzcxOTRlNTNjNDMzMGIzMjA1ZDgzNDJmMWNiZjQgPSBMLm1hcmtlcigKICAgICAgICAgICAgWzQwLjc2ODU1MDg3MjgwMjczNCwgLTczLjk4MTg3MjU1ODU5Mzc1XSwKICAgICAgICAgICAgewogICAgICAgICAgICAgICAgaWNvbjogbmV3IEwuSWNvbi5EZWZhdWx0KCksCiAgICAgICAgICAgICAgICB9CiAgICAgICAgICAgICkuYWRkVG8obWFwXzI1NzJjYTMxMzA3MTQ5MzNhMGI1MzdkYWQ3YThmZmMxKTsKICAgICAgICAKICAgIAogICAgICAgIHZhciBtYXJrZXJfOGUzZjYyZDNkYzU0NGYzM2JkODU1OWQ3N2IyM2VkNTkgPSBMLm1hcmtlcigKICAgICAgICAgICAgWzQwLjczODQ3OTYxNDI1NzgxLCAtNzMuOTg1NDQzMTE1MjM0MzhdLAogICAgICAgICAgICB7CiAgICAgICAgICAgICAgICBpY29uOiBuZXcgTC5JY29uLkRlZmF1bHQoKSwKICAgICAgICAgICAgICAgIH0KICAgICAgICAgICAgKS5hZGRUbyhtYXBfMjU3MmNhMzEzMDcxNDkzM2EwYjUzN2RhZDdhOGZmYzEpOwogICAgICAgIAogICAgCiAgICAgICAgdmFyIG1hcmtlcl8zN2Y3NGNlNDhkYzY0NTI5YTJmZDRhZTNjNTM3YjVhYiA9IEwubWFya2VyKAogICAgICAgICAgICBbNDAuNzU2NDA0ODc2NzA4OTgsIC03My45NzI3MjQ5MTQ1NTA3OF0sCiAgICAgICAgICAgIHsKICAgICAgICAgICAgICAgIGljb246IG5ldyBMLkljb24uRGVmYXVsdCgpLAogICAgICAgICAgICAgICAgfQogICAgICAgICAgICApLmFkZFRvKG1hcF8yNTcyY2EzMTMwNzE0OTMzYTBiNTM3ZGFkN2E4ZmZjMSk7CiAgICAgICAgCiAgICAKICAgICAgICB2YXIgbWFya2VyXzI2YjU2YTdlNWUwNTRjMTNiMzU3YTU1OWIwZmM4OTM1ID0gTC5tYXJrZXIoCiAgICAgICAgICAgIFs0MC43NzExNjc3NTUxMjY5NSwgLTczLjk1MDM0MDI3MDk5NjFdLAogICAgICAgICAgICB7CiAgICAgICAgICAgICAgICBpY29uOiBuZXcgTC5JY29uLkRlZmF1bHQoKSwKICAgICAgICAgICAgICAgIH0KICAgICAgICAgICAgKS5hZGRUbyhtYXBfMjU3MmNhMzEzMDcxNDkzM2EwYjUzN2RhZDdhOGZmYzEpOwogICAgICAgIAogICAgCiAgICAgICAgdmFyIG1hcmtlcl8xOWNiZTU0NGNhZmI0NDZlODhkYWQxZTM3MmM2NjU3MSA9IEwubWFya2VyKAogICAgICAgICAgICBbNDAuNzU2NzI1MzExMjc5MywgLTczLjk4OTk5MDIzNDM3NV0sCiAgICAgICAgICAgIHsKICAgICAgICAgICAgICAgIGljb246IG5ldyBMLkljb24uRGVmYXVsdCgpLAogICAgICAgICAgICAgICAgfQogICAgICAgICAgICApLmFkZFRvKG1hcF8yNTcyY2EzMTMwNzE0OTMzYTBiNTM3ZGFkN2E4ZmZjMSk7CiAgICAgICAgCiAgICAKICAgICAgICB2YXIgbWFya2VyXzk5YmJmZWJkYWZiYzQ5ZmVhMTFjNDU1NGE4M2IwN2M4ID0gTC5tYXJrZXIoCiAgICAgICAgICAgIFs0MC43MzgyNzM2MjA2MDU0NywgLTczLjk4OTQ3MTQzNTU0Njg2XSwKICAgICAgICAgICAgewogICAgICAgICAgICAgICAgaWNvbjogbmV3IEwuSWNvbi5EZWZhdWx0KCksCiAgICAgICAgICAgICAgICB9CiAgICAgICAgICAgICkuYWRkVG8obWFwXzI1NzJjYTMxMzA3MTQ5MzNhMGI1MzdkYWQ3YThmZmMxKTsKICAgICAgICAKICAgIAogICAgICAgIHZhciBtYXJrZXJfY2FmODIyNWFhNmFjNGM3YjljNDY5MDEzMWQyMDJlM2UgPSBMLm1hcmtlcigKICAgICAgICAgICAgWzQwLjcyNDUyOTI2NjM1NzQyLCAtNzMuOTgxNzQyODU4ODg2NzJdLAogICAgICAgICAgICB7CiAgICAgICAgICAgICAgICBpY29uOiBuZXcgTC5JY29uLkRlZmF1bHQoKSwKICAgICAgICAgICAgICAgIH0KICAgICAgICAgICAgKS5hZGRUbyhtYXBfMjU3MmNhMzEzMDcxNDkzM2EwYjUzN2RhZDdhOGZmYzEpOwogICAgICAgIAogICAgCiAgICAgICAgdmFyIG1hcmtlcl84ZTg4NDhlMjA0Yjg0ZGU4OTIxYmVjNzMwN2JjOGFmZSA9IEwubWFya2VyKAogICAgICAgICAgICBbNDAuNzU2MTcyMTgwMTc1Nzc0LCAtNzMuOTgyOTcxMTkxNDA2MjVdLAogICAgICAgICAgICB7CiAgICAgICAgICAgICAgICBpY29uOiBuZXcgTC5JY29uLkRlZmF1bHQoKSwKICAgICAgICAgICAgICAgIH0KICAgICAgICAgICAgKS5hZGRUbyhtYXBfMjU3MmNhMzEzMDcxNDkzM2EwYjUzN2RhZDdhOGZmYzEpOwogICAgICAgIAogICAgCiAgICAgICAgdmFyIG1hcmtlcl82NDM3ZmFjODllYjc0YzQ5ODI3Mzc5NmNjYmI1OWZmMiA9IEwubWFya2VyKAogICAgICAgICAgICBbNDAuNzMzMDgxODE3NjI2OTUsIC03NC4wMDAwOTE1NTI3MzQzOF0sCiAgICAgICAgICAgIHsKICAgICAgICAgICAgICAgIGljb246IG5ldyBMLkljb24uRGVmYXVsdCgpLAogICAgICAgICAgICAgICAgfQogICAgICAgICAgICApLmFkZFRvKG1hcF8yNTcyY2EzMTMwNzE0OTMzYTBiNTM3ZGFkN2E4ZmZjMSk7CiAgICAgICAgCiAgICAKICAgICAgICB2YXIgbWFya2VyXzQ4NWI2NjQ2ODhjMDQ1YjRhNDBmMzQzZTg5ZWE3NDFkID0gTC5tYXJrZXIoCiAgICAgICAgICAgIFs0MC43NTQxMzg5NDY1MzMyLCAtNzMuOTg4MDM3MTA5Mzc1XSwKICAgICAgICAgICAgewogICAgICAgICAgICAgICAgaWNvbjogbmV3IEwuSWNvbi5EZWZhdWx0KCksCiAgICAgICAgICAgICAgICB9CiAgICAgICAgICAgICkuYWRkVG8obWFwXzI1NzJjYTMxMzA3MTQ5MzNhMGI1MzdkYWQ3YThmZmMxKTsKICAgICAgICAKICAgIAogICAgICAgIHZhciBtYXJrZXJfYTBkYjBmYTExN2UxNDVmODkyMzcxMjUyYzZhNDQxYzAgPSBMLm1hcmtlcigKICAgICAgICAgICAgWzQwLjgyODQ3MjEzNzQ1MTE3LCAtNzMuOTQ4OTgyMjM4NzY5NTVdLAogICAgICAgICAgICB7CiAgICAgICAgICAgICAgICBpY29uOiBuZXcgTC5JY29uLkRlZmF1bHQoKSwKICAgICAgICAgICAgICAgIH0KICAgICAgICAgICAgKS5hZGRUbyhtYXBfMjU3MmNhMzEzMDcxNDkzM2EwYjUzN2RhZDdhOGZmYzEpOwogICAgICAgIAogICAgCiAgICAgICAgdmFyIG1hcmtlcl85MGY5MWVlM2E1NzY0NWExYWQxYzYzMDNlZTgwNWUwOCA9IEwubWFya2VyKAogICAgICAgICAgICBbNDAuNzYyNjI2NjQ3OTQ5MjIsIC03My45ODMyMTUzMzIwMzEyNV0sCiAgICAgICAgICAgIHsKICAgICAgICAgICAgICAgIGljb246IG5ldyBMLkljb24uRGVmYXVsdCgpLAogICAgICAgICAgICAgICAgfQogICAgICAgICAgICApLmFkZFRvKG1hcF8yNTcyY2EzMTMwNzE0OTMzYTBiNTM3ZGFkN2E4ZmZjMSk7CiAgICAgICAgCiAgICAKICAgICAgICB2YXIgbWFya2VyX2QwMzdiNzA3ZjNmNDQzOGFiMjcxN2JiMTc5ZGNlZjQ2ID0gTC5tYXJrZXIoCiAgICAgICAgICAgIFs0MC43Mzk4NjQzNDkzNjUyMywgLTczLjk3NjIxMTU0Nzg1MTU1XSwKICAgICAgICAgICAgewogICAgICAgICAgICAgICAgaWNvbjogbmV3IEwuSWNvbi5EZWZhdWx0KCksCiAgICAgICAgICAgICAgICB9CiAgICAgICAgICAgICkuYWRkVG8obWFwXzI1NzJjYTMxMzA3MTQ5MzNhMGI1MzdkYWQ3YThmZmMxKTsKICAgICAgICAKICAgIAogICAgICAgIHZhciBtYXJrZXJfZmIwODdjYmMyOGQxNGI0ZWJkMWE0OGYyN2EzOTAyNmMgPSBMLm1hcmtlcigKICAgICAgICAgICAgWzQwLjcyODc2MzU4MDMyMjI2NiwgLTc0LjAwMjcxNjA2NDQ1MzEyXSwKICAgICAgICAgICAgewogICAgICAgICAgICAgICAgaWNvbjogbmV3IEwuSWNvbi5EZWZhdWx0KCksCiAgICAgICAgICAgICAgICB9CiAgICAgICAgICAgICkuYWRkVG8obWFwXzI1NzJjYTMxMzA3MTQ5MzNhMGI1MzdkYWQ3YThmZmMxKTsKICAgICAgICAKICAgIAogICAgICAgIHZhciBtYXJrZXJfOTA2NjFmYmM3YjFjNDJjNTlhMTM0ZDUxNGNkNzE3YWIgPSBMLm1hcmtlcigKICAgICAgICAgICAgWzQwLjc3Njg5NzQzMDQxOTkyLCAtNzMuOTYzNTE2MjM1MzUxNTVdLAogICAgICAgICAgICB7CiAgICAgICAgICAgICAgICBpY29uOiBuZXcgTC5JY29uLkRlZmF1bHQoKSwKICAgICAgICAgICAgICAgIH0KICAgICAgICAgICAgKS5hZGRUbyhtYXBfMjU3MmNhMzEzMDcxNDkzM2EwYjUzN2RhZDdhOGZmYzEpOwogICAgICAgIAogICAgCiAgICAgICAgdmFyIG1hcmtlcl83ZmE0ZDI0MmFjMmM0Zjc4OTIwYmRkZjcxOTU4OWRkOSA9IEwubWFya2VyKAogICAgICAgICAgICBbNDAuNzUyMjAxMDgwMzIyMjY2LCAtNzQuMDAzMDY3MDE2NjAxNTZdLAogICAgICAgICAgICB7CiAgICAgICAgICAgICAgICBpY29uOiBuZXcgTC5JY29uLkRlZmF1bHQoKSwKICAgICAgICAgICAgICAgIH0KICAgICAgICAgICAgKS5hZGRUbyhtYXBfMjU3MmNhMzEzMDcxNDkzM2EwYjUzN2RhZDdhOGZmYzEpOwogICAgICAgIAogICAgCiAgICAgICAgdmFyIG1hcmtlcl85MzViOWFkZTlmM2E0ZDNiYmU1MzEzYmRlN2YxOWM3MSA9IEwubWFya2VyKAogICAgICAgICAgICBbNDAuNzkwMzA5OTA2MDA1ODUsIC03My45NTE4NTA4OTExMTMyOF0sCiAgICAgICAgICAgIHsKICAgICAgICAgICAgICAgIGljb246IG5ldyBMLkljb24uRGVmYXVsdCgpLAogICAgICAgICAgICAgICAgfQogICAgICAgICAgICApLmFkZFRvKG1hcF8yNTcyY2EzMTMwNzE0OTMzYTBiNTM3ZGFkN2E4ZmZjMSk7CiAgICAgICAgCiAgICAKICAgICAgICB2YXIgbWFya2VyXzI1YjZkZTk5Yzk4OTRlNTQ4NzYwMTk4N2EwNzFlNzQ3ID0gTC5tYXJrZXIoCiAgICAgICAgICAgIFs0MC43MzE2MDkzNDQ0ODI0MTUsIC03NC4wMDA5NzY1NjI1XSwKICAgICAgICAgICAgewogICAgICAgICAgICAgICAgaWNvbjogbmV3IEwuSWNvbi5EZWZhdWx0KCksCiAgICAgICAgICAgICAgICB9CiAgICAgICAgICAgICkuYWRkVG8obWFwXzI1NzJjYTMxMzA3MTQ5MzNhMGI1MzdkYWQ3YThmZmMxKTsKICAgICAgICAKICAgIAogICAgICAgIHZhciBtYXJrZXJfYmNiYTMyZDBkOTZlNDM5MDk4N2U0ZjY1ZGFjZTZjOTMgPSBMLm1hcmtlcigKICAgICAgICAgICAgWzQwLjcxNzI4MTM0MTU1MjczNCwgLTc0LjAwNjEwMzUxNTYyNV0sCiAgICAgICAgICAgIHsKICAgICAgICAgICAgICAgIGljb246IG5ldyBMLkljb24uRGVmYXVsdCgpLAogICAgICAgICAgICAgICAgfQogICAgICAgICAgICApLmFkZFRvKG1hcF8yNTcyY2EzMTMwNzE0OTMzYTBiNTM3ZGFkN2E4ZmZjMSk7CiAgICAgICAgCiAgICAKICAgICAgICB2YXIgbWFya2VyXzIxNmFmZDJlOGQ4NjRmYzliZGJlMzM2ZGYyNWQ3MDE1ID0gTC5tYXJrZXIoCiAgICAgICAgICAgIFs0MC43NjY0MTg0NTcwMzEyNSwgLTczLjk2NzAyNTc1NjgzNTk0XSwKICAgICAgICAgICAgewogICAgICAgICAgICAgICAgaWNvbjogbmV3IEwuSWNvbi5EZWZhdWx0KCksCiAgICAgICAgICAgICAgICB9CiAgICAgICAgICAgICkuYWRkVG8obWFwXzI1NzJjYTMxMzA3MTQ5MzNhMGI1MzdkYWQ3YThmZmMxKTsKICAgICAgICAKICAgIAogICAgICAgIHZhciBtYXJrZXJfNDgxMWQxODI5MjhjNDI4YWFlYTRkZmYwNDhhYjU4NTQgPSBMLm1hcmtlcigKICAgICAgICAgICAgWzQwLjc0NDU2MDI0MTY5OTIyLCAtNzMuNzE3ODQyMTAyMDUwNzhdLAogICAgICAgICAgICB7CiAgICAgICAgICAgICAgICBpY29uOiBuZXcgTC5JY29uLkRlZmF1bHQoKSwKICAgICAgICAgICAgICAgIH0KICAgICAgICAgICAgKS5hZGRUbyhtYXBfMjU3MmNhMzEzMDcxNDkzM2EwYjUzN2RhZDdhOGZmYzEpOwogICAgICAgIAogICAgCiAgICAgICAgdmFyIG1hcmtlcl83ZmY3YzZmYzA4MTI0NGE3YmYwZGZmODVkMWVmOGUzYSA9IEwubWFya2VyKAogICAgICAgICAgICBbNDAuNzUyMTUxNDg5MjU3ODEsIC03NC4wMDQ2OTIwNzc2MzY3Ml0sCiAgICAgICAgICAgIHsKICAgICAgICAgICAgICAgIGljb246IG5ldyBMLkljb24uRGVmYXVsdCgpLAogICAgICAgICAgICAgICAgfQogICAgICAgICAgICApLmFkZFRvKG1hcF8yNTcyY2EzMTMwNzE0OTMzYTBiNTM3ZGFkN2E4ZmZjMSk7CiAgICAgICAgCiAgICAKICAgICAgICB2YXIgbWFya2VyXzdlOGMxNjU5YTYxMzQ3N2NiZjgyZTkwYjkwMDAxZTY0ID0gTC5tYXJrZXIoCiAgICAgICAgICAgIFs0MC43NjUzNzMyMjk5ODA0NywgLTczLjk5MTM2MzUyNTM5MDYyXSwKICAgICAgICAgICAgewogICAgICAgICAgICAgICAgaWNvbjogbmV3IEwuSWNvbi5EZWZhdWx0KCksCiAgICAgICAgICAgICAgICB9CiAgICAgICAgICAgICkuYWRkVG8obWFwXzI1NzJjYTMxMzA3MTQ5MzNhMGI1MzdkYWQ3YThmZmMxKTsKICAgICAgICAKICAgIAogICAgICAgIHZhciBtYXJrZXJfYTZmMGY1YTAwNTA0NDhmYmEzOWZkMzZjOWU2MzQ3NGIgPSBMLm1hcmtlcigKICAgICAgICAgICAgWzQwLjcxNDUxMTg3MTMzNzg5LCAtNzQuMDA4NDMwNDgwOTU3MDJdLAogICAgICAgICAgICB7CiAgICAgICAgICAgICAgICBpY29uOiBuZXcgTC5JY29uLkRlZmF1bHQoKSwKICAgICAgICAgICAgICAgIH0KICAgICAgICAgICAgKS5hZGRUbyhtYXBfMjU3MmNhMzEzMDcxNDkzM2EwYjUzN2RhZDdhOGZmYzEpOwogICAgICAgIAogICAgCiAgICAgICAgdmFyIG1hcmtlcl8zNDYyZjk2ZDdiMzE0YWJjODhkZGJlMDhlMTVkMTQ2MiA9IEwubWFya2VyKAogICAgICAgICAgICBbNDAuNzYxMjkxNTAzOTA2MjUsIC03My45OTg4MzI3MDI2MzY3Ml0sCiAgICAgICAgICAgIHsKICAgICAgICAgICAgICAgIGljb246IG5ldyBMLkljb24uRGVmYXVsdCgpLAogICAgICAgICAgICAgICAgfQogICAgICAgICAgICApLmFkZFRvKG1hcF8yNTcyY2EzMTMwNzE0OTMzYTBiNTM3ZGFkN2E4ZmZjMSk7CiAgICAgICAgCiAgICAKICAgICAgICB2YXIgbWFya2VyX2JhMmZmYTQxNjg1ZTQ4MGZhYmVkOGNhMzZkYmUxN2FjID0gTC5tYXJrZXIoCiAgICAgICAgICAgIFs0MC43NzMxOTcxNzQwNzIyNjYsIC03My45ODIwMTc1MTcwODk4NF0sCiAgICAgICAgICAgIHsKICAgICAgICAgICAgICAgIGljb246IG5ldyBMLkljb24uRGVmYXVsdCgpLAogICAgICAgICAgICAgICAgfQogICAgICAgICAgICApLmFkZFRvKG1hcF8yNTcyY2EzMTMwNzE0OTMzYTBiNTM3ZGFkN2E4ZmZjMSk7CiAgICAgICAgCiAgICAKICAgICAgICB2YXIgbWFya2VyXzcxMGY2ZDM0Mzc2ODRiYWY5ODEwOWQxYmIwMjIzZjAxID0gTC5tYXJrZXIoCiAgICAgICAgICAgIFs0MC43Mjg3MTM5ODkyNTc4MSwgLTc0LjAwNTIwMzI0NzA3MDNdLAogICAgICAgICAgICB7CiAgICAgICAgICAgICAgICBpY29uOiBuZXcgTC5JY29uLkRlZmF1bHQoKSwKICAgICAgICAgICAgICAgIH0KICAgICAgICAgICAgKS5hZGRUbyhtYXBfMjU3MmNhMzEzMDcxNDkzM2EwYjUzN2RhZDdhOGZmYzEpOwogICAgICAgIAogICAgCiAgICAgICAgdmFyIG1hcmtlcl85YTdkMGRjYzVhMTU0ZWI0YjJjMWFiODdkMGVkMmVlMSA9IEwubWFya2VyKAogICAgICAgICAgICBbNDAuNzY5NjYwOTQ5NzA3MDMsIC03My44NjM1NzExNjY5OTIxOV0sCiAgICAgICAgICAgIHsKICAgICAgICAgICAgICAgIGljb246IG5ldyBMLkljb24uRGVmYXVsdCgpLAogICAgICAgICAgICAgICAgfQogICAgICAgICAgICApLmFkZFRvKG1hcF8yNTcyY2EzMTMwNzE0OTMzYTBiNTM3ZGFkN2E4ZmZjMSk7CiAgICAgICAgCiAgICAKICAgICAgICB2YXIgbWFya2VyXzZhZTFmM2FkMjc1YTQxNGFhY2NiODE4YWYwNDgwNzI2ID0gTC5tYXJrZXIoCiAgICAgICAgICAgIFs0MC43ODYyODkyMTUwODc4OSwgLTczLjk3MjI5NzY2ODQ1NzAyXSwKICAgICAgICAgICAgewogICAgICAgICAgICAgICAgaWNvbjogbmV3IEwuSWNvbi5EZWZhdWx0KCksCiAgICAgICAgICAgICAgICB9CiAgICAgICAgICAgICkuYWRkVG8obWFwXzI1NzJjYTMxMzA3MTQ5MzNhMGI1MzdkYWQ3YThmZmMxKTsKICAgICAgICAKICAgIAogICAgICAgIHZhciBtYXJrZXJfYTUwOGZlYzE1NWY5NGJhZmEwMjE5MTUyMWU2MDMxY2YgPSBMLm1hcmtlcigKICAgICAgICAgICAgWzQwLjc1MDY5MDQ2MDIwNTA4LCAtNzMuOTk0NDY4Njg4OTY0ODNdLAogICAgICAgICAgICB7CiAgICAgICAgICAgICAgICBpY29uOiBuZXcgTC5JY29uLkRlZmF1bHQoKSwKICAgICAgICAgICAgICAgIH0KICAgICAgICAgICAgKS5hZGRUbyhtYXBfMjU3MmNhMzEzMDcxNDkzM2EwYjUzN2RhZDdhOGZmYzEpOwogICAgICAgIAogICAgCiAgICAgICAgdmFyIG1hcmtlcl9iNGExMzhjYWFhNTc0MzVhYjczNWJhZWMyZmYyNzk2YiA9IEwubWFya2VyKAogICAgICAgICAgICBbNDAuNzcxMzUwODYwNTk1Njk2LCAtNzMuOTE4MDgzMTkwOTE3OTddLAogICAgICAgICAgICB7CiAgICAgICAgICAgICAgICBpY29uOiBuZXcgTC5JY29uLkRlZmF1bHQoKSwKICAgICAgICAgICAgICAgIH0KICAgICAgICAgICAgKS5hZGRUbyhtYXBfMjU3MmNhMzEzMDcxNDkzM2EwYjUzN2RhZDdhOGZmYzEpOwogICAgICAgIAogICAgCiAgICAgICAgdmFyIG1hcmtlcl84MDNmNzQwZjNkNDE0ZGQyODdhMGYwYWQ1ZGM0MzY0YSA9IEwubWFya2VyKAogICAgICAgICAgICBbNDAuNzM4NTgyNjExMDgzOTg0LCAtNzMuOTk5NjI2MTU5NjY3OThdLAogICAgICAgICAgICB7CiAgICAgICAgICAgICAgICBpY29uOiBuZXcgTC5JY29uLkRlZmF1bHQoKSwKICAgICAgICAgICAgICAgIH0KICAgICAgICAgICAgKS5hZGRUbyhtYXBfMjU3MmNhMzEzMDcxNDkzM2EwYjUzN2RhZDdhOGZmYzEpOwogICAgICAgIAogICAgCiAgICAgICAgdmFyIG1hcmtlcl84NDc0YWRlYmZlODM0YTMyYTNkYzczOTNjNDhjODA0YyA9IEwubWFya2VyKAogICAgICAgICAgICBbNDAuNzQ4MDg4ODM2NjY5OTIsIC03My45OTY1Mjg2MjU0ODgzXSwKICAgICAgICAgICAgewogICAgICAgICAgICAgICAgaWNvbjogbmV3IEwuSWNvbi5EZWZhdWx0KCksCiAgICAgICAgICAgICAgICB9CiAgICAgICAgICAgICkuYWRkVG8obWFwXzI1NzJjYTMxMzA3MTQ5MzNhMGI1MzdkYWQ3YThmZmMxKTsKICAgICAgICAKICAgIAogICAgICAgIHZhciBtYXJrZXJfMGI1NTEwZjFmM2E1NDZjZTg2NDllZjI5YWE2Mzg1NDcgPSBMLm1hcmtlcigKICAgICAgICAgICAgWzQwLjc1MTA5MTAwMzQxNzk3LCAtNzMuOTk0MTc4NzcxOTcyNjZdLAogICAgICAgICAgICB7CiAgICAgICAgICAgICAgICBpY29uOiBuZXcgTC5JY29uLkRlZmF1bHQoKSwKICAgICAgICAgICAgICAgIH0KICAgICAgICAgICAgKS5hZGRUbyhtYXBfMjU3MmNhMzEzMDcxNDkzM2EwYjUzN2RhZDdhOGZmYzEpOwogICAgICAgIAogICAgCiAgICAgICAgdmFyIG1hcmtlcl85NDNiYzBlZmI4MGE0N2IxYTg3OTU1MzA1ZWY1MTM4MSA9IEwubWFya2VyKAogICAgICAgICAgICBbNDAuNzY4NDg2MDIyOTQ5MjIsIC03My45ODQ1Mjc1ODc4OTA2Ml0sCiAgICAgICAgICAgIHsKICAgICAgICAgICAgICAgIGljb246IG5ldyBMLkljb24uRGVmYXVsdCgpLAogICAgICAgICAgICAgICAgfQogICAgICAgICAgICApLmFkZFRvKG1hcF8yNTcyY2EzMTMwNzE0OTMzYTBiNTM3ZGFkN2E4ZmZjMSk7CiAgICAgICAgCiAgICAKICAgICAgICB2YXIgbWFya2VyXzc5Y2QzOTQyMmY2YTQyM2FhYmZlYjhjZTYzYjBkMzFlID0gTC5tYXJrZXIoCiAgICAgICAgICAgIFs0MC43NTkwNzEzNTAwOTc2NTYsIC03My45Njk5NDAxODU1NDY4Nl0sCiAgICAgICAgICAgIHsKICAgICAgICAgICAgICAgIGljb246IG5ldyBMLkljb24uRGVmYXVsdCgpLAogICAgICAgICAgICAgICAgfQogICAgICAgICAgICApLmFkZFRvKG1hcF8yNTcyY2EzMTMwNzE0OTMzYTBiNTM3ZGFkN2E4ZmZjMSk7CiAgICAgICAgCiAgICAKICAgICAgICB2YXIgbWFya2VyX2ZlNDhkMzlkODc2ODRjYjdiYjc3MDU3ZjEwNTAwZjcyID0gTC5tYXJrZXIoCiAgICAgICAgICAgIFs0MC43NTI1NTIwMzI0NzA3LCAtNzMuOTc4NTg0Mjg5NTUwNzhdLAogICAgICAgICAgICB7CiAgICAgICAgICAgICAgICBpY29uOiBuZXcgTC5JY29uLkRlZmF1bHQoKSwKICAgICAgICAgICAgICAgIH0KICAgICAgICAgICAgKS5hZGRUbyhtYXBfMjU3MmNhMzEzMDcxNDkzM2EwYjUzN2RhZDdhOGZmYzEpOwogICAgICAgIAogICAgCiAgICAgICAgdmFyIG1hcmtlcl9lZmIzMzQ2ZmY1Nzc0NTcyYTA3YTczYTc1ZTMxODQxZSA9IEwubWFya2VyKAogICAgICAgICAgICBbNDAuNzQxMjcxOTcyNjU2MjUsIC03My45ODU0ODEyNjIyMDcwMl0sCiAgICAgICAgICAgIHsKICAgICAgICAgICAgICAgIGljb246IG5ldyBMLkljb24uRGVmYXVsdCgpLAogICAgICAgICAgICAgICAgfQogICAgICAgICAgICApLmFkZFRvKG1hcF8yNTcyY2EzMTMwNzE0OTMzYTBiNTM3ZGFkN2E4ZmZjMSk7CiAgICAgICAgCiAgICAKICAgICAgICB2YXIgbWFya2VyXzM5OGQ0YTdkNDg3MDQzODc4YzM2OTE3NmQxZGM5MjcyID0gTC5tYXJrZXIoCiAgICAgICAgICAgIFs0MC43NTU3MTgyMzEyMDExNywgLTczLjk4ODU2MzUzNzU5NzY2XSwKICAgICAgICAgICAgewogICAgICAgICAgICAgICAgaWNvbjogbmV3IEwuSWNvbi5EZWZhdWx0KCksCiAgICAgICAgICAgICAgICB9CiAgICAgICAgICAgICkuYWRkVG8obWFwXzI1NzJjYTMxMzA3MTQ5MzNhMGI1MzdkYWQ3YThmZmMxKTsKICAgICAgICAKICAgIAogICAgICAgIHZhciBtYXJrZXJfMmRmNWFhMGE5NDI3NGNmMzk0YWM5MzdmN2MxMjNjNGMgPSBMLm1hcmtlcigKICAgICAgICAgICAgWzQwLjc1Njg1NTAxMDk4NjMzLCAtNzMuOTkwMzAzMDM5NTUwNzhdLAogICAgICAgICAgICB7CiAgICAgICAgICAgICAgICBpY29uOiBuZXcgTC5JY29uLkRlZmF1bHQoKSwKICAgICAgICAgICAgICAgIH0KICAgICAgICAgICAgKS5hZGRUbyhtYXBfMjU3MmNhMzEzMDcxNDkzM2EwYjUzN2RhZDdhOGZmYzEpOwogICAgICAgIAogICAgCiAgICAgICAgdmFyIG1hcmtlcl8zZWYzNjY2NjJiOTc0YmUwYmRhMTYzYjY1MWFiNDFkOCA9IEwubWFya2VyKAogICAgICAgICAgICBbNDAuNzE2ODA4MzE5MDkxOCwgLTczLjk5Njg3OTU3NzYzNjcyXSwKICAgICAgICAgICAgewogICAgICAgICAgICAgICAgaWNvbjogbmV3IEwuSWNvbi5EZWZhdWx0KCksCiAgICAgICAgICAgICAgICB9CiAgICAgICAgICAgICkuYWRkVG8obWFwXzI1NzJjYTMxMzA3MTQ5MzNhMGI1MzdkYWQ3YThmZmMxKTsKICAgICAgICAKICAgIAogICAgICAgIHZhciBtYXJrZXJfOTlmYzY3NTlmMGVkNDZlOWI3YmY4NmY2ZGI0M2VjNDEgPSBMLm1hcmtlcigKICAgICAgICAgICAgWzQwLjc1NjEyNjQwMzgwODU5NCwgLTczLjk3OTA4NzgyOTU4OTg0XSwKICAgICAgICAgICAgewogICAgICAgICAgICAgICAgaWNvbjogbmV3IEwuSWNvbi5EZWZhdWx0KCksCiAgICAgICAgICAgICAgICB9CiAgICAgICAgICAgICkuYWRkVG8obWFwXzI1NzJjYTMxMzA3MTQ5MzNhMGI1MzdkYWQ3YThmZmMxKTsKICAgICAgICAKICAgIAogICAgICAgIHZhciBtYXJrZXJfNTM4ZDQzMTAwY2YxNDZlNzk1OGYzN2MzNzFkOWE2MmIgPSBMLm1hcmtlcigKICAgICAgICAgICAgWzQwLjcxNzMwNDIyOTczNjMzLCAtNzQuMDE0MjUxNzA4OTg0MzhdLAogICAgICAgICAgICB7CiAgICAgICAgICAgICAgICBpY29uOiBuZXcgTC5JY29uLkRlZmF1bHQoKSwKICAgICAgICAgICAgICAgIH0KICAgICAgICAgICAgKS5hZGRUbyhtYXBfMjU3MmNhMzEzMDcxNDkzM2EwYjUzN2RhZDdhOGZmYzEpOwogICAgICAgIAogICAgCiAgICAgICAgdmFyIG1hcmtlcl9lNmZiZTM2ODZkNTU0N2E5YmUwYjc3NjczYzQ5MjZlMSA9IEwubWFya2VyKAogICAgICAgICAgICBbNDAuNzQ0MzMxMzU5ODYzMjgsIC03My45OTU1MjkxNzQ4MDQ2N10sCiAgICAgICAgICAgIHsKICAgICAgICAgICAgICAgIGljb246IG5ldyBMLkljb24uRGVmYXVsdCgpLAogICAgICAgICAgICAgICAgfQogICAgICAgICAgICApLmFkZFRvKG1hcF8yNTcyY2EzMTMwNzE0OTMzYTBiNTM3ZGFkN2E4ZmZjMSk7CiAgICAgICAgCiAgICAKICAgICAgICB2YXIgbWFya2VyXzdlNjdjNmYzNmM4ZTQ0N2NiNWMxMTMwOWIxYzc1YmQ1ID0gTC5tYXJrZXIoCiAgICAgICAgICAgIFs0MC43NTY4OTMxNTc5NTg5OCwgLTczLjk3MjM2NjMzMzAwNzgxXSwKICAgICAgICAgICAgewogICAgICAgICAgICAgICAgaWNvbjogbmV3IEwuSWNvbi5EZWZhdWx0KCksCiAgICAgICAgICAgICAgICB9CiAgICAgICAgICAgICkuYWRkVG8obWFwXzI1NzJjYTMxMzA3MTQ5MzNhMGI1MzdkYWQ3YThmZmMxKTsKICAgICAgICAKICAgIAogICAgICAgIHZhciBtYXJrZXJfMTNjOTU5OGM0OGQ1NDZmMjg4ZjhlYzg1N2ZjZjJkYTUgPSBMLm1hcmtlcigKICAgICAgICAgICAgWzQwLjc1MTI2MjY2NDc5NDkyLCAtNzMuOTkzOTQ5ODkwMTM2NzJdLAogICAgICAgICAgICB7CiAgICAgICAgICAgICAgICBpY29uOiBuZXcgTC5JY29uLkRlZmF1bHQoKSwKICAgICAgICAgICAgICAgIH0KICAgICAgICAgICAgKS5hZGRUbyhtYXBfMjU3MmNhMzEzMDcxNDkzM2EwYjUzN2RhZDdhOGZmYzEpOwogICAgICAgIAogICAgCiAgICAgICAgdmFyIG1hcmtlcl8wMDQ4NDU3OTRkOGM0NGMxYWNkZGU4ZjgwZTMwYmU3NSA9IEwubWFya2VyKAogICAgICAgICAgICBbNDAuNzY5ODE3MzUyMjk0OTIsIC03My45NTc2MDM0NTQ1ODk4NF0sCiAgICAgICAgICAgIHsKICAgICAgICAgICAgICAgIGljb246IG5ldyBMLkljb24uRGVmYXVsdCgpLAogICAgICAgICAgICAgICAgfQogICAgICAgICAgICApLmFkZFRvKG1hcF8yNTcyY2EzMTMwNzE0OTMzYTBiNTM3ZGFkN2E4ZmZjMSk7CiAgICAgICAgCiAgICAKICAgICAgICB2YXIgbWFya2VyX2JjYzRiMDQ0OGJlNzRjODM4NzNhMGEwMWY0YWM4NzhkID0gTC5tYXJrZXIoCiAgICAgICAgICAgIFs0MC43MjM1NjQxNDc5NDkyMiwgLTczLjk3NjAyMDgxMjk4ODNdLAogICAgICAgICAgICB7CiAgICAgICAgICAgICAgICBpY29uOiBuZXcgTC5JY29uLkRlZmF1bHQoKSwKICAgICAgICAgICAgICAgIH0KICAgICAgICAgICAgKS5hZGRUbyhtYXBfMjU3MmNhMzEzMDcxNDkzM2EwYjUzN2RhZDdhOGZmYzEpOwogICAgICAgIAogICAgCiAgICAgICAgdmFyIG1hcmtlcl9jM2Q0ODQwZDRlOWY0ZGJhOTEzZWE4OGZiOGJmMjQwMiA9IEwubWFya2VyKAogICAgICAgICAgICBbNDAuNzY5MjAzMTg2MDM1MTU2LCAtNzMuOTYxNDc5MTg3MDExNzNdLAogICAgICAgICAgICB7CiAgICAgICAgICAgICAgICBpY29uOiBuZXcgTC5JY29uLkRlZmF1bHQoKSwKICAgICAgICAgICAgICAgIH0KICAgICAgICAgICAgKS5hZGRUbyhtYXBfMjU3MmNhMzEzMDcxNDkzM2EwYjUzN2RhZDdhOGZmYzEpOwogICAgICAgIAogICAgCiAgICAgICAgdmFyIG1hcmtlcl9kOTNhZTJkMGY1NTY0OGRlOGEyODk3ZjE1N2M3YmRkNCA9IEwubWFya2VyKAogICAgICAgICAgICBbNDAuNzU4NTg2ODgzNTQ0OTIsIC03My45ODYzNjYyNzE5NzI2Nl0sCiAgICAgICAgICAgIHsKICAgICAgICAgICAgICAgIGljb246IG5ldyBMLkljb24uRGVmYXVsdCgpLAogICAgICAgICAgICAgICAgfQogICAgICAgICAgICApLmFkZFRvKG1hcF8yNTcyY2EzMTMwNzE0OTMzYTBiNTM3ZGFkN2E4ZmZjMSk7CiAgICAgICAgCiAgICAKICAgICAgICB2YXIgbWFya2VyXzZlNDUxOGNiYjhkMTQ4MGVhNDA3MDFkYjY0N2YwZTFlID0gTC5tYXJrZXIoCiAgICAgICAgICAgIFs0MC43NDU5MjU5MDMzMjAzMSwgLTczLjk3ODM2MzAzNzEwOTM4XSwKICAgICAgICAgICAgewogICAgICAgICAgICAgICAgaWNvbjogbmV3IEwuSWNvbi5EZWZhdWx0KCksCiAgICAgICAgICAgICAgICB9CiAgICAgICAgICAgICkuYWRkVG8obWFwXzI1NzJjYTMxMzA3MTQ5MzNhMGI1MzdkYWQ3YThmZmMxKTsKICAgICAgICAKICAgIAogICAgICAgIHZhciBtYXJrZXJfOTk2MmY4MGQ3NDJjNGIxZmFlNTk1ZDE2NmI4ZGYyMmQgPSBMLm1hcmtlcigKICAgICAgICAgICAgWzQwLjc1MDU2ODM4OTg5MjU4LCAtNzMuOTgzNDg5OTkwMjM0MzhdLAogICAgICAgICAgICB7CiAgICAgICAgICAgICAgICBpY29uOiBuZXcgTC5JY29uLkRlZmF1bHQoKSwKICAgICAgICAgICAgICAgIH0KICAgICAgICAgICAgKS5hZGRUbyhtYXBfMjU3MmNhMzEzMDcxNDkzM2EwYjUzN2RhZDdhOGZmYzEpOwogICAgICAgIAogICAgCiAgICAgICAgdmFyIG1hcmtlcl80ODMyZGFjNDRiODA0OWNmOGY0MTk5OWMwNjUwNDE1MCA9IEwubWFya2VyKAogICAgICAgICAgICBbNDAuNzQ2Mzk1MTExMDgzOTg0LCAtNzMuOTkzNTUzMTYxNjIxMV0sCiAgICAgICAgICAgIHsKICAgICAgICAgICAgICAgIGljb246IG5ldyBMLkljb24uRGVmYXVsdCgpLAogICAgICAgICAgICAgICAgfQogICAgICAgICAgICApLmFkZFRvKG1hcF8yNTcyY2EzMTMwNzE0OTMzYTBiNTM3ZGFkN2E4ZmZjMSk7CiAgICAgICAgCiAgICAKICAgICAgICB2YXIgbWFya2VyXzA4MTA0NWM3NWQ0YzRlMjBiYTBlNzhjYzk2NGNhMzUyID0gTC5tYXJrZXIoCiAgICAgICAgICAgIFs0MC43NjYxMjg1NDAwMzkwNTUsIC03My45MTk2MzE5NTgwMDc4MV0sCiAgICAgICAgICAgIHsKICAgICAgICAgICAgICAgIGljb246IG5ldyBMLkljb24uRGVmYXVsdCgpLAogICAgICAgICAgICAgICAgfQogICAgICAgICAgICApLmFkZFRvKG1hcF8yNTcyY2EzMTMwNzE0OTMzYTBiNTM3ZGFkN2E4ZmZjMSk7CiAgICAgICAgCiAgICAKICAgICAgICB2YXIgbWFya2VyXzY5YzIwZmQyNzc5MTRkOWViZGZjODNmMzdjNjkxMzVjID0gTC5tYXJrZXIoCiAgICAgICAgICAgIFs0MC43MzU3MDYzMjkzNDU2OTYsIC03NC4wMDU5MjgwMzk1NTA3OF0sCiAgICAgICAgICAgIHsKICAgICAgICAgICAgICAgIGljb246IG5ldyBMLkljb24uRGVmYXVsdCgpLAogICAgICAgICAgICAgICAgfQogICAgICAgICAgICApLmFkZFRvKG1hcF8yNTcyY2EzMTMwNzE0OTMzYTBiNTM3ZGFkN2E4ZmZjMSk7CiAgICAgICAgCiAgICAKICAgICAgICB2YXIgbWFya2VyX2Y5NGQxYjA3NTdhMzQyNWU4MjI3OTkyZjBhYzBhMmZkID0gTC5tYXJrZXIoCiAgICAgICAgICAgIFs0MC43NjAzMzQwMTQ4OTI1OCwgLTczLjk2NzU2NzQ0Mzg0NzY2XSwKICAgICAgICAgICAgewogICAgICAgICAgICAgICAgaWNvbjogbmV3IEwuSWNvbi5EZWZhdWx0KCksCiAgICAgICAgICAgICAgICB9CiAgICAgICAgICAgICkuYWRkVG8obWFwXzI1NzJjYTMxMzA3MTQ5MzNhMGI1MzdkYWQ3YThmZmMxKTsKICAgICAgICAKICAgIAogICAgICAgIHZhciBtYXJrZXJfNjgzMjhkNjczNDJhNDMwN2E2NDBmMjhlODFiZjY1ZDYgPSBMLm1hcmtlcigKICAgICAgICAgICAgWzQwLjc3OTQyMjc2MDAwOTc3LCAtNzMuOTgwOTM0MTQzMDY2NF0sCiAgICAgICAgICAgIHsKICAgICAgICAgICAgICAgIGljb246IG5ldyBMLkljb24uRGVmYXVsdCgpLAogICAgICAgICAgICAgICAgfQogICAgICAgICAgICApLmFkZFRvKG1hcF8yNTcyY2EzMTMwNzE0OTMzYTBiNTM3ZGFkN2E4ZmZjMSk7CiAgICAgICAgCiAgICAKICAgICAgICB2YXIgbWFya2VyX2NlMzFkOTlhZDA5NjRmNzY5ZGNkMjUzYWUxZWYyNjIxID0gTC5tYXJrZXIoCiAgICAgICAgICAgIFs0MC43NjU5MjI1NDYzODY3MiwgLTczLjk1NzY0OTIzMDk1NzAyXSwKICAgICAgICAgICAgewogICAgICAgICAgICAgICAgaWNvbjogbmV3IEwuSWNvbi5EZWZhdWx0KCksCiAgICAgICAgICAgICAgICB9CiAgICAgICAgICAgICkuYWRkVG8obWFwXzI1NzJjYTMxMzA3MTQ5MzNhMGI1MzdkYWQ3YThmZmMxKTsKICAgICAgICAKICAgIAogICAgICAgIHZhciBtYXJrZXJfNjc2ZTFmNjM5MGMwNDBiMzhmZGQ5ODEwOWZkYzgwNjUgPSBMLm1hcmtlcigKICAgICAgICAgICAgWzQwLjc2MTgxNDExNzQzMTY0LCAtNzMuOTc5MDI2Nzk0NDMzNThdLAogICAgICAgICAgICB7CiAgICAgICAgICAgICAgICBpY29uOiBuZXcgTC5JY29uLkRlZmF1bHQoKSwKICAgICAgICAgICAgICAgIH0KICAgICAgICAgICAgKS5hZGRUbyhtYXBfMjU3MmNhMzEzMDcxNDkzM2EwYjUzN2RhZDdhOGZmYzEpOwogICAgICAgIAogICAgCiAgICAgICAgdmFyIG1hcmtlcl8yNGNmYTYyMjVkNjk0ZTM0YTRiNjM4OWI4ZjZhMjVlYiA9IEwubWFya2VyKAogICAgICAgICAgICBbNDAuNzA2Mjg3Mzg0MDMzMiwgLTc0LjAwOTY1MTE4NDA4MjAzXSwKICAgICAgICAgICAgewogICAgICAgICAgICAgICAgaWNvbjogbmV3IEwuSWNvbi5EZWZhdWx0KCksCiAgICAgICAgICAgICAgICB9CiAgICAgICAgICAgICkuYWRkVG8obWFwXzI1NzJjYTMxMzA3MTQ5MzNhMGI1MzdkYWQ3YThmZmMxKTsKICAgICAgICAKICAgIAogICAgICAgIHZhciBtYXJrZXJfZTY2Y2Y2ZjE1MTEyNDI3ZTkwYWYxNTAxOWFlMTg5ZjcgPSBMLm1hcmtlcigKICAgICAgICAgICAgWzQwLjc1OTY0MzU1NDY4NzUsIC03My45ODU5MjM3NjcwODk4NF0sCiAgICAgICAgICAgIHsKICAgICAgICAgICAgICAgIGljb246IG5ldyBMLkljb24uRGVmYXVsdCgpLAogICAgICAgICAgICAgICAgfQogICAgICAgICAgICApLmFkZFRvKG1hcF8yNTcyY2EzMTMwNzE0OTMzYTBiNTM3ZGFkN2E4ZmZjMSk7CiAgICAgICAgCiAgICAKICAgICAgICB2YXIgbWFya2VyX2ZhNzc3N2QyZmU3OTRkMjg4ZjQ4NTk0MTg5MTQwZmRkID0gTC5tYXJrZXIoCiAgICAgICAgICAgIFs0MC43NTIzNzY1NTYzOTY0OCwgLTczLjk3MDU0MjkwNzcxNDg0XSwKICAgICAgICAgICAgewogICAgICAgICAgICAgICAgaWNvbjogbmV3IEwuSWNvbi5EZWZhdWx0KCksCiAgICAgICAgICAgICAgICB9CiAgICAgICAgICAgICkuYWRkVG8obWFwXzI1NzJjYTMxMzA3MTQ5MzNhMGI1MzdkYWQ3YThmZmMxKTsKICAgICAgICAKICAgIAogICAgICAgIHZhciBtYXJrZXJfZTY0NjYwNzNmOWFkNGFiZjg5ODNlOWI5MWNjNWQ2ODIgPSBMLm1hcmtlcigKICAgICAgICAgICAgWzQwLjc2NDgyMDA5ODg3Njk1LCAtNzMuOTc2NzIyNzE3Mjg1MTZdLAogICAgICAgICAgICB7CiAgICAgICAgICAgICAgICBpY29uOiBuZXcgTC5JY29uLkRlZmF1bHQoKSwKICAgICAgICAgICAgICAgIH0KICAgICAgICAgICAgKS5hZGRUbyhtYXBfMjU3MmNhMzEzMDcxNDkzM2EwYjUzN2RhZDdhOGZmYzEpOwogICAgICAgIAogICAgCiAgICAgICAgdmFyIG1hcmtlcl9iYTJjZWZlMGViMzY0NjViOGM3OTE2NzBjNWM5YTY2MiA9IEwubWFya2VyKAogICAgICAgICAgICBbNDAuNzgxOTc0NzkyNDgwNDcsIC03My45NTMzMjMzNjQyNTc4MV0sCiAgICAgICAgICAgIHsKICAgICAgICAgICAgICAgIGljb246IG5ldyBMLkljb24uRGVmYXVsdCgpLAogICAgICAgICAgICAgICAgfQogICAgICAgICAgICApLmFkZFRvKG1hcF8yNTcyY2EzMTMwNzE0OTMzYTBiNTM3ZGFkN2E4ZmZjMSk7CiAgICAgICAgCiAgICAKICAgICAgICB2YXIgbWFya2VyX2FmZTgyMDE2ZjdiNzQ5OGNhZDE0Mzg2YmU1N2U2MTU2ID0gTC5tYXJrZXIoCiAgICAgICAgICAgIFs0MC43MTk0ODYyMzY1NzIyNjYsIC03My45ODk2MTYzOTQwNDI5OF0sCiAgICAgICAgICAgIHsKICAgICAgICAgICAgICAgIGljb246IG5ldyBMLkljb24uRGVmYXVsdCgpLAogICAgICAgICAgICAgICAgfQogICAgICAgICAgICApLmFkZFRvKG1hcF8yNTcyY2EzMTMwNzE0OTMzYTBiNTM3ZGFkN2E4ZmZjMSk7CiAgICAgICAgCiAgICAKICAgICAgICB2YXIgbWFya2VyXzliOTYzNmU1MjRhYTQ1OWE5YzQzOThjODEwODI2MDczID0gTC5tYXJrZXIoCiAgICAgICAgICAgIFs0MC43NDQ3OTI5MzgyMzI0MTUsIC03My45OTg2NDE5Njc3NzM0NF0sCiAgICAgICAgICAgIHsKICAgICAgICAgICAgICAgIGljb246IG5ldyBMLkljb24uRGVmYXVsdCgpLAogICAgICAgICAgICAgICAgfQogICAgICAgICAgICApLmFkZFRvKG1hcF8yNTcyY2EzMTMwNzE0OTMzYTBiNTM3ZGFkN2E4ZmZjMSk7CiAgICAgICAgCiAgICAKICAgICAgICB2YXIgbWFya2VyX2E5YWI5NjUwYTk5MDRiZDM5ZTM3ZjdiYTU2MDFlODU2ID0gTC5tYXJrZXIoCiAgICAgICAgICAgIFs0MC43NDk5NzMyOTcxMTkxMywgLTc0LjAwMjYzOTc3MDUwNzgxXSwKICAgICAgICAgICAgewogICAgICAgICAgICAgICAgaWNvbjogbmV3IEwuSWNvbi5EZWZhdWx0KCksCiAgICAgICAgICAgICAgICB9CiAgICAgICAgICAgICkuYWRkVG8obWFwXzI1NzJjYTMxMzA3MTQ5MzNhMGI1MzdkYWQ3YThmZmMxKTsKICAgICAgICAKICAgIAogICAgICAgIHZhciBtYXJrZXJfY2RlY2QzNjlmMmE0NGU3ZDkwYmI1ZGQ4NWRlZmQzYTAgPSBMLm1hcmtlcigKICAgICAgICAgICAgWzQwLjc2MTkyODU1ODM0OTYxLCAtNzMuOTg3MDYwNTQ2ODc1XSwKICAgICAgICAgICAgewogICAgICAgICAgICAgICAgaWNvbjogbmV3IEwuSWNvbi5EZWZhdWx0KCksCiAgICAgICAgICAgICAgICB9CiAgICAgICAgICAgICkuYWRkVG8obWFwXzI1NzJjYTMxMzA3MTQ5MzNhMGI1MzdkYWQ3YThmZmMxKTsKICAgICAgICAKICAgIAogICAgICAgIHZhciBtYXJrZXJfZTlmZjljNTY4NTgxNDA4N2JhMDVjYWZmZWIyMDk2MzYgPSBMLm1hcmtlcigKICAgICAgICAgICAgWzQwLjc0NDcyODA4ODM3ODkwNiwgLTczLjk4NTI5ODE1NjczODI3XSwKICAgICAgICAgICAgewogICAgICAgICAgICAgICAgaWNvbjogbmV3IEwuSWNvbi5EZWZhdWx0KCksCiAgICAgICAgICAgICAgICB9CiAgICAgICAgICAgICkuYWRkVG8obWFwXzI1NzJjYTMxMzA3MTQ5MzNhMGI1MzdkYWQ3YThmZmMxKTsKICAgICAgICAKICAgIAogICAgICAgIHZhciBtYXJrZXJfN2FmZTQyZGQyZTQyNGIwNTg0YzdlYmE4MGI5ODg4NzEgPSBMLm1hcmtlcigKICAgICAgICAgICAgWzQwLjY0NjI5MzY0MDEzNjcyLCAtNzMuNzkwNDczOTM3OTg4M10sCiAgICAgICAgICAgIHsKICAgICAgICAgICAgICAgIGljb246IG5ldyBMLkljb24uRGVmYXVsdCgpLAogICAgICAgICAgICAgICAgfQogICAgICAgICAgICApLmFkZFRvKG1hcF8yNTcyY2EzMTMwNzE0OTMzYTBiNTM3ZGFkN2E4ZmZjMSk7CiAgICAgICAgCiAgICAKICAgICAgICB2YXIgbWFya2VyXzQzMzc2ZWE0NjE0MzQxZDg4ODEwZTVlY2UzN2ExZGEwID0gTC5tYXJrZXIoCiAgICAgICAgICAgIFs0MC43NjA4Mjk5MjU1MzcxMSwgLTczLjk4OTkzNjgyODYxMzI4XSwKICAgICAgICAgICAgewogICAgICAgICAgICAgICAgaWNvbjogbmV3IEwuSWNvbi5EZWZhdWx0KCksCiAgICAgICAgICAgICAgICB9CiAgICAgICAgICAgICkuYWRkVG8obWFwXzI1NzJjYTMxMzA3MTQ5MzNhMGI1MzdkYWQ3YThmZmMxKTsKICAgICAgICAKICAgIAogICAgICAgIHZhciBtYXJrZXJfYTY4NjFkMWZjYjQxNDRhNTg1ZjhiMzJkMTZkMzI4MWIgPSBMLm1hcmtlcigKICAgICAgICAgICAgWzQwLjc3MjQ1MzMwODEwNTQ3LCAtNzMuOTUyNTE0NjQ4NDM3NV0sCiAgICAgICAgICAgIHsKICAgICAgICAgICAgICAgIGljb246IG5ldyBMLkljb24uRGVmYXVsdCgpLAogICAgICAgICAgICAgICAgfQogICAgICAgICAgICApLmFkZFRvKG1hcF8yNTcyY2EzMTMwNzE0OTMzYTBiNTM3ZGFkN2E4ZmZjMSk7CiAgICAgICAgCiAgICAKICAgICAgICB2YXIgbWFya2VyXzAxNWEwMGU4OTc5YjQwZjFhYjU3NWJhNzQ5NmQ5Mjg5ID0gTC5tYXJrZXIoCiAgICAgICAgICAgIFs0MC43MjEyOTA1ODgzNzg5MDYsIC03My45ODc0ODc3OTI5Njg3NV0sCiAgICAgICAgICAgIHsKICAgICAgICAgICAgICAgIGljb246IG5ldyBMLkljb24uRGVmYXVsdCgpLAogICAgICAgICAgICAgICAgfQogICAgICAgICAgICApLmFkZFRvKG1hcF8yNTcyY2EzMTMwNzE0OTMzYTBiNTM3ZGFkN2E4ZmZjMSk7CiAgICAgICAgCiAgICAKICAgICAgICB2YXIgbWFya2VyXzQzODgwNzdiNmI2NDRhMDliN2FmMmIxNWQ0NzdmZGI1ID0gTC5tYXJrZXIoCiAgICAgICAgICAgIFs0MC43ODEyMzQ3NDEyMTA5NCwgLTczLjk1NjQwNTYzOTY0ODQ0XSwKICAgICAgICAgICAgewogICAgICAgICAgICAgICAgaWNvbjogbmV3IEwuSWNvbi5EZWZhdWx0KCksCiAgICAgICAgICAgICAgICB9CiAgICAgICAgICAgICkuYWRkVG8obWFwXzI1NzJjYTMxMzA3MTQ5MzNhMGI1MzdkYWQ3YThmZmMxKTsKICAgICAgICAKICAgIAogICAgICAgIHZhciBtYXJrZXJfYTM3OGZhNDQwOWYyNGM3MjllNzI4MDA2MzUwYjk5M2IgPSBMLm1hcmtlcigKICAgICAgICAgICAgWzQwLjc4MjgzMzA5OTM2NTIzLCAtNzMuOTc1MDA2MTAzNTE1NjJdLAogICAgICAgICAgICB7CiAgICAgICAgICAgICAgICBpY29uOiBuZXcgTC5JY29uLkRlZmF1bHQoKSwKICAgICAgICAgICAgICAgIH0KICAgICAgICAgICAgKS5hZGRUbyhtYXBfMjU3MmNhMzEzMDcxNDkzM2EwYjUzN2RhZDdhOGZmYzEpOwogICAgICAgIAogICAgCiAgICAgICAgdmFyIG1hcmtlcl82YjNmYzA2YjllMTI0ZWEzOTYxODlkZTk2YzljN2RmMyA9IEwubWFya2VyKAogICAgICAgICAgICBbNDAuNzg2MTgyNDAzNTY0NDUsIC03My45Njg3MzQ3NDEyMTA5NF0sCiAgICAgICAgICAgIHsKICAgICAgICAgICAgICAgIGljb246IG5ldyBMLkljb24uRGVmYXVsdCgpLAogICAgICAgICAgICAgICAgfQogICAgICAgICAgICApLmFkZFRvKG1hcF8yNTcyY2EzMTMwNzE0OTMzYTBiNTM3ZGFkN2E4ZmZjMSk7CiAgICAgICAgCiAgICAKICAgICAgICB2YXIgbWFya2VyX2ZkZDE3NTRiZDU2NzRiZDM4YmI1YTlkMjc3ODBmMTUwID0gTC5tYXJrZXIoCiAgICAgICAgICAgIFs0MC43NDk3OTAxOTE2NTAzOSwgLTczLjk5OTAwODE3ODcxMDk0XSwKICAgICAgICAgICAgewogICAgICAgICAgICAgICAgaWNvbjogbmV3IEwuSWNvbi5EZWZhdWx0KCksCiAgICAgICAgICAgICAgICB9CiAgICAgICAgICAgICkuYWRkVG8obWFwXzI1NzJjYTMxMzA3MTQ5MzNhMGI1MzdkYWQ3YThmZmMxKTsKICAgICAgICAKICAgIAogICAgICAgIHZhciBtYXJrZXJfMDFlMzIwZTI3YzFkNDIzMzk5NjZiYWEzZmExODU4ZWYgPSBMLm1hcmtlcigKICAgICAgICAgICAgWzQwLjc0MzM1MDk4MjY2NjAxNiwgLTczLjk4NDEzMDg1OTM3NV0sCiAgICAgICAgICAgIHsKICAgICAgICAgICAgICAgIGljb246IG5ldyBMLkljb24uRGVmYXVsdCgpLAogICAgICAgICAgICAgICAgfQogICAgICAgICAgICApLmFkZFRvKG1hcF8yNTcyY2EzMTMwNzE0OTMzYTBiNTM3ZGFkN2E4ZmZjMSk7CiAgICAgICAgCiAgICAKICAgICAgICB2YXIgbWFya2VyXzc1NTBkMTk2MWQzNjRlMTM4NjhiMGU1YTI5Y2QzMmU3ID0gTC5tYXJrZXIoCiAgICAgICAgICAgIFs0MC43NjkzNzEwMzI3MTQ4NSwgLTczLjg2MjgzMTExNTcyMjY2XSwKICAgICAgICAgICAgewogICAgICAgICAgICAgICAgaWNvbjogbmV3IEwuSWNvbi5EZWZhdWx0KCksCiAgICAgICAgICAgICAgICB9CiAgICAgICAgICAgICkuYWRkVG8obWFwXzI1NzJjYTMxMzA3MTQ5MzNhMGI1MzdkYWQ3YThmZmMxKTsKICAgICAgICAKICAgIAogICAgICAgIHZhciBtYXJrZXJfYTEzZDNjMzJiY2Y1NDZlNWE1YzczY2NlMTliZTQwNTYgPSBMLm1hcmtlcigKICAgICAgICAgICAgWzQwLjc1ODgzODY1MzU2NDQ1LCAtNzMuOTkzNzA1NzQ5NTExNzNdLAogICAgICAgICAgICB7CiAgICAgICAgICAgICAgICBpY29uOiBuZXcgTC5JY29uLkRlZmF1bHQoKSwKICAgICAgICAgICAgICAgIH0KICAgICAgICAgICAgKS5hZGRUbyhtYXBfMjU3MmNhMzEzMDcxNDkzM2EwYjUzN2RhZDdhOGZmYzEpOwogICAgICAgIAogICAgCiAgICAgICAgdmFyIG1hcmtlcl83MDhjZDUwYmQ2MmY0ZjQxYjcwMjYyOGJmMzJlZjNmYyA9IEwubWFya2VyKAogICAgICAgICAgICBbNDAuNzU1NDIwNjg0ODE0NDUsIC03My45NjgwNzg2MTMyODEyNV0sCiAgICAgICAgICAgIHsKICAgICAgICAgICAgICAgIGljb246IG5ldyBMLkljb24uRGVmYXVsdCgpLAogICAgICAgICAgICAgICAgfQogICAgICAgICAgICApLmFkZFRvKG1hcF8yNTcyY2EzMTMwNzE0OTMzYTBiNTM3ZGFkN2E4ZmZjMSk7CiAgICAgICAgCiAgICAKICAgICAgICB2YXIgbWFya2VyXzc3MmZkMzRmYTE4ZTQ1Y2NhOTcxMTk3YzE3NTFiZmQ4ID0gTC5tYXJrZXIoCiAgICAgICAgICAgIFs0MC42ODUxMzEwNzI5OTgwNSwgLTczLjk3MTM1MTYyMzUzNTE2XSwKICAgICAgICAgICAgewogICAgICAgICAgICAgICAgaWNvbjogbmV3IEwuSWNvbi5EZWZhdWx0KCksCiAgICAgICAgICAgICAgICB9CiAgICAgICAgICAgICkuYWRkVG8obWFwXzI1NzJjYTMxMzA3MTQ5MzNhMGI1MzdkYWQ3YThmZmMxKTsKICAgICAgICAKICAgIAogICAgICAgIHZhciBtYXJrZXJfYTU0OGJhYTdmZmZkNDZhMzlkNWFiNzM1OTM0OGM4NWIgPSBMLm1hcmtlcigKICAgICAgICAgICAgWzQwLjczMzg1MjM4NjQ3NDYxLCAtNzMuOTgwNzEyODkwNjI1XSwKICAgICAgICAgICAgewogICAgICAgICAgICAgICAgaWNvbjogbmV3IEwuSWNvbi5EZWZhdWx0KCksCiAgICAgICAgICAgICAgICB9CiAgICAgICAgICAgICkuYWRkVG8obWFwXzI1NzJjYTMxMzA3MTQ5MzNhMGI1MzdkYWQ3YThmZmMxKTsKICAgICAgICAKICAgIAogICAgICAgIHZhciBtYXJrZXJfNWY2MWU0NDEwOGFkNDM3ZDg2ODYwYjM3YjBmNTc0MDQgPSBMLm1hcmtlcigKICAgICAgICAgICAgWzQwLjc4NjMxNTkxNzk2ODc1LCAtNzMuOTUyODczMjI5OTgwNDhdLAogICAgICAgICAgICB7CiAgICAgICAgICAgICAgICBpY29uOiBuZXcgTC5JY29uLkRlZmF1bHQoKSwKICAgICAgICAgICAgICAgIH0KICAgICAgICAgICAgKS5hZGRUbyhtYXBfMjU3MmNhMzEzMDcxNDkzM2EwYjUzN2RhZDdhOGZmYzEpOwogICAgICAgIAogICAgCiAgICAgICAgdmFyIG1hcmtlcl83YWE5OGJjMzNlZDI0MjY2OTI4ZjgxNTg4NGM1NDQxYSA9IEwubWFya2VyKAogICAgICAgICAgICBbNDAuNzQ4ODc4NDc5MDAzOTA2LCAtNzMuOTkyMTcyMjQxMjEwOTRdLAogICAgICAgICAgICB7CiAgICAgICAgICAgICAgICBpY29uOiBuZXcgTC5JY29uLkRlZmF1bHQoKSwKICAgICAgICAgICAgICAgIH0KICAgICAgICAgICAgKS5hZGRUbyhtYXBfMjU3MmNhMzEzMDcxNDkzM2EwYjUzN2RhZDdhOGZmYzEpOwogICAgICAgIAogICAgCiAgICAgICAgdmFyIG1hcmtlcl9hNmNkYWJlYmExZjE0Yzg3YmJkZWY4ZTViZDcyZjE1ZiA9IEwubWFya2VyKAogICAgICAgICAgICBbNDAuNzQxNjQ5NjI3Njg1NTUsIC03My45OTMxNDg4MDM3MTA5NF0sCiAgICAgICAgICAgIHsKICAgICAgICAgICAgICAgIGljb246IG5ldyBMLkljb24uRGVmYXVsdCgpLAogICAgICAgICAgICAgICAgfQogICAgICAgICAgICApLmFkZFRvKG1hcF8yNTcyY2EzMTMwNzE0OTMzYTBiNTM3ZGFkN2E4ZmZjMSk7CiAgICAgICAgCiAgICAKICAgICAgICB2YXIgbWFya2VyXzcyNGE2NWIzNTFiYzQ2ZGE4M2UyOGExMjVlODFmMDEyID0gTC5tYXJrZXIoCiAgICAgICAgICAgIFs0MC43NTc2MjkzOTQ1MzEyNSwgLTczLjk2OTIzODI4MTI1XSwKICAgICAgICAgICAgewogICAgICAgICAgICAgICAgaWNvbjogbmV3IEwuSWNvbi5EZWZhdWx0KCksCiAgICAgICAgICAgICAgICB9CiAgICAgICAgICAgICkuYWRkVG8obWFwXzI1NzJjYTMxMzA3MTQ5MzNhMGI1MzdkYWQ3YThmZmMxKTsKICAgICAgICAKICAgIAogICAgICAgIHZhciBtYXJrZXJfNmRiMmRkYTZhZGQ2NDM3NTk2NmZiNDdhYzc5MzBmNDcgPSBMLm1hcmtlcigKICAgICAgICAgICAgWzQwLjc1MDA2ODY2NDU1MDc4LCAtNzMuOTkwOTUxNTM4MDg1OTVdLAogICAgICAgICAgICB7CiAgICAgICAgICAgICAgICBpY29uOiBuZXcgTC5JY29uLkRlZmF1bHQoKSwKICAgICAgICAgICAgICAgIH0KICAgICAgICAgICAgKS5hZGRUbyhtYXBfMjU3MmNhMzEzMDcxNDkzM2EwYjUzN2RhZDdhOGZmYzEpOwogICAgICAgIAogICAgCiAgICAgICAgdmFyIG1hcmtlcl8yMGM2ZDE4MGYxZTU0ZTg0YjMzZDUyZGZhMTFkZjBmMyA9IEwubWFya2VyKAogICAgICAgICAgICBbNDAuNzcxNTQ5MjI0ODUzNTIsIC03My45NTA3NzUxNDY0ODQzOF0sCiAgICAgICAgICAgIHsKICAgICAgICAgICAgICAgIGljb246IG5ldyBMLkljb24uRGVmYXVsdCgpLAogICAgICAgICAgICAgICAgfQogICAgICAgICAgICApLmFkZFRvKG1hcF8yNTcyY2EzMTMwNzE0OTMzYTBiNTM3ZGFkN2E4ZmZjMSk7CiAgICAgICAgCiAgICAKICAgICAgICB2YXIgbWFya2VyX2M3OTBlODVkMWQxODQ5ZjZhNTI2YzUwNDhhODBkNmUyID0gTC5tYXJrZXIoCiAgICAgICAgICAgIFs0MC43MzYwMDM4NzU3MzI0MTUsIC03My45NzY4MTQyNzAwMTk1NV0sCiAgICAgICAgICAgIHsKICAgICAgICAgICAgICAgIGljb246IG5ldyBMLkljb24uRGVmYXVsdCgpLAogICAgICAgICAgICAgICAgfQogICAgICAgICAgICApLmFkZFRvKG1hcF8yNTcyY2EzMTMwNzE0OTMzYTBiNTM3ZGFkN2E4ZmZjMSk7CiAgICAgICAgCiAgICAKICAgICAgICB2YXIgbWFya2VyXzc0MjFlYjI1M2FjMDQyZWVhNWQzOTA1NGQyNmYyYzkwID0gTC5tYXJrZXIoCiAgICAgICAgICAgIFs0MC43MjQ0NDUzNDMwMTc1OCwgLTczLjk5MzMzMTkwOTE3OTY5XSwKICAgICAgICAgICAgewogICAgICAgICAgICAgICAgaWNvbjogbmV3IEwuSWNvbi5EZWZhdWx0KCksCiAgICAgICAgICAgICAgICB9CiAgICAgICAgICAgICkuYWRkVG8obWFwXzI1NzJjYTMxMzA3MTQ5MzNhMGI1MzdkYWQ3YThmZmMxKTsKICAgICAgICAKICAgIAogICAgICAgIHZhciBtYXJrZXJfNDEwYWNjOWVmMzVhNDA1MmExYzJjNGM1ZWZjMDI0MmYgPSBMLm1hcmtlcigKICAgICAgICAgICAgWzQwLjc5ODY4MzE2NjUwMzkwNiwgLTczLjk3MTExNTExMjMwNDY3XSwKICAgICAgICAgICAgewogICAgICAgICAgICAgICAgaWNvbjogbmV3IEwuSWNvbi5EZWZhdWx0KCksCiAgICAgICAgICAgICAgICB9CiAgICAgICAgICAgICkuYWRkVG8obWFwXzI1NzJjYTMxMzA3MTQ5MzNhMGI1MzdkYWQ3YThmZmMxKTsKICAgICAgICAKICAgIAogICAgICAgIHZhciBtYXJrZXJfNjAyNmM1MzA5NWI1NDBjMTk2Y2RhOThkZmE2NzViYjkgPSBMLm1hcmtlcigKICAgICAgICAgICAgWzQwLjcyMTk1ODE2MDQwMDM5LCAtNzQuMDA0MjAzNzk2Mzg2NzJdLAogICAgICAgICAgICB7CiAgICAgICAgICAgICAgICBpY29uOiBuZXcgTC5JY29uLkRlZmF1bHQoKSwKICAgICAgICAgICAgICAgIH0KICAgICAgICAgICAgKS5hZGRUbyhtYXBfMjU3MmNhMzEzMDcxNDkzM2EwYjUzN2RhZDdhOGZmYzEpOwogICAgICAgIAogICAgCiAgICAgICAgdmFyIG1hcmtlcl8zZTVlZWFkMTRjZjU0NjUzOTM1ZDVlMWFkZDExMGI0YyA9IEwubWFya2VyKAogICAgICAgICAgICBbNDAuNzY0NDExOTI2MjY5NTMsIC03My45NzQyNzM2ODE2NDA2Ml0sCiAgICAgICAgICAgIHsKICAgICAgICAgICAgICAgIGljb246IG5ldyBMLkljb24uRGVmYXVsdCgpLAogICAgICAgICAgICAgICAgfQogICAgICAgICAgICApLmFkZFRvKG1hcF8yNTcyY2EzMTMwNzE0OTMzYTBiNTM3ZGFkN2E4ZmZjMSk7CiAgICAgICAgCiAgICAKICAgICAgICB2YXIgbWFya2VyXzc4ZGJkODM4ZDRhYzQ1NTRhYjhmMzBmNjI5YTljYzJmID0gTC5tYXJrZXIoCiAgICAgICAgICAgIFs0MC43MTU4Njk5MDM1NjQ0NSwgLTc0LjAxMTE0NjU0NTQxMDE0XSwKICAgICAgICAgICAgewogICAgICAgICAgICAgICAgaWNvbjogbmV3IEwuSWNvbi5EZWZhdWx0KCksCiAgICAgICAgICAgICAgICB9CiAgICAgICAgICAgICkuYWRkVG8obWFwXzI1NzJjYTMxMzA3MTQ5MzNhMGI1MzdkYWQ3YThmZmMxKTsKICAgICAgICAKICAgIAogICAgICAgIHZhciBtYXJrZXJfOGVmMWNlNDhhYTNmNDYzM2E5NDdiMjA4YTQ3MGJmZjkgPSBMLm1hcmtlcigKICAgICAgICAgICAgWzQwLjc2OTIxODQ0NDgyNDIyLCAtNzMuOTU1MDMyMzQ4NjMyODFdLAogICAgICAgICAgICB7CiAgICAgICAgICAgICAgICBpY29uOiBuZXcgTC5JY29uLkRlZmF1bHQoKSwKICAgICAgICAgICAgICAgIH0KICAgICAgICAgICAgKS5hZGRUbyhtYXBfMjU3MmNhMzEzMDcxNDkzM2EwYjUzN2RhZDdhOGZmYzEpOwogICAgICAgIAogICAgCiAgICAgICAgdmFyIG1hcmtlcl82MDM0ZjIzOTk1MmU0MzJhOTJjZGE1YzBiMmIwZGE1YiA9IEwubWFya2VyKAogICAgICAgICAgICBbNDAuNzY0MjM2NDUwMTk1MzEsIC03My45ODg4MDc2NzgyMjI2Nl0sCiAgICAgICAgICAgIHsKICAgICAgICAgICAgICAgIGljb246IG5ldyBMLkljb24uRGVmYXVsdCgpLAogICAgICAgICAgICAgICAgfQogICAgICAgICAgICApLmFkZFRvKG1hcF8yNTcyY2EzMTMwNzE0OTMzYTBiNTM3ZGFkN2E4ZmZjMSk7CiAgICAgICAgCiAgICAKICAgICAgICB2YXIgbWFya2VyX2U4YWZhNDUyMzY5ZTRkZDE4MDhhYzI1YmYxOGFmN2YzID0gTC5tYXJrZXIoCiAgICAgICAgICAgIFs0MC43NTE3NTg1NzU0Mzk0NSwgLTczLjk3NDg5MTY2MjU5NzY2XSwKICAgICAgICAgICAgewogICAgICAgICAgICAgICAgaWNvbjogbmV3IEwuSWNvbi5EZWZhdWx0KCksCiAgICAgICAgICAgICAgICB9CiAgICAgICAgICAgICkuYWRkVG8obWFwXzI1NzJjYTMxMzA3MTQ5MzNhMGI1MzdkYWQ3YThmZmMxKTsKICAgICAgICAKICAgIAogICAgICAgIHZhciBtYXJrZXJfZDhmM2JmMDMzMDc2NGI4NWE2MWQ0MzZmM2E4OTk5ZTEgPSBMLm1hcmtlcigKICAgICAgICAgICAgWzQwLjc1NzU4NzQzMjg2MTMzLCAtNzMuOTkzOTExNzQzMTY0MDZdLAogICAgICAgICAgICB7CiAgICAgICAgICAgICAgICBpY29uOiBuZXcgTC5JY29uLkRlZmF1bHQoKSwKICAgICAgICAgICAgICAgIH0KICAgICAgICAgICAgKS5hZGRUbyhtYXBfMjU3MmNhMzEzMDcxNDkzM2EwYjUzN2RhZDdhOGZmYzEpOwogICAgICAgIAogICAgCiAgICAgICAgdmFyIG1hcmtlcl80MmU5ZmJiN2Y0OGQ0NjQ4ODk5ZDRlYjQ4YjcwMGE5YyA9IEwubWFya2VyKAogICAgICAgICAgICBbNDAuNzgxNzc2NDI4MjIyNjU2LCAtNzMuOTc5MjcwOTM1MDU4Nl0sCiAgICAgICAgICAgIHsKICAgICAgICAgICAgICAgIGljb246IG5ldyBMLkljb24uRGVmYXVsdCgpLAogICAgICAgICAgICAgICAgfQogICAgICAgICAgICApLmFkZFRvKG1hcF8yNTcyY2EzMTMwNzE0OTMzYTBiNTM3ZGFkN2E4ZmZjMSk7CiAgICAgICAgCiAgICAKICAgICAgICB2YXIgbWFya2VyXzM3M2Q1YWY3ODMyZDQ4MjNiZmMxMTM4N2Q3YzQzNGI0ID0gTC5tYXJrZXIoCiAgICAgICAgICAgIFs0MC43ODQzMzk5MDQ3ODUxNTYsIC03My45NzM2NjMzMzAwNzgxMV0sCiAgICAgICAgICAgIHsKICAgICAgICAgICAgICAgIGljb246IG5ldyBMLkljb24uRGVmYXVsdCgpLAogICAgICAgICAgICAgICAgfQogICAgICAgICAgICApLmFkZFRvKG1hcF8yNTcyY2EzMTMwNzE0OTMzYTBiNTM3ZGFkN2E4ZmZjMSk7CiAgICAgICAgCiAgICAKICAgICAgICB2YXIgbWFya2VyXzViYTVmYTkzYWViYTQxNzQ5YThiMzcwMzU3ZWM2ZmNkID0gTC5tYXJrZXIoCiAgICAgICAgICAgIFs0MC43NTk1MzY3NDMxNjQwNiwgLTczLjk4NTg3MDM2MTMyODEyXSwKICAgICAgICAgICAgewogICAgICAgICAgICAgICAgaWNvbjogbmV3IEwuSWNvbi5EZWZhdWx0KCksCiAgICAgICAgICAgICAgICB9CiAgICAgICAgICAgICkuYWRkVG8obWFwXzI1NzJjYTMxMzA3MTQ5MzNhMGI1MzdkYWQ3YThmZmMxKTsKICAgICAgICAKICAgIAogICAgICAgIHZhciBtYXJrZXJfMDdiYzFiMjBhYTM0NGNhYjkxMDFlNGQxZjM5NWRlMmUgPSBMLm1hcmtlcigKICAgICAgICAgICAgWzQwLjc1NTg1OTM3NSwgLTczLjk5NDY0NDE2NTAzOTA2XSwKICAgICAgICAgICAgewogICAgICAgICAgICAgICAgaWNvbjogbmV3IEwuSWNvbi5EZWZhdWx0KCksCiAgICAgICAgICAgICAgICB9CiAgICAgICAgICAgICkuYWRkVG8obWFwXzI1NzJjYTMxMzA3MTQ5MzNhMGI1MzdkYWQ3YThmZmMxKTsKICAgICAgICAKICAgIAogICAgICAgIHZhciBtYXJrZXJfMzVmMDQ4YzJjZTViNDU5MmJlODA5M2JiNjBmYzIyNTMgPSBMLm1hcmtlcigKICAgICAgICAgICAgWzQwLjc4MzA4NDg2OTM4NDc3LCAtNzMuOTc4NDYyMjE5MjM4MjddLAogICAgICAgICAgICB7CiAgICAgICAgICAgICAgICBpY29uOiBuZXcgTC5JY29uLkRlZmF1bHQoKSwKICAgICAgICAgICAgICAgIH0KICAgICAgICAgICAgKS5hZGRUbyhtYXBfMjU3MmNhMzEzMDcxNDkzM2EwYjUzN2RhZDdhOGZmYzEpOwogICAgICAgIAogICAgCiAgICAgICAgdmFyIG1hcmtlcl9hZmJlY2VjNWE2OWY0NWQzOWU4Njk3NmE5NzZmZTY2ZCA9IEwubWFya2VyKAogICAgICAgICAgICBbNDAuNzkxNTE1MzUwMzQxOCwgLTczLjk2ODU2Njg5NDUzMTI1XSwKICAgICAgICAgICAgewogICAgICAgICAgICAgICAgaWNvbjogbmV3IEwuSWNvbi5EZWZhdWx0KCksCiAgICAgICAgICAgICAgICB9CiAgICAgICAgICAgICkuYWRkVG8obWFwXzI1NzJjYTMxMzA3MTQ5MzNhMGI1MzdkYWQ3YThmZmMxKTsKICAgICAgICAKICAgIAogICAgICAgIHZhciBtYXJrZXJfNzY5YmM3NDBkODdkNGVlNmE4MTJmOWQwZDJjYzcxYTkgPSBMLm1hcmtlcigKICAgICAgICAgICAgWzQwLjc2MDA3MDgwMDc4MTI1LCAtNzMuOTk1MjMxNjI4NDE3OTddLAogICAgICAgICAgICB7CiAgICAgICAgICAgICAgICBpY29uOiBuZXcgTC5JY29uLkRlZmF1bHQoKSwKICAgICAgICAgICAgICAgIH0KICAgICAgICAgICAgKS5hZGRUbyhtYXBfMjU3MmNhMzEzMDcxNDkzM2EwYjUzN2RhZDdhOGZmYzEpOwogICAgICAgIAogICAgCiAgICAgICAgdmFyIG1hcmtlcl9hYjVhMDVmZDk4OWE0MjZmYTYzNTY3ZDY4NTdkYWM5MCA9IEwubWFya2VyKAogICAgICAgICAgICBbNDAuODAzNTM5Mjc2MTIzMDUsIC03My45NjcyMzE3NTA0ODgzXSwKICAgICAgICAgICAgewogICAgICAgICAgICAgICAgaWNvbjogbmV3IEwuSWNvbi5EZWZhdWx0KCksCiAgICAgICAgICAgICAgICB9CiAgICAgICAgICAgICkuYWRkVG8obWFwXzI1NzJjYTMxMzA3MTQ5MzNhMGI1MzdkYWQ3YThmZmMxKTsKICAgICAgICAKICAgIAogICAgICAgIHZhciBtYXJrZXJfODA2Njc4MDgzZjZjNDUzYzhiNjgyNDUyOWJhMGI3MjUgPSBMLm1hcmtlcigKICAgICAgICAgICAgWzQwLjcyOTc0MDE0MjgyMjI2NiwgLTczLjg2MDU4MDQ0NDMzNTk0XSwKICAgICAgICAgICAgewogICAgICAgICAgICAgICAgaWNvbjogbmV3IEwuSWNvbi5EZWZhdWx0KCksCiAgICAgICAgICAgICAgICB9CiAgICAgICAgICAgICkuYWRkVG8obWFwXzI1NzJjYTMxMzA3MTQ5MzNhMGI1MzdkYWQ3YThmZmMxKTsKICAgICAgICAKICAgIAogICAgICAgIHZhciBtYXJrZXJfMDM0ZmNmNWRhZjk0NDZjNWJjZWY1MDY4YjEyYjFhOTAgPSBMLm1hcmtlcigKICAgICAgICAgICAgWzQwLjc0ODc3OTI5Njg3NSwgLTc0LjAwMzgyMjMyNjY2MDE0XSwKICAgICAgICAgICAgewogICAgICAgICAgICAgICAgaWNvbjogbmV3IEwuSWNvbi5EZWZhdWx0KCksCiAgICAgICAgICAgICAgICB9CiAgICAgICAgICAgICkuYWRkVG8obWFwXzI1NzJjYTMxMzA3MTQ5MzNhMGI1MzdkYWQ3YThmZmMxKTsKICAgICAgICAKICAgIAogICAgICAgIHZhciBtYXJrZXJfMzcwYzE2OTU3ZWNmNGRhOGI2OTNlZWFkMGI5MWMxNjcgPSBMLm1hcmtlcigKICAgICAgICAgICAgWzQwLjczMDE3MTIwMzYxMzI4LCAtNzMuOTgwNTM3NDE0NTUwNzhdLAogICAgICAgICAgICB7CiAgICAgICAgICAgICAgICBpY29uOiBuZXcgTC5JY29uLkRlZmF1bHQoKSwKICAgICAgICAgICAgICAgIH0KICAgICAgICAgICAgKS5hZGRUbyhtYXBfMjU3MmNhMzEzMDcxNDkzM2EwYjUzN2RhZDdhOGZmYzEpOwogICAgICAgIAogICAgCiAgICAgICAgdmFyIG1hcmtlcl9jN2Q0OGYxZTJkY2E0MTQyYmY2ZGY4ZDQ0ZGI5MDBmMyA9IEwubWFya2VyKAogICAgICAgICAgICBbNDAuODI0NzI2MTA0NzM2MzMsIC03My44NTg4OTQzNDgxNDQ1M10sCiAgICAgICAgICAgIHsKICAgICAgICAgICAgICAgIGljb246IG5ldyBMLkljb24uRGVmYXVsdCgpLAogICAgICAgICAgICAgICAgfQogICAgICAgICAgICApLmFkZFRvKG1hcF8yNTcyY2EzMTMwNzE0OTMzYTBiNTM3ZGFkN2E4ZmZjMSk7CiAgICAgICAgCiAgICAKICAgICAgICB2YXIgbWFya2VyXzdlZDBkNDQwNzM5ZTQzM2JhZGViZTljZTg2NDhkNzYxID0gTC5tYXJrZXIoCiAgICAgICAgICAgIFs0MC43MzcyODk0Mjg3MTA5NCwgLTczLjk4ODg5OTIzMDk1NzAyXSwKICAgICAgICAgICAgewogICAgICAgICAgICAgICAgaWNvbjogbmV3IEwuSWNvbi5EZWZhdWx0KCksCiAgICAgICAgICAgICAgICB9CiAgICAgICAgICAgICkuYWRkVG8obWFwXzI1NzJjYTMxMzA3MTQ5MzNhMGI1MzdkYWQ3YThmZmMxKTsKICAgICAgICAKICAgIAogICAgICAgIHZhciBtYXJrZXJfMDQzNzFhZjk5NzQwNGI2OWIxN2I2MzFhNTY2MjQxNTEgPSBMLm1hcmtlcigKICAgICAgICAgICAgWzQwLjc1NzYyMTc2NTEzNjcyLCAtNzMuOTcxMTIyNzQxNjk5MjNdLAogICAgICAgICAgICB7CiAgICAgICAgICAgICAgICBpY29uOiBuZXcgTC5JY29uLkRlZmF1bHQoKSwKICAgICAgICAgICAgICAgIH0KICAgICAgICAgICAgKS5hZGRUbyhtYXBfMjU3MmNhMzEzMDcxNDkzM2EwYjUzN2RhZDdhOGZmYzEpOwogICAgICAgIAogICAgCiAgICAgICAgdmFyIG1hcmtlcl9kYTlhZmRhYzNmNDA0MTgxYjIzNGEzNWU2MmY4YmQxZiA9IEwubWFya2VyKAogICAgICAgICAgICBbNDAuNzU0ODk4MDcxMjg5MDU1LCAtNzMuOTcyNDE5NzM4NzY5NTVdLAogICAgICAgICAgICB7CiAgICAgICAgICAgICAgICBpY29uOiBuZXcgTC5JY29uLkRlZmF1bHQoKSwKICAgICAgICAgICAgICAgIH0KICAgICAgICAgICAgKS5hZGRUbyhtYXBfMjU3MmNhMzEzMDcxNDkzM2EwYjUzN2RhZDdhOGZmYzEpOwogICAgICAgIAogICAgCiAgICAgICAgdmFyIG1hcmtlcl83ZGY3YjJkY2VlNTI0YTIzYmY0ZjFiZGEwZTU0ZTFjZiA9IEwubWFya2VyKAogICAgICAgICAgICBbNDAuNzYwNzg0MTQ5MTY5OTIsIC03My45NjI4Mjk1ODk4NDM3NV0sCiAgICAgICAgICAgIHsKICAgICAgICAgICAgICAgIGljb246IG5ldyBMLkljb24uRGVmYXVsdCgpLAogICAgICAgICAgICAgICAgfQogICAgICAgICAgICApLmFkZFRvKG1hcF8yNTcyY2EzMTMwNzE0OTMzYTBiNTM3ZGFkN2E4ZmZjMSk7CiAgICAgICAgCiAgICAKICAgICAgICB2YXIgbWFya2VyX2MyMWFhM2E3YWU0ODQ1YWQ4NGY2NjhmMjU4ZjI1MWRkID0gTC5tYXJrZXIoCiAgICAgICAgICAgIFs0MC43NDIwNjE2MTQ5OTAyNCwgLTc0LjAwMzg2ODEwMzAyNzM0XSwKICAgICAgICAgICAgewogICAgICAgICAgICAgICAgaWNvbjogbmV3IEwuSWNvbi5EZWZhdWx0KCksCiAgICAgICAgICAgICAgICB9CiAgICAgICAgICAgICkuYWRkVG8obWFwXzI1NzJjYTMxMzA3MTQ5MzNhMGI1MzdkYWQ3YThmZmMxKTsKICAgICAgICAKICAgIAogICAgICAgIHZhciBtYXJrZXJfNjIwYzQ3NjE4NDEyNDc5NjljYjk4ZTczOTNhMmYxYzkgPSBMLm1hcmtlcigKICAgICAgICAgICAgWzQwLjc0NzYwNDM3MDExNzE5LCAtNzQuMDA0MDA1NDMyMTI4OV0sCiAgICAgICAgICAgIHsKICAgICAgICAgICAgICAgIGljb246IG5ldyBMLkljb24uRGVmYXVsdCgpLAogICAgICAgICAgICAgICAgfQogICAgICAgICAgICApLmFkZFRvKG1hcF8yNTcyY2EzMTMwNzE0OTMzYTBiNTM3ZGFkN2E4ZmZjMSk7CiAgICAgICAgCiAgICAKICAgICAgICB2YXIgbWFya2VyXzMzYjMzMzFjYTAyMDQ3YTU4MzRjOTA4ZjdjNDJiYmFjID0gTC5tYXJrZXIoCiAgICAgICAgICAgIFs0MC43NjQzNjk5NjQ1OTk2MSwgLTczLjk4MTA1NjIxMzM3ODldLAogICAgICAgICAgICB7CiAgICAgICAgICAgICAgICBpY29uOiBuZXcgTC5JY29uLkRlZmF1bHQoKSwKICAgICAgICAgICAgICAgIH0KICAgICAgICAgICAgKS5hZGRUbyhtYXBfMjU3MmNhMzEzMDcxNDkzM2EwYjUzN2RhZDdhOGZmYzEpOwogICAgICAgIAogICAgCiAgICAgICAgdmFyIG1hcmtlcl80YzI1ZDQ2NWQyNjc0NzhhYTg3OWQ0N2U3NmQ4MmFmMSA9IEwubWFya2VyKAogICAgICAgICAgICBbNDAuNzU5NTcxMDc1NDM5NDUsIC03My45NzkwNDIwNTMyMjI2Nl0sCiAgICAgICAgICAgIHsKICAgICAgICAgICAgICAgIGljb246IG5ldyBMLkljb24uRGVmYXVsdCgpLAogICAgICAgICAgICAgICAgfQogICAgICAgICAgICApLmFkZFRvKG1hcF8yNTcyY2EzMTMwNzE0OTMzYTBiNTM3ZGFkN2E4ZmZjMSk7CiAgICAgICAgCiAgICAKICAgICAgICB2YXIgbWFya2VyXzRkZDhlNTMwMWIxNTQzOTZhMDUxYWI4Nzc2N2U2YTE1ID0gTC5tYXJrZXIoCiAgICAgICAgICAgIFs0MC43NjEzMTA1NzczOTI1OCwgLTczLjk2NDAxOTc3NTM5MDYyXSwKICAgICAgICAgICAgewogICAgICAgICAgICAgICAgaWNvbjogbmV3IEwuSWNvbi5EZWZhdWx0KCksCiAgICAgICAgICAgICAgICB9CiAgICAgICAgICAgICkuYWRkVG8obWFwXzI1NzJjYTMxMzA3MTQ5MzNhMGI1MzdkYWQ3YThmZmMxKTsKICAgICAgICAKICAgIAogICAgICAgIHZhciBtYXJrZXJfYThlNTllOWRkMmQ0NDBjN2E4ZTYzMzQ5ZTA0N2VlYzggPSBMLm1hcmtlcigKICAgICAgICAgICAgWzQwLjc3NDAyODc3ODA3NjE3LCAtNzMuOTYxNTkzNjI3OTI5N10sCiAgICAgICAgICAgIHsKICAgICAgICAgICAgICAgIGljb246IG5ldyBMLkljb24uRGVmYXVsdCgpLAogICAgICAgICAgICAgICAgfQogICAgICAgICAgICApLmFkZFRvKG1hcF8yNTcyY2EzMTMwNzE0OTMzYTBiNTM3ZGFkN2E4ZmZjMSk7CiAgICAgICAgCiAgICAKICAgICAgICB2YXIgbWFya2VyXzI2NmRmN2ZhYzJjZTQ1YTM5MDhhNDE5MGMyZTFjNTA3ID0gTC5tYXJrZXIoCiAgICAgICAgICAgIFs0MC43Njc1MjQ3MTkyMzgyOCwgLTczLjk1NjMxNDA4NjkxNDA2XSwKICAgICAgICAgICAgewogICAgICAgICAgICAgICAgaWNvbjogbmV3IEwuSWNvbi5EZWZhdWx0KCksCiAgICAgICAgICAgICAgICB9CiAgICAgICAgICAgICkuYWRkVG8obWFwXzI1NzJjYTMxMzA3MTQ5MzNhMGI1MzdkYWQ3YThmZmMxKTsKICAgICAgICAKICAgIAogICAgICAgIHZhciBtYXJrZXJfNWRiZDJlMGY0MzBiNDJkZDg1NDgyYWQ5MTE3OTAwNzQgPSBMLm1hcmtlcigKICAgICAgICAgICAgWzQwLjc3MDI3MTMwMTI2OTUzLCAtNzMuOTY4NDY3NzEyNDAyMzRdLAogICAgICAgICAgICB7CiAgICAgICAgICAgICAgICBpY29uOiBuZXcgTC5JY29uLkRlZmF1bHQoKSwKICAgICAgICAgICAgICAgIH0KICAgICAgICAgICAgKS5hZGRUbyhtYXBfMjU3MmNhMzEzMDcxNDkzM2EwYjUzN2RhZDdhOGZmYzEpOwogICAgICAgIAogICAgCiAgICAgICAgdmFyIG1hcmtlcl9lNjNjYWFiZjI2NjI0YzE5OWJjMzBkNmY2ZTIzNTVlYiA9IEwubWFya2VyKAogICAgICAgICAgICBbNDAuNzU3MDMwNDg3MDYwNTUsIC03My45NjM5NDM0ODE0NDUzMV0sCiAgICAgICAgICAgIHsKICAgICAgICAgICAgICAgIGljb246IG5ldyBMLkljb24uRGVmYXVsdCgpLAogICAgICAgICAgICAgICAgfQogICAgICAgICAgICApLmFkZFRvKG1hcF8yNTcyY2EzMTMwNzE0OTMzYTBiNTM3ZGFkN2E4ZmZjMSk7CiAgICAgICAgCiAgICAKICAgICAgICB2YXIgbWFya2VyXzg4NWNiYzQ0MTkxYTQ0NDFiYzhjZDQyMjBhOGY0NTZkID0gTC5tYXJrZXIoCiAgICAgICAgICAgIFs0MC43NzI1MTA1Mjg1NjQ0NSwgLTczLjk1MjY5Nzc1MzkwNjI1XSwKICAgICAgICAgICAgewogICAgICAgICAgICAgICAgaWNvbjogbmV3IEwuSWNvbi5EZWZhdWx0KCksCiAgICAgICAgICAgICAgICB9CiAgICAgICAgICAgICkuYWRkVG8obWFwXzI1NzJjYTMxMzA3MTQ5MzNhMGI1MzdkYWQ3YThmZmMxKTsKICAgICAgICAKICAgIAogICAgICAgIHZhciBtYXJrZXJfZDFjMzI2Y2Q3ZjhiNGMxNjk2ZDY3YjA4YmQ4MWRjNzIgPSBMLm1hcmtlcigKICAgICAgICAgICAgWzQwLjc2MzI0ODQ0MzYwMzUyLCAtNzMuOTc4MTY0NjcyODUxNTVdLAogICAgICAgICAgICB7CiAgICAgICAgICAgICAgICBpY29uOiBuZXcgTC5JY29uLkRlZmF1bHQoKSwKICAgICAgICAgICAgICAgIH0KICAgICAgICAgICAgKS5hZGRUbyhtYXBfMjU3MmNhMzEzMDcxNDkzM2EwYjUzN2RhZDdhOGZmYzEpOwogICAgICAgIAogICAgCiAgICAgICAgdmFyIG1hcmtlcl8wYWI2MjRhMjI5OGY0MTA2YmQ3MDI4MmM3MjhiYWRjZiA9IEwubWFya2VyKAogICAgICAgICAgICBbNDAuNzMzMTU4MTExNTcyMjY2LCAtNzQuMDAwNDgwNjUxODU1NDddLAogICAgICAgICAgICB7CiAgICAgICAgICAgICAgICBpY29uOiBuZXcgTC5JY29uLkRlZmF1bHQoKSwKICAgICAgICAgICAgICAgIH0KICAgICAgICAgICAgKS5hZGRUbyhtYXBfMjU3MmNhMzEzMDcxNDkzM2EwYjUzN2RhZDdhOGZmYzEpOwogICAgICAgIAogICAgCiAgICAgICAgdmFyIG1hcmtlcl8zNDdkOWZlZDc3MjI0ZTY5OTIxZmM2OTJhODRiMWUyNyA9IEwubWFya2VyKAogICAgICAgICAgICBbNDAuNzQwNTUwOTk0ODczMDUsIC03My45OTgyODMzODYyMzA0OF0sCiAgICAgICAgICAgIHsKICAgICAgICAgICAgICAgIGljb246IG5ldyBMLkljb24uRGVmYXVsdCgpLAogICAgICAgICAgICAgICAgfQogICAgICAgICAgICApLmFkZFRvKG1hcF8yNTcyY2EzMTMwNzE0OTMzYTBiNTM3ZGFkN2E4ZmZjMSk7CiAgICAgICAgCiAgICAKICAgICAgICB2YXIgbWFya2VyX2U5ZWJlZmI4MWQ1MzQ4NWJhNGI4OTFhZWEzMzc4MWI5ID0gTC5tYXJrZXIoCiAgICAgICAgICAgIFs0MC43NzUxMzUwNDAyODMyLCAtNzMuOTgwNDIyOTczNjMyODFdLAogICAgICAgICAgICB7CiAgICAgICAgICAgICAgICBpY29uOiBuZXcgTC5JY29uLkRlZmF1bHQoKSwKICAgICAgICAgICAgICAgIH0KICAgICAgICAgICAgKS5hZGRUbyhtYXBfMjU3MmNhMzEzMDcxNDkzM2EwYjUzN2RhZDdhOGZmYzEpOwogICAgICAgIAogICAgCiAgICAgICAgdmFyIG1hcmtlcl9iODhkMzQzMDc5NjA0YWIyOTU2MzYwOGI5M2JhYzA0ZSA9IEwubWFya2VyKAogICAgICAgICAgICBbNDAuNzQ0MTE3NzM2ODE2NDA2LCAtNzMuOTkxOTUwOTg4NzY5NTVdLAogICAgICAgICAgICB7CiAgICAgICAgICAgICAgICBpY29uOiBuZXcgTC5JY29uLkRlZmF1bHQoKSwKICAgICAgICAgICAgICAgIH0KICAgICAgICAgICAgKS5hZGRUbyhtYXBfMjU3MmNhMzEzMDcxNDkzM2EwYjUzN2RhZDdhOGZmYzEpOwogICAgICAgIAogICAgCiAgICAgICAgdmFyIG1hcmtlcl9jZDlkY2E2NzA3MmQ0ODY3YTdjNDAzNGI0MzgyMGFiZiA9IEwubWFya2VyKAogICAgICAgICAgICBbNDAuNzcwODA1MzU4ODg2NzIsIC03My44NjU1Mzk1NTA3ODEyNV0sCiAgICAgICAgICAgIHsKICAgICAgICAgICAgICAgIGljb246IG5ldyBMLkljb24uRGVmYXVsdCgpLAogICAgICAgICAgICAgICAgfQogICAgICAgICAgICApLmFkZFRvKG1hcF8yNTcyY2EzMTMwNzE0OTMzYTBiNTM3ZGFkN2E4ZmZjMSk7CiAgICAgICAgCiAgICAKICAgICAgICB2YXIgbWFya2VyX2M0NTE1ODc5NjM0ZjRjYzQ5MmExMTJjOTZjZTdhMjRlID0gTC5tYXJrZXIoCiAgICAgICAgICAgIFs0MC43NDk4NTEyMjY4MDY2NCwgLTczLjk5MTUwODQ4Mzg4NjcyXSwKICAgICAgICAgICAgewogICAgICAgICAgICAgICAgaWNvbjogbmV3IEwuSWNvbi5EZWZhdWx0KCksCiAgICAgICAgICAgICAgICB9CiAgICAgICAgICAgICkuYWRkVG8obWFwXzI1NzJjYTMxMzA3MTQ5MzNhMGI1MzdkYWQ3YThmZmMxKTsKICAgICAgICAKICAgIAogICAgICAgIHZhciBtYXJrZXJfZWNlZDkwOTJhNGFhNDU4ZTlmODhkZTk1NTM5MzUzYmIgPSBMLm1hcmtlcigKICAgICAgICAgICAgWzQwLjc2NzM2MDY4NzI1NTg1LCAtNzMuOTYyMzU2NTY3MzgyODFdLAogICAgICAgICAgICB7CiAgICAgICAgICAgICAgICBpY29uOiBuZXcgTC5JY29uLkRlZmF1bHQoKSwKICAgICAgICAgICAgICAgIH0KICAgICAgICAgICAgKS5hZGRUbyhtYXBfMjU3MmNhMzEzMDcxNDkzM2EwYjUzN2RhZDdhOGZmYzEpOwogICAgICAgIAogICAgCiAgICAgICAgdmFyIG1hcmtlcl9lNjlmYmNhYTBkYWM0MzUyYmU2NzE2ODJlY2ZjY2RlOCA9IEwubWFya2VyKAogICAgICAgICAgICBbNDAuNzIzNDgwMjI0NjA5Mzc1LCAtNzMuOTkyNzU5NzA0NTg5ODRdLAogICAgICAgICAgICB7CiAgICAgICAgICAgICAgICBpY29uOiBuZXcgTC5JY29uLkRlZmF1bHQoKSwKICAgICAgICAgICAgICAgIH0KICAgICAgICAgICAgKS5hZGRUbyhtYXBfMjU3MmNhMzEzMDcxNDkzM2EwYjUzN2RhZDdhOGZmYzEpOwogICAgICAgIAogICAgCiAgICAgICAgdmFyIG1hcmtlcl8xMTViNTA2OGVmNjU0OGZhYjQ2NzM5NmQxMDMxMDU4OCA9IEwubWFya2VyKAogICAgICAgICAgICBbNDAuNzM3MzUwNDYzODY3MTksIC03NC4wMDA2MTc5ODA5NTcwMl0sCiAgICAgICAgICAgIHsKICAgICAgICAgICAgICAgIGljb246IG5ldyBMLkljb24uRGVmYXVsdCgpLAogICAgICAgICAgICAgICAgfQogICAgICAgICAgICApLmFkZFRvKG1hcF8yNTcyY2EzMTMwNzE0OTMzYTBiNTM3ZGFkN2E4ZmZjMSk7CiAgICAgICAgCiAgICAKICAgICAgICB2YXIgbWFya2VyXzYyMGNmMTM3MGIxYzRmN2Y5N2U2YmRjNjUwMWMxN2EwID0gTC5tYXJrZXIoCiAgICAgICAgICAgIFs0MC43MTk2ODA3ODYxMzI4MSwgLTczLjk4NzA1MjkxNzQ4MDQ4XSwKICAgICAgICAgICAgewogICAgICAgICAgICAgICAgaWNvbjogbmV3IEwuSWNvbi5EZWZhdWx0KCksCiAgICAgICAgICAgICAgICB9CiAgICAgICAgICAgICkuYWRkVG8obWFwXzI1NzJjYTMxMzA3MTQ5MzNhMGI1MzdkYWQ3YThmZmMxKTsKICAgICAgICAKICAgIAogICAgICAgIHZhciBtYXJrZXJfNWQ3MGE0YThhZjMxNDUzZWE0MmNkYjlkMGYyZDdmYjUgPSBMLm1hcmtlcigKICAgICAgICAgICAgWzQwLjcyMjY4Njc2NzU3ODEzLCAtNzQuMDA1Mjg3MTcwNDEwMTRdLAogICAgICAgICAgICB7CiAgICAgICAgICAgICAgICBpY29uOiBuZXcgTC5JY29uLkRlZmF1bHQoKSwKICAgICAgICAgICAgICAgIH0KICAgICAgICAgICAgKS5hZGRUbyhtYXBfMjU3MmNhMzEzMDcxNDkzM2EwYjUzN2RhZDdhOGZmYzEpOwogICAgICAgIAogICAgCiAgICAgICAgdmFyIG1hcmtlcl8xODk4MDkxZTJmYjk0Zjc5YjIwMDA1ZTcxMTU2YjBmOSA9IEwubWFya2VyKAogICAgICAgICAgICBbNDAuNzU1NzkwNzEwNDQ5MjIsIC03My45ODMzOTg0Mzc1XSwKICAgICAgICAgICAgewogICAgICAgICAgICAgICAgaWNvbjogbmV3IEwuSWNvbi5EZWZhdWx0KCksCiAgICAgICAgICAgICAgICB9CiAgICAgICAgICAgICkuYWRkVG8obWFwXzI1NzJjYTMxMzA3MTQ5MzNhMGI1MzdkYWQ3YThmZmMxKTsKICAgICAgICAKICAgIAogICAgICAgIHZhciBtYXJrZXJfODIxMDRkYjdhNmRiNDUyY2EyZjk5NGYwMmZhNDc3ODggPSBMLm1hcmtlcigKICAgICAgICAgICAgWzQwLjcyODYwNzE3NzczNDM3NSwgLTc0LjAwMjcxNjA2NDQ1MzEyXSwKICAgICAgICAgICAgewogICAgICAgICAgICAgICAgaWNvbjogbmV3IEwuSWNvbi5EZWZhdWx0KCksCiAgICAgICAgICAgICAgICB9CiAgICAgICAgICAgICkuYWRkVG8obWFwXzI1NzJjYTMxMzA3MTQ5MzNhMGI1MzdkYWQ3YThmZmMxKTsKICAgICAgICAKICAgIAogICAgICAgIHZhciBtYXJrZXJfODNlMTU5MjE0NmJlNDFhODkwNjQ3NTE5MDE2NDk2ZWUgPSBMLm1hcmtlcigKICAgICAgICAgICAgWzQwLjczODM5NTY5MDkxNzk3LCAtNzMuOTgwNTQ1MDQzOTQ1MzFdLAogICAgICAgICAgICB7CiAgICAgICAgICAgICAgICBpY29uOiBuZXcgTC5JY29uLkRlZmF1bHQoKSwKICAgICAgICAgICAgICAgIH0KICAgICAgICAgICAgKS5hZGRUbyhtYXBfMjU3MmNhMzEzMDcxNDkzM2EwYjUzN2RhZDdhOGZmYzEpOwogICAgICAgIAogICAgCiAgICAgICAgdmFyIG1hcmtlcl85OTJiZjllZTM5MjY0ZmNkYmU1MjliMjczNTIxNWExNiA9IEwubWFya2VyKAogICAgICAgICAgICBbNDAuNzU4NTU2MzY1OTY2OCwgLTczLjk2NTU2ODU0MjQ4MDQ4XSwKICAgICAgICAgICAgewogICAgICAgICAgICAgICAgaWNvbjogbmV3IEwuSWNvbi5EZWZhdWx0KCksCiAgICAgICAgICAgICAgICB9CiAgICAgICAgICAgICkuYWRkVG8obWFwXzI1NzJjYTMxMzA3MTQ5MzNhMGI1MzdkYWQ3YThmZmMxKTsKICAgICAgICAKICAgIAogICAgICAgIHZhciBtYXJrZXJfZWMyYmVhOTU0ODA3NDU5ZGIzMTBjNmJiYWY5ZDA2YzEgPSBMLm1hcmtlcigKICAgICAgICAgICAgWzQwLjcxNDgyODQ5MTIxMDk0LCAtNzQuMDE0OTY4ODcyMDcwM10sCiAgICAgICAgICAgIHsKICAgICAgICAgICAgICAgIGljb246IG5ldyBMLkljb24uRGVmYXVsdCgpLAogICAgICAgICAgICAgICAgfQogICAgICAgICAgICApLmFkZFRvKG1hcF8yNTcyY2EzMTMwNzE0OTMzYTBiNTM3ZGFkN2E4ZmZjMSk7CiAgICAgICAgCiAgICAKICAgICAgICB2YXIgbWFya2VyXzIyNmVlMTYyMzk5OTRhNTdhZTMxYTJiNzc3ZTgwM2M1ID0gTC5tYXJrZXIoCiAgICAgICAgICAgIFs0MC43ODQzOTMzMTA1NDY4OCwgLTczLjk1MzkxMDgyNzYzNjcyXSwKICAgICAgICAgICAgewogICAgICAgICAgICAgICAgaWNvbjogbmV3IEwuSWNvbi5EZWZhdWx0KCksCiAgICAgICAgICAgICAgICB9CiAgICAgICAgICAgICkuYWRkVG8obWFwXzI1NzJjYTMxMzA3MTQ5MzNhMGI1MzdkYWQ3YThmZmMxKTsKICAgICAgICAKICAgIAogICAgICAgIHZhciBtYXJrZXJfZjJiYWYwMjFjOTVkNDJkYzhkMDhkM2Y1YTVjOWQ4OGQgPSBMLm1hcmtlcigKICAgICAgICAgICAgWzQwLjY0NDYyNjYxNzQzMTY0LCAtNzMuNzgxOTIxMzg2NzE4NzVdLAogICAgICAgICAgICB7CiAgICAgICAgICAgICAgICBpY29uOiBuZXcgTC5JY29uLkRlZmF1bHQoKSwKICAgICAgICAgICAgICAgIH0KICAgICAgICAgICAgKS5hZGRUbyhtYXBfMjU3MmNhMzEzMDcxNDkzM2EwYjUzN2RhZDdhOGZmYzEpOwogICAgICAgIAogICAgCiAgICAgICAgdmFyIG1hcmtlcl9hZTZkNDRjZDI0MjQ0MjVlYjViZGEwYWIxNTBmOTNjYiA9IEwubWFya2VyKAogICAgICAgICAgICBbNDAuNzE1ODgxMzQ3NjU2MjUsIC03NC4wMTU3MDEyOTM5NDUzMV0sCiAgICAgICAgICAgIHsKICAgICAgICAgICAgICAgIGljb246IG5ldyBMLkljb24uRGVmYXVsdCgpLAogICAgICAgICAgICAgICAgfQogICAgICAgICAgICApLmFkZFRvKG1hcF8yNTcyY2EzMTMwNzE0OTMzYTBiNTM3ZGFkN2E4ZmZjMSk7CiAgICAgICAgCiAgICAKICAgICAgICB2YXIgbWFya2VyXzY0YmFkZTg2OWU1ODQ3MTNhOTk4ZjE3MjAxZTFmMWU4ID0gTC5tYXJrZXIoCiAgICAgICAgICAgIFs0MC43NjI4NDQwODU2OTMzNiwgLTczLjk2NTYyOTU3NzYzNjcyXSwKICAgICAgICAgICAgewogICAgICAgICAgICAgICAgaWNvbjogbmV3IEwuSWNvbi5EZWZhdWx0KCksCiAgICAgICAgICAgICAgICB9CiAgICAgICAgICAgICkuYWRkVG8obWFwXzI1NzJjYTMxMzA3MTQ5MzNhMGI1MzdkYWQ3YThmZmMxKTsKICAgICAgICAKICAgIAogICAgICAgIHZhciBtYXJrZXJfMmU4ZmMyNzYwYzAzNGVjN2JkYzUyYTQxZTQyYzhjMjIgPSBMLm1hcmtlcigKICAgICAgICAgICAgWzQwLjc1NjQ2MjA5NzE2Nzk3LCAtNzMuOTkwNDAyMjIxNjc5NjldLAogICAgICAgICAgICB7CiAgICAgICAgICAgICAgICBpY29uOiBuZXcgTC5JY29uLkRlZmF1bHQoKSwKICAgICAgICAgICAgICAgIH0KICAgICAgICAgICAgKS5hZGRUbyhtYXBfMjU3MmNhMzEzMDcxNDkzM2EwYjUzN2RhZDdhOGZmYzEpOwogICAgICAgIAogICAgCiAgICAgICAgdmFyIG1hcmtlcl85MGYyYzYzNWNlOTY0MTQ2YWE3NGM1YjQ2NjQwNTJkZiA9IEwubWFya2VyKAogICAgICAgICAgICBbNDAuNzY1NzIwMzY3NDMxNjQsIC03My45ODAyNzgwMTUxMzY3Ml0sCiAgICAgICAgICAgIHsKICAgICAgICAgICAgICAgIGljb246IG5ldyBMLkljb24uRGVmYXVsdCgpLAogICAgICAgICAgICAgICAgfQogICAgICAgICAgICApLmFkZFRvKG1hcF8yNTcyY2EzMTMwNzE0OTMzYTBiNTM3ZGFkN2E4ZmZjMSk7CiAgICAgICAgCiAgICAKICAgICAgICB2YXIgbWFya2VyXzAzNTI0YTM5MmUwZTQ4NzQ5NGQ0MTU4M2E1NGM5ZGIwID0gTC5tYXJrZXIoCiAgICAgICAgICAgIFs0MC43MzU5MzEzOTY0ODQzNzUsIC03My45OTc4MzMyNTE5NTMxMl0sCiAgICAgICAgICAgIHsKICAgICAgICAgICAgICAgIGljb246IG5ldyBMLkljb24uRGVmYXVsdCgpLAogICAgICAgICAgICAgICAgfQogICAgICAgICAgICApLmFkZFRvKG1hcF8yNTcyY2EzMTMwNzE0OTMzYTBiNTM3ZGFkN2E4ZmZjMSk7CiAgICAgICAgCiAgICAKICAgICAgICB2YXIgbWFya2VyXzZmNDQ5N2E4ZjM1MjRjZTM5ZjVkYTA2NGZjYmI4ZDYyID0gTC5tYXJrZXIoCiAgICAgICAgICAgIFs0MC43MDkwMDM0NDg0ODYzMywgLTc0LjAxNjkyMTk5NzA3MDNdLAogICAgICAgICAgICB7CiAgICAgICAgICAgICAgICBpY29uOiBuZXcgTC5JY29uLkRlZmF1bHQoKSwKICAgICAgICAgICAgICAgIH0KICAgICAgICAgICAgKS5hZGRUbyhtYXBfMjU3MmNhMzEzMDcxNDkzM2EwYjUzN2RhZDdhOGZmYzEpOwogICAgICAgIAogICAgCiAgICAgICAgdmFyIG1hcmtlcl8yNGQ3NjBiYmUzZGE0YTljYjQ4OTZjNmU0NjNiOTQ2OCA9IEwubWFya2VyKAogICAgICAgICAgICBbNDAuNzc2Njc2MTc3OTc4NTIsIC03My45NDg4MjIwMjE0ODQzOF0sCiAgICAgICAgICAgIHsKICAgICAgICAgICAgICAgIGljb246IG5ldyBMLkljb24uRGVmYXVsdCgpLAogICAgICAgICAgICAgICAgfQogICAgICAgICAgICApLmFkZFRvKG1hcF8yNTcyY2EzMTMwNzE0OTMzYTBiNTM3ZGFkN2E4ZmZjMSk7CiAgICAgICAgCiAgICAKICAgICAgICB2YXIgbWFya2VyX2FlZGY0ZGRmNzliYzRhZDA5NzlkZDM2ZGExMGZhZGNkID0gTC5tYXJrZXIoCiAgICAgICAgICAgIFs0MC43NjU1MjIwMDMxNzM4MywgLTczLjk3NjExOTk5NTExNzE5XSwKICAgICAgICAgICAgewogICAgICAgICAgICAgICAgaWNvbjogbmV3IEwuSWNvbi5EZWZhdWx0KCksCiAgICAgICAgICAgICAgICB9CiAgICAgICAgICAgICkuYWRkVG8obWFwXzI1NzJjYTMxMzA3MTQ5MzNhMGI1MzdkYWQ3YThmZmMxKTsKICAgICAgICAKICAgIAogICAgICAgIHZhciBtYXJrZXJfMzVkNTg4OGNlNzQwNDk5MTgxOWM3MGE2MjA0Zjg2NTUgPSBMLm1hcmtlcigKICAgICAgICAgICAgWzQwLjcyMDI4MzUwODMwMDc4LCAtNzMuOTg4ODY4NzEzMzc4OV0sCiAgICAgICAgICAgIHsKICAgICAgICAgICAgICAgIGljb246IG5ldyBMLkljb24uRGVmYXVsdCgpLAogICAgICAgICAgICAgICAgfQogICAgICAgICAgICApLmFkZFRvKG1hcF8yNTcyY2EzMTMwNzE0OTMzYTBiNTM3ZGFkN2E4ZmZjMSk7CiAgICAgICAgCiAgICAKICAgICAgICB2YXIgbWFya2VyXzQzMzZjNTYyYjhlODQ4MTBiZjAzYWEzMzQzZTllOTU4ID0gTC5tYXJrZXIoCiAgICAgICAgICAgIFs0MC43MTI5MzI1ODY2Njk5MiwgLTc0LjAwNzM4NTI1MzkwNjI1XSwKICAgICAgICAgICAgewogICAgICAgICAgICAgICAgaWNvbjogbmV3IEwuSWNvbi5EZWZhdWx0KCksCiAgICAgICAgICAgICAgICB9CiAgICAgICAgICAgICkuYWRkVG8obWFwXzI1NzJjYTMxMzA3MTQ5MzNhMGI1MzdkYWQ3YThmZmMxKTsKICAgICAgICAKICAgIAogICAgICAgIHZhciBtYXJrZXJfYTY3ZjZlMmRiMjI3NGFmODhjN2Y0MmI2YTcyNWRhYjMgPSBMLm1hcmtlcigKICAgICAgICAgICAgWzQwLjc3NjY1MzI4OTc5NDkyLCAtNzMuOTUyNjI5MDg5MzU1NDddLAogICAgICAgICAgICB7CiAgICAgICAgICAgICAgICBpY29uOiBuZXcgTC5JY29uLkRlZmF1bHQoKSwKICAgICAgICAgICAgICAgIH0KICAgICAgICAgICAgKS5hZGRUbyhtYXBfMjU3MmNhMzEzMDcxNDkzM2EwYjUzN2RhZDdhOGZmYzEpOwogICAgICAgIAogICAgCiAgICAgICAgdmFyIG1hcmtlcl8wYzE0MDU2NTkyMjY0NjAxOTVjY2E3ZGU0NWZhYmM3YSA9IEwubWFya2VyKAogICAgICAgICAgICBbNDAuNzU1Mzc4NzIzMTQ0NTMsIC03My45Nzc5NDM0MjA0MTAxNF0sCiAgICAgICAgICAgIHsKICAgICAgICAgICAgICAgIGljb246IG5ldyBMLkljb24uRGVmYXVsdCgpLAogICAgICAgICAgICAgICAgfQogICAgICAgICAgICApLmFkZFRvKG1hcF8yNTcyY2EzMTMwNzE0OTMzYTBiNTM3ZGFkN2E4ZmZjMSk7CiAgICAgICAgCiAgICAKICAgICAgICB2YXIgbWFya2VyXzAyYTYyMDFjZjMwMDQ3MGVhNDYyOWM1NmU0NmExZGEwID0gTC5tYXJrZXIoCiAgICAgICAgICAgIFs0MC43OTA5NTA3NzUxNDY0OCwgLTczLjk3MjU4NzU4NTQ0OTIzXSwKICAgICAgICAgICAgewogICAgICAgICAgICAgICAgaWNvbjogbmV3IEwuSWNvbi5EZWZhdWx0KCksCiAgICAgICAgICAgICAgICB9CiAgICAgICAgICAgICkuYWRkVG8obWFwXzI1NzJjYTMxMzA3MTQ5MzNhMGI1MzdkYWQ3YThmZmMxKTsKICAgICAgICAKICAgIAogICAgICAgIHZhciBtYXJrZXJfYzc4YjVkMDY0ZjQ3NDM1YWExMDhmM2I5MTNkZmQ0OGQgPSBMLm1hcmtlcigKICAgICAgICAgICAgWzQwLjc2OTgxMzUzNzU5NzY1NiwgLTczLjk4NDI1MjkyOTY4NzVdLAogICAgICAgICAgICB7CiAgICAgICAgICAgICAgICBpY29uOiBuZXcgTC5JY29uLkRlZmF1bHQoKSwKICAgICAgICAgICAgICAgIH0KICAgICAgICAgICAgKS5hZGRUbyhtYXBfMjU3MmNhMzEzMDcxNDkzM2EwYjUzN2RhZDdhOGZmYzEpOwogICAgICAgIAogICAgCiAgICAgICAgdmFyIG1hcmtlcl8yYzQwMGQwODhiNTc0NGFlYmRhZWNmYTM3ZjU2ZjlhYiA9IEwubWFya2VyKAogICAgICAgICAgICBbNDAuNzQwNzY4NDMyNjE3MTksIC03My45ODU5NzcxNzI4NTE1NV0sCiAgICAgICAgICAgIHsKICAgICAgICAgICAgICAgIGljb246IG5ldyBMLkljb24uRGVmYXVsdCgpLAogICAgICAgICAgICAgICAgfQogICAgICAgICAgICApLmFkZFRvKG1hcF8yNTcyY2EzMTMwNzE0OTMzYTBiNTM3ZGFkN2E4ZmZjMSk7CiAgICAgICAgCiAgICAKICAgICAgICB2YXIgbWFya2VyXzMxNmNjMzE1MDk3ZTRhY2ZiZTY3NTcxZDI1NmUwODA0ID0gTC5tYXJrZXIoCiAgICAgICAgICAgIFs0MC43NTk2OTY5NjA0NDkyMiwgLTczLjk2NTk3MjkwMDM5MDYyXSwKICAgICAgICAgICAgewogICAgICAgICAgICAgICAgaWNvbjogbmV3IEwuSWNvbi5EZWZhdWx0KCksCiAgICAgICAgICAgICAgICB9CiAgICAgICAgICAgICkuYWRkVG8obWFwXzI1NzJjYTMxMzA3MTQ5MzNhMGI1MzdkYWQ3YThmZmMxKTsKICAgICAgICAKICAgIAogICAgICAgIHZhciBtYXJrZXJfYWUyYWViODMwMDVlNDE4OWJjNjBlZDI2OGY0MzA1OGUgPSBMLm1hcmtlcigKICAgICAgICAgICAgWzQwLjc3MDI0NDU5ODM4ODY3LCAtNzMuOTU1NzE4OTk0MTQwNjJdLAogICAgICAgICAgICB7CiAgICAgICAgICAgICAgICBpY29uOiBuZXcgTC5JY29uLkRlZmF1bHQoKSwKICAgICAgICAgICAgICAgIH0KICAgICAgICAgICAgKS5hZGRUbyhtYXBfMjU3MmNhMzEzMDcxNDkzM2EwYjUzN2RhZDdhOGZmYzEpOwogICAgICAgIAogICAgCiAgICAgICAgdmFyIG1hcmtlcl9jMDI3MjIyZTE2YjE0YjI1YWQ2YjExMjJjOWM4OWQ0ZSA9IEwubWFya2VyKAogICAgICAgICAgICBbNDAuNzU4MjYyNjM0Mjc3MzQ0LCAtNzMuOTkyNzkwMjIyMTY3OThdLAogICAgICAgICAgICB7CiAgICAgICAgICAgICAgICBpY29uOiBuZXcgTC5JY29uLkRlZmF1bHQoKSwKICAgICAgICAgICAgICAgIH0KICAgICAgICAgICAgKS5hZGRUbyhtYXBfMjU3MmNhMzEzMDcxNDkzM2EwYjUzN2RhZDdhOGZmYzEpOwogICAgICAgIAogICAgCiAgICAgICAgdmFyIG1hcmtlcl9hOTcxMTdhOTZjMGY0MDk3YjcwY2I1ZDNiMTI2MzBlMiA9IEwubWFya2VyKAogICAgICAgICAgICBbNDAuNzA0ODc5NzYwNzQyMTksIC03My45OTQ2MzY1MzU2NDQ1M10sCiAgICAgICAgICAgIHsKICAgICAgICAgICAgICAgIGljb246IG5ldyBMLkljb24uRGVmYXVsdCgpLAogICAgICAgICAgICAgICAgfQogICAgICAgICAgICApLmFkZFRvKG1hcF8yNTcyY2EzMTMwNzE0OTMzYTBiNTM3ZGFkN2E4ZmZjMSk7CiAgICAgICAgCiAgICAKICAgICAgICB2YXIgbWFya2VyXzcwOGE1MTZmZDg4YzRiOWZiMjBiNjQwODRjYjgxNDkxID0gTC5tYXJrZXIoCiAgICAgICAgICAgIFs0MC43NzY1MjM1OTAwODc4OSwgLTczLjk2MDA4MzAwNzgxMjVdLAogICAgICAgICAgICB7CiAgICAgICAgICAgICAgICBpY29uOiBuZXcgTC5JY29uLkRlZmF1bHQoKSwKICAgICAgICAgICAgICAgIH0KICAgICAgICAgICAgKS5hZGRUbyhtYXBfMjU3MmNhMzEzMDcxNDkzM2EwYjUzN2RhZDdhOGZmYzEpOwogICAgICAgIAogICAgCiAgICAgICAgdmFyIG1hcmtlcl9hZmMzMjFkOTA0Yjc0NmQ2OGMxMmVjOGYzNDBmNzYzYSA9IEwubWFya2VyKAogICAgICAgICAgICBbNDAuNzY5OTU4NDk2MDkzNzUsIC03My44NjMyODg4NzkzOTQ1M10sCiAgICAgICAgICAgIHsKICAgICAgICAgICAgICAgIGljb246IG5ldyBMLkljb24uRGVmYXVsdCgpLAogICAgICAgICAgICAgICAgfQogICAgICAgICAgICApLmFkZFRvKG1hcF8yNTcyY2EzMTMwNzE0OTMzYTBiNTM3ZGFkN2E4ZmZjMSk7CiAgICAgICAgCiAgICAKICAgICAgICB2YXIgbWFya2VyXzIxMTg1ZDg4N2VlMDQwNzQ4ZjI1NTA2ZmQwZjgyYzRmID0gTC5tYXJrZXIoCiAgICAgICAgICAgIFs0MC43NjY3MzEyNjIyMDcwMywgLTczLjk2Mjc2ODU1NDY4NzVdLAogICAgICAgICAgICB7CiAgICAgICAgICAgICAgICBpY29uOiBuZXcgTC5JY29uLkRlZmF1bHQoKSwKICAgICAgICAgICAgICAgIH0KICAgICAgICAgICAgKS5hZGRUbyhtYXBfMjU3MmNhMzEzMDcxNDkzM2EwYjUzN2RhZDdhOGZmYzEpOwogICAgICAgIAogICAgCiAgICAgICAgdmFyIG1hcmtlcl85M2U3YTlhZmM3YmI0MjI3YWU1ZDRiMjczMGEzMzhiYyA9IEwubWFya2VyKAogICAgICAgICAgICBbNDAuNzUyNzA4NDM1MDU4NTk0LCAtNzMuOTg5MzY0NjI0MDIzNDJdLAogICAgICAgICAgICB7CiAgICAgICAgICAgICAgICBpY29uOiBuZXcgTC5JY29uLkRlZmF1bHQoKSwKICAgICAgICAgICAgICAgIH0KICAgICAgICAgICAgKS5hZGRUbyhtYXBfMjU3MmNhMzEzMDcxNDkzM2EwYjUzN2RhZDdhOGZmYzEpOwogICAgICAgIAogICAgCiAgICAgICAgdmFyIG1hcmtlcl81N2M2Y2M2ZDdlMTc0Yjc2YTdiNTJiYmZkNzQxODYyMyA9IEwubWFya2VyKAogICAgICAgICAgICBbNDAuNzUyMDEwMzQ1NDU4OTgsIC03NC4wMDQzMTA2MDc5MTAxNF0sCiAgICAgICAgICAgIHsKICAgICAgICAgICAgICAgIGljb246IG5ldyBMLkljb24uRGVmYXVsdCgpLAogICAgICAgICAgICAgICAgfQogICAgICAgICAgICApLmFkZFRvKG1hcF8yNTcyY2EzMTMwNzE0OTMzYTBiNTM3ZGFkN2E4ZmZjMSk7CiAgICAgICAgCiAgICAKICAgICAgICB2YXIgbWFya2VyX2U0MzMxMzk0YjBmMjRkM2NhOTZjZTAwN2M5NTM2NWNmID0gTC5tYXJrZXIoCiAgICAgICAgICAgIFs0MC43NDk3NzExMTgxNjQwNiwgLTczLjk5NTE0NzcwNTA3ODExXSwKICAgICAgICAgICAgewogICAgICAgICAgICAgICAgaWNvbjogbmV3IEwuSWNvbi5EZWZhdWx0KCksCiAgICAgICAgICAgICAgICB9CiAgICAgICAgICAgICkuYWRkVG8obWFwXzI1NzJjYTMxMzA3MTQ5MzNhMGI1MzdkYWQ3YThmZmMxKTsKICAgICAgICAKICAgIAogICAgICAgIHZhciBtYXJrZXJfOTRhYmE0MjQ0OTIwNDgzNjgxZmM0NWNhNmJjZjk3ZmUgPSBMLm1hcmtlcigKICAgICAgICAgICAgWzQwLjc1MjM0MjIyNDEyMTA5NCwgLTczLjk4OTY4NTA1ODU5Mzc1XSwKICAgICAgICAgICAgewogICAgICAgICAgICAgICAgaWNvbjogbmV3IEwuSWNvbi5EZWZhdWx0KCksCiAgICAgICAgICAgICAgICB9CiAgICAgICAgICAgICkuYWRkVG8obWFwXzI1NzJjYTMxMzA3MTQ5MzNhMGI1MzdkYWQ3YThmZmMxKTsKICAgICAgICAKICAgIAogICAgICAgIHZhciBtYXJrZXJfN2Q1MDYwNjVjZjMyNGI3NjkxZmQ4M2VjYTRiNzA1ZDggPSBMLm1hcmtlcigKICAgICAgICAgICAgWzQwLjc1NDA1MTIwODQ5NjA5NCwgLTczLjk4NzYwOTg2MzI4MTI1XSwKICAgICAgICAgICAgewogICAgICAgICAgICAgICAgaWNvbjogbmV3IEwuSWNvbi5EZWZhdWx0KCksCiAgICAgICAgICAgICAgICB9CiAgICAgICAgICAgICkuYWRkVG8obWFwXzI1NzJjYTMxMzA3MTQ5MzNhMGI1MzdkYWQ3YThmZmMxKTsKICAgICAgICAKICAgIAogICAgICAgIHZhciBtYXJrZXJfNzc5Y2E4ODM3ZjBhNDFjMGJlODRkZmZiZDU3NGUzZjMgPSBMLm1hcmtlcigKICAgICAgICAgICAgWzQwLjc5MTk3MzExNDAxMzY3LCAtNzMuOTY3OTE4Mzk1OTk2MV0sCiAgICAgICAgICAgIHsKICAgICAgICAgICAgICAgIGljb246IG5ldyBMLkljb24uRGVmYXVsdCgpLAogICAgICAgICAgICAgICAgfQogICAgICAgICAgICApLmFkZFRvKG1hcF8yNTcyY2EzMTMwNzE0OTMzYTBiNTM3ZGFkN2E4ZmZjMSk7CiAgICAgICAgCiAgICAKICAgICAgICB2YXIgbWFya2VyXzFjZmQxYTgyMDdkNTQ4YTI4MmE0NWExNjlmMDAzNjAzID0gTC5tYXJrZXIoCiAgICAgICAgICAgIFs0MC43NDIyOTgxMjYyMjA3LCAtNzQuMDAwODAxMDg2NDI1NzhdLAogICAgICAgICAgICB7CiAgICAgICAgICAgICAgICBpY29uOiBuZXcgTC5JY29uLkRlZmF1bHQoKSwKICAgICAgICAgICAgICAgIH0KICAgICAgICAgICAgKS5hZGRUbyhtYXBfMjU3MmNhMzEzMDcxNDkzM2EwYjUzN2RhZDdhOGZmYzEpOwogICAgICAgIAogICAgCiAgICAgICAgdmFyIG1hcmtlcl9hMzk3ZGFmMmUwMjk0YzhmYmJmY2MxYjg3NjFmYTVjZiA9IEwubWFya2VyKAogICAgICAgICAgICBbNDAuNzY0Mzk2NjY3NDgwNDcsIC03My45NTg0NTAzMTczODI4MV0sCiAgICAgICAgICAgIHsKICAgICAgICAgICAgICAgIGljb246IG5ldyBMLkljb24uRGVmYXVsdCgpLAogICAgICAgICAgICAgICAgfQogICAgICAgICAgICApLmFkZFRvKG1hcF8yNTcyY2EzMTMwNzE0OTMzYTBiNTM3ZGFkN2E4ZmZjMSk7CiAgICAgICAgCiAgICAKICAgICAgICB2YXIgbWFya2VyX2IxYmRjOGMyNzA1NDQ1OTg5MDZiNWU1ZjI1NjNhZDQyID0gTC5tYXJrZXIoCiAgICAgICAgICAgIFs0MC43NTIwMjk0MTg5NDUzMSwgLTczLjk3OTg5NjU0NTQxMDE0XSwKICAgICAgICAgICAgewogICAgICAgICAgICAgICAgaWNvbjogbmV3IEwuSWNvbi5EZWZhdWx0KCksCiAgICAgICAgICAgICAgICB9CiAgICAgICAgICAgICkuYWRkVG8obWFwXzI1NzJjYTMxMzA3MTQ5MzNhMGI1MzdkYWQ3YThmZmMxKTsKICAgICAgICAKICAgIAogICAgICAgIHZhciBtYXJrZXJfMDc0NjlkYzE5YWEwNDgwM2I1YWRkZGQxMzNhZmFlYjEgPSBMLm1hcmtlcigKICAgICAgICAgICAgWzQwLjgyMDI1MTQ2NDg0Mzc1LCAtNzMuOTU1MTMxNTMwNzYxNzNdLAogICAgICAgICAgICB7CiAgICAgICAgICAgICAgICBpY29uOiBuZXcgTC5JY29uLkRlZmF1bHQoKSwKICAgICAgICAgICAgICAgIH0KICAgICAgICAgICAgKS5hZGRUbyhtYXBfMjU3MmNhMzEzMDcxNDkzM2EwYjUzN2RhZDdhOGZmYzEpOwogICAgICAgIAogICAgCiAgICAgICAgdmFyIG1hcmtlcl84MzlhOWUxNTVhNTg0YWUxYmMwMWJlOTE1NjFlMGRlMCA9IEwubWFya2VyKAogICAgICAgICAgICBbNDAuNzI2MTczNDAwODc4OTA2LCAtNzQuMDAwNzQwMDUxMjY5NTVdLAogICAgICAgICAgICB7CiAgICAgICAgICAgICAgICBpY29uOiBuZXcgTC5JY29uLkRlZmF1bHQoKSwKICAgICAgICAgICAgICAgIH0KICAgICAgICAgICAgKS5hZGRUbyhtYXBfMjU3MmNhMzEzMDcxNDkzM2EwYjUzN2RhZDdhOGZmYzEpOwogICAgICAgIAogICAgCiAgICAgICAgdmFyIG1hcmtlcl85ZjBmYmI2YzNmZWY0MTA0OTIyMTg0YmNlOTcyZmZjYiA9IEwubWFya2VyKAogICAgICAgICAgICBbNDAuNzczMzg3OTA4OTM1NTUsIC03My45NTQ5MDI2NDg5MjU3OF0sCiAgICAgICAgICAgIHsKICAgICAgICAgICAgICAgIGljb246IG5ldyBMLkljb24uRGVmYXVsdCgpLAogICAgICAgICAgICAgICAgfQogICAgICAgICAgICApLmFkZFRvKG1hcF8yNTcyY2EzMTMwNzE0OTMzYTBiNTM3ZGFkN2E4ZmZjMSk7CiAgICAgICAgCiAgICAKICAgICAgICB2YXIgbWFya2VyXzdlYjU0OWQ3MTIwOTRlYWZiNzA3ZGI5ZTU3ZjMyNDA3ID0gTC5tYXJrZXIoCiAgICAgICAgICAgIFs0MC43NDQ3ODE0OTQxNDA2MywgLTczLjk4NzQ0MjAxNjYwMTU2XSwKICAgICAgICAgICAgewogICAgICAgICAgICAgICAgaWNvbjogbmV3IEwuSWNvbi5EZWZhdWx0KCksCiAgICAgICAgICAgICAgICB9CiAgICAgICAgICAgICkuYWRkVG8obWFwXzI1NzJjYTMxMzA3MTQ5MzNhMGI1MzdkYWQ3YThmZmMxKTsKICAgICAgICAKICAgIAogICAgICAgIHZhciBtYXJrZXJfOTkzMDc2YmZlOGEzNDI5Mzk3YTQyYjM5OGRmMzU1OWQgPSBMLm1hcmtlcigKICAgICAgICAgICAgWzQwLjc3NjI3OTQ0OTQ2Mjg5LCAtNzMuOTU3OTY5NjY1NTI3MzRdLAogICAgICAgICAgICB7CiAgICAgICAgICAgICAgICBpY29uOiBuZXcgTC5JY29uLkRlZmF1bHQoKSwKICAgICAgICAgICAgICAgIH0KICAgICAgICAgICAgKS5hZGRUbyhtYXBfMjU3MmNhMzEzMDcxNDkzM2EwYjUzN2RhZDdhOGZmYzEpOwogICAgICAgIAogICAgCiAgICAgICAgdmFyIG1hcmtlcl9lNmJiMWQxZTM1NzM0MjkzOWI5OWY4NTExNWMwYmMzYSA9IEwubWFya2VyKAogICAgICAgICAgICBbNDAuNzE3NDQ5MTg4MjMyNDE1LCAtNzQuMDEwNjczNTIyOTQ5MjNdLAogICAgICAgICAgICB7CiAgICAgICAgICAgICAgICBpY29uOiBuZXcgTC5JY29uLkRlZmF1bHQoKSwKICAgICAgICAgICAgICAgIH0KICAgICAgICAgICAgKS5hZGRUbyhtYXBfMjU3MmNhMzEzMDcxNDkzM2EwYjUzN2RhZDdhOGZmYzEpOwogICAgICAgIAogICAgCiAgICAgICAgdmFyIG1hcmtlcl9iNDQ4ZmQ1MmZlMWE0YjcyYTBhYTk2NGYzN2YzZGYyNyA9IEwubWFya2VyKAogICAgICAgICAgICBbNDAuNzI5NTY4NDgxNDQ1MzEsIC03NC4wMDIzMTE3MDY1NDI5OF0sCiAgICAgICAgICAgIHsKICAgICAgICAgICAgICAgIGljb246IG5ldyBMLkljb24uRGVmYXVsdCgpLAogICAgICAgICAgICAgICAgfQogICAgICAgICAgICApLmFkZFRvKG1hcF8yNTcyY2EzMTMwNzE0OTMzYTBiNTM3ZGFkN2E4ZmZjMSk7CiAgICAgICAgCiAgICAKICAgICAgICB2YXIgbWFya2VyX2Q2Yjk2ZTcwYzVjYTRiZDhhYjYxOTc0NWE1MWUwMWZmID0gTC5tYXJrZXIoCiAgICAgICAgICAgIFs0MC43NDEyNTI4OTkxNjk5MiwgLTczLjk4MTI4NTA5NTIxNDg0XSwKICAgICAgICAgICAgewogICAgICAgICAgICAgICAgaWNvbjogbmV3IEwuSWNvbi5EZWZhdWx0KCksCiAgICAgICAgICAgICAgICB9CiAgICAgICAgICAgICkuYWRkVG8obWFwXzI1NzJjYTMxMzA3MTQ5MzNhMGI1MzdkYWQ3YThmZmMxKTsKICAgICAgICAKICAgIAogICAgICAgIHZhciBtYXJrZXJfNTU0MzJhOTJhMThjNGNjM2IwZTlmODNjZjRlZDJiZjcgPSBMLm1hcmtlcigKICAgICAgICAgICAgWzQwLjczMjU3NDQ2Mjg5MDYzLCAtNzMuOTkxMzMzMDA3ODEyNV0sCiAgICAgICAgICAgIHsKICAgICAgICAgICAgICAgIGljb246IG5ldyBMLkljb24uRGVmYXVsdCgpLAogICAgICAgICAgICAgICAgfQogICAgICAgICAgICApLmFkZFRvKG1hcF8yNTcyY2EzMTMwNzE0OTMzYTBiNTM3ZGFkN2E4ZmZjMSk7CiAgICAgICAgCiAgICAKICAgICAgICB2YXIgbWFya2VyXzhmOGZjYTA2ZDQxMjRjNjQ5ZGRmZGYwMmYxZDUyMWRjID0gTC5tYXJrZXIoCiAgICAgICAgICAgIFs0MC43NTIyOTY0NDc3NTM5MDYsIC03My45NzgwODA3NDk1MTE3M10sCiAgICAgICAgICAgIHsKICAgICAgICAgICAgICAgIGljb246IG5ldyBMLkljb24uRGVmYXVsdCgpLAogICAgICAgICAgICAgICAgfQogICAgICAgICAgICApLmFkZFRvKG1hcF8yNTcyY2EzMTMwNzE0OTMzYTBiNTM3ZGFkN2E4ZmZjMSk7CiAgICAgICAgCiAgICAKICAgICAgICB2YXIgbWFya2VyX2MzYWVlMTE3Nzc4YzQ5MjJhMTFjYjNjNjJlMDI2M2ZhID0gTC5tYXJrZXIoCiAgICAgICAgICAgIFs0MC43NTcwMTkwNDI5Njg3NSwgLTczLjk2NDAyNzQwNDc4NTE2XSwKICAgICAgICAgICAgewogICAgICAgICAgICAgICAgaWNvbjogbmV3IEwuSWNvbi5EZWZhdWx0KCksCiAgICAgICAgICAgICAgICB9CiAgICAgICAgICAgICkuYWRkVG8obWFwXzI1NzJjYTMxMzA3MTQ5MzNhMGI1MzdkYWQ3YThmZmMxKTsKICAgICAgICAKICAgIAogICAgICAgIHZhciBtYXJrZXJfNjc1OGMwZTIzZWVmNGJlNGE1MzNhYWIwNzA2MDA0NjkgPSBMLm1hcmtlcigKICAgICAgICAgICAgWzQwLjc1NjgwNTQxOTkyMTg4LCAtNzMuOTY3MjE2NDkxNjk5MjNdLAogICAgICAgICAgICB7CiAgICAgICAgICAgICAgICBpY29uOiBuZXcgTC5JY29uLkRlZmF1bHQoKSwKICAgICAgICAgICAgICAgIH0KICAgICAgICAgICAgKS5hZGRUbyhtYXBfMjU3MmNhMzEzMDcxNDkzM2EwYjUzN2RhZDdhOGZmYzEpOwogICAgICAgIAogICAgCiAgICAgICAgdmFyIG1hcmtlcl81MWE1Y2YzMTBkMmI0NDc1OTZjODA3ZDgzMTA4MTZlYiA9IEwubWFya2VyKAogICAgICAgICAgICBbNDAuNzY4Mzg2ODQwODIwMzEsIC03My44OTU1MTU0NDE4OTQ1M10sCiAgICAgICAgICAgIHsKICAgICAgICAgICAgICAgIGljb246IG5ldyBMLkljb24uRGVmYXVsdCgpLAogICAgICAgICAgICAgICAgfQogICAgICAgICAgICApLmFkZFRvKG1hcF8yNTcyY2EzMTMwNzE0OTMzYTBiNTM3ZGFkN2E4ZmZjMSk7CiAgICAgICAgCiAgICAKICAgICAgICB2YXIgbWFya2VyX2I2YzVkNDVkYTVkZDRmMzViOTE2ZTAxNGUxNWE2ZGE0ID0gTC5tYXJrZXIoCiAgICAgICAgICAgIFs0MC43NzQwMzI1OTI3NzM0NCwgLTczLjk4ODg1MzQ1NDU4OTg0XSwKICAgICAgICAgICAgewogICAgICAgICAgICAgICAgaWNvbjogbmV3IEwuSWNvbi5EZWZhdWx0KCksCiAgICAgICAgICAgICAgICB9CiAgICAgICAgICAgICkuYWRkVG8obWFwXzI1NzJjYTMxMzA3MTQ5MzNhMGI1MzdkYWQ3YThmZmMxKTsKICAgICAgICAKICAgIAogICAgICAgIHZhciBtYXJrZXJfZjM3NzBjYjI3NDgxNGQzMWIxNzJkNzA1NmYwNWJkM2MgPSBMLm1hcmtlcigKICAgICAgICAgICAgWzQwLjczODQ5ODY4Nzc0NDE1LCAtNzMuOTg1NDEyNTk3NjU2MjVdLAogICAgICAgICAgICB7CiAgICAgICAgICAgICAgICBpY29uOiBuZXcgTC5JY29uLkRlZmF1bHQoKSwKICAgICAgICAgICAgICAgIH0KICAgICAgICAgICAgKS5hZGRUbyhtYXBfMjU3MmNhMzEzMDcxNDkzM2EwYjUzN2RhZDdhOGZmYzEpOwogICAgICAgIAogICAgCiAgICAgICAgdmFyIG1hcmtlcl9kZDU3ZmJkZGFhYjg0MGUwOTllMDQzZmM2NjBiNjY3YiA9IEwubWFya2VyKAogICAgICAgICAgICBbNDAuNzc0NDkwMzU2NDQ1MzEsIC03My45NTQyMzg4OTE2MDE1Nl0sCiAgICAgICAgICAgIHsKICAgICAgICAgICAgICAgIGljb246IG5ldyBMLkljb24uRGVmYXVsdCgpLAogICAgICAgICAgICAgICAgfQogICAgICAgICAgICApLmFkZFRvKG1hcF8yNTcyY2EzMTMwNzE0OTMzYTBiNTM3ZGFkN2E4ZmZjMSk7CiAgICAgICAgCiAgICAKICAgICAgICB2YXIgbWFya2VyX2FmNDlhYmY4ZjdmMTRjN2FhY2IwY2ZmMDk3ZDA0MmRlID0gTC5tYXJrZXIoCiAgICAgICAgICAgIFs0MC43MzA0MzgyMzI0MjE4OCwgLTczLjk4NjI0NDIwMTY2MDE0XSwKICAgICAgICAgICAgewogICAgICAgICAgICAgICAgaWNvbjogbmV3IEwuSWNvbi5EZWZhdWx0KCksCiAgICAgICAgICAgICAgICB9CiAgICAgICAgICAgICkuYWRkVG8obWFwXzI1NzJjYTMxMzA3MTQ5MzNhMGI1MzdkYWQ3YThmZmMxKTsKICAgICAgICAKICAgIAogICAgICAgIHZhciBtYXJrZXJfMzQ1YzIxMjJiYmQyNGFiNThhZTZmZDBlMGRmNWUwZWYgPSBMLm1hcmtlcigKICAgICAgICAgICAgWzQwLjc2NzYyMzkwMTM2NzE5LCAtNzMuOTg5Nzc2NjExMzI4MTJdLAogICAgICAgICAgICB7CiAgICAgICAgICAgICAgICBpY29uOiBuZXcgTC5JY29uLkRlZmF1bHQoKSwKICAgICAgICAgICAgICAgIH0KICAgICAgICAgICAgKS5hZGRUbyhtYXBfMjU3MmNhMzEzMDcxNDkzM2EwYjUzN2RhZDdhOGZmYzEpOwogICAgICAgIAogICAgCiAgICAgICAgdmFyIG1hcmtlcl9mNDkzMGQyNzQ4NzI0NDFmYTRhMTQxZmNkMzY5MDhiNyA9IEwubWFya2VyKAogICAgICAgICAgICBbNDAuNzUzNDc1MTg5MjA4OTgsIC03My45OTAxMjc1NjM0NzY1Nl0sCiAgICAgICAgICAgIHsKICAgICAgICAgICAgICAgIGljb246IG5ldyBMLkljb24uRGVmYXVsdCgpLAogICAgICAgICAgICAgICAgfQogICAgICAgICAgICApLmFkZFRvKG1hcF8yNTcyY2EzMTMwNzE0OTMzYTBiNTM3ZGFkN2E4ZmZjMSk7CiAgICAgICAgCiAgICAKICAgICAgICB2YXIgbWFya2VyXzJjYmFkNmJmNzI3ODQxOTdhOWU0OGZhNzRjMTFkNTEwID0gTC5tYXJrZXIoCiAgICAgICAgICAgIFs0MC43ODM0MDkxMTg2NTIzNCwgLTczLjk4MDI0NzQ5NzU1ODZdLAogICAgICAgICAgICB7CiAgICAgICAgICAgICAgICBpY29uOiBuZXcgTC5JY29uLkRlZmF1bHQoKSwKICAgICAgICAgICAgICAgIH0KICAgICAgICAgICAgKS5hZGRUbyhtYXBfMjU3MmNhMzEzMDcxNDkzM2EwYjUzN2RhZDdhOGZmYzEpOwogICAgICAgIAogICAgCiAgICAgICAgdmFyIG1hcmtlcl85NTk3ZjgxNTQ1OGI0NGJlYWNiMzYxYzIxM2Q3ZGFiZiA9IEwubWFya2VyKAogICAgICAgICAgICBbNDAuODEzNTI2MTUzNTY0NDUsIC03My45MzcwOTU2NDIwODk4NF0sCiAgICAgICAgICAgIHsKICAgICAgICAgICAgICAgIGljb246IG5ldyBMLkljb24uRGVmYXVsdCgpLAogICAgICAgICAgICAgICAgfQogICAgICAgICAgICApLmFkZFRvKG1hcF8yNTcyY2EzMTMwNzE0OTMzYTBiNTM3ZGFkN2E4ZmZjMSk7CiAgICAgICAgCiAgICAKICAgICAgICB2YXIgbWFya2VyXzgzZDNlODc0ODI5ZjRmMTVhOGI2NWY2MGZhN2Q3ODNiID0gTC5tYXJrZXIoCiAgICAgICAgICAgIFs0MC42NjQxMjM1MzUxNTYyNSwgLTczLjg3NzIxMjUyNDQxNDA2XSwKICAgICAgICAgICAgewogICAgICAgICAgICAgICAgaWNvbjogbmV3IEwuSWNvbi5EZWZhdWx0KCksCiAgICAgICAgICAgICAgICB9CiAgICAgICAgICAgICkuYWRkVG8obWFwXzI1NzJjYTMxMzA3MTQ5MzNhMGI1MzdkYWQ3YThmZmMxKTsKICAgICAgICAKICAgIAogICAgICAgIHZhciBtYXJrZXJfNGEzZjMxN2Q0ZWEwNGUxNzg0Nzk3NjE2MjlkMWUyNTQgPSBMLm1hcmtlcigKICAgICAgICAgICAgWzQwLjc0MjUxOTM3ODY2MjEsIC03NC4wMDAzOTY3Mjg1MTU2Ml0sCiAgICAgICAgICAgIHsKICAgICAgICAgICAgICAgIGljb246IG5ldyBMLkljb24uRGVmYXVsdCgpLAogICAgICAgICAgICAgICAgfQogICAgICAgICAgICApLmFkZFRvKG1hcF8yNTcyY2EzMTMwNzE0OTMzYTBiNTM3ZGFkN2E4ZmZjMSk7CiAgICAgICAgCiAgICAKICAgICAgICB2YXIgbWFya2VyX2Q1MTEwN2Y1ZDJmZjQwMjliNDM3ZWY2MjY1MzA5YTEyID0gTC5tYXJrZXIoCiAgICAgICAgICAgIFs0MC43NDA4NTk5ODUzNTE1NiwgLTczLjk5NDE3ODc3MTk3MjY2XSwKICAgICAgICAgICAgewogICAgICAgICAgICAgICAgaWNvbjogbmV3IEwuSWNvbi5EZWZhdWx0KCksCiAgICAgICAgICAgICAgICB9CiAgICAgICAgICAgICkuYWRkVG8obWFwXzI1NzJjYTMxMzA3MTQ5MzNhMGI1MzdkYWQ3YThmZmMxKTsKICAgICAgICAKICAgIAogICAgICAgIHZhciBtYXJrZXJfYmNmMTgyN2FkYThlNDc4Mzg4MGI4NDhmZjU5YjY4ZmUgPSBMLm1hcmtlcigKICAgICAgICAgICAgWzQwLjgwNDI2MDI1MzkwNjI1LCAtNzMuOTU1NTk2OTIzODI4MTJdLAogICAgICAgICAgICB7CiAgICAgICAgICAgICAgICBpY29uOiBuZXcgTC5JY29uLkRlZmF1bHQoKSwKICAgICAgICAgICAgICAgIH0KICAgICAgICAgICAgKS5hZGRUbyhtYXBfMjU3MmNhMzEzMDcxNDkzM2EwYjUzN2RhZDdhOGZmYzEpOwogICAgICAgIAogICAgCiAgICAgICAgdmFyIG1hcmtlcl83NzRiYTZjMjdhMWU0YjQzYWRiNzY3YjkwYjI0OTFmMiA9IEwubWFya2VyKAogICAgICAgICAgICBbNDAuNzUwNzg5NjQyMzMzOTg0LCAtNzMuOTc3NjYxMTMyODEyNV0sCiAgICAgICAgICAgIHsKICAgICAgICAgICAgICAgIGljb246IG5ldyBMLkljb24uRGVmYXVsdCgpLAogICAgICAgICAgICAgICAgfQogICAgICAgICAgICApLmFkZFRvKG1hcF8yNTcyY2EzMTMwNzE0OTMzYTBiNTM3ZGFkN2E4ZmZjMSk7CiAgICAgICAgCiAgICAKICAgICAgICB2YXIgbWFya2VyXzk4ZWZiZjQwZDg3NTQwZDY4MmIyZmU4MjUwNzZmMjk3ID0gTC5tYXJrZXIoCiAgICAgICAgICAgIFs0MC43NjEyNTMzNTY5MzM2LCAtNzMuOTU5OTM4MDQ5MzE2NF0sCiAgICAgICAgICAgIHsKICAgICAgICAgICAgICAgIGljb246IG5ldyBMLkljb24uRGVmYXVsdCgpLAogICAgICAgICAgICAgICAgfQogICAgICAgICAgICApLmFkZFRvKG1hcF8yNTcyY2EzMTMwNzE0OTMzYTBiNTM3ZGFkN2E4ZmZjMSk7CiAgICAgICAgCiAgICAKICAgICAgICB2YXIgbWFya2VyX2RjOTFlMzZlZDc2MjQyZWNhMTRhOWJkZDM4OTkwYjg1ID0gTC5tYXJrZXIoCiAgICAgICAgICAgIFs0MC43Nzg3NTUxODc5ODgyOCwgLTczLjk0NTE1MjI4MjcxNDg0XSwKICAgICAgICAgICAgewogICAgICAgICAgICAgICAgaWNvbjogbmV3IEwuSWNvbi5EZWZhdWx0KCksCiAgICAgICAgICAgICAgICB9CiAgICAgICAgICAgICkuYWRkVG8obWFwXzI1NzJjYTMxMzA3MTQ5MzNhMGI1MzdkYWQ3YThmZmMxKTsKICAgICAgICAKICAgIAogICAgICAgIHZhciBtYXJrZXJfMTk0OGM0ZjlkYjNjNDZmZjk0NDcyZmNmYTI3ZTI2NzcgPSBMLm1hcmtlcigKICAgICAgICAgICAgWzQwLjc4MDA0ODM3MDM2MTMzLCAtNzMuOTU3MzQ0MDU1MTc1NzhdLAogICAgICAgICAgICB7CiAgICAgICAgICAgICAgICBpY29uOiBuZXcgTC5JY29uLkRlZmF1bHQoKSwKICAgICAgICAgICAgICAgIH0KICAgICAgICAgICAgKS5hZGRUbyhtYXBfMjU3MmNhMzEzMDcxNDkzM2EwYjUzN2RhZDdhOGZmYzEpOwogICAgICAgIAogICAgCiAgICAgICAgdmFyIG1hcmtlcl9iMzBiNjAzZGRlZDg0Y2IzYjYyZjUwOTcyMDY0MmFlNSA9IEwubWFya2VyKAogICAgICAgICAgICBbNDAuNzU4NTcxNjI0NzU1ODUsIC03My45OTI2ODM0MTA2NDQ1M10sCiAgICAgICAgICAgIHsKICAgICAgICAgICAgICAgIGljb246IG5ldyBMLkljb24uRGVmYXVsdCgpLAogICAgICAgICAgICAgICAgfQogICAgICAgICAgICApLmFkZFRvKG1hcF8yNTcyY2EzMTMwNzE0OTMzYTBiNTM3ZGFkN2E4ZmZjMSk7CiAgICAgICAgCiAgICAKICAgICAgICB2YXIgbWFya2VyX2RjZDNkMDFkNjdiNzRhODNhMjBlNjZlNjBiMjdhNTk4ID0gTC5tYXJrZXIoCiAgICAgICAgICAgIFs0MC43NTcyMTM1OTI1MjkzLCAtNzMuOTc0NzE2MTg2NTIzNDJdLAogICAgICAgICAgICB7CiAgICAgICAgICAgICAgICBpY29uOiBuZXcgTC5JY29uLkRlZmF1bHQoKSwKICAgICAgICAgICAgICAgIH0KICAgICAgICAgICAgKS5hZGRUbyhtYXBfMjU3MmNhMzEzMDcxNDkzM2EwYjUzN2RhZDdhOGZmYzEpOwogICAgICAgIAogICAgCiAgICAgICAgdmFyIG1hcmtlcl9hZjViMzg4NjUyM2E0ZjViYTNiMTBiNjQ1OTJmOGRjNCA9IEwubWFya2VyKAogICAgICAgICAgICBbNDAuNzY1ODA0MjkwNzcxNDksIC03My45NzY0NzA5NDcyNjU2Ml0sCiAgICAgICAgICAgIHsKICAgICAgICAgICAgICAgIGljb246IG5ldyBMLkljb24uRGVmYXVsdCgpLAogICAgICAgICAgICAgICAgfQogICAgICAgICAgICApLmFkZFRvKG1hcF8yNTcyY2EzMTMwNzE0OTMzYTBiNTM3ZGFkN2E4ZmZjMSk7CiAgICAgICAgCiAgICAKICAgICAgICB2YXIgbWFya2VyXzI5NTBhZjI4MDYyNTQ3YTBhODA3MWRhN2Q0ODY2MWE1ID0gTC5tYXJrZXIoCiAgICAgICAgICAgIFs0MC43MzQ0NjI3MzgwMzcxMSwgLTczLjk4MzQ1OTQ3MjY1NjI1XSwKICAgICAgICAgICAgewogICAgICAgICAgICAgICAgaWNvbjogbmV3IEwuSWNvbi5EZWZhdWx0KCksCiAgICAgICAgICAgICAgICB9CiAgICAgICAgICAgICkuYWRkVG8obWFwXzI1NzJjYTMxMzA3MTQ5MzNhMGI1MzdkYWQ3YThmZmMxKTsKICAgICAgICAKICAgIAogICAgICAgIHZhciBtYXJrZXJfOTJiOWFiODU0YzliNDliYjgxZjdhMzMyZGIzZjNlZmEgPSBMLm1hcmtlcigKICAgICAgICAgICAgWzQwLjc0NzM3MTY3MzU4Mzk4NCwgLTczLjk5NjkyNTM1NDAwMzldLAogICAgICAgICAgICB7CiAgICAgICAgICAgICAgICBpY29uOiBuZXcgTC5JY29uLkRlZmF1bHQoKSwKICAgICAgICAgICAgICAgIH0KICAgICAgICAgICAgKS5hZGRUbyhtYXBfMjU3MmNhMzEzMDcxNDkzM2EwYjUzN2RhZDdhOGZmYzEpOwogICAgICAgIAogICAgCiAgICAgICAgdmFyIG1hcmtlcl9kOTIxYTY5NDUxZGI0ZGU2OTg1NzY3ZGE1MzE5MjBhZCA9IEwubWFya2VyKAogICAgICAgICAgICBbNDAuNzI0NzUwNTE4Nzk4ODMsIC03My45ODc0ODc3OTI5Njg3NV0sCiAgICAgICAgICAgIHsKICAgICAgICAgICAgICAgIGljb246IG5ldyBMLkljb24uRGVmYXVsdCgpLAogICAgICAgICAgICAgICAgfQogICAgICAgICAgICApLmFkZFRvKG1hcF8yNTcyY2EzMTMwNzE0OTMzYTBiNTM3ZGFkN2E4ZmZjMSk7CiAgICAgICAgCiAgICAKICAgICAgICB2YXIgbWFya2VyX2Q5OTBlMjcyMzJhZDQ2ZmNiOWFlMmViMjhkOTUxYzNkID0gTC5tYXJrZXIoCiAgICAgICAgICAgIFs0MC43ODkxMjM1MzUxNTYyNSwgLTczLjk1Mjg2NTYwMDU4NTk1XSwKICAgICAgICAgICAgewogICAgICAgICAgICAgICAgaWNvbjogbmV3IEwuSWNvbi5EZWZhdWx0KCksCiAgICAgICAgICAgICAgICB9CiAgICAgICAgICAgICkuYWRkVG8obWFwXzI1NzJjYTMxMzA3MTQ5MzNhMGI1MzdkYWQ3YThmZmMxKTsKICAgICAgICAKICAgIAogICAgICAgIHZhciBtYXJrZXJfNWNiMWQ3NTM5NjRjNGFjNWE2MmJjODEwZTA5YWI4MTIgPSBMLm1hcmtlcigKICAgICAgICAgICAgWzQwLjc0NzQxMzYzNTI1MzkwNiwgLTczLjk4NTgxNjk1NTU2NjRdLAogICAgICAgICAgICB7CiAgICAgICAgICAgICAgICBpY29uOiBuZXcgTC5JY29uLkRlZmF1bHQoKSwKICAgICAgICAgICAgICAgIH0KICAgICAgICAgICAgKS5hZGRUbyhtYXBfMjU3MmNhMzEzMDcxNDkzM2EwYjUzN2RhZDdhOGZmYzEpOwogICAgICAgIAogICAgCiAgICAgICAgdmFyIG1hcmtlcl84NDE2YzY2ZGYyMTM0YzU3OTNmYzBjNWUwMDdlNDZiOCA9IEwubWFya2VyKAogICAgICAgICAgICBbNDAuNzU5NzQ2NTUxNTEzNjcsIC03My45ODc3MDE0MTYwMTU2Ml0sCiAgICAgICAgICAgIHsKICAgICAgICAgICAgICAgIGljb246IG5ldyBMLkljb24uRGVmYXVsdCgpLAogICAgICAgICAgICAgICAgfQogICAgICAgICAgICApLmFkZFRvKG1hcF8yNTcyY2EzMTMwNzE0OTMzYTBiNTM3ZGFkN2E4ZmZjMSk7CiAgICAgICAgCiAgICAKICAgICAgICB2YXIgbWFya2VyXzlhOGQxMWNjZjEyNjQxZTc5YTQ2ZDFiYWUzYTVhZTE3ID0gTC5tYXJrZXIoCiAgICAgICAgICAgIFs0MC43NTgyNzc4OTMwNjY0MDYsIC03My45NjcwNDEwMTU2MjVdLAogICAgICAgICAgICB7CiAgICAgICAgICAgICAgICBpY29uOiBuZXcgTC5JY29uLkRlZmF1bHQoKSwKICAgICAgICAgICAgICAgIH0KICAgICAgICAgICAgKS5hZGRUbyhtYXBfMjU3MmNhMzEzMDcxNDkzM2EwYjUzN2RhZDdhOGZmYzEpOwogICAgICAgIAogICAgCiAgICAgICAgdmFyIG1hcmtlcl80NjhiYzE3YTljODM0ZTM1YTZlZTZlOTIwNGZkMzI1OSA9IEwubWFya2VyKAogICAgICAgICAgICBbNDAuNzg5Mzc1MzA1MTc1Nzc0LCAtNzMuOTczODg0NTgyNTE5NTVdLAogICAgICAgICAgICB7CiAgICAgICAgICAgICAgICBpY29uOiBuZXcgTC5JY29uLkRlZmF1bHQoKSwKICAgICAgICAgICAgICAgIH0KICAgICAgICAgICAgKS5hZGRUbyhtYXBfMjU3MmNhMzEzMDcxNDkzM2EwYjUzN2RhZDdhOGZmYzEpOwogICAgICAgIAogICAgCiAgICAgICAgdmFyIG1hcmtlcl8zYzZjOGNkZjZjNzk0MmQ5OTVhMzUyYTEwZGMwMDk2OCA9IEwubWFya2VyKAogICAgICAgICAgICBbNDAuNzU5NzAwNzc1MTQ2NDgsIC03My45OTE1MzkwMDE0NjQ4M10sCiAgICAgICAgICAgIHsKICAgICAgICAgICAgICAgIGljb246IG5ldyBMLkljb24uRGVmYXVsdCgpLAogICAgICAgICAgICAgICAgfQogICAgICAgICAgICApLmFkZFRvKG1hcF8yNTcyY2EzMTMwNzE0OTMzYTBiNTM3ZGFkN2E4ZmZjMSk7CiAgICAgICAgCiAgICAKICAgICAgICB2YXIgbWFya2VyXzUxYWZiNGJhYTAwMDQ5MWQ5YWExYjA4OTAyMjJhMWE0ID0gTC5tYXJrZXIoCiAgICAgICAgICAgIFs0MC43Nzk0OTE0MjQ1NjA1NSwgLTczLjk1OTc2MjU3MzI0MjE5XSwKICAgICAgICAgICAgewogICAgICAgICAgICAgICAgaWNvbjogbmV3IEwuSWNvbi5EZWZhdWx0KCksCiAgICAgICAgICAgICAgICB9CiAgICAgICAgICAgICkuYWRkVG8obWFwXzI1NzJjYTMxMzA3MTQ5MzNhMGI1MzdkYWQ3YThmZmMxKTsKICAgICAgICAKICAgIAogICAgICAgIHZhciBtYXJrZXJfOTU3ZmEzZTFiYzRmNGEwMGIxYzUzY2NiYjczZTNiNGIgPSBMLm1hcmtlcigKICAgICAgICAgICAgWzQwLjc0OTU3NjU2ODYwMzUyLCAtNzMuOTgyNzM0NjgwMTc1NzhdLAogICAgICAgICAgICB7CiAgICAgICAgICAgICAgICBpY29uOiBuZXcgTC5JY29uLkRlZmF1bHQoKSwKICAgICAgICAgICAgICAgIH0KICAgICAgICAgICAgKS5hZGRUbyhtYXBfMjU3MmNhMzEzMDcxNDkzM2EwYjUzN2RhZDdhOGZmYzEpOwogICAgICAgIAogICAgCiAgICAgICAgdmFyIG1hcmtlcl80YTk1MWM3NjM3YzU0YmNkYmFmOTg0ZTQ2MTBmNjg3YSA9IEwubWFya2VyKAogICAgICAgICAgICBbNDAuNzI1MjkyMjA1ODEwNTUsIC03My45OTIxOTUxMjkzOTQ1M10sCiAgICAgICAgICAgIHsKICAgICAgICAgICAgICAgIGljb246IG5ldyBMLkljb24uRGVmYXVsdCgpLAogICAgICAgICAgICAgICAgfQogICAgICAgICAgICApLmFkZFRvKG1hcF8yNTcyY2EzMTMwNzE0OTMzYTBiNTM3ZGFkN2E4ZmZjMSk7CiAgICAgICAgCiAgICAKICAgICAgICB2YXIgbWFya2VyXzM4OGVlNzU5NzJjNzQ0Zjc4MzczNDgyNjU4MjkyYjJkID0gTC5tYXJrZXIoCiAgICAgICAgICAgIFs0MC43NjMwMTk1NjE3Njc1OCwgLTczLjk4MTcxOTk3MDcwMzEyXSwKICAgICAgICAgICAgewogICAgICAgICAgICAgICAgaWNvbjogbmV3IEwuSWNvbi5EZWZhdWx0KCksCiAgICAgICAgICAgICAgICB9CiAgICAgICAgICAgICkuYWRkVG8obWFwXzI1NzJjYTMxMzA3MTQ5MzNhMGI1MzdkYWQ3YThmZmMxKTsKICAgICAgICAKICAgIAogICAgICAgIHZhciBtYXJrZXJfZGY2OWU3YTNmN2Y2NGYzM2I3ODQ5MWU4ZDQ5OWUyZWEgPSBMLm1hcmtlcigKICAgICAgICAgICAgWzQwLjc1ODk5MTI0MTQ1NTA4LCAtNzMuOTkyNTE1NTYzOTY0ODNdLAogICAgICAgICAgICB7CiAgICAgICAgICAgICAgICBpY29uOiBuZXcgTC5JY29uLkRlZmF1bHQoKSwKICAgICAgICAgICAgICAgIH0KICAgICAgICAgICAgKS5hZGRUbyhtYXBfMjU3MmNhMzEzMDcxNDkzM2EwYjUzN2RhZDdhOGZmYzEpOwogICAgICAgIAogICAgCiAgICAgICAgdmFyIG1hcmtlcl80MjJkOWFlMjQ4NzM0NGM2YjBmMjIyNDU5NTZlNjI5YiA9IEwubWFya2VyKAogICAgICAgICAgICBbNDAuNzQ4MjgzMzg2MjMwNDcsIC03My45ODc3ODUzMzkzNTU0N10sCiAgICAgICAgICAgIHsKICAgICAgICAgICAgICAgIGljb246IG5ldyBMLkljb24uRGVmYXVsdCgpLAogICAgICAgICAgICAgICAgfQogICAgICAgICAgICApLmFkZFRvKG1hcF8yNTcyY2EzMTMwNzE0OTMzYTBiNTM3ZGFkN2E4ZmZjMSk7CiAgICAgICAgCiAgICAKICAgICAgICB2YXIgbWFya2VyXzFiNGIyMzBiZGY5OTQyMTM4MmFiMWJhZTMxOWE5YTc5ID0gTC5tYXJrZXIoCiAgICAgICAgICAgIFs0MC43NTIwNDg0OTI0MzE2NCwgLTc0LjAwMTE1OTY2Nzk2ODc1XSwKICAgICAgICAgICAgewogICAgICAgICAgICAgICAgaWNvbjogbmV3IEwuSWNvbi5EZWZhdWx0KCksCiAgICAgICAgICAgICAgICB9CiAgICAgICAgICAgICkuYWRkVG8obWFwXzI1NzJjYTMxMzA3MTQ5MzNhMGI1MzdkYWQ3YThmZmMxKTsKICAgICAgICAKICAgIAogICAgICAgIHZhciBtYXJrZXJfYTZhYjU1NWNhZGRiNDFhYWEwNmJjNDgxZmU3ZGZhZmYgPSBMLm1hcmtlcigKICAgICAgICAgICAgWzQwLjc2ODMwNjczMjE3NzczLCAtNzMuOTg2NTk1MTUzODA4Nl0sCiAgICAgICAgICAgIHsKICAgICAgICAgICAgICAgIGljb246IG5ldyBMLkljb24uRGVmYXVsdCgpLAogICAgICAgICAgICAgICAgfQogICAgICAgICAgICApLmFkZFRvKG1hcF8yNTcyY2EzMTMwNzE0OTMzYTBiNTM3ZGFkN2E4ZmZjMSk7CiAgICAgICAgCiAgICAKICAgICAgICB2YXIgbWFya2VyXzU4MDY5ODUwYjM1ZjQzZDBhNWJlY2IyY2ViM2IwMWQ3ID0gTC5tYXJrZXIoCiAgICAgICAgICAgIFs0MC43ODEwNzA3MDkyMjg1MiwgLTczLjk0OTY5MTc3MjQ2MDk0XSwKICAgICAgICAgICAgewogICAgICAgICAgICAgICAgaWNvbjogbmV3IEwuSWNvbi5EZWZhdWx0KCksCiAgICAgICAgICAgICAgICB9CiAgICAgICAgICAgICkuYWRkVG8obWFwXzI1NzJjYTMxMzA3MTQ5MzNhMGI1MzdkYWQ3YThmZmMxKTsKICAgICAgICAKICAgIAogICAgICAgIHZhciBtYXJrZXJfODRmOWFmMGY3NWJiNDkyZWFhMzUzYTU2NDNiNjE1MTUgPSBMLm1hcmtlcigKICAgICAgICAgICAgWzQwLjc2MzIyNTU1NTQxOTkyLCAtNzMuOTg1NTE5NDA5MTc5NjldLAogICAgICAgICAgICB7CiAgICAgICAgICAgICAgICBpY29uOiBuZXcgTC5JY29uLkRlZmF1bHQoKSwKICAgICAgICAgICAgICAgIH0KICAgICAgICAgICAgKS5hZGRUbyhtYXBfMjU3MmNhMzEzMDcxNDkzM2EwYjUzN2RhZDdhOGZmYzEpOwogICAgICAgIAogICAgCiAgICAgICAgdmFyIG1hcmtlcl8wZTM1MWVkMGVjMTQ0YWViYTBmMjdiZjc3N2UwMzQyNyA9IEwubWFya2VyKAogICAgICAgICAgICBbNDAuNzY5NjM0MjQ2ODI2MTcsIC03My44NjM1ODY0MjU3ODEyNV0sCiAgICAgICAgICAgIHsKICAgICAgICAgICAgICAgIGljb246IG5ldyBMLkljb24uRGVmYXVsdCgpLAogICAgICAgICAgICAgICAgfQogICAgICAgICAgICApLmFkZFRvKG1hcF8yNTcyY2EzMTMwNzE0OTMzYTBiNTM3ZGFkN2E4ZmZjMSk7CiAgICAgICAgCiAgICAKICAgICAgICB2YXIgbWFya2VyXzkyYmJlMmE4ODhhOTRkYmZiOWEzZThmNjZmZjkxYTMxID0gTC5tYXJrZXIoCiAgICAgICAgICAgIFs0MC43NTYxODM2MjQyNjc1OCwgLTczLjk2NzkyNjAyNTM5MDYyXSwKICAgICAgICAgICAgewogICAgICAgICAgICAgICAgaWNvbjogbmV3IEwuSWNvbi5EZWZhdWx0KCksCiAgICAgICAgICAgICAgICB9CiAgICAgICAgICAgICkuYWRkVG8obWFwXzI1NzJjYTMxMzA3MTQ5MzNhMGI1MzdkYWQ3YThmZmMxKTsKICAgICAgICAKICAgIAogICAgICAgIHZhciBtYXJrZXJfM2JmZjgzNmEzZTlhNDM3YmJkZmU3YThmM2M1ZjJkMmMgPSBMLm1hcmtlcigKICAgICAgICAgICAgWzQwLjc0Njc0OTg3NzkyOTY5LCAtNzMuOTc5NTIyNzA1MDc4MTFdLAogICAgICAgICAgICB7CiAgICAgICAgICAgICAgICBpY29uOiBuZXcgTC5JY29uLkRlZmF1bHQoKSwKICAgICAgICAgICAgICAgIH0KICAgICAgICAgICAgKS5hZGRUbyhtYXBfMjU3MmNhMzEzMDcxNDkzM2EwYjUzN2RhZDdhOGZmYzEpOwogICAgICAgIAogICAgCiAgICAgICAgdmFyIG1hcmtlcl80ZDAwMDVlNDJkMDE0OGE4YjE0NmEzNWZiN2IxZTExOSA9IEwubWFya2VyKAogICAgICAgICAgICBbNDAuNzUxMTY3Mjk3MzYzMjgsIC03My45OTQxMTAxMDc0MjE4OF0sCiAgICAgICAgICAgIHsKICAgICAgICAgICAgICAgIGljb246IG5ldyBMLkljb24uRGVmYXVsdCgpLAogICAgICAgICAgICAgICAgfQogICAgICAgICAgICApLmFkZFRvKG1hcF8yNTcyY2EzMTMwNzE0OTMzYTBiNTM3ZGFkN2E4ZmZjMSk7CiAgICAgICAgCiAgICAKICAgICAgICB2YXIgbWFya2VyX2FlYTI2MWVhYzcyNTRlYjdhMTUxMDlkNWFiYjkwODE0ID0gTC5tYXJrZXIoCiAgICAgICAgICAgIFs0MC43NjUwNzE4Njg4OTY0OCwgLTczLjk4Mzg4NjcxODc1XSwKICAgICAgICAgICAgewogICAgICAgICAgICAgICAgaWNvbjogbmV3IEwuSWNvbi5EZWZhdWx0KCksCiAgICAgICAgICAgICAgICB9CiAgICAgICAgICAgICkuYWRkVG8obWFwXzI1NzJjYTMxMzA3MTQ5MzNhMGI1MzdkYWQ3YThmZmMxKTsKICAgICAgICAKICAgIAogICAgICAgIHZhciBtYXJrZXJfOGM4NmE1ZmJlMmI3NGIyMThhMjFlMzk3YTQxNTkzMmUgPSBMLm1hcmtlcigKICAgICAgICAgICAgWzQwLjcxOTI5OTMxNjQwNjI1LCAtNzQuMDA4NzIwMzk3OTQ5MjNdLAogICAgICAgICAgICB7CiAgICAgICAgICAgICAgICBpY29uOiBuZXcgTC5JY29uLkRlZmF1bHQoKSwKICAgICAgICAgICAgICAgIH0KICAgICAgICAgICAgKS5hZGRUbyhtYXBfMjU3MmNhMzEzMDcxNDkzM2EwYjUzN2RhZDdhOGZmYzEpOwogICAgICAgIAogICAgCiAgICAgICAgdmFyIG1hcmtlcl9hOTU2ZDMyYzkzZmU0YmU3OTI5ODczZTJhNjU2NTczNiA9IEwubWFya2VyKAogICAgICAgICAgICBbNDAuNzM4ODc2MzQyNzczNDQsIC03NC4wMDMyNTAxMjIwNzAzXSwKICAgICAgICAgICAgewogICAgICAgICAgICAgICAgaWNvbjogbmV3IEwuSWNvbi5EZWZhdWx0KCksCiAgICAgICAgICAgICAgICB9CiAgICAgICAgICAgICkuYWRkVG8obWFwXzI1NzJjYTMxMzA3MTQ5MzNhMGI1MzdkYWQ3YThmZmMxKTsKICAgICAgICAKICAgIAogICAgICAgIHZhciBtYXJrZXJfNjI3ZDg2NzIyMzk5NGI1OWFiMWI1NGI5Njg4NmQ3YWEgPSBMLm1hcmtlcigKICAgICAgICAgICAgWzQwLjc5MjE5MDU1MTc1NzgxLCAtNzMuOTc1NDQ4NjA4Mzk4NDRdLAogICAgICAgICAgICB7CiAgICAgICAgICAgICAgICBpY29uOiBuZXcgTC5JY29uLkRlZmF1bHQoKSwKICAgICAgICAgICAgICAgIH0KICAgICAgICAgICAgKS5hZGRUbyhtYXBfMjU3MmNhMzEzMDcxNDkzM2EwYjUzN2RhZDdhOGZmYzEpOwogICAgICAgIAogICAgCiAgICAgICAgdmFyIG1hcmtlcl9kODYyM2U4NTc0MjQ0N2YwYTMxMDNlYzM4NjUxMTBiYyA9IEwubWFya2VyKAogICAgICAgICAgICBbNDAuNzQ2ODY4MTMzNTQ0OTIsIC03My45NzQ1MzMwODEwNTQ2OV0sCiAgICAgICAgICAgIHsKICAgICAgICAgICAgICAgIGljb246IG5ldyBMLkljb24uRGVmYXVsdCgpLAogICAgICAgICAgICAgICAgfQogICAgICAgICAgICApLmFkZFRvKG1hcF8yNTcyY2EzMTMwNzE0OTMzYTBiNTM3ZGFkN2E4ZmZjMSk7CiAgICAgICAgCiAgICAKICAgICAgICB2YXIgbWFya2VyXzE3MGJkNjQ2OWY0MzQyZTlhYzFkMTQ1NGM2M2E4NjA1ID0gTC5tYXJrZXIoCiAgICAgICAgICAgIFs0MC43MjQxMjEwOTM3NSwgLTczLjk4Nzc3NzcwOTk2MDk0XSwKICAgICAgICAgICAgewogICAgICAgICAgICAgICAgaWNvbjogbmV3IEwuSWNvbi5EZWZhdWx0KCksCiAgICAgICAgICAgICAgICB9CiAgICAgICAgICAgICkuYWRkVG8obWFwXzI1NzJjYTMxMzA3MTQ5MzNhMGI1MzdkYWQ3YThmZmMxKTsKICAgICAgICAKICAgIAogICAgICAgIHZhciBtYXJrZXJfN2ZiZTg4YTljOWJlNGRiZGFiYjY2Njk5MTQ1YjExN2QgPSBMLm1hcmtlcigKICAgICAgICAgICAgWzQwLjczODQ0MTQ2NzI4NTE1NiwgLTczLjk3NzIwMzM2OTE0MDYyXSwKICAgICAgICAgICAgewogICAgICAgICAgICAgICAgaWNvbjogbmV3IEwuSWNvbi5EZWZhdWx0KCksCiAgICAgICAgICAgICAgICB9CiAgICAgICAgICAgICkuYWRkVG8obWFwXzI1NzJjYTMxMzA3MTQ5MzNhMGI1MzdkYWQ3YThmZmMxKTsKICAgICAgICAKICAgIAogICAgICAgIHZhciBtYXJrZXJfYTNmODQ0OTAyZTIyNGYxMTgxZGQ0ZGQ0ZDIyZTBjOTcgPSBMLm1hcmtlcigKICAgICAgICAgICAgWzQwLjc1NjMwNTY5NDU4MDA4LCAtNzMuOTkwNDc4NTE1NjI1XSwKICAgICAgICAgICAgewogICAgICAgICAgICAgICAgaWNvbjogbmV3IEwuSWNvbi5EZWZhdWx0KCksCiAgICAgICAgICAgICAgICB9CiAgICAgICAgICAgICkuYWRkVG8obWFwXzI1NzJjYTMxMzA3MTQ5MzNhMGI1MzdkYWQ3YThmZmMxKTsKICAgICAgICAKICAgIAogICAgICAgIHZhciBtYXJrZXJfNTEwMjkzZWI5N2Y2NDQyOTgzZDcxOTVkOTJhZmU1YTcgPSBMLm1hcmtlcigKICAgICAgICAgICAgWzQwLjc0NzkyNDgwNDY4NzUsIC03My45ODA4MTk3MDIxNDg0NF0sCiAgICAgICAgICAgIHsKICAgICAgICAgICAgICAgIGljb246IG5ldyBMLkljb24uRGVmYXVsdCgpLAogICAgICAgICAgICAgICAgfQogICAgICAgICAgICApLmFkZFRvKG1hcF8yNTcyY2EzMTMwNzE0OTMzYTBiNTM3ZGFkN2E4ZmZjMSk7CiAgICAgICAgCiAgICAKICAgICAgICB2YXIgbWFya2VyXzdiYjg0NzMxMDBkMjRjNDY5ZTVkOTM0ZjNlMzU3ZWNkID0gTC5tYXJrZXIoCiAgICAgICAgICAgIFs0MC43NjkxNDk3ODAyNzM0NCwgLTczLjk4Mjc0MjMwOTU3MDNdLAogICAgICAgICAgICB7CiAgICAgICAgICAgICAgICBpY29uOiBuZXcgTC5JY29uLkRlZmF1bHQoKSwKICAgICAgICAgICAgICAgIH0KICAgICAgICAgICAgKS5hZGRUbyhtYXBfMjU3MmNhMzEzMDcxNDkzM2EwYjUzN2RhZDdhOGZmYzEpOwogICAgICAgIAogICAgCiAgICAgICAgdmFyIG1hcmtlcl9kYzM5NWNjNmJmNTE0ODRhOTM3NjllNDczM2NjMmIyZSA9IEwubWFya2VyKAogICAgICAgICAgICBbNDAuNzU1NzcxNjM2OTYyODksIC03My45NzQ4OTkyOTE5OTIxOV0sCiAgICAgICAgICAgIHsKICAgICAgICAgICAgICAgIGljb246IG5ldyBMLkljb24uRGVmYXVsdCgpLAogICAgICAgICAgICAgICAgfQogICAgICAgICAgICApLmFkZFRvKG1hcF8yNTcyY2EzMTMwNzE0OTMzYTBiNTM3ZGFkN2E4ZmZjMSk7CiAgICAgICAgCiAgICAKICAgICAgICB2YXIgbWFya2VyXzA5ZjBjY2MyZjIxNjRkM2Q5NDg0YjY4ZGNiODlhM2FhID0gTC5tYXJrZXIoCiAgICAgICAgICAgIFs0MC43MzgzMjMyMTE2Njk5MiwgLTczLjk4NTUyNzAzODU3NDIyXSwKICAgICAgICAgICAgewogICAgICAgICAgICAgICAgaWNvbjogbmV3IEwuSWNvbi5EZWZhdWx0KCksCiAgICAgICAgICAgICAgICB9CiAgICAgICAgICAgICkuYWRkVG8obWFwXzI1NzJjYTMxMzA3MTQ5MzNhMGI1MzdkYWQ3YThmZmMxKTsKICAgICAgICAKICAgIAogICAgICAgIHZhciBtYXJrZXJfOWEyYTM2OTY0ZDA2NDY3ZTkzM2Q4YzIyOGZkZmRiODcgPSBMLm1hcmtlcigKICAgICAgICAgICAgWzQwLjczMTY1ODkzNTU0Njg4LCAtNzMuOTgyMzA3NDM0MDgyMDNdLAogICAgICAgICAgICB7CiAgICAgICAgICAgICAgICBpY29uOiBuZXcgTC5JY29uLkRlZmF1bHQoKSwKICAgICAgICAgICAgICAgIH0KICAgICAgICAgICAgKS5hZGRUbyhtYXBfMjU3MmNhMzEzMDcxNDkzM2EwYjUzN2RhZDdhOGZmYzEpOwogICAgICAgIAogICAgCiAgICAgICAgdmFyIG1hcmtlcl80N2U3MmEwYWI1NmM0ZjAyODk0MDM0MGYxYjU0NmUxMSA9IEwubWFya2VyKAogICAgICAgICAgICBbNDAuNzE3NTIxNjY3NDgwNDcsIC03My45OTEwMjAyMDI2MzY3Ml0sCiAgICAgICAgICAgIHsKICAgICAgICAgICAgICAgIGljb246IG5ldyBMLkljb24uRGVmYXVsdCgpLAogICAgICAgICAgICAgICAgfQogICAgICAgICAgICApLmFkZFRvKG1hcF8yNTcyY2EzMTMwNzE0OTMzYTBiNTM3ZGFkN2E4ZmZjMSk7CiAgICAgICAgCiAgICAKICAgICAgICB2YXIgbWFya2VyX2I3YzFhOTQ5OWUxMjRhN2ViMTlhMDliMjdhOWNmYjRhID0gTC5tYXJrZXIoCiAgICAgICAgICAgIFs0MC43NTIwMDI3MTYwNjQ0NSwgLTczLjk3NzgzNjYwODg4NjcyXSwKICAgICAgICAgICAgewogICAgICAgICAgICAgICAgaWNvbjogbmV3IEwuSWNvbi5EZWZhdWx0KCksCiAgICAgICAgICAgICAgICB9CiAgICAgICAgICAgICkuYWRkVG8obWFwXzI1NzJjYTMxMzA3MTQ5MzNhMGI1MzdkYWQ3YThmZmMxKTsKICAgICAgICAKICAgIAogICAgICAgIHZhciBtYXJrZXJfZDNhN2E1MDY1MTQ4NDBmZjhiOTk4YWRjMmI1Y2IzOTMgPSBMLm1hcmtlcigKICAgICAgICAgICAgWzQwLjc1NTY4NzcxMzYyMzA1LCAtNzMuOTcwOTc3NzgzMjAzMTJdLAogICAgICAgICAgICB7CiAgICAgICAgICAgICAgICBpY29uOiBuZXcgTC5JY29uLkRlZmF1bHQoKSwKICAgICAgICAgICAgICAgIH0KICAgICAgICAgICAgKS5hZGRUbyhtYXBfMjU3MmNhMzEzMDcxNDkzM2EwYjUzN2RhZDdhOGZmYzEpOwogICAgICAgIAogICAgCiAgICAgICAgdmFyIG1hcmtlcl8zZmZjNGU5ODljMmE0ODEyYmY1ODRkNjRhMGJkY2M2MyA9IEwubWFya2VyKAogICAgICAgICAgICBbNDAuNzA1MzQxMzM5MTExMzMsIC03NC4wMDc0MDgxNDIwODk4NF0sCiAgICAgICAgICAgIHsKICAgICAgICAgICAgICAgIGljb246IG5ldyBMLkljb24uRGVmYXVsdCgpLAogICAgICAgICAgICAgICAgfQogICAgICAgICAgICApLmFkZFRvKG1hcF8yNTcyY2EzMTMwNzE0OTMzYTBiNTM3ZGFkN2E4ZmZjMSk7CiAgICAgICAgCiAgICAKICAgICAgICB2YXIgbWFya2VyXzBjOWJhOGNhZTI5ZDQyZjc5YTJmNzMzNDY2MjBmNDE3ID0gTC5tYXJrZXIoCiAgICAgICAgICAgIFs0MC43NDA1MDE0MDM4MDg1OTQsIC03NC4wMDU2MzgxMjI1NTg2XSwKICAgICAgICAgICAgewogICAgICAgICAgICAgICAgaWNvbjogbmV3IEwuSWNvbi5EZWZhdWx0KCksCiAgICAgICAgICAgICAgICB9CiAgICAgICAgICAgICkuYWRkVG8obWFwXzI1NzJjYTMxMzA3MTQ5MzNhMGI1MzdkYWQ3YThmZmMxKTsKICAgICAgICAKICAgIAogICAgICAgIHZhciBtYXJrZXJfMjY5OThiY2ZkNTUxNDNhM2E5M2JhOGMwYWQ1NjJlODQgPSBMLm1hcmtlcigKICAgICAgICAgICAgWzQwLjc0MDYyMzQ3NDEyMTA5NCwgLTczLjk5NDMzODk4OTI1NzgxXSwKICAgICAgICAgICAgewogICAgICAgICAgICAgICAgaWNvbjogbmV3IEwuSWNvbi5EZWZhdWx0KCksCiAgICAgICAgICAgICAgICB9CiAgICAgICAgICAgICkuYWRkVG8obWFwXzI1NzJjYTMxMzA3MTQ5MzNhMGI1MzdkYWQ3YThmZmMxKTsKICAgICAgICAKICAgIAogICAgICAgIHZhciBtYXJrZXJfNjYyMzk0ZDA5MDYwNGM0MTk5Y2VmMjBiZTQxN2E2OGQgPSBMLm1hcmtlcigKICAgICAgICAgICAgWzQwLjc1NzQzODY1OTY2Nzk3LCAtNzMuOTY3MTAyMDUwNzgxMjVdLAogICAgICAgICAgICB7CiAgICAgICAgICAgICAgICBpY29uOiBuZXcgTC5JY29uLkRlZmF1bHQoKSwKICAgICAgICAgICAgICAgIH0KICAgICAgICAgICAgKS5hZGRUbyhtYXBfMjU3MmNhMzEzMDcxNDkzM2EwYjUzN2RhZDdhOGZmYzEpOwogICAgICAgIAogICAgCiAgICAgICAgdmFyIG1hcmtlcl82ZDNkMzM0ZDEwYTA0OGNiYjFlZDU3ZTk2M2VkYWE4MiA9IEwubWFya2VyKAogICAgICAgICAgICBbNDAuNzc3MDg4MTY1MjgzMiwgLTczLjk3ODkyNzYxMjMwNDY3XSwKICAgICAgICAgICAgewogICAgICAgICAgICAgICAgaWNvbjogbmV3IEwuSWNvbi5EZWZhdWx0KCksCiAgICAgICAgICAgICAgICB9CiAgICAgICAgICAgICkuYWRkVG8obWFwXzI1NzJjYTMxMzA3MTQ5MzNhMGI1MzdkYWQ3YThmZmMxKTsKICAgICAgICAKICAgIAogICAgICAgIHZhciBtYXJrZXJfNThhM2E4YmRiNjI1NDkzMzkxZTI3MGE3ODYzNjY5NzYgPSBMLm1hcmtlcigKICAgICAgICAgICAgWzQwLjcwNzgwOTQ0ODI0MjE5LCAtNzMuOTM5ODE5MzM1OTM3NV0sCiAgICAgICAgICAgIHsKICAgICAgICAgICAgICAgIGljb246IG5ldyBMLkljb24uRGVmYXVsdCgpLAogICAgICAgICAgICAgICAgfQogICAgICAgICAgICApLmFkZFRvKG1hcF8yNTcyY2EzMTMwNzE0OTMzYTBiNTM3ZGFkN2E4ZmZjMSk7CiAgICAgICAgCiAgICAKICAgICAgICB2YXIgbWFya2VyX2Q5YjBjMDA3OTgxNjQ1YTJhOTUyMGE2ZDg2ZWExYTVmID0gTC5tYXJrZXIoCiAgICAgICAgICAgIFs0MC43NjMxMDcyOTk4MDQ2OSwgLTczLjk3MTgzOTkwNDc4NTE2XSwKICAgICAgICAgICAgewogICAgICAgICAgICAgICAgaWNvbjogbmV3IEwuSWNvbi5EZWZhdWx0KCksCiAgICAgICAgICAgICAgICB9CiAgICAgICAgICAgICkuYWRkVG8obWFwXzI1NzJjYTMxMzA3MTQ5MzNhMGI1MzdkYWQ3YThmZmMxKTsKICAgICAgICAKICAgIAogICAgICAgIHZhciBtYXJrZXJfN2JiYWEwZWY0NDZmNDgyZDk5ZDE4NzkzNmQ2NjM1ODIgPSBMLm1hcmtlcigKICAgICAgICAgICAgWzQwLjc0MTIzNzY0MDM4MDg1LCAtNzQuMDAxNTMzNTA4MzAwNzhdLAogICAgICAgICAgICB7CiAgICAgICAgICAgICAgICBpY29uOiBuZXcgTC5JY29uLkRlZmF1bHQoKSwKICAgICAgICAgICAgICAgIH0KICAgICAgICAgICAgKS5hZGRUbyhtYXBfMjU3MmNhMzEzMDcxNDkzM2EwYjUzN2RhZDdhOGZmYzEpOwogICAgICAgIAogICAgCiAgICAgICAgdmFyIG1hcmtlcl9mYmY0ODM1ZWZhMDI0NGZmYjZmZmU1NWI0ODg3NDViOCA9IEwubWFya2VyKAogICAgICAgICAgICBbNDAuNzYxNTI0MjAwNDM5NDUsIC03My45NzQ3ODQ4NTEwNzQyMl0sCiAgICAgICAgICAgIHsKICAgICAgICAgICAgICAgIGljb246IG5ldyBMLkljb24uRGVmYXVsdCgpLAogICAgICAgICAgICAgICAgfQogICAgICAgICAgICApLmFkZFRvKG1hcF8yNTcyY2EzMTMwNzE0OTMzYTBiNTM3ZGFkN2E4ZmZjMSk7CiAgICAgICAgCiAgICAKICAgICAgICB2YXIgbWFya2VyX2E1YzE5MjhkMjRiMjQ2YzE5MWI2YzBhMDRlMjYxYWVmID0gTC5tYXJrZXIoCiAgICAgICAgICAgIFs0MC43MjA0ODU2ODcyNTU4NSwgLTczLjk5NDUxNDQ2NTMzMjAzXSwKICAgICAgICAgICAgewogICAgICAgICAgICAgICAgaWNvbjogbmV3IEwuSWNvbi5EZWZhdWx0KCksCiAgICAgICAgICAgICAgICB9CiAgICAgICAgICAgICkuYWRkVG8obWFwXzI1NzJjYTMxMzA3MTQ5MzNhMGI1MzdkYWQ3YThmZmMxKTsKICAgICAgICAKICAgIAogICAgICAgIHZhciBtYXJrZXJfMGViMzJmODllZTViNGFmYTg2MjI4NzBlYjM2YjY3NDAgPSBMLm1hcmtlcigKICAgICAgICAgICAgWzQwLjc1MDcyNDc5MjQ4MDQ3LCAtNzMuOTc5MDI2Nzk0NDMzNThdLAogICAgICAgICAgICB7CiAgICAgICAgICAgICAgICBpY29uOiBuZXcgTC5JY29uLkRlZmF1bHQoKSwKICAgICAgICAgICAgICAgIH0KICAgICAgICAgICAgKS5hZGRUbyhtYXBfMjU3MmNhMzEzMDcxNDkzM2EwYjUzN2RhZDdhOGZmYzEpOwogICAgICAgIAogICAgCiAgICAgICAgdmFyIG1hcmtlcl9kY2FmM2ViYTY5MzY0OGIxOGMyYjE2YjdjNDllMmRjNyA9IEwubWFya2VyKAogICAgICAgICAgICBbNDAuNzY0MDI2NjQxODQ1Njk2LCAtNzMuOTgxMTI0ODc3OTI5N10sCiAgICAgICAgICAgIHsKICAgICAgICAgICAgICAgIGljb246IG5ldyBMLkljb24uRGVmYXVsdCgpLAogICAgICAgICAgICAgICAgfQogICAgICAgICAgICApLmFkZFRvKG1hcF8yNTcyY2EzMTMwNzE0OTMzYTBiNTM3ZGFkN2E4ZmZjMSk7CiAgICAgICAgCiAgICAKICAgICAgICB2YXIgbWFya2VyX2EwNzAwZjAzMzVjZjQ0NjI4NTc2NzJlOWZiYjk2N2IyID0gTC5tYXJrZXIoCiAgICAgICAgICAgIFs0MC43NjE1NTA5MDMzMjAzMSwgLTczLjk3ODMzMjUxOTUzMTI1XSwKICAgICAgICAgICAgewogICAgICAgICAgICAgICAgaWNvbjogbmV3IEwuSWNvbi5EZWZhdWx0KCksCiAgICAgICAgICAgICAgICB9CiAgICAgICAgICAgICkuYWRkVG8obWFwXzI1NzJjYTMxMzA3MTQ5MzNhMGI1MzdkYWQ3YThmZmMxKTsKICAgICAgICAKICAgIAogICAgICAgIHZhciBtYXJrZXJfNDNlMDI3YWZhMzIwNDhhOThhMGEzNDg5ZmZlOTY1ZmEgPSBMLm1hcmtlcigKICAgICAgICAgICAgWzQwLjc1NTM3MTA5Mzc1LCAtNzMuOTg3OTYwODE1NDI5N10sCiAgICAgICAgICAgIHsKICAgICAgICAgICAgICAgIGljb246IG5ldyBMLkljb24uRGVmYXVsdCgpLAogICAgICAgICAgICAgICAgfQogICAgICAgICAgICApLmFkZFRvKG1hcF8yNTcyY2EzMTMwNzE0OTMzYTBiNTM3ZGFkN2E4ZmZjMSk7CiAgICAgICAgCiAgICAKICAgICAgICB2YXIgbWFya2VyXzY0OWY0NWRmZjIxMjQ0ZGRiZWY1MWIwNjBjMmRhMTQ5ID0gTC5tYXJrZXIoCiAgICAgICAgICAgIFs0MC43Nzk4NjE0NTAxOTUzMSwgLTczLjk1OTU1NjU3OTU4OTg0XSwKICAgICAgICAgICAgewogICAgICAgICAgICAgICAgaWNvbjogbmV3IEwuSWNvbi5EZWZhdWx0KCksCiAgICAgICAgICAgICAgICB9CiAgICAgICAgICAgICkuYWRkVG8obWFwXzI1NzJjYTMxMzA3MTQ5MzNhMGI1MzdkYWQ3YThmZmMxKTsKICAgICAgICAKICAgIAogICAgICAgIHZhciBtYXJrZXJfYzRjYzIxZmRjMjIzNGFiOThiNjk4NzhjZDNhN2QyYmEgPSBMLm1hcmtlcigKICAgICAgICAgICAgWzQwLjc2MDg1NjYyODQxNzk3LCAtNzMuOTgyODY0Mzc5ODgyODFdLAogICAgICAgICAgICB7CiAgICAgICAgICAgICAgICBpY29uOiBuZXcgTC5JY29uLkRlZmF1bHQoKSwKICAgICAgICAgICAgICAgIH0KICAgICAgICAgICAgKS5hZGRUbyhtYXBfMjU3MmNhMzEzMDcxNDkzM2EwYjUzN2RhZDdhOGZmYzEpOwogICAgICAgIAogICAgCiAgICAgICAgdmFyIG1hcmtlcl84NjMyODhjOGNkODg0Y2E4OWYzNWVlNjJkZGM1OTM3YyA9IEwubWFya2VyKAogICAgICAgICAgICBbNDAuNzM1MDY1NDYwMjA1MDgsIC03My45OTg0NzQxMjEwOTM3NV0sCiAgICAgICAgICAgIHsKICAgICAgICAgICAgICAgIGljb246IG5ldyBMLkljb24uRGVmYXVsdCgpLAogICAgICAgICAgICAgICAgfQogICAgICAgICAgICApLmFkZFRvKG1hcF8yNTcyY2EzMTMwNzE0OTMzYTBiNTM3ZGFkN2E4ZmZjMSk7CiAgICAgICAgCiAgICAKICAgICAgICB2YXIgbWFya2VyXzI3NDc5MzI3OTBmNjQ5YzdiMjcwNzc4YjAzNTIxMWIwID0gTC5tYXJrZXIoCiAgICAgICAgICAgIFs0MC43NTY3Nzg3MTcwNDEwMTYsIC03My45OTAwOTcwNDU4OTg0NF0sCiAgICAgICAgICAgIHsKICAgICAgICAgICAgICAgIGljb246IG5ldyBMLkljb24uRGVmYXVsdCgpLAogICAgICAgICAgICAgICAgfQogICAgICAgICAgICApLmFkZFRvKG1hcF8yNTcyY2EzMTMwNzE0OTMzYTBiNTM3ZGFkN2E4ZmZjMSk7CiAgICAgICAgCiAgICAKICAgICAgICB2YXIgbWFya2VyXzZkMWQyN2Y0NDBlYzRjOGE4Nzk1OWVjNmEzYmI4NjYyID0gTC5tYXJrZXIoCiAgICAgICAgICAgIFs0MC43NzM2MjgyMzQ4NjMyOCwgLTczLjk1OTk5OTA4NDQ3MjY2XSwKICAgICAgICAgICAgewogICAgICAgICAgICAgICAgaWNvbjogbmV3IEwuSWNvbi5EZWZhdWx0KCksCiAgICAgICAgICAgICAgICB9CiAgICAgICAgICAgICkuYWRkVG8obWFwXzI1NzJjYTMxMzA3MTQ5MzNhMGI1MzdkYWQ3YThmZmMxKTsKICAgICAgICAKICAgIAogICAgICAgIHZhciBtYXJrZXJfY2EwZjgyNDg3NDA4NGMxOWIxZmYzNTczODkyZTBjZjcgPSBMLm1hcmtlcigKICAgICAgICAgICAgWzQwLjc0NjIwNDM3NjIyMDcsIC03My45OTQyNzAzMjQ3MDcwMl0sCiAgICAgICAgICAgIHsKICAgICAgICAgICAgICAgIGljb246IG5ldyBMLkljb24uRGVmYXVsdCgpLAogICAgICAgICAgICAgICAgfQogICAgICAgICAgICApLmFkZFRvKG1hcF8yNTcyY2EzMTMwNzE0OTMzYTBiNTM3ZGFkN2E4ZmZjMSk7CiAgICAgICAgCiAgICAKICAgICAgICB2YXIgbWFya2VyXzBjMDEyMWI1ZmYxNTQwZjJiZjg0ZWNkMDM3MTM5MGY1ID0gTC5tYXJrZXIoCiAgICAgICAgICAgIFs0MC43NjYxMTcwOTU5NDcyNywgLTczLjk4MzUwNTI0OTAyMzQyXSwKICAgICAgICAgICAgewogICAgICAgICAgICAgICAgaWNvbjogbmV3IEwuSWNvbi5EZWZhdWx0KCksCiAgICAgICAgICAgICAgICB9CiAgICAgICAgICAgICkuYWRkVG8obWFwXzI1NzJjYTMxMzA3MTQ5MzNhMGI1MzdkYWQ3YThmZmMxKTsKICAgICAgICAKICAgIAogICAgICAgIHZhciBtYXJrZXJfZGUzNWVmN2NiNGNkNGFmNWIxYjY4OGVlYWU5MDBjM2MgPSBMLm1hcmtlcigKICAgICAgICAgICAgWzQwLjc2NDMxMjc0NDE0MDYzLCAtNzMuOTY0NzA2NDIwODk4NDRdLAogICAgICAgICAgICB7CiAgICAgICAgICAgICAgICBpY29uOiBuZXcgTC5JY29uLkRlZmF1bHQoKSwKICAgICAgICAgICAgICAgIH0KICAgICAgICAgICAgKS5hZGRUbyhtYXBfMjU3MmNhMzEzMDcxNDkzM2EwYjUzN2RhZDdhOGZmYzEpOwogICAgICAgIAogICAgCiAgICAgICAgdmFyIG1hcmtlcl8zZjY1ZTZlNThiOGY0YjRjYTYzYzU4NmZmYjQ0MmZhMSA9IEwubWFya2VyKAogICAgICAgICAgICBbNDAuNzMwNzQzNDA4MjAzMTMsIC03My45OTA1NzAwNjgzNTkzOF0sCiAgICAgICAgICAgIHsKICAgICAgICAgICAgICAgIGljb246IG5ldyBMLkljb24uRGVmYXVsdCgpLAogICAgICAgICAgICAgICAgfQogICAgICAgICAgICApLmFkZFRvKG1hcF8yNTcyY2EzMTMwNzE0OTMzYTBiNTM3ZGFkN2E4ZmZjMSk7CiAgICAgICAgCiAgICAKICAgICAgICB2YXIgbWFya2VyXzE0M2Q2NDhiZTVkNzRlODNhZTFmZjFlYmFlZmJlNzM1ID0gTC5tYXJrZXIoCiAgICAgICAgICAgIFs0MC43NDkzMTMzNTQ0OTIxOSwgLTczLjk5MjMzMjQ1ODQ5NjFdLAogICAgICAgICAgICB7CiAgICAgICAgICAgICAgICBpY29uOiBuZXcgTC5JY29uLkRlZmF1bHQoKSwKICAgICAgICAgICAgICAgIH0KICAgICAgICAgICAgKS5hZGRUbyhtYXBfMjU3MmNhMzEzMDcxNDkzM2EwYjUzN2RhZDdhOGZmYzEpOwogICAgICAgIAogICAgCiAgICAgICAgdmFyIG1hcmtlcl8xZGQwNDllMTAyNDY0M2UwOWZkNWRjYWZkMzU0M2UwMSA9IEwubWFya2VyKAogICAgICAgICAgICBbNDAuNzQzNDE1ODMyNTE5NTMsIC03My45ODYyMjg5NDI4NzExXSwKICAgICAgICAgICAgewogICAgICAgICAgICAgICAgaWNvbjogbmV3IEwuSWNvbi5EZWZhdWx0KCksCiAgICAgICAgICAgICAgICB9CiAgICAgICAgICAgICkuYWRkVG8obWFwXzI1NzJjYTMxMzA3MTQ5MzNhMGI1MzdkYWQ3YThmZmMxKTsKICAgICAgICAKICAgIAogICAgICAgIHZhciBtYXJrZXJfMjhlZDJjNDhlNjg2NDAwMGI2NTlkOWVmZmI2MWZlNjUgPSBMLm1hcmtlcigKICAgICAgICAgICAgWzQwLjc3MTI0Nzg2Mzc2OTUzLCAtNzMuOTY1ODUwODMwMDc4MTFdLAogICAgICAgICAgICB7CiAgICAgICAgICAgICAgICBpY29uOiBuZXcgTC5JY29uLkRlZmF1bHQoKSwKICAgICAgICAgICAgICAgIH0KICAgICAgICAgICAgKS5hZGRUbyhtYXBfMjU3MmNhMzEzMDcxNDkzM2EwYjUzN2RhZDdhOGZmYzEpOwogICAgICAgIAogICAgCiAgICAgICAgdmFyIG1hcmtlcl9hNjVkMTQ5ZDhiN2M0MmE5YWU1YTYzNzBmYjE4OTcxYyA9IEwubWFya2VyKAogICAgICAgICAgICBbNDAuNzUxMjA5MjU5MDMzMiwgLTczLjk3MTUzNDcyOTAwMzldLAogICAgICAgICAgICB7CiAgICAgICAgICAgICAgICBpY29uOiBuZXcgTC5JY29uLkRlZmF1bHQoKSwKICAgICAgICAgICAgICAgIH0KICAgICAgICAgICAgKS5hZGRUbyhtYXBfMjU3MmNhMzEzMDcxNDkzM2EwYjUzN2RhZDdhOGZmYzEpOwogICAgICAgIAogICAgCiAgICAgICAgdmFyIG1hcmtlcl84NmNiMTBjMjc1Yjc0MGMzOWZjODNkZjE5NjRkMTEyMCA9IEwubWFya2VyKAogICAgICAgICAgICBbNDAuNzUwNjc5MDE2MTEzMjgsIC03My45OTQ2MzY1MzU2NDQ1M10sCiAgICAgICAgICAgIHsKICAgICAgICAgICAgICAgIGljb246IG5ldyBMLkljb24uRGVmYXVsdCgpLAogICAgICAgICAgICAgICAgfQogICAgICAgICAgICApLmFkZFRvKG1hcF8yNTcyY2EzMTMwNzE0OTMzYTBiNTM3ZGFkN2E4ZmZjMSk7CiAgICAgICAgCiAgICAKICAgICAgICB2YXIgbWFya2VyXzA5OTY3MGZiNDAxNzRiMGFiYTc4ZjZhNjY3N2FiMTBjID0gTC5tYXJrZXIoCiAgICAgICAgICAgIFs0MC43NTY5Njk0NTE5MDQzLCAtNzMuOTY5OTMyNTU2MTUyMzRdLAogICAgICAgICAgICB7CiAgICAgICAgICAgICAgICBpY29uOiBuZXcgTC5JY29uLkRlZmF1bHQoKSwKICAgICAgICAgICAgICAgIH0KICAgICAgICAgICAgKS5hZGRUbyhtYXBfMjU3MmNhMzEzMDcxNDkzM2EwYjUzN2RhZDdhOGZmYzEpOwogICAgICAgIAogICAgCiAgICAgICAgdmFyIG1hcmtlcl9iYWJiNjhlNmIzZDY0MmNkODE0ZWJkYzM3YTdiNzg2MCA9IEwubWFya2VyKAogICAgICAgICAgICBbNDAuNzExOTEwMjQ3ODAyNzM0LCAtNzMuOTQxNDEzODc5Mzk0NTNdLAogICAgICAgICAgICB7CiAgICAgICAgICAgICAgICBpY29uOiBuZXcgTC5JY29uLkRlZmF1bHQoKSwKICAgICAgICAgICAgICAgIH0KICAgICAgICAgICAgKS5hZGRUbyhtYXBfMjU3MmNhMzEzMDcxNDkzM2EwYjUzN2RhZDdhOGZmYzEpOwogICAgICAgIAogICAgCiAgICAgICAgdmFyIG1hcmtlcl8wMWIyYTIyMWQzMTk0MDAwODY2NDE5MTAyMWFmNDk0MyA9IEwubWFya2VyKAogICAgICAgICAgICBbNDAuNzUwMTYwMjE3Mjg1MTU2LCAtNzMuOTkxNDc3OTY2MzA4Nl0sCiAgICAgICAgICAgIHsKICAgICAgICAgICAgICAgIGljb246IG5ldyBMLkljb24uRGVmYXVsdCgpLAogICAgICAgICAgICAgICAgfQogICAgICAgICAgICApLmFkZFRvKG1hcF8yNTcyY2EzMTMwNzE0OTMzYTBiNTM3ZGFkN2E4ZmZjMSk7CiAgICAgICAgCiAgICAKICAgICAgICB2YXIgbWFya2VyX2Q2ZDAzYmQzNTJhMzQ1YmQ5MmM5NmUxOTc4MzkxNWY5ID0gTC5tYXJrZXIoCiAgICAgICAgICAgIFs0MC43ODk4NzEyMTU4MjAzMSwgLTczLjk3MzQxMTU2MDA1ODZdLAogICAgICAgICAgICB7CiAgICAgICAgICAgICAgICBpY29uOiBuZXcgTC5JY29uLkRlZmF1bHQoKSwKICAgICAgICAgICAgICAgIH0KICAgICAgICAgICAgKS5hZGRUbyhtYXBfMjU3MmNhMzEzMDcxNDkzM2EwYjUzN2RhZDdhOGZmYzEpOwogICAgICAgIAogICAgCiAgICAgICAgdmFyIG1hcmtlcl81MjMwODM0OTU4Mzc0MjJjYTRmNDJhZmNlZmQ5MGVlNCA9IEwubWFya2VyKAogICAgICAgICAgICBbNDAuNzM4Nzc3MTYwNjQ0NTMsIC03My45OTE1MzkwMDE0NjQ4M10sCiAgICAgICAgICAgIHsKICAgICAgICAgICAgICAgIGljb246IG5ldyBMLkljb24uRGVmYXVsdCgpLAogICAgICAgICAgICAgICAgfQogICAgICAgICAgICApLmFkZFRvKG1hcF8yNTcyY2EzMTMwNzE0OTMzYTBiNTM3ZGFkN2E4ZmZjMSk7CiAgICAgICAgCiAgICAKICAgICAgICB2YXIgbWFya2VyXzU5ZDg5NmM0MTFlNDQxNjM5NDNlYjAxZTMyZTE5ODZkID0gTC5tYXJrZXIoCiAgICAgICAgICAgIFs0MC43NjU4NTM4ODE4MzU5NCwgLTczLjk4MDU1MjY3MzMzOTg0XSwKICAgICAgICAgICAgewogICAgICAgICAgICAgICAgaWNvbjogbmV3IEwuSWNvbi5EZWZhdWx0KCksCiAgICAgICAgICAgICAgICB9CiAgICAgICAgICAgICkuYWRkVG8obWFwXzI1NzJjYTMxMzA3MTQ5MzNhMGI1MzdkYWQ3YThmZmMxKTsKICAgICAgICAKICAgIAogICAgICAgIHZhciBtYXJrZXJfNDM3OGFhOTMyMzQyNDE3NDg0ZmQ0NjJiNzhjYTM0MzAgPSBMLm1hcmtlcigKICAgICAgICAgICAgWzQwLjc1NDEwNDYxNDI1NzgxLCAtNzMuOTgyNTI4Njg2NTIzNDJdLAogICAgICAgICAgICB7CiAgICAgICAgICAgICAgICBpY29uOiBuZXcgTC5JY29uLkRlZmF1bHQoKSwKICAgICAgICAgICAgICAgIH0KICAgICAgICAgICAgKS5hZGRUbyhtYXBfMjU3MmNhMzEzMDcxNDkzM2EwYjUzN2RhZDdhOGZmYzEpOwogICAgICAgIAogICAgCiAgICAgICAgdmFyIG1hcmtlcl8wYTMxZWM4OGEyNzU0YzI1YWQxNTc4NTJkNGFiYTViOSA9IEwubWFya2VyKAogICAgICAgICAgICBbNDAuNzYyMTExNjYzODE4MzYsIC03My45NzkwNDIwNTMyMjI2Nl0sCiAgICAgICAgICAgIHsKICAgICAgICAgICAgICAgIGljb246IG5ldyBMLkljb24uRGVmYXVsdCgpLAogICAgICAgICAgICAgICAgfQogICAgICAgICAgICApLmFkZFRvKG1hcF8yNTcyY2EzMTMwNzE0OTMzYTBiNTM3ZGFkN2E4ZmZjMSk7CiAgICAgICAgCiAgICAKICAgICAgICB2YXIgbWFya2VyX2NjMTdjMzMxZjM4YzQ3ZTVhNjYzMzU4ZWU2MmZmNzY2ID0gTC5tYXJrZXIoCiAgICAgICAgICAgIFs0MC43NjE1MDUxMjY5NTMxMywgLTczLjk2MDM4MDU1NDE5OTIzXSwKICAgICAgICAgICAgewogICAgICAgICAgICAgICAgaWNvbjogbmV3IEwuSWNvbi5EZWZhdWx0KCksCiAgICAgICAgICAgICAgICB9CiAgICAgICAgICAgICkuYWRkVG8obWFwXzI1NzJjYTMxMzA3MTQ5MzNhMGI1MzdkYWQ3YThmZmMxKTsKICAgICAgICAKICAgIAogICAgICAgIHZhciBtYXJrZXJfMzZhZjk4MmZiYTU2NDMwMzhjY2VlOWZiMTE4MTE5OGMgPSBMLm1hcmtlcigKICAgICAgICAgICAgWzQwLjcyMjM1ODcwMzYxMzI4LCAtNzQuMDA4MjAxNTk5MTIxMV0sCiAgICAgICAgICAgIHsKICAgICAgICAgICAgICAgIGljb246IG5ldyBMLkljb24uRGVmYXVsdCgpLAogICAgICAgICAgICAgICAgfQogICAgICAgICAgICApLmFkZFRvKG1hcF8yNTcyY2EzMTMwNzE0OTMzYTBiNTM3ZGFkN2E4ZmZjMSk7CiAgICAgICAgCiAgICAKICAgICAgICB2YXIgbWFya2VyX2U2YjMzMmI2Mzc1MjQwYjI4YTBlZjg4YTI0YmI1OGYyID0gTC5tYXJrZXIoCiAgICAgICAgICAgIFs0MC43NTExMDYyNjIyMDcwMywgLTczLjk3MTEzMDM3MTA5Mzc1XSwKICAgICAgICAgICAgewogICAgICAgICAgICAgICAgaWNvbjogbmV3IEwuSWNvbi5EZWZhdWx0KCksCiAgICAgICAgICAgICAgICB9CiAgICAgICAgICAgICkuYWRkVG8obWFwXzI1NzJjYTMxMzA3MTQ5MzNhMGI1MzdkYWQ3YThmZmMxKTsKICAgICAgICAKICAgIAogICAgICAgIHZhciBtYXJrZXJfN2Q5ZTU4NjA4ODI5NDI1NmJiNTA3Njk4M2ZhYmU0ZmIgPSBMLm1hcmtlcigKICAgICAgICAgICAgWzQwLjc2NDE5NDQ4ODUyNTM5LCAtNzMuOTcxMjgyOTU4OTg0MzhdLAogICAgICAgICAgICB7CiAgICAgICAgICAgICAgICBpY29uOiBuZXcgTC5JY29uLkRlZmF1bHQoKSwKICAgICAgICAgICAgICAgIH0KICAgICAgICAgICAgKS5hZGRUbyhtYXBfMjU3MmNhMzEzMDcxNDkzM2EwYjUzN2RhZDdhOGZmYzEpOwogICAgICAgIAogICAgCiAgICAgICAgdmFyIG1hcmtlcl9iZmMzNWIzMDVkOTU0NGMwYTY5NDZkNDRlZjQ5YzUyOCA9IEwubWFya2VyKAogICAgICAgICAgICBbNDAuNzg0Mjc1MDU0OTMxNjQsIC03My45NDcwNDQzNzI1NTg2XSwKICAgICAgICAgICAgewogICAgICAgICAgICAgICAgaWNvbjogbmV3IEwuSWNvbi5EZWZhdWx0KCksCiAgICAgICAgICAgICAgICB9CiAgICAgICAgICAgICkuYWRkVG8obWFwXzI1NzJjYTMxMzA3MTQ5MzNhMGI1MzdkYWQ3YThmZmMxKTsKICAgICAgICAKICAgIAogICAgICAgIHZhciBtYXJrZXJfMmIwZmE1ZGFhNmM2NDMyYmJlMTcyZjY5MTBkYmFkOTEgPSBMLm1hcmtlcigKICAgICAgICAgICAgWzQwLjY0Njg1NDQwMDYzNDc3LCAtNzMuNzg5NzcyMDMzNjkxMzldLAogICAgICAgICAgICB7CiAgICAgICAgICAgICAgICBpY29uOiBuZXcgTC5JY29uLkRlZmF1bHQoKSwKICAgICAgICAgICAgICAgIH0KICAgICAgICAgICAgKS5hZGRUbyhtYXBfMjU3MmNhMzEzMDcxNDkzM2EwYjUzN2RhZDdhOGZmYzEpOwogICAgICAgIAogICAgCiAgICAgICAgdmFyIG1hcmtlcl9kM2MyNTFlOWZmMWY0NGQzYjUwNjcwZDNjZmNmNTg2MiA9IEwubWFya2VyKAogICAgICAgICAgICBbNDAuNzQ4NDc0MTIxMDkzNzUsIC03My45NzMxOTAzMDc2MTcxOV0sCiAgICAgICAgICAgIHsKICAgICAgICAgICAgICAgIGljb246IG5ldyBMLkljb24uRGVmYXVsdCgpLAogICAgICAgICAgICAgICAgfQogICAgICAgICAgICApLmFkZFRvKG1hcF8yNTcyY2EzMTMwNzE0OTMzYTBiNTM3ZGFkN2E4ZmZjMSk7CiAgICAgICAgCiAgICAKICAgICAgICB2YXIgbWFya2VyXzI1ZDUyOGEwZmQ2MzRhNDJiNTRjMjdiZmJiNmI0YmM1ID0gTC5tYXJrZXIoCiAgICAgICAgICAgIFs0MC43NjYyMzkxNjYyNTk3NywgLTczLjk3NzYwMDA5NzY1NjI1XSwKICAgICAgICAgICAgewogICAgICAgICAgICAgICAgaWNvbjogbmV3IEwuSWNvbi5EZWZhdWx0KCksCiAgICAgICAgICAgICAgICB9CiAgICAgICAgICAgICkuYWRkVG8obWFwXzI1NzJjYTMxMzA3MTQ5MzNhMGI1MzdkYWQ3YThmZmMxKTsKICAgICAgICAKICAgIAogICAgICAgIHZhciBtYXJrZXJfYzAzNDBhNTQ3MDNiNGI5OWI0MjI1YWQ2OWZhY2E1NmIgPSBMLm1hcmtlcigKICAgICAgICAgICAgWzQwLjc2MzQzMTU0OTA3MjI2NiwgLTczLjk2NzMxNTY3MzgyODEyXSwKICAgICAgICAgICAgewogICAgICAgICAgICAgICAgaWNvbjogbmV3IEwuSWNvbi5EZWZhdWx0KCksCiAgICAgICAgICAgICAgICB9CiAgICAgICAgICAgICkuYWRkVG8obWFwXzI1NzJjYTMxMzA3MTQ5MzNhMGI1MzdkYWQ3YThmZmMxKTsKICAgICAgICAKICAgIAogICAgICAgIHZhciBtYXJrZXJfNDM3NjA3NzI4ZWZlNDIwNmE5ZmVkNmEyNmVhZTI2NjcgPSBMLm1hcmtlcigKICAgICAgICAgICAgWzQwLjc3MTMzOTQxNjUwMzkwNiwgLTczLjk1NjY0MjE1MDg3ODldLAogICAgICAgICAgICB7CiAgICAgICAgICAgICAgICBpY29uOiBuZXcgTC5JY29uLkRlZmF1bHQoKSwKICAgICAgICAgICAgICAgIH0KICAgICAgICAgICAgKS5hZGRUbyhtYXBfMjU3MmNhMzEzMDcxNDkzM2EwYjUzN2RhZDdhOGZmYzEpOwogICAgICAgIAogICAgCiAgICAgICAgdmFyIG1hcmtlcl9iN2UxNGI4NGU3NmM0NzI4YjZiMzk2Mjk2ODgwNTRjYyA9IEwubWFya2VyKAogICAgICAgICAgICBbNDAuNzg0NjQ1MDgwNTY2NDA2LCAtNzMuOTc3Mjk0OTIxODc1XSwKICAgICAgICAgICAgewogICAgICAgICAgICAgICAgaWNvbjogbmV3IEwuSWNvbi5EZWZhdWx0KCksCiAgICAgICAgICAgICAgICB9CiAgICAgICAgICAgICkuYWRkVG8obWFwXzI1NzJjYTMxMzA3MTQ5MzNhMGI1MzdkYWQ3YThmZmMxKTsKICAgICAgICAKICAgIAogICAgICAgIHZhciBtYXJrZXJfYmVmNmJiZmQzZmEyNGNlNmI4NjQyYjljZjk4MjJjNjQgPSBMLm1hcmtlcigKICAgICAgICAgICAgWzQwLjc2MDA5NzUwMzY2MjEsIC03My45NjExMDUzNDY2Nzk2OV0sCiAgICAgICAgICAgIHsKICAgICAgICAgICAgICAgIGljb246IG5ldyBMLkljb24uRGVmYXVsdCgpLAogICAgICAgICAgICAgICAgfQogICAgICAgICAgICApLmFkZFRvKG1hcF8yNTcyY2EzMTMwNzE0OTMzYTBiNTM3ZGFkN2E4ZmZjMSk7CiAgICAgICAgCjwvc2NyaXB0Pg== onload=\"this.contentDocument.open();this.contentDocument.write(atob(this.getAttribute('data-html')));this.contentDocument.close();\" allowfullscreen webkitallowfullscreen mozallowfullscreen></iframe></div></div>"
            ],
            "text/plain": [
              "<folium.folium.Map at 0x7f1e91da20b8>"
            ]
          },
          "metadata": {
            "tags": []
          },
          "execution_count": 68
        }
      ]
    },
    {
      "cell_type": "markdown",
      "metadata": {
        "id": "byUHtwLZ1Vgo",
        "colab_type": "text"
      },
      "source": [
        "**OBSERVATION:** \n",
        "\n",
        "Now we can see that all the  pick ups are concentrated in and around NYC."
      ]
    },
    {
      "cell_type": "markdown",
      "metadata": {
        "id": "YFoL1aAqQLDL",
        "colab_type": "text"
      },
      "source": [
        "### **DROPOFF:**"
      ]
    },
    {
      "cell_type": "code",
      "metadata": {
        "id": "WD28Z38GQO1M",
        "colab_type": "code",
        "outputId": "de34eca7-e4f1-4e7d-e20f-b407529ab7d9",
        "colab": {
          "base_uri": "https://localhost:8080/",
          "height": 439
        }
      },
      "source": [
        "out_nyc = df[((df.dropoff_latitude <= 40.5774) | (df.dropoff_longitude <= -74.15) | (df.dropoff_latitude >= 40.9176) | (df.dropoff_longitude >= -73.7004))]\n",
        "out_nyc\n",
        "\n"
      ],
      "execution_count": 69,
      "outputs": [
        {
          "output_type": "execute_result",
          "data": {
            "text/html": [
              "<div>\n",
              "<style scoped>\n",
              "    .dataframe tbody tr th:only-of-type {\n",
              "        vertical-align: middle;\n",
              "    }\n",
              "\n",
              "    .dataframe tbody tr th {\n",
              "        vertical-align: top;\n",
              "    }\n",
              "\n",
              "    .dataframe thead th {\n",
              "        text-align: right;\n",
              "    }\n",
              "</style>\n",
              "<table border=\"1\" class=\"dataframe\">\n",
              "  <thead>\n",
              "    <tr style=\"text-align: right;\">\n",
              "      <th></th>\n",
              "      <th>VendorID</th>\n",
              "      <th>tpep_pickup_datetime</th>\n",
              "      <th>tpep_dropoff_datetime</th>\n",
              "      <th>passenger_count</th>\n",
              "      <th>trip_distance</th>\n",
              "      <th>pickup_longitude</th>\n",
              "      <th>pickup_latitude</th>\n",
              "      <th>dropoff_longitude</th>\n",
              "      <th>dropoff_latitude</th>\n",
              "      <th>payment_type</th>\n",
              "      <th>fare_amount</th>\n",
              "      <th>extra</th>\n",
              "      <th>mta_tax</th>\n",
              "      <th>tip_amount</th>\n",
              "      <th>tolls_amount</th>\n",
              "      <th>improvement_surcharge</th>\n",
              "      <th>total_amount</th>\n",
              "    </tr>\n",
              "  </thead>\n",
              "  <tbody>\n",
              "    <tr>\n",
              "      <th>472</th>\n",
              "      <td>1</td>\n",
              "      <td>2015-10-14 10:24:23</td>\n",
              "      <td>2015-10-14 10:55:25</td>\n",
              "      <td>2</td>\n",
              "      <td>17.00</td>\n",
              "      <td>-73.980553</td>\n",
              "      <td>40.765854</td>\n",
              "      <td>-74.182304</td>\n",
              "      <td>40.687759</td>\n",
              "      <td>1</td>\n",
              "      <td>65.5</td>\n",
              "      <td>0.0</td>\n",
              "      <td>0.0</td>\n",
              "      <td>16.00</td>\n",
              "      <td>14.25</td>\n",
              "      <td>0.3</td>\n",
              "      <td>96.05</td>\n",
              "    </tr>\n",
              "    <tr>\n",
              "      <th>524</th>\n",
              "      <td>2</td>\n",
              "      <td>2015-10-14 10:24:33</td>\n",
              "      <td>2015-10-14 11:05:26</td>\n",
              "      <td>2</td>\n",
              "      <td>18.10</td>\n",
              "      <td>-73.989029</td>\n",
              "      <td>40.736687</td>\n",
              "      <td>-74.183281</td>\n",
              "      <td>40.688072</td>\n",
              "      <td>1</td>\n",
              "      <td>72.5</td>\n",
              "      <td>0.0</td>\n",
              "      <td>0.0</td>\n",
              "      <td>17.53</td>\n",
              "      <td>14.85</td>\n",
              "      <td>0.3</td>\n",
              "      <td>105.18</td>\n",
              "    </tr>\n",
              "    <tr>\n",
              "      <th>628</th>\n",
              "      <td>2</td>\n",
              "      <td>2015-10-14 10:24:55</td>\n",
              "      <td>2015-10-14 11:05:54</td>\n",
              "      <td>1</td>\n",
              "      <td>25.30</td>\n",
              "      <td>-73.875664</td>\n",
              "      <td>40.773701</td>\n",
              "      <td>-73.767532</td>\n",
              "      <td>41.032471</td>\n",
              "      <td>1</td>\n",
              "      <td>98.5</td>\n",
              "      <td>0.0</td>\n",
              "      <td>0.5</td>\n",
              "      <td>10.00</td>\n",
              "      <td>5.54</td>\n",
              "      <td>0.3</td>\n",
              "      <td>114.84</td>\n",
              "    </tr>\n",
              "    <tr>\n",
              "      <th>1316</th>\n",
              "      <td>2</td>\n",
              "      <td>2015-10-14 10:27:11</td>\n",
              "      <td>2015-10-14 11:02:21</td>\n",
              "      <td>3</td>\n",
              "      <td>16.59</td>\n",
              "      <td>-73.984032</td>\n",
              "      <td>40.757648</td>\n",
              "      <td>-74.183510</td>\n",
              "      <td>40.688187</td>\n",
              "      <td>1</td>\n",
              "      <td>66.5</td>\n",
              "      <td>0.0</td>\n",
              "      <td>0.0</td>\n",
              "      <td>16.82</td>\n",
              "      <td>17.29</td>\n",
              "      <td>0.3</td>\n",
              "      <td>100.91</td>\n",
              "    </tr>\n",
              "    <tr>\n",
              "      <th>1825</th>\n",
              "      <td>1</td>\n",
              "      <td>2015-10-14 10:28:54</td>\n",
              "      <td>2015-10-14 10:58:57</td>\n",
              "      <td>1</td>\n",
              "      <td>8.70</td>\n",
              "      <td>-73.963593</td>\n",
              "      <td>40.774342</td>\n",
              "      <td>0.000000</td>\n",
              "      <td>0.000000</td>\n",
              "      <td>1</td>\n",
              "      <td>31.0</td>\n",
              "      <td>0.0</td>\n",
              "      <td>0.5</td>\n",
              "      <td>3.00</td>\n",
              "      <td>0.00</td>\n",
              "      <td>0.3</td>\n",
              "      <td>34.80</td>\n",
              "    </tr>\n",
              "    <tr>\n",
              "      <th>...</th>\n",
              "      <td>...</td>\n",
              "      <td>...</td>\n",
              "      <td>...</td>\n",
              "      <td>...</td>\n",
              "      <td>...</td>\n",
              "      <td>...</td>\n",
              "      <td>...</td>\n",
              "      <td>...</td>\n",
              "      <td>...</td>\n",
              "      <td>...</td>\n",
              "      <td>...</td>\n",
              "      <td>...</td>\n",
              "      <td>...</td>\n",
              "      <td>...</td>\n",
              "      <td>...</td>\n",
              "      <td>...</td>\n",
              "      <td>...</td>\n",
              "    </tr>\n",
              "    <tr>\n",
              "      <th>97324</th>\n",
              "      <td>2</td>\n",
              "      <td>2015-10-01 09:24:52</td>\n",
              "      <td>2015-10-01 09:49:36</td>\n",
              "      <td>6</td>\n",
              "      <td>14.92</td>\n",
              "      <td>-74.005737</td>\n",
              "      <td>40.725399</td>\n",
              "      <td>-74.177017</td>\n",
              "      <td>40.691490</td>\n",
              "      <td>2</td>\n",
              "      <td>58.0</td>\n",
              "      <td>0.0</td>\n",
              "      <td>0.0</td>\n",
              "      <td>0.00</td>\n",
              "      <td>14.00</td>\n",
              "      <td>0.3</td>\n",
              "      <td>72.30</td>\n",
              "    </tr>\n",
              "    <tr>\n",
              "      <th>98586</th>\n",
              "      <td>2</td>\n",
              "      <td>2015-10-01 09:28:47</td>\n",
              "      <td>2015-10-01 10:04:02</td>\n",
              "      <td>1</td>\n",
              "      <td>16.28</td>\n",
              "      <td>-73.988815</td>\n",
              "      <td>40.744560</td>\n",
              "      <td>-74.177689</td>\n",
              "      <td>40.690327</td>\n",
              "      <td>2</td>\n",
              "      <td>65.0</td>\n",
              "      <td>0.0</td>\n",
              "      <td>0.0</td>\n",
              "      <td>0.00</td>\n",
              "      <td>19.00</td>\n",
              "      <td>0.3</td>\n",
              "      <td>84.30</td>\n",
              "    </tr>\n",
              "    <tr>\n",
              "      <th>98814</th>\n",
              "      <td>1</td>\n",
              "      <td>2015-10-01 09:29:30</td>\n",
              "      <td>2015-10-01 09:50:56</td>\n",
              "      <td>1</td>\n",
              "      <td>1.40</td>\n",
              "      <td>-73.986900</td>\n",
              "      <td>40.736492</td>\n",
              "      <td>0.000000</td>\n",
              "      <td>0.000000</td>\n",
              "      <td>1</td>\n",
              "      <td>13.5</td>\n",
              "      <td>0.0</td>\n",
              "      <td>0.5</td>\n",
              "      <td>2.85</td>\n",
              "      <td>0.00</td>\n",
              "      <td>0.3</td>\n",
              "      <td>17.15</td>\n",
              "    </tr>\n",
              "    <tr>\n",
              "      <th>99692</th>\n",
              "      <td>1</td>\n",
              "      <td>2015-10-01 09:32:13</td>\n",
              "      <td>2015-10-01 10:20:32</td>\n",
              "      <td>1</td>\n",
              "      <td>3.60</td>\n",
              "      <td>-73.969872</td>\n",
              "      <td>40.799454</td>\n",
              "      <td>0.000000</td>\n",
              "      <td>0.000000</td>\n",
              "      <td>1</td>\n",
              "      <td>28.0</td>\n",
              "      <td>0.0</td>\n",
              "      <td>0.5</td>\n",
              "      <td>10.00</td>\n",
              "      <td>0.00</td>\n",
              "      <td>0.3</td>\n",
              "      <td>38.80</td>\n",
              "    </tr>\n",
              "    <tr>\n",
              "      <th>99811</th>\n",
              "      <td>2</td>\n",
              "      <td>2015-10-01 09:32:31</td>\n",
              "      <td>2015-10-01 10:09:55</td>\n",
              "      <td>1</td>\n",
              "      <td>22.88</td>\n",
              "      <td>-73.977470</td>\n",
              "      <td>40.671810</td>\n",
              "      <td>-74.177193</td>\n",
              "      <td>40.694828</td>\n",
              "      <td>1</td>\n",
              "      <td>79.0</td>\n",
              "      <td>0.0</td>\n",
              "      <td>0.0</td>\n",
              "      <td>15.00</td>\n",
              "      <td>22.83</td>\n",
              "      <td>0.3</td>\n",
              "      <td>117.13</td>\n",
              "    </tr>\n",
              "  </tbody>\n",
              "</table>\n",
              "<p>363 rows × 17 columns</p>\n",
              "</div>"
            ],
            "text/plain": [
              "       VendorID tpep_pickup_datetime  ... improvement_surcharge  total_amount\n",
              "472           1  2015-10-14 10:24:23  ...                   0.3         96.05\n",
              "524           2  2015-10-14 10:24:33  ...                   0.3        105.18\n",
              "628           2  2015-10-14 10:24:55  ...                   0.3        114.84\n",
              "1316          2  2015-10-14 10:27:11  ...                   0.3        100.91\n",
              "1825          1  2015-10-14 10:28:54  ...                   0.3         34.80\n",
              "...         ...                  ...  ...                   ...           ...\n",
              "97324         2  2015-10-01 09:24:52  ...                   0.3         72.30\n",
              "98586         2  2015-10-01 09:28:47  ...                   0.3         84.30\n",
              "98814         1  2015-10-01 09:29:30  ...                   0.3         17.15\n",
              "99692         1  2015-10-01 09:32:13  ...                   0.3         38.80\n",
              "99811         2  2015-10-01 09:32:31  ...                   0.3        117.13\n",
              "\n",
              "[363 rows x 17 columns]"
            ]
          },
          "metadata": {
            "tags": []
          },
          "execution_count": 69
        }
      ]
    },
    {
      "cell_type": "markdown",
      "metadata": {
        "id": "nnHwfYWY0WzA",
        "colab_type": "text"
      },
      "source": [
        "#### **The Dropoff Map - Before cleaning:**"
      ]
    },
    {
      "cell_type": "code",
      "metadata": {
        "id": "2zehAiSxQbHV",
        "colab_type": "code",
        "outputId": "9e698667-acce-4994-c6c1-297eb94ce21d",
        "colab": {
          "base_uri": "https://localhost:8080/",
          "height": 808
        }
      },
      "source": [
        "m = folium.Map(location = [40.5774, -73.7004], tiles = \"Stamen Toner\")\n",
        "\n",
        "outside_dropoff = out_nyc.head(25000)\n",
        "\n",
        "for i,j in outside_dropoff.iterrows():\n",
        "    if j[\"dropoff_latitude\"] != 0:\n",
        "        folium.Marker([j[\"dropoff_latitude\"], j[\"dropoff_longitude\"]]).add_to(m)\n",
        "m"
      ],
      "execution_count": 70,
      "outputs": [
        {
          "output_type": "execute_result",
          "data": {
            "text/html": [
              "<div style=\"width:100%;\"><div style=\"position:relative;width:100%;height:0;padding-bottom:60%;\"><iframe src=\"about:blank\" style=\"position:absolute;width:100%;height:100%;left:0;top:0;border:none !important;\" data-html=PCFET0NUWVBFIGh0bWw+CjxoZWFkPiAgICAKICAgIDxtZXRhIGh0dHAtZXF1aXY9ImNvbnRlbnQtdHlwZSIgY29udGVudD0idGV4dC9odG1sOyBjaGFyc2V0PVVURi04IiAvPgogICAgPHNjcmlwdD5MX1BSRUZFUl9DQU5WQVM9ZmFsc2U7IExfTk9fVE9VQ0g9ZmFsc2U7IExfRElTQUJMRV8zRD1mYWxzZTs8L3NjcmlwdD4KICAgIDxzY3JpcHQgc3JjPSJodHRwczovL2Nkbi5qc2RlbGl2ci5uZXQvbnBtL2xlYWZsZXRAMS40LjAvZGlzdC9sZWFmbGV0LmpzIj48L3NjcmlwdD4KICAgIDxzY3JpcHQgc3JjPSJodHRwczovL2NvZGUuanF1ZXJ5LmNvbS9qcXVlcnktMS4xMi40Lm1pbi5qcyI+PC9zY3JpcHQ+CiAgICA8c2NyaXB0IHNyYz0iaHR0cHM6Ly9tYXhjZG4uYm9vdHN0cmFwY2RuLmNvbS9ib290c3RyYXAvMy4yLjAvanMvYm9vdHN0cmFwLm1pbi5qcyI+PC9zY3JpcHQ+CiAgICA8c2NyaXB0IHNyYz0iaHR0cHM6Ly9jZG5qcy5jbG91ZGZsYXJlLmNvbS9hamF4L2xpYnMvTGVhZmxldC5hd2Vzb21lLW1hcmtlcnMvMi4wLjIvbGVhZmxldC5hd2Vzb21lLW1hcmtlcnMuanMiPjwvc2NyaXB0PgogICAgPGxpbmsgcmVsPSJzdHlsZXNoZWV0IiBocmVmPSJodHRwczovL2Nkbi5qc2RlbGl2ci5uZXQvbnBtL2xlYWZsZXRAMS40LjAvZGlzdC9sZWFmbGV0LmNzcyIvPgogICAgPGxpbmsgcmVsPSJzdHlsZXNoZWV0IiBocmVmPSJodHRwczovL21heGNkbi5ib290c3RyYXBjZG4uY29tL2Jvb3RzdHJhcC8zLjIuMC9jc3MvYm9vdHN0cmFwLm1pbi5jc3MiLz4KICAgIDxsaW5rIHJlbD0ic3R5bGVzaGVldCIgaHJlZj0iaHR0cHM6Ly9tYXhjZG4uYm9vdHN0cmFwY2RuLmNvbS9ib290c3RyYXAvMy4yLjAvY3NzL2Jvb3RzdHJhcC10aGVtZS5taW4uY3NzIi8+CiAgICA8bGluayByZWw9InN0eWxlc2hlZXQiIGhyZWY9Imh0dHBzOi8vbWF4Y2RuLmJvb3RzdHJhcGNkbi5jb20vZm9udC1hd2Vzb21lLzQuNi4zL2Nzcy9mb250LWF3ZXNvbWUubWluLmNzcyIvPgogICAgPGxpbmsgcmVsPSJzdHlsZXNoZWV0IiBocmVmPSJodHRwczovL2NkbmpzLmNsb3VkZmxhcmUuY29tL2FqYXgvbGlicy9MZWFmbGV0LmF3ZXNvbWUtbWFya2Vycy8yLjAuMi9sZWFmbGV0LmF3ZXNvbWUtbWFya2Vycy5jc3MiLz4KICAgIDxsaW5rIHJlbD0ic3R5bGVzaGVldCIgaHJlZj0iaHR0cHM6Ly9yYXdjZG4uZ2l0aGFjay5jb20vcHl0aG9uLXZpc3VhbGl6YXRpb24vZm9saXVtL21hc3Rlci9mb2xpdW0vdGVtcGxhdGVzL2xlYWZsZXQuYXdlc29tZS5yb3RhdGUuY3NzIi8+CiAgICA8c3R5bGU+aHRtbCwgYm9keSB7d2lkdGg6IDEwMCU7aGVpZ2h0OiAxMDAlO21hcmdpbjogMDtwYWRkaW5nOiAwO308L3N0eWxlPgogICAgPHN0eWxlPiNtYXAge3Bvc2l0aW9uOmFic29sdXRlO3RvcDowO2JvdHRvbTowO3JpZ2h0OjA7bGVmdDowO308L3N0eWxlPgogICAgCiAgICA8bWV0YSBuYW1lPSJ2aWV3cG9ydCIgY29udGVudD0id2lkdGg9ZGV2aWNlLXdpZHRoLAogICAgICAgIGluaXRpYWwtc2NhbGU9MS4wLCBtYXhpbXVtLXNjYWxlPTEuMCwgdXNlci1zY2FsYWJsZT1ubyIgLz4KICAgIDxzdHlsZT4jbWFwX2MzMTY0OTY2NGQzNDRlNjJiNjRmMTE5NGY5N2I3MzU1IHsKICAgICAgICBwb3NpdGlvbjogcmVsYXRpdmU7CiAgICAgICAgd2lkdGg6IDEwMC4wJTsKICAgICAgICBoZWlnaHQ6IDEwMC4wJTsKICAgICAgICBsZWZ0OiAwLjAlOwogICAgICAgIHRvcDogMC4wJTsKICAgICAgICB9CiAgICA8L3N0eWxlPgo8L2hlYWQ+Cjxib2R5PiAgICAKICAgIAogICAgPGRpdiBjbGFzcz0iZm9saXVtLW1hcCIgaWQ9Im1hcF9jMzE2NDk2NjRkMzQ0ZTYyYjY0ZjExOTRmOTdiNzM1NSIgPjwvZGl2Pgo8L2JvZHk+CjxzY3JpcHQ+ICAgIAogICAgCiAgICAKICAgICAgICB2YXIgYm91bmRzID0gbnVsbDsKICAgIAoKICAgIHZhciBtYXBfYzMxNjQ5NjY0ZDM0NGU2MmI2NGYxMTk0Zjk3YjczNTUgPSBMLm1hcCgKICAgICAgICAnbWFwX2MzMTY0OTY2NGQzNDRlNjJiNjRmMTE5NGY5N2I3MzU1JywgewogICAgICAgIGNlbnRlcjogWzQwLjU3NzQsIC03My43MDA0XSwKICAgICAgICB6b29tOiAxMCwKICAgICAgICBtYXhCb3VuZHM6IGJvdW5kcywKICAgICAgICBsYXllcnM6IFtdLAogICAgICAgIHdvcmxkQ29weUp1bXA6IGZhbHNlLAogICAgICAgIGNyczogTC5DUlMuRVBTRzM4NTcsCiAgICAgICAgem9vbUNvbnRyb2w6IHRydWUsCiAgICAgICAgfSk7CgoKICAgIAogICAgdmFyIHRpbGVfbGF5ZXJfMzlkMzhkOTQ5NTEwNGU2ZWFhZWMzMjNmMWUxOWNjZGIgPSBMLnRpbGVMYXllcigKICAgICAgICAnaHR0cHM6Ly9zdGFtZW4tdGlsZXMte3N9LmEuc3NsLmZhc3RseS5uZXQvdG9uZXIve3p9L3t4fS97eX0ucG5nJywKICAgICAgICB7CiAgICAgICAgImF0dHJpYnV0aW9uIjogbnVsbCwKICAgICAgICAiZGV0ZWN0UmV0aW5hIjogZmFsc2UsCiAgICAgICAgIm1heE5hdGl2ZVpvb20iOiAxOCwKICAgICAgICAibWF4Wm9vbSI6IDE4LAogICAgICAgICJtaW5ab29tIjogMCwKICAgICAgICAibm9XcmFwIjogZmFsc2UsCiAgICAgICAgIm9wYWNpdHkiOiAxLAogICAgICAgICJzdWJkb21haW5zIjogImFiYyIsCiAgICAgICAgInRtcyI6IGZhbHNlCn0pLmFkZFRvKG1hcF9jMzE2NDk2NjRkMzQ0ZTYyYjY0ZjExOTRmOTdiNzM1NSk7CiAgICAKICAgICAgICB2YXIgbWFya2VyX2Q1MjVjZjYwMTI5ZTRkZGU5MzY3MWQzN2EyZGRmZWNlID0gTC5tYXJrZXIoCiAgICAgICAgICAgIFs0MC42ODc3NTkzOTk0MTQwNiwgLTc0LjE4MjMwNDM4MjMyNDIyXSwKICAgICAgICAgICAgewogICAgICAgICAgICAgICAgaWNvbjogbmV3IEwuSWNvbi5EZWZhdWx0KCksCiAgICAgICAgICAgICAgICB9CiAgICAgICAgICAgICkuYWRkVG8obWFwX2MzMTY0OTY2NGQzNDRlNjJiNjRmMTE5NGY5N2I3MzU1KTsKICAgICAgICAKICAgIAogICAgICAgIHZhciBtYXJrZXJfZjRjZjFlNjJiMDlmNDM0NWI1Nzg4MmFhYmRlYTRiNWQgPSBMLm1hcmtlcigKICAgICAgICAgICAgWzQwLjY4ODA3MjIwNDU4OTg0NCwgLTc0LjE4MzI4MDk0NDgyNDIyXSwKICAgICAgICAgICAgewogICAgICAgICAgICAgICAgaWNvbjogbmV3IEwuSWNvbi5EZWZhdWx0KCksCiAgICAgICAgICAgICAgICB9CiAgICAgICAgICAgICkuYWRkVG8obWFwX2MzMTY0OTY2NGQzNDRlNjJiNjRmMTE5NGY5N2I3MzU1KTsKICAgICAgICAKICAgIAogICAgICAgIHZhciBtYXJrZXJfNmQwMmFjYjJiM2VlNDc0N2I0YTk4N2Q5NmExZGJkZTkgPSBMLm1hcmtlcigKICAgICAgICAgICAgWzQxLjAzMjQ3MDcwMzEyNSwgLTczLjc2NzUzMjM0ODYzMjgxXSwKICAgICAgICAgICAgewogICAgICAgICAgICAgICAgaWNvbjogbmV3IEwuSWNvbi5EZWZhdWx0KCksCiAgICAgICAgICAgICAgICB9CiAgICAgICAgICAgICkuYWRkVG8obWFwX2MzMTY0OTY2NGQzNDRlNjJiNjRmMTE5NGY5N2I3MzU1KTsKICAgICAgICAKICAgIAogICAgICAgIHZhciBtYXJrZXJfZTk1OGFkZGNiNTZlNDIxNWI1MmZkYjY0ZjcxZGEyYTEgPSBMLm1hcmtlcigKICAgICAgICAgICAgWzQwLjY4ODE4NjY0NTUwNzgxLCAtNzQuMTgzNTA5ODI2NjYwMTRdLAogICAgICAgICAgICB7CiAgICAgICAgICAgICAgICBpY29uOiBuZXcgTC5JY29uLkRlZmF1bHQoKSwKICAgICAgICAgICAgICAgIH0KICAgICAgICAgICAgKS5hZGRUbyhtYXBfYzMxNjQ5NjY0ZDM0NGU2MmI2NGYxMTk0Zjk3YjczNTUpOwogICAgICAgIAogICAgCiAgICAgICAgdmFyIG1hcmtlcl9lZDE0Y2Y5NWQ1NmM0ZjQ0YWUyODYxYzZkYWNjMjc0YSA9IEwubWFya2VyKAogICAgICAgICAgICBbNDAuNjk1NDc2NTMxOTgyNDE1LCAtNzQuMTc3ODcxNzA0MTAxNTZdLAogICAgICAgICAgICB7CiAgICAgICAgICAgICAgICBpY29uOiBuZXcgTC5JY29uLkRlZmF1bHQoKSwKICAgICAgICAgICAgICAgIH0KICAgICAgICAgICAgKS5hZGRUbyhtYXBfYzMxNjQ5NjY0ZDM0NGU2MmI2NGYxMTk0Zjk3YjczNTUpOwogICAgICAgIAogICAgCiAgICAgICAgdmFyIG1hcmtlcl84NDk2NDM5OTEzNjQ0Y2U0YTNkOWRlM2Q3YmEwZGFjZiA9IEwubWFya2VyKAogICAgICAgICAgICBbNDAuNjg3NzcwODQzNTA1ODUsIC03NC4xODE0NDIyNjA3NDIxOV0sCiAgICAgICAgICAgIHsKICAgICAgICAgICAgICAgIGljb246IG5ldyBMLkljb24uRGVmYXVsdCgpLAogICAgICAgICAgICAgICAgfQogICAgICAgICAgICApLmFkZFRvKG1hcF9jMzE2NDk2NjRkMzQ0ZTYyYjY0ZjExOTRmOTdiNzM1NSk7CiAgICAgICAgCiAgICAKICAgICAgICB2YXIgbWFya2VyX2JkMWUyOTMxY2I4MTRlMDliYmVjNTVhMGNmYzA3M2Y2ID0gTC5tYXJrZXIoCiAgICAgICAgICAgIFs0MC45MzczMTY4OTQ1MzEyNSwgLTczLjk1NTA2Mjg2NjIxMDk0XSwKICAgICAgICAgICAgewogICAgICAgICAgICAgICAgaWNvbjogbmV3IEwuSWNvbi5EZWZhdWx0KCksCiAgICAgICAgICAgICAgICB9CiAgICAgICAgICAgICkuYWRkVG8obWFwX2MzMTY0OTY2NGQzNDRlNjJiNjRmMTE5NGY5N2I3MzU1KTsKICAgICAgICAKICAgIAogICAgICAgIHZhciBtYXJrZXJfZmQ4NzNmNzQzMmQyNDUwNzk2NjM5ODRmNWJmNDk2MTcgPSBMLm1hcmtlcigKICAgICAgICAgICAgWzQwLjcwNjkyNDQzODQ3NjU2LCAtNzQuMTgxNzM5ODA3MTI4OV0sCiAgICAgICAgICAgIHsKICAgICAgICAgICAgICAgIGljb246IG5ldyBMLkljb24uRGVmYXVsdCgpLAogICAgICAgICAgICAgICAgfQogICAgICAgICAgICApLmFkZFRvKG1hcF9jMzE2NDk2NjRkMzQ0ZTYyYjY0ZjExOTRmOTdiNzM1NSk7CiAgICAgICAgCiAgICAKICAgICAgICB2YXIgbWFya2VyXzRjMzAxZmQyZDViYTQwZTFiMTZlNGI2Mjc4MTNiM2RhID0gTC5tYXJrZXIoCiAgICAgICAgICAgIFs0MC41MDI3NTAzOTY3Mjg1MiwgLTc0LjIzMjE2MjQ3NTU4NTk1XSwKICAgICAgICAgICAgewogICAgICAgICAgICAgICAgaWNvbjogbmV3IEwuSWNvbi5EZWZhdWx0KCksCiAgICAgICAgICAgICAgICB9CiAgICAgICAgICAgICkuYWRkVG8obWFwX2MzMTY0OTY2NGQzNDRlNjJiNjRmMTE5NGY5N2I3MzU1KTsKICAgICAgICAKICAgIAogICAgICAgIHZhciBtYXJrZXJfZDAyYjY2MWM5MjExNGE2ZWIxNGIyMWI0ZWM3MmFmYTEgPSBMLm1hcmtlcigKICAgICAgICAgICAgWzQwLjc0MDExNjExOTM4NDc3LCAtNzQuMTU1NzkyMjM2MzI4MTJdLAogICAgICAgICAgICB7CiAgICAgICAgICAgICAgICBpY29uOiBuZXcgTC5JY29uLkRlZmF1bHQoKSwKICAgICAgICAgICAgICAgIH0KICAgICAgICAgICAgKS5hZGRUbyhtYXBfYzMxNjQ5NjY0ZDM0NGU2MmI2NGYxMTk0Zjk3YjczNTUpOwogICAgICAgIAogICAgCiAgICAgICAgdmFyIG1hcmtlcl9lOWQwZWJlNDhlZWI0YTk5YTFiZWJjM2I2Y2I0YzhmNyA9IEwubWFya2VyKAogICAgICAgICAgICBbNDEuMDM0MzU4OTc4MjcxNDksIC03My43NjI5MDg5MzU1NDY4Nl0sCiAgICAgICAgICAgIHsKICAgICAgICAgICAgICAgIGljb246IG5ldyBMLkljb24uRGVmYXVsdCgpLAogICAgICAgICAgICAgICAgfQogICAgICAgICAgICApLmFkZFRvKG1hcF9jMzE2NDk2NjRkMzQ0ZTYyYjY0ZjExOTRmOTdiNzM1NSk7CiAgICAgICAgCiAgICAKICAgICAgICB2YXIgbWFya2VyXzU0YWNiYWMzM2UzZjQwNWRiYjJlNWFkNjVhYTBhY2ZiID0gTC5tYXJrZXIoCiAgICAgICAgICAgIFs0MC45MjI3OTQzNDIwNDEwMTYsIC03NC4wNDUxMzU0OTgwNDY4Nl0sCiAgICAgICAgICAgIHsKICAgICAgICAgICAgICAgIGljb246IG5ldyBMLkljb24uRGVmYXVsdCgpLAogICAgICAgICAgICAgICAgfQogICAgICAgICAgICApLmFkZFRvKG1hcF9jMzE2NDk2NjRkMzQ0ZTYyYjY0ZjExOTRmOTdiNzM1NSk7CiAgICAgICAgCiAgICAKICAgICAgICB2YXIgbWFya2VyX2JhZjYwMzIwMTY5MzRmN2Y5NzE4OGRmMzlhYTExOGQ4ID0gTC5tYXJrZXIoCiAgICAgICAgICAgIFs0MC43Mzc3ODE1MjQ2NTgyLCAtNzMuNjg1MTQyNTE3MDg5ODRdLAogICAgICAgICAgICB7CiAgICAgICAgICAgICAgICBpY29uOiBuZXcgTC5JY29uLkRlZmF1bHQoKSwKICAgICAgICAgICAgICAgIH0KICAgICAgICAgICAgKS5hZGRUbyhtYXBfYzMxNjQ5NjY0ZDM0NGU2MmI2NGYxMTk0Zjk3YjczNTUpOwogICAgICAgIAogICAgCiAgICAgICAgdmFyIG1hcmtlcl83N2YzZDZkMzAyYTQ0NjFjYTExYTdkZWRjZjc2YjA1ZiA9IEwubWFya2VyKAogICAgICAgICAgICBbNDAuODE2NDc0OTE0NTUwNzgsIC03My41Njc0NzQzNjUyMzQzOF0sCiAgICAgICAgICAgIHsKICAgICAgICAgICAgICAgIGljb246IG5ldyBMLkljb24uRGVmYXVsdCgpLAogICAgICAgICAgICAgICAgfQogICAgICAgICAgICApLmFkZFRvKG1hcF9jMzE2NDk2NjRkMzQ0ZTYyYjY0ZjExOTRmOTdiNzM1NSk7CiAgICAgICAgCiAgICAKICAgICAgICB2YXIgbWFya2VyXzAyYmE2NzkyMDZkYTQ2YTM5YWNlNWIwNTc4NzA5MzlmID0gTC5tYXJrZXIoCiAgICAgICAgICAgIFs0MC45NDMwNzMyNzI3MDUwOCwgLTczLjc2MDM4MzYwNTk1NzAyXSwKICAgICAgICAgICAgewogICAgICAgICAgICAgICAgaWNvbjogbmV3IEwuSWNvbi5EZWZhdWx0KCksCiAgICAgICAgICAgICAgICB9CiAgICAgICAgICAgICkuYWRkVG8obWFwX2MzMTY0OTY2NGQzNDRlNjJiNjRmMTE5NGY5N2I3MzU1KTsKICAgICAgICAKICAgIAogICAgICAgIHZhciBtYXJrZXJfYzdkN2ZmNTY4Y2RkNDJiYTg1ZWQ1N2Y1ZWU2NzcxM2MgPSBMLm1hcmtlcigKICAgICAgICAgICAgWzQwLjczMTk0ODg1MjUzOTA1NSwgLTc0LjE2MjQ1MjY5Nzc1MzldLAogICAgICAgICAgICB7CiAgICAgICAgICAgICAgICBpY29uOiBuZXcgTC5JY29uLkRlZmF1bHQoKSwKICAgICAgICAgICAgICAgIH0KICAgICAgICAgICAgKS5hZGRUbyhtYXBfYzMxNjQ5NjY0ZDM0NGU2MmI2NGYxMTk0Zjk3YjczNTUpOwogICAgICAgIAogICAgCiAgICAgICAgdmFyIG1hcmtlcl80NzE5NGY4M2NjYTM0OTFkYjFiMzc0ZTE2ZGJlYWMzMSA9IEwubWFya2VyKAogICAgICAgICAgICBbNDAuNzg3NTY3MTM4NjcxODgsIC03My40NDYwMTQ0MDQyOTY4Nl0sCiAgICAgICAgICAgIHsKICAgICAgICAgICAgICAgIGljb246IG5ldyBMLkljb24uRGVmYXVsdCgpLAogICAgICAgICAgICAgICAgfQogICAgICAgICAgICApLmFkZFRvKG1hcF9jMzE2NDk2NjRkMzQ0ZTYyYjY0ZjExOTRmOTdiNzM1NSk7CiAgICAgICAgCiAgICAKICAgICAgICB2YXIgbWFya2VyX2FmZmJjYzcyMjhiYTQ2MzhhYjFlNGQwODg3NDhiYTVmID0gTC5tYXJrZXIoCiAgICAgICAgICAgIFs0MC45NDc3MTU3NTkyNzczNDQsIC03My43MjY0NzA5NDcyNjU2Ml0sCiAgICAgICAgICAgIHsKICAgICAgICAgICAgICAgIGljb246IG5ldyBMLkljb24uRGVmYXVsdCgpLAogICAgICAgICAgICAgICAgfQogICAgICAgICAgICApLmFkZFRvKG1hcF9jMzE2NDk2NjRkMzQ0ZTYyYjY0ZjExOTRmOTdiNzM1NSk7CiAgICAgICAgCiAgICAKICAgICAgICB2YXIgbWFya2VyXzU5ZmQwODg4NTc3NDRjOTI5NTFmN2NiODA4ZGZjM2IyID0gTC5tYXJrZXIoCiAgICAgICAgICAgIFs0MC44OTk4ODcwODQ5NjA5NCwgLTc0LjI1NTIxODUwNTg1OTM4XSwKICAgICAgICAgICAgewogICAgICAgICAgICAgICAgaWNvbjogbmV3IEwuSWNvbi5EZWZhdWx0KCksCiAgICAgICAgICAgICAgICB9CiAgICAgICAgICAgICkuYWRkVG8obWFwX2MzMTY0OTY2NGQzNDRlNjJiNjRmMTE5NGY5N2I3MzU1KTsKICAgICAgICAKICAgIAogICAgICAgIHZhciBtYXJrZXJfYjU1NTVhZWEwMTMwNDdjNTk5MWQwYjhjZjkzMzMzZTggPSBMLm1hcmtlcigKICAgICAgICAgICAgWzQwLjk0ODYwNDU4Mzc0MDI0LCAtNzQuMDAyMjUwNjcxMzg2NzJdLAogICAgICAgICAgICB7CiAgICAgICAgICAgICAgICBpY29uOiBuZXcgTC5JY29uLkRlZmF1bHQoKSwKICAgICAgICAgICAgICAgIH0KICAgICAgICAgICAgKS5hZGRUbyhtYXBfYzMxNjQ5NjY0ZDM0NGU2MmI2NGYxMTk0Zjk3YjczNTUpOwogICAgICAgIAogICAgCiAgICAgICAgdmFyIG1hcmtlcl81ODU1M2FmYjdiOTg0NzI2OTVlNzBmYzViZTMyNjJjMCA9IEwubWFya2VyKAogICAgICAgICAgICBbNDAuNTg5OTI3NjczMzM5ODQ0LCAtNzQuMTUyMDkxOTc5OTgwNDhdLAogICAgICAgICAgICB7CiAgICAgICAgICAgICAgICBpY29uOiBuZXcgTC5JY29uLkRlZmF1bHQoKSwKICAgICAgICAgICAgICAgIH0KICAgICAgICAgICAgKS5hZGRUbyhtYXBfYzMxNjQ5NjY0ZDM0NGU2MmI2NGYxMTk0Zjk3YjczNTUpOwogICAgICAgIAogICAgCiAgICAgICAgdmFyIG1hcmtlcl82MjVlZDQwY2U5ZmQ0YWRlODVmYzBhYzc4ZGU2MjEwOSA9IEwubWFya2VyKAogICAgICAgICAgICBbNDAuODU3NzcyODI3MTQ4NDQsIC03NC4zNDA1MDc1MDczMjQyMl0sCiAgICAgICAgICAgIHsKICAgICAgICAgICAgICAgIGljb246IG5ldyBMLkljb24uRGVmYXVsdCgpLAogICAgICAgICAgICAgICAgfQogICAgICAgICAgICApLmFkZFRvKG1hcF9jMzE2NDk2NjRkMzQ0ZTYyYjY0ZjExOTRmOTdiNzM1NSk7CiAgICAgICAgCiAgICAKICAgICAgICB2YXIgbWFya2VyX2E4OGQwZjkzNGY3MTQxOWFiNjA1MzM2ZDhmZTAyYTQ4ID0gTC5tYXJrZXIoCiAgICAgICAgICAgIFs0MC42NjU1MzExNTg0NDcyNywgLTczLjQ2NTM4NTQzNzAxMTczXSwKICAgICAgICAgICAgewogICAgICAgICAgICAgICAgaWNvbjogbmV3IEwuSWNvbi5EZWZhdWx0KCksCiAgICAgICAgICAgICAgICB9CiAgICAgICAgICAgICkuYWRkVG8obWFwX2MzMTY0OTY2NGQzNDRlNjJiNjRmMTE5NGY5N2I3MzU1KTsKICAgICAgICAKICAgIAogICAgICAgIHZhciBtYXJrZXJfMGQzOWNjNTlmNDZhNGRiZTllZjlhNWI3MzA5NjAzNzMgPSBMLm1hcmtlcigKICAgICAgICAgICAgWzQwLjUwNjY2NDI3NjEyMzA1LCAtNzQuMjUxNzE2NjEzNzY5NTVdLAogICAgICAgICAgICB7CiAgICAgICAgICAgICAgICBpY29uOiBuZXcgTC5JY29uLkRlZmF1bHQoKSwKICAgICAgICAgICAgICAgIH0KICAgICAgICAgICAgKS5hZGRUbyhtYXBfYzMxNjQ5NjY0ZDM0NGU2MmI2NGYxMTk0Zjk3YjczNTUpOwogICAgICAgIAogICAgCiAgICAgICAgdmFyIG1hcmtlcl9iY2VjZGVlMGQwMWI0MGM1ODhhZWQxZmQzNDExNGRkNCA9IEwubWFya2VyKAogICAgICAgICAgICBbNDAuNzcxNDE5NTI1MTQ2NDgsIC03My41Njk4NDcxMDY5MzM1OF0sCiAgICAgICAgICAgIHsKICAgICAgICAgICAgICAgIGljb246IG5ldyBMLkljb24uRGVmYXVsdCgpLAogICAgICAgICAgICAgICAgfQogICAgICAgICAgICApLmFkZFRvKG1hcF9jMzE2NDk2NjRkMzQ0ZTYyYjY0ZjExOTRmOTdiNzM1NSk7CiAgICAgICAgCiAgICAKICAgICAgICB2YXIgbWFya2VyXzQ5ZjFmOGFjYmFlNjQ5YTJhOWMxODRlOWI1ZTBhYzkzID0gTC5tYXJrZXIoCiAgICAgICAgICAgIFs0MC42ODk1MTAzNDU0NTg5OCwgLTc0LjE4NDI3Mjc2NjExMzI4XSwKICAgICAgICAgICAgewogICAgICAgICAgICAgICAgaWNvbjogbmV3IEwuSWNvbi5EZWZhdWx0KCksCiAgICAgICAgICAgICAgICB9CiAgICAgICAgICAgICkuYWRkVG8obWFwX2MzMTY0OTY2NGQzNDRlNjJiNjRmMTE5NGY5N2I3MzU1KTsKICAgICAgICAKICAgIAogICAgICAgIHZhciBtYXJrZXJfYjQ0YTY1ZTE4M2I0NGI1NjhiMTg1NTdlNTRlNDg3YjYgPSBMLm1hcmtlcigKICAgICAgICAgICAgWzQwLjczMzkzNjMwOTgxNDQ1LCAtNzQuMTYyMTA5Mzc1XSwKICAgICAgICAgICAgewogICAgICAgICAgICAgICAgaWNvbjogbmV3IEwuSWNvbi5EZWZhdWx0KCksCiAgICAgICAgICAgICAgICB9CiAgICAgICAgICAgICkuYWRkVG8obWFwX2MzMTY0OTY2NGQzNDRlNjJiNjRmMTE5NGY5N2I3MzU1KTsKICAgICAgICAKICAgIAogICAgICAgIHZhciBtYXJrZXJfZjExZTExMDkxYjg4NGRhZjljNWVlODNlOGY0ZmRhMzMgPSBMLm1hcmtlcigKICAgICAgICAgICAgWzQwLjU4NzY5NjA3NTQzOTQ1LCAtNzMuNjU2NTU1MTc1NzgxMjVdLAogICAgICAgICAgICB7CiAgICAgICAgICAgICAgICBpY29uOiBuZXcgTC5JY29uLkRlZmF1bHQoKSwKICAgICAgICAgICAgICAgIH0KICAgICAgICAgICAgKS5hZGRUbyhtYXBfYzMxNjQ5NjY0ZDM0NGU2MmI2NGYxMTk0Zjk3YjczNTUpOwogICAgICAgIAogICAgCiAgICAgICAgdmFyIG1hcmtlcl80ZmIzOThkMjVhMWM0NjIyYmM4YWViMjllNjhlN2MwOSA9IEwubWFya2VyKAogICAgICAgICAgICBbNDAuOTcwNjk5MzEwMzAyNzM0LCAtNzMuODc3Mjg4ODE4MzU5MzhdLAogICAgICAgICAgICB7CiAgICAgICAgICAgICAgICBpY29uOiBuZXcgTC5JY29uLkRlZmF1bHQoKSwKICAgICAgICAgICAgICAgIH0KICAgICAgICAgICAgKS5hZGRUbyhtYXBfYzMxNjQ5NjY0ZDM0NGU2MmI2NGYxMTk0Zjk3YjczNTUpOwogICAgICAgIAogICAgCiAgICAgICAgdmFyIG1hcmtlcl80ZGU2NzA5MjRiYWE0ZDk2OTJhYmY2OTdiM2I1M2MyYyA9IEwubWFya2VyKAogICAgICAgICAgICBbNDAuNzI3MjgzNDc3NzgzMiwgLTczLjY2MzkxNzU0MTUwMzldLAogICAgICAgICAgICB7CiAgICAgICAgICAgICAgICBpY29uOiBuZXcgTC5JY29uLkRlZmF1bHQoKSwKICAgICAgICAgICAgICAgIH0KICAgICAgICAgICAgKS5hZGRUbyhtYXBfYzMxNjQ5NjY0ZDM0NGU2MmI2NGYxMTk0Zjk3YjczNTUpOwogICAgICAgIAogICAgCiAgICAgICAgdmFyIG1hcmtlcl9mZjVjZjUwMTNlZTQ0OWJiYjM2ZTgyMTNjMmRiZmZjYSA9IEwubWFya2VyKAogICAgICAgICAgICBbNDAuNTcxNDgzNjEyMDYwNTUsIC03NC4xMjMwMzkyNDU2MDU0N10sCiAgICAgICAgICAgIHsKICAgICAgICAgICAgICAgIGljb246IG5ldyBMLkljb24uRGVmYXVsdCgpLAogICAgICAgICAgICAgICAgfQogICAgICAgICAgICApLmFkZFRvKG1hcF9jMzE2NDk2NjRkMzQ0ZTYyYjY0ZjExOTRmOTdiNzM1NSk7CiAgICAgICAgCiAgICAKICAgICAgICB2YXIgbWFya2VyXzEzNjFmNjkyNGQxMzQzZDI4YzhkMTk0NTE3ZjE2MzE0ID0gTC5tYXJrZXIoCiAgICAgICAgICAgIFs0MC41MzEzNDkxODIxMjg5MDYsIC03NC4zODAyMDMyNDcwNzAzXSwKICAgICAgICAgICAgewogICAgICAgICAgICAgICAgaWNvbjogbmV3IEwuSWNvbi5EZWZhdWx0KCksCiAgICAgICAgICAgICAgICB9CiAgICAgICAgICAgICkuYWRkVG8obWFwX2MzMTY0OTY2NGQzNDRlNjJiNjRmMTE5NGY5N2I3MzU1KTsKICAgICAgICAKICAgIAogICAgICAgIHZhciBtYXJrZXJfZjY3NDczMzBhNTg0NDUwMzhiNjkyNGFlYzkxNzNhNTYgPSBMLm1hcmtlcigKICAgICAgICAgICAgWzQwLjc3OTM3Njk4MzY0MjU4LCAtNzMuNjYxNjQzOTgxOTMzNThdLAogICAgICAgICAgICB7CiAgICAgICAgICAgICAgICBpY29uOiBuZXcgTC5JY29uLkRlZmF1bHQoKSwKICAgICAgICAgICAgICAgIH0KICAgICAgICAgICAgKS5hZGRUbyhtYXBfYzMxNjQ5NjY0ZDM0NGU2MmI2NGYxMTk0Zjk3YjczNTUpOwogICAgICAgIAogICAgCiAgICAgICAgdmFyIG1hcmtlcl9lOWFjMTQ0Zjc1MWU0MjdiYTBmZDQ0MTc3NjA2MTg3ZSA9IEwubWFya2VyKAogICAgICAgICAgICBbNDAuNzMyNzkxOTAwNjM0NzcsIC03My42OTExMTYzMzMwMDc4MV0sCiAgICAgICAgICAgIHsKICAgICAgICAgICAgICAgIGljb246IG5ldyBMLkljb24uRGVmYXVsdCgpLAogICAgICAgICAgICAgICAgfQogICAgICAgICAgICApLmFkZFRvKG1hcF9jMzE2NDk2NjRkMzQ0ZTYyYjY0ZjExOTRmOTdiNzM1NSk7CiAgICAgICAgCiAgICAKICAgICAgICB2YXIgbWFya2VyXzI1YTI4NDc2NzAzYzRiNjhiZGYyZTRhNWZhNmUxMTIxID0gTC5tYXJrZXIoCiAgICAgICAgICAgIFs0MC44MzAxMjc3MTYwNjQ0NSwgLTczLjY4NzQ2OTQ4MjQyMTg4XSwKICAgICAgICAgICAgewogICAgICAgICAgICAgICAgaWNvbjogbmV3IEwuSWNvbi5EZWZhdWx0KCksCiAgICAgICAgICAgICAgICB9CiAgICAgICAgICAgICkuYWRkVG8obWFwX2MzMTY0OTY2NGQzNDRlNjJiNjRmMTE5NGY5N2I3MzU1KTsKICAgICAgICAKICAgIAogICAgICAgIHZhciBtYXJrZXJfNjdhYzZiMTY4OTRkNGM2ZWE4OTYzMDZiODA2MzhiOWUgPSBMLm1hcmtlcigKICAgICAgICAgICAgWzQwLjU3NjUwMzc1MzY2MjEsIC03NC4wODQyNjY2NjI1OTc2Nl0sCiAgICAgICAgICAgIHsKICAgICAgICAgICAgICAgIGljb246IG5ldyBMLkljb24uRGVmYXVsdCgpLAogICAgICAgICAgICAgICAgfQogICAgICAgICAgICApLmFkZFRvKG1hcF9jMzE2NDk2NjRkMzQ0ZTYyYjY0ZjExOTRmOTdiNzM1NSk7CiAgICAgICAgCiAgICAKICAgICAgICB2YXIgbWFya2VyXzFlMWNhOTJmZDU0MzRhNGZiMGFiODA3ZTllYzkyZDBkID0gTC5tYXJrZXIoCiAgICAgICAgICAgIFs0MC41MTE3OTEyMjkyNDgwNSwgLTc0LjIzNjgwODc3Njg1NTQ3XSwKICAgICAgICAgICAgewogICAgICAgICAgICAgICAgaWNvbjogbmV3IEwuSWNvbi5EZWZhdWx0KCksCiAgICAgICAgICAgICAgICB9CiAgICAgICAgICAgICkuYWRkVG8obWFwX2MzMTY0OTY2NGQzNDRlNjJiNjRmMTE5NGY5N2I3MzU1KTsKICAgICAgICAKICAgIAogICAgICAgIHZhciBtYXJrZXJfODJlOTdmODM4NzI4NDZkOTk2Y2RkYjcxM2ZkNmFhMDkgPSBMLm1hcmtlcigKICAgICAgICAgICAgWzQwLjc0NzE4NDc1MzQxNzk3LCAtNzMuNjAzNTg0Mjg5NTUwNzhdLAogICAgICAgICAgICB7CiAgICAgICAgICAgICAgICBpY29uOiBuZXcgTC5JY29uLkRlZmF1bHQoKSwKICAgICAgICAgICAgICAgIH0KICAgICAgICAgICAgKS5hZGRUbyhtYXBfYzMxNjQ5NjY0ZDM0NGU2MmI2NGYxMTk0Zjk3YjczNTUpOwogICAgICAgIAogICAgCiAgICAgICAgdmFyIG1hcmtlcl9jYzE5ZjE2NzIxZjk0NmUzOGVjNDJkMmUwMTU1Y2M1MSA9IEwubWFya2VyKAogICAgICAgICAgICBbNDAuNjQ5MzY4Mjg2MTMyODEsIC03My42NzcwMDk1ODI1MTk1NV0sCiAgICAgICAgICAgIHsKICAgICAgICAgICAgICAgIGljb246IG5ldyBMLkljb24uRGVmYXVsdCgpLAogICAgICAgICAgICAgICAgfQogICAgICAgICAgICApLmFkZFRvKG1hcF9jMzE2NDk2NjRkMzQ0ZTYyYjY0ZjExOTRmOTdiNzM1NSk7CiAgICAgICAgCiAgICAKICAgICAgICB2YXIgbWFya2VyXzgxZjVjYTA4NmU2NjRiOGY4OTJiNmM4OGU1NTlhYmFlID0gTC5tYXJrZXIoCiAgICAgICAgICAgIFs0MS4wNjA5NDc0MTgyMTI4OSwgLTczLjg2MjgyMzQ4NjMyODEyXSwKICAgICAgICAgICAgewogICAgICAgICAgICAgICAgaWNvbjogbmV3IEwuSWNvbi5EZWZhdWx0KCksCiAgICAgICAgICAgICAgICB9CiAgICAgICAgICAgICkuYWRkVG8obWFwX2MzMTY0OTY2NGQzNDRlNjJiNjRmMTE5NGY5N2I3MzU1KTsKICAgICAgICAKICAgIAogICAgICAgIHZhciBtYXJrZXJfMjU2NDU5NWYwMTkwNDliMmExNWU5MzA1NzQ3NGM0ZDcgPSBMLm1hcmtlcigKICAgICAgICAgICAgWzQwLjc1MzEwMTM0ODg3Njk1LCAtNzMuNTE5NjYwOTQ5NzA3MDJdLAogICAgICAgICAgICB7CiAgICAgICAgICAgICAgICBpY29uOiBuZXcgTC5JY29uLkRlZmF1bHQoKSwKICAgICAgICAgICAgICAgIH0KICAgICAgICAgICAgKS5hZGRUbyhtYXBfYzMxNjQ5NjY0ZDM0NGU2MmI2NGYxMTk0Zjk3YjczNTUpOwogICAgICAgIAogICAgCiAgICAgICAgdmFyIG1hcmtlcl80Y2I0YzAwMmMxOWU0MzNlOWE5NWFhZGE3ZDEwYjRhMiA9IEwubWFya2VyKAogICAgICAgICAgICBbNDAuNzM5MjAwNTkyMDQxMDE2LCAtNzQuMTY4NTMzMzI1MTk1MzFdLAogICAgICAgICAgICB7CiAgICAgICAgICAgICAgICBpY29uOiBuZXcgTC5JY29uLkRlZmF1bHQoKSwKICAgICAgICAgICAgICAgIH0KICAgICAgICAgICAgKS5hZGRUbyhtYXBfYzMxNjQ5NjY0ZDM0NGU2MmI2NGYxMTk0Zjk3YjczNTUpOwogICAgICAgIAogICAgCiAgICAgICAgdmFyIG1hcmtlcl9hYjMxZDE1YmY3YmM0MjdjODI1M2UzMTg2MmJhMWEwYiA9IEwubWFya2VyKAogICAgICAgICAgICBbNDEuMTc1MjY2MjY1ODY5MTMsIC03My43Mzg1Nzg3OTYzODY3Ml0sCiAgICAgICAgICAgIHsKICAgICAgICAgICAgICAgIGljb246IG5ldyBMLkljb24uRGVmYXVsdCgpLAogICAgICAgICAgICAgICAgfQogICAgICAgICAgICApLmFkZFRvKG1hcF9jMzE2NDk2NjRkMzQ0ZTYyYjY0ZjExOTRmOTdiNzM1NSk7CiAgICAgICAgCiAgICAKICAgICAgICB2YXIgbWFya2VyXzgyMTRlMDE4M2I4MDRiZDdhYjM5ODg0YjRjNDI2Zjg3ID0gTC5tYXJrZXIoCiAgICAgICAgICAgIFs0MC45MjAzOTEwODI3NjM2NywgLTczLjg2NTUyNDI5MTk5MjE5XSwKICAgICAgICAgICAgewogICAgICAgICAgICAgICAgaWNvbjogbmV3IEwuSWNvbi5EZWZhdWx0KCksCiAgICAgICAgICAgICAgICB9CiAgICAgICAgICAgICkuYWRkVG8obWFwX2MzMTY0OTY2NGQzNDRlNjJiNjRmMTE5NGY5N2I3MzU1KTsKICAgICAgICAKICAgIAogICAgICAgIHZhciBtYXJrZXJfNDNmNzcyNTc2NzQwNDcxOWJjMmY0YzE0NmI5ODMzYjYgPSBMLm1hcmtlcigKICAgICAgICAgICAgWzQwLjcyNzUxMjM1OTYxOTEzLCAtNzMuMzAwMTU1NjM5NjQ4NDVdLAogICAgICAgICAgICB7CiAgICAgICAgICAgICAgICBpY29uOiBuZXcgTC5JY29uLkRlZmF1bHQoKSwKICAgICAgICAgICAgICAgIH0KICAgICAgICAgICAgKS5hZGRUbyhtYXBfYzMxNjQ5NjY0ZDM0NGU2MmI2NGYxMTk0Zjk3YjczNTUpOwogICAgICAgIAogICAgCiAgICAgICAgdmFyIG1hcmtlcl9mNjFiNTI3MzMwMWQ0Y2ZlODk2ZmU3NDU1YmRlN2ZiYyA9IEwubWFya2VyKAogICAgICAgICAgICBbNDAuNjgzODM0MDc1OTI3NzMsIC03NC4xOTM3MzMyMTUzMzIwM10sCiAgICAgICAgICAgIHsKICAgICAgICAgICAgICAgIGljb246IG5ldyBMLkljb24uRGVmYXVsdCgpLAogICAgICAgICAgICAgICAgfQogICAgICAgICAgICApLmFkZFRvKG1hcF9jMzE2NDk2NjRkMzQ0ZTYyYjY0ZjExOTRmOTdiNzM1NSk7CiAgICAgICAgCiAgICAKICAgICAgICB2YXIgbWFya2VyX2U2NzkyNTkyN2RjNTRiYjJiY2MzNzY0ODM1ODQzOGI4ID0gTC5tYXJrZXIoCiAgICAgICAgICAgIFs0MC45MzUwMDEzNzMyOTEwMTYsIC03My43NTYzMjQ3NjgwNjY0XSwKICAgICAgICAgICAgewogICAgICAgICAgICAgICAgaWNvbjogbmV3IEwuSWNvbi5EZWZhdWx0KCksCiAgICAgICAgICAgICAgICB9CiAgICAgICAgICAgICkuYWRkVG8obWFwX2MzMTY0OTY2NGQzNDRlNjJiNjRmMTE5NGY5N2I3MzU1KTsKICAgICAgICAKICAgIAogICAgICAgIHZhciBtYXJrZXJfNzMxYzI5MjliMzg1NGJmZWE5NDc1MzhkMzEyMjY4ZTcgPSBMLm1hcmtlcigKICAgICAgICAgICAgWzQxLjMxMDI5ODkxOTY3NzczLCAtNzMuODgwOTgxNDQ1MzEyNV0sCiAgICAgICAgICAgIHsKICAgICAgICAgICAgICAgIGljb246IG5ldyBMLkljb24uRGVmYXVsdCgpLAogICAgICAgICAgICAgICAgfQogICAgICAgICAgICApLmFkZFRvKG1hcF9jMzE2NDk2NjRkMzQ0ZTYyYjY0ZjExOTRmOTdiNzM1NSk7CiAgICAgICAgCiAgICAKICAgICAgICB2YXIgbWFya2VyXzhhNGY1MzhhMjA4ODRiN2JiNmZhMjdlZTJhMTFiZmQyID0gTC5tYXJrZXIoCiAgICAgICAgICAgIFs0MC4zMzcyNTM1NzA1NTY2NCwgLTc0LjA5ODA1Mjk3ODUxNTYyXSwKICAgICAgICAgICAgewogICAgICAgICAgICAgICAgaWNvbjogbmV3IEwuSWNvbi5EZWZhdWx0KCksCiAgICAgICAgICAgICAgICB9CiAgICAgICAgICAgICkuYWRkVG8obWFwX2MzMTY0OTY2NGQzNDRlNjJiNjRmMTE5NGY5N2I3MzU1KTsKICAgICAgICAKICAgIAogICAgICAgIHZhciBtYXJrZXJfZDMwYzg1MmJjYTFiNGE0MGEyNmJkNDU5N2NmY2UzOTQgPSBMLm1hcmtlcigKICAgICAgICAgICAgWzQwLjk0MDMwMzgwMjQ5MDI0LCAtNzMuODM0ODY5Mzg0NzY1NjJdLAogICAgICAgICAgICB7CiAgICAgICAgICAgICAgICBpY29uOiBuZXcgTC5JY29uLkRlZmF1bHQoKSwKICAgICAgICAgICAgICAgIH0KICAgICAgICAgICAgKS5hZGRUbyhtYXBfYzMxNjQ5NjY0ZDM0NGU2MmI2NGYxMTk0Zjk3YjczNTUpOwogICAgICAgIAogICAgCiAgICAgICAgdmFyIG1hcmtlcl8xNjQ1YjY0ODRlZmU0ZDk3YjI4MDAzNThhZGU0ZDdjZSA9IEwubWFya2VyKAogICAgICAgICAgICBbNDAuODYxNDM4NzUxMjIwNywgLTc0LjQxMjUzNjYyMTA5Mzc1XSwKICAgICAgICAgICAgewogICAgICAgICAgICAgICAgaWNvbjogbmV3IEwuSWNvbi5EZWZhdWx0KCksCiAgICAgICAgICAgICAgICB9CiAgICAgICAgICAgICkuYWRkVG8obWFwX2MzMTY0OTY2NGQzNDRlNjJiNjRmMTE5NGY5N2I3MzU1KTsKICAgICAgICAKICAgIAogICAgICAgIHZhciBtYXJrZXJfMWY1MGExMjc4NmY5NDQ4Yjg5NzY4MTRhMWNmOTRjODIgPSBMLm1hcmtlcigKICAgICAgICAgICAgWzQwLjU3NTQwMTMwNjE1MjM0LCAtNzMuOTg2NzA5NTk0NzI2NTZdLAogICAgICAgICAgICB7CiAgICAgICAgICAgICAgICBpY29uOiBuZXcgTC5JY29uLkRlZmF1bHQoKSwKICAgICAgICAgICAgICAgIH0KICAgICAgICAgICAgKS5hZGRUbyhtYXBfYzMxNjQ5NjY0ZDM0NGU2MmI2NGYxMTk0Zjk3YjczNTUpOwogICAgICAgIAogICAgCiAgICAgICAgdmFyIG1hcmtlcl85Zjk5YmZjMTNjNGY0ZGJkYTdkZTFlZmEyMDg1NmJkMSA9IEwubWFya2VyKAogICAgICAgICAgICBbNDAuNzg4ODEwNzI5OTgwNDcsIC03My42NzkwMDA4NTQ0OTIxOV0sCiAgICAgICAgICAgIHsKICAgICAgICAgICAgICAgIGljb246IG5ldyBMLkljb24uRGVmYXVsdCgpLAogICAgICAgICAgICAgICAgfQogICAgICAgICAgICApLmFkZFRvKG1hcF9jMzE2NDk2NjRkMzQ0ZTYyYjY0ZjExOTRmOTdiNzM1NSk7CiAgICAgICAgCiAgICAKICAgICAgICB2YXIgbWFya2VyXzlhMWM0ZjBkODAzODRjODg5N2I5Yjg1Y2I2OTRhNzYzID0gTC5tYXJrZXIoCiAgICAgICAgICAgIFs0MC45MzcyMDYyNjgzMTA1NSwgLTczLjgzNDI1MTQwMzgwODZdLAogICAgICAgICAgICB7CiAgICAgICAgICAgICAgICBpY29uOiBuZXcgTC5JY29uLkRlZmF1bHQoKSwKICAgICAgICAgICAgICAgIH0KICAgICAgICAgICAgKS5hZGRUbyhtYXBfYzMxNjQ5NjY0ZDM0NGU2MmI2NGYxMTk0Zjk3YjczNTUpOwogICAgICAgIAogICAgCiAgICAgICAgdmFyIG1hcmtlcl9kNTJlYTg1YjRhNmE0OGM4OTE5OTU2ZDNjYjgyYTdjMCA9IEwubWFya2VyKAogICAgICAgICAgICBbNDAuNzM3NjEzNjc3OTc4NTIsIC03My42ODIyNTA5NzY1NjI1XSwKICAgICAgICAgICAgewogICAgICAgICAgICAgICAgaWNvbjogbmV3IEwuSWNvbi5EZWZhdWx0KCksCiAgICAgICAgICAgICAgICB9CiAgICAgICAgICAgICkuYWRkVG8obWFwX2MzMTY0OTY2NGQzNDRlNjJiNjRmMTE5NGY5N2I3MzU1KTsKICAgICAgICAKICAgIAogICAgICAgIHZhciBtYXJrZXJfZDJjYzMyOTQzMmQ5NDI0MGJjZGYyZjg2MjQwNWVkMWYgPSBMLm1hcmtlcigKICAgICAgICAgICAgWzQwLjUwNjQ1ODI4MjQ3MDcsIC03NC4yMzI1NTkyMDQxMDE1Nl0sCiAgICAgICAgICAgIHsKICAgICAgICAgICAgICAgIGljb246IG5ldyBMLkljb24uRGVmYXVsdCgpLAogICAgICAgICAgICAgICAgfQogICAgICAgICAgICApLmFkZFRvKG1hcF9jMzE2NDk2NjRkMzQ0ZTYyYjY0ZjExOTRmOTdiNzM1NSk7CiAgICAgICAgCiAgICAKICAgICAgICB2YXIgbWFya2VyXzZiM2QxNmNhZmNjZTRmMjJhMWIxYWNkZmNlNTQxNDZlID0gTC5tYXJrZXIoCiAgICAgICAgICAgIFs0MC45MTk2NTg2NjA4ODg2NywgLTczLjgwNjA5ODkzNzk4ODNdLAogICAgICAgICAgICB7CiAgICAgICAgICAgICAgICBpY29uOiBuZXcgTC5JY29uLkRlZmF1bHQoKSwKICAgICAgICAgICAgICAgIH0KICAgICAgICAgICAgKS5hZGRUbyhtYXBfYzMxNjQ5NjY0ZDM0NGU2MmI2NGYxMTk0Zjk3YjczNTUpOwogICAgICAgIAogICAgCiAgICAgICAgdmFyIG1hcmtlcl80NjIyYTdhOTJjYjA0NDgxYTg0NjMxNThjYmFlYmUxMiA9IEwubWFya2VyKAogICAgICAgICAgICBbNDAuOTQ3OTU5ODk5OTAyMzQsIC03My44MzA5MDIwOTk2MDkzOF0sCiAgICAgICAgICAgIHsKICAgICAgICAgICAgICAgIGljb246IG5ldyBMLkljb24uRGVmYXVsdCgpLAogICAgICAgICAgICAgICAgfQogICAgICAgICAgICApLmFkZFRvKG1hcF9jMzE2NDk2NjRkMzQ0ZTYyYjY0ZjExOTRmOTdiNzM1NSk7CiAgICAgICAgCiAgICAKICAgICAgICB2YXIgbWFya2VyXzEyY2U3YjM3NzU3MDQzZDI4ZTFmMjNmZjQzOGRkMzA0ID0gTC5tYXJrZXIoCiAgICAgICAgICAgIFs0MC43MzQ5Nzc3MjIxNjc5NywgLTc0LjE2NDQ4OTc0NjA5Mzc1XSwKICAgICAgICAgICAgewogICAgICAgICAgICAgICAgaWNvbjogbmV3IEwuSWNvbi5EZWZhdWx0KCksCiAgICAgICAgICAgICAgICB9CiAgICAgICAgICAgICkuYWRkVG8obWFwX2MzMTY0OTY2NGQzNDRlNjJiNjRmMTE5NGY5N2I3MzU1KTsKICAgICAgICAKICAgIAogICAgICAgIHZhciBtYXJrZXJfYTlhNGFlNmMzNjMxNDI4NmJmMDBlZGM2Nzc3MGE4ZDggPSBMLm1hcmtlcigKICAgICAgICAgICAgWzQwLjYzNDQ3MTg5MzMxMDU1LCAtNzQuNTQ1MTI3ODY4NjUyMzRdLAogICAgICAgICAgICB7CiAgICAgICAgICAgICAgICBpY29uOiBuZXcgTC5JY29uLkRlZmF1bHQoKSwKICAgICAgICAgICAgICAgIH0KICAgICAgICAgICAgKS5hZGRUbyhtYXBfYzMxNjQ5NjY0ZDM0NGU2MmI2NGYxMTk0Zjk3YjczNTUpOwogICAgICAgIAogICAgCiAgICAgICAgdmFyIG1hcmtlcl9jMTU5OTIzZmJhMmE0ODAxYjE3MzkwZWFiNTU4YjIxMCA9IEwubWFya2VyKAogICAgICAgICAgICBbNDAuOTc5OTMwODc3Njg1NTUsIC03My42NTgzNDA0NTQxMDE1Nl0sCiAgICAgICAgICAgIHsKICAgICAgICAgICAgICAgIGljb246IG5ldyBMLkljb24uRGVmYXVsdCgpLAogICAgICAgICAgICAgICAgfQogICAgICAgICAgICApLmFkZFRvKG1hcF9jMzE2NDk2NjRkMzQ0ZTYyYjY0ZjExOTRmOTdiNzM1NSk7CiAgICAgICAgCiAgICAKICAgICAgICB2YXIgbWFya2VyXzg1OGZhMWZkNWZhNDQzZDc4NjYzZGYzZDI4NTMxYjBjID0gTC5tYXJrZXIoCiAgICAgICAgICAgIFs0MC45Mzc5Mzg2OTAxODU1NSwgLTczLjg0NjM2Njg4MjMyNDIyXSwKICAgICAgICAgICAgewogICAgICAgICAgICAgICAgaWNvbjogbmV3IEwuSWNvbi5EZWZhdWx0KCksCiAgICAgICAgICAgICAgICB9CiAgICAgICAgICAgICkuYWRkVG8obWFwX2MzMTY0OTY2NGQzNDRlNjJiNjRmMTE5NGY5N2I3MzU1KTsKICAgICAgICAKICAgIAogICAgICAgIHZhciBtYXJrZXJfZGEzNGRkMmUyMTJkNDYyNWIzODkyZWE0M2EyYWIxYjAgPSBMLm1hcmtlcigKICAgICAgICAgICAgWzQwLjcwNjMyOTM0NTcwMzEzLCAtNzQuMjA0Njg5MDI1ODc4OV0sCiAgICAgICAgICAgIHsKICAgICAgICAgICAgICAgIGljb246IG5ldyBMLkljb24uRGVmYXVsdCgpLAogICAgICAgICAgICAgICAgfQogICAgICAgICAgICApLmFkZFRvKG1hcF9jMzE2NDk2NjRkMzQ0ZTYyYjY0ZjExOTRmOTdiNzM1NSk7CiAgICAgICAgCiAgICAKICAgICAgICB2YXIgbWFya2VyXzdmNzBhMzJmYzQ1YzQwOGViZmQ3ZDIwNGUwNWVkY2QxID0gTC5tYXJrZXIoCiAgICAgICAgICAgIFs0MC45ODc2MjEzMDczNzMwNSwgLTczLjgxNTQ1MjU3NTY4MzU4XSwKICAgICAgICAgICAgewogICAgICAgICAgICAgICAgaWNvbjogbmV3IEwuSWNvbi5EZWZhdWx0KCksCiAgICAgICAgICAgICAgICB9CiAgICAgICAgICAgICkuYWRkVG8obWFwX2MzMTY0OTY2NGQzNDRlNjJiNjRmMTE5NGY5N2I3MzU1KTsKICAgICAgICAKICAgIAogICAgICAgIHZhciBtYXJrZXJfMmVhMTczZTE2NGRmNDE4Y2FiOTdmOThiZGU3OTZmOTMgPSBMLm1hcmtlcigKICAgICAgICAgICAgWzQwLjk5NTc3NzEzMDEyNjk1LCAtNzMuODgyMDk1MzM2OTE0MDZdLAogICAgICAgICAgICB7CiAgICAgICAgICAgICAgICBpY29uOiBuZXcgTC5JY29uLkRlZmF1bHQoKSwKICAgICAgICAgICAgICAgIH0KICAgICAgICAgICAgKS5hZGRUbyhtYXBfYzMxNjQ5NjY0ZDM0NGU2MmI2NGYxMTk0Zjk3YjczNTUpOwogICAgICAgIAogICAgCiAgICAgICAgdmFyIG1hcmtlcl8yZWUzZTllM2Q1YWQ0MmU0ODRhOThhZDFlMzJkNDJiMCA9IEwubWFya2VyKAogICAgICAgICAgICBbNDAuNjk1MDUzMTAwNTg1OTQsIC03NC4xNzgwMzk1NTA3ODEyNV0sCiAgICAgICAgICAgIHsKICAgICAgICAgICAgICAgIGljb246IG5ldyBMLkljb24uRGVmYXVsdCgpLAogICAgICAgICAgICAgICAgfQogICAgICAgICAgICApLmFkZFRvKG1hcF9jMzE2NDk2NjRkMzQ0ZTYyYjY0ZjExOTRmOTdiNzM1NSk7CiAgICAgICAgCiAgICAKICAgICAgICB2YXIgbWFya2VyXzY3Mjg2N2FmNGMzYzRkZjc5M2UzYjRlZTUxMzg1NmU4ID0gTC5tYXJrZXIoCiAgICAgICAgICAgIFs0MC43Mjc3MTA3MjM4NzY5NSwgLTczLjY2NDY0MjMzMzk4NDM4XSwKICAgICAgICAgICAgewogICAgICAgICAgICAgICAgaWNvbjogbmV3IEwuSWNvbi5EZWZhdWx0KCksCiAgICAgICAgICAgICAgICB9CiAgICAgICAgICAgICkuYWRkVG8obWFwX2MzMTY0OTY2NGQzNDRlNjJiNjRmMTE5NGY5N2I3MzU1KTsKICAgICAgICAKICAgIAogICAgICAgIHZhciBtYXJrZXJfMThkZTA2OTRkMTcxNDE3MmJlNTNjYWRlZDE1NWE2NWUgPSBMLm1hcmtlcigKICAgICAgICAgICAgWzQwLjY5NDg2OTk5NTExNzE5LCAtNzQuMTc3NzQ5NjMzNzg5MDZdLAogICAgICAgICAgICB7CiAgICAgICAgICAgICAgICBpY29uOiBuZXcgTC5JY29uLkRlZmF1bHQoKSwKICAgICAgICAgICAgICAgIH0KICAgICAgICAgICAgKS5hZGRUbyhtYXBfYzMxNjQ5NjY0ZDM0NGU2MmI2NGYxMTk0Zjk3YjczNTUpOwogICAgICAgIAogICAgCiAgICAgICAgdmFyIG1hcmtlcl9hM2VkZGViOTc1YmE0NDU1YjhkODY5ZmExYWI4NmU5OSA9IEwubWFya2VyKAogICAgICAgICAgICBbNDAuNTc2NzUxNzA4OTg0Mzc1LCAtNzQuMDA0OTI4NTg4ODY3Ml0sCiAgICAgICAgICAgIHsKICAgICAgICAgICAgICAgIGljb246IG5ldyBMLkljb24uRGVmYXVsdCgpLAogICAgICAgICAgICAgICAgfQogICAgICAgICAgICApLmFkZFRvKG1hcF9jMzE2NDk2NjRkMzQ0ZTYyYjY0ZjExOTRmOTdiNzM1NSk7CiAgICAgICAgCiAgICAKICAgICAgICB2YXIgbWFya2VyXzk3ODM3OGY4YjU2NjRlMjM4ZGM5YzU4MDMwYjExNWVlID0gTC5tYXJrZXIoCiAgICAgICAgICAgIFs0MC41NzM3NjA5ODYzMjgxMywgLTczLjk5OTM1MTUwMTQ2NDgzXSwKICAgICAgICAgICAgewogICAgICAgICAgICAgICAgaWNvbjogbmV3IEwuSWNvbi5EZWZhdWx0KCksCiAgICAgICAgICAgICAgICB9CiAgICAgICAgICAgICkuYWRkVG8obWFwX2MzMTY0OTY2NGQzNDRlNjJiNjRmMTE5NGY5N2I3MzU1KTsKICAgICAgICAKICAgIAogICAgICAgIHZhciBtYXJrZXJfYTU2NmY1MDZiOWMzNDY5ODkyYTJkN2ExNDcxNTJhMTQgPSBMLm1hcmtlcigKICAgICAgICAgICAgWzQwLjY5NTE0NDY1MzMyMDMxLCAtNzQuMTc4NDc0NDI2MjY5NTVdLAogICAgICAgICAgICB7CiAgICAgICAgICAgICAgICBpY29uOiBuZXcgTC5JY29uLkRlZmF1bHQoKSwKICAgICAgICAgICAgICAgIH0KICAgICAgICAgICAgKS5hZGRUbyhtYXBfYzMxNjQ5NjY0ZDM0NGU2MmI2NGYxMTk0Zjk3YjczNTUpOwogICAgICAgIAogICAgCiAgICAgICAgdmFyIG1hcmtlcl9jOTUwMzgwYTUxMzk0MDFkYWQwYTZiNWI2OTg4YWM4OCA9IEwubWFya2VyKAogICAgICAgICAgICBbNDAuNjkyNTQ2ODQ0NDgyNDE1LCAtNzQuMTg0NDc4NzU5NzY1NjJdLAogICAgICAgICAgICB7CiAgICAgICAgICAgICAgICBpY29uOiBuZXcgTC5JY29uLkRlZmF1bHQoKSwKICAgICAgICAgICAgICAgIH0KICAgICAgICAgICAgKS5hZGRUbyhtYXBfYzMxNjQ5NjY0ZDM0NGU2MmI2NGYxMTk0Zjk3YjczNTUpOwogICAgICAgIAogICAgCiAgICAgICAgdmFyIG1hcmtlcl9lYjY5YzQxNjFiOGU0ZjBjYjI1NjQxZjliMWVmOTFjZSA9IEwubWFya2VyKAogICAgICAgICAgICBbNDAuOTMwNTgwMTM5MTYwMTU2LCAtNzQuMDAwOTA3ODk3OTQ5MjNdLAogICAgICAgICAgICB7CiAgICAgICAgICAgICAgICBpY29uOiBuZXcgTC5JY29uLkRlZmF1bHQoKSwKICAgICAgICAgICAgICAgIH0KICAgICAgICAgICAgKS5hZGRUbyhtYXBfYzMxNjQ5NjY0ZDM0NGU2MmI2NGYxMTk0Zjk3YjczNTUpOwogICAgICAgIAogICAgCiAgICAgICAgdmFyIG1hcmtlcl8zZmVkMDg0NTQxMWU0M2MzYjg2MGE0YmZhOTVjZTA5MCA9IEwubWFya2VyKAogICAgICAgICAgICBbNDAuOTQyNzk4NjE0NTAxOTUsIC03My44OTE2MDE1NjI1XSwKICAgICAgICAgICAgewogICAgICAgICAgICAgICAgaWNvbjogbmV3IEwuSWNvbi5EZWZhdWx0KCksCiAgICAgICAgICAgICAgICB9CiAgICAgICAgICAgICkuYWRkVG8obWFwX2MzMTY0OTY2NGQzNDRlNjJiNjRmMTE5NGY5N2I3MzU1KTsKICAgICAgICAKICAgIAogICAgICAgIHZhciBtYXJrZXJfZTliZDI2M2FhNDc3NDAzMDk4MTY2MjI1ZTI5YjcyMjQgPSBMLm1hcmtlcigKICAgICAgICAgICAgWzQwLjY4ODEwNjUzNjg2NTIzLCAtNzQuMTgzMzI2NzIxMTkxMzldLAogICAgICAgICAgICB7CiAgICAgICAgICAgICAgICBpY29uOiBuZXcgTC5JY29uLkRlZmF1bHQoKSwKICAgICAgICAgICAgICAgIH0KICAgICAgICAgICAgKS5hZGRUbyhtYXBfYzMxNjQ5NjY0ZDM0NGU2MmI2NGYxMTk0Zjk3YjczNTUpOwogICAgICAgIAogICAgCiAgICAgICAgdmFyIG1hcmtlcl83ZmFmMWYyMzk4OGI0NjQ4OWJjNWVmYTJlNjRjYjZlMCA9IEwubWFya2VyKAogICAgICAgICAgICBbNDAuNjk0ODIwNDA0MDUyNzM0LCAtNzQuMTc3NjczMzM5ODQzNzVdLAogICAgICAgICAgICB7CiAgICAgICAgICAgICAgICBpY29uOiBuZXcgTC5JY29uLkRlZmF1bHQoKSwKICAgICAgICAgICAgICAgIH0KICAgICAgICAgICAgKS5hZGRUbyhtYXBfYzMxNjQ5NjY0ZDM0NGU2MmI2NGYxMTk0Zjk3YjczNTUpOwogICAgICAgIAogICAgCiAgICAgICAgdmFyIG1hcmtlcl9mMzc5NDEzYTVlZDg0NjM4OTJmMjc2YzVkOTUwNmMwMiA9IEwubWFya2VyKAogICAgICAgICAgICBbNDAuOTM5MjA4OTg0Mzc1LCAtNzMuODM0NzMyMDU1NjY0MDZdLAogICAgICAgICAgICB7CiAgICAgICAgICAgICAgICBpY29uOiBuZXcgTC5JY29uLkRlZmF1bHQoKSwKICAgICAgICAgICAgICAgIH0KICAgICAgICAgICAgKS5hZGRUbyhtYXBfYzMxNjQ5NjY0ZDM0NGU2MmI2NGYxMTk0Zjk3YjczNTUpOwogICAgICAgIAogICAgCiAgICAgICAgdmFyIG1hcmtlcl83NDhlNDhlNDQxZjI0OTljYjc3YWEyYTAwMjBmMTUyYyA9IEwubWFya2VyKAogICAgICAgICAgICBbNDEuMjU3NzI4NTc2NjYwMTU2LCAtNzMuNjgzOTk4MTA3OTEwMTRdLAogICAgICAgICAgICB7CiAgICAgICAgICAgICAgICBpY29uOiBuZXcgTC5JY29uLkRlZmF1bHQoKSwKICAgICAgICAgICAgICAgIH0KICAgICAgICAgICAgKS5hZGRUbyhtYXBfYzMxNjQ5NjY0ZDM0NGU2MmI2NGYxMTk0Zjk3YjczNTUpOwogICAgICAgIAogICAgCiAgICAgICAgdmFyIG1hcmtlcl9mZGE5YWNiNWQ0YTY0NWFhYWU0ZDYwZmUzM2VmNzBmNiA9IEwubWFya2VyKAogICAgICAgICAgICBbNDAuNjg4MTAyNzIyMTY3OTcsIC03NC4xODM0MTA2NDQ1MzEyNV0sCiAgICAgICAgICAgIHsKICAgICAgICAgICAgICAgIGljb246IG5ldyBMLkljb24uRGVmYXVsdCgpLAogICAgICAgICAgICAgICAgfQogICAgICAgICAgICApLmFkZFRvKG1hcF9jMzE2NDk2NjRkMzQ0ZTYyYjY0ZjExOTRmOTdiNzM1NSk7CiAgICAgICAgCiAgICAKICAgICAgICB2YXIgbWFya2VyXzhjOTgxZjQ5NDE5YTQzNzE5ZTQ5YjBkYmRkZjdjMDgxID0gTC5tYXJrZXIoCiAgICAgICAgICAgIFs0MC43MTE2MjQxNDU1MDc4MSwgLTc0LjE2NDA3MDEyOTM5NDUzXSwKICAgICAgICAgICAgewogICAgICAgICAgICAgICAgaWNvbjogbmV3IEwuSWNvbi5EZWZhdWx0KCksCiAgICAgICAgICAgICAgICB9CiAgICAgICAgICAgICkuYWRkVG8obWFwX2MzMTY0OTY2NGQzNDRlNjJiNjRmMTE5NGY5N2I3MzU1KTsKICAgICAgICAKICAgIAogICAgICAgIHZhciBtYXJrZXJfYTIyMzA2NGRhZDZlNDIyYjlkMWFlNmRhOWMxZDUxNTQgPSBMLm1hcmtlcigKICAgICAgICAgICAgWzQwLjY4NzY3OTI5MDc3MTQ5LCAtNzQuMTgxNDg4MDM3MTA5MzhdLAogICAgICAgICAgICB7CiAgICAgICAgICAgICAgICBpY29uOiBuZXcgTC5JY29uLkRlZmF1bHQoKSwKICAgICAgICAgICAgICAgIH0KICAgICAgICAgICAgKS5hZGRUbyhtYXBfYzMxNjQ5NjY0ZDM0NGU2MmI2NGYxMTk0Zjk3YjczNTUpOwogICAgICAgIAogICAgCiAgICAgICAgdmFyIG1hcmtlcl9hMzMzNGE5MjQ0NzQ0YjZhODdmMTU4YWI5NWJiNTZhZiA9IEwubWFya2VyKAogICAgICAgICAgICBbNDAuNjkwMjQ2NTgyMDMxMjUsIC03NC4xNzc4NzkzMzM0OTYxXSwKICAgICAgICAgICAgewogICAgICAgICAgICAgICAgaWNvbjogbmV3IEwuSWNvbi5EZWZhdWx0KCksCiAgICAgICAgICAgICAgICB9CiAgICAgICAgICAgICkuYWRkVG8obWFwX2MzMTY0OTY2NGQzNDRlNjJiNjRmMTE5NGY5N2I3MzU1KTsKICAgICAgICAKICAgIAogICAgICAgIHZhciBtYXJrZXJfYWUzMzkzN2ZiNWU3NDk0YzkwZjRiN2U4YWNlY2FmYmEgPSBMLm1hcmtlcigKICAgICAgICAgICAgWzQwLjY4NzcyODg4MTgzNTk0LCAtNzQuMTgxNjc4NzcxOTcyNjZdLAogICAgICAgICAgICB7CiAgICAgICAgICAgICAgICBpY29uOiBuZXcgTC5JY29uLkRlZmF1bHQoKSwKICAgICAgICAgICAgICAgIH0KICAgICAgICAgICAgKS5hZGRUbyhtYXBfYzMxNjQ5NjY0ZDM0NGU2MmI2NGYxMTk0Zjk3YjczNTUpOwogICAgICAgIAogICAgCiAgICAgICAgdmFyIG1hcmtlcl8xYWJjODRiYTgxMDA0YzJmOWU3NDY4ZDc4YTI3ZDgxZiA9IEwubWFya2VyKAogICAgICAgICAgICBbNDAuNjk1MDkxMjQ3NTU4NTk0LCAtNzQuMTc3MjIzMjA1NTY2NF0sCiAgICAgICAgICAgIHsKICAgICAgICAgICAgICAgIGljb246IG5ldyBMLkljb24uRGVmYXVsdCgpLAogICAgICAgICAgICAgICAgfQogICAgICAgICAgICApLmFkZFRvKG1hcF9jMzE2NDk2NjRkMzQ0ZTYyYjY0ZjExOTRmOTdiNzM1NSk7CiAgICAgICAgCiAgICAKICAgICAgICB2YXIgbWFya2VyXzU1YTJmZmRmZDA3NjQ2OTY5N2MzY2VjZjVmYzBkMjJkID0gTC5tYXJrZXIoCiAgICAgICAgICAgIFs0MC45NTA5NTgyNTE5NTMxMywgLTczLjgyMzI0OTgxNjg5NDUzXSwKICAgICAgICAgICAgewogICAgICAgICAgICAgICAgaWNvbjogbmV3IEwuSWNvbi5EZWZhdWx0KCksCiAgICAgICAgICAgICAgICB9CiAgICAgICAgICAgICkuYWRkVG8obWFwX2MzMTY0OTY2NGQzNDRlNjJiNjRmMTE5NGY5N2I3MzU1KTsKICAgICAgICAKICAgIAogICAgICAgIHZhciBtYXJrZXJfNTM3YjJjYTFmNDI3NDVmMzkxZmUzNGNlN2M0OGM4ZWQgPSBMLm1hcmtlcigKICAgICAgICAgICAgWzQwLjY5MDQ2MDIwNTA3ODEzLCAtNzQuMTc3NjUwNDUxNjYwMTRdLAogICAgICAgICAgICB7CiAgICAgICAgICAgICAgICBpY29uOiBuZXcgTC5JY29uLkRlZmF1bHQoKSwKICAgICAgICAgICAgICAgIH0KICAgICAgICAgICAgKS5hZGRUbyhtYXBfYzMxNjQ5NjY0ZDM0NGU2MmI2NGYxMTk0Zjk3YjczNTUpOwogICAgICAgIAogICAgCiAgICAgICAgdmFyIG1hcmtlcl82NmI3ZDZhOGM1YjU0MzFjODU4ZGZhYzczMjM3MzkzMyA9IEwubWFya2VyKAogICAgICAgICAgICBbNDAuNjk1MTI1NTc5ODMzOTg0LCAtNzQuMTc3MTkyNjg3OTg4M10sCiAgICAgICAgICAgIHsKICAgICAgICAgICAgICAgIGljb246IG5ldyBMLkljb24uRGVmYXVsdCgpLAogICAgICAgICAgICAgICAgfQogICAgICAgICAgICApLmFkZFRvKG1hcF9jMzE2NDk2NjRkMzQ0ZTYyYjY0ZjExOTRmOTdiNzM1NSk7CiAgICAgICAgCiAgICAKICAgICAgICB2YXIgbWFya2VyXzc4MDVlMWNiYWUwNjQ4ZTg5NDMyNjExMzEzNDkwZGI3ID0gTC5tYXJrZXIoCiAgICAgICAgICAgIFs0MC42OTUwMjYzOTc3MDUwOCwgLTc0LjE3NzA2Mjk4ODI4MTI1XSwKICAgICAgICAgICAgewogICAgICAgICAgICAgICAgaWNvbjogbmV3IEwuSWNvbi5EZWZhdWx0KCksCiAgICAgICAgICAgICAgICB9CiAgICAgICAgICAgICkuYWRkVG8obWFwX2MzMTY0OTY2NGQzNDRlNjJiNjRmMTE5NGY5N2I3MzU1KTsKICAgICAgICAKICAgIAogICAgICAgIHZhciBtYXJrZXJfOTM5MjA0OTcwNTkwNGUxYjk4MzQ1ZWYwZThkMWZkNjAgPSBMLm1hcmtlcigKICAgICAgICAgICAgWzQwLjY5MDA1NTg0NzE2Nzk3LCAtNzQuMTc3ODc5MzMzNDk2MV0sCiAgICAgICAgICAgIHsKICAgICAgICAgICAgICAgIGljb246IG5ldyBMLkljb24uRGVmYXVsdCgpLAogICAgICAgICAgICAgICAgfQogICAgICAgICAgICApLmFkZFRvKG1hcF9jMzE2NDk2NjRkMzQ0ZTYyYjY0ZjExOTRmOTdiNzM1NSk7CiAgICAgICAgCiAgICAKICAgICAgICB2YXIgbWFya2VyX2YzYmUwZmM0NDc0NjQ0NjdhN2Q2M2M2ZTg1NDY3ZTcxID0gTC5tYXJrZXIoCiAgICAgICAgICAgIFs0MC42ODc3NDAzMjU5Mjc3MywgLTc0LjE4MTMyMDE5MDQyOTddLAogICAgICAgICAgICB7CiAgICAgICAgICAgICAgICBpY29uOiBuZXcgTC5JY29uLkRlZmF1bHQoKSwKICAgICAgICAgICAgICAgIH0KICAgICAgICAgICAgKS5hZGRUbyhtYXBfYzMxNjQ5NjY0ZDM0NGU2MmI2NGYxMTk0Zjk3YjczNTUpOwogICAgICAgIAogICAgCiAgICAgICAgdmFyIG1hcmtlcl9mYWM1ZGRhYjIzOTU0Nzc3YWUyMTZkYTRmOGIyMzk1MSA9IEwubWFya2VyKAogICAgICAgICAgICBbNDAuOTc0MDc5MTMyMDgwMDgsIC03My43NzQwMDk3MDQ1ODk4NF0sCiAgICAgICAgICAgIHsKICAgICAgICAgICAgICAgIGljb246IG5ldyBMLkljb24uRGVmYXVsdCgpLAogICAgICAgICAgICAgICAgfQogICAgICAgICAgICApLmFkZFRvKG1hcF9jMzE2NDk2NjRkMzQ0ZTYyYjY0ZjExOTRmOTdiNzM1NSk7CiAgICAgICAgCiAgICAKICAgICAgICB2YXIgbWFya2VyXzExMTc1OTE0ODMwNTRkZmVhYTQ2NTVhOTBiYzQxZTI2ID0gTC5tYXJrZXIoCiAgICAgICAgICAgIFs0MC42ODg1Nzk1NTkzMjYxNywgLTc0LjE3OTQ0MzM1OTM3NV0sCiAgICAgICAgICAgIHsKICAgICAgICAgICAgICAgIGljb246IG5ldyBMLkljb24uRGVmYXVsdCgpLAogICAgICAgICAgICAgICAgfQogICAgICAgICAgICApLmFkZFRvKG1hcF9jMzE2NDk2NjRkMzQ0ZTYyYjY0ZjExOTRmOTdiNzM1NSk7CiAgICAgICAgCiAgICAKICAgICAgICB2YXIgbWFya2VyX2UxYTU1NmUzMDUxYzQwMmU5MmQ2M2E5ZGEwNmJhNWE4ID0gTC5tYXJrZXIoCiAgICAgICAgICAgIFs0MC41ODM1MTUxNjcyMzYzMywgLTczLjY1MjM4OTUyNjM2NzJdLAogICAgICAgICAgICB7CiAgICAgICAgICAgICAgICBpY29uOiBuZXcgTC5JY29uLkRlZmF1bHQoKSwKICAgICAgICAgICAgICAgIH0KICAgICAgICAgICAgKS5hZGRUbyhtYXBfYzMxNjQ5NjY0ZDM0NGU2MmI2NGYxMTk0Zjk3YjczNTUpOwogICAgICAgIAogICAgCiAgICAgICAgdmFyIG1hcmtlcl83NTFiM2ZjYTI3YTc0YzI4OTBlZTQ5NDcyM2VkOGY2ZCA9IEwubWFya2VyKAogICAgICAgICAgICBbNDAuNjg3NzIxMjUyNDQxNDA2LCAtNzQuMTgxNDg4MDM3MTA5MzhdLAogICAgICAgICAgICB7CiAgICAgICAgICAgICAgICBpY29uOiBuZXcgTC5JY29uLkRlZmF1bHQoKSwKICAgICAgICAgICAgICAgIH0KICAgICAgICAgICAgKS5hZGRUbyhtYXBfYzMxNjQ5NjY0ZDM0NGU2MmI2NGYxMTk0Zjk3YjczNTUpOwogICAgICAgIAogICAgCiAgICAgICAgdmFyIG1hcmtlcl9jOGNiMGE2ZjYxNDg0OGFhYjRhOGJmZjUyMzU2NDAyNSA9IEwubWFya2VyKAogICAgICAgICAgICBbNDAuNzc3MDE1Njg2MDM1MTU2LCAtNzQuMjM2MzUxMDEzMTgzNThdLAogICAgICAgICAgICB7CiAgICAgICAgICAgICAgICBpY29uOiBuZXcgTC5JY29uLkRlZmF1bHQoKSwKICAgICAgICAgICAgICAgIH0KICAgICAgICAgICAgKS5hZGRUbyhtYXBfYzMxNjQ5NjY0ZDM0NGU2MmI2NGYxMTk0Zjk3YjczNTUpOwogICAgICAgIAogICAgCiAgICAgICAgdmFyIG1hcmtlcl85ZDZkZTZmMmQ4NzQ0ZjViYmYwOGE1ZWI2ZmZiNWZhNCA9IEwubWFya2VyKAogICAgICAgICAgICBbNDAuOTQyNTIwMTQxNjAxNTYsIC03My44OTE1ODYzMDM3MTA5NF0sCiAgICAgICAgICAgIHsKICAgICAgICAgICAgICAgIGljb246IG5ldyBMLkljb24uRGVmYXVsdCgpLAogICAgICAgICAgICAgICAgfQogICAgICAgICAgICApLmFkZFRvKG1hcF9jMzE2NDk2NjRkMzQ0ZTYyYjY0ZjExOTRmOTdiNzM1NSk7CiAgICAgICAgCiAgICAKICAgICAgICB2YXIgbWFya2VyXzdjZjQyOTNmNDQyNDQ0ZjJhMGZlZGE3NGFhNGQ4YWE2ID0gTC5tYXJrZXIoCiAgICAgICAgICAgIFs0MC42ODc3MjEyNTI0NDE0MDYsIC03NC4xODI2NDAwNzU2ODM1OF0sCiAgICAgICAgICAgIHsKICAgICAgICAgICAgICAgIGljb246IG5ldyBMLkljb24uRGVmYXVsdCgpLAogICAgICAgICAgICAgICAgfQogICAgICAgICAgICApLmFkZFRvKG1hcF9jMzE2NDk2NjRkMzQ0ZTYyYjY0ZjExOTRmOTdiNzM1NSk7CiAgICAgICAgCiAgICAKICAgICAgICB2YXIgbWFya2VyX2QxMGFkYTA0MjUwMjQ2ZmU4NDEyZDRmMGE3MGE0YzVhID0gTC5tYXJrZXIoCiAgICAgICAgICAgIFs0MC42OTA1Mjg4Njk2Mjg5MDYsIC03NC4xNzc2MDQ2NzUyOTI5OF0sCiAgICAgICAgICAgIHsKICAgICAgICAgICAgICAgIGljb246IG5ldyBMLkljb24uRGVmYXVsdCgpLAogICAgICAgICAgICAgICAgfQogICAgICAgICAgICApLmFkZFRvKG1hcF9jMzE2NDk2NjRkMzQ0ZTYyYjY0ZjExOTRmOTdiNzM1NSk7CiAgICAgICAgCiAgICAKICAgICAgICB2YXIgbWFya2VyXzYzNjNkZjhiYmE4NzRhNDY5MzYyNDNlMGU3ZjY3ZGE3ID0gTC5tYXJrZXIoCiAgICAgICAgICAgIFs0MC42ODc2OTQ1NDk1NjA1NSwgLTc0LjE4MTQ0OTg5MDEzNjcyXSwKICAgICAgICAgICAgewogICAgICAgICAgICAgICAgaWNvbjogbmV3IEwuSWNvbi5EZWZhdWx0KCksCiAgICAgICAgICAgICAgICB9CiAgICAgICAgICAgICkuYWRkVG8obWFwX2MzMTY0OTY2NGQzNDRlNjJiNjRmMTE5NGY5N2I3MzU1KTsKICAgICAgICAKICAgIAogICAgICAgIHZhciBtYXJrZXJfZDc1Y2Y0ZDQ0ZTE1NDEwNjk1YWY5NjlkYWU5M2E2YjYgPSBMLm1hcmtlcigKICAgICAgICAgICAgWzQwLjY5MDQ0ODc2MDk4NjMzLCAtNzQuMTc3NjU4MDgxMDU0NjldLAogICAgICAgICAgICB7CiAgICAgICAgICAgICAgICBpY29uOiBuZXcgTC5JY29uLkRlZmF1bHQoKSwKICAgICAgICAgICAgICAgIH0KICAgICAgICAgICAgKS5hZGRUbyhtYXBfYzMxNjQ5NjY0ZDM0NGU2MmI2NGYxMTk0Zjk3YjczNTUpOwogICAgICAgIAogICAgCiAgICAgICAgdmFyIG1hcmtlcl9jMTkwNGYyNjZmYzY0ZTc4OTNmMjYzYWRiMzNmMDhiNyA9IEwubWFya2VyKAogICAgICAgICAgICBbNDAuNjk1MjEzMzE3ODcxMDk0LCAtNzQuMTc3Mjc2NjExMzI4MTJdLAogICAgICAgICAgICB7CiAgICAgICAgICAgICAgICBpY29uOiBuZXcgTC5JY29uLkRlZmF1bHQoKSwKICAgICAgICAgICAgICAgIH0KICAgICAgICAgICAgKS5hZGRUbyhtYXBfYzMxNjQ5NjY0ZDM0NGU2MmI2NGYxMTk0Zjk3YjczNTUpOwogICAgICAgIAogICAgCiAgICAgICAgdmFyIG1hcmtlcl82ZWY5YTVmMjU2Mzk0ZGU1YjViMTI4Y2RmNDM5YjU0MyA9IEwubWFya2VyKAogICAgICAgICAgICBbNDAuNjk1MDgzNjE4MTY0MDYsIC03NC4xNzcyMjMyMDU1NjY0XSwKICAgICAgICAgICAgewogICAgICAgICAgICAgICAgaWNvbjogbmV3IEwuSWNvbi5EZWZhdWx0KCksCiAgICAgICAgICAgICAgICB9CiAgICAgICAgICAgICkuYWRkVG8obWFwX2MzMTY0OTY2NGQzNDRlNjJiNjRmMTE5NGY5N2I3MzU1KTsKICAgICAgICAKICAgIAogICAgICAgIHZhciBtYXJrZXJfMDE1ZTdkNjZhMGQ3NDBhMWI5NmJmNzIyYThhNDdmOGIgPSBMLm1hcmtlcigKICAgICAgICAgICAgWzQwLjY5NDkwODE0MjA4OTg0NCwgLTc0LjE3Njk2MzgwNjE1MjM0XSwKICAgICAgICAgICAgewogICAgICAgICAgICAgICAgaWNvbjogbmV3IEwuSWNvbi5EZWZhdWx0KCksCiAgICAgICAgICAgICAgICB9CiAgICAgICAgICAgICkuYWRkVG8obWFwX2MzMTY0OTY2NGQzNDRlNjJiNjRmMTE5NGY5N2I3MzU1KTsKICAgICAgICAKICAgIAogICAgICAgIHZhciBtYXJrZXJfYTZhYTBjMTkwOTZlNGNmZWE0NmJlNTFmYjVjODgxNzUgPSBMLm1hcmtlcigKICAgICAgICAgICAgWzQwLjY5MDc2MTU2NjE2MjEsIC03NC4xNzczOTg2ODE2NDA2Ml0sCiAgICAgICAgICAgIHsKICAgICAgICAgICAgICAgIGljb246IG5ldyBMLkljb24uRGVmYXVsdCgpLAogICAgICAgICAgICAgICAgfQogICAgICAgICAgICApLmFkZFRvKG1hcF9jMzE2NDk2NjRkMzQ0ZTYyYjY0ZjExOTRmOTdiNzM1NSk7CiAgICAgICAgCiAgICAKICAgICAgICB2YXIgbWFya2VyX2QzOGI3OTE5MzNlYjQyNjc4YjgzNWJjMjk4MDEzODI0ID0gTC5tYXJrZXIoCiAgICAgICAgICAgIFs0MC42OTUwMTg3NjgzMTA1NSwgLTc0LjE3NzE0NjkxMTYyMTFdLAogICAgICAgICAgICB7CiAgICAgICAgICAgICAgICBpY29uOiBuZXcgTC5JY29uLkRlZmF1bHQoKSwKICAgICAgICAgICAgICAgIH0KICAgICAgICAgICAgKS5hZGRUbyhtYXBfYzMxNjQ5NjY0ZDM0NGU2MmI2NGYxMTk0Zjk3YjczNTUpOwogICAgICAgIAogICAgCiAgICAgICAgdmFyIG1hcmtlcl8wZDAwODkzYmY0MTk0OGUzODMzYTc1ODM5MTk0YmIyOCA9IEwubWFya2VyKAogICAgICAgICAgICBbNDAuNjg5ODcyNzQxNjk5MjIsIC03NC4xNzgxNjE2MjEwOTM3NV0sCiAgICAgICAgICAgIHsKICAgICAgICAgICAgICAgIGljb246IG5ldyBMLkljb24uRGVmYXVsdCgpLAogICAgICAgICAgICAgICAgfQogICAgICAgICAgICApLmFkZFRvKG1hcF9jMzE2NDk2NjRkMzQ0ZTYyYjY0ZjExOTRmOTdiNzM1NSk7CiAgICAgICAgCiAgICAKICAgICAgICB2YXIgbWFya2VyXzdkNDU0ZTNmMzU3ZTQyZWQ5MjcxMDYxYTVjODg5NWRjID0gTC5tYXJrZXIoCiAgICAgICAgICAgIFs0MC42ODc3MDk4MDgzNDk2MSwgLTc0LjE4MTUzMzgxMzQ3NjU2XSwKICAgICAgICAgICAgewogICAgICAgICAgICAgICAgaWNvbjogbmV3IEwuSWNvbi5EZWZhdWx0KCksCiAgICAgICAgICAgICAgICB9CiAgICAgICAgICAgICkuYWRkVG8obWFwX2MzMTY0OTY2NGQzNDRlNjJiNjRmMTE5NGY5N2I3MzU1KTsKICAgICAgICAKICAgIAogICAgICAgIHZhciBtYXJrZXJfOTg3MzA3Y2FjZTY4NGNiMGE1MTk4YzQ2MGM3YmZjM2IgPSBMLm1hcmtlcigKICAgICAgICAgICAgWzQwLjkyMTUzNTQ5MTk0MzM2LCAtNzMuODMxMjYwNjgxMTUyMzRdLAogICAgICAgICAgICB7CiAgICAgICAgICAgICAgICBpY29uOiBuZXcgTC5JY29uLkRlZmF1bHQoKSwKICAgICAgICAgICAgICAgIH0KICAgICAgICAgICAgKS5hZGRUbyhtYXBfYzMxNjQ5NjY0ZDM0NGU2MmI2NGYxMTk0Zjk3YjczNTUpOwogICAgICAgIAogICAgCiAgICAgICAgdmFyIG1hcmtlcl9lNmI2YmJiNGNlMjI0NDRiYjA0NmY3OWFmNmFkZjViOCA9IEwubWFya2VyKAogICAgICAgICAgICBbNDAuNjg3NzM2NTExMjMwNDcsIC03NC4xODE3MDkyODk1NTA3OF0sCiAgICAgICAgICAgIHsKICAgICAgICAgICAgICAgIGljb246IG5ldyBMLkljb24uRGVmYXVsdCgpLAogICAgICAgICAgICAgICAgfQogICAgICAgICAgICApLmFkZFRvKG1hcF9jMzE2NDk2NjRkMzQ0ZTYyYjY0ZjExOTRmOTdiNzM1NSk7CiAgICAgICAgCiAgICAKICAgICAgICB2YXIgbWFya2VyXzY5NTJkNzEzMGFmNDQ1N2RhNDIxNGM2OWZiNGFlNjUzID0gTC5tYXJrZXIoCiAgICAgICAgICAgIFs0MC42ODc4MTI4MDUxNzU3NzQsIC03NC4xODIyMDUyMDAxOTUzMV0sCiAgICAgICAgICAgIHsKICAgICAgICAgICAgICAgIGljb246IG5ldyBMLkljb24uRGVmYXVsdCgpLAogICAgICAgICAgICAgICAgfQogICAgICAgICAgICApLmFkZFRvKG1hcF9jMzE2NDk2NjRkMzQ0ZTYyYjY0ZjExOTRmOTdiNzM1NSk7CiAgICAgICAgCiAgICAKICAgICAgICB2YXIgbWFya2VyX2Y4ODM3OTAzZTllMzQzNTJhMmFiZTBlNzJiMmRjYzMwID0gTC5tYXJrZXIoCiAgICAgICAgICAgIFs0MC42OTQ5ODgyNTA3MzI0MTUsIC03NC4xNzcxMzkyODIyMjY1Nl0sCiAgICAgICAgICAgIHsKICAgICAgICAgICAgICAgIGljb246IG5ldyBMLkljb24uRGVmYXVsdCgpLAogICAgICAgICAgICAgICAgfQogICAgICAgICAgICApLmFkZFRvKG1hcF9jMzE2NDk2NjRkMzQ0ZTYyYjY0ZjExOTRmOTdiNzM1NSk7CiAgICAgICAgCiAgICAKICAgICAgICB2YXIgbWFya2VyXzM0ZmJlMTUyMjY4MTRlYjQ4MDNkYTI0MDA3OGU3MGIzID0gTC5tYXJrZXIoCiAgICAgICAgICAgIFs0MC42ODc3MDk4MDgzNDk2MSwgLTc0LjE4MTU3MTk2MDQ0OTIzXSwKICAgICAgICAgICAgewogICAgICAgICAgICAgICAgaWNvbjogbmV3IEwuSWNvbi5EZWZhdWx0KCksCiAgICAgICAgICAgICAgICB9CiAgICAgICAgICAgICkuYWRkVG8obWFwX2MzMTY0OTY2NGQzNDRlNjJiNjRmMTE5NGY5N2I3MzU1KTsKICAgICAgICAKICAgIAogICAgICAgIHZhciBtYXJrZXJfY2I4MmI3MzgxOTQyNDMzYWI3MmE5MTg4YjY5YmEwZGMgPSBMLm1hcmtlcigKICAgICAgICAgICAgWzQwLjY5NTI4OTYxMTgxNjQwNiwgLTc0LjE3NzQ1MjA4NzQwMjM0XSwKICAgICAgICAgICAgewogICAgICAgICAgICAgICAgaWNvbjogbmV3IEwuSWNvbi5EZWZhdWx0KCksCiAgICAgICAgICAgICAgICB9CiAgICAgICAgICAgICkuYWRkVG8obWFwX2MzMTY0OTY2NGQzNDRlNjJiNjRmMTE5NGY5N2I3MzU1KTsKICAgICAgICAKICAgIAogICAgICAgIHZhciBtYXJrZXJfNmRmOTg2MTYyNjJiNDhkMjg0ZGU4ZTg3NjdiMmQ1YWMgPSBMLm1hcmtlcigKICAgICAgICAgICAgWzQwLjY4Nzc0NDE0MDYyNSwgLTc0LjE4MjA5MDc1OTI3NzM0XSwKICAgICAgICAgICAgewogICAgICAgICAgICAgICAgaWNvbjogbmV3IEwuSWNvbi5EZWZhdWx0KCksCiAgICAgICAgICAgICAgICB9CiAgICAgICAgICAgICkuYWRkVG8obWFwX2MzMTY0OTY2NGQzNDRlNjJiNjRmMTE5NGY5N2I3MzU1KTsKICAgICAgICAKICAgIAogICAgICAgIHZhciBtYXJrZXJfMWI1NTYzYTdkNzhmNDc0ZjkzMmZiYTFmY2IwMzBiMDkgPSBMLm1hcmtlcigKICAgICAgICAgICAgWzQwLjY5NTUwMzIzNDg2MzI4LCAtNzQuMTc3NzI2NzQ1NjA1NDddLAogICAgICAgICAgICB7CiAgICAgICAgICAgICAgICBpY29uOiBuZXcgTC5JY29uLkRlZmF1bHQoKSwKICAgICAgICAgICAgICAgIH0KICAgICAgICAgICAgKS5hZGRUbyhtYXBfYzMxNjQ5NjY0ZDM0NGU2MmI2NGYxMTk0Zjk3YjczNTUpOwogICAgICAgIAogICAgCiAgICAgICAgdmFyIG1hcmtlcl85MmQ1YWI1MWY4OTM0ZmYyYThmOGQ1NGEwNjIxNWY2YiA9IEwubWFya2VyKAogICAgICAgICAgICBbNDAuNjk1MTMzMjA5MjI4NTIsIC03NC4xNzcyNjEzNTI1MzkwNl0sCiAgICAgICAgICAgIHsKICAgICAgICAgICAgICAgIGljb246IG5ldyBMLkljb24uRGVmYXVsdCgpLAogICAgICAgICAgICAgICAgfQogICAgICAgICAgICApLmFkZFRvKG1hcF9jMzE2NDk2NjRkMzQ0ZTYyYjY0ZjExOTRmOTdiNzM1NSk7CiAgICAgICAgCiAgICAKICAgICAgICB2YXIgbWFya2VyXzc4MjgyNDIyMGQ5ODQ3YmNiMDE3MTUwMTkxOGYwZmU1ID0gTC5tYXJrZXIoCiAgICAgICAgICAgIFs0MC42OTQ0MDQ2MDIwNTA3OCwgLTc0LjE3Njg2NDYyNDAyMzQyXSwKICAgICAgICAgICAgewogICAgICAgICAgICAgICAgaWNvbjogbmV3IEwuSWNvbi5EZWZhdWx0KCksCiAgICAgICAgICAgICAgICB9CiAgICAgICAgICAgICkuYWRkVG8obWFwX2MzMTY0OTY2NGQzNDRlNjJiNjRmMTE5NGY5N2I3MzU1KTsKICAgICAgICAKICAgIAogICAgICAgIHZhciBtYXJrZXJfNmI0NTkwMjA3ZTUyNGMxM2IyYWQwMjYwODQ3ZDFjOTkgPSBMLm1hcmtlcigKICAgICAgICAgICAgWzQwLjY4ODg4ODU0OTgwNDY5LCAtNzQuMTc5NjU2OTgyNDIxODhdLAogICAgICAgICAgICB7CiAgICAgICAgICAgICAgICBpY29uOiBuZXcgTC5JY29uLkRlZmF1bHQoKSwKICAgICAgICAgICAgICAgIH0KICAgICAgICAgICAgKS5hZGRUbyhtYXBfYzMxNjQ5NjY0ZDM0NGU2MmI2NGYxMTk0Zjk3YjczNTUpOwogICAgICAgIAogICAgCiAgICAgICAgdmFyIG1hcmtlcl9jZGVmNjNkM2U2ZmM0MWI4YjE4YTFlMzhkZjJlZGQ5YyA9IEwubWFya2VyKAogICAgICAgICAgICBbNDAuNjkyOTA5MjQwNzIyNjU2LCAtNzQuMTc2ODExMjE4MjYxNzNdLAogICAgICAgICAgICB7CiAgICAgICAgICAgICAgICBpY29uOiBuZXcgTC5JY29uLkRlZmF1bHQoKSwKICAgICAgICAgICAgICAgIH0KICAgICAgICAgICAgKS5hZGRUbyhtYXBfYzMxNjQ5NjY0ZDM0NGU2MmI2NGYxMTk0Zjk3YjczNTUpOwogICAgICAgIAogICAgCiAgICAgICAgdmFyIG1hcmtlcl85YTQ3ZWJhMzQxMGM0NzRiOTczMmIyNjg5NTU5NzE4MyA9IEwubWFya2VyKAogICAgICAgICAgICBbNDAuNjk0NjQ4NzQyNjc1Nzc0LCAtNzQuMTc2OTQ4NTQ3MzYzMjhdLAogICAgICAgICAgICB7CiAgICAgICAgICAgICAgICBpY29uOiBuZXcgTC5JY29uLkRlZmF1bHQoKSwKICAgICAgICAgICAgICAgIH0KICAgICAgICAgICAgKS5hZGRUbyhtYXBfYzMxNjQ5NjY0ZDM0NGU2MmI2NGYxMTk0Zjk3YjczNTUpOwogICAgICAgIAogICAgCiAgICAgICAgdmFyIG1hcmtlcl9kMDBhNGYyMzdkYjA0OWEyODA5NGMwMTcxZmE2MzM2NSA9IEwubWFya2VyKAogICAgICAgICAgICBbNDAuNjk0OTU3NzMzMTU0MywgLTc0LjE3NzA1NTM1ODg4NjcyXSwKICAgICAgICAgICAgewogICAgICAgICAgICAgICAgaWNvbjogbmV3IEwuSWNvbi5EZWZhdWx0KCksCiAgICAgICAgICAgICAgICB9CiAgICAgICAgICAgICkuYWRkVG8obWFwX2MzMTY0OTY2NGQzNDRlNjJiNjRmMTE5NGY5N2I3MzU1KTsKICAgICAgICAKICAgIAogICAgICAgIHZhciBtYXJrZXJfMjcwZGY4MTczYzQ1NGNjNmIyN2E0NjdhYjI5ODA0ZDAgPSBMLm1hcmtlcigKICAgICAgICAgICAgWzQwLjY5NDEzNzU3MzI0MjE5LCAtNzQuMTc2ODc5ODgyODEyNV0sCiAgICAgICAgICAgIHsKICAgICAgICAgICAgICAgIGljb246IG5ldyBMLkljb24uRGVmYXVsdCgpLAogICAgICAgICAgICAgICAgfQogICAgICAgICAgICApLmFkZFRvKG1hcF9jMzE2NDk2NjRkMzQ0ZTYyYjY0ZjExOTRmOTdiNzM1NSk7CiAgICAgICAgCiAgICAKICAgICAgICB2YXIgbWFya2VyX2QxNGNlMzU2NDdhNTRiMmNiZjc2NWY3MDcyYTVmNzRlID0gTC5tYXJrZXIoCiAgICAgICAgICAgIFs0MC42OTQ4NjYxODA0MTk5MiwgLTc0LjE3Njk1NjE3Njc1NzgxXSwKICAgICAgICAgICAgewogICAgICAgICAgICAgICAgaWNvbjogbmV3IEwuSWNvbi5EZWZhdWx0KCksCiAgICAgICAgICAgICAgICB9CiAgICAgICAgICAgICkuYWRkVG8obWFwX2MzMTY0OTY2NGQzNDRlNjJiNjRmMTE5NGY5N2I3MzU1KTsKICAgICAgICAKICAgIAogICAgICAgIHZhciBtYXJrZXJfMTZmZDUzOTg4ODAxNGFlYWE1YzhjYTQzNzRlNTc3MDYgPSBMLm1hcmtlcigKICAgICAgICAgICAgWzQwLjY5NTA3MjE3NDA3MjI2NiwgLTc0LjE3NzE5MjY4Nzk4ODNdLAogICAgICAgICAgICB7CiAgICAgICAgICAgICAgICBpY29uOiBuZXcgTC5JY29uLkRlZmF1bHQoKSwKICAgICAgICAgICAgICAgIH0KICAgICAgICAgICAgKS5hZGRUbyhtYXBfYzMxNjQ5NjY0ZDM0NGU2MmI2NGYxMTk0Zjk3YjczNTUpOwogICAgICAgIAogICAgCiAgICAgICAgdmFyIG1hcmtlcl81MDg2MzA0MTNlZDI0ZjM1ODdmYmFlY2U2ZDU4YTUyNiA9IEwubWFya2VyKAogICAgICAgICAgICBbNDAuNjk1NDIzMTI2MjIwNywgLTc0LjE3NzcwMzg1NzQyMTg4XSwKICAgICAgICAgICAgewogICAgICAgICAgICAgICAgaWNvbjogbmV3IEwuSWNvbi5EZWZhdWx0KCksCiAgICAgICAgICAgICAgICB9CiAgICAgICAgICAgICkuYWRkVG8obWFwX2MzMTY0OTY2NGQzNDRlNjJiNjRmMTE5NGY5N2I3MzU1KTsKICAgICAgICAKICAgIAogICAgICAgIHZhciBtYXJrZXJfNzgzOGEzYWNkOGViNGFjMGI3ZmMzYTBhMDgxNTAyOGQgPSBMLm1hcmtlcigKICAgICAgICAgICAgWzQwLjY5NDk0MjQ3NDM2NTIzLCAtNzQuMTc3Mzc1NzkzNDU3MDJdLAogICAgICAgICAgICB7CiAgICAgICAgICAgICAgICBpY29uOiBuZXcgTC5JY29uLkRlZmF1bHQoKSwKICAgICAgICAgICAgICAgIH0KICAgICAgICAgICAgKS5hZGRUbyhtYXBfYzMxNjQ5NjY0ZDM0NGU2MmI2NGYxMTk0Zjk3YjczNTUpOwogICAgICAgIAogICAgCiAgICAgICAgdmFyIG1hcmtlcl9jMzExZTk0OTkwMDk0OTAwOWNhMTI3OTFhYjBiZDUzZSA9IEwubWFya2VyKAogICAgICAgICAgICBbNDAuNjkyMjkxMjU5NzY1NjI1LCAtNzQuMTc2OTQ4NTQ3MzYzMjhdLAogICAgICAgICAgICB7CiAgICAgICAgICAgICAgICBpY29uOiBuZXcgTC5JY29uLkRlZmF1bHQoKSwKICAgICAgICAgICAgICAgIH0KICAgICAgICAgICAgKS5hZGRUbyhtYXBfYzMxNjQ5NjY0ZDM0NGU2MmI2NGYxMTk0Zjk3YjczNTUpOwogICAgICAgIAogICAgCiAgICAgICAgdmFyIG1hcmtlcl9hNjhhNTA5NDI1Yjk0YjQwOTFlMTQ0MDNiYzZjMGI4ZCA9IEwubWFya2VyKAogICAgICAgICAgICBbNDAuNjk0OTY5MTc3MjQ2MDk0LCAtNzQuMTc3MTMxNjUyODMyMDNdLAogICAgICAgICAgICB7CiAgICAgICAgICAgICAgICBpY29uOiBuZXcgTC5JY29uLkRlZmF1bHQoKSwKICAgICAgICAgICAgICAgIH0KICAgICAgICAgICAgKS5hZGRUbyhtYXBfYzMxNjQ5NjY0ZDM0NGU2MmI2NGYxMTk0Zjk3YjczNTUpOwogICAgICAgIAogICAgCiAgICAgICAgdmFyIG1hcmtlcl9kOWY0ZjU3ZWU4NTY0NjExODQ5ODU2MzQwYjA0NWM0NCA9IEwubWFya2VyKAogICAgICAgICAgICBbNDAuNjk0OTA0MzI3MzkyNTgsIC03NC4xNzcwNTUzNTg4ODY3Ml0sCiAgICAgICAgICAgIHsKICAgICAgICAgICAgICAgIGljb246IG5ldyBMLkljb24uRGVmYXVsdCgpLAogICAgICAgICAgICAgICAgfQogICAgICAgICAgICApLmFkZFRvKG1hcF9jMzE2NDk2NjRkMzQ0ZTYyYjY0ZjExOTRmOTdiNzM1NSk7CiAgICAgICAgCiAgICAKICAgICAgICB2YXIgbWFya2VyX2VkZjRmOGM2YWQzMzQ5ZDdiYWEwZjBjMzU2YjE5YjMxID0gTC5tYXJrZXIoCiAgICAgICAgICAgIFs0MC42OTUwOTg4NzY5NTMxMywgLTc0LjE3NzIwNzk0Njc3NzM0XSwKICAgICAgICAgICAgewogICAgICAgICAgICAgICAgaWNvbjogbmV3IEwuSWNvbi5EZWZhdWx0KCksCiAgICAgICAgICAgICAgICB9CiAgICAgICAgICAgICkuYWRkVG8obWFwX2MzMTY0OTY2NGQzNDRlNjJiNjRmMTE5NGY5N2I3MzU1KTsKICAgICAgICAKICAgIAogICAgICAgIHZhciBtYXJrZXJfNGU5NWQ1ZGY3MTI2NDdhOGEzOTNmYThjOThhN2RhZmQgPSBMLm1hcmtlcigKICAgICAgICAgICAgWzQwLjY4OTY3MDU2Mjc0NDE1LCAtNzQuMTg0MzQxNDMwNjY0MDZdLAogICAgICAgICAgICB7CiAgICAgICAgICAgICAgICBpY29uOiBuZXcgTC5JY29uLkRlZmF1bHQoKSwKICAgICAgICAgICAgICAgIH0KICAgICAgICAgICAgKS5hZGRUbyhtYXBfYzMxNjQ5NjY0ZDM0NGU2MmI2NGYxMTk0Zjk3YjczNTUpOwogICAgICAgIAogICAgCiAgICAgICAgdmFyIG1hcmtlcl8zYjdmMGUwYTU0ZGY0OWRmOTQ0YWJkMDY4NmUzNjIzNCA9IEwubWFya2VyKAogICAgICAgICAgICBbNDEuMjE5NjMxMTk1MDY4MzYsIC03My42MjY5MDczNDg2MzI4MV0sCiAgICAgICAgICAgIHsKICAgICAgICAgICAgICAgIGljb246IG5ldyBMLkljb24uRGVmYXVsdCgpLAogICAgICAgICAgICAgICAgfQogICAgICAgICAgICApLmFkZFRvKG1hcF9jMzE2NDk2NjRkMzQ0ZTYyYjY0ZjExOTRmOTdiNzM1NSk7CiAgICAgICAgCiAgICAKICAgICAgICB2YXIgbWFya2VyX2FkNTc2OWYxNDk0ZTRlNzg5ZmQ1OGVkYjUzOWZhMjRjID0gTC5tYXJrZXIoCiAgICAgICAgICAgIFs0MC42OTUxMDY1MDYzNDc2NTYsIC03NC4xNzcyMjMyMDU1NjY0XSwKICAgICAgICAgICAgewogICAgICAgICAgICAgICAgaWNvbjogbmV3IEwuSWNvbi5EZWZhdWx0KCksCiAgICAgICAgICAgICAgICB9CiAgICAgICAgICAgICkuYWRkVG8obWFwX2MzMTY0OTY2NGQzNDRlNjJiNjRmMTE5NGY5N2I3MzU1KTsKICAgICAgICAKICAgIAogICAgICAgIHZhciBtYXJrZXJfNGQ0NmNmMDdmODc2NGE3ZjljZDdhMWZhMTllNzQ1YWEgPSBMLm1hcmtlcigKICAgICAgICAgICAgWzQwLjY5MzYzMDIxODUwNTg1LCAtNzQuMTc2NjM1NzQyMTg3NV0sCiAgICAgICAgICAgIHsKICAgICAgICAgICAgICAgIGljb246IG5ldyBMLkljb24uRGVmYXVsdCgpLAogICAgICAgICAgICAgICAgfQogICAgICAgICAgICApLmFkZFRvKG1hcF9jMzE2NDk2NjRkMzQ0ZTYyYjY0ZjExOTRmOTdiNzM1NSk7CiAgICAgICAgCiAgICAKICAgICAgICB2YXIgbWFya2VyXzM3Yjk5N2JlOTU1MTRiMzY5YWU2MWI3YzExNmZiNGZlID0gTC5tYXJrZXIoCiAgICAgICAgICAgIFs0MC42ODgzMjAxNTk5MTIxLCAtNzQuMTgzNjMxODk2OTcyNjZdLAogICAgICAgICAgICB7CiAgICAgICAgICAgICAgICBpY29uOiBuZXcgTC5JY29uLkRlZmF1bHQoKSwKICAgICAgICAgICAgICAgIH0KICAgICAgICAgICAgKS5hZGRUbyhtYXBfYzMxNjQ5NjY0ZDM0NGU2MmI2NGYxMTk0Zjk3YjczNTUpOwogICAgICAgIAogICAgCiAgICAgICAgdmFyIG1hcmtlcl81OTBjY2ZjZjU4M2Q0NjY4OTVhZDA5OTljYzYxZTg2MiA9IEwubWFya2VyKAogICAgICAgICAgICBbNDAuNjg3NzQ0MTQwNjI1LCAtNzQuMTgxNjQwNjI1XSwKICAgICAgICAgICAgewogICAgICAgICAgICAgICAgaWNvbjogbmV3IEwuSWNvbi5EZWZhdWx0KCksCiAgICAgICAgICAgICAgICB9CiAgICAgICAgICAgICkuYWRkVG8obWFwX2MzMTY0OTY2NGQzNDRlNjJiNjRmMTE5NGY5N2I3MzU1KTsKICAgICAgICAKICAgIAogICAgICAgIHZhciBtYXJrZXJfYjlhYmUzNzE4YzFmNGVjZWE0ZTViNmUyODM2ZTVhNjAgPSBMLm1hcmtlcigKICAgICAgICAgICAgWzQwLjY5NDgyNDIxODc1LCAtNzQuMTc3MTA4NzY0NjQ4NDRdLAogICAgICAgICAgICB7CiAgICAgICAgICAgICAgICBpY29uOiBuZXcgTC5JY29uLkRlZmF1bHQoKSwKICAgICAgICAgICAgICAgIH0KICAgICAgICAgICAgKS5hZGRUbyhtYXBfYzMxNjQ5NjY0ZDM0NGU2MmI2NGYxMTk0Zjk3YjczNTUpOwogICAgICAgIAogICAgCiAgICAgICAgdmFyIG1hcmtlcl8zZGQ3MmFmYjNiYWM0NzliYTY3MjcxNGU4Yjc4MzZmNyA9IEwubWFya2VyKAogICAgICAgICAgICBbNDAuNzM5Nzc2NjExMzI4MTMsIC03My42MzU2NzM1MjI5NDkyM10sCiAgICAgICAgICAgIHsKICAgICAgICAgICAgICAgIGljb246IG5ldyBMLkljb24uRGVmYXVsdCgpLAogICAgICAgICAgICAgICAgfQogICAgICAgICAgICApLmFkZFRvKG1hcF9jMzE2NDk2NjRkMzQ0ZTYyYjY0ZjExOTRmOTdiNzM1NSk7CiAgICAgICAgCiAgICAKICAgICAgICB2YXIgbWFya2VyXzk1ZWYxNDcyODE1YjRlZWI4ZTJjZmUxMTdjYzBhZGY4ID0gTC5tYXJrZXIoCiAgICAgICAgICAgIFs0MC43NzQ0NzEyODI5NTg5OCwgLTczLjY0ODM2ODgzNTQ0OTIzXSwKICAgICAgICAgICAgewogICAgICAgICAgICAgICAgaWNvbjogbmV3IEwuSWNvbi5EZWZhdWx0KCksCiAgICAgICAgICAgICAgICB9CiAgICAgICAgICAgICkuYWRkVG8obWFwX2MzMTY0OTY2NGQzNDRlNjJiNjRmMTE5NGY5N2I3MzU1KTsKICAgICAgICAKICAgIAogICAgICAgIHZhciBtYXJrZXJfNTIyZTU4NzQ2Y2QwNGE4Y2I3NzYxMWVmODhkZDNiY2IgPSBMLm1hcmtlcigKICAgICAgICAgICAgWzQwLjY5NTA3NTk4ODc2OTUzLCAtNzQuMTc3MjIzMjA1NTY2NF0sCiAgICAgICAgICAgIHsKICAgICAgICAgICAgICAgIGljb246IG5ldyBMLkljb24uRGVmYXVsdCgpLAogICAgICAgICAgICAgICAgfQogICAgICAgICAgICApLmFkZFRvKG1hcF9jMzE2NDk2NjRkMzQ0ZTYyYjY0ZjExOTRmOTdiNzM1NSk7CiAgICAgICAgCiAgICAKICAgICAgICB2YXIgbWFya2VyXzhmNjk0MzZmOTJmYTRlNWViZTQwZTM1ZGU5NThkZWEzID0gTC5tYXJrZXIoCiAgICAgICAgICAgIFs0MC41OTc3MDk2NTU3NjE3MiwgLTc0LjE2NjYzMzYwNTk1NzAyXSwKICAgICAgICAgICAgewogICAgICAgICAgICAgICAgaWNvbjogbmV3IEwuSWNvbi5EZWZhdWx0KCksCiAgICAgICAgICAgICAgICB9CiAgICAgICAgICAgICkuYWRkVG8obWFwX2MzMTY0OTY2NGQzNDRlNjJiNjRmMTE5NGY5N2I3MzU1KTsKICAgICAgICAKICAgIAogICAgICAgIHZhciBtYXJrZXJfYWM5ZGFjMGZhMDY4NDhjMzk2NTllNmQ4OTJlOTUwMDkgPSBMLm1hcmtlcigKICAgICAgICAgICAgWzQwLjY5MzgzMjM5NzQ2MDk0LCAtNzQuMTc2NjQzMzcxNTgyMDNdLAogICAgICAgICAgICB7CiAgICAgICAgICAgICAgICBpY29uOiBuZXcgTC5JY29uLkRlZmF1bHQoKSwKICAgICAgICAgICAgICAgIH0KICAgICAgICAgICAgKS5hZGRUbyhtYXBfYzMxNjQ5NjY0ZDM0NGU2MmI2NGYxMTk0Zjk3YjczNTUpOwogICAgICAgIAogICAgCiAgICAgICAgdmFyIG1hcmtlcl9mMTJmMzZlMTNhMmM0NDNhYTk0Nzg1Mjg4NzNiNDM3ZSA9IEwubWFya2VyKAogICAgICAgICAgICBbNDAuOTc5NTExMjYwOTg2MzMsIC03My42ODY0OTI5MTk5MjE4OF0sCiAgICAgICAgICAgIHsKICAgICAgICAgICAgICAgIGljb246IG5ldyBMLkljb24uRGVmYXVsdCgpLAogICAgICAgICAgICAgICAgfQogICAgICAgICAgICApLmFkZFRvKG1hcF9jMzE2NDk2NjRkMzQ0ZTYyYjY0ZjExOTRmOTdiNzM1NSk7CiAgICAgICAgCiAgICAKICAgICAgICB2YXIgbWFya2VyX2QyN2ZjYTc2MGIwOTQwZDU5YzBlNGRlMzJhMDkyNjA1ID0gTC5tYXJrZXIoCiAgICAgICAgICAgIFs0MC42ODc5MzEwNjA3OTEwMTYsIC03NC4xODMwNzQ5NTExNzE4OF0sCiAgICAgICAgICAgIHsKICAgICAgICAgICAgICAgIGljb246IG5ldyBMLkljb24uRGVmYXVsdCgpLAogICAgICAgICAgICAgICAgfQogICAgICAgICAgICApLmFkZFRvKG1hcF9jMzE2NDk2NjRkMzQ0ZTYyYjY0ZjExOTRmOTdiNzM1NSk7CiAgICAgICAgCiAgICAKICAgICAgICB2YXIgbWFya2VyXzdiMWFlMzNkYzQ2ZDQzMTVhODA2NzA4YjAyZWZhMGVmID0gTC5tYXJrZXIoCiAgICAgICAgICAgIFs0MC42OTQ1MjY2NzIzNjMyOCwgLTc0LjE3NzAwMTk1MzEyNV0sCiAgICAgICAgICAgIHsKICAgICAgICAgICAgICAgIGljb246IG5ldyBMLkljb24uRGVmYXVsdCgpLAogICAgICAgICAgICAgICAgfQogICAgICAgICAgICApLmFkZFRvKG1hcF9jMzE2NDk2NjRkMzQ0ZTYyYjY0ZjExOTRmOTdiNzM1NSk7CiAgICAgICAgCiAgICAKICAgICAgICB2YXIgbWFya2VyX2I0N2Q2OWEyYTRhYjQyMzRiNGNiNzAwMGQ4YWY3Nzg3ID0gTC5tYXJrZXIoCiAgICAgICAgICAgIFs0MC42OTUwNjgzNTkzNzUsIC03NC4xNzcyMDAzMTczODI4MV0sCiAgICAgICAgICAgIHsKICAgICAgICAgICAgICAgIGljb246IG5ldyBMLkljb24uRGVmYXVsdCgpLAogICAgICAgICAgICAgICAgfQogICAgICAgICAgICApLmFkZFRvKG1hcF9jMzE2NDk2NjRkMzQ0ZTYyYjY0ZjExOTRmOTdiNzM1NSk7CiAgICAgICAgCiAgICAKICAgICAgICB2YXIgbWFya2VyXzZjNTI4Mjk3MzYyOTRjN2ZiYTk3YzRkN2IyNGRhNDQ3ID0gTC5tYXJrZXIoCiAgICAgICAgICAgIFs0MC42OTA2NjYxOTg3MzA0NywgLTc0LjE3NzQ1MjA4NzQwMjM0XSwKICAgICAgICAgICAgewogICAgICAgICAgICAgICAgaWNvbjogbmV3IEwuSWNvbi5EZWZhdWx0KCksCiAgICAgICAgICAgICAgICB9CiAgICAgICAgICAgICkuYWRkVG8obWFwX2MzMTY0OTY2NGQzNDRlNjJiNjRmMTE5NGY5N2I3MzU1KTsKICAgICAgICAKICAgIAogICAgICAgIHZhciBtYXJrZXJfYzU5YmU1NDlmOWE2NGE5ZGI4ZGNhYjgwMjM0MmUzYzMgPSBMLm1hcmtlcigKICAgICAgICAgICAgWzQwLjc0MTk2NjI0NzU1ODU5NCwgLTczLjQ1NjE4NDM4NzIwNzAyXSwKICAgICAgICAgICAgewogICAgICAgICAgICAgICAgaWNvbjogbmV3IEwuSWNvbi5EZWZhdWx0KCksCiAgICAgICAgICAgICAgICB9CiAgICAgICAgICAgICkuYWRkVG8obWFwX2MzMTY0OTY2NGQzNDRlNjJiNjRmMTE5NGY5N2I3MzU1KTsKICAgICAgICAKICAgIAogICAgICAgIHZhciBtYXJrZXJfODc1NWY5YWM3YWFmNDljYjg2ZWQ5ZTQ1Y2MyZGZjYjEgPSBMLm1hcmtlcigKICAgICAgICAgICAgWzQwLjY5NDc3MDgxMjk4ODI4LCAtNzQuMTc2OTU2MTc2NzU3ODFdLAogICAgICAgICAgICB7CiAgICAgICAgICAgICAgICBpY29uOiBuZXcgTC5JY29uLkRlZmF1bHQoKSwKICAgICAgICAgICAgICAgIH0KICAgICAgICAgICAgKS5hZGRUbyhtYXBfYzMxNjQ5NjY0ZDM0NGU2MmI2NGYxMTk0Zjk3YjczNTUpOwogICAgICAgIAogICAgCiAgICAgICAgdmFyIG1hcmtlcl9hNzMyYTk0ZWUyYTE0NjAxYTRlNGQ3Y2RkNDZkZjQ4MiA9IEwubWFya2VyKAogICAgICAgICAgICBbNDAuNjk1MDQ1NDcxMTkxNDA2LCAtNzQuMTc3MjAwMzE3MzgyODFdLAogICAgICAgICAgICB7CiAgICAgICAgICAgICAgICBpY29uOiBuZXcgTC5JY29uLkRlZmF1bHQoKSwKICAgICAgICAgICAgICAgIH0KICAgICAgICAgICAgKS5hZGRUbyhtYXBfYzMxNjQ5NjY0ZDM0NGU2MmI2NGYxMTk0Zjk3YjczNTUpOwogICAgICAgIAogICAgCiAgICAgICAgdmFyIG1hcmtlcl84ZGEzYTVhM2FjYTE0MDMyYjUwY2EyYzg4YWE5NjcwMiA9IEwubWFya2VyKAogICAgICAgICAgICBbNDAuNjg5ODQ5ODUzNTE1NjI1LCAtNzQuMTg0MjcyNzY2MTEzMjhdLAogICAgICAgICAgICB7CiAgICAgICAgICAgICAgICBpY29uOiBuZXcgTC5JY29uLkRlZmF1bHQoKSwKICAgICAgICAgICAgICAgIH0KICAgICAgICAgICAgKS5hZGRUbyhtYXBfYzMxNjQ5NjY0ZDM0NGU2MmI2NGYxMTk0Zjk3YjczNTUpOwogICAgICAgIAogICAgCiAgICAgICAgdmFyIG1hcmtlcl9iOGMxYTZmZmU3YzE0M2YxOGY4NWEzNDIxMjk0NzZmZSA9IEwubWFya2VyKAogICAgICAgICAgICBbNDAuNjk0OTA4MTQyMDg5ODQ0LCAtNzQuMTc3MjM4NDY0MzU1NDddLAogICAgICAgICAgICB7CiAgICAgICAgICAgICAgICBpY29uOiBuZXcgTC5JY29uLkRlZmF1bHQoKSwKICAgICAgICAgICAgICAgIH0KICAgICAgICAgICAgKS5hZGRUbyhtYXBfYzMxNjQ5NjY0ZDM0NGU2MmI2NGYxMTk0Zjk3YjczNTUpOwogICAgICAgIAogICAgCiAgICAgICAgdmFyIG1hcmtlcl85NGIwZGFlMzA0NzY0ODc2OWEyNTBjYTZmOGU5MDg4ZSA9IEwubWFya2VyKAogICAgICAgICAgICBbNDAuNjk1MjgxOTgyNDIxODgsIC03NC4xNzc1OTcwNDU4OTg0NF0sCiAgICAgICAgICAgIHsKICAgICAgICAgICAgICAgIGljb246IG5ldyBMLkljb24uRGVmYXVsdCgpLAogICAgICAgICAgICAgICAgfQogICAgICAgICAgICApLmFkZFRvKG1hcF9jMzE2NDk2NjRkMzQ0ZTYyYjY0ZjExOTRmOTdiNzM1NSk7CiAgICAgICAgCiAgICAKICAgICAgICB2YXIgbWFya2VyXzdhNjQ1YWUxZDExYTQ5MTdiYzc3NTVlZmVkMTU0ZjU0ID0gTC5tYXJrZXIoCiAgICAgICAgICAgIFs0MC42OTA4ODM2MzY0NzQ2MSwgLTc0LjE3NzI5MTg3MDExNzE5XSwKICAgICAgICAgICAgewogICAgICAgICAgICAgICAgaWNvbjogbmV3IEwuSWNvbi5EZWZhdWx0KCksCiAgICAgICAgICAgICAgICB9CiAgICAgICAgICAgICkuYWRkVG8obWFwX2MzMTY0OTY2NGQzNDRlNjJiNjRmMTE5NGY5N2I3MzU1KTsKICAgICAgICAKICAgIAogICAgICAgIHZhciBtYXJrZXJfMTJhOTU2ODhlNTRkNDI3M2FiMTlhY2NhMTg2NzIzM2QgPSBMLm1hcmtlcigKICAgICAgICAgICAgWzQwLjY4OTkyNjE0NzQ2MDk0LCAtNzQuMTc4MDI0MjkxOTkyMTldLAogICAgICAgICAgICB7CiAgICAgICAgICAgICAgICBpY29uOiBuZXcgTC5JY29uLkRlZmF1bHQoKSwKICAgICAgICAgICAgICAgIH0KICAgICAgICAgICAgKS5hZGRUbyhtYXBfYzMxNjQ5NjY0ZDM0NGU2MmI2NGYxMTk0Zjk3YjczNTUpOwogICAgICAgIAogICAgCiAgICAgICAgdmFyIG1hcmtlcl85ZDYxYmRiMjBhZmY0ODVkODUwMmVlYzFmMmJiOTc1ZSA9IEwubWFya2VyKAogICAgICAgICAgICBbNDAuNjk0ODU4NTUxMDI1MzksIC03NC4xNzcwMDE5NTMxMjVdLAogICAgICAgICAgICB7CiAgICAgICAgICAgICAgICBpY29uOiBuZXcgTC5JY29uLkRlZmF1bHQoKSwKICAgICAgICAgICAgICAgIH0KICAgICAgICAgICAgKS5hZGRUbyhtYXBfYzMxNjQ5NjY0ZDM0NGU2MmI2NGYxMTk0Zjk3YjczNTUpOwogICAgICAgIAogICAgCiAgICAgICAgdmFyIG1hcmtlcl9mYmFhOGRjOGJmNzI0YjFlOWYzMzUxOTg4ODgzOTY0MCA9IEwubWFya2VyKAogICAgICAgICAgICBbNDAuNjkzMDA4NDIyODUxNTYsIC03NC4xODQ1NDc0MjQzMTY0XSwKICAgICAgICAgICAgewogICAgICAgICAgICAgICAgaWNvbjogbmV3IEwuSWNvbi5EZWZhdWx0KCksCiAgICAgICAgICAgICAgICB9CiAgICAgICAgICAgICkuYWRkVG8obWFwX2MzMTY0OTY2NGQzNDRlNjJiNjRmMTE5NGY5N2I3MzU1KTsKICAgICAgICAKICAgIAogICAgICAgIHZhciBtYXJrZXJfNjFhMDY2Y2YwMmM0NDMzNWJiYTU5ZGJhMzBlNDQyY2YgPSBMLm1hcmtlcigKICAgICAgICAgICAgWzQwLjY4NzY5MDczNDg2MzI4LCAtNzQuMTgyMjA1MjAwMTk1MzFdLAogICAgICAgICAgICB7CiAgICAgICAgICAgICAgICBpY29uOiBuZXcgTC5JY29uLkRlZmF1bHQoKSwKICAgICAgICAgICAgICAgIH0KICAgICAgICAgICAgKS5hZGRUbyhtYXBfYzMxNjQ5NjY0ZDM0NGU2MmI2NGYxMTk0Zjk3YjczNTUpOwogICAgICAgIAogICAgCiAgICAgICAgdmFyIG1hcmtlcl9hNWU3YjY1YjIxY2E0NDE0YjJiNzU2OGQ1MGQzZmNhYSA9IEwubWFya2VyKAogICAgICAgICAgICBbNDAuNjkzMzA5NzgzOTM1NTUsIC03NC4xNzY2ODE1MTg1NTQ2OV0sCiAgICAgICAgICAgIHsKICAgICAgICAgICAgICAgIGljb246IG5ldyBMLkljb24uRGVmYXVsdCgpLAogICAgICAgICAgICAgICAgfQogICAgICAgICAgICApLmFkZFRvKG1hcF9jMzE2NDk2NjRkMzQ0ZTYyYjY0ZjExOTRmOTdiNzM1NSk7CiAgICAgICAgCiAgICAKICAgICAgICB2YXIgbWFya2VyXzUxZWEyZjQxYzhhMzQxY2RiMDFhYTc3MDZmYmYwNTkzID0gTC5tYXJrZXIoCiAgICAgICAgICAgIFs0MC42OTQ3NDAyOTU0MTAxNTYsIC03NC4xNzY4ODc1MTIyMDcwMl0sCiAgICAgICAgICAgIHsKICAgICAgICAgICAgICAgIGljb246IG5ldyBMLkljb24uRGVmYXVsdCgpLAogICAgICAgICAgICAgICAgfQogICAgICAgICAgICApLmFkZFRvKG1hcF9jMzE2NDk2NjRkMzQ0ZTYyYjY0ZjExOTRmOTdiNzM1NSk7CiAgICAgICAgCiAgICAKICAgICAgICB2YXIgbWFya2VyXzE0OWY4OGJmMTBlNjQ5ODFhZjJkOTMxZmQ4OTZlMjdjID0gTC5tYXJrZXIoCiAgICAgICAgICAgIFs0MC42OTQzMDkyMzQ2MTkxMywgLTc0LjE3Njg5NTE0MTYwMTU2XSwKICAgICAgICAgICAgewogICAgICAgICAgICAgICAgaWNvbjogbmV3IEwuSWNvbi5EZWZhdWx0KCksCiAgICAgICAgICAgICAgICB9CiAgICAgICAgICAgICkuYWRkVG8obWFwX2MzMTY0OTY2NGQzNDRlNjJiNjRmMTE5NGY5N2I3MzU1KTsKICAgICAgICAKICAgIAogICAgICAgIHZhciBtYXJrZXJfOThjZWMwYWM1OGJjNDgzYjk3YmYzYjQwZDRiNzk1MDUgPSBMLm1hcmtlcigKICAgICAgICAgICAgWzQwLjY5NDg5Mjg4MzMwMDc4LCAtNzQuMTc3MDQwMTAwMDk3NjZdLAogICAgICAgICAgICB7CiAgICAgICAgICAgICAgICBpY29uOiBuZXcgTC5JY29uLkRlZmF1bHQoKSwKICAgICAgICAgICAgICAgIH0KICAgICAgICAgICAgKS5hZGRUbyhtYXBfYzMxNjQ5NjY0ZDM0NGU2MmI2NGYxMTk0Zjk3YjczNTUpOwogICAgICAgIAogICAgCiAgICAgICAgdmFyIG1hcmtlcl8xZGNmMTk5ODQxY2M0MDMwOTBhODgxMDlhYWFiYTQwOSA9IEwubWFya2VyKAogICAgICAgICAgICBbNDAuNjg3OTY5MjA3NzYzNjcsIC03NC4xODMwOTAyMDk5NjA5NF0sCiAgICAgICAgICAgIHsKICAgICAgICAgICAgICAgIGljb246IG5ldyBMLkljb24uRGVmYXVsdCgpLAogICAgICAgICAgICAgICAgfQogICAgICAgICAgICApLmFkZFRvKG1hcF9jMzE2NDk2NjRkMzQ0ZTYyYjY0ZjExOTRmOTdiNzM1NSk7CiAgICAgICAgCiAgICAKICAgICAgICB2YXIgbWFya2VyXzNlZGNhZDVlNDdmODQzYTQ5NjczN2Y0ZjBhYzg4ZjRhID0gTC5tYXJrZXIoCiAgICAgICAgICAgIFs0MC42OTMwOTk5NzU1ODU5NCwgLTc0LjE3NjY4OTE0Nzk0OTIzXSwKICAgICAgICAgICAgewogICAgICAgICAgICAgICAgaWNvbjogbmV3IEwuSWNvbi5EZWZhdWx0KCksCiAgICAgICAgICAgICAgICB9CiAgICAgICAgICAgICkuYWRkVG8obWFwX2MzMTY0OTY2NGQzNDRlNjJiNjRmMTE5NGY5N2I3MzU1KTsKICAgICAgICAKICAgIAogICAgICAgIHZhciBtYXJrZXJfMjU2MmE5YTAyZWJkNGRjOGExMTc1Mzg5NjMyNzQ2MjkgPSBMLm1hcmtlcigKICAgICAgICAgICAgWzQwLjY5NDk2OTE3NzI0NjA5NCwgLTc0LjE3NzEwODc2NDY0ODQ0XSwKICAgICAgICAgICAgewogICAgICAgICAgICAgICAgaWNvbjogbmV3IEwuSWNvbi5EZWZhdWx0KCksCiAgICAgICAgICAgICAgICB9CiAgICAgICAgICAgICkuYWRkVG8obWFwX2MzMTY0OTY2NGQzNDRlNjJiNjRmMTE5NGY5N2I3MzU1KTsKICAgICAgICAKICAgIAogICAgICAgIHZhciBtYXJrZXJfNDVkMTBhMjMyMjM5NDFkMTlhNGVlNzUzZTVjMDdiZjIgPSBMLm1hcmtlcigKICAgICAgICAgICAgWzQwLjY4OTQ3OTgyNzg4MDg1LCAtNzQuMTg0MDIwOTk2MDkzNzVdLAogICAgICAgICAgICB7CiAgICAgICAgICAgICAgICBpY29uOiBuZXcgTC5JY29uLkRlZmF1bHQoKSwKICAgICAgICAgICAgICAgIH0KICAgICAgICAgICAgKS5hZGRUbyhtYXBfYzMxNjQ5NjY0ZDM0NGU2MmI2NGYxMTk0Zjk3YjczNTUpOwogICAgICAgIAogICAgCiAgICAgICAgdmFyIG1hcmtlcl8wMTk0MTcxMTE3ZDE0ZDA0YTAyNDkwZDlkOTIxOGU1NCA9IEwubWFya2VyKAogICAgICAgICAgICBbNDAuNjkwMTc0MTAyNzgzMiwgLTc0LjE3Nzc4MDE1MTM2NzJdLAogICAgICAgICAgICB7CiAgICAgICAgICAgICAgICBpY29uOiBuZXcgTC5JY29uLkRlZmF1bHQoKSwKICAgICAgICAgICAgICAgIH0KICAgICAgICAgICAgKS5hZGRUbyhtYXBfYzMxNjQ5NjY0ZDM0NGU2MmI2NGYxMTk0Zjk3YjczNTUpOwogICAgICAgIAogICAgCiAgICAgICAgdmFyIG1hcmtlcl82NDNlZTBjZGMwOWE0MDBiOWQ5MGM4NTc1MTdjYmVjMSA9IEwubWFya2VyKAogICAgICAgICAgICBbNDAuNjk0ODUwOTIxNjMwODUsIC03NC4xNzY5MzMyODg1NzQyMl0sCiAgICAgICAgICAgIHsKICAgICAgICAgICAgICAgIGljb246IG5ldyBMLkljb24uRGVmYXVsdCgpLAogICAgICAgICAgICAgICAgfQogICAgICAgICAgICApLmFkZFRvKG1hcF9jMzE2NDk2NjRkMzQ0ZTYyYjY0ZjExOTRmOTdiNzM1NSk7CiAgICAgICAgCiAgICAKICAgICAgICB2YXIgbWFya2VyXzMyZjFmMzM2MmE2MDQwNjhiMTEwNjMxYTcyOTFiMmJkID0gTC5tYXJrZXIoCiAgICAgICAgICAgIFs0MC42OTUxMTAzMjEwNDQ5MiwgLTc0LjE3NzIzODQ2NDM1NTQ3XSwKICAgICAgICAgICAgewogICAgICAgICAgICAgICAgaWNvbjogbmV3IEwuSWNvbi5EZWZhdWx0KCksCiAgICAgICAgICAgICAgICB9CiAgICAgICAgICAgICkuYWRkVG8obWFwX2MzMTY0OTY2NGQzNDRlNjJiNjRmMTE5NGY5N2I3MzU1KTsKICAgICAgICAKICAgIAogICAgICAgIHZhciBtYXJrZXJfOWY2ODA2ZGEzYjhjNGQwYzgwOTRhYzMxOGI5OWQ0NjAgPSBMLm1hcmtlcigKICAgICAgICAgICAgWzQwLjY5MDQ5ODM1MjA1MDc4LCAtNzQuMTc3NTI4MzgxMzQ3NjZdLAogICAgICAgICAgICB7CiAgICAgICAgICAgICAgICBpY29uOiBuZXcgTC5JY29uLkRlZmF1bHQoKSwKICAgICAgICAgICAgICAgIH0KICAgICAgICAgICAgKS5hZGRUbyhtYXBfYzMxNjQ5NjY0ZDM0NGU2MmI2NGYxMTk0Zjk3YjczNTUpOwogICAgICAgIAogICAgCiAgICAgICAgdmFyIG1hcmtlcl9jZjVhMjk3MTgyYmU0Y2QwOTM4Yzk5ZTQ5YmY3OWFhMCA9IEwubWFya2VyKAogICAgICAgICAgICBbNDAuNjk0NzIxMjIxOTIzODMsIC03NC4xNzY5NjM4MDYxNTIzNF0sCiAgICAgICAgICAgIHsKICAgICAgICAgICAgICAgIGljb246IG5ldyBMLkljb24uRGVmYXVsdCgpLAogICAgICAgICAgICAgICAgfQogICAgICAgICAgICApLmFkZFRvKG1hcF9jMzE2NDk2NjRkMzQ0ZTYyYjY0ZjExOTRmOTdiNzM1NSk7CiAgICAgICAgCiAgICAKICAgICAgICB2YXIgbWFya2VyXzE5MjFiYjJlZDRmZTRiNDU5MGQ5ZDBiZDAzZTIwMTljID0gTC5tYXJrZXIoCiAgICAgICAgICAgIFs0MS4wNTU0MTk5MjE4NzUsIC03My44MjM3ODM4NzQ1MTE3M10sCiAgICAgICAgICAgIHsKICAgICAgICAgICAgICAgIGljb246IG5ldyBMLkljb24uRGVmYXVsdCgpLAogICAgICAgICAgICAgICAgfQogICAgICAgICAgICApLmFkZFRvKG1hcF9jMzE2NDk2NjRkMzQ0ZTYyYjY0ZjExOTRmOTdiNzM1NSk7CiAgICAgICAgCiAgICAKICAgICAgICB2YXIgbWFya2VyX2EyYzJjOTdiOTEyNDQyYTdhOGI5N2JmODU5MGRlOWRhID0gTC5tYXJrZXIoCiAgICAgICAgICAgIFs0MC42OTQ4NDcxMDY5MzM2LCAtNzQuMTc3MDI0ODQxMzA4Nl0sCiAgICAgICAgICAgIHsKICAgICAgICAgICAgICAgIGljb246IG5ldyBMLkljb24uRGVmYXVsdCgpLAogICAgICAgICAgICAgICAgfQogICAgICAgICAgICApLmFkZFRvKG1hcF9jMzE2NDk2NjRkMzQ0ZTYyYjY0ZjExOTRmOTdiNzM1NSk7CiAgICAgICAgCiAgICAKICAgICAgICB2YXIgbWFya2VyXzMxNWVkNzFmNDcyZTQ4NzU4ZjllZTMzYjlkMjhkZjZkID0gTC5tYXJrZXIoCiAgICAgICAgICAgIFs0MC42OTQ3MTM1OTI1MjkzLCAtNzQuMTc2OTcxNDM1NTQ2ODZdLAogICAgICAgICAgICB7CiAgICAgICAgICAgICAgICBpY29uOiBuZXcgTC5JY29uLkRlZmF1bHQoKSwKICAgICAgICAgICAgICAgIH0KICAgICAgICAgICAgKS5hZGRUbyhtYXBfYzMxNjQ5NjY0ZDM0NGU2MmI2NGYxMTk0Zjk3YjczNTUpOwogICAgICAgIAogICAgCiAgICAgICAgdmFyIG1hcmtlcl85NmI2NjE5OWIyMTk0MTcyOTJlODEzNjY2ZTFkM2E1YyA9IEwubWFya2VyKAogICAgICAgICAgICBbNDAuNjg3OTMxMDYwNzkxMDE2LCAtNzQuMTgzMDUyMDYyOTg4M10sCiAgICAgICAgICAgIHsKICAgICAgICAgICAgICAgIGljb246IG5ldyBMLkljb24uRGVmYXVsdCgpLAogICAgICAgICAgICAgICAgfQogICAgICAgICAgICApLmFkZFRvKG1hcF9jMzE2NDk2NjRkMzQ0ZTYyYjY0ZjExOTRmOTdiNzM1NSk7CiAgICAgICAgCiAgICAKICAgICAgICB2YXIgbWFya2VyX2RmN2Y5MzQ2NDNhYjQwYjZhZGVlZDdlNzk1M2JhNGY2ID0gTC5tYXJrZXIoCiAgICAgICAgICAgIFs0MC42OTQ4NTg1NTEwMjUzOSwgLTc0LjE3NzIyMzIwNTU2NjRdLAogICAgICAgICAgICB7CiAgICAgICAgICAgICAgICBpY29uOiBuZXcgTC5JY29uLkRlZmF1bHQoKSwKICAgICAgICAgICAgICAgIH0KICAgICAgICAgICAgKS5hZGRUbyhtYXBfYzMxNjQ5NjY0ZDM0NGU2MmI2NGYxMTk0Zjk3YjczNTUpOwogICAgICAgIAogICAgCiAgICAgICAgdmFyIG1hcmtlcl9mNzcyMTNkOTViYzY0NmEzYTJiZjgwMjhlNTgyNjk0YyA9IEwubWFya2VyKAogICAgICAgICAgICBbNDAuNjk1MjcwNTM4MzMwMDgsIC03NC4xNzc0NjczNDYxOTEzOV0sCiAgICAgICAgICAgIHsKICAgICAgICAgICAgICAgIGljb246IG5ldyBMLkljb24uRGVmYXVsdCgpLAogICAgICAgICAgICAgICAgfQogICAgICAgICAgICApLmFkZFRvKG1hcF9jMzE2NDk2NjRkMzQ0ZTYyYjY0ZjExOTRmOTdiNzM1NSk7CiAgICAgICAgCiAgICAKICAgICAgICB2YXIgbWFya2VyXzYwYTY2YWViNWExODRiZmI4OTMxNDFlM2Y5NzQ5MWRhID0gTC5tYXJrZXIoCiAgICAgICAgICAgIFs0MC42OTMzNTkzNzUsIC03NC4xNzY2NDMzNzE1ODIwM10sCiAgICAgICAgICAgIHsKICAgICAgICAgICAgICAgIGljb246IG5ldyBMLkljb24uRGVmYXVsdCgpLAogICAgICAgICAgICAgICAgfQogICAgICAgICAgICApLmFkZFRvKG1hcF9jMzE2NDk2NjRkMzQ0ZTYyYjY0ZjExOTRmOTdiNzM1NSk7CiAgICAgICAgCiAgICAKICAgICAgICB2YXIgbWFya2VyXzJiNTg1YzA0OTgxNTQ4NjViMjcwNjhmMDE5OWU0N2ZlID0gTC5tYXJrZXIoCiAgICAgICAgICAgIFs0MC42OTQ5MjM0MDA4Nzg5MDYsIC03NC4xNzcwNTUzNTg4ODY3Ml0sCiAgICAgICAgICAgIHsKICAgICAgICAgICAgICAgIGljb246IG5ldyBMLkljb24uRGVmYXVsdCgpLAogICAgICAgICAgICAgICAgfQogICAgICAgICAgICApLmFkZFRvKG1hcF9jMzE2NDk2NjRkMzQ0ZTYyYjY0ZjExOTRmOTdiNzM1NSk7CiAgICAgICAgCiAgICAKICAgICAgICB2YXIgbWFya2VyXzA5ZDMyNTc2MzRmZTQ5YTY5ZWQzNDFlNjgxNGU2MTAyID0gTC5tYXJrZXIoCiAgICAgICAgICAgIFs0MC42ODc3NDQxNDA2MjUsIC03NC4xODI2NTUzMzQ0NzI2Nl0sCiAgICAgICAgICAgIHsKICAgICAgICAgICAgICAgIGljb246IG5ldyBMLkljb24uRGVmYXVsdCgpLAogICAgICAgICAgICAgICAgfQogICAgICAgICAgICApLmFkZFRvKG1hcF9jMzE2NDk2NjRkMzQ0ZTYyYjY0ZjExOTRmOTdiNzM1NSk7CiAgICAgICAgCiAgICAKICAgICAgICB2YXIgbWFya2VyXzFmMmUxZTY1NDFiMzQ2ZmY4ZTNhYjc5NjRiMWEzODZiID0gTC5tYXJrZXIoCiAgICAgICAgICAgIFs0MC42OTcyOTIzMjc4ODA4NSwgLTczLjYxNTAxMzEyMjU1ODZdLAogICAgICAgICAgICB7CiAgICAgICAgICAgICAgICBpY29uOiBuZXcgTC5JY29uLkRlZmF1bHQoKSwKICAgICAgICAgICAgICAgIH0KICAgICAgICAgICAgKS5hZGRUbyhtYXBfYzMxNjQ5NjY0ZDM0NGU2MmI2NGYxMTk0Zjk3YjczNTUpOwogICAgICAgIAogICAgCiAgICAgICAgdmFyIG1hcmtlcl9lYTQ2NzE3ZmI2ZDQ0ZTkxOTlkMWYyMjAyYTYxZDM0NCA9IEwubWFya2VyKAogICAgICAgICAgICBbNDAuNjkwNzYxNTY2MTYyMSwgLTc0LjE3NzM2MDUzNDY2Nzk4XSwKICAgICAgICAgICAgewogICAgICAgICAgICAgICAgaWNvbjogbmV3IEwuSWNvbi5EZWZhdWx0KCksCiAgICAgICAgICAgICAgICB9CiAgICAgICAgICAgICkuYWRkVG8obWFwX2MzMTY0OTY2NGQzNDRlNjJiNjRmMTE5NGY5N2I3MzU1KTsKICAgICAgICAKICAgIAogICAgICAgIHZhciBtYXJrZXJfOWRkODU1ZDVkMjQ3NDI5MGIyMTI5NDU4MzlkYjIyNzQgPSBMLm1hcmtlcigKICAgICAgICAgICAgWzQwLjY5NDIxMDA1MjQ5MDI0LCAtNzQuMTc2ODQ5MzY1MjM0MzhdLAogICAgICAgICAgICB7CiAgICAgICAgICAgICAgICBpY29uOiBuZXcgTC5JY29uLkRlZmF1bHQoKSwKICAgICAgICAgICAgICAgIH0KICAgICAgICAgICAgKS5hZGRUbyhtYXBfYzMxNjQ5NjY0ZDM0NGU2MmI2NGYxMTk0Zjk3YjczNTUpOwogICAgICAgIAogICAgCiAgICAgICAgdmFyIG1hcmtlcl83YTU4NWJlYTkyN2Y0YTk2OGEzZGUxYmYwNjcxNTk3ZSA9IEwubWFya2VyKAogICAgICAgICAgICBbNDAuNjkwMTQzNTg1MjA1MDgsIC03NC4xNzc4OTQ1OTIyODUxNl0sCiAgICAgICAgICAgIHsKICAgICAgICAgICAgICAgIGljb246IG5ldyBMLkljb24uRGVmYXVsdCgpLAogICAgICAgICAgICAgICAgfQogICAgICAgICAgICApLmFkZFRvKG1hcF9jMzE2NDk2NjRkMzQ0ZTYyYjY0ZjExOTRmOTdiNzM1NSk7CiAgICAgICAgCiAgICAKICAgICAgICB2YXIgbWFya2VyXzE2ZDg4N2I2ODFjNjRkMGFiMmYyNDdjMzA1YWEyNWM5ID0gTC5tYXJrZXIoCiAgICAgICAgICAgIFs0MC42OTUyOTcyNDEyMTA5NCwgLTc0LjE3NzY4ODU5ODYzMjgxXSwKICAgICAgICAgICAgewogICAgICAgICAgICAgICAgaWNvbjogbmV3IEwuSWNvbi5EZWZhdWx0KCksCiAgICAgICAgICAgICAgICB9CiAgICAgICAgICAgICkuYWRkVG8obWFwX2MzMTY0OTY2NGQzNDRlNjJiNjRmMTE5NGY5N2I3MzU1KTsKICAgICAgICAKICAgIAogICAgICAgIHZhciBtYXJrZXJfNzQ1ZmRkZDRmNTk3NDAyM2E0YmNmYWYwOGFmZTgyOTUgPSBMLm1hcmtlcigKICAgICAgICAgICAgWzQwLjY5Mzg2NjcyOTczNjMzLCAtNzQuMTc2ODAzNTg4ODY3MTldLAogICAgICAgICAgICB7CiAgICAgICAgICAgICAgICBpY29uOiBuZXcgTC5JY29uLkRlZmF1bHQoKSwKICAgICAgICAgICAgICAgIH0KICAgICAgICAgICAgKS5hZGRUbyhtYXBfYzMxNjQ5NjY0ZDM0NGU2MmI2NGYxMTk0Zjk3YjczNTUpOwogICAgICAgIAogICAgCiAgICAgICAgdmFyIG1hcmtlcl8xOTI0OGIxYjVhMzQ0YTMwODcwNTYzODRmNmI1ZjAwMCA9IEwubWFya2VyKAogICAgICAgICAgICBbNDAuNjQ3MjQ3MzE0NDUzMTMsIC03My41NDQ3NjkyODcxMDkzOF0sCiAgICAgICAgICAgIHsKICAgICAgICAgICAgICAgIGljb246IG5ldyBMLkljb24uRGVmYXVsdCgpLAogICAgICAgICAgICAgICAgfQogICAgICAgICAgICApLmFkZFRvKG1hcF9jMzE2NDk2NjRkMzQ0ZTYyYjY0ZjExOTRmOTdiNzM1NSk7CiAgICAgICAgCiAgICAKICAgICAgICB2YXIgbWFya2VyXzIxYzBkMDdlNTZkNjRlMWFhNTdjZDYxYjcyZWYyNDgzID0gTC5tYXJrZXIoCiAgICAgICAgICAgIFs0MC42OTQ2MDI5NjYzMDg1OTQsIC03NC4xNzcwNzA2MTc2NzU3OF0sCiAgICAgICAgICAgIHsKICAgICAgICAgICAgICAgIGljb246IG5ldyBMLkljb24uRGVmYXVsdCgpLAogICAgICAgICAgICAgICAgfQogICAgICAgICAgICApLmFkZFRvKG1hcF9jMzE2NDk2NjRkMzQ0ZTYyYjY0ZjExOTRmOTdiNzM1NSk7CiAgICAgICAgCiAgICAKICAgICAgICB2YXIgbWFya2VyX2JlYmU3YWEyZTcyNjQyOWU5MmE1ZDJkNmQ5ZGZlYmM0ID0gTC5tYXJrZXIoCiAgICAgICAgICAgIFs0MC42OTQ1MzgxMTY0NTUwOCwgLTc0LjE3NjkyNTY1OTE3OTY5XSwKICAgICAgICAgICAgewogICAgICAgICAgICAgICAgaWNvbjogbmV3IEwuSWNvbi5EZWZhdWx0KCksCiAgICAgICAgICAgICAgICB9CiAgICAgICAgICAgICkuYWRkVG8obWFwX2MzMTY0OTY2NGQzNDRlNjJiNjRmMTE5NGY5N2I3MzU1KTsKICAgICAgICAKICAgIAogICAgICAgIHZhciBtYXJrZXJfMWI3MDY2MjZiNmU4NDFlM2I3NTJmYmNlMjBkOTQyMGUgPSBMLm1hcmtlcigKICAgICAgICAgICAgWzQwLjY5NTMyMDEyOTM5NDUzLCAtNzQuMTc3NjgwOTY5MjM4MjddLAogICAgICAgICAgICB7CiAgICAgICAgICAgICAgICBpY29uOiBuZXcgTC5JY29uLkRlZmF1bHQoKSwKICAgICAgICAgICAgICAgIH0KICAgICAgICAgICAgKS5hZGRUbyhtYXBfYzMxNjQ5NjY0ZDM0NGU2MmI2NGYxMTk0Zjk3YjczNTUpOwogICAgICAgIAogICAgCiAgICAgICAgdmFyIG1hcmtlcl80YmQ3YjIwZDA5ODI0Mzc5OWRmODA5MTA2ZGNmYjI5MiA9IEwubWFya2VyKAogICAgICAgICAgICBbNDAuNjg3ODg5MDk5MTIxMDk0LCAtNzQuMTgyOTQ1MjUxNDY0ODNdLAogICAgICAgICAgICB7CiAgICAgICAgICAgICAgICBpY29uOiBuZXcgTC5JY29uLkRlZmF1bHQoKSwKICAgICAgICAgICAgICAgIH0KICAgICAgICAgICAgKS5hZGRUbyhtYXBfYzMxNjQ5NjY0ZDM0NGU2MmI2NGYxMTk0Zjk3YjczNTUpOwogICAgICAgIAogICAgCiAgICAgICAgdmFyIG1hcmtlcl9kNTcwOGQ5ZWE0ZWM0YzgwOTdiNzk5ZTk1YjZlMDAwOCA9IEwubWFya2VyKAogICAgICAgICAgICBbNDAuNjg5NDQxNjgwOTA4MiwgLTc0LjE4NDI5NTY1NDI5Njg2XSwKICAgICAgICAgICAgewogICAgICAgICAgICAgICAgaWNvbjogbmV3IEwuSWNvbi5EZWZhdWx0KCksCiAgICAgICAgICAgICAgICB9CiAgICAgICAgICAgICkuYWRkVG8obWFwX2MzMTY0OTY2NGQzNDRlNjJiNjRmMTE5NGY5N2I3MzU1KTsKICAgICAgICAKICAgIAogICAgICAgIHZhciBtYXJrZXJfNDNhMmI2OWRkODY0NDVhNDgwMDhhNDM1MTUxZmYyMGMgPSBMLm1hcmtlcigKICAgICAgICAgICAgWzQwLjk5NjIzODcwODQ5NjA5NCwgLTczLjgyMDQzNDU3MDMxMjVdLAogICAgICAgICAgICB7CiAgICAgICAgICAgICAgICBpY29uOiBuZXcgTC5JY29uLkRlZmF1bHQoKSwKICAgICAgICAgICAgICAgIH0KICAgICAgICAgICAgKS5hZGRUbyhtYXBfYzMxNjQ5NjY0ZDM0NGU2MmI2NGYxMTk0Zjk3YjczNTUpOwogICAgICAgIAogICAgCiAgICAgICAgdmFyIG1hcmtlcl83YzU1MjI1YmQxYTU0NWM4OTY3ZDc5NWU0ZDE0MDIxOSA9IEwubWFya2VyKAogICAgICAgICAgICBbNDAuNjg5MTk3NTQwMjgzMiwgLTc0LjE3ODY1NzUzMTczODI3XSwKICAgICAgICAgICAgewogICAgICAgICAgICAgICAgaWNvbjogbmV3IEwuSWNvbi5EZWZhdWx0KCksCiAgICAgICAgICAgICAgICB9CiAgICAgICAgICAgICkuYWRkVG8obWFwX2MzMTY0OTY2NGQzNDRlNjJiNjRmMTE5NGY5N2I3MzU1KTsKICAgICAgICAKICAgIAogICAgICAgIHZhciBtYXJrZXJfMDcxNTQ5MDk2MDVmNDAzNTlmM2E2MWEwYzA5NzBmMjAgPSBMLm1hcmtlcigKICAgICAgICAgICAgWzQwLjY5NDc3MDgxMjk4ODI4LCAtNzQuMTc3NzY0ODkyNTc4MTFdLAogICAgICAgICAgICB7CiAgICAgICAgICAgICAgICBpY29uOiBuZXcgTC5JY29uLkRlZmF1bHQoKSwKICAgICAgICAgICAgICAgIH0KICAgICAgICAgICAgKS5hZGRUbyhtYXBfYzMxNjQ5NjY0ZDM0NGU2MmI2NGYxMTk0Zjk3YjczNTUpOwogICAgICAgIAogICAgCiAgICAgICAgdmFyIG1hcmtlcl9jNWY2YzQxNjRhYTc0NzAwYWY1NjRiNzc5M2VhZTdmNSA9IEwubWFya2VyKAogICAgICAgICAgICBbNDAuNzI4NjU2NzY4Nzk4ODMsIC03My40MjI0MjQzMTY0MDYyNV0sCiAgICAgICAgICAgIHsKICAgICAgICAgICAgICAgIGljb246IG5ldyBMLkljb24uRGVmYXVsdCgpLAogICAgICAgICAgICAgICAgfQogICAgICAgICAgICApLmFkZFRvKG1hcF9jMzE2NDk2NjRkMzQ0ZTYyYjY0ZjExOTRmOTdiNzM1NSk7CiAgICAgICAgCiAgICAKICAgICAgICB2YXIgbWFya2VyX2Y3ODgyMzExYmE0ZjRhMjU4OTJlZDIzMTk5ODQ4M2QwID0gTC5tYXJrZXIoCiAgICAgICAgICAgIFs0MC45OTYyOTIxMTQyNTc4MSwgLTczLjgyMDM2NTkwNTc2MTczXSwKICAgICAgICAgICAgewogICAgICAgICAgICAgICAgaWNvbjogbmV3IEwuSWNvbi5EZWZhdWx0KCksCiAgICAgICAgICAgICAgICB9CiAgICAgICAgICAgICkuYWRkVG8obWFwX2MzMTY0OTY2NGQzNDRlNjJiNjRmMTE5NGY5N2I3MzU1KTsKICAgICAgICAKICAgIAogICAgICAgIHZhciBtYXJrZXJfOWI2ZjE4YmU4NWIwNGVlMGE4MTE1MzU2MWZmMDE4YjIgPSBMLm1hcmtlcigKICAgICAgICAgICAgWzQwLjY5NDgxMjc3NDY1ODIsIC03NC4xNzcxNDY5MTE2MjExXSwKICAgICAgICAgICAgewogICAgICAgICAgICAgICAgaWNvbjogbmV3IEwuSWNvbi5EZWZhdWx0KCksCiAgICAgICAgICAgICAgICB9CiAgICAgICAgICAgICkuYWRkVG8obWFwX2MzMTY0OTY2NGQzNDRlNjJiNjRmMTE5NGY5N2I3MzU1KTsKICAgICAgICAKICAgIAogICAgICAgIHZhciBtYXJrZXJfMzNmMWNiN2Y5N2IxNDIzY2JiMTM4YTVkNTc5ZmUzNDkgPSBMLm1hcmtlcigKICAgICAgICAgICAgWzQwLjgxNzI5ODg4OTE2MDE1NiwgLTc0LjM1NTUyOTc4NTE1NjI1XSwKICAgICAgICAgICAgewogICAgICAgICAgICAgICAgaWNvbjogbmV3IEwuSWNvbi5EZWZhdWx0KCksCiAgICAgICAgICAgICAgICB9CiAgICAgICAgICAgICkuYWRkVG8obWFwX2MzMTY0OTY2NGQzNDRlNjJiNjRmMTE5NGY5N2I3MzU1KTsKICAgICAgICAKICAgIAogICAgICAgIHZhciBtYXJrZXJfODNhMjA3NzYwNDFiNDAzMDkwYTIyNDcyMzgxMzRkMzEgPSBMLm1hcmtlcigKICAgICAgICAgICAgWzQwLjY5NDkzMTAzMDI3MzQ0LCAtNzQuMTc3MDA5NTgyNTE5NTVdLAogICAgICAgICAgICB7CiAgICAgICAgICAgICAgICBpY29uOiBuZXcgTC5JY29uLkRlZmF1bHQoKSwKICAgICAgICAgICAgICAgIH0KICAgICAgICAgICAgKS5hZGRUbyhtYXBfYzMxNjQ5NjY0ZDM0NGU2MmI2NGYxMTk0Zjk3YjczNTUpOwogICAgICAgIAogICAgCiAgICAgICAgdmFyIG1hcmtlcl82ODZhNjgxYTkzMGY0Y2VjYTU3MzdkNDkzZDI2MWQ2NSA9IEwubWFya2VyKAogICAgICAgICAgICBbNDAuNjk0MjEwMDUyNDkwMjQsIC03NC4xNzY3MTIwMzYxMzI4MV0sCiAgICAgICAgICAgIHsKICAgICAgICAgICAgICAgIGljb246IG5ldyBMLkljb24uRGVmYXVsdCgpLAogICAgICAgICAgICAgICAgfQogICAgICAgICAgICApLmFkZFRvKG1hcF9jMzE2NDk2NjRkMzQ0ZTYyYjY0ZjExOTRmOTdiNzM1NSk7CiAgICAgICAgCiAgICAKICAgICAgICB2YXIgbWFya2VyXzUxZjY1ZDBlOTljNjRiYjA5NDQ4YTg1ZjNmYmU1YzhlID0gTC5tYXJrZXIoCiAgICAgICAgICAgIFs0MC45OTA4MzcwOTcxNjc5NywgLTc0LjA5NjcwMjU3NTY4MzU4XSwKICAgICAgICAgICAgewogICAgICAgICAgICAgICAgaWNvbjogbmV3IEwuSWNvbi5EZWZhdWx0KCksCiAgICAgICAgICAgICAgICB9CiAgICAgICAgICAgICkuYWRkVG8obWFwX2MzMTY0OTY2NGQzNDRlNjJiNjRmMTE5NGY5N2I3MzU1KTsKICAgICAgICAKICAgIAogICAgICAgIHZhciBtYXJrZXJfNGI2NmI1NjQ0MGM2NDYyMzhhMzMzMmZlMmYxYmEwMDYgPSBMLm1hcmtlcigKICAgICAgICAgICAgWzQwLjY5NTA3OTgwMzQ2NjgsIC03NC4xNzcxNzc0MjkxOTkyM10sCiAgICAgICAgICAgIHsKICAgICAgICAgICAgICAgIGljb246IG5ldyBMLkljb24uRGVmYXVsdCgpLAogICAgICAgICAgICAgICAgfQogICAgICAgICAgICApLmFkZFRvKG1hcF9jMzE2NDk2NjRkMzQ0ZTYyYjY0ZjExOTRmOTdiNzM1NSk7CiAgICAgICAgCiAgICAKICAgICAgICB2YXIgbWFya2VyXzQ1M2M2MGRjMDE2ZTRmZDQ5MzhhMjVmMmM4NTJmMjQyID0gTC5tYXJrZXIoCiAgICAgICAgICAgIFs0MC42OTQ3NTE3Mzk1MDE5NSwgLTc0LjE3Njk3MTQzNTU0Njg2XSwKICAgICAgICAgICAgewogICAgICAgICAgICAgICAgaWNvbjogbmV3IEwuSWNvbi5EZWZhdWx0KCksCiAgICAgICAgICAgICAgICB9CiAgICAgICAgICAgICkuYWRkVG8obWFwX2MzMTY0OTY2NGQzNDRlNjJiNjRmMTE5NGY5N2I3MzU1KTsKICAgICAgICAKICAgIAogICAgICAgIHZhciBtYXJrZXJfMGNkZjAxMDY3MWFhNDliYjljNGQ1NGVlMTNhYjc0NDggPSBMLm1hcmtlcigKICAgICAgICAgICAgWzQwLjY4NzY2MDIxNzI4NTE1NiwgLTc0LjE4MTUxMDkyNTI5Mjk4XSwKICAgICAgICAgICAgewogICAgICAgICAgICAgICAgaWNvbjogbmV3IEwuSWNvbi5EZWZhdWx0KCksCiAgICAgICAgICAgICAgICB9CiAgICAgICAgICAgICkuYWRkVG8obWFwX2MzMTY0OTY2NGQzNDRlNjJiNjRmMTE5NGY5N2I3MzU1KTsKICAgICAgICAKICAgIAogICAgICAgIHZhciBtYXJrZXJfZTAzNDdkOGI0MDVlNGRjY2FlNzQzZjRlYzM3NGIwOTkgPSBMLm1hcmtlcigKICAgICAgICAgICAgWzQwLjY5NTE4NjYxNDk5MDI0LCAtNzQuMTgwODQ3MTY3OTY4NzVdLAogICAgICAgICAgICB7CiAgICAgICAgICAgICAgICBpY29uOiBuZXcgTC5JY29uLkRlZmF1bHQoKSwKICAgICAgICAgICAgICAgIH0KICAgICAgICAgICAgKS5hZGRUbyhtYXBfYzMxNjQ5NjY0ZDM0NGU2MmI2NGYxMTk0Zjk3YjczNTUpOwogICAgICAgIAogICAgCiAgICAgICAgdmFyIG1hcmtlcl8zN2M0NzNkYjgzMTI0MjRkODIwMzVhYjZkY2Q4ZWI3ZiA9IEwubWFya2VyKAogICAgICAgICAgICBbNDAuNjk0NDE5ODYwODM5ODQ0LCAtNzQuMTc2ODI2NDc3MDUwNzhdLAogICAgICAgICAgICB7CiAgICAgICAgICAgICAgICBpY29uOiBuZXcgTC5JY29uLkRlZmF1bHQoKSwKICAgICAgICAgICAgICAgIH0KICAgICAgICAgICAgKS5hZGRUbyhtYXBfYzMxNjQ5NjY0ZDM0NGU2MmI2NGYxMTk0Zjk3YjczNTUpOwogICAgICAgIAogICAgCiAgICAgICAgdmFyIG1hcmtlcl9kNzdiZjRlZTBkNDU0YmIzODc3MjA1YmE4N2UwOWJiOCA9IEwubWFya2VyKAogICAgICAgICAgICBbNDAuNjk0Mzc3ODk5MTY5OTIsIC03NC4xNzY3ODgzMzAwNzgxMV0sCiAgICAgICAgICAgIHsKICAgICAgICAgICAgICAgIGljb246IG5ldyBMLkljb24uRGVmYXVsdCgpLAogICAgICAgICAgICAgICAgfQogICAgICAgICAgICApLmFkZFRvKG1hcF9jMzE2NDk2NjRkMzQ0ZTYyYjY0ZjExOTRmOTdiNzM1NSk7CiAgICAgICAgCiAgICAKICAgICAgICB2YXIgbWFya2VyX2Y5MWYyNzQ3ZmVmZjQ5YTlhMmQyNTkwZGMxYWM3N2JjID0gTC5tYXJrZXIoCiAgICAgICAgICAgIFs0MC42OTQwODAzNTI3ODMyLCAtNzQuMTc2NzEyMDM2MTMyODFdLAogICAgICAgICAgICB7CiAgICAgICAgICAgICAgICBpY29uOiBuZXcgTC5JY29uLkRlZmF1bHQoKSwKICAgICAgICAgICAgICAgIH0KICAgICAgICAgICAgKS5hZGRUbyhtYXBfYzMxNjQ5NjY0ZDM0NGU2MmI2NGYxMTk0Zjk3YjczNTUpOwogICAgICAgIAogICAgCiAgICAgICAgdmFyIG1hcmtlcl9lMjk5YmZmNWUzYjk0ZGI0OThjODBlNzhlYzkwNzFkYSA9IEwubWFya2VyKAogICAgICAgICAgICBbNDAuNjg4MDIyNjEzNTI1MzksIC03NC4xODMyMTIyODAyNzM0Ml0sCiAgICAgICAgICAgIHsKICAgICAgICAgICAgICAgIGljb246IG5ldyBMLkljb24uRGVmYXVsdCgpLAogICAgICAgICAgICAgICAgfQogICAgICAgICAgICApLmFkZFRvKG1hcF9jMzE2NDk2NjRkMzQ0ZTYyYjY0ZjExOTRmOTdiNzM1NSk7CiAgICAgICAgCiAgICAKICAgICAgICB2YXIgbWFya2VyX2NlYjRjNGZjMGQ0YTRlMDFhZjg3MjJmYzBhYjYxMDdiID0gTC5tYXJrZXIoCiAgICAgICAgICAgIFs0MC42OTUxMDY1MDYzNDc2NTYsIC03NC4xNzcyNjEzNTI1MzkwNl0sCiAgICAgICAgICAgIHsKICAgICAgICAgICAgICAgIGljb246IG5ldyBMLkljb24uRGVmYXVsdCgpLAogICAgICAgICAgICAgICAgfQogICAgICAgICAgICApLmFkZFRvKG1hcF9jMzE2NDk2NjRkMzQ0ZTYyYjY0ZjExOTRmOTdiNzM1NSk7CiAgICAgICAgCiAgICAKICAgICAgICB2YXIgbWFya2VyX2IzMzYyMWNlYmZmMTQ1ZTViMzU5OGI0YmE4NmQ1MTUyID0gTC5tYXJrZXIoCiAgICAgICAgICAgIFs0MC42OTU1NjA0NTUzMjIyNjYsIC03NC4xNzc3NzI1MjE5NzI2Nl0sCiAgICAgICAgICAgIHsKICAgICAgICAgICAgICAgIGljb246IG5ldyBMLkljb24uRGVmYXVsdCgpLAogICAgICAgICAgICAgICAgfQogICAgICAgICAgICApLmFkZFRvKG1hcF9jMzE2NDk2NjRkMzQ0ZTYyYjY0ZjExOTRmOTdiNzM1NSk7CiAgICAgICAgCiAgICAKICAgICAgICB2YXIgbWFya2VyXzhlMjFlZTI0NTZmZjQ4ZDI4N2Q3YTU2NzgwM2Q4NTBiID0gTC5tYXJrZXIoCiAgICAgICAgICAgIFs0MC42OTU0OTE3OTA3NzE0OSwgLTc0LjE3Nzc1NzI2MzE4MzU4XSwKICAgICAgICAgICAgewogICAgICAgICAgICAgICAgaWNvbjogbmV3IEwuSWNvbi5EZWZhdWx0KCksCiAgICAgICAgICAgICAgICB9CiAgICAgICAgICAgICkuYWRkVG8obWFwX2MzMTY0OTY2NGQzNDRlNjJiNjRmMTE5NGY5N2I3MzU1KTsKICAgICAgICAKICAgIAogICAgICAgIHZhciBtYXJrZXJfNDg0ZjdmNTU3MWU2NGQxMzk2ZGU0YzRhZGYyMjNhZGMgPSBMLm1hcmtlcigKICAgICAgICAgICAgWzQwLjY5MDAyOTE0NDI4NzExLCAtNzQuMTc4MDU0ODA5NTcwM10sCiAgICAgICAgICAgIHsKICAgICAgICAgICAgICAgIGljb246IG5ldyBMLkljb24uRGVmYXVsdCgpLAogICAgICAgICAgICAgICAgfQogICAgICAgICAgICApLmFkZFRvKG1hcF9jMzE2NDk2NjRkMzQ0ZTYyYjY0ZjExOTRmOTdiNzM1NSk7CiAgICAgICAgCiAgICAKICAgICAgICB2YXIgbWFya2VyXzM0N2RlNjg5YzA4ZjRlMTZhNGFjNWZjZTFkOGZiMDRjID0gTC5tYXJrZXIoCiAgICAgICAgICAgIFs0MC43MDg5NTc2NzIxMTkxMywgLTc0LjE1Njk2NzE2MzA4NTk0XSwKICAgICAgICAgICAgewogICAgICAgICAgICAgICAgaWNvbjogbmV3IEwuSWNvbi5EZWZhdWx0KCksCiAgICAgICAgICAgICAgICB9CiAgICAgICAgICAgICkuYWRkVG8obWFwX2MzMTY0OTY2NGQzNDRlNjJiNjRmMTE5NGY5N2I3MzU1KTsKICAgICAgICAKICAgIAogICAgICAgIHZhciBtYXJrZXJfYmY4NmQ4MGJlNDFjNGE3YWI1NmQ5N2M5NmJlMDgzN2UgPSBMLm1hcmtlcigKICAgICAgICAgICAgWzQwLjY5MDU1MTc1NzgxMjUsIC03NC4xNzc1NDM2NDAxMzY3Ml0sCiAgICAgICAgICAgIHsKICAgICAgICAgICAgICAgIGljb246IG5ldyBMLkljb24uRGVmYXVsdCgpLAogICAgICAgICAgICAgICAgfQogICAgICAgICAgICApLmFkZFRvKG1hcF9jMzE2NDk2NjRkMzQ0ZTYyYjY0ZjExOTRmOTdiNzM1NSk7CiAgICAgICAgCiAgICAKICAgICAgICB2YXIgbWFya2VyXzQ1MzA2NDgyZjIyMzQzOTM4ZmRhZTMyZTZiODI1MTRhID0gTC5tYXJrZXIoCiAgICAgICAgICAgIFs0MC42OTUwNjQ1NDQ2Nzc3MywgLTc0LjE3NzIzODQ2NDM1NTQ3XSwKICAgICAgICAgICAgewogICAgICAgICAgICAgICAgaWNvbjogbmV3IEwuSWNvbi5EZWZhdWx0KCksCiAgICAgICAgICAgICAgICB9CiAgICAgICAgICAgICkuYWRkVG8obWFwX2MzMTY0OTY2NGQzNDRlNjJiNjRmMTE5NGY5N2I3MzU1KTsKICAgICAgICAKICAgIAogICAgICAgIHZhciBtYXJrZXJfNDQzNjRkMGMzNDkyNDllYWEwMzZiOTY0YjUxNmJlOWMgPSBMLm1hcmtlcigKICAgICAgICAgICAgWzQwLjU4ODM4NjUzNTY0NDUzLCAtNzMuNjgxMjI4NjM3Njk1MzFdLAogICAgICAgICAgICB7CiAgICAgICAgICAgICAgICBpY29uOiBuZXcgTC5JY29uLkRlZmF1bHQoKSwKICAgICAgICAgICAgICAgIH0KICAgICAgICAgICAgKS5hZGRUbyhtYXBfYzMxNjQ5NjY0ZDM0NGU2MmI2NGYxMTk0Zjk3YjczNTUpOwogICAgICAgIAogICAgCiAgICAgICAgdmFyIG1hcmtlcl80ZjA1YTBkNDNjMTU0MjQ1OGI2ZDYyNjA2ODQxNTc3MSA9IEwubWFya2VyKAogICAgICAgICAgICBbNDAuNjkzNjAzNTE1NjI1LCAtNzQuMTc2NjgxNTE4NTU0NjldLAogICAgICAgICAgICB7CiAgICAgICAgICAgICAgICBpY29uOiBuZXcgTC5JY29uLkRlZmF1bHQoKSwKICAgICAgICAgICAgICAgIH0KICAgICAgICAgICAgKS5hZGRUbyhtYXBfYzMxNjQ5NjY0ZDM0NGU2MmI2NGYxMTk0Zjk3YjczNTUpOwogICAgICAgIAogICAgCiAgICAgICAgdmFyIG1hcmtlcl84N2JjYTZiODdlYjY0YmJiYmQ1ZjBmMjA0NzU3NmQ1ZCA9IEwubWFya2VyKAogICAgICAgICAgICBbNDAuNjk0OTMxMDMwMjczNDQsIC03NC4xNzcyMDc5NDY3NzczNF0sCiAgICAgICAgICAgIHsKICAgICAgICAgICAgICAgIGljb246IG5ldyBMLkljb24uRGVmYXVsdCgpLAogICAgICAgICAgICAgICAgfQogICAgICAgICAgICApLmFkZFRvKG1hcF9jMzE2NDk2NjRkMzQ0ZTYyYjY0ZjExOTRmOTdiNzM1NSk7CiAgICAgICAgCiAgICAKICAgICAgICB2YXIgbWFya2VyX2Y0MDMyMGEyZDlmYTQ1Zjg4NTQ3ZjczNWRlYzc5ODQwID0gTC5tYXJrZXIoCiAgICAgICAgICAgIFs0MC42OTUwNDE2NTY0OTQxNSwgLTc0LjE3NzI1MzcyMzE0NDUzXSwKICAgICAgICAgICAgewogICAgICAgICAgICAgICAgaWNvbjogbmV3IEwuSWNvbi5EZWZhdWx0KCksCiAgICAgICAgICAgICAgICB9CiAgICAgICAgICAgICkuYWRkVG8obWFwX2MzMTY0OTY2NGQzNDRlNjJiNjRmMTE5NGY5N2I3MzU1KTsKICAgICAgICAKICAgIAogICAgICAgIHZhciBtYXJrZXJfZWQzNzUyYjFjMDhiNDgwNmE3NTY4MmI1OGNiYmNmZDEgPSBMLm1hcmtlcigKICAgICAgICAgICAgWzQwLjkyNDgwMDg3MjgwMjczNCwgLTc0LjEwMjM3MTIxNTgyMDNdLAogICAgICAgICAgICB7CiAgICAgICAgICAgICAgICBpY29uOiBuZXcgTC5JY29uLkRlZmF1bHQoKSwKICAgICAgICAgICAgICAgIH0KICAgICAgICAgICAgKS5hZGRUbyhtYXBfYzMxNjQ5NjY0ZDM0NGU2MmI2NGYxMTk0Zjk3YjczNTUpOwogICAgICAgIAogICAgCiAgICAgICAgdmFyIG1hcmtlcl80MzFlOWU1YjkwOWI0MTA3ODJlOTliZjQxOGRiNzY5MCA9IEwubWFya2VyKAogICAgICAgICAgICBbNDAuOTk1NzQyNzk3ODUxNTYsIC03My44MDc5NjA1MTAyNTM5XSwKICAgICAgICAgICAgewogICAgICAgICAgICAgICAgaWNvbjogbmV3IEwuSWNvbi5EZWZhdWx0KCksCiAgICAgICAgICAgICAgICB9CiAgICAgICAgICAgICkuYWRkVG8obWFwX2MzMTY0OTY2NGQzNDRlNjJiNjRmMTE5NGY5N2I3MzU1KTsKICAgICAgICAKICAgIAogICAgICAgIHZhciBtYXJrZXJfZTkzMTkxZDNjM2FhNDZhOTgxZDZkM2Q1Mzk1YmZmYTAgPSBMLm1hcmtlcigKICAgICAgICAgICAgWzQwLjY5NTM4MTE2NDU1MDc4LCAtNzQuMTc3NjM1MTkyODcxMV0sCiAgICAgICAgICAgIHsKICAgICAgICAgICAgICAgIGljb246IG5ldyBMLkljb24uRGVmYXVsdCgpLAogICAgICAgICAgICAgICAgfQogICAgICAgICAgICApLmFkZFRvKG1hcF9jMzE2NDk2NjRkMzQ0ZTYyYjY0ZjExOTRmOTdiNzM1NSk7CiAgICAgICAgCiAgICAKICAgICAgICB2YXIgbWFya2VyXzI3MTRiYWRhNmE0NzQ2YjE5NzRkOTBlYjZkOTY0Mzc0ID0gTC5tYXJrZXIoCiAgICAgICAgICAgIFs0MC42OTUzMjAxMjkzOTQ1MywgLTc0LjE3NzYwNDY3NTI5Mjk4XSwKICAgICAgICAgICAgewogICAgICAgICAgICAgICAgaWNvbjogbmV3IEwuSWNvbi5EZWZhdWx0KCksCiAgICAgICAgICAgICAgICB9CiAgICAgICAgICAgICkuYWRkVG8obWFwX2MzMTY0OTY2NGQzNDRlNjJiNjRmMTE5NGY5N2I3MzU1KTsKICAgICAgICAKICAgIAogICAgICAgIHZhciBtYXJrZXJfOWZjODQ2MGQzODAwNDljNzgzMDAyNjZlN2M1MzkzZGMgPSBMLm1hcmtlcigKICAgICAgICAgICAgWzQwLjcwMTQxOTgzMDMyMjI2NiwgLTczLjUzMDY5MzA1NDE5OTIzXSwKICAgICAgICAgICAgewogICAgICAgICAgICAgICAgaWNvbjogbmV3IEwuSWNvbi5EZWZhdWx0KCksCiAgICAgICAgICAgICAgICB9CiAgICAgICAgICAgICkuYWRkVG8obWFwX2MzMTY0OTY2NGQzNDRlNjJiNjRmMTE5NGY5N2I3MzU1KTsKICAgICAgICAKICAgIAogICAgICAgIHZhciBtYXJrZXJfNGE4YzU2MmUwY2VkNDVlMDkyNGE4ZGFjNTJhOGMzMGYgPSBMLm1hcmtlcigKICAgICAgICAgICAgWzQwLjY5NTA3OTgwMzQ2NjgsIC03NC4xNzczMzc2NDY0ODQzOF0sCiAgICAgICAgICAgIHsKICAgICAgICAgICAgICAgIGljb246IG5ldyBMLkljb24uRGVmYXVsdCgpLAogICAgICAgICAgICAgICAgfQogICAgICAgICAgICApLmFkZFRvKG1hcF9jMzE2NDk2NjRkMzQ0ZTYyYjY0ZjExOTRmOTdiNzM1NSk7CiAgICAgICAgCiAgICAKICAgICAgICB2YXIgbWFya2VyXzAxMDY3ZDU5OWZiZDQ4OWRiMjVkZjJkYzA5OGNlMjE2ID0gTC5tYXJrZXIoCiAgICAgICAgICAgIFs0MC42ODc3NzA4NDM1MDU4NSwgLTc0LjE4MjQ0OTM0MDgyMDNdLAogICAgICAgICAgICB7CiAgICAgICAgICAgICAgICBpY29uOiBuZXcgTC5JY29uLkRlZmF1bHQoKSwKICAgICAgICAgICAgICAgIH0KICAgICAgICAgICAgKS5hZGRUbyhtYXBfYzMxNjQ5NjY0ZDM0NGU2MmI2NGYxMTk0Zjk3YjczNTUpOwogICAgICAgIAogICAgCiAgICAgICAgdmFyIG1hcmtlcl8zNzM5NDQ1Y2I2YzA0YmY0YWVkODZjMWVmOWViZjQ2ZSA9IEwubWFya2VyKAogICAgICAgICAgICBbNDAuNjg3NzE3NDM3NzQ0MTUsIC03NC4xODE4OTIzOTUwMTk1NV0sCiAgICAgICAgICAgIHsKICAgICAgICAgICAgICAgIGljb246IG5ldyBMLkljb24uRGVmYXVsdCgpLAogICAgICAgICAgICAgICAgfQogICAgICAgICAgICApLmFkZFRvKG1hcF9jMzE2NDk2NjRkMzQ0ZTYyYjY0ZjExOTRmOTdiNzM1NSk7CiAgICAgICAgCiAgICAKICAgICAgICB2YXIgbWFya2VyX2E2ZDdiMDVhOTkwYTQ4M2I5YTIxYzNhZGQxYTNmODdlID0gTC5tYXJrZXIoCiAgICAgICAgICAgIFs0MC43MzY0Mzg3NTEyMjA3LCAtNzMuNjczOTk1OTcxNjc5NjldLAogICAgICAgICAgICB7CiAgICAgICAgICAgICAgICBpY29uOiBuZXcgTC5JY29uLkRlZmF1bHQoKSwKICAgICAgICAgICAgICAgIH0KICAgICAgICAgICAgKS5hZGRUbyhtYXBfYzMxNjQ5NjY0ZDM0NGU2MmI2NGYxMTk0Zjk3YjczNTUpOwogICAgICAgIAogICAgCiAgICAgICAgdmFyIG1hcmtlcl9kODhiNmVhYzlkYTc0MmI5YmNjNDc5ZDU4N2ZlYjI1YiA9IEwubWFya2VyKAogICAgICAgICAgICBbNDAuNjk0OTY5MTc3MjQ2MDk0LCAtNzQuMTc3MDQwMTAwMDk3NjZdLAogICAgICAgICAgICB7CiAgICAgICAgICAgICAgICBpY29uOiBuZXcgTC5JY29uLkRlZmF1bHQoKSwKICAgICAgICAgICAgICAgIH0KICAgICAgICAgICAgKS5hZGRUbyhtYXBfYzMxNjQ5NjY0ZDM0NGU2MmI2NGYxMTk0Zjk3YjczNTUpOwogICAgICAgIAogICAgCiAgICAgICAgdmFyIG1hcmtlcl9hZTM3NzQ5MzhlZjA0ODk0YWE2MzgyMTNmYWFhZmE0ZSA9IEwubWFya2VyKAogICAgICAgICAgICBbNDAuODM3MjM0NDk3MDcwMzEsIC03My40MjM2NTI2NDg5MjU3OF0sCiAgICAgICAgICAgIHsKICAgICAgICAgICAgICAgIGljb246IG5ldyBMLkljb24uRGVmYXVsdCgpLAogICAgICAgICAgICAgICAgfQogICAgICAgICAgICApLmFkZFRvKG1hcF9jMzE2NDk2NjRkMzQ0ZTYyYjY0ZjExOTRmOTdiNzM1NSk7CiAgICAgICAgCiAgICAKICAgICAgICB2YXIgbWFya2VyXzFiYzJhN2I2YmRmZTQ3ZTBhMDliMTQ5ZTgyNDJjMDRlID0gTC5tYXJrZXIoCiAgICAgICAgICAgIFs0MC44MTE1MTk2MjI4MDI3MzQsIC03My42NTY5NDQyNzQ5MDIzNF0sCiAgICAgICAgICAgIHsKICAgICAgICAgICAgICAgIGljb246IG5ldyBMLkljb24uRGVmYXVsdCgpLAogICAgICAgICAgICAgICAgfQogICAgICAgICAgICApLmFkZFRvKG1hcF9jMzE2NDk2NjRkMzQ0ZTYyYjY0ZjExOTRmOTdiNzM1NSk7CiAgICAgICAgCiAgICAKICAgICAgICB2YXIgbWFya2VyXzI3ZjQ3ODkzZmE0NTRkZjJiZjk2YzM1OTU0OTEyNDkwID0gTC5tYXJrZXIoCiAgICAgICAgICAgIFs0MC42ODc3Mjg4ODE4MzU5NCwgLTc0LjE4MjQ3MjIyOTAwMzldLAogICAgICAgICAgICB7CiAgICAgICAgICAgICAgICBpY29uOiBuZXcgTC5JY29uLkRlZmF1bHQoKSwKICAgICAgICAgICAgICAgIH0KICAgICAgICAgICAgKS5hZGRUbyhtYXBfYzMxNjQ5NjY0ZDM0NGU2MmI2NGYxMTk0Zjk3YjczNTUpOwogICAgICAgIAogICAgCiAgICAgICAgdmFyIG1hcmtlcl84OGJmYTdiNTIxM2Q0NzJhOWVhYzYxZDhiMDVhNDYxZiA9IEwubWFya2VyKAogICAgICAgICAgICBbNDAuNjg5ODExNzA2NTQyOTcsIC03NC4xNzgyMzAyODU2NDQ1M10sCiAgICAgICAgICAgIHsKICAgICAgICAgICAgICAgIGljb246IG5ldyBMLkljb24uRGVmYXVsdCgpLAogICAgICAgICAgICAgICAgfQogICAgICAgICAgICApLmFkZFRvKG1hcF9jMzE2NDk2NjRkMzQ0ZTYyYjY0ZjExOTRmOTdiNzM1NSk7CiAgICAgICAgCiAgICAKICAgICAgICB2YXIgbWFya2VyXzhhZWExNTczNjc3MzRmYTRiN2UxMmU5ZmU0YTc0ZDkyID0gTC5tYXJrZXIoCiAgICAgICAgICAgIFs0MC42OTQ5OTU4ODAxMjY5NSwgLTc0LjE3NzEyNDAyMzQzNzVdLAogICAgICAgICAgICB7CiAgICAgICAgICAgICAgICBpY29uOiBuZXcgTC5JY29uLkRlZmF1bHQoKSwKICAgICAgICAgICAgICAgIH0KICAgICAgICAgICAgKS5hZGRUbyhtYXBfYzMxNjQ5NjY0ZDM0NGU2MmI2NGYxMTk0Zjk3YjczNTUpOwogICAgICAgIAogICAgCiAgICAgICAgdmFyIG1hcmtlcl8wZDcwNTA4N2UwZmY0ZDhmYmQ4Mzk3OTBhZDZiNzQwNiA9IEwubWFya2VyKAogICAgICAgICAgICBbNDAuNjk0OTAwNTEyNjk1MzEsIC03NC4xNzcwMDk1ODI1MTk1NV0sCiAgICAgICAgICAgIHsKICAgICAgICAgICAgICAgIGljb246IG5ldyBMLkljb24uRGVmYXVsdCgpLAogICAgICAgICAgICAgICAgfQogICAgICAgICAgICApLmFkZFRvKG1hcF9jMzE2NDk2NjRkMzQ0ZTYyYjY0ZjExOTRmOTdiNzM1NSk7CiAgICAgICAgCiAgICAKICAgICAgICB2YXIgbWFya2VyX2U5YzgzN2JmNWU5ZDQ5MTc4ZDIxMGY1NDFlMDZlMjU3ID0gTC5tYXJrZXIoCiAgICAgICAgICAgIFs0MC42OTUwNjQ1NDQ2Nzc3MywgLTc0LjE3NzE2MjE3MDQxMDE0XSwKICAgICAgICAgICAgewogICAgICAgICAgICAgICAgaWNvbjogbmV3IEwuSWNvbi5EZWZhdWx0KCksCiAgICAgICAgICAgICAgICB9CiAgICAgICAgICAgICkuYWRkVG8obWFwX2MzMTY0OTY2NGQzNDRlNjJiNjRmMTE5NGY5N2I3MzU1KTsKICAgICAgICAKICAgIAogICAgICAgIHZhciBtYXJrZXJfMzU4Y2E2NjM2ZjIxNGVlMDhlZDMyZTA3MjQ2ZjEzZTAgPSBMLm1hcmtlcigKICAgICAgICAgICAgWzQwLjY4ODgwODQ0MTE2MjEsIC03NC4xNzkxOTE1ODkzNTU0N10sCiAgICAgICAgICAgIHsKICAgICAgICAgICAgICAgIGljb246IG5ldyBMLkljb24uRGVmYXVsdCgpLAogICAgICAgICAgICAgICAgfQogICAgICAgICAgICApLmFkZFRvKG1hcF9jMzE2NDk2NjRkMzQ0ZTYyYjY0ZjExOTRmOTdiNzM1NSk7CiAgICAgICAgCiAgICAKICAgICAgICB2YXIgbWFya2VyX2Y1ZDRlY2ZlMTk5YjRkOWFiNGQxMTY4NjdmNmNkOGM3ID0gTC5tYXJrZXIoCiAgICAgICAgICAgIFs0MC42OTQ4MjgwMzM0NDcyNywgLTc0LjE3NjgzNDEwNjQ0NTMxXSwKICAgICAgICAgICAgewogICAgICAgICAgICAgICAgaWNvbjogbmV3IEwuSWNvbi5EZWZhdWx0KCksCiAgICAgICAgICAgICAgICB9CiAgICAgICAgICAgICkuYWRkVG8obWFwX2MzMTY0OTY2NGQzNDRlNjJiNjRmMTE5NGY5N2I3MzU1KTsKICAgICAgICAKICAgIAogICAgICAgIHZhciBtYXJrZXJfYjJmMDIxNmY2MjdkNGYzMTkyOWZiZjg4M2EyM2UyNDMgPSBMLm1hcmtlcigKICAgICAgICAgICAgWzQwLjY5NTA2ODM1OTM3NSwgLTc0LjE3NzA3ODI0NzA3MDNdLAogICAgICAgICAgICB7CiAgICAgICAgICAgICAgICBpY29uOiBuZXcgTC5JY29uLkRlZmF1bHQoKSwKICAgICAgICAgICAgICAgIH0KICAgICAgICAgICAgKS5hZGRUbyhtYXBfYzMxNjQ5NjY0ZDM0NGU2MmI2NGYxMTk0Zjk3YjczNTUpOwogICAgICAgIAogICAgCiAgICAgICAgdmFyIG1hcmtlcl9iYWY2ZjljN2FlYzE0NTQyYTUwZjg3ZTVjYjNiZjBmYiA9IEwubWFya2VyKAogICAgICAgICAgICBbNDEuMDE4NzcyMTI1MjQ0MTUsIC03My45MjE1NDY5MzYwMzUxNl0sCiAgICAgICAgICAgIHsKICAgICAgICAgICAgICAgIGljb246IG5ldyBMLkljb24uRGVmYXVsdCgpLAogICAgICAgICAgICAgICAgfQogICAgICAgICAgICApLmFkZFRvKG1hcF9jMzE2NDk2NjRkMzQ0ZTYyYjY0ZjExOTRmOTdiNzM1NSk7CiAgICAgICAgCiAgICAKICAgICAgICB2YXIgbWFya2VyXzE4YjZkY2Y1YzkyZjRhZjlhYzE3NWZkMDc3ZDYwZDU0ID0gTC5tYXJrZXIoCiAgICAgICAgICAgIFs0MC42ODc3NTU1ODQ3MTY4LCAtNzQuMTgyMTY3MDUzMjIyNjZdLAogICAgICAgICAgICB7CiAgICAgICAgICAgICAgICBpY29uOiBuZXcgTC5JY29uLkRlZmF1bHQoKSwKICAgICAgICAgICAgICAgIH0KICAgICAgICAgICAgKS5hZGRUbyhtYXBfYzMxNjQ5NjY0ZDM0NGU2MmI2NGYxMTk0Zjk3YjczNTUpOwogICAgICAgIAogICAgCiAgICAgICAgdmFyIG1hcmtlcl9mMGI5ZjE1NGI5YjA0OTk3OWU1NjJkYWZmYzFlYTQ0YSA9IEwubWFya2VyKAogICAgICAgICAgICBbNDAuNjk1MjIwOTQ3MjY1NjI1LCAtNzQuMTc3MzYwNTM0NjY3OThdLAogICAgICAgICAgICB7CiAgICAgICAgICAgICAgICBpY29uOiBuZXcgTC5JY29uLkRlZmF1bHQoKSwKICAgICAgICAgICAgICAgIH0KICAgICAgICAgICAgKS5hZGRUbyhtYXBfYzMxNjQ5NjY0ZDM0NGU2MmI2NGYxMTk0Zjk3YjczNTUpOwogICAgICAgIAogICAgCiAgICAgICAgdmFyIG1hcmtlcl9iM2QxOWYxZTU0Nzc0MmFmOWU3NzMxMmFmZWEzOTNlOCA9IEwubWFya2VyKAogICAgICAgICAgICBbNDAuNjg3NzA5ODA4MzQ5NjEsIC03NC4xODEzOTY0ODQzNzVdLAogICAgICAgICAgICB7CiAgICAgICAgICAgICAgICBpY29uOiBuZXcgTC5JY29uLkRlZmF1bHQoKSwKICAgICAgICAgICAgICAgIH0KICAgICAgICAgICAgKS5hZGRUbyhtYXBfYzMxNjQ5NjY0ZDM0NGU2MmI2NGYxMTk0Zjk3YjczNTUpOwogICAgICAgIAogICAgCiAgICAgICAgdmFyIG1hcmtlcl80YWNjN2Q2Y2UzNWQ0ZTk2OGU1NzBkMmZiY2UzMDY0YyA9IEwubWFya2VyKAogICAgICAgICAgICBbNDEuMDMxNTA1NTg0NzE2OCwgLTczLjgwODI4ODU3NDIxODc1XSwKICAgICAgICAgICAgewogICAgICAgICAgICAgICAgaWNvbjogbmV3IEwuSWNvbi5EZWZhdWx0KCksCiAgICAgICAgICAgICAgICB9CiAgICAgICAgICAgICkuYWRkVG8obWFwX2MzMTY0OTY2NGQzNDRlNjJiNjRmMTE5NGY5N2I3MzU1KTsKICAgICAgICAKICAgIAogICAgICAgIHZhciBtYXJrZXJfYjAzMzE2YjE5YWJlNDhkOGEwOGY2MGZiZTIxNzg4Y2YgPSBMLm1hcmtlcigKICAgICAgICAgICAgWzQwLjY5Mzg1OTEwMDM0MTgsIC03NC4xODI1NzE0MTExMzI4MV0sCiAgICAgICAgICAgIHsKICAgICAgICAgICAgICAgIGljb246IG5ldyBMLkljb24uRGVmYXVsdCgpLAogICAgICAgICAgICAgICAgfQogICAgICAgICAgICApLmFkZFRvKG1hcF9jMzE2NDk2NjRkMzQ0ZTYyYjY0ZjExOTRmOTdiNzM1NSk7CiAgICAgICAgCiAgICAKICAgICAgICB2YXIgbWFya2VyX2U1Y2MzZDZiOTkwMDQ4MjliNGIwYTQxODIyMjQ4MTdiID0gTC5tYXJrZXIoCiAgICAgICAgICAgIFs0MC43MzA4OTk4MTA3OTEwMTYsIC03My42OTQxMjIzMTQ0NTMxMl0sCiAgICAgICAgICAgIHsKICAgICAgICAgICAgICAgIGljb246IG5ldyBMLkljb24uRGVmYXVsdCgpLAogICAgICAgICAgICAgICAgfQogICAgICAgICAgICApLmFkZFRvKG1hcF9jMzE2NDk2NjRkMzQ0ZTYyYjY0ZjExOTRmOTdiNzM1NSk7CiAgICAgICAgCiAgICAKICAgICAgICB2YXIgbWFya2VyXzFhNTZmY2YwYWFiMjQyZjZiZmRjZjEzMmFkNzFlNDQ0ID0gTC5tYXJrZXIoCiAgICAgICAgICAgIFs0MC42OTQ3Mjg4NTEzMTgzNiwgLTc0LjE3NzAzMjQ3MDcwMzEyXSwKICAgICAgICAgICAgewogICAgICAgICAgICAgICAgaWNvbjogbmV3IEwuSWNvbi5EZWZhdWx0KCksCiAgICAgICAgICAgICAgICB9CiAgICAgICAgICAgICkuYWRkVG8obWFwX2MzMTY0OTY2NGQzNDRlNjJiNjRmMTE5NGY5N2I3MzU1KTsKICAgICAgICAKICAgIAogICAgICAgIHZhciBtYXJrZXJfMDNmN2VmYTBlOTgyNDM0YmJiNGMzYTEzYTI5YzJmZDAgPSBMLm1hcmtlcigKICAgICAgICAgICAgWzQwLjY5NDczMjY2NjAxNTYyNSwgLTc0LjE3NzA3MDYxNzY3NTc4XSwKICAgICAgICAgICAgewogICAgICAgICAgICAgICAgaWNvbjogbmV3IEwuSWNvbi5EZWZhdWx0KCksCiAgICAgICAgICAgICAgICB9CiAgICAgICAgICAgICkuYWRkVG8obWFwX2MzMTY0OTY2NGQzNDRlNjJiNjRmMTE5NGY5N2I3MzU1KTsKICAgICAgICAKICAgIAogICAgICAgIHZhciBtYXJrZXJfMWUyYWM5Mjk0ZjU1NDBlMWI1YjY1YmE5NmYxODc3MTcgPSBMLm1hcmtlcigKICAgICAgICAgICAgWzQwLjY5NDYyNTg1NDQ5MjE5LCAtNzQuMTc3MDU1MzU4ODg2NzJdLAogICAgICAgICAgICB7CiAgICAgICAgICAgICAgICBpY29uOiBuZXcgTC5JY29uLkRlZmF1bHQoKSwKICAgICAgICAgICAgICAgIH0KICAgICAgICAgICAgKS5hZGRUbyhtYXBfYzMxNjQ5NjY0ZDM0NGU2MmI2NGYxMTk0Zjk3YjczNTUpOwogICAgICAgIAogICAgCiAgICAgICAgdmFyIG1hcmtlcl9kM2U4OTQ0MjI3MWM0MWUzYTc4MTczYzc5OWEzM2ZkYyA9IEwubWFya2VyKAogICAgICAgICAgICBbNDAuNjk1MzY1OTA1NzYxNzIsIC03NC4xNzc2NjU3MTA0NDkyM10sCiAgICAgICAgICAgIHsKICAgICAgICAgICAgICAgIGljb246IG5ldyBMLkljb24uRGVmYXVsdCgpLAogICAgICAgICAgICAgICAgfQogICAgICAgICAgICApLmFkZFRvKG1hcF9jMzE2NDk2NjRkMzQ0ZTYyYjY0ZjExOTRmOTdiNzM1NSk7CiAgICAgICAgCiAgICAKICAgICAgICB2YXIgbWFya2VyXzEyMjAxMDQ5ODhkYTQxNDBhNzljNGNiZTJlYWU4NDI5ID0gTC5tYXJrZXIoCiAgICAgICAgICAgIFs0MC42OTUxNDg0NjgwMTc1OCwgLTc0LjE3NzE5MjY4Nzk4ODNdLAogICAgICAgICAgICB7CiAgICAgICAgICAgICAgICBpY29uOiBuZXcgTC5JY29uLkRlZmF1bHQoKSwKICAgICAgICAgICAgICAgIH0KICAgICAgICAgICAgKS5hZGRUbyhtYXBfYzMxNjQ5NjY0ZDM0NGU2MmI2NGYxMTk0Zjk3YjczNTUpOwogICAgICAgIAogICAgCiAgICAgICAgdmFyIG1hcmtlcl81OTczNjAzYWVlNGY0MTRlOGE0Y2YwMDE2YjkxOWFjNSA9IEwubWFya2VyKAogICAgICAgICAgICBbNDAuNjk0MjgyNTMxNzM4MjgsIC03NC4xNzY2NzM4ODkxNjAxNF0sCiAgICAgICAgICAgIHsKICAgICAgICAgICAgICAgIGljb246IG5ldyBMLkljb24uRGVmYXVsdCgpLAogICAgICAgICAgICAgICAgfQogICAgICAgICAgICApLmFkZFRvKG1hcF9jMzE2NDk2NjRkMzQ0ZTYyYjY0ZjExOTRmOTdiNzM1NSk7CiAgICAgICAgCiAgICAKICAgICAgICB2YXIgbWFya2VyX2FjNDk2MjliMjM5ZjQ1NDA5MWIxYWQ2MzcyY2ZmOWFkID0gTC5tYXJrZXIoCiAgICAgICAgICAgIFs0MC42OTQxNDEzODc5Mzk0NSwgLTc0LjE3NjkzMzI4ODU3NDIyXSwKICAgICAgICAgICAgewogICAgICAgICAgICAgICAgaWNvbjogbmV3IEwuSWNvbi5EZWZhdWx0KCksCiAgICAgICAgICAgICAgICB9CiAgICAgICAgICAgICkuYWRkVG8obWFwX2MzMTY0OTY2NGQzNDRlNjJiNjRmMTE5NGY5N2I3MzU1KTsKICAgICAgICAKICAgIAogICAgICAgIHZhciBtYXJrZXJfNmI4ZTEzODBhN2I1NGQzYWI5MTVhYTJkNzMzNTFlNDEgPSBMLm1hcmtlcigKICAgICAgICAgICAgWzQwLjgxMTk4ODgzMDU2NjQwNiwgLTczLjE3MzM2MjczMTkzMzU4XSwKICAgICAgICAgICAgewogICAgICAgICAgICAgICAgaWNvbjogbmV3IEwuSWNvbi5EZWZhdWx0KCksCiAgICAgICAgICAgICAgICB9CiAgICAgICAgICAgICkuYWRkVG8obWFwX2MzMTY0OTY2NGQzNDRlNjJiNjRmMTE5NGY5N2I3MzU1KTsKICAgICAgICAKICAgIAogICAgICAgIHZhciBtYXJrZXJfM2YzZmY5MmJkNTE3NDY3MTk1NmFjN2NlOWJjYThiNWYgPSBMLm1hcmtlcigKICAgICAgICAgICAgWzQwLjY5NTA2MDcyOTk4MDQ3LCAtNzQuMTc3MTQ2OTExNjIxMV0sCiAgICAgICAgICAgIHsKICAgICAgICAgICAgICAgIGljb246IG5ldyBMLkljb24uRGVmYXVsdCgpLAogICAgICAgICAgICAgICAgfQogICAgICAgICAgICApLmFkZFRvKG1hcF9jMzE2NDk2NjRkMzQ0ZTYyYjY0ZjExOTRmOTdiNzM1NSk7CiAgICAgICAgCiAgICAKICAgICAgICB2YXIgbWFya2VyXzQ4MTY5MzAxMTYyYzRkOWRiOWE2MGJmMmE4ODg2MzhhID0gTC5tYXJrZXIoCiAgICAgICAgICAgIFs0MS4wNjczNTIyOTQ5MjE4OCwgLTczLjcwMjUzNzUzNjYyMTFdLAogICAgICAgICAgICB7CiAgICAgICAgICAgICAgICBpY29uOiBuZXcgTC5JY29uLkRlZmF1bHQoKSwKICAgICAgICAgICAgICAgIH0KICAgICAgICAgICAgKS5hZGRUbyhtYXBfYzMxNjQ5NjY0ZDM0NGU2MmI2NGYxMTk0Zjk3YjczNTUpOwogICAgICAgIAogICAgCiAgICAgICAgdmFyIG1hcmtlcl85OGY4ZWUzY2ViNjA0YmI4ODkzMDIzMWUwOWNiNTIzNSA9IEwubWFya2VyKAogICAgICAgICAgICBbNDAuNjkyMTA4MTU0Mjk2ODgsIC03NC4xODExNzUyMzE5MzM1OF0sCiAgICAgICAgICAgIHsKICAgICAgICAgICAgICAgIGljb246IG5ldyBMLkljb24uRGVmYXVsdCgpLAogICAgICAgICAgICAgICAgfQogICAgICAgICAgICApLmFkZFRvKG1hcF9jMzE2NDk2NjRkMzQ0ZTYyYjY0ZjExOTRmOTdiNzM1NSk7CiAgICAgICAgCiAgICAKICAgICAgICB2YXIgbWFya2VyX2ZmZTUxZmVlZjgxODQwZGQ5NDUwZTZmNTgyOWQyOGQ4ID0gTC5tYXJrZXIoCiAgICAgICAgICAgIFs0MC42NzgyOTEzMjA4MDA3OCwgLTczLjY0ODU4MjQ1ODQ5NjFdLAogICAgICAgICAgICB7CiAgICAgICAgICAgICAgICBpY29uOiBuZXcgTC5JY29uLkRlZmF1bHQoKSwKICAgICAgICAgICAgICAgIH0KICAgICAgICAgICAgKS5hZGRUbyhtYXBfYzMxNjQ5NjY0ZDM0NGU2MmI2NGYxMTk0Zjk3YjczNTUpOwogICAgICAgIAogICAgCiAgICAgICAgdmFyIG1hcmtlcl9jZTBjYmJhM2I3ZGY0OTgxOGQ0MzFiMzNhZTM4OTExMCA9IEwubWFya2VyKAogICAgICAgICAgICBbNDAuNjY3NDQyMzIxNzc3MzQ0LCAtNzMuNjYwODI3NjM2NzE4NzVdLAogICAgICAgICAgICB7CiAgICAgICAgICAgICAgICBpY29uOiBuZXcgTC5JY29uLkRlZmF1bHQoKSwKICAgICAgICAgICAgICAgIH0KICAgICAgICAgICAgKS5hZGRUbyhtYXBfYzMxNjQ5NjY0ZDM0NGU2MmI2NGYxMTk0Zjk3YjczNTUpOwogICAgICAgIAogICAgCiAgICAgICAgdmFyIG1hcmtlcl82NTMxZGRiYTI2MTU0Y2EzODE2NGU4ZTk4MTBiMTk4NyA9IEwubWFya2VyKAogICAgICAgICAgICBbNDAuOTQ4NDk3NzcyMjE2OCwgLTczLjgzNTIzNTU5NTcwMzEyXSwKICAgICAgICAgICAgewogICAgICAgICAgICAgICAgaWNvbjogbmV3IEwuSWNvbi5EZWZhdWx0KCksCiAgICAgICAgICAgICAgICB9CiAgICAgICAgICAgICkuYWRkVG8obWFwX2MzMTY0OTY2NGQzNDRlNjJiNjRmMTE5NGY5N2I3MzU1KTsKICAgICAgICAKICAgIAogICAgICAgIHZhciBtYXJrZXJfNTJhNWZlZDI3Y2MzNDM5M2ExODE0ODRiYzE0OWJkMzQgPSBMLm1hcmtlcigKICAgICAgICAgICAgWzQwLjY4NzcyMTI1MjQ0MTQwNiwgLTc0LjE4MjEwNjAxODA2NjRdLAogICAgICAgICAgICB7CiAgICAgICAgICAgICAgICBpY29uOiBuZXcgTC5JY29uLkRlZmF1bHQoKSwKICAgICAgICAgICAgICAgIH0KICAgICAgICAgICAgKS5hZGRUbyhtYXBfYzMxNjQ5NjY0ZDM0NGU2MmI2NGYxMTk0Zjk3YjczNTUpOwogICAgICAgIAogICAgCiAgICAgICAgdmFyIG1hcmtlcl8yYjdmMGU0ZjA5YjY0MjljYTZmM2M2MTJmMzgzZmJhYiA9IEwubWFya2VyKAogICAgICAgICAgICBbNDAuNjk1MTU5OTEyMTA5Mzc1LCAtNzQuMTc3MjAwMzE3MzgyODFdLAogICAgICAgICAgICB7CiAgICAgICAgICAgICAgICBpY29uOiBuZXcgTC5JY29uLkRlZmF1bHQoKSwKICAgICAgICAgICAgICAgIH0KICAgICAgICAgICAgKS5hZGRUbyhtYXBfYzMxNjQ5NjY0ZDM0NGU2MmI2NGYxMTk0Zjk3YjczNTUpOwogICAgICAgIAogICAgCiAgICAgICAgdmFyIG1hcmtlcl85MDc2MzAyOTUzNjQ0OTNjYmRkZjQ5NTkwMDA3ZWZiOCA9IEwubWFya2VyKAogICAgICAgICAgICBbNDAuNzA5NzQ3MzE0NDUzMTMsIC03My42MzcxOTE3NzI0NjA5NF0sCiAgICAgICAgICAgIHsKICAgICAgICAgICAgICAgIGljb246IG5ldyBMLkljb24uRGVmYXVsdCgpLAogICAgICAgICAgICAgICAgfQogICAgICAgICAgICApLmFkZFRvKG1hcF9jMzE2NDk2NjRkMzQ0ZTYyYjY0ZjExOTRmOTdiNzM1NSk7CiAgICAgICAgCiAgICAKICAgICAgICB2YXIgbWFya2VyXzA5OGQ1MGFjYzkzNDRiNDM4N2RkMTkwM2ZmNzllMDVlID0gTC5tYXJrZXIoCiAgICAgICAgICAgIFs0MC43NTQ3MTg3ODA1MTc1OCwgLTczLjUzMDYwOTEzMDg1OTM4XSwKICAgICAgICAgICAgewogICAgICAgICAgICAgICAgaWNvbjogbmV3IEwuSWNvbi5EZWZhdWx0KCksCiAgICAgICAgICAgICAgICB9CiAgICAgICAgICAgICkuYWRkVG8obWFwX2MzMTY0OTY2NGQzNDRlNjJiNjRmMTE5NGY5N2I3MzU1KTsKICAgICAgICAKICAgIAogICAgICAgIHZhciBtYXJrZXJfZTU3OGYxN2UwMjY1NGEwN2JjYjU5NDY0YTBhYjZlNWIgPSBMLm1hcmtlcigKICAgICAgICAgICAgWzQwLjY4NzY3OTI5MDc3MTQ5LCAtNzQuMTgyMDkwNzU5Mjc3MzRdLAogICAgICAgICAgICB7CiAgICAgICAgICAgICAgICBpY29uOiBuZXcgTC5JY29uLkRlZmF1bHQoKSwKICAgICAgICAgICAgICAgIH0KICAgICAgICAgICAgKS5hZGRUbyhtYXBfYzMxNjQ5NjY0ZDM0NGU2MmI2NGYxMTk0Zjk3YjczNTUpOwogICAgICAgIAogICAgCiAgICAgICAgdmFyIG1hcmtlcl9kMGZjYTFjYWVkMmI0NTVhOGZmYzk5ZDMzODJlZDFlNCA9IEwubWFya2VyKAogICAgICAgICAgICBbNDAuNjg4MDYwNzYwNDk4MDUsIC03NC4xODMzMTkwOTE3OTY4Nl0sCiAgICAgICAgICAgIHsKICAgICAgICAgICAgICAgIGljb246IG5ldyBMLkljb24uRGVmYXVsdCgpLAogICAgICAgICAgICAgICAgfQogICAgICAgICAgICApLmFkZFRvKG1hcF9jMzE2NDk2NjRkMzQ0ZTYyYjY0ZjExOTRmOTdiNzM1NSk7CiAgICAgICAgCiAgICAKICAgICAgICB2YXIgbWFya2VyX2I3ZjdkMzQ5Yjg1ZTRlYWJhZDViYTg5NGE5MGY4Yjk1ID0gTC5tYXJrZXIoCiAgICAgICAgICAgIFs0MC41NjE1NTAxNDAzODA4NSwgLTc0LjEyODAxMzYxMDgzOTg0XSwKICAgICAgICAgICAgewogICAgICAgICAgICAgICAgaWNvbjogbmV3IEwuSWNvbi5EZWZhdWx0KCksCiAgICAgICAgICAgICAgICB9CiAgICAgICAgICAgICkuYWRkVG8obWFwX2MzMTY0OTY2NGQzNDRlNjJiNjRmMTE5NGY5N2I3MzU1KTsKICAgICAgICAKICAgIAogICAgICAgIHZhciBtYXJrZXJfMjQ4ODA0NjMyMmM3NDY3NGJiNTE0MzgzMGRjMzExMTkgPSBMLm1hcmtlcigKICAgICAgICAgICAgWzQwLjY5NTE3NTE3MDg5ODQ0LCAtNzQuMTc3MjY4OTgxOTMzNThdLAogICAgICAgICAgICB7CiAgICAgICAgICAgICAgICBpY29uOiBuZXcgTC5JY29uLkRlZmF1bHQoKSwKICAgICAgICAgICAgICAgIH0KICAgICAgICAgICAgKS5hZGRUbyhtYXBfYzMxNjQ5NjY0ZDM0NGU2MmI2NGYxMTk0Zjk3YjczNTUpOwogICAgICAgIAogICAgCiAgICAgICAgdmFyIG1hcmtlcl82ZTZhYzA4MDhhOTk0YzVhYjk0ZjAzMTkxODk5NGE3MCA9IEwubWFya2VyKAogICAgICAgICAgICBbNDAuNjk1MjcwNTM4MzMwMDgsIC03NC4xNzczODM0MjI4NTE1NV0sCiAgICAgICAgICAgIHsKICAgICAgICAgICAgICAgIGljb246IG5ldyBMLkljb24uRGVmYXVsdCgpLAogICAgICAgICAgICAgICAgfQogICAgICAgICAgICApLmFkZFRvKG1hcF9jMzE2NDk2NjRkMzQ0ZTYyYjY0ZjExOTRmOTdiNzM1NSk7CiAgICAgICAgCiAgICAKICAgICAgICB2YXIgbWFya2VyX2VjMDMyMGY0M2ZhOTRiMGY4OTZiZjJhNGRkOWM5MDM1ID0gTC5tYXJrZXIoCiAgICAgICAgICAgIFs0MC43NDYzNDkzMzQ3MTY4LCAtNzMuNjQ1MDA0MjcyNDYwOTRdLAogICAgICAgICAgICB7CiAgICAgICAgICAgICAgICBpY29uOiBuZXcgTC5JY29uLkRlZmF1bHQoKSwKICAgICAgICAgICAgICAgIH0KICAgICAgICAgICAgKS5hZGRUbyhtYXBfYzMxNjQ5NjY0ZDM0NGU2MmI2NGYxMTk0Zjk3YjczNTUpOwogICAgICAgIAogICAgCiAgICAgICAgdmFyIG1hcmtlcl9mZTExYWM0YzkwMzU0NzQ5OWQwOWFjN2YyZGVjZDBlMSA9IEwubWFya2VyKAogICAgICAgICAgICBbNDAuNjk1MzYyMDkxMDY0NDUsIC03NC4xNzc1MzYwMTA3NDIxOV0sCiAgICAgICAgICAgIHsKICAgICAgICAgICAgICAgIGljb246IG5ldyBMLkljb24uRGVmYXVsdCgpLAogICAgICAgICAgICAgICAgfQogICAgICAgICAgICApLmFkZFRvKG1hcF9jMzE2NDk2NjRkMzQ0ZTYyYjY0ZjExOTRmOTdiNzM1NSk7CiAgICAgICAgCiAgICAKICAgICAgICB2YXIgbWFya2VyXzIwYmU0NzU2ZGQ1MjQ3OGViZDMxOGZlZTE2ZTVkZjc4ID0gTC5tYXJrZXIoCiAgICAgICAgICAgIFs0MC42OTUwMzc4NDE3OTY4OCwgLTc0LjE3NzA4NTg3NjQ2NDgzXSwKICAgICAgICAgICAgewogICAgICAgICAgICAgICAgaWNvbjogbmV3IEwuSWNvbi5EZWZhdWx0KCksCiAgICAgICAgICAgICAgICB9CiAgICAgICAgICAgICkuYWRkVG8obWFwX2MzMTY0OTY2NGQzNDRlNjJiNjRmMTE5NGY5N2I3MzU1KTsKICAgICAgICAKICAgIAogICAgICAgIHZhciBtYXJrZXJfODJlZGMwNzE2ZWEyNDRkMmFmMmFkYjViODUyZjNkM2EgPSBMLm1hcmtlcigKICAgICAgICAgICAgWzQwLjY5NTA3OTgwMzQ2NjgsIC03NC4xNzgzMDY1Nzk1ODk4NF0sCiAgICAgICAgICAgIHsKICAgICAgICAgICAgICAgIGljb246IG5ldyBMLkljb24uRGVmYXVsdCgpLAogICAgICAgICAgICAgICAgfQogICAgICAgICAgICApLmFkZFRvKG1hcF9jMzE2NDk2NjRkMzQ0ZTYyYjY0ZjExOTRmOTdiNzM1NSk7CiAgICAgICAgCiAgICAKICAgICAgICB2YXIgbWFya2VyXzNhYmZjYWNmNjQ4YzRlYTZiOTk1MmEwYzNiNmIzZjliID0gTC5tYXJrZXIoCiAgICAgICAgICAgIFs0MC42OTM3NDA4NDQ3MjY1NiwgLTc0LjE4MjcwMTExMDgzOTg0XSwKICAgICAgICAgICAgewogICAgICAgICAgICAgICAgaWNvbjogbmV3IEwuSWNvbi5EZWZhdWx0KCksCiAgICAgICAgICAgICAgICB9CiAgICAgICAgICAgICkuYWRkVG8obWFwX2MzMTY0OTY2NGQzNDRlNjJiNjRmMTE5NGY5N2I3MzU1KTsKICAgICAgICAKICAgIAogICAgICAgIHZhciBtYXJrZXJfNDFkMGRlYzM2NjkxNDAwZTg5MDI5OTZlOWZhN2VhNGQgPSBMLm1hcmtlcigKICAgICAgICAgICAgWzQwLjY4NzczNjUxMTIzMDQ3LCAtNzQuMTgyMjQzMzQ3MTY3OThdLAogICAgICAgICAgICB7CiAgICAgICAgICAgICAgICBpY29uOiBuZXcgTC5JY29uLkRlZmF1bHQoKSwKICAgICAgICAgICAgICAgIH0KICAgICAgICAgICAgKS5hZGRUbyhtYXBfYzMxNjQ5NjY0ZDM0NGU2MmI2NGYxMTk0Zjk3YjczNTUpOwogICAgICAgIAogICAgCiAgICAgICAgdmFyIG1hcmtlcl9lMjk4MDhkZjUxY2U0ODgwYWQwNjk0OGMyNmY1NWU1NCA9IEwubWFya2VyKAogICAgICAgICAgICBbNDAuNjkxNTA1NDMyMTI4OTA2LCAtNzQuMTg5MTYzMjA4MDA3ODFdLAogICAgICAgICAgICB7CiAgICAgICAgICAgICAgICBpY29uOiBuZXcgTC5JY29uLkRlZmF1bHQoKSwKICAgICAgICAgICAgICAgIH0KICAgICAgICAgICAgKS5hZGRUbyhtYXBfYzMxNjQ5NjY0ZDM0NGU2MmI2NGYxMTk0Zjk3YjczNTUpOwogICAgICAgIAogICAgCiAgICAgICAgdmFyIG1hcmtlcl82MzkyNGM1N2ZjN2I0MTJhYjYyZDVjNzMzNDBmYWEwZCA9IEwubWFya2VyKAogICAgICAgICAgICBbNDAuNjk1NDA0MDUyNzM0Mzc1LCAtNzQuMTc3NTEzMTIyNTU4Nl0sCiAgICAgICAgICAgIHsKICAgICAgICAgICAgICAgIGljb246IG5ldyBMLkljb24uRGVmYXVsdCgpLAogICAgICAgICAgICAgICAgfQogICAgICAgICAgICApLmFkZFRvKG1hcF9jMzE2NDk2NjRkMzQ0ZTYyYjY0ZjExOTRmOTdiNzM1NSk7CiAgICAgICAgCiAgICAKICAgICAgICB2YXIgbWFya2VyXzQ2YTdmY2Y2YTdkZDRmZTNhNzg0NzNiOGE1NjQ2MmYzID0gTC5tYXJrZXIoCiAgICAgICAgICAgIFs0MC42ODc3NjMyMTQxMTEzMywgLTc0LjE4MTMyMDE5MDQyOTddLAogICAgICAgICAgICB7CiAgICAgICAgICAgICAgICBpY29uOiBuZXcgTC5JY29uLkRlZmF1bHQoKSwKICAgICAgICAgICAgICAgIH0KICAgICAgICAgICAgKS5hZGRUbyhtYXBfYzMxNjQ5NjY0ZDM0NGU2MmI2NGYxMTk0Zjk3YjczNTUpOwogICAgICAgIAogICAgCiAgICAgICAgdmFyIG1hcmtlcl80YmFjZWIwMTY2YzA0NWRmYWViZWQwNWE2MDM0NTNjZSA9IEwubWFya2VyKAogICAgICAgICAgICBbNDAuNjk1NDY4OTAyNTg3ODksIC03NC4xNzc2ODg1OTg2MzI4MV0sCiAgICAgICAgICAgIHsKICAgICAgICAgICAgICAgIGljb246IG5ldyBMLkljb24uRGVmYXVsdCgpLAogICAgICAgICAgICAgICAgfQogICAgICAgICAgICApLmFkZFRvKG1hcF9jMzE2NDk2NjRkMzQ0ZTYyYjY0ZjExOTRmOTdiNzM1NSk7CiAgICAgICAgCiAgICAKICAgICAgICB2YXIgbWFya2VyXzkzNTlkMTQxNTBiYTRkYmE4MGEwZGY4ZWFhOTJkZTY5ID0gTC5tYXJrZXIoCiAgICAgICAgICAgIFs0MC42OTA1MTM2MTA4Mzk4NDQsIC03NC4xNzc1NzQxNTc3MTQ4NF0sCiAgICAgICAgICAgIHsKICAgICAgICAgICAgICAgIGljb246IG5ldyBMLkljb24uRGVmYXVsdCgpLAogICAgICAgICAgICAgICAgfQogICAgICAgICAgICApLmFkZFRvKG1hcF9jMzE2NDk2NjRkMzQ0ZTYyYjY0ZjExOTRmOTdiNzM1NSk7CiAgICAgICAgCiAgICAKICAgICAgICB2YXIgbWFya2VyX2ZhZDlhYTA1NGFlYzRlODFhZDA5NzBkYTM0ZWNjYTcwID0gTC5tYXJrZXIoCiAgICAgICAgICAgIFs0MC42OTQ5NDYyODkwNjI1LCAtNzQuMTc3MjQ2MDkzNzVdLAogICAgICAgICAgICB7CiAgICAgICAgICAgICAgICBpY29uOiBuZXcgTC5JY29uLkRlZmF1bHQoKSwKICAgICAgICAgICAgICAgIH0KICAgICAgICAgICAgKS5hZGRUbyhtYXBfYzMxNjQ5NjY0ZDM0NGU2MmI2NGYxMTk0Zjk3YjczNTUpOwogICAgICAgIAogICAgCiAgICAgICAgdmFyIG1hcmtlcl9jMGE2MDM4OTkxNDE0OTk5OTQyZGVhOWVhNDlkNjQ4NCA9IEwubWFya2VyKAogICAgICAgICAgICBbNDAuNjg3OTg4MjgxMjUsIC03NC4xODMxMTMwOTgxNDQ1M10sCiAgICAgICAgICAgIHsKICAgICAgICAgICAgICAgIGljb246IG5ldyBMLkljb24uRGVmYXVsdCgpLAogICAgICAgICAgICAgICAgfQogICAgICAgICAgICApLmFkZFRvKG1hcF9jMzE2NDk2NjRkMzQ0ZTYyYjY0ZjExOTRmOTdiNzM1NSk7CiAgICAgICAgCiAgICAKICAgICAgICB2YXIgbWFya2VyXzdiYTkzMzZkN2JlZTQyMTRiM2M0OWI4Y2ExNWY1MWY1ID0gTC5tYXJrZXIoCiAgICAgICAgICAgIFs0MC44Mjc2ODYzMDk4MTQ0NSwgLTczLjY5NTQ4MDM0NjY3OTY5XSwKICAgICAgICAgICAgewogICAgICAgICAgICAgICAgaWNvbjogbmV3IEwuSWNvbi5EZWZhdWx0KCksCiAgICAgICAgICAgICAgICB9CiAgICAgICAgICAgICkuYWRkVG8obWFwX2MzMTY0OTY2NGQzNDRlNjJiNjRmMTE5NGY5N2I3MzU1KTsKICAgICAgICAKICAgIAogICAgICAgIHZhciBtYXJrZXJfMmZlMDA1MjIwN2UxNDIxMGJhZGVkYzZjODE2YWE1Y2MgPSBMLm1hcmtlcigKICAgICAgICAgICAgWzQwLjY5NTEwNjUwNjM0NzY1NiwgLTc0LjE3NzE4NTA1ODU5Mzc1XSwKICAgICAgICAgICAgewogICAgICAgICAgICAgICAgaWNvbjogbmV3IEwuSWNvbi5EZWZhdWx0KCksCiAgICAgICAgICAgICAgICB9CiAgICAgICAgICAgICkuYWRkVG8obWFwX2MzMTY0OTY2NGQzNDRlNjJiNjRmMTE5NGY5N2I3MzU1KTsKICAgICAgICAKICAgIAogICAgICAgIHZhciBtYXJrZXJfZTk3NTU0MTczOTEwNDI3ZWJhMDc4NmZlZDQxNjMyODMgPSBMLm1hcmtlcigKICAgICAgICAgICAgWzQwLjY5NDg1ODU1MTAyNTM5LCAtNzQuMTc2OTQ4NTQ3MzYzMjhdLAogICAgICAgICAgICB7CiAgICAgICAgICAgICAgICBpY29uOiBuZXcgTC5JY29uLkRlZmF1bHQoKSwKICAgICAgICAgICAgICAgIH0KICAgICAgICAgICAgKS5hZGRUbyhtYXBfYzMxNjQ5NjY0ZDM0NGU2MmI2NGYxMTk0Zjk3YjczNTUpOwogICAgICAgIAogICAgCiAgICAgICAgdmFyIG1hcmtlcl9mYTRhZGIyODJhNTk0MTc1YTQ4NDZiMjcxYWIyY2Y1OSA9IEwubWFya2VyKAogICAgICAgICAgICBbNDAuNjk1MDUzMTAwNTg1OTQsIC03NC4xNzcyMDAzMTczODI4MV0sCiAgICAgICAgICAgIHsKICAgICAgICAgICAgICAgIGljb246IG5ldyBMLkljb24uRGVmYXVsdCgpLAogICAgICAgICAgICAgICAgfQogICAgICAgICAgICApLmFkZFRvKG1hcF9jMzE2NDk2NjRkMzQ0ZTYyYjY0ZjExOTRmOTdiNzM1NSk7CiAgICAgICAgCiAgICAKICAgICAgICB2YXIgbWFya2VyX2Q4YWE4ZjJkYzA0MDRlM2I4OTk1MWQzM2I4ZDIzNjM0ID0gTC5tYXJrZXIoCiAgICAgICAgICAgIFs0MC43NDE4NTU2MjEzMzc4OSwgLTczLjY0MDUwMjkyOTY4NzVdLAogICAgICAgICAgICB7CiAgICAgICAgICAgICAgICBpY29uOiBuZXcgTC5JY29uLkRlZmF1bHQoKSwKICAgICAgICAgICAgICAgIH0KICAgICAgICAgICAgKS5hZGRUbyhtYXBfYzMxNjQ5NjY0ZDM0NGU2MmI2NGYxMTk0Zjk3YjczNTUpOwogICAgICAgIAogICAgCiAgICAgICAgdmFyIG1hcmtlcl83NDY1ZWQwNDMxYmE0Yzg5YTVmYmViNmY5ZjhjY2ZiZSA9IEwubWFya2VyKAogICAgICAgICAgICBbNDAuNjU5ODg5MjIxMTkxNDA2LCAtNzMuNjg4NzUxMjIwNzAzMTJdLAogICAgICAgICAgICB7CiAgICAgICAgICAgICAgICBpY29uOiBuZXcgTC5JY29uLkRlZmF1bHQoKSwKICAgICAgICAgICAgICAgIH0KICAgICAgICAgICAgKS5hZGRUbyhtYXBfYzMxNjQ5NjY0ZDM0NGU2MmI2NGYxMTk0Zjk3YjczNTUpOwogICAgICAgIAogICAgCiAgICAgICAgdmFyIG1hcmtlcl9iZWUwOTg0NGE0ODY0MWQ3YTljOWJlNjBmMDJkNDE0YSA9IEwubWFya2VyKAogICAgICAgICAgICBbNDAuNjg3NzE3NDM3NzQ0MTUsIC03NC4xODE2MzI5OTU2MDU0N10sCiAgICAgICAgICAgIHsKICAgICAgICAgICAgICAgIGljb246IG5ldyBMLkljb24uRGVmYXVsdCgpLAogICAgICAgICAgICAgICAgfQogICAgICAgICAgICApLmFkZFRvKG1hcF9jMzE2NDk2NjRkMzQ0ZTYyYjY0ZjExOTRmOTdiNzM1NSk7CiAgICAgICAgCiAgICAKICAgICAgICB2YXIgbWFya2VyX2I0OWRmODY1ZTBjODRiZTRhZDEzYjUwMGIwZTQ5ZTU1ID0gTC5tYXJrZXIoCiAgICAgICAgICAgIFs0MC42ODc5Mzg2OTAxODU1NSwgLTc0LjE4MTM1ODMzNzQwMjM0XSwKICAgICAgICAgICAgewogICAgICAgICAgICAgICAgaWNvbjogbmV3IEwuSWNvbi5EZWZhdWx0KCksCiAgICAgICAgICAgICAgICB9CiAgICAgICAgICAgICkuYWRkVG8obWFwX2MzMTY0OTY2NGQzNDRlNjJiNjRmMTE5NGY5N2I3MzU1KTsKICAgICAgICAKICAgIAogICAgICAgIHZhciBtYXJrZXJfNDg2ZGU2OTdjNmZmNGEzMWI4ZGYxYzg0MmJlYzQ1ZDIgPSBMLm1hcmtlcigKICAgICAgICAgICAgWzQwLjY5NTEwMjY5MTY1MDM5LCAtNzQuMTc3MzkxMDUyMjQ2MV0sCiAgICAgICAgICAgIHsKICAgICAgICAgICAgICAgIGljb246IG5ldyBMLkljb24uRGVmYXVsdCgpLAogICAgICAgICAgICAgICAgfQogICAgICAgICAgICApLmFkZFRvKG1hcF9jMzE2NDk2NjRkMzQ0ZTYyYjY0ZjExOTRmOTdiNzM1NSk7CiAgICAgICAgCiAgICAKICAgICAgICB2YXIgbWFya2VyX2I5OTc3NjI0NTU2MTRjOWRiZGZlZGUzNzc3YzkxMTM1ID0gTC5tYXJrZXIoCiAgICAgICAgICAgIFs0MC43MDg1MzA0MjYwMjUzOSwgLTc0LjE1NTc2OTM0ODE0NDUzXSwKICAgICAgICAgICAgewogICAgICAgICAgICAgICAgaWNvbjogbmV3IEwuSWNvbi5EZWZhdWx0KCksCiAgICAgICAgICAgICAgICB9CiAgICAgICAgICAgICkuYWRkVG8obWFwX2MzMTY0OTY2NGQzNDRlNjJiNjRmMTE5NGY5N2I3MzU1KTsKICAgICAgICAKICAgIAogICAgICAgIHZhciBtYXJrZXJfYmY1YWQ5NDQxODUzNDUzNmE3ZjE2YjQ4NzQwYzczYTggPSBMLm1hcmtlcigKICAgICAgICAgICAgWzQxLjAyMTI1OTMwNzg2MTMzLCAtNzMuNzE4ODU2ODExNTIzNDJdLAogICAgICAgICAgICB7CiAgICAgICAgICAgICAgICBpY29uOiBuZXcgTC5JY29uLkRlZmF1bHQoKSwKICAgICAgICAgICAgICAgIH0KICAgICAgICAgICAgKS5hZGRUbyhtYXBfYzMxNjQ5NjY0ZDM0NGU2MmI2NGYxMTk0Zjk3YjczNTUpOwogICAgICAgIAogICAgCiAgICAgICAgdmFyIG1hcmtlcl8xYzE0NzU3MzFiM2M0NzAyYTM5YjQ2YWY5MmEyMDI4ZSA9IEwubWFya2VyKAogICAgICAgICAgICBbNDAuNjU2NjMxNDY5NzI2NTYsIC03My42NjE2Mjg3MjMxNDQ1M10sCiAgICAgICAgICAgIHsKICAgICAgICAgICAgICAgIGljb246IG5ldyBMLkljb24uRGVmYXVsdCgpLAogICAgICAgICAgICAgICAgfQogICAgICAgICAgICApLmFkZFRvKG1hcF9jMzE2NDk2NjRkMzQ0ZTYyYjY0ZjExOTRmOTdiNzM1NSk7CiAgICAgICAgCiAgICAKICAgICAgICB2YXIgbWFya2VyXzA1ODAwNmNiYjdlMDQ2NGM4ZDA5YTRmNWU1MDY3ODU5ID0gTC5tYXJrZXIoCiAgICAgICAgICAgIFs0MC42OTQ4NTg1NTEwMjUzOSwgLTc0LjE3NzAwOTU4MjUxOTU1XSwKICAgICAgICAgICAgewogICAgICAgICAgICAgICAgaWNvbjogbmV3IEwuSWNvbi5EZWZhdWx0KCksCiAgICAgICAgICAgICAgICB9CiAgICAgICAgICAgICkuYWRkVG8obWFwX2MzMTY0OTY2NGQzNDRlNjJiNjRmMTE5NGY5N2I3MzU1KTsKICAgICAgICAKICAgIAogICAgICAgIHZhciBtYXJrZXJfNDQ2ZGQ1YzQ1MmZiNDFkZGE2OGFkM2FkNTNiNmYxNTAgPSBMLm1hcmtlcigKICAgICAgICAgICAgWzQwLjcxMzk1MTExMDgzOTg0NCwgLTczLjY1ODUzODgxODM1OTM4XSwKICAgICAgICAgICAgewogICAgICAgICAgICAgICAgaWNvbjogbmV3IEwuSWNvbi5EZWZhdWx0KCksCiAgICAgICAgICAgICAgICB9CiAgICAgICAgICAgICkuYWRkVG8obWFwX2MzMTY0OTY2NGQzNDRlNjJiNjRmMTE5NGY5N2I3MzU1KTsKICAgICAgICAKICAgIAogICAgICAgIHZhciBtYXJrZXJfOTNkNjI5ZTNmMGM3NGRjZGI1YmJiYTZlZGU1YzcwODkgPSBMLm1hcmtlcigKICAgICAgICAgICAgWzQwLjY5NTQzODM4NTAwOTc3LCAtNzQuMTgwMDkxODU3OTEwMTRdLAogICAgICAgICAgICB7CiAgICAgICAgICAgICAgICBpY29uOiBuZXcgTC5JY29uLkRlZmF1bHQoKSwKICAgICAgICAgICAgICAgIH0KICAgICAgICAgICAgKS5hZGRUbyhtYXBfYzMxNjQ5NjY0ZDM0NGU2MmI2NGYxMTk0Zjk3YjczNTUpOwogICAgICAgIAogICAgCiAgICAgICAgdmFyIG1hcmtlcl84MWZlNmI5NTA0NmI0ZGE1YmEwMzA3OWI4ZWI0N2RiZSA9IEwubWFya2VyKAogICAgICAgICAgICBbNDAuNjg5NzgxMTg4OTY0ODUsIC03NC4xNzgzNTIzNTU5NTcwMl0sCiAgICAgICAgICAgIHsKICAgICAgICAgICAgICAgIGljb246IG5ldyBMLkljb24uRGVmYXVsdCgpLAogICAgICAgICAgICAgICAgfQogICAgICAgICAgICApLmFkZFRvKG1hcF9jMzE2NDk2NjRkMzQ0ZTYyYjY0ZjExOTRmOTdiNzM1NSk7CiAgICAgICAgCiAgICAKICAgICAgICB2YXIgbWFya2VyXzI2MTRjMTI4MDI5NDQ0Njg4NGQ4ZGUxZWIzZWFmZGYxID0gTC5tYXJrZXIoCiAgICAgICAgICAgIFs0MC42OTQ4ODUyNTM5MDYyNSwgLTc0LjE3NzAwOTU4MjUxOTU1XSwKICAgICAgICAgICAgewogICAgICAgICAgICAgICAgaWNvbjogbmV3IEwuSWNvbi5EZWZhdWx0KCksCiAgICAgICAgICAgICAgICB9CiAgICAgICAgICAgICkuYWRkVG8obWFwX2MzMTY0OTY2NGQzNDRlNjJiNjRmMTE5NGY5N2I3MzU1KTsKICAgICAgICAKICAgIAogICAgICAgIHZhciBtYXJrZXJfOTcyMDNlMTI0MTJmNDdkYTk1NjM0NjViMWRiYjMyYTggPSBMLm1hcmtlcigKICAgICAgICAgICAgWzQwLjY5MTMxMDg4MjU2ODM2LCAtNzQuMTc3MDYyOTg4MjgxMjVdLAogICAgICAgICAgICB7CiAgICAgICAgICAgICAgICBpY29uOiBuZXcgTC5JY29uLkRlZmF1bHQoKSwKICAgICAgICAgICAgICAgIH0KICAgICAgICAgICAgKS5hZGRUbyhtYXBfYzMxNjQ5NjY0ZDM0NGU2MmI2NGYxMTk0Zjk3YjczNTUpOwogICAgICAgIAogICAgCiAgICAgICAgdmFyIG1hcmtlcl9kZGFmMGI3ZTgxZGI0Yjc0YTBkNWE4YjBhYzA3YTdhZSA9IEwubWFya2VyKAogICAgICAgICAgICBbNDAuNjk1MTMzMjA5MjI4NTIsIC03NC4xNzcyMDc5NDY3NzczNF0sCiAgICAgICAgICAgIHsKICAgICAgICAgICAgICAgIGljb246IG5ldyBMLkljb24uRGVmYXVsdCgpLAogICAgICAgICAgICAgICAgfQogICAgICAgICAgICApLmFkZFRvKG1hcF9jMzE2NDk2NjRkMzQ0ZTYyYjY0ZjExOTRmOTdiNzM1NSk7CiAgICAgICAgCiAgICAKICAgICAgICB2YXIgbWFya2VyXzIyZGU4NTM0NGQ1MDQ3YjdiMTgxZjFmYmNjYTY2ZWNlID0gTC5tYXJrZXIoCiAgICAgICAgICAgIFs0MC42ODc3ODk5MTY5OTIxOSwgLTc0LjE4MjE1MTc5NDQzMzU4XSwKICAgICAgICAgICAgewogICAgICAgICAgICAgICAgaWNvbjogbmV3IEwuSWNvbi5EZWZhdWx0KCksCiAgICAgICAgICAgICAgICB9CiAgICAgICAgICAgICkuYWRkVG8obWFwX2MzMTY0OTY2NGQzNDRlNjJiNjRmMTE5NGY5N2I3MzU1KTsKICAgICAgICAKICAgIAogICAgICAgIHZhciBtYXJrZXJfYTY5ZDJjNDA1MmJkNDhhOThlYjI1NTc5ZGU0Njk2OTUgPSBMLm1hcmtlcigKICAgICAgICAgICAgWzQwLjY1MzMwODg2ODQwODIsIC03My42OTk3MDcwMzEyNV0sCiAgICAgICAgICAgIHsKICAgICAgICAgICAgICAgIGljb246IG5ldyBMLkljb24uRGVmYXVsdCgpLAogICAgICAgICAgICAgICAgfQogICAgICAgICAgICApLmFkZFRvKG1hcF9jMzE2NDk2NjRkMzQ0ZTYyYjY0ZjExOTRmOTdiNzM1NSk7CiAgICAgICAgCiAgICAKICAgICAgICB2YXIgbWFya2VyXzg0NmUxMWE0YzRkYjQyNDA5ODM4MGZkZDRmNDY0YWE1ID0gTC5tYXJrZXIoCiAgICAgICAgICAgIFs0MC42OTAwMTM4ODU0OTgwNSwgLTc0LjE3Nzk0MDM2ODY1MjM0XSwKICAgICAgICAgICAgewogICAgICAgICAgICAgICAgaWNvbjogbmV3IEwuSWNvbi5EZWZhdWx0KCksCiAgICAgICAgICAgICAgICB9CiAgICAgICAgICAgICkuYWRkVG8obWFwX2MzMTY0OTY2NGQzNDRlNjJiNjRmMTE5NGY5N2I3MzU1KTsKICAgICAgICAKICAgIAogICAgICAgIHZhciBtYXJrZXJfZWNiMjNmMjdkMTMxNDQzOTg1ZDIzMmE0NmJjZjczMzggPSBMLm1hcmtlcigKICAgICAgICAgICAgWzQwLjY5MjY0OTg0MTMwODU5NCwgLTc0LjE3NjgzNDEwNjQ0NTMxXSwKICAgICAgICAgICAgewogICAgICAgICAgICAgICAgaWNvbjogbmV3IEwuSWNvbi5EZWZhdWx0KCksCiAgICAgICAgICAgICAgICB9CiAgICAgICAgICAgICkuYWRkVG8obWFwX2MzMTY0OTY2NGQzNDRlNjJiNjRmMTE5NGY5N2I3MzU1KTsKICAgICAgICAKICAgIAogICAgICAgIHZhciBtYXJrZXJfMmY3MDZiYTcxYTYxNDZkMjk2YzdjOGFmMTliYzhkOTcgPSBMLm1hcmtlcigKICAgICAgICAgICAgWzQwLjY5NDc0NzkyNDgwNDY5LCAtNzQuMTc2OTk0MzIzNzMwNDhdLAogICAgICAgICAgICB7CiAgICAgICAgICAgICAgICBpY29uOiBuZXcgTC5JY29uLkRlZmF1bHQoKSwKICAgICAgICAgICAgICAgIH0KICAgICAgICAgICAgKS5hZGRUbyhtYXBfYzMxNjQ5NjY0ZDM0NGU2MmI2NGYxMTk0Zjk3YjczNTUpOwogICAgICAgIAogICAgCiAgICAgICAgdmFyIG1hcmtlcl83YTFhNGFkMmQzMzY0OWM2YmU2ZDgxZTc5Y2JmYzZmOSA9IEwubWFya2VyKAogICAgICAgICAgICBbNDAuNjk1Mjc4MTY3NzI0NjEsIC03NC4xNzczNzU3OTM0NTcwMl0sCiAgICAgICAgICAgIHsKICAgICAgICAgICAgICAgIGljb246IG5ldyBMLkljb24uRGVmYXVsdCgpLAogICAgICAgICAgICAgICAgfQogICAgICAgICAgICApLmFkZFRvKG1hcF9jMzE2NDk2NjRkMzQ0ZTYyYjY0ZjExOTRmOTdiNzM1NSk7CiAgICAgICAgCiAgICAKICAgICAgICB2YXIgbWFya2VyX2JlNWI5M2Q3MzNhYjQ3NDNiZThkZDQyNmE1ZjU2NTNkID0gTC5tYXJrZXIoCiAgICAgICAgICAgIFs0MC42OTUwMjYzOTc3MDUwOCwgLTc0LjE3NzEzMTY1MjgzMjAzXSwKICAgICAgICAgICAgewogICAgICAgICAgICAgICAgaWNvbjogbmV3IEwuSWNvbi5EZWZhdWx0KCksCiAgICAgICAgICAgICAgICB9CiAgICAgICAgICAgICkuYWRkVG8obWFwX2MzMTY0OTY2NGQzNDRlNjJiNjRmMTE5NGY5N2I3MzU1KTsKICAgICAgICAKICAgIAogICAgICAgIHZhciBtYXJrZXJfM2U2OTEwZWJiOGVjNGRkOWJkNDllODc0YTY0MGJlYWYgPSBMLm1hcmtlcigKICAgICAgICAgICAgWzQwLjY4Nzc3MDg0MzUwNTg1LCAtNzQuMTgxNzAxNjYwMTU2MjVdLAogICAgICAgICAgICB7CiAgICAgICAgICAgICAgICBpY29uOiBuZXcgTC5JY29uLkRlZmF1bHQoKSwKICAgICAgICAgICAgICAgIH0KICAgICAgICAgICAgKS5hZGRUbyhtYXBfYzMxNjQ5NjY0ZDM0NGU2MmI2NGYxMTk0Zjk3YjczNTUpOwogICAgICAgIAogICAgCiAgICAgICAgdmFyIG1hcmtlcl8zODNjNjA1MmVjYTE0ZTczOTJjMmE0MGRmMGEwYzhiNCA9IEwubWFya2VyKAogICAgICAgICAgICBbNDAuNjk1MTQ0NjUzMzIwMzEsIC03NC4xNzczMDcxMjg5MDYyNV0sCiAgICAgICAgICAgIHsKICAgICAgICAgICAgICAgIGljb246IG5ldyBMLkljb24uRGVmYXVsdCgpLAogICAgICAgICAgICAgICAgfQogICAgICAgICAgICApLmFkZFRvKG1hcF9jMzE2NDk2NjRkMzQ0ZTYyYjY0ZjExOTRmOTdiNzM1NSk7CiAgICAgICAgCiAgICAKICAgICAgICB2YXIgbWFya2VyX2NhNzk1MGM4YzQ5NzQ2MTBhYTJiZWFmNDc4MjFiZjZiID0gTC5tYXJrZXIoCiAgICAgICAgICAgIFs0MS4wMzE3ODQwNTc2MTcxOSwgLTczLjc3MzQyOTg3MDYwNTQ3XSwKICAgICAgICAgICAgewogICAgICAgICAgICAgICAgaWNvbjogbmV3IEwuSWNvbi5EZWZhdWx0KCksCiAgICAgICAgICAgICAgICB9CiAgICAgICAgICAgICkuYWRkVG8obWFwX2MzMTY0OTY2NGQzNDRlNjJiNjRmMTE5NGY5N2I3MzU1KTsKICAgICAgICAKICAgIAogICAgICAgIHZhciBtYXJrZXJfM2EwYTNiYzk2ZjNkNDI4OGIwMDFjNWMzY2M1ZDNkYmQgPSBMLm1hcmtlcigKICAgICAgICAgICAgWzQwLjY4NzY3MTY2MTM3Njk1LCAtNzQuMTgxOTIyOTEyNTk3NjZdLAogICAgICAgICAgICB7CiAgICAgICAgICAgICAgICBpY29uOiBuZXcgTC5JY29uLkRlZmF1bHQoKSwKICAgICAgICAgICAgICAgIH0KICAgICAgICAgICAgKS5hZGRUbyhtYXBfYzMxNjQ5NjY0ZDM0NGU2MmI2NGYxMTk0Zjk3YjczNTUpOwogICAgICAgIAogICAgCiAgICAgICAgdmFyIG1hcmtlcl9mODVmMjAwMzJjNzM0ZGRhOTc1OThjMDBjZGUwNTcwMSA9IEwubWFya2VyKAogICAgICAgICAgICBbNDAuNjk0ODU4NTUxMDI1MzksIC03NC4xNzcxMzE2NTI4MzIwM10sCiAgICAgICAgICAgIHsKICAgICAgICAgICAgICAgIGljb246IG5ldyBMLkljb24uRGVmYXVsdCgpLAogICAgICAgICAgICAgICAgfQogICAgICAgICAgICApLmFkZFRvKG1hcF9jMzE2NDk2NjRkMzQ0ZTYyYjY0ZjExOTRmOTdiNzM1NSk7CiAgICAgICAgCiAgICAKICAgICAgICB2YXIgbWFya2VyXzE5MmRhYmVlNzU0MjQzNTg5MmRiODU1NmRjOGQxZmQ5ID0gTC5tYXJrZXIoCiAgICAgICAgICAgIFs0MC42MzAxMDAyNTAyNDQxNSwgLTc0LjMxNjA2MjkyNzI0NjFdLAogICAgICAgICAgICB7CiAgICAgICAgICAgICAgICBpY29uOiBuZXcgTC5JY29uLkRlZmF1bHQoKSwKICAgICAgICAgICAgICAgIH0KICAgICAgICAgICAgKS5hZGRUbyhtYXBfYzMxNjQ5NjY0ZDM0NGU2MmI2NGYxMTk0Zjk3YjczNTUpOwogICAgICAgIAogICAgCiAgICAgICAgdmFyIG1hcmtlcl9lZjYwZDA1ZjFjMDk0NDA2ODkzMzdkYjc4ZjczNTU3OCA9IEwubWFya2VyKAogICAgICAgICAgICBbNDAuMzAzNjQyMjcyOTQ5MjIsIC03NC42NzA4NDUwMzE3MzgyN10sCiAgICAgICAgICAgIHsKICAgICAgICAgICAgICAgIGljb246IG5ldyBMLkljb24uRGVmYXVsdCgpLAogICAgICAgICAgICAgICAgfQogICAgICAgICAgICApLmFkZFRvKG1hcF9jMzE2NDk2NjRkMzQ0ZTYyYjY0ZjExOTRmOTdiNzM1NSk7CiAgICAgICAgCiAgICAKICAgICAgICB2YXIgbWFya2VyXzY5N2UxZmU0NmFlNjQ5MTNiZDEwMjU4NWExZjA0YWMxID0gTC5tYXJrZXIoCiAgICAgICAgICAgIFs0MC42ODc3NjMyMTQxMTEzMywgLTc0LjE4MTM3MzU5NjE5MTM5XSwKICAgICAgICAgICAgewogICAgICAgICAgICAgICAgaWNvbjogbmV3IEwuSWNvbi5EZWZhdWx0KCksCiAgICAgICAgICAgICAgICB9CiAgICAgICAgICAgICkuYWRkVG8obWFwX2MzMTY0OTY2NGQzNDRlNjJiNjRmMTE5NGY5N2I3MzU1KTsKICAgICAgICAKICAgIAogICAgICAgIHZhciBtYXJrZXJfZWU5ZTcwNTAzNmVmNGI1Zjg0YzFkNGUxNTcyNDFhMTIgPSBMLm1hcmtlcigKICAgICAgICAgICAgWzQwLjc2MTc0OTI2NzU3ODEzLCAtNzMuNDk1MDYzNzgxNzM4MjddLAogICAgICAgICAgICB7CiAgICAgICAgICAgICAgICBpY29uOiBuZXcgTC5JY29uLkRlZmF1bHQoKSwKICAgICAgICAgICAgICAgIH0KICAgICAgICAgICAgKS5hZGRUbyhtYXBfYzMxNjQ5NjY0ZDM0NGU2MmI2NGYxMTk0Zjk3YjczNTUpOwogICAgICAgIAogICAgCiAgICAgICAgdmFyIG1hcmtlcl9kOWMxNjY2MmIyZjI0MzQyOWM5ZGU0ZDU1MjI0ZDc4NSA9IEwubWFya2VyKAogICAgICAgICAgICBbNDEuMDMxNzk1NTAxNzA4OTgsIC03My43MTUwNzI2MzE4MzU5NF0sCiAgICAgICAgICAgIHsKICAgICAgICAgICAgICAgIGljb246IG5ldyBMLkljb24uRGVmYXVsdCgpLAogICAgICAgICAgICAgICAgfQogICAgICAgICAgICApLmFkZFRvKG1hcF9jMzE2NDk2NjRkMzQ0ZTYyYjY0ZjExOTRmOTdiNzM1NSk7CiAgICAgICAgCiAgICAKICAgICAgICB2YXIgbWFya2VyXzA3NWQ3OWUyOGE0NzQ0NDhhNzZlZDExNGJmZTliMjc3ID0gTC5tYXJrZXIoCiAgICAgICAgICAgIFs0MC42ODk5MDMyNTkyNzczNDQsIC03NC4xNzgxMzExMDM1MTU2Ml0sCiAgICAgICAgICAgIHsKICAgICAgICAgICAgICAgIGljb246IG5ldyBMLkljb24uRGVmYXVsdCgpLAogICAgICAgICAgICAgICAgfQogICAgICAgICAgICApLmFkZFRvKG1hcF9jMzE2NDk2NjRkMzQ0ZTYyYjY0ZjExOTRmOTdiNzM1NSk7CiAgICAgICAgCiAgICAKICAgICAgICB2YXIgbWFya2VyXzMyYjU2MmMyYzBiMzRiZTg5OTcwMzUwMzFiOGVmNzEzID0gTC5tYXJrZXIoCiAgICAgICAgICAgIFs0MC45NTEwODQxMzY5NjI4OSwgLTc0LjAzNzgwMzY0OTkwMjM0XSwKICAgICAgICAgICAgewogICAgICAgICAgICAgICAgaWNvbjogbmV3IEwuSWNvbi5EZWZhdWx0KCksCiAgICAgICAgICAgICAgICB9CiAgICAgICAgICAgICkuYWRkVG8obWFwX2MzMTY0OTY2NGQzNDRlNjJiNjRmMTE5NGY5N2I3MzU1KTsKICAgICAgICAKICAgIAogICAgICAgIHZhciBtYXJrZXJfZjc2MjE4ZDY0YWU1NDI4ZjgzNGQ5ZTQxYTI3Y2VlYzIgPSBMLm1hcmtlcigKICAgICAgICAgICAgWzQwLjY5NDkyNzIxNTU3NjE3LCAtNzQuMTc3MDA5NTgyNTE5NTVdLAogICAgICAgICAgICB7CiAgICAgICAgICAgICAgICBpY29uOiBuZXcgTC5JY29uLkRlZmF1bHQoKSwKICAgICAgICAgICAgICAgIH0KICAgICAgICAgICAgKS5hZGRUbyhtYXBfYzMxNjQ5NjY0ZDM0NGU2MmI2NGYxMTk0Zjk3YjczNTUpOwogICAgICAgIAogICAgCiAgICAgICAgdmFyIG1hcmtlcl8yYjFkNTM5NTU2OTk0Njg2OGUyYTRmNjhjNGQ3OTI2ZiA9IEwubWFya2VyKAogICAgICAgICAgICBbNDAuNjg3ODg5MDk5MTIxMDk0LCAtNzQuMTgzMDU5NjkyMzgyODFdLAogICAgICAgICAgICB7CiAgICAgICAgICAgICAgICBpY29uOiBuZXcgTC5JY29uLkRlZmF1bHQoKSwKICAgICAgICAgICAgICAgIH0KICAgICAgICAgICAgKS5hZGRUbyhtYXBfYzMxNjQ5NjY0ZDM0NGU2MmI2NGYxMTk0Zjk3YjczNTUpOwogICAgICAgIAogICAgCiAgICAgICAgdmFyIG1hcmtlcl81NGU5MmM4ZGUyNTk0ZjAwOGViNDk2NjczYjU2NzNjOCA9IEwubWFya2VyKAogICAgICAgICAgICBbNDAuNjk1MzgxMTY0NTUwNzgsIC03NC4xNzc1NDM2NDAxMzY3Ml0sCiAgICAgICAgICAgIHsKICAgICAgICAgICAgICAgIGljb246IG5ldyBMLkljb24uRGVmYXVsdCgpLAogICAgICAgICAgICAgICAgfQogICAgICAgICAgICApLmFkZFRvKG1hcF9jMzE2NDk2NjRkMzQ0ZTYyYjY0ZjExOTRmOTdiNzM1NSk7CiAgICAgICAgCiAgICAKICAgICAgICB2YXIgbWFya2VyXzY3MjYxOTBlNmFjYjRjMGFiODQ2YTI1MTE3MzI2M2VkID0gTC5tYXJrZXIoCiAgICAgICAgICAgIFs0MS4wMjcxNDE1NzEwNDQ5MiwgLTczLjc2MDY1MDYzNDc2NTYyXSwKICAgICAgICAgICAgewogICAgICAgICAgICAgICAgaWNvbjogbmV3IEwuSWNvbi5EZWZhdWx0KCksCiAgICAgICAgICAgICAgICB9CiAgICAgICAgICAgICkuYWRkVG8obWFwX2MzMTY0OTY2NGQzNDRlNjJiNjRmMTE5NGY5N2I3MzU1KTsKICAgICAgICAKICAgIAogICAgICAgIHZhciBtYXJrZXJfOTBjZjY2YjdmYjA3NGE1YjllNTcwZGY2MGJhZWRhNmQgPSBMLm1hcmtlcigKICAgICAgICAgICAgWzQwLjc4MzA3MzQyNTI5Mjk3LCAtNzQuNDI2OTAyNzcwOTk2MV0sCiAgICAgICAgICAgIHsKICAgICAgICAgICAgICAgIGljb246IG5ldyBMLkljb24uRGVmYXVsdCgpLAogICAgICAgICAgICAgICAgfQogICAgICAgICAgICApLmFkZFRvKG1hcF9jMzE2NDk2NjRkMzQ0ZTYyYjY0ZjExOTRmOTdiNzM1NSk7CiAgICAgICAgCiAgICAKICAgICAgICB2YXIgbWFya2VyXzhiNTRlNDJlNmVhYzRlMDk4MTY0MDRjNjk5MGEwNTQxID0gTC5tYXJrZXIoCiAgICAgICAgICAgIFs0MC43NzQwNTU0ODA5NTcwMywgLTczLjY2MTY4OTc1ODMwMDc4XSwKICAgICAgICAgICAgewogICAgICAgICAgICAgICAgaWNvbjogbmV3IEwuSWNvbi5EZWZhdWx0KCksCiAgICAgICAgICAgICAgICB9CiAgICAgICAgICAgICkuYWRkVG8obWFwX2MzMTY0OTY2NGQzNDRlNjJiNjRmMTE5NGY5N2I3MzU1KTsKICAgICAgICAKICAgIAogICAgICAgIHZhciBtYXJrZXJfYjcyNGQwM2E2MTFlNDU3YjlhMTBlNDUyOGRmYWQzZTEgPSBMLm1hcmtlcigKICAgICAgICAgICAgWzQwLjY4NzY4MzEwNTQ2ODc1LCAtNzQuMTgxOTkxNTc3MTQ4NDVdLAogICAgICAgICAgICB7CiAgICAgICAgICAgICAgICBpY29uOiBuZXcgTC5JY29uLkRlZmF1bHQoKSwKICAgICAgICAgICAgICAgIH0KICAgICAgICAgICAgKS5hZGRUbyhtYXBfYzMxNjQ5NjY0ZDM0NGU2MmI2NGYxMTk0Zjk3YjczNTUpOwogICAgICAgIAogICAgCiAgICAgICAgdmFyIG1hcmtlcl82YTBhNzNlNTE5NDg0MjU1OGYzZTFhMzg0Y2E2NmIyYSA9IEwubWFya2VyKAogICAgICAgICAgICBbNDAuNjg3ODI0MjQ5MjY3NTgsIC03NC4xODI1NjM3ODE3MzgyN10sCiAgICAgICAgICAgIHsKICAgICAgICAgICAgICAgIGljb246IG5ldyBMLkljb24uRGVmYXVsdCgpLAogICAgICAgICAgICAgICAgfQogICAgICAgICAgICApLmFkZFRvKG1hcF9jMzE2NDk2NjRkMzQ0ZTYyYjY0ZjExOTRmOTdiNzM1NSk7CiAgICAgICAgCiAgICAKICAgICAgICB2YXIgbWFya2VyXzdmM2M3OTQyMjVjODQwMmJhZWUwYTE5M2M0NmY5ZjU3ID0gTC5tYXJrZXIoCiAgICAgICAgICAgIFs0MC45MjE4ODY0NDQwOTE4LCAtNzMuODYwOTc3MTcyODUxNTVdLAogICAgICAgICAgICB7CiAgICAgICAgICAgICAgICBpY29uOiBuZXcgTC5JY29uLkRlZmF1bHQoKSwKICAgICAgICAgICAgICAgIH0KICAgICAgICAgICAgKS5hZGRUbyhtYXBfYzMxNjQ5NjY0ZDM0NGU2MmI2NGYxMTk0Zjk3YjczNTUpOwogICAgICAgIAogICAgCiAgICAgICAgdmFyIG1hcmtlcl8wNGM3NzZlN2ZhN2Y0ZTA3YTRhNWVjYzU0OTA0ZTg2NSA9IEwubWFya2VyKAogICAgICAgICAgICBbNDAuNjkwMTM1OTU1ODEwNTUsIC03NC4xNzc5MjUxMDk4NjMyOF0sCiAgICAgICAgICAgIHsKICAgICAgICAgICAgICAgIGljb246IG5ldyBMLkljb24uRGVmYXVsdCgpLAogICAgICAgICAgICAgICAgfQogICAgICAgICAgICApLmFkZFRvKG1hcF9jMzE2NDk2NjRkMzQ0ZTYyYjY0ZjExOTRmOTdiNzM1NSk7CiAgICAgICAgCiAgICAKICAgICAgICB2YXIgbWFya2VyXzZhMmNkN2RiZmQwMzQxNGNiMmU1MjFiOWJlZDk2MGMwID0gTC5tYXJrZXIoCiAgICAgICAgICAgIFs0MC42OTQ5NTAxMDM3NTk3NywgLTc0LjE3NzI4NDI0MDcyMjY2XSwKICAgICAgICAgICAgewogICAgICAgICAgICAgICAgaWNvbjogbmV3IEwuSWNvbi5EZWZhdWx0KCksCiAgICAgICAgICAgICAgICB9CiAgICAgICAgICAgICkuYWRkVG8obWFwX2MzMTY0OTY2NGQzNDRlNjJiNjRmMTE5NGY5N2I3MzU1KTsKICAgICAgICAKICAgIAogICAgICAgIHZhciBtYXJrZXJfNzBiODBjNzBlMjAzNDkzMjg0ZDFhNjVlZThlOThjMjEgPSBMLm1hcmtlcigKICAgICAgICAgICAgWzQwLjc2MDUxNzEyMDM2MTMzLCAtNzMuMjk0ODMwMzIyMjY1NjJdLAogICAgICAgICAgICB7CiAgICAgICAgICAgICAgICBpY29uOiBuZXcgTC5JY29uLkRlZmF1bHQoKSwKICAgICAgICAgICAgICAgIH0KICAgICAgICAgICAgKS5hZGRUbyhtYXBfYzMxNjQ5NjY0ZDM0NGU2MmI2NGYxMTk0Zjk3YjczNTUpOwogICAgICAgIAogICAgCiAgICAgICAgdmFyIG1hcmtlcl8yOGYyODljODVmNmQ0OGMxOWEyNWMxYmRmOWI2ZmMxNSA9IEwubWFya2VyKAogICAgICAgICAgICBbNDAuNjk0ODk2Njk3OTk4MDUsIC03NC4xNzY5NjM4MDYxNTIzNF0sCiAgICAgICAgICAgIHsKICAgICAgICAgICAgICAgIGljb246IG5ldyBMLkljb24uRGVmYXVsdCgpLAogICAgICAgICAgICAgICAgfQogICAgICAgICAgICApLmFkZFRvKG1hcF9jMzE2NDk2NjRkMzQ0ZTYyYjY0ZjExOTRmOTdiNzM1NSk7CiAgICAgICAgCiAgICAKICAgICAgICB2YXIgbWFya2VyXzFkYTllOWFiM2VmMDQ3NDdiNzJlOTlhODI1MGE2YjY3ID0gTC5tYXJrZXIoCiAgICAgICAgICAgIFs0MC42ODc4ODkwOTkxMjEwOTQsIC03NC4xODMwMjkxNzQ4MDQ2N10sCiAgICAgICAgICAgIHsKICAgICAgICAgICAgICAgIGljb246IG5ldyBMLkljb24uRGVmYXVsdCgpLAogICAgICAgICAgICAgICAgfQogICAgICAgICAgICApLmFkZFRvKG1hcF9jMzE2NDk2NjRkMzQ0ZTYyYjY0ZjExOTRmOTdiNzM1NSk7CiAgICAgICAgCiAgICAKICAgICAgICB2YXIgbWFya2VyXzJkYzhhNmEwZmU0ZTQzMmM5ZDA2ZjM0OWRkOGZlMzkwID0gTC5tYXJrZXIoCiAgICAgICAgICAgIFs0MC42ODc4NjIzOTYyNDAyNCwgLTc0LjE4Mjg2ODk1NzUxOTU1XSwKICAgICAgICAgICAgewogICAgICAgICAgICAgICAgaWNvbjogbmV3IEwuSWNvbi5EZWZhdWx0KCksCiAgICAgICAgICAgICAgICB9CiAgICAgICAgICAgICkuYWRkVG8obWFwX2MzMTY0OTY2NGQzNDRlNjJiNjRmMTE5NGY5N2I3MzU1KTsKICAgICAgICAKICAgIAogICAgICAgIHZhciBtYXJrZXJfZTU0Nzc0YzNlOTY5NGRkOThlNDJjZWFiMmE5NGFiNTMgPSBMLm1hcmtlcigKICAgICAgICAgICAgWzQwLjY5NDU5MTUyMjIxNjgsIC03NC4xNzczODM0MjI4NTE1NV0sCiAgICAgICAgICAgIHsKICAgICAgICAgICAgICAgIGljb246IG5ldyBMLkljb24uRGVmYXVsdCgpLAogICAgICAgICAgICAgICAgfQogICAgICAgICAgICApLmFkZFRvKG1hcF9jMzE2NDk2NjRkMzQ0ZTYyYjY0ZjExOTRmOTdiNzM1NSk7CiAgICAgICAgCiAgICAKICAgICAgICB2YXIgbWFya2VyX2FmZTIyMGEyMGY5NTRiM2RiMmQyYjg4NzA1ZmE4NTBiID0gTC5tYXJrZXIoCiAgICAgICAgICAgIFs0MC42ODc3MDU5OTM2NTIzNCwgLTc0LjE4MjEzNjUzNTY0NDUzXSwKICAgICAgICAgICAgewogICAgICAgICAgICAgICAgaWNvbjogbmV3IEwuSWNvbi5EZWZhdWx0KCksCiAgICAgICAgICAgICAgICB9CiAgICAgICAgICAgICkuYWRkVG8obWFwX2MzMTY0OTY2NGQzNDRlNjJiNjRmMTE5NGY5N2I3MzU1KTsKICAgICAgICAKICAgIAogICAgICAgIHZhciBtYXJrZXJfMjU2ZDExOGI0MDBhNDNmM2JiNTgwNTVmZWRkMmUzN2IgPSBMLm1hcmtlcigKICAgICAgICAgICAgWzQwLjY5MTQ5MDE3MzMzOTg0NCwgLTc0LjE3NzAxNzIxMTkxNDA2XSwKICAgICAgICAgICAgewogICAgICAgICAgICAgICAgaWNvbjogbmV3IEwuSWNvbi5EZWZhdWx0KCksCiAgICAgICAgICAgICAgICB9CiAgICAgICAgICAgICkuYWRkVG8obWFwX2MzMTY0OTY2NGQzNDRlNjJiNjRmMTE5NGY5N2I3MzU1KTsKICAgICAgICAKICAgIAogICAgICAgIHZhciBtYXJrZXJfYTY0MTZiYjE1NDk3NGNjMjg0ZTk4ZGEzOTQzNTIzMGUgPSBMLm1hcmtlcigKICAgICAgICAgICAgWzQwLjY5MDMyNjY5MDY3MzgzLCAtNzQuMTc3Njg4NTk4NjMyODFdLAogICAgICAgICAgICB7CiAgICAgICAgICAgICAgICBpY29uOiBuZXcgTC5JY29uLkRlZmF1bHQoKSwKICAgICAgICAgICAgICAgIH0KICAgICAgICAgICAgKS5hZGRUbyhtYXBfYzMxNjQ5NjY0ZDM0NGU2MmI2NGYxMTk0Zjk3YjczNTUpOwogICAgICAgIAogICAgCiAgICAgICAgdmFyIG1hcmtlcl81ZDhhYzkyN2Q0MWY0OTc5YmUzNTAzZjZhMjI0NWM0ZCA9IEwubWFya2VyKAogICAgICAgICAgICBbNDAuNjk0ODI4MDMzNDQ3MjcsIC03NC4xNzcxOTI2ODc5ODgzXSwKICAgICAgICAgICAgewogICAgICAgICAgICAgICAgaWNvbjogbmV3IEwuSWNvbi5EZWZhdWx0KCksCiAgICAgICAgICAgICAgICB9CiAgICAgICAgICAgICkuYWRkVG8obWFwX2MzMTY0OTY2NGQzNDRlNjJiNjRmMTE5NGY5N2I3MzU1KTsKICAgICAgICAKPC9zY3JpcHQ+ onload=\"this.contentDocument.open();this.contentDocument.write(atob(this.getAttribute('data-html')));this.contentDocument.close();\" allowfullscreen webkitallowfullscreen mozallowfullscreen></iframe></div></div>"
            ],
            "text/plain": [
              "<folium.folium.Map at 0x7f1e915a1c50>"
            ]
          },
          "metadata": {
            "tags": []
          },
          "execution_count": 70
        }
      ]
    },
    {
      "cell_type": "markdown",
      "metadata": {
        "id": "AVZk_fHeNP0U",
        "colab_type": "text"
      },
      "source": [
        "**OBSERVATION:**\n",
        "\n",
        "As you can see in the above map, there are many erroneous data points. Some of which are in other state or outside of NYC.  All these erroneous data points are removed. "
      ]
    },
    {
      "cell_type": "code",
      "metadata": {
        "id": "53rmygiPRaTI",
        "colab_type": "code",
        "colab": {}
      },
      "source": [
        "df = df[(((df.dropoff_latitude >= 40.5774) & (df.dropoff_latitude <= 40.9176)) & ((df.dropoff_longitude >= -74.15) & (df.dropoff_longitude <= -73.7004)))]\n"
      ],
      "execution_count": 0,
      "outputs": []
    },
    {
      "cell_type": "markdown",
      "metadata": {
        "id": "Ab3-eR1_0xnm",
        "colab_type": "text"
      },
      "source": [
        "### **The Dropoff Map - After Cleaning:**"
      ]
    },
    {
      "cell_type": "code",
      "metadata": {
        "id": "IPm2Te18RrYs",
        "colab_type": "code",
        "outputId": "7d3076fa-5af7-467e-d8b6-2b8da6b5ce76",
        "colab": {
          "base_uri": "https://localhost:8080/",
          "height": 808
        }
      },
      "source": [
        "\n",
        "m = folium.Map(location = [40.9176, -73.7004], tiles = \"Stamen Toner\")\n",
        "\n",
        "dropoff_within_NYC = df.sample(n = 500)\n",
        "\n",
        "for i,j in dropoff_within_NYC.iterrows():\n",
        "    folium.Marker([j[\"dropoff_latitude\"], j[\"dropoff_longitude\"]]).add_to(m)\n",
        "m"
      ],
      "execution_count": 72,
      "outputs": [
        {
          "output_type": "execute_result",
          "data": {
            "text/html": [
              "<div style=\"width:100%;\"><div style=\"position:relative;width:100%;height:0;padding-bottom:60%;\"><iframe src=\"about:blank\" style=\"position:absolute;width:100%;height:100%;left:0;top:0;border:none !important;\" data-html=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 onload=\"this.contentDocument.open();this.contentDocument.write(atob(this.getAttribute('data-html')));this.contentDocument.close();\" allowfullscreen webkitallowfullscreen mozallowfullscreen></iframe></div></div>"
            ],
            "text/plain": [
              "<folium.folium.Map at 0x7f1e915a1710>"
            ]
          },
          "metadata": {
            "tags": []
          },
          "execution_count": 72
        }
      ]
    },
    {
      "cell_type": "markdown",
      "metadata": {
        "id": "retPBFKBR0_1",
        "colab_type": "text"
      },
      "source": [
        "**OBSERVATION:** \n",
        "\n",
        "Now we can see that all the drop offs are concentrated in and around NYC."
      ]
    },
    {
      "cell_type": "markdown",
      "metadata": {
        "id": "xMjUhTfkXPCf",
        "colab_type": "text"
      },
      "source": [
        "## **Trip Duration**\n",
        "\n",
        "Trip Duration = Drop-off time — pickup time"
      ]
    },
    {
      "cell_type": "code",
      "metadata": {
        "id": "3WuN1-VcX3z5",
        "colab_type": "code",
        "colab": {
          "base_uri": "https://localhost:8080/",
          "height": 224
        },
        "outputId": "eb6718a4-e529-44ca-aee7-63f24a31f9a5"
      },
      "source": [
        "df.head()"
      ],
      "execution_count": 73,
      "outputs": [
        {
          "output_type": "execute_result",
          "data": {
            "text/html": [
              "<div>\n",
              "<style scoped>\n",
              "    .dataframe tbody tr th:only-of-type {\n",
              "        vertical-align: middle;\n",
              "    }\n",
              "\n",
              "    .dataframe tbody tr th {\n",
              "        vertical-align: top;\n",
              "    }\n",
              "\n",
              "    .dataframe thead th {\n",
              "        text-align: right;\n",
              "    }\n",
              "</style>\n",
              "<table border=\"1\" class=\"dataframe\">\n",
              "  <thead>\n",
              "    <tr style=\"text-align: right;\">\n",
              "      <th></th>\n",
              "      <th>VendorID</th>\n",
              "      <th>tpep_pickup_datetime</th>\n",
              "      <th>tpep_dropoff_datetime</th>\n",
              "      <th>passenger_count</th>\n",
              "      <th>trip_distance</th>\n",
              "      <th>pickup_longitude</th>\n",
              "      <th>pickup_latitude</th>\n",
              "      <th>dropoff_longitude</th>\n",
              "      <th>dropoff_latitude</th>\n",
              "      <th>payment_type</th>\n",
              "      <th>fare_amount</th>\n",
              "      <th>extra</th>\n",
              "      <th>mta_tax</th>\n",
              "      <th>tip_amount</th>\n",
              "      <th>tolls_amount</th>\n",
              "      <th>improvement_surcharge</th>\n",
              "      <th>total_amount</th>\n",
              "    </tr>\n",
              "  </thead>\n",
              "  <tbody>\n",
              "    <tr>\n",
              "      <th>0</th>\n",
              "      <td>1</td>\n",
              "      <td>2015-10-01 00:00:00</td>\n",
              "      <td>2015-10-01 00:05:48</td>\n",
              "      <td>1</td>\n",
              "      <td>1.10</td>\n",
              "      <td>-73.935516</td>\n",
              "      <td>40.761238</td>\n",
              "      <td>-73.944351</td>\n",
              "      <td>40.754578</td>\n",
              "      <td>2</td>\n",
              "      <td>6.0</td>\n",
              "      <td>0.5</td>\n",
              "      <td>0.5</td>\n",
              "      <td>0.0</td>\n",
              "      <td>0.0</td>\n",
              "      <td>0.3</td>\n",
              "      <td>7.3</td>\n",
              "    </tr>\n",
              "    <tr>\n",
              "      <th>4</th>\n",
              "      <td>1</td>\n",
              "      <td>2015-10-01 00:00:01</td>\n",
              "      <td>2015-10-01 00:16:19</td>\n",
              "      <td>1</td>\n",
              "      <td>3.80</td>\n",
              "      <td>-73.984016</td>\n",
              "      <td>40.755222</td>\n",
              "      <td>-73.959869</td>\n",
              "      <td>40.801323</td>\n",
              "      <td>1</td>\n",
              "      <td>15.5</td>\n",
              "      <td>0.5</td>\n",
              "      <td>0.5</td>\n",
              "      <td>3.0</td>\n",
              "      <td>0.0</td>\n",
              "      <td>0.3</td>\n",
              "      <td>19.8</td>\n",
              "    </tr>\n",
              "    <tr>\n",
              "      <th>5</th>\n",
              "      <td>1</td>\n",
              "      <td>2015-10-01 00:00:01</td>\n",
              "      <td>2015-10-01 00:13:41</td>\n",
              "      <td>1</td>\n",
              "      <td>3.10</td>\n",
              "      <td>-73.975296</td>\n",
              "      <td>40.751396</td>\n",
              "      <td>-73.970924</td>\n",
              "      <td>40.785984</td>\n",
              "      <td>1</td>\n",
              "      <td>12.5</td>\n",
              "      <td>0.5</td>\n",
              "      <td>0.5</td>\n",
              "      <td>1.0</td>\n",
              "      <td>0.0</td>\n",
              "      <td>0.3</td>\n",
              "      <td>14.8</td>\n",
              "    </tr>\n",
              "    <tr>\n",
              "      <th>6</th>\n",
              "      <td>1</td>\n",
              "      <td>2015-10-01 00:00:01</td>\n",
              "      <td>2015-10-01 00:21:23</td>\n",
              "      <td>1</td>\n",
              "      <td>4.50</td>\n",
              "      <td>-73.997078</td>\n",
              "      <td>40.722290</td>\n",
              "      <td>-73.960472</td>\n",
              "      <td>40.761517</td>\n",
              "      <td>2</td>\n",
              "      <td>16.5</td>\n",
              "      <td>0.5</td>\n",
              "      <td>0.5</td>\n",
              "      <td>0.0</td>\n",
              "      <td>0.0</td>\n",
              "      <td>0.3</td>\n",
              "      <td>17.8</td>\n",
              "    </tr>\n",
              "    <tr>\n",
              "      <th>7</th>\n",
              "      <td>2</td>\n",
              "      <td>2015-10-01 00:00:01</td>\n",
              "      <td>2015-10-01 00:05:50</td>\n",
              "      <td>1</td>\n",
              "      <td>0.84</td>\n",
              "      <td>-73.998711</td>\n",
              "      <td>40.734756</td>\n",
              "      <td>-74.003082</td>\n",
              "      <td>40.742546</td>\n",
              "      <td>1</td>\n",
              "      <td>6.0</td>\n",
              "      <td>0.5</td>\n",
              "      <td>0.5</td>\n",
              "      <td>0.7</td>\n",
              "      <td>0.0</td>\n",
              "      <td>0.3</td>\n",
              "      <td>8.0</td>\n",
              "    </tr>\n",
              "  </tbody>\n",
              "</table>\n",
              "</div>"
            ],
            "text/plain": [
              "   VendorID tpep_pickup_datetime  ... improvement_surcharge  total_amount\n",
              "0         1  2015-10-01 00:00:00  ...                   0.3           7.3\n",
              "4         1  2015-10-01 00:00:01  ...                   0.3          19.8\n",
              "5         1  2015-10-01 00:00:01  ...                   0.3          14.8\n",
              "6         1  2015-10-01 00:00:01  ...                   0.3          17.8\n",
              "7         2  2015-10-01 00:00:01  ...                   0.3           8.0\n",
              "\n",
              "[5 rows x 17 columns]"
            ]
          },
          "metadata": {
            "tags": []
          },
          "execution_count": 73
        }
      ]
    },
    {
      "cell_type": "code",
      "metadata": {
        "id": "TIhEVAazepWS",
        "colab_type": "code",
        "colab": {}
      },
      "source": [
        "df['tpep_pickup_datetime'] = df['tpep_pickup_datetime'].astype(str)\n",
        "df['tpep_dropoff_datetime'] = df['tpep_dropoff_datetime'].astype(str)"
      ],
      "execution_count": 0,
      "outputs": []
    },
    {
      "cell_type": "code",
      "metadata": {
        "id": "9ppFfg7gfAz2",
        "colab_type": "code",
        "colab": {
          "base_uri": "https://localhost:8080/",
          "height": 323
        },
        "outputId": "38284f16-67bf-463b-c34e-13351975bf4a"
      },
      "source": [
        "df.dtypes"
      ],
      "execution_count": 75,
      "outputs": [
        {
          "output_type": "execute_result",
          "data": {
            "text/plain": [
              "VendorID                   int64\n",
              "tpep_pickup_datetime      object\n",
              "tpep_dropoff_datetime     object\n",
              "passenger_count            int64\n",
              "trip_distance            float64\n",
              "pickup_longitude         float64\n",
              "pickup_latitude          float64\n",
              "dropoff_longitude        float64\n",
              "dropoff_latitude         float64\n",
              "payment_type               int64\n",
              "fare_amount              float64\n",
              "extra                    float64\n",
              "mta_tax                  float64\n",
              "tip_amount               float64\n",
              "tolls_amount             float64\n",
              "improvement_surcharge    float64\n",
              "total_amount             float64\n",
              "dtype: object"
            ]
          },
          "metadata": {
            "tags": []
          },
          "execution_count": 75
        }
      ]
    },
    {
      "cell_type": "markdown",
      "metadata": {
        "id": "so4usnfDXwQ2",
        "colab_type": "text"
      },
      "source": [
        "The time format is in datetime format. Converting it to a structured unix time"
      ]
    },
    {
      "cell_type": "code",
      "metadata": {
        "id": "WR-OLtU4XjRm",
        "colab_type": "code",
        "colab": {}
      },
      "source": [
        "def convert_to_unix(s):\n",
        "    return time.mktime(datetime.datetime.strptime(s, \"%Y-%m-%d %H:%M:%S\").timetuple())"
      ],
      "execution_count": 0,
      "outputs": []
    },
    {
      "cell_type": "markdown",
      "metadata": {
        "id": "Tc4s5udJalVo",
        "colab_type": "text"
      },
      "source": [
        "Unix time is a system for describing a point in time. It is the number of seconds that have elapsed since the Unix epoch, that is the time 00:00:00 UTC on 1 January 1970.\n",
        "We have made this project in New York(EDT) which is 4 hours behing GMT Time. Thus the function returns unix time stam from the reference of local time, and so have subtracted 14400 seconds inorder to make it equal to GMT."
      ]
    },
    {
      "cell_type": "code",
      "metadata": {
        "id": "-syPFlIhY_KR",
        "colab_type": "code",
        "colab": {}
      },
      "source": [
        "\n",
        "def return_with_trip_times(month):\n",
        "    duration = month[['tpep_pickup_datetime','tpep_dropoff_datetime']]\n",
        "    #pickups and dropoffs to unix time\n",
        "    duration_pickup = [convert_to_unix(x) for x in tqdm(duration['tpep_pickup_datetime'].values)]\n",
        "    duration_drop = [convert_to_unix(x) for x in tqdm(duration['tpep_dropoff_datetime'].values)]\n",
        "    #calculate duration of trips\n",
        "    durations = (np.array(duration_drop) - np.array(duration_pickup))/float(60)\n",
        "\n",
        "    #append durations of trips and speed in miles/hr to a new dataframe\n",
        "    new_frame = month[['passenger_count','trip_distance','pickup_longitude','pickup_latitude','dropoff_longitude','dropoff_latitude','total_amount']]\n",
        "    \n",
        "    new_frame['trip_duration'] = durations\n",
        "    new_frame['pickup_times'] = duration_pickup\n",
        "    new_frame['speed'] = 60*(new_frame['trip_distance']/new_frame['trip_duration']) \n",
        "    \n",
        "    return new_frame\n"
      ],
      "execution_count": 0,
      "outputs": []
    },
    {
      "cell_type": "code",
      "metadata": {
        "id": "X9Xnu-lDcGyJ",
        "colab_type": "code",
        "colab": {
          "base_uri": "https://localhost:8080/",
          "height": 51
        },
        "outputId": "de594e12-4407-4ad7-929a-a2957d2bd343"
      },
      "source": [
        "new_df = return_with_trip_times(df)"
      ],
      "execution_count": 80,
      "outputs": [
        {
          "output_type": "stream",
          "text": [
            "100%|██████████| 97481/97481 [00:01<00:00, 59734.89it/s]\n",
            "100%|██████████| 97481/97481 [00:01<00:00, 60410.37it/s]\n"
          ],
          "name": "stderr"
        }
      ]
    },
    {
      "cell_type": "markdown",
      "metadata": {
        "id": "osqE_9GNjdMl",
        "colab_type": "text"
      },
      "source": [
        "According to NYC Taxi and Limousine Commission regulations, the maximum allowed trip duration in a 24hrs interval is 12 hrs "
      ]
    },
    {
      "cell_type": "code",
      "metadata": {
        "id": "_XVBdPE7hfS8",
        "colab_type": "code",
        "colab": {
          "base_uri": "https://localhost:8080/",
          "height": 252
        },
        "outputId": "c206a42d-c721-40f8-fcc9-b2cd10c23f1c"
      },
      "source": [
        "sns.boxplot(y=\"trip_duration\", data =new_df)\n",
        "plt.show()"
      ],
      "execution_count": 81,
      "outputs": [
        {
          "output_type": "display_data",
          "data": {
            "image/png": "[encoded data removed]",
            "text/plain": [
              "<Figure size 432x288 with 1 Axes>"
            ]
          },
          "metadata": {
            "tags": [],
            "needs_background": "light"
          }
        }
      ]
    },
    {
      "cell_type": "markdown",
      "metadata": {
        "id": "Eum2ElGodJ6Z",
        "colab_type": "text"
      },
      "source": [
        "From the plot we can see there are are outliers as the plot is skewed. Let us calculate the percentile values ( 0 to 100) to identify those outliers and remvoe them\n"
      ]
    },
    {
      "cell_type": "code",
      "metadata": {
        "id": "73iCu2LQhz34",
        "colab_type": "code",
        "colab": {}
      },
      "source": [
        "percentile_tripDuration = new_df.trip_duration.quantile(np.round(np.arange(0.00, 1.01, 0.01), 2))\n"
      ],
      "execution_count": 0,
      "outputs": []
    },
    {
      "cell_type": "code",
      "metadata": {
        "id": "6HZ-e_R3d0II",
        "colab_type": "code",
        "colab": {
          "base_uri": "https://localhost:8080/",
          "height": 204
        },
        "outputId": "c03844ac-8f4a-4914-8f6d-476a6aac1d1d"
      },
      "source": [
        "qValues = np.round(np.arange(0.00, 1.01, 0.1), 2)\n",
        "for i in qValues:\n",
        "    print(\"{}th percentile value of Trip Duration is {}min\".format((int(i*100)), percentile_tripDuration[i]))"
      ],
      "execution_count": 85,
      "outputs": [
        {
          "output_type": "stream",
          "text": [
            "0th percentile value of Trip Duration is 0.03333333333333333min\n",
            "10th percentile value of Trip Duration is 3.933333333333333min\n",
            "20th percentile value of Trip Duration is 5.566666666666666min\n",
            "30th percentile value of Trip Duration is 7.133333333333334min\n",
            "40th percentile value of Trip Duration is 8.8min\n",
            "50th percentile value of Trip Duration is 10.683333333333334min\n",
            "60th percentile value of Trip Duration is 12.9min\n",
            "70th percentile value of Trip Duration is 15.683333333333334min\n",
            "80th percentile value of Trip Duration is 19.6min\n",
            "90th percentile value of Trip Duration is 26.383333333333333min\n",
            "100th percentile value of Trip Duration is 1439.2833333333333min\n"
          ],
          "name": "stdout"
        }
      ]
    },
    {
      "cell_type": "code",
      "metadata": {
        "id": "TRQxpjl2ei40",
        "colab_type": "code",
        "colab": {
          "base_uri": "https://localhost:8080/",
          "height": 204
        },
        "outputId": "9e12394e-9a2a-45d4-e563-c61ec036e8a4"
      },
      "source": [
        "for i in range(90,100):\n",
        "    var =new_df[\"trip_duration\"].values\n",
        "    var = np.sort(var,axis = None)\n",
        "    print(\"{} percentile value is {}\".format(i,var[int(len(var)*(float(i)/100))]))\n",
        "print (\"100 percentile value is \",var[-1])"
      ],
      "execution_count": 86,
      "outputs": [
        {
          "output_type": "stream",
          "text": [
            "90 percentile value is 26.383333333333333\n",
            "91 percentile value is 27.466666666666665\n",
            "92 percentile value is 28.583333333333332\n",
            "93 percentile value is 29.916666666666668\n",
            "94 percentile value is 31.55\n",
            "95 percentile value is 33.55\n",
            "96 percentile value is 36.43333333333333\n",
            "97 percentile value is 40.53333333333333\n",
            "98 percentile value is 47.78333333333333\n",
            "99 percentile value is 60.78333333333333\n",
            "100 percentile value is  1439.2833333333333\n"
          ],
          "name": "stdout"
        }
      ]
    },
    {
      "cell_type": "code",
      "metadata": {
        "id": "L7N6Uefie2mX",
        "colab_type": "code",
        "colab": {}
      },
      "source": [
        "new_df = new_df[(new_df.trip_duration>1) & (new_df.trip_duration<720)]"
      ],
      "execution_count": 0,
      "outputs": []
    },
    {
      "cell_type": "markdown",
      "metadata": {
        "id": "LmiLB7hZganQ",
        "colab_type": "text"
      },
      "source": [
        "Plotting after the removal of outliers"
      ]
    },
    {
      "cell_type": "code",
      "metadata": {
        "id": "Xub_Kj84fFMQ",
        "colab_type": "code",
        "colab": {
          "base_uri": "https://localhost:8080/",
          "height": 361
        },
        "outputId": "9a7c8086-874d-4e80-97dd-c710560e62f7"
      },
      "source": [
        "plt.figure(figsize = (10,6))\n",
        "sns.boxplot(\"trip_duration\", data = new_df, orient = \"v\")\n",
        "plt.ylim(ymin = 1, ymax = 750)\n",
        "plt.tick_params(labelsize = 20)\n",
        "plt.ylabel(\"Trip Duration(minutes)\", fontsize = 20)\n",
        "plt.show()"
      ],
      "execution_count": 88,
      "outputs": [
        {
          "output_type": "display_data",
          "data": {
            "image/png": "[encoded data removed]",
            "text/plain": [
              "<Figure size 720x432 with 1 Axes>"
            ]
          },
          "metadata": {
            "tags": [],
            "needs_background": "light"
          }
        }
      ]
    },
    {
      "cell_type": "code",
      "metadata": {
        "id": "B9EAaHxrfHw_",
        "colab_type": "code",
        "colab": {
          "base_uri": "https://localhost:8080/",
          "height": 536
        },
        "outputId": "654c8cbb-d5ce-49ec-d456-588404838b4f"
      },
      "source": [
        "#pdf of trip-times after removing the outliers\n",
        "plt.figure(figsize = (12,8))\n",
        "sns.kdeplot(new_df[\"trip_duration\"].values, shade = True, cumulative = False)\n",
        "plt.tick_params(labelsize = 20)\n",
        "plt.xlabel(\"Trip Duration\", fontsize = 20)\n",
        "plt.title(\"PDF of Trip Duration\", fontsize = 20)\n",
        "plt.show()"
      ],
      "execution_count": 92,
      "outputs": [
        {
          "output_type": "display_data",
          "data": {
            "image/png": "[encoded data removed]",
            "text/plain": [
              "<Figure size 864x576 with 1 Axes>"
            ]
          },
          "metadata": {
            "tags": [],
            "needs_background": "light"
          }
        }
      ]
    },
    {
      "cell_type": "markdown",
      "metadata": {
        "id": "YYd48tFLg9_a",
        "colab_type": "text"
      },
      "source": [
        " The above plot shows that almost all of the trip durations are approximately less than 100. There are little to no trips with trip durations above 100. \n",
        "\n",
        "We have removed all the points where trip duration is more than 12 hrs, removing all the erroneous and outlier points."
      ]
    },
    {
      "cell_type": "markdown",
      "metadata": {
        "id": "vE5XpiVJhRJ8",
        "colab_type": "text"
      },
      "source": [
        "#**Speed**\n",
        "\n",
        "Speed= Trip Distance / Trip Duration\n",
        "\n",
        "\n",
        "Checking for any outliers in the data after trip duration outliers removed"
      ]
    },
    {
      "cell_type": "code",
      "metadata": {
        "id": "yXiS2FbPgra0",
        "colab_type": "code",
        "colab": {
          "base_uri": "https://localhost:8080/",
          "height": 252
        },
        "outputId": "9a222e04-e6c2-4cfd-97f2-deffd9d18930"
      },
      "source": [
        "new_df['Speed'] = 60*(new_df['trip_distance']/new_df['trip_duration'])\n",
        "sns.boxplot(y=\"Speed\", data =new_df)\n",
        "plt.show()"
      ],
      "execution_count": 94,
      "outputs": [
        {
          "output_type": "display_data",
          "data": {
            "image/png": "[encoded data removed]",
            "text/plain": [
              "<Figure size 432x288 with 1 Axes>"
            ]
          },
          "metadata": {
            "tags": [],
            "needs_background": "light"
          }
        }
      ]
    },
    {
      "cell_type": "markdown",
      "metadata": {
        "id": "WHmtWDTQj7um",
        "colab_type": "text"
      },
      "source": [
        "Just as we did for trip duration, we calcualte percentile values from 0 to 100 to remove errorneous points.\n"
      ]
    },
    {
      "cell_type": "code",
      "metadata": {
        "id": "mw2vb0F3jvFA",
        "colab_type": "code",
        "colab": {}
      },
      "source": [
        "percentile_speed = new_df.speed.quantile(np.round(np.arange(0.00, 1.01, 0.01), 2))"
      ],
      "execution_count": 0,
      "outputs": []
    },
    {
      "cell_type": "markdown",
      "metadata": {
        "id": "1-qkP43BnzZm",
        "colab_type": "text"
      },
      "source": [
        "calculating speed values at each percntile 0,10,20,30,40,50,60,70,80,90,100 "
      ]
    },
    {
      "cell_type": "code",
      "metadata": {
        "id": "wDE--YevkJbj",
        "colab_type": "code",
        "colab": {
          "base_uri": "https://localhost:8080/",
          "height": 204
        },
        "outputId": "69943c3c-e19e-466d-a94a-bc00982e0ce6"
      },
      "source": [
        "qValues = np.round(np.arange(0.00, 1.01, 0.1), 4)\n",
        "for i in qValues:\n",
        "    print(\"{}th percentile value of speed is {}miles/hr\".format(int(i*100), percentile_speed[i]))"
      ],
      "execution_count": 106,
      "outputs": [
        {
          "output_type": "stream",
          "text": [
            "0th percentile value of speed is 0.064034151547492miles/hr\n",
            "10th percentile value of speed is 5.578069129916568miles/hr\n",
            "20th percentile value of speed is 7.199999999999999miles/hr\n",
            "30th percentile value of speed is 8.645669291338583miles/hr\n",
            "40th percentile value of speed is 10.074626865671641miles/hr\n",
            "50th percentile value of speed is 11.55452032490043miles/hr\n",
            "60th percentile value of speed is 13.15887998559467miles/hr\n",
            "70th percentile value of speed is 15.046543922096534miles/hr\n",
            "80th percentile value of speed is 17.40459797427748miles/hr\n",
            "90th percentile value of speed is 21.4468085106383miles/hr\n",
            "100th percentile value of speed is 714.2857142857143miles/hr\n"
          ],
          "name": "stdout"
        }
      ]
    },
    {
      "cell_type": "markdown",
      "metadata": {
        "id": "2KQOX0G_n6vS",
        "colab_type": "text"
      },
      "source": [
        "\n",
        "From the above, we can see that there is a huge difference between 90th percentile and 100th percentile. Now Calculating speed values at each percntile 90,91,92,93,94,95,96,97,98,99,100"
      ]
    },
    {
      "cell_type": "code",
      "metadata": {
        "id": "pW7P7Oy7kQqv",
        "colab_type": "code",
        "colab": {
          "base_uri": "https://localhost:8080/",
          "height": 187
        },
        "outputId": "933c2313-f2ca-4ba5-ad1d-1c80b236b6c8"
      },
      "source": [
        "qValues = np.round(np.arange(0.91, 1.01, 0.01), 3)\n",
        "for i in qValues:\n",
        "    print(\"{} percentile value of speed is {}miles/hr\".format(int(i*100), percentile_speed[i]))"
      ],
      "execution_count": 104,
      "outputs": [
        {
          "output_type": "stream",
          "text": [
            "91 percentile value of speed is 22.098232381150957miles/hr\n",
            "92 percentile value of speed is 22.878545891714733miles/hr\n",
            "93 percentile value of speed is 23.773584905660375miles/hr\n",
            "94 percentile value of speed is 24.82758620689655miles/hr\n",
            "95 percentile value of speed is 26.129050856564234miles/hr\n",
            "96 percentile value of speed is 27.65859791589766miles/hr\n",
            "97 percentile value of speed is 29.629745460286195miles/hr\n",
            "98 percentile value of speed is 32.330161812297746miles/hr\n",
            "99 percentile value of speed is 36.77539626110759miles/hr\n",
            "100 percentile value of speed is 714.2857142857143miles/hr\n"
          ],
          "name": "stdout"
        }
      ]
    },
    {
      "cell_type": "markdown",
      "metadata": {
        "id": "AMh1yv-OoICe",
        "colab_type": "text"
      },
      "source": [
        "Now again we see a huge difference in percentile between 99th and 100th. Calculating speed values at each percntile 99.0,99.1,99.2,99.3,99.4,99.5,99.6,99.7,99.8,99.9,100. "
      ]
    },
    {
      "cell_type": "code",
      "metadata": {
        "id": "G8be0heNkYA0",
        "colab_type": "code",
        "colab": {
          "base_uri": "https://localhost:8080/",
          "height": 204
        },
        "outputId": "482a27b5-2942-4f27-aaf7-e111a58a864f"
      },
      "source": [
        "for i in np.arange(0.0, 1.0, 0.1):\n",
        "    var =new_df[\"Speed\"].values\n",
        "    var = np.sort(var,axis = None)\n",
        "    print(\"{} percentile value is {}\".format(99+i,var[int(len(var)*(float(99+i)/100))]))\n",
        "print(\"100 percentile value is \",var[-1])"
      ],
      "execution_count": 109,
      "outputs": [
        {
          "output_type": "stream",
          "text": [
            "99.0 percentile value is 36.78865979381443\n",
            "99.1 percentile value is 37.3035143769968\n",
            "99.2 percentile value is 37.95978420794507\n",
            "99.3 percentile value is 38.75704225352113\n",
            "99.4 percentile value is 39.38775510204082\n",
            "99.5 percentile value is 40.20779220779221\n",
            "99.6 percentile value is 41.06024096385542\n",
            "99.7 percentile value is 42.2680412371134\n",
            "99.8 percentile value is 43.8\n",
            "99.9 percentile value is 45.98258539852646\n",
            "100 percentile value is  714.2857142857143\n"
          ],
          "name": "stdout"
        }
      ]
    },
    {
      "cell_type": "markdown",
      "metadata": {
        "id": "_M1yMIlypLWD",
        "colab_type": "text"
      },
      "source": [
        "Now we see that the 100th percentile value of a speed is 714 Million miles/hr which is unusual. Furthermore, 99.9th percentile value of speed is 45 miles/hr. So, we are removing all the data points where speed is greater than 45 miles/hr."
      ]
    },
    {
      "cell_type": "code",
      "metadata": {
        "id": "ySNjnDKskau0",
        "colab_type": "code",
        "colab": {}
      },
      "source": [
        "new_df = new_df[(new_df.speed>0) & (new_df.speed<45.31)]"
      ],
      "execution_count": 0,
      "outputs": []
    },
    {
      "cell_type": "markdown",
      "metadata": {
        "id": "QVoPNKMFp0Ta",
        "colab_type": "text"
      },
      "source": [
        "Plotting again after removing erroneous points"
      ]
    },
    {
      "cell_type": "code",
      "metadata": {
        "id": "eRtUt7XopyyO",
        "colab_type": "code",
        "colab": {
          "base_uri": "https://localhost:8080/",
          "height": 361
        },
        "outputId": "6f777987-4fca-4d5d-b44d-d811672e6de2"
      },
      "source": [
        "fig = plt.figure(figsize = (10,6))\n",
        "ax = sns.boxplot(\"speed\", data = new_df, orient = \"v\")\n",
        "\n",
        "plt.tick_params(labelsize = 20)\n",
        "plt.ylabel(\"Speed(Miles/hr)\", fontsize = 20)\n",
        "plt.show()"
      ],
      "execution_count": 111,
      "outputs": [
        {
          "output_type": "display_data",
          "data": {
            "image/png": "[encoded data removed]",
            "text/plain": [
              "<Figure size 720x432 with 1 Axes>"
            ]
          },
          "metadata": {
            "tags": [],
            "needs_background": "light"
          }
        }
      ]
    },
    {
      "cell_type": "markdown",
      "metadata": {
        "id": "N5g0whaRqAao",
        "colab_type": "text"
      },
      "source": [
        "Average Speed of cabs in New-York"
      ]
    },
    {
      "cell_type": "code",
      "metadata": {
        "id": "bMbhg_dtp_EH",
        "colab_type": "code",
        "colab": {
          "base_uri": "https://localhost:8080/",
          "height": 34
        },
        "outputId": "daea1dd8-3cbd-4388-ee48-130933326266"
      },
      "source": [
        "Average_speed=sum(new_df[\"Speed\"]) / float(len(new_df[\"Speed\"]))\n",
        "print(\"Average Speed of Taxis around NYC = \"+str(Average_speed))"
      ],
      "execution_count": 113,
      "outputs": [
        {
          "output_type": "stream",
          "text": [
            "Average Speed of Taxis around NYC = 12.811521264080907\n"
          ],
          "name": "stdout"
        }
      ]
    },
    {
      "cell_type": "code",
      "metadata": {
        "id": "RjH4JilHqKGV",
        "colab_type": "code",
        "colab": {
          "base_uri": "https://localhost:8080/",
          "height": 34
        },
        "outputId": "d3814b37-4afc-4712-b516-9829496899c3"
      },
      "source": [
        "print(\"Speed of Taxis around NYC per 10 minutes = \"+str(Average_speed/6)+\" per 10 minutes.\")"
      ],
      "execution_count": 114,
      "outputs": [
        {
          "output_type": "stream",
          "text": [
            "Speed of Taxis around NYC per 10 minutes = 2.1352535440134846 per 10 minutes.\n"
          ],
          "name": "stdout"
        }
      ]
    },
    {
      "cell_type": "code",
      "metadata": {
        "id": "_BtYFj22qUeI",
        "colab_type": "code",
        "colab": {}
      },
      "source": [
        ""
      ],
      "execution_count": 0,
      "outputs": []
    }
  ]
}